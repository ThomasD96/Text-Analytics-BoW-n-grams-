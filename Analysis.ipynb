{
 "cells": [
  {
   "cell_type": "code",
   "execution_count": 260,
   "metadata": {},
   "outputs": [],
   "source": [
    "import pandas as pd\n",
    "import numpy as np\n",
    "import matplotlib.pyplot as plt\n",
    "import seaborn as sns\n",
    "from string import punctuation\n",
    "sns.set(rc={'figure.figsize':(11.7,8.27)})\n",
    "\n",
    "import warnings\n",
    "warnings.simplefilter(action='ignore', category=RuntimeWarning)"
   ]
  },
  {
   "cell_type": "code",
   "execution_count": 261,
   "metadata": {},
   "outputs": [
    {
     "data": {
      "text/html": [
       "<div>\n",
       "<style scoped>\n",
       "    .dataframe tbody tr th:only-of-type {\n",
       "        vertical-align: middle;\n",
       "    }\n",
       "\n",
       "    .dataframe tbody tr th {\n",
       "        vertical-align: top;\n",
       "    }\n",
       "\n",
       "    .dataframe thead th {\n",
       "        text-align: right;\n",
       "    }\n",
       "</style>\n",
       "<table border=\"1\" class=\"dataframe\">\n",
       "  <thead>\n",
       "    <tr style=\"text-align: right;\">\n",
       "      <th></th>\n",
       "      <th>Review #</th>\n",
       "      <th>Brand</th>\n",
       "      <th>Variety</th>\n",
       "      <th>Style</th>\n",
       "      <th>Country</th>\n",
       "      <th>Stars</th>\n",
       "      <th>Top Ten</th>\n",
       "    </tr>\n",
       "  </thead>\n",
       "  <tbody>\n",
       "    <tr>\n",
       "      <th>0</th>\n",
       "      <td>2580</td>\n",
       "      <td>New Touch</td>\n",
       "      <td>T's Restaurant Tantanmen</td>\n",
       "      <td>Cup</td>\n",
       "      <td>Japan</td>\n",
       "      <td>3.75</td>\n",
       "      <td>NaN</td>\n",
       "    </tr>\n",
       "    <tr>\n",
       "      <th>1</th>\n",
       "      <td>2579</td>\n",
       "      <td>Just Way</td>\n",
       "      <td>Noodles Spicy Hot Sesame Spicy Hot Sesame Guan...</td>\n",
       "      <td>Pack</td>\n",
       "      <td>Taiwan</td>\n",
       "      <td>1</td>\n",
       "      <td>NaN</td>\n",
       "    </tr>\n",
       "    <tr>\n",
       "      <th>2</th>\n",
       "      <td>2578</td>\n",
       "      <td>Nissin</td>\n",
       "      <td>Cup Noodles Chicken Vegetable</td>\n",
       "      <td>Cup</td>\n",
       "      <td>USA</td>\n",
       "      <td>2.25</td>\n",
       "      <td>NaN</td>\n",
       "    </tr>\n",
       "    <tr>\n",
       "      <th>3</th>\n",
       "      <td>2577</td>\n",
       "      <td>Wei Lih</td>\n",
       "      <td>GGE Ramen Snack Tomato Flavor</td>\n",
       "      <td>Pack</td>\n",
       "      <td>Taiwan</td>\n",
       "      <td>2.75</td>\n",
       "      <td>NaN</td>\n",
       "    </tr>\n",
       "    <tr>\n",
       "      <th>4</th>\n",
       "      <td>2576</td>\n",
       "      <td>Ching's Secret</td>\n",
       "      <td>Singapore Curry</td>\n",
       "      <td>Pack</td>\n",
       "      <td>India</td>\n",
       "      <td>3.75</td>\n",
       "      <td>NaN</td>\n",
       "    </tr>\n",
       "  </tbody>\n",
       "</table>\n",
       "</div>"
      ],
      "text/plain": [
       "   Review #           Brand  \\\n",
       "0      2580       New Touch   \n",
       "1      2579        Just Way   \n",
       "2      2578          Nissin   \n",
       "3      2577         Wei Lih   \n",
       "4      2576  Ching's Secret   \n",
       "\n",
       "                                             Variety Style Country Stars  \\\n",
       "0                          T's Restaurant Tantanmen    Cup   Japan  3.75   \n",
       "1  Noodles Spicy Hot Sesame Spicy Hot Sesame Guan...  Pack  Taiwan     1   \n",
       "2                      Cup Noodles Chicken Vegetable   Cup     USA  2.25   \n",
       "3                      GGE Ramen Snack Tomato Flavor  Pack  Taiwan  2.75   \n",
       "4                                    Singapore Curry  Pack   India  3.75   \n",
       "\n",
       "  Top Ten  \n",
       "0     NaN  \n",
       "1     NaN  \n",
       "2     NaN  \n",
       "3     NaN  \n",
       "4     NaN  "
      ]
     },
     "execution_count": 261,
     "metadata": {},
     "output_type": "execute_result"
    }
   ],
   "source": [
    "ratings = pd.read_csv('Data/ramen-ratings.csv')\n",
    "ratings.head()"
   ]
  },
  {
   "cell_type": "code",
   "execution_count": 262,
   "metadata": {},
   "outputs": [
    {
     "data": {
      "text/plain": [
       "(2580, 7)"
      ]
     },
     "execution_count": 262,
     "metadata": {},
     "output_type": "execute_result"
    }
   ],
   "source": [
    "ratings.shape"
   ]
  },
  {
   "cell_type": "code",
   "execution_count": 263,
   "metadata": {},
   "outputs": [
    {
     "data": {
      "text/plain": [
       "Pack    1531\n",
       "Bowl     481\n",
       "Cup      450\n",
       "Tray     108\n",
       "Box        6\n",
       "Can        1\n",
       "Bar        1\n",
       "Name: Style, dtype: int64"
      ]
     },
     "execution_count": 263,
     "metadata": {},
     "output_type": "execute_result"
    }
   ],
   "source": [
    "ratings['Style'].value_counts()"
   ]
  },
  {
   "cell_type": "markdown",
   "metadata": {},
   "source": [
    "# Preprocessing"
   ]
  },
  {
   "cell_type": "markdown",
   "metadata": {},
   "source": [
    "Convert text to lower string and cast stars as a float "
   ]
  },
  {
   "cell_type": "code",
   "execution_count": 264,
   "metadata": {},
   "outputs": [
    {
     "data": {
      "text/plain": [
       "array(['0', '0.1', '0.25', '0.5', '0.75', '0.9', '1', '1.1', '1.25',\n",
       "       '1.5', '1.75', '1.8', '2', '2.1', '2.125', '2.25', '2.3', '2.5',\n",
       "       '2.75', '2.8', '2.85', '2.9', '3', '3.0', '3.00', '3.1', '3.125',\n",
       "       '3.2', '3.25', '3.3', '3.4', '3.5', '3.50', '3.6', '3.65', '3.7',\n",
       "       '3.75', '3.8', '4', '4.0', '4.00', '4.125', '4.25', '4.3', '4.5',\n",
       "       '4.50', '4.75', '5', '5.0', '5.00', 'Unrated'], dtype=object)"
      ]
     },
     "execution_count": 264,
     "metadata": {},
     "output_type": "execute_result"
    }
   ],
   "source": [
    "np.unique(ratings['Stars'])"
   ]
  },
  {
   "cell_type": "code",
   "execution_count": 265,
   "metadata": {},
   "outputs": [
    {
     "data": {
      "text/html": [
       "<div>\n",
       "<style scoped>\n",
       "    .dataframe tbody tr th:only-of-type {\n",
       "        vertical-align: middle;\n",
       "    }\n",
       "\n",
       "    .dataframe tbody tr th {\n",
       "        vertical-align: top;\n",
       "    }\n",
       "\n",
       "    .dataframe thead th {\n",
       "        text-align: right;\n",
       "    }\n",
       "</style>\n",
       "<table border=\"1\" class=\"dataframe\">\n",
       "  <thead>\n",
       "    <tr style=\"text-align: right;\">\n",
       "      <th></th>\n",
       "      <th>Review #</th>\n",
       "      <th>Brand</th>\n",
       "      <th>Variety</th>\n",
       "      <th>Style</th>\n",
       "      <th>Country</th>\n",
       "      <th>Stars</th>\n",
       "      <th>Top Ten</th>\n",
       "    </tr>\n",
       "  </thead>\n",
       "  <tbody>\n",
       "    <tr>\n",
       "      <th>0</th>\n",
       "      <td>2580</td>\n",
       "      <td>new touch</td>\n",
       "      <td>t's restaurant tantanmen</td>\n",
       "      <td>Cup</td>\n",
       "      <td>Japan</td>\n",
       "      <td>3.75</td>\n",
       "      <td>NaN</td>\n",
       "    </tr>\n",
       "    <tr>\n",
       "      <th>1</th>\n",
       "      <td>2579</td>\n",
       "      <td>just way</td>\n",
       "      <td>noodles spicy hot sesame spicy hot sesame guan...</td>\n",
       "      <td>Pack</td>\n",
       "      <td>Taiwan</td>\n",
       "      <td>1.00</td>\n",
       "      <td>NaN</td>\n",
       "    </tr>\n",
       "    <tr>\n",
       "      <th>2</th>\n",
       "      <td>2578</td>\n",
       "      <td>nissin</td>\n",
       "      <td>cup noodles chicken vegetable</td>\n",
       "      <td>Cup</td>\n",
       "      <td>USA</td>\n",
       "      <td>2.25</td>\n",
       "      <td>NaN</td>\n",
       "    </tr>\n",
       "    <tr>\n",
       "      <th>3</th>\n",
       "      <td>2577</td>\n",
       "      <td>wei lih</td>\n",
       "      <td>gge ramen snack tomato flavor</td>\n",
       "      <td>Pack</td>\n",
       "      <td>Taiwan</td>\n",
       "      <td>2.75</td>\n",
       "      <td>NaN</td>\n",
       "    </tr>\n",
       "    <tr>\n",
       "      <th>4</th>\n",
       "      <td>2576</td>\n",
       "      <td>ching's secret</td>\n",
       "      <td>singapore curry</td>\n",
       "      <td>Pack</td>\n",
       "      <td>India</td>\n",
       "      <td>3.75</td>\n",
       "      <td>NaN</td>\n",
       "    </tr>\n",
       "  </tbody>\n",
       "</table>\n",
       "</div>"
      ],
      "text/plain": [
       "   Review #           Brand  \\\n",
       "0      2580       new touch   \n",
       "1      2579        just way   \n",
       "2      2578          nissin   \n",
       "3      2577         wei lih   \n",
       "4      2576  ching's secret   \n",
       "\n",
       "                                             Variety Style Country  Stars  \\\n",
       "0                          t's restaurant tantanmen    Cup   Japan   3.75   \n",
       "1  noodles spicy hot sesame spicy hot sesame guan...  Pack  Taiwan   1.00   \n",
       "2                      cup noodles chicken vegetable   Cup     USA   2.25   \n",
       "3                      gge ramen snack tomato flavor  Pack  Taiwan   2.75   \n",
       "4                                    singapore curry  Pack   India   3.75   \n",
       "\n",
       "  Top Ten  \n",
       "0     NaN  \n",
       "1     NaN  \n",
       "2     NaN  \n",
       "3     NaN  \n",
       "4     NaN  "
      ]
     },
     "execution_count": 265,
     "metadata": {},
     "output_type": "execute_result"
    }
   ],
   "source": [
    "unrated_idx = ratings[ratings['Stars'] == 'Unrated'].index\n",
    "\n",
    "ratings = ratings.drop(unrated_idx)\n",
    "\n",
    "ratings['Brand'] = ratings['Brand'].str.lower() \n",
    "ratings['Variety'] = ratings['Variety'].str.lower()\n",
    "ratings['Stars'] = ratings['Stars'].astype('float')\n",
    "ratings.head()"
   ]
  },
  {
   "cell_type": "markdown",
   "metadata": {},
   "source": [
    "Derive Tokenized words, bigrams and trigrams from variety"
   ]
  },
  {
   "cell_type": "markdown",
   "metadata": {},
   "source": [
    "## Exploratory Data Analysis"
   ]
  },
  {
   "cell_type": "code",
   "execution_count": 266,
   "metadata": {},
   "outputs": [],
   "source": [
    "from sklearn.feature_extraction.text import CountVectorizer\n",
    "\n",
    "def get_top_n_gram(corpus, ngram, stop_words=None):\n",
    "    \"\"\"\n",
    "    Generates a bag of words as list of tuples for a corpora of words\n",
    "    :param corpus: list of words to apply bag of words\n",
    "    :param ngram: int the ngram to be returned\n",
    "    :param stop_words: list of stop words to remove from bag of words\n",
    "    :return: Bag of words as a list of tuples sorted in descending order of frequency\n",
    "    \"\"\"\n",
    "    vec = CountVectorizer(stop_words=stop_words, ngram_range=(ngram, ngram)).fit(corpus)\n",
    "    bag_of_words = vec.transform(corpus)\n",
    "    sum_words = bag_of_words.sum(axis=0)\n",
    "    words_freq = [(word, sum_words[0, idx]) for word, idx in vec.vocabulary_.items()]\n",
    "    words_freq = sorted(words_freq, key=lambda x: x[1], reverse=True)\n",
    "    return words_freq\n"
   ]
  },
  {
   "cell_type": "code",
   "execution_count": 267,
   "metadata": {},
   "outputs": [],
   "source": [
    "from nltk.corpus import stopwords\n",
    "stop_words = stopwords.words('english')\n",
    "punct_list = list(punctuation)\n",
    "stop_words += stop_words + punct_list\n",
    "ramen_common_words = ['noodle', 'noodles', 'ramen', 'instant', 'flavour', 'flavor', 'cup', 'sauce', 'flavouring', 'taste', 'chef', 'authentic', 'version']\n",
    "ramen_stop_words = stop_words + ramen_common_words  + punct_list"
   ]
  },
  {
   "cell_type": "code",
   "execution_count": 268,
   "metadata": {},
   "outputs": [
    {
     "data": {
      "text/plain": [
       "[('noodles', 674), ('noodle', 518), ('instant', 446), ('flavour', 406)]"
      ]
     },
     "execution_count": 268,
     "metadata": {},
     "output_type": "execute_result"
    }
   ],
   "source": [
    "common_n_gram = get_top_n_gram(ratings['Variety'],ngram = 1, stop_words=stop_words)\n",
    "common_n_gram[:4]"
   ]
  },
  {
   "cell_type": "code",
   "execution_count": 269,
   "metadata": {},
   "outputs": [
    {
     "data": {
      "text/plain": [
       "[('chicken', 329), ('spicy', 277), ('beef', 233), ('soup', 196)]"
      ]
     },
     "execution_count": 269,
     "metadata": {},
     "output_type": "execute_result"
    }
   ],
   "source": [
    "common_n_gram = get_top_n_gram(ratings['Variety'],ngram = 1, stop_words=ramen_stop_words)\n",
    "common_n_gram[:4]"
   ]
  },
  {
   "cell_type": "code",
   "execution_count": 164,
   "metadata": {},
   "outputs": [],
   "source": [
    "\n",
    "def box_plot(df):\n",
    "    \"\"\"\n",
    "    Returns a Seaborn boxplot \n",
    "    :param df: Pandas Dataframe\n",
    "    :return: Seaborn Boxplot\n",
    "    \"\"\"\n",
    "    return sns.boxplot(df['Stars'])\n",
    "\n",
    "def get_df_words(words, dataframe, column='Variety'):\n",
    "    \"\"\"\n",
    "    This function takes a string of words as an input and generates a df from our input dataframe only\n",
    "    if the column contains the word\n",
    "    :param words: A string of words to be matched\n",
    "    :param dataframe: A pandas DataFrame\n",
    "    :param column: The column to match words on , defaulted to Variety\n",
    "    :return: Pandas Dataframe\n",
    "    \"\"\"\n",
    "    assert type(words) is str\n",
    "    df = dataframe[dataframe[column].str.contains(words, regex=True)]\n",
    "\n",
    "    return df\n",
    "\n",
    "def generate_mean_median(dataframe, target_var = 'Stars'):\n",
    "    \"\"\"\n",
    "    Generates the mean and median value of a target variable for a dataframe\n",
    "    :param dataframe: Pandas DataFrame\n",
    "    :param target_var: Column Value of Dataframe\n",
    "    :return: mean, median value\n",
    "    \"\"\"\n",
    "    mean = np.mean(dataframe[target_var])\n",
    "    median = np.median(dataframe[target_var])\n",
    "\n",
    "    return mean, median\n",
    "\n",
    "def generate_stats_df(idx, df, freq, mean, median, word):\n",
    "    \"\"\"\n",
    "    Loops through indicies to create a basic stats dataframe with mean, median, frequency of word\n",
    "    :param idx: int Index of dataframe\n",
    "    :param df: Pandas Dataframe\n",
    "    :param freq: int Frequency of word\n",
    "    :param mean: float Mean rating of word\n",
    "    :param median: float Median Rating of word\n",
    "    :param word: string Bag of Word\n",
    "    :return: Pandas Dataframe with Word, Frequence, Mean and Median Rating\n",
    "    \"\"\"\n",
    "    df.loc[idx, 'Word'] = word\n",
    "    df.loc[idx, 'Frequency'] = freq\n",
    "    df.loc[idx, 'Mean Rating'] = mean\n",
    "    df.loc[idx, 'Median Rating'] = median\n",
    "    return df\n",
    "\n",
    "def n_gram_df(df, ngram, column='Variety', stopwords=ramen_stop_words):\n",
    "    \"\"\"\n",
    "    generates a pandas dataframe with bag of words and additional statistics for ngrams\n",
    "    :param df: Pandas Dataframe to generate ngram df from\n",
    "    :param ngram: int, number of grams\n",
    "    :param column: Target Column that contains text for bag of words\n",
    "    :param stopwords: list of stopwords, defaulted to ramen_stop_words\n",
    "    :return: pandas dataframe\n",
    "    \"\"\"\n",
    "    common_n_gram = get_top_n_gram(df[column] ,ngram = ngram, stop_words=stopwords)\n",
    "    n_gram_df = pd.DataFrame()\n",
    "    idx = 0\n",
    "    for word, freq in common_n_gram:\n",
    "        stats = get_df_words(str(word), ratings)\n",
    "        mean, median = generate_mean_median(stats)\n",
    "        generate_stats_df(idx, n_gram_df, freq, mean, median, word)\n",
    "        idx += 1\n",
    "    return n_gram_df\n",
    "\n",
    "def remove_words_from_df(source, target, thresh):\n",
    "    \"\"\"\n",
    "    Drops word from target dataframe that also exist in the source dataframe if the \n",
    "    source's frequency percentage in the target is greater than or equal to a threshold \n",
    "    :param source: List of source dataframes\n",
    "    :param target: Pandas DataFrame\n",
    "    :param thresh: Float value of threshold to \n",
    "    :return: Target dataframe with recurring words removed\n",
    "    \"\"\"\n",
    "    words_to_drop = []\n",
    "    for idx in target.index:\n",
    "        word = target.loc[idx, 'Word']\n",
    "        freq = target.loc[idx, 'Frequency']\n",
    "        for source_df in source:\n",
    "            source_df_word = source_df[source_df.Word.str.contains(word)]\n",
    "            for source_idx in source_df_word.index:\n",
    "                if source_df_word.loc[source_idx, 'Frequency' ] /freq >= thresh:\n",
    "                    words_to_drop.append(word)\n",
    "    target = target[~target['Word'].isin(words_to_drop)]\n",
    "    return target\n"
   ]
  },
  {
   "cell_type": "code",
   "execution_count": 232,
   "metadata": {},
   "outputs": [],
   "source": [
    "brand_group = ratings[['Brand','Variety','Stars']].groupby('Brand', as_index = False)\\\n",
    ".agg({'Variety':'size', 'Stars':'median'})\n",
    "#.sort_values(by=['Variety', 'Stars'],ascending=False).head(20)\n",
    "    \n",
    "brand_group.columns = ['Brand', 'Count', 'Median Rating']\n",
    "more_than_2 = brand_group[brand_group.Count > 2]\n",
    "more_than_2 = more_than_2.sort_values(by=['Count'],ascending=False).head(15)\n",
    "\n",
    "one_hit_wonders = brand_group[brand_group.Count <= 2]\n",
    "one_hit_wonders = one_hit_wonders.sort_values(by=['Median Rating'], ascending=False).head(15)\n",
    "\n"
   ]
  },
  {
   "cell_type": "code",
   "execution_count": 185,
   "metadata": {},
   "outputs": [],
   "source": [
    "def count_avg_plot(df, X, Y, title,  Z=None):\n",
    "    \"\"\"\n",
    "    Generates a plot based of an X and Y and an optional Z axis from a pandas dataframe\n",
    "    :param df: Pandas Dataframe holding X, Y and Z\n",
    "    :param X: Pandas Series to be plotted on X axis\n",
    "    :param Y: Pandas Series to be plotted on Y axis\n",
    "    :param title: String, title of graph\n",
    "    :param Z: Pandas Series to be plotted on Z axis\n",
    "    :return: Matplotlib Plot\n",
    "    \"\"\"\n",
    "    ax = df.plot(x=X, y=Y, legend=False, kind='bar', figsize=(15,8), fontsize = 15, title=title, rot = 75)\n",
    "    ax.grid(False)\n",
    "    ax.set_ylabel(Y)\n",
    "    ax.title.set_size(20)\n",
    "    if Z:\n",
    "        ax2 = ax.twinx()\n",
    "        ax2.set_ylabel(Z)\n",
    "        df.plot(x=X, y=Z, ax=ax2, legend=False, color=\"r\", fontsize=15).grid(False)\n",
    "    ax.figure.legend(loc=4)\n",
    "    #ax.xticks(fontsize=14)\n",
    "    plt.show()"
   ]
  },
  {
   "cell_type": "code",
   "execution_count": 233,
   "metadata": {},
   "outputs": [
    {
     "data": {
      "image/png": "[encoded data removed]",
      "text/plain": [
       "<Figure size 1080x576 with 2 Axes>"
      ]
     },
     "metadata": {},
     "output_type": "display_data"
    }
   ],
   "source": [
    "count_avg_plot(more_than_2, \"Brand\", \"Count\", \"Brand Count and Median Rating\",\"Median Rating\")"
   ]
  },
  {
   "cell_type": "code",
   "execution_count": 235,
   "metadata": {
    "scrolled": true
   },
   "outputs": [],
   "source": [
    "top_ten = ratings[~ratings['Top Ten'].isnull()]\n",
    "top_ten_brands = top_ten[['Brand', 'Variety', 'Stars']].groupby('Brand', as_index = False)\\\n",
    ".agg({'Variety':'size', 'Stars':'median'})\n",
    "\n",
    "top_ten_brands\n",
    "top_ten_brands.columns = ['Brand', 'Count', 'Median Rating']\n",
    "top_ten_brands = top_ten_brands.sort_values(by=['Count'], ascending=False).head(15)\n"
   ]
  },
  {
   "cell_type": "code",
   "execution_count": 237,
   "metadata": {},
   "outputs": [
    {
     "data": {
      "image/png": "[encoded data removed]",
      "text/plain": [
       "<Figure size 1080x576 with 2 Axes>"
      ]
     },
     "metadata": {},
     "output_type": "display_data"
    }
   ],
   "source": [
    "count_avg_plot(top_ten_brands, 'Brand', 'Count', 'Brands Featured in Top Ten','Median Rating')"
   ]
  },
  {
   "cell_type": "code",
   "execution_count": 199,
   "metadata": {},
   "outputs": [],
   "source": [
    "def generate_concatenated_word_df(df, threshhold=None):\n",
    "    \"\"\"\n",
    "    Generates a unigram, bigram and trigram dataframe.\n",
    "    Removes common words from the unigram and bigram dataframe based \n",
    "    on a threshold and concatenates the three dataframes \n",
    "    :param df: Input Pandas Dataframe\n",
    "    :param threshhold: float threshold \n",
    "    :return: Concatenated pandas dataframe\n",
    "    \"\"\"\n",
    "    uni = n_gram_df(df, 1)\n",
    "    bi = n_gram_df(df, 2)\n",
    "    tri = n_gram_df(df, 3)\n",
    "    uni = remove_words_from_df([bi, tri], uni, threshhold)\n",
    "    bi = remove_words_from_df([tri], bi, threshhold)\n",
    "    return pd.concat([uni, bi, tri])"
   ]
  },
  {
   "cell_type": "code",
   "execution_count": 197,
   "metadata": {},
   "outputs": [
    {
     "data": {
      "text/html": [
       "<div>\n",
       "<style scoped>\n",
       "    .dataframe tbody tr th:only-of-type {\n",
       "        vertical-align: middle;\n",
       "    }\n",
       "\n",
       "    .dataframe tbody tr th {\n",
       "        vertical-align: top;\n",
       "    }\n",
       "\n",
       "    .dataframe thead th {\n",
       "        text-align: right;\n",
       "    }\n",
       "</style>\n",
       "<table border=\"1\" class=\"dataframe\">\n",
       "  <thead>\n",
       "    <tr style=\"text-align: right;\">\n",
       "      <th></th>\n",
       "      <th>Word</th>\n",
       "      <th>Frequency</th>\n",
       "      <th>Mean Rating</th>\n",
       "      <th>Median Rating</th>\n",
       "    </tr>\n",
       "  </thead>\n",
       "  <tbody>\n",
       "    <tr>\n",
       "      <th>0</th>\n",
       "      <td>tom</td>\n",
       "      <td>65.0</td>\n",
       "      <td>3.736607</td>\n",
       "      <td>3.75</td>\n",
       "    </tr>\n",
       "    <tr>\n",
       "      <th>1</th>\n",
       "      <td>yum</td>\n",
       "      <td>54.0</td>\n",
       "      <td>3.805495</td>\n",
       "      <td>3.75</td>\n",
       "    </tr>\n",
       "    <tr>\n",
       "      <th>0</th>\n",
       "      <td>tom yum</td>\n",
       "      <td>54.0</td>\n",
       "      <td>3.822414</td>\n",
       "      <td>3.75</td>\n",
       "    </tr>\n",
       "    <tr>\n",
       "      <th>2</th>\n",
       "      <td>shrimp</td>\n",
       "      <td>34.0</td>\n",
       "      <td>3.533333</td>\n",
       "      <td>3.50</td>\n",
       "    </tr>\n",
       "    <tr>\n",
       "      <th>3</th>\n",
       "      <td>rice</td>\n",
       "      <td>28.0</td>\n",
       "      <td>3.390411</td>\n",
       "      <td>3.50</td>\n",
       "    </tr>\n",
       "  </tbody>\n",
       "</table>\n",
       "</div>"
      ],
      "text/plain": [
       "      Word  Frequency  Mean Rating  Median Rating\n",
       "0      tom       65.0     3.736607           3.75\n",
       "1      yum       54.0     3.805495           3.75\n",
       "0  tom yum       54.0     3.822414           3.75\n",
       "2   shrimp       34.0     3.533333           3.50\n",
       "3     rice       28.0     3.390411           3.50"
      ]
     },
     "execution_count": 197,
     "metadata": {},
     "output_type": "execute_result"
    }
   ],
   "source": [
    "thailand = generate_concatenated_word_df(ratings[ratings.Country.isin(['Thailand'])]).sort_values(by=['Frequency'], ascending= False)\n",
    "\n",
    "thailand.head()"
   ]
  },
  {
   "cell_type": "code",
   "execution_count": 202,
   "metadata": {},
   "outputs": [],
   "source": []
  },
  {
   "cell_type": "code",
   "execution_count": 222,
   "metadata": {},
   "outputs": [
    {
     "name": "stdout",
     "output_type": "stream",
     "text": [
      "These are the most popular ramen styles/flavours by country!\n",
      "Australia : chicken, mi goreng, beef\n",
      "Bangladesh : oriental style, mr curry, mr beef\n",
      "Brazil : sabor calabresa, sabor galinha caipira, lamen sabor picanha\n",
      "Cambodia : shrimp tom yum, minced pork, stewed beef\n",
      "Canada : chicken, soup, beef\n",
      "China : beef, artificial, spicy\n",
      "Colombia : sabor, sabor carne sopa, sopa con fideos\n",
      "Finland : nuudeli, nuudeli kana nudlar, kana nudlar kyckling\n",
      "Germany : soba, demae, beef\n",
      "Ghana : beef light soup\n",
      "Holland : good, sate, good chicken\n",
      "Hong Kong : soup, seafood, spicy\n",
      "Hungary : shrimp, chicken, duck\n",
      "India : masala, minute, curry\n",
      "Indonesia : rasa, mi goreng, chicken\n",
      "Japan : udon, shoyu, tonkotsu\n",
      "Malaysia : penang white curry, perisa, kari\n",
      "Mexico : sabor, sopa nissin sabor, sabor pollo\n",
      "Myanmar : rangers snack, coconut milk, shrimp tom yum\n",
      "Nepal : chicken, vegetable, rumpum\n",
      "Netherlands : oriental, island flavours, soup\n",
      "Pakistan : shoop, pizza, chatt patta\n",
      "Philippines : chicken, supreme, pancit canton\n",
      "Poland : ogorkowa, zurek, barszcz czerwony borscht\n",
      "Sarawak : sarawak white laksa, sibu kampua original, kampua dark soy\n",
      "Singapore : spicy, chicken, curry\n",
      "South Korea : ramyun, spicy, seafood\n",
      "Sweden : spicy chili, asia fast snabbnudlar, fast snabbnudlar räksmak\n",
      "Taiwan : spicy, artificial, sesame\n",
      "Thailand : tom yum, rice, pork\n",
      "UK : chicken, super, curry\n",
      "USA : chicken, soup, spicy\n",
      "United States : rice fettucini alfredo\n",
      "Vietnam : chicken, mi, shrimp\n"
     ]
    }
   ],
   "source": [
    "countries = np.unique(ratings.Country)\n",
    "len(countries)\n",
    "word_country_df = pd.DataFrame()\n",
    "threshold = 0.4\n",
    "print('These are the most popular ramen styles/flavours by country!')\n",
    "i = 0\n",
    "for country in countries:\n",
    "    \n",
    "    try:\n",
    "        country_df = ratings[ratings.Country.isin([country])]\n",
    "        top_word_df = generate_concatenated_word_df(country_df, threshold) \\\n",
    "        .sort_values(by=['Frequency'], ascending= False)\n",
    "        top_word = top_word_df['Word'].head(3).values\n",
    "        median_rating = top_word_df['Median Rating'].head(1).values\n",
    "        words_str = ', '.join(word for word in top_word)\n",
    "        print(country,':', words_str)\n",
    "        word_country_df.loc[i, 'Country'] = country\n",
    "        word_country_df.loc[i,'Main Theme'] = top_word[0]\n",
    "        word_country_df.loc[i, 'Main Theme Rating'] = median_rating\n",
    "        word_country_df.loc[i,'Top 3 Themes'] = str(words_str)\n",
    "        i += 1\n",
    "        #word_country_dict[country] = top_word[0]\n",
    "    except:\n",
    "        pass"
   ]
  },
  {
   "cell_type": "code",
   "execution_count": 223,
   "metadata": {},
   "outputs": [],
   "source": [
    "import pycountry\n",
    "def generate_iso_alpha_list(dataframe, country_col):\n",
    "    \"\"\"\n",
    "    Appends as 'ISO' column, which contains the alpha3 country code \n",
    "    to a pandas dataframe by utilizing the pycountry countries API\n",
    "    :param dataframe: Pandas Dataframe \n",
    "    :param country_col: string Column that contains the country name\n",
    "    :return: Pandas Dataframe with appended ISO column\n",
    "    \"\"\"\n",
    "    for idx in dataframe.index:\n",
    "        country = dataframe.loc[idx, country_col]\n",
    "        try:\n",
    "            iso = pycountry.countries.get(name=country).alpha_3\n",
    "            dataframe.loc[idx, 'ISO'] = iso\n",
    "        except Exception as e:\n",
    "            try:\n",
    "                iso = pycountry.countries.get(common_name=country).alpha_3\n",
    "                dataframe.loc[idx, 'ISO'] = iso\n",
    "            except Exception as e:\n",
    "                print(country, e)\n",
    "                pass\n",
    "    return dataframe"
   ]
  },
  {
   "cell_type": "code",
   "execution_count": 224,
   "metadata": {},
   "outputs": [],
   "source": [
    "word_country_df['Country']\\\n",
    ".replace({\"USA\": \"United States\", \"UK\": \"United Kingdom\", \"South Korea\":\"Korea, Republic of\", \"Holland\": \"Netherlands\"}, inplace=True)"
   ]
  },
  {
   "cell_type": "code",
   "execution_count": 256,
   "metadata": {},
   "outputs": [],
   "source": [
    "word_country_df = word_country_df[~word_country_df.ISO.isnull()]"
   ]
  },
  {
   "cell_type": "code",
   "execution_count": 271,
   "metadata": {},
   "outputs": [
    {
     "data": {
      "text/html": [
       "<div>\n",
       "<style scoped>\n",
       "    .dataframe tbody tr th:only-of-type {\n",
       "        vertical-align: middle;\n",
       "    }\n",
       "\n",
       "    .dataframe tbody tr th {\n",
       "        vertical-align: top;\n",
       "    }\n",
       "\n",
       "    .dataframe thead th {\n",
       "        text-align: right;\n",
       "    }\n",
       "</style>\n",
       "<table border=\"1\" class=\"dataframe\">\n",
       "  <thead>\n",
       "    <tr style=\"text-align: right;\">\n",
       "      <th></th>\n",
       "      <th>Country</th>\n",
       "      <th>Main Theme</th>\n",
       "      <th>Main Theme Rating</th>\n",
       "      <th>Top 3 Themes</th>\n",
       "      <th>ISO</th>\n",
       "    </tr>\n",
       "  </thead>\n",
       "  <tbody>\n",
       "    <tr>\n",
       "      <th>0</th>\n",
       "      <td>Australia</td>\n",
       "      <td>chicken</td>\n",
       "      <td>3.500</td>\n",
       "      <td>chicken, mi goreng, beef</td>\n",
       "      <td>AUS</td>\n",
       "    </tr>\n",
       "    <tr>\n",
       "      <th>1</th>\n",
       "      <td>Bangladesh</td>\n",
       "      <td>oriental style</td>\n",
       "      <td>3.250</td>\n",
       "      <td>oriental style, mr curry, mr beef</td>\n",
       "      <td>BGD</td>\n",
       "    </tr>\n",
       "    <tr>\n",
       "      <th>2</th>\n",
       "      <td>Brazil</td>\n",
       "      <td>sabor calabresa</td>\n",
       "      <td>4.250</td>\n",
       "      <td>sabor calabresa, sabor galinha caipira, lamen ...</td>\n",
       "      <td>BRA</td>\n",
       "    </tr>\n",
       "    <tr>\n",
       "      <th>3</th>\n",
       "      <td>Cambodia</td>\n",
       "      <td>shrimp tom yum</td>\n",
       "      <td>4.000</td>\n",
       "      <td>shrimp tom yum, minced pork, stewed beef</td>\n",
       "      <td>KHM</td>\n",
       "    </tr>\n",
       "    <tr>\n",
       "      <th>4</th>\n",
       "      <td>Canada</td>\n",
       "      <td>chicken</td>\n",
       "      <td>3.500</td>\n",
       "      <td>chicken, soup, beef</td>\n",
       "      <td>CAN</td>\n",
       "    </tr>\n",
       "    <tr>\n",
       "      <th>5</th>\n",
       "      <td>China</td>\n",
       "      <td>beef</td>\n",
       "      <td>3.500</td>\n",
       "      <td>beef, artificial, spicy</td>\n",
       "      <td>CHN</td>\n",
       "    </tr>\n",
       "    <tr>\n",
       "      <th>6</th>\n",
       "      <td>Colombia</td>\n",
       "      <td>sabor</td>\n",
       "      <td>4.000</td>\n",
       "      <td>sabor, sabor carne sopa, sopa con fideos</td>\n",
       "      <td>COL</td>\n",
       "    </tr>\n",
       "    <tr>\n",
       "      <th>7</th>\n",
       "      <td>Finland</td>\n",
       "      <td>nuudeli</td>\n",
       "      <td>3.500</td>\n",
       "      <td>nuudeli, nuudeli kana nudlar, kana nudlar kyck...</td>\n",
       "      <td>FIN</td>\n",
       "    </tr>\n",
       "    <tr>\n",
       "      <th>8</th>\n",
       "      <td>Germany</td>\n",
       "      <td>soba</td>\n",
       "      <td>4.000</td>\n",
       "      <td>soba, demae, beef</td>\n",
       "      <td>DEU</td>\n",
       "    </tr>\n",
       "    <tr>\n",
       "      <th>9</th>\n",
       "      <td>Ghana</td>\n",
       "      <td>beef light soup</td>\n",
       "      <td>NaN</td>\n",
       "      <td>beef light soup</td>\n",
       "      <td>GHA</td>\n",
       "    </tr>\n",
       "    <tr>\n",
       "      <th>10</th>\n",
       "      <td>Netherlands</td>\n",
       "      <td>good</td>\n",
       "      <td>3.500</td>\n",
       "      <td>good, sate, good chicken</td>\n",
       "      <td>NLD</td>\n",
       "    </tr>\n",
       "    <tr>\n",
       "      <th>11</th>\n",
       "      <td>Hong Kong</td>\n",
       "      <td>soup</td>\n",
       "      <td>3.750</td>\n",
       "      <td>soup, seafood, spicy</td>\n",
       "      <td>HKG</td>\n",
       "    </tr>\n",
       "    <tr>\n",
       "      <th>12</th>\n",
       "      <td>Hungary</td>\n",
       "      <td>shrimp</td>\n",
       "      <td>3.500</td>\n",
       "      <td>shrimp, chicken, duck</td>\n",
       "      <td>HUN</td>\n",
       "    </tr>\n",
       "    <tr>\n",
       "      <th>13</th>\n",
       "      <td>India</td>\n",
       "      <td>masala</td>\n",
       "      <td>3.750</td>\n",
       "      <td>masala, minute, curry</td>\n",
       "      <td>IND</td>\n",
       "    </tr>\n",
       "    <tr>\n",
       "      <th>14</th>\n",
       "      <td>Indonesia</td>\n",
       "      <td>rasa</td>\n",
       "      <td>3.875</td>\n",
       "      <td>rasa, mi goreng, chicken</td>\n",
       "      <td>IDN</td>\n",
       "    </tr>\n",
       "    <tr>\n",
       "      <th>15</th>\n",
       "      <td>Japan</td>\n",
       "      <td>udon</td>\n",
       "      <td>3.750</td>\n",
       "      <td>udon, shoyu, tonkotsu</td>\n",
       "      <td>JPN</td>\n",
       "    </tr>\n",
       "    <tr>\n",
       "      <th>16</th>\n",
       "      <td>Malaysia</td>\n",
       "      <td>penang white curry</td>\n",
       "      <td>5.000</td>\n",
       "      <td>penang white curry, perisa, kari</td>\n",
       "      <td>MYS</td>\n",
       "    </tr>\n",
       "    <tr>\n",
       "      <th>17</th>\n",
       "      <td>Mexico</td>\n",
       "      <td>sabor</td>\n",
       "      <td>4.000</td>\n",
       "      <td>sabor, sopa nissin sabor, sabor pollo</td>\n",
       "      <td>MEX</td>\n",
       "    </tr>\n",
       "    <tr>\n",
       "      <th>18</th>\n",
       "      <td>Myanmar</td>\n",
       "      <td>rangers snack</td>\n",
       "      <td>3.250</td>\n",
       "      <td>rangers snack, coconut milk, shrimp tom yum</td>\n",
       "      <td>MMR</td>\n",
       "    </tr>\n",
       "    <tr>\n",
       "      <th>19</th>\n",
       "      <td>Nepal</td>\n",
       "      <td>chicken</td>\n",
       "      <td>3.500</td>\n",
       "      <td>chicken, vegetable, rumpum</td>\n",
       "      <td>NPL</td>\n",
       "    </tr>\n",
       "    <tr>\n",
       "      <th>20</th>\n",
       "      <td>Netherlands</td>\n",
       "      <td>oriental</td>\n",
       "      <td>3.250</td>\n",
       "      <td>oriental, island flavours, soup</td>\n",
       "      <td>NLD</td>\n",
       "    </tr>\n",
       "    <tr>\n",
       "      <th>21</th>\n",
       "      <td>Pakistan</td>\n",
       "      <td>shoop</td>\n",
       "      <td>3.250</td>\n",
       "      <td>shoop, pizza, chatt patta</td>\n",
       "      <td>PAK</td>\n",
       "    </tr>\n",
       "    <tr>\n",
       "      <th>22</th>\n",
       "      <td>Philippines</td>\n",
       "      <td>chicken</td>\n",
       "      <td>3.500</td>\n",
       "      <td>chicken, supreme, pancit canton</td>\n",
       "      <td>PHL</td>\n",
       "    </tr>\n",
       "    <tr>\n",
       "      <th>23</th>\n",
       "      <td>Poland</td>\n",
       "      <td>ogorkowa</td>\n",
       "      <td>3.250</td>\n",
       "      <td>ogorkowa, zurek, barszcz czerwony borscht</td>\n",
       "      <td>POL</td>\n",
       "    </tr>\n",
       "    <tr>\n",
       "      <th>25</th>\n",
       "      <td>Singapore</td>\n",
       "      <td>spicy</td>\n",
       "      <td>3.750</td>\n",
       "      <td>spicy, chicken, curry</td>\n",
       "      <td>SGP</td>\n",
       "    </tr>\n",
       "    <tr>\n",
       "      <th>26</th>\n",
       "      <td>Korea, Republic of</td>\n",
       "      <td>ramyun</td>\n",
       "      <td>4.000</td>\n",
       "      <td>ramyun, spicy, seafood</td>\n",
       "      <td>KOR</td>\n",
       "    </tr>\n",
       "    <tr>\n",
       "      <th>27</th>\n",
       "      <td>Sweden</td>\n",
       "      <td>spicy chili</td>\n",
       "      <td>2.750</td>\n",
       "      <td>spicy chili, asia fast snabbnudlar, fast snabb...</td>\n",
       "      <td>SWE</td>\n",
       "    </tr>\n",
       "    <tr>\n",
       "      <th>28</th>\n",
       "      <td>Taiwan</td>\n",
       "      <td>spicy</td>\n",
       "      <td>3.750</td>\n",
       "      <td>spicy, artificial, sesame</td>\n",
       "      <td>TWN</td>\n",
       "    </tr>\n",
       "    <tr>\n",
       "      <th>29</th>\n",
       "      <td>Thailand</td>\n",
       "      <td>tom yum</td>\n",
       "      <td>3.750</td>\n",
       "      <td>tom yum, rice, pork</td>\n",
       "      <td>THA</td>\n",
       "    </tr>\n",
       "    <tr>\n",
       "      <th>30</th>\n",
       "      <td>United Kingdom</td>\n",
       "      <td>chicken</td>\n",
       "      <td>3.500</td>\n",
       "      <td>chicken, super, curry</td>\n",
       "      <td>GBR</td>\n",
       "    </tr>\n",
       "    <tr>\n",
       "      <th>31</th>\n",
       "      <td>United States</td>\n",
       "      <td>chicken</td>\n",
       "      <td>3.500</td>\n",
       "      <td>chicken, soup, spicy</td>\n",
       "      <td>USA</td>\n",
       "    </tr>\n",
       "    <tr>\n",
       "      <th>33</th>\n",
       "      <td>Vietnam</td>\n",
       "      <td>chicken</td>\n",
       "      <td>3.500</td>\n",
       "      <td>chicken, mi, shrimp</td>\n",
       "      <td>VNM</td>\n",
       "    </tr>\n",
       "  </tbody>\n",
       "</table>\n",
       "</div>"
      ],
      "text/plain": [
       "               Country          Main Theme  Main Theme Rating  \\\n",
       "0            Australia             chicken              3.500   \n",
       "1           Bangladesh      oriental style              3.250   \n",
       "2               Brazil     sabor calabresa              4.250   \n",
       "3             Cambodia      shrimp tom yum              4.000   \n",
       "4               Canada             chicken              3.500   \n",
       "5                China                beef              3.500   \n",
       "6             Colombia               sabor              4.000   \n",
       "7              Finland             nuudeli              3.500   \n",
       "8              Germany                soba              4.000   \n",
       "9                Ghana     beef light soup                NaN   \n",
       "10         Netherlands                good              3.500   \n",
       "11           Hong Kong                soup              3.750   \n",
       "12             Hungary              shrimp              3.500   \n",
       "13               India              masala              3.750   \n",
       "14           Indonesia                rasa              3.875   \n",
       "15               Japan                udon              3.750   \n",
       "16            Malaysia  penang white curry              5.000   \n",
       "17              Mexico               sabor              4.000   \n",
       "18             Myanmar       rangers snack              3.250   \n",
       "19               Nepal             chicken              3.500   \n",
       "20         Netherlands            oriental              3.250   \n",
       "21            Pakistan               shoop              3.250   \n",
       "22         Philippines             chicken              3.500   \n",
       "23              Poland            ogorkowa              3.250   \n",
       "25           Singapore               spicy              3.750   \n",
       "26  Korea, Republic of              ramyun              4.000   \n",
       "27              Sweden         spicy chili              2.750   \n",
       "28              Taiwan               spicy              3.750   \n",
       "29            Thailand             tom yum              3.750   \n",
       "30      United Kingdom             chicken              3.500   \n",
       "31       United States             chicken              3.500   \n",
       "33             Vietnam             chicken              3.500   \n",
       "\n",
       "                                         Top 3 Themes  ISO  \n",
       "0                            chicken, mi goreng, beef  AUS  \n",
       "1                   oriental style, mr curry, mr beef  BGD  \n",
       "2   sabor calabresa, sabor galinha caipira, lamen ...  BRA  \n",
       "3            shrimp tom yum, minced pork, stewed beef  KHM  \n",
       "4                                 chicken, soup, beef  CAN  \n",
       "5                             beef, artificial, spicy  CHN  \n",
       "6            sabor, sabor carne sopa, sopa con fideos  COL  \n",
       "7   nuudeli, nuudeli kana nudlar, kana nudlar kyck...  FIN  \n",
       "8                                   soba, demae, beef  DEU  \n",
       "9                                     beef light soup  GHA  \n",
       "10                           good, sate, good chicken  NLD  \n",
       "11                               soup, seafood, spicy  HKG  \n",
       "12                              shrimp, chicken, duck  HUN  \n",
       "13                              masala, minute, curry  IND  \n",
       "14                           rasa, mi goreng, chicken  IDN  \n",
       "15                              udon, shoyu, tonkotsu  JPN  \n",
       "16                   penang white curry, perisa, kari  MYS  \n",
       "17              sabor, sopa nissin sabor, sabor pollo  MEX  \n",
       "18        rangers snack, coconut milk, shrimp tom yum  MMR  \n",
       "19                         chicken, vegetable, rumpum  NPL  \n",
       "20                    oriental, island flavours, soup  NLD  \n",
       "21                          shoop, pizza, chatt patta  PAK  \n",
       "22                    chicken, supreme, pancit canton  PHL  \n",
       "23          ogorkowa, zurek, barszcz czerwony borscht  POL  \n",
       "25                              spicy, chicken, curry  SGP  \n",
       "26                             ramyun, spicy, seafood  KOR  \n",
       "27  spicy chili, asia fast snabbnudlar, fast snabb...  SWE  \n",
       "28                          spicy, artificial, sesame  TWN  \n",
       "29                                tom yum, rice, pork  THA  \n",
       "30                              chicken, super, curry  GBR  \n",
       "31                               chicken, soup, spicy  USA  \n",
       "33                                chicken, mi, shrimp  VNM  "
      ]
     },
     "execution_count": 271,
     "metadata": {},
     "output_type": "execute_result"
    }
   ],
   "source": [
    "word_country_df"
   ]
  },
  {
   "cell_type": "code",
   "execution_count": 257,
   "metadata": {},
   "outputs": [
    {
     "ename": "KeyError",
     "evalue": "'[32] not found in axis'",
     "output_type": "error",
     "traceback": [
      "\u001b[0;31m---------------------------------------------------------------------------\u001b[0m",
      "\u001b[0;31mKeyError\u001b[0m                                  Traceback (most recent call last)",
      "\u001b[0;32m<ipython-input-257-4c0027cd54b2>\u001b[0m in \u001b[0;36m<module>\u001b[0;34m\u001b[0m\n\u001b[0;32m----> 1\u001b[0;31m \u001b[0mword_country_df\u001b[0m \u001b[0;34m=\u001b[0m \u001b[0mword_country_df\u001b[0m\u001b[0;34m.\u001b[0m\u001b[0mdrop\u001b[0m\u001b[0;34m(\u001b[0m\u001b[0;34m[\u001b[0m\u001b[0;36m32\u001b[0m\u001b[0;34m]\u001b[0m\u001b[0;34m)\u001b[0m\u001b[0;34m\u001b[0m\u001b[0;34m\u001b[0m\u001b[0m\n\u001b[0m",
      "\u001b[0;32m/anaconda3/lib/python3.6/site-packages/pandas/core/frame.py\u001b[0m in \u001b[0;36mdrop\u001b[0;34m(self, labels, axis, index, columns, level, inplace, errors)\u001b[0m\n\u001b[1;32m   4115\u001b[0m             \u001b[0mlevel\u001b[0m\u001b[0;34m=\u001b[0m\u001b[0mlevel\u001b[0m\u001b[0;34m,\u001b[0m\u001b[0;34m\u001b[0m\u001b[0;34m\u001b[0m\u001b[0m\n\u001b[1;32m   4116\u001b[0m             \u001b[0minplace\u001b[0m\u001b[0;34m=\u001b[0m\u001b[0minplace\u001b[0m\u001b[0;34m,\u001b[0m\u001b[0;34m\u001b[0m\u001b[0;34m\u001b[0m\u001b[0m\n\u001b[0;32m-> 4117\u001b[0;31m             \u001b[0merrors\u001b[0m\u001b[0;34m=\u001b[0m\u001b[0merrors\u001b[0m\u001b[0;34m,\u001b[0m\u001b[0;34m\u001b[0m\u001b[0;34m\u001b[0m\u001b[0m\n\u001b[0m\u001b[1;32m   4118\u001b[0m         )\n\u001b[1;32m   4119\u001b[0m \u001b[0;34m\u001b[0m\u001b[0m\n",
      "\u001b[0;32m/anaconda3/lib/python3.6/site-packages/pandas/core/generic.py\u001b[0m in \u001b[0;36mdrop\u001b[0;34m(self, labels, axis, index, columns, level, inplace, errors)\u001b[0m\n\u001b[1;32m   3912\u001b[0m         \u001b[0;32mfor\u001b[0m \u001b[0maxis\u001b[0m\u001b[0;34m,\u001b[0m \u001b[0mlabels\u001b[0m \u001b[0;32min\u001b[0m \u001b[0maxes\u001b[0m\u001b[0;34m.\u001b[0m\u001b[0mitems\u001b[0m\u001b[0;34m(\u001b[0m\u001b[0;34m)\u001b[0m\u001b[0;34m:\u001b[0m\u001b[0;34m\u001b[0m\u001b[0;34m\u001b[0m\u001b[0m\n\u001b[1;32m   3913\u001b[0m             \u001b[0;32mif\u001b[0m \u001b[0mlabels\u001b[0m \u001b[0;32mis\u001b[0m \u001b[0;32mnot\u001b[0m \u001b[0;32mNone\u001b[0m\u001b[0;34m:\u001b[0m\u001b[0;34m\u001b[0m\u001b[0;34m\u001b[0m\u001b[0m\n\u001b[0;32m-> 3914\u001b[0;31m                 \u001b[0mobj\u001b[0m \u001b[0;34m=\u001b[0m \u001b[0mobj\u001b[0m\u001b[0;34m.\u001b[0m\u001b[0m_drop_axis\u001b[0m\u001b[0;34m(\u001b[0m\u001b[0mlabels\u001b[0m\u001b[0;34m,\u001b[0m \u001b[0maxis\u001b[0m\u001b[0;34m,\u001b[0m \u001b[0mlevel\u001b[0m\u001b[0;34m=\u001b[0m\u001b[0mlevel\u001b[0m\u001b[0;34m,\u001b[0m \u001b[0merrors\u001b[0m\u001b[0;34m=\u001b[0m\u001b[0merrors\u001b[0m\u001b[0;34m)\u001b[0m\u001b[0;34m\u001b[0m\u001b[0;34m\u001b[0m\u001b[0m\n\u001b[0m\u001b[1;32m   3915\u001b[0m \u001b[0;34m\u001b[0m\u001b[0m\n\u001b[1;32m   3916\u001b[0m         \u001b[0;32mif\u001b[0m \u001b[0minplace\u001b[0m\u001b[0;34m:\u001b[0m\u001b[0;34m\u001b[0m\u001b[0;34m\u001b[0m\u001b[0m\n",
      "\u001b[0;32m/anaconda3/lib/python3.6/site-packages/pandas/core/generic.py\u001b[0m in \u001b[0;36m_drop_axis\u001b[0;34m(self, labels, axis, level, errors)\u001b[0m\n\u001b[1;32m   3944\u001b[0m                 \u001b[0mnew_axis\u001b[0m \u001b[0;34m=\u001b[0m \u001b[0maxis\u001b[0m\u001b[0;34m.\u001b[0m\u001b[0mdrop\u001b[0m\u001b[0;34m(\u001b[0m\u001b[0mlabels\u001b[0m\u001b[0;34m,\u001b[0m \u001b[0mlevel\u001b[0m\u001b[0;34m=\u001b[0m\u001b[0mlevel\u001b[0m\u001b[0;34m,\u001b[0m \u001b[0merrors\u001b[0m\u001b[0;34m=\u001b[0m\u001b[0merrors\u001b[0m\u001b[0;34m)\u001b[0m\u001b[0;34m\u001b[0m\u001b[0;34m\u001b[0m\u001b[0m\n\u001b[1;32m   3945\u001b[0m             \u001b[0;32melse\u001b[0m\u001b[0;34m:\u001b[0m\u001b[0;34m\u001b[0m\u001b[0;34m\u001b[0m\u001b[0m\n\u001b[0;32m-> 3946\u001b[0;31m                 \u001b[0mnew_axis\u001b[0m \u001b[0;34m=\u001b[0m \u001b[0maxis\u001b[0m\u001b[0;34m.\u001b[0m\u001b[0mdrop\u001b[0m\u001b[0;34m(\u001b[0m\u001b[0mlabels\u001b[0m\u001b[0;34m,\u001b[0m \u001b[0merrors\u001b[0m\u001b[0;34m=\u001b[0m\u001b[0merrors\u001b[0m\u001b[0;34m)\u001b[0m\u001b[0;34m\u001b[0m\u001b[0;34m\u001b[0m\u001b[0m\n\u001b[0m\u001b[1;32m   3947\u001b[0m             \u001b[0mresult\u001b[0m \u001b[0;34m=\u001b[0m \u001b[0mself\u001b[0m\u001b[0;34m.\u001b[0m\u001b[0mreindex\u001b[0m\u001b[0;34m(\u001b[0m\u001b[0;34m**\u001b[0m\u001b[0;34m{\u001b[0m\u001b[0maxis_name\u001b[0m\u001b[0;34m:\u001b[0m \u001b[0mnew_axis\u001b[0m\u001b[0;34m}\u001b[0m\u001b[0;34m)\u001b[0m\u001b[0;34m\u001b[0m\u001b[0;34m\u001b[0m\u001b[0m\n\u001b[1;32m   3948\u001b[0m \u001b[0;34m\u001b[0m\u001b[0m\n",
      "\u001b[0;32m/anaconda3/lib/python3.6/site-packages/pandas/core/indexes/base.py\u001b[0m in \u001b[0;36mdrop\u001b[0;34m(self, labels, errors)\u001b[0m\n\u001b[1;32m   5338\u001b[0m         \u001b[0;32mif\u001b[0m \u001b[0mmask\u001b[0m\u001b[0;34m.\u001b[0m\u001b[0many\u001b[0m\u001b[0;34m(\u001b[0m\u001b[0;34m)\u001b[0m\u001b[0;34m:\u001b[0m\u001b[0;34m\u001b[0m\u001b[0;34m\u001b[0m\u001b[0m\n\u001b[1;32m   5339\u001b[0m             \u001b[0;32mif\u001b[0m \u001b[0merrors\u001b[0m \u001b[0;34m!=\u001b[0m \u001b[0;34m\"ignore\"\u001b[0m\u001b[0;34m:\u001b[0m\u001b[0;34m\u001b[0m\u001b[0;34m\u001b[0m\u001b[0m\n\u001b[0;32m-> 5340\u001b[0;31m                 \u001b[0;32mraise\u001b[0m \u001b[0mKeyError\u001b[0m\u001b[0;34m(\u001b[0m\u001b[0;34m\"{} not found in axis\"\u001b[0m\u001b[0;34m.\u001b[0m\u001b[0mformat\u001b[0m\u001b[0;34m(\u001b[0m\u001b[0mlabels\u001b[0m\u001b[0;34m[\u001b[0m\u001b[0mmask\u001b[0m\u001b[0;34m]\u001b[0m\u001b[0;34m)\u001b[0m\u001b[0;34m)\u001b[0m\u001b[0;34m\u001b[0m\u001b[0;34m\u001b[0m\u001b[0m\n\u001b[0m\u001b[1;32m   5341\u001b[0m             \u001b[0mindexer\u001b[0m \u001b[0;34m=\u001b[0m \u001b[0mindexer\u001b[0m\u001b[0;34m[\u001b[0m\u001b[0;34m~\u001b[0m\u001b[0mmask\u001b[0m\u001b[0;34m]\u001b[0m\u001b[0;34m\u001b[0m\u001b[0;34m\u001b[0m\u001b[0m\n\u001b[1;32m   5342\u001b[0m         \u001b[0;32mreturn\u001b[0m \u001b[0mself\u001b[0m\u001b[0;34m.\u001b[0m\u001b[0mdelete\u001b[0m\u001b[0;34m(\u001b[0m\u001b[0mindexer\u001b[0m\u001b[0;34m)\u001b[0m\u001b[0;34m\u001b[0m\u001b[0;34m\u001b[0m\u001b[0m\n",
      "\u001b[0;31mKeyError\u001b[0m: '[32] not found in axis'"
     ]
    }
   ],
   "source": [
    "\n",
    "word_country_df = word_country_df.drop([32])"
   ]
  },
  {
   "cell_type": "code",
   "execution_count": 226,
   "metadata": {},
   "outputs": [
    {
     "name": "stdout",
     "output_type": "stream",
     "text": [
      "Sarawak 'NoneType' object has no attribute 'alpha_3'\n"
     ]
    }
   ],
   "source": [
    "word_country_df = generate_iso_alpha_list(word_country_df, 'Country')"
   ]
  },
  {
   "cell_type": "code",
   "execution_count": 270,
   "metadata": {},
   "outputs": [
    {
     "data": {
      "application/vnd.plotly.v1+json": {
       "config": {
        "plotlyServerURL": "https://plotly.com"
       },
       "data": [
        {
         "colorscale": [
          [
           0,
           "#FD3216"
          ],
          [
           1,
           "#FD3216"
          ]
         ],
         "customdata": [
          [
           3.5,
           "chicken, mi goreng, beef"
          ],
          [
           3.5,
           "chicken, soup, beef"
          ],
          [
           3.5,
           "chicken, vegetable, rumpum"
          ],
          [
           3.5,
           "chicken, supreme, pancit canton"
          ],
          [
           3.5,
           "chicken, super, curry"
          ],
          [
           3.5,
           "chicken, soup, spicy"
          ],
          [
           3.5,
           "chicken, mi, shrimp"
          ]
         ],
         "geo": "geo",
         "hovertemplate": "<b>%{hovertext}</b><br><br>Main Theme=chicken<br>Main Theme Rating=%{customdata[0]}<br>Top 3 Themes=%{customdata[1]}<br>ISO=%{location}<extra></extra>",
         "hovertext": [
          "Australia",
          "Canada",
          "Nepal",
          "Philippines",
          "United Kingdom",
          "United States",
          "Vietnam"
         ],
         "locations": [
          "AUS",
          "CAN",
          "NPL",
          "PHL",
          "GBR",
          "USA",
          "VNM"
         ],
         "name": "chicken",
         "showlegend": true,
         "showscale": false,
         "type": "choropleth",
         "z": [
          1,
          1,
          1,
          1,
          1,
          1,
          1
         ]
        },
        {
         "colorscale": [
          [
           0,
           "#00FE35"
          ],
          [
           1,
           "#00FE35"
          ]
         ],
         "customdata": [
          [
           3.25,
           "oriental style, mr curry, mr beef"
          ]
         ],
         "geo": "geo",
         "hovertemplate": "<b>%{hovertext}</b><br><br>Main Theme=oriental style<br>Main Theme Rating=%{customdata[0]}<br>Top 3 Themes=%{customdata[1]}<br>ISO=%{location}<extra></extra>",
         "hovertext": [
          "Bangladesh"
         ],
         "locations": [
          "BGD"
         ],
         "name": "oriental style",
         "showlegend": true,
         "showscale": false,
         "type": "choropleth",
         "z": [
          1
         ]
        },
        {
         "colorscale": [
          [
           0,
           "#6A76FC"
          ],
          [
           1,
           "#6A76FC"
          ]
         ],
         "customdata": [
          [
           4.25,
           "sabor calabresa, sabor galinha caipira, lamen sabor picanha"
          ]
         ],
         "geo": "geo",
         "hovertemplate": "<b>%{hovertext}</b><br><br>Main Theme=sabor calabresa<br>Main Theme Rating=%{customdata[0]}<br>Top 3 Themes=%{customdata[1]}<br>ISO=%{location}<extra></extra>",
         "hovertext": [
          "Brazil"
         ],
         "locations": [
          "BRA"
         ],
         "name": "sabor calabresa",
         "showlegend": true,
         "showscale": false,
         "type": "choropleth",
         "z": [
          1
         ]
        },
        {
         "colorscale": [
          [
           0,
           "#FED4C4"
          ],
          [
           1,
           "#FED4C4"
          ]
         ],
         "customdata": [
          [
           4,
           "shrimp tom yum, minced pork, stewed beef"
          ]
         ],
         "geo": "geo",
         "hovertemplate": "<b>%{hovertext}</b><br><br>Main Theme=shrimp tom yum<br>Main Theme Rating=%{customdata[0]}<br>Top 3 Themes=%{customdata[1]}<br>ISO=%{location}<extra></extra>",
         "hovertext": [
          "Cambodia"
         ],
         "locations": [
          "KHM"
         ],
         "name": "shrimp tom yum",
         "showlegend": true,
         "showscale": false,
         "type": "choropleth",
         "z": [
          1
         ]
        },
        {
         "colorscale": [
          [
           0,
           "#FE00CE"
          ],
          [
           1,
           "#FE00CE"
          ]
         ],
         "customdata": [
          [
           3.5,
           "beef, artificial, spicy"
          ]
         ],
         "geo": "geo",
         "hovertemplate": "<b>%{hovertext}</b><br><br>Main Theme=beef<br>Main Theme Rating=%{customdata[0]}<br>Top 3 Themes=%{customdata[1]}<br>ISO=%{location}<extra></extra>",
         "hovertext": [
          "China"
         ],
         "locations": [
          "CHN"
         ],
         "name": "beef",
         "showlegend": true,
         "showscale": false,
         "type": "choropleth",
         "z": [
          1
         ]
        },
        {
         "colorscale": [
          [
           0,
           "#0DF9FF"
          ],
          [
           1,
           "#0DF9FF"
          ]
         ],
         "customdata": [
          [
           4,
           "sabor, sabor carne sopa, sopa con fideos"
          ],
          [
           4,
           "sabor, sopa nissin sabor, sabor pollo"
          ]
         ],
         "geo": "geo",
         "hovertemplate": "<b>%{hovertext}</b><br><br>Main Theme=sabor<br>Main Theme Rating=%{customdata[0]}<br>Top 3 Themes=%{customdata[1]}<br>ISO=%{location}<extra></extra>",
         "hovertext": [
          "Colombia",
          "Mexico"
         ],
         "locations": [
          "COL",
          "MEX"
         ],
         "name": "sabor",
         "showlegend": true,
         "showscale": false,
         "type": "choropleth",
         "z": [
          1,
          1
         ]
        },
        {
         "colorscale": [
          [
           0,
           "#F6F926"
          ],
          [
           1,
           "#F6F926"
          ]
         ],
         "customdata": [
          [
           3.5,
           "nuudeli, nuudeli kana nudlar, kana nudlar kyckling"
          ]
         ],
         "geo": "geo",
         "hovertemplate": "<b>%{hovertext}</b><br><br>Main Theme=nuudeli<br>Main Theme Rating=%{customdata[0]}<br>Top 3 Themes=%{customdata[1]}<br>ISO=%{location}<extra></extra>",
         "hovertext": [
          "Finland"
         ],
         "locations": [
          "FIN"
         ],
         "name": "nuudeli",
         "showlegend": true,
         "showscale": false,
         "type": "choropleth",
         "z": [
          1
         ]
        },
        {
         "colorscale": [
          [
           0,
           "#FF9616"
          ],
          [
           1,
           "#FF9616"
          ]
         ],
         "customdata": [
          [
           4,
           "soba, demae, beef"
          ]
         ],
         "geo": "geo",
         "hovertemplate": "<b>%{hovertext}</b><br><br>Main Theme=soba<br>Main Theme Rating=%{customdata[0]}<br>Top 3 Themes=%{customdata[1]}<br>ISO=%{location}<extra></extra>",
         "hovertext": [
          "Germany"
         ],
         "locations": [
          "DEU"
         ],
         "name": "soba",
         "showlegend": true,
         "showscale": false,
         "type": "choropleth",
         "z": [
          1
         ]
        },
        {
         "colorscale": [
          [
           0,
           "#479B55"
          ],
          [
           1,
           "#479B55"
          ]
         ],
         "customdata": [
          [
           null,
           "beef light soup"
          ]
         ],
         "geo": "geo",
         "hovertemplate": "<b>%{hovertext}</b><br><br>Main Theme=beef light soup<br>Main Theme Rating=%{customdata[0]}<br>Top 3 Themes=%{customdata[1]}<br>ISO=%{location}<extra></extra>",
         "hovertext": [
          "Ghana"
         ],
         "locations": [
          "GHA"
         ],
         "name": "beef light soup",
         "showlegend": true,
         "showscale": false,
         "type": "choropleth",
         "z": [
          1
         ]
        },
        {
         "colorscale": [
          [
           0,
           "#EEA6FB"
          ],
          [
           1,
           "#EEA6FB"
          ]
         ],
         "customdata": [
          [
           3.5,
           "good, sate, good chicken"
          ]
         ],
         "geo": "geo",
         "hovertemplate": "<b>%{hovertext}</b><br><br>Main Theme=good<br>Main Theme Rating=%{customdata[0]}<br>Top 3 Themes=%{customdata[1]}<br>ISO=%{location}<extra></extra>",
         "hovertext": [
          "Netherlands"
         ],
         "locations": [
          "NLD"
         ],
         "name": "good",
         "showlegend": true,
         "showscale": false,
         "type": "choropleth",
         "z": [
          1
         ]
        },
        {
         "colorscale": [
          [
           0,
           "#DC587D"
          ],
          [
           1,
           "#DC587D"
          ]
         ],
         "customdata": [
          [
           3.75,
           "soup, seafood, spicy"
          ]
         ],
         "geo": "geo",
         "hovertemplate": "<b>%{hovertext}</b><br><br>Main Theme=soup<br>Main Theme Rating=%{customdata[0]}<br>Top 3 Themes=%{customdata[1]}<br>ISO=%{location}<extra></extra>",
         "hovertext": [
          "Hong Kong"
         ],
         "locations": [
          "HKG"
         ],
         "name": "soup",
         "showlegend": true,
         "showscale": false,
         "type": "choropleth",
         "z": [
          1
         ]
        },
        {
         "colorscale": [
          [
           0,
           "#D626FF"
          ],
          [
           1,
           "#D626FF"
          ]
         ],
         "customdata": [
          [
           3.5,
           "shrimp, chicken, duck"
          ]
         ],
         "geo": "geo",
         "hovertemplate": "<b>%{hovertext}</b><br><br>Main Theme=shrimp<br>Main Theme Rating=%{customdata[0]}<br>Top 3 Themes=%{customdata[1]}<br>ISO=%{location}<extra></extra>",
         "hovertext": [
          "Hungary"
         ],
         "locations": [
          "HUN"
         ],
         "name": "shrimp",
         "showlegend": true,
         "showscale": false,
         "type": "choropleth",
         "z": [
          1
         ]
        },
        {
         "colorscale": [
          [
           0,
           "#6E899C"
          ],
          [
           1,
           "#6E899C"
          ]
         ],
         "customdata": [
          [
           3.75,
           "masala, minute, curry"
          ]
         ],
         "geo": "geo",
         "hovertemplate": "<b>%{hovertext}</b><br><br>Main Theme=masala<br>Main Theme Rating=%{customdata[0]}<br>Top 3 Themes=%{customdata[1]}<br>ISO=%{location}<extra></extra>",
         "hovertext": [
          "India"
         ],
         "locations": [
          "IND"
         ],
         "name": "masala",
         "showlegend": true,
         "showscale": false,
         "type": "choropleth",
         "z": [
          1
         ]
        },
        {
         "colorscale": [
          [
           0,
           "#00B5F7"
          ],
          [
           1,
           "#00B5F7"
          ]
         ],
         "customdata": [
          [
           3.875,
           "rasa, mi goreng, chicken"
          ]
         ],
         "geo": "geo",
         "hovertemplate": "<b>%{hovertext}</b><br><br>Main Theme=rasa<br>Main Theme Rating=%{customdata[0]}<br>Top 3 Themes=%{customdata[1]}<br>ISO=%{location}<extra></extra>",
         "hovertext": [
          "Indonesia"
         ],
         "locations": [
          "IDN"
         ],
         "name": "rasa",
         "showlegend": true,
         "showscale": false,
         "type": "choropleth",
         "z": [
          1
         ]
        },
        {
         "colorscale": [
          [
           0,
           "#B68E00"
          ],
          [
           1,
           "#B68E00"
          ]
         ],
         "customdata": [
          [
           3.75,
           "udon, shoyu, tonkotsu"
          ]
         ],
         "geo": "geo",
         "hovertemplate": "<b>%{hovertext}</b><br><br>Main Theme=udon<br>Main Theme Rating=%{customdata[0]}<br>Top 3 Themes=%{customdata[1]}<br>ISO=%{location}<extra></extra>",
         "hovertext": [
          "Japan"
         ],
         "locations": [
          "JPN"
         ],
         "name": "udon",
         "showlegend": true,
         "showscale": false,
         "type": "choropleth",
         "z": [
          1
         ]
        },
        {
         "colorscale": [
          [
           0,
           "#C9FBE5"
          ],
          [
           1,
           "#C9FBE5"
          ]
         ],
         "customdata": [
          [
           5,
           "penang white curry, perisa, kari"
          ]
         ],
         "geo": "geo",
         "hovertemplate": "<b>%{hovertext}</b><br><br>Main Theme=penang white curry<br>Main Theme Rating=%{customdata[0]}<br>Top 3 Themes=%{customdata[1]}<br>ISO=%{location}<extra></extra>",
         "hovertext": [
          "Malaysia"
         ],
         "locations": [
          "MYS"
         ],
         "name": "penang white curry",
         "showlegend": true,
         "showscale": false,
         "type": "choropleth",
         "z": [
          1
         ]
        },
        {
         "colorscale": [
          [
           0,
           "#FF0092"
          ],
          [
           1,
           "#FF0092"
          ]
         ],
         "customdata": [
          [
           3.25,
           "rangers snack, coconut milk, shrimp tom yum"
          ]
         ],
         "geo": "geo",
         "hovertemplate": "<b>%{hovertext}</b><br><br>Main Theme=rangers snack<br>Main Theme Rating=%{customdata[0]}<br>Top 3 Themes=%{customdata[1]}<br>ISO=%{location}<extra></extra>",
         "hovertext": [
          "Myanmar"
         ],
         "locations": [
          "MMR"
         ],
         "name": "rangers snack",
         "showlegend": true,
         "showscale": false,
         "type": "choropleth",
         "z": [
          1
         ]
        },
        {
         "colorscale": [
          [
           0,
           "#22FFA7"
          ],
          [
           1,
           "#22FFA7"
          ]
         ],
         "customdata": [
          [
           3.25,
           "oriental, island flavours, soup"
          ]
         ],
         "geo": "geo",
         "hovertemplate": "<b>%{hovertext}</b><br><br>Main Theme=oriental<br>Main Theme Rating=%{customdata[0]}<br>Top 3 Themes=%{customdata[1]}<br>ISO=%{location}<extra></extra>",
         "hovertext": [
          "Netherlands"
         ],
         "locations": [
          "NLD"
         ],
         "name": "oriental",
         "showlegend": true,
         "showscale": false,
         "type": "choropleth",
         "z": [
          1
         ]
        },
        {
         "colorscale": [
          [
           0,
           "#E3EE9E"
          ],
          [
           1,
           "#E3EE9E"
          ]
         ],
         "customdata": [
          [
           3.25,
           "shoop, pizza, chatt patta"
          ]
         ],
         "geo": "geo",
         "hovertemplate": "<b>%{hovertext}</b><br><br>Main Theme=shoop<br>Main Theme Rating=%{customdata[0]}<br>Top 3 Themes=%{customdata[1]}<br>ISO=%{location}<extra></extra>",
         "hovertext": [
          "Pakistan"
         ],
         "locations": [
          "PAK"
         ],
         "name": "shoop",
         "showlegend": true,
         "showscale": false,
         "type": "choropleth",
         "z": [
          1
         ]
        },
        {
         "colorscale": [
          [
           0,
           "#86CE00"
          ],
          [
           1,
           "#86CE00"
          ]
         ],
         "customdata": [
          [
           3.25,
           "ogorkowa, zurek, barszcz czerwony borscht"
          ]
         ],
         "geo": "geo",
         "hovertemplate": "<b>%{hovertext}</b><br><br>Main Theme=ogorkowa<br>Main Theme Rating=%{customdata[0]}<br>Top 3 Themes=%{customdata[1]}<br>ISO=%{location}<extra></extra>",
         "hovertext": [
          "Poland"
         ],
         "locations": [
          "POL"
         ],
         "name": "ogorkowa",
         "showlegend": true,
         "showscale": false,
         "type": "choropleth",
         "z": [
          1
         ]
        },
        {
         "colorscale": [
          [
           0,
           "#BC7196"
          ],
          [
           1,
           "#BC7196"
          ]
         ],
         "customdata": [
          [
           3.75,
           "spicy, chicken, curry"
          ],
          [
           3.75,
           "spicy, artificial, sesame"
          ]
         ],
         "geo": "geo",
         "hovertemplate": "<b>%{hovertext}</b><br><br>Main Theme=spicy<br>Main Theme Rating=%{customdata[0]}<br>Top 3 Themes=%{customdata[1]}<br>ISO=%{location}<extra></extra>",
         "hovertext": [
          "Singapore",
          "Taiwan"
         ],
         "locations": [
          "SGP",
          "TWN"
         ],
         "name": "spicy",
         "showlegend": true,
         "showscale": false,
         "type": "choropleth",
         "z": [
          1,
          1
         ]
        },
        {
         "colorscale": [
          [
           0,
           "#7E7DCD"
          ],
          [
           1,
           "#7E7DCD"
          ]
         ],
         "customdata": [
          [
           4,
           "ramyun, spicy, seafood"
          ]
         ],
         "geo": "geo",
         "hovertemplate": "<b>%{hovertext}</b><br><br>Main Theme=ramyun<br>Main Theme Rating=%{customdata[0]}<br>Top 3 Themes=%{customdata[1]}<br>ISO=%{location}<extra></extra>",
         "hovertext": [
          "Korea, Republic of"
         ],
         "locations": [
          "KOR"
         ],
         "name": "ramyun",
         "showlegend": true,
         "showscale": false,
         "type": "choropleth",
         "z": [
          1
         ]
        },
        {
         "colorscale": [
          [
           0,
           "#FC6955"
          ],
          [
           1,
           "#FC6955"
          ]
         ],
         "customdata": [
          [
           2.75,
           "spicy chili, asia fast snabbnudlar, fast snabbnudlar räksmak"
          ]
         ],
         "geo": "geo",
         "hovertemplate": "<b>%{hovertext}</b><br><br>Main Theme=spicy chili<br>Main Theme Rating=%{customdata[0]}<br>Top 3 Themes=%{customdata[1]}<br>ISO=%{location}<extra></extra>",
         "hovertext": [
          "Sweden"
         ],
         "locations": [
          "SWE"
         ],
         "name": "spicy chili",
         "showlegend": true,
         "showscale": false,
         "type": "choropleth",
         "z": [
          1
         ]
        },
        {
         "colorscale": [
          [
           0,
           "#E48F72"
          ],
          [
           1,
           "#E48F72"
          ]
         ],
         "customdata": [
          [
           3.75,
           "tom yum, rice, pork"
          ]
         ],
         "geo": "geo",
         "hovertemplate": "<b>%{hovertext}</b><br><br>Main Theme=tom yum<br>Main Theme Rating=%{customdata[0]}<br>Top 3 Themes=%{customdata[1]}<br>ISO=%{location}<extra></extra>",
         "hovertext": [
          "Thailand"
         ],
         "locations": [
          "THA"
         ],
         "name": "tom yum",
         "showlegend": true,
         "showscale": false,
         "type": "choropleth",
         "z": [
          1
         ]
        }
       ],
       "layout": {
        "geo": {
         "center": {},
         "domain": {
          "x": [
           0,
           1
          ],
          "y": [
           0,
           1
          ]
         }
        },
        "legend": {
         "title": {
          "text": "Main Theme"
         },
         "tracegroupgap": 0
        },
        "margin": {
         "t": 60
        },
        "template": {
         "data": {
          "bar": [
           {
            "error_x": {
             "color": "#2a3f5f"
            },
            "error_y": {
             "color": "#2a3f5f"
            },
            "marker": {
             "line": {
              "color": "#E5ECF6",
              "width": 0.5
             }
            },
            "type": "bar"
           }
          ],
          "barpolar": [
           {
            "marker": {
             "line": {
              "color": "#E5ECF6",
              "width": 0.5
             }
            },
            "type": "barpolar"
           }
          ],
          "carpet": [
           {
            "aaxis": {
             "endlinecolor": "#2a3f5f",
             "gridcolor": "white",
             "linecolor": "white",
             "minorgridcolor": "white",
             "startlinecolor": "#2a3f5f"
            },
            "baxis": {
             "endlinecolor": "#2a3f5f",
             "gridcolor": "white",
             "linecolor": "white",
             "minorgridcolor": "white",
             "startlinecolor": "#2a3f5f"
            },
            "type": "carpet"
           }
          ],
          "choropleth": [
           {
            "colorbar": {
             "outlinewidth": 0,
             "ticks": ""
            },
            "type": "choropleth"
           }
          ],
          "contour": [
           {
            "colorbar": {
             "outlinewidth": 0,
             "ticks": ""
            },
            "colorscale": [
             [
              0,
              "#0d0887"
             ],
             [
              0.1111111111111111,
              "#46039f"
             ],
             [
              0.2222222222222222,
              "#7201a8"
             ],
             [
              0.3333333333333333,
              "#9c179e"
             ],
             [
              0.4444444444444444,
              "#bd3786"
             ],
             [
              0.5555555555555556,
              "#d8576b"
             ],
             [
              0.6666666666666666,
              "#ed7953"
             ],
             [
              0.7777777777777778,
              "#fb9f3a"
             ],
             [
              0.8888888888888888,
              "#fdca26"
             ],
             [
              1,
              "#f0f921"
             ]
            ],
            "type": "contour"
           }
          ],
          "contourcarpet": [
           {
            "colorbar": {
             "outlinewidth": 0,
             "ticks": ""
            },
            "type": "contourcarpet"
           }
          ],
          "heatmap": [
           {
            "colorbar": {
             "outlinewidth": 0,
             "ticks": ""
            },
            "colorscale": [
             [
              0,
              "#0d0887"
             ],
             [
              0.1111111111111111,
              "#46039f"
             ],
             [
              0.2222222222222222,
              "#7201a8"
             ],
             [
              0.3333333333333333,
              "#9c179e"
             ],
             [
              0.4444444444444444,
              "#bd3786"
             ],
             [
              0.5555555555555556,
              "#d8576b"
             ],
             [
              0.6666666666666666,
              "#ed7953"
             ],
             [
              0.7777777777777778,
              "#fb9f3a"
             ],
             [
              0.8888888888888888,
              "#fdca26"
             ],
             [
              1,
              "#f0f921"
             ]
            ],
            "type": "heatmap"
           }
          ],
          "heatmapgl": [
           {
            "colorbar": {
             "outlinewidth": 0,
             "ticks": ""
            },
            "colorscale": [
             [
              0,
              "#0d0887"
             ],
             [
              0.1111111111111111,
              "#46039f"
             ],
             [
              0.2222222222222222,
              "#7201a8"
             ],
             [
              0.3333333333333333,
              "#9c179e"
             ],
             [
              0.4444444444444444,
              "#bd3786"
             ],
             [
              0.5555555555555556,
              "#d8576b"
             ],
             [
              0.6666666666666666,
              "#ed7953"
             ],
             [
              0.7777777777777778,
              "#fb9f3a"
             ],
             [
              0.8888888888888888,
              "#fdca26"
             ],
             [
              1,
              "#f0f921"
             ]
            ],
            "type": "heatmapgl"
           }
          ],
          "histogram": [
           {
            "marker": {
             "colorbar": {
              "outlinewidth": 0,
              "ticks": ""
             }
            },
            "type": "histogram"
           }
          ],
          "histogram2d": [
           {
            "colorbar": {
             "outlinewidth": 0,
             "ticks": ""
            },
            "colorscale": [
             [
              0,
              "#0d0887"
             ],
             [
              0.1111111111111111,
              "#46039f"
             ],
             [
              0.2222222222222222,
              "#7201a8"
             ],
             [
              0.3333333333333333,
              "#9c179e"
             ],
             [
              0.4444444444444444,
              "#bd3786"
             ],
             [
              0.5555555555555556,
              "#d8576b"
             ],
             [
              0.6666666666666666,
              "#ed7953"
             ],
             [
              0.7777777777777778,
              "#fb9f3a"
             ],
             [
              0.8888888888888888,
              "#fdca26"
             ],
             [
              1,
              "#f0f921"
             ]
            ],
            "type": "histogram2d"
           }
          ],
          "histogram2dcontour": [
           {
            "colorbar": {
             "outlinewidth": 0,
             "ticks": ""
            },
            "colorscale": [
             [
              0,
              "#0d0887"
             ],
             [
              0.1111111111111111,
              "#46039f"
             ],
             [
              0.2222222222222222,
              "#7201a8"
             ],
             [
              0.3333333333333333,
              "#9c179e"
             ],
             [
              0.4444444444444444,
              "#bd3786"
             ],
             [
              0.5555555555555556,
              "#d8576b"
             ],
             [
              0.6666666666666666,
              "#ed7953"
             ],
             [
              0.7777777777777778,
              "#fb9f3a"
             ],
             [
              0.8888888888888888,
              "#fdca26"
             ],
             [
              1,
              "#f0f921"
             ]
            ],
            "type": "histogram2dcontour"
           }
          ],
          "mesh3d": [
           {
            "colorbar": {
             "outlinewidth": 0,
             "ticks": ""
            },
            "type": "mesh3d"
           }
          ],
          "parcoords": [
           {
            "line": {
             "colorbar": {
              "outlinewidth": 0,
              "ticks": ""
             }
            },
            "type": "parcoords"
           }
          ],
          "pie": [
           {
            "automargin": true,
            "type": "pie"
           }
          ],
          "scatter": [
           {
            "marker": {
             "colorbar": {
              "outlinewidth": 0,
              "ticks": ""
             }
            },
            "type": "scatter"
           }
          ],
          "scatter3d": [
           {
            "line": {
             "colorbar": {
              "outlinewidth": 0,
              "ticks": ""
             }
            },
            "marker": {
             "colorbar": {
              "outlinewidth": 0,
              "ticks": ""
             }
            },
            "type": "scatter3d"
           }
          ],
          "scattercarpet": [
           {
            "marker": {
             "colorbar": {
              "outlinewidth": 0,
              "ticks": ""
             }
            },
            "type": "scattercarpet"
           }
          ],
          "scattergeo": [
           {
            "marker": {
             "colorbar": {
              "outlinewidth": 0,
              "ticks": ""
             }
            },
            "type": "scattergeo"
           }
          ],
          "scattergl": [
           {
            "marker": {
             "colorbar": {
              "outlinewidth": 0,
              "ticks": ""
             }
            },
            "type": "scattergl"
           }
          ],
          "scattermapbox": [
           {
            "marker": {
             "colorbar": {
              "outlinewidth": 0,
              "ticks": ""
             }
            },
            "type": "scattermapbox"
           }
          ],
          "scatterpolar": [
           {
            "marker": {
             "colorbar": {
              "outlinewidth": 0,
              "ticks": ""
             }
            },
            "type": "scatterpolar"
           }
          ],
          "scatterpolargl": [
           {
            "marker": {
             "colorbar": {
              "outlinewidth": 0,
              "ticks": ""
             }
            },
            "type": "scatterpolargl"
           }
          ],
          "scatterternary": [
           {
            "marker": {
             "colorbar": {
              "outlinewidth": 0,
              "ticks": ""
             }
            },
            "type": "scatterternary"
           }
          ],
          "surface": [
           {
            "colorbar": {
             "outlinewidth": 0,
             "ticks": ""
            },
            "colorscale": [
             [
              0,
              "#0d0887"
             ],
             [
              0.1111111111111111,
              "#46039f"
             ],
             [
              0.2222222222222222,
              "#7201a8"
             ],
             [
              0.3333333333333333,
              "#9c179e"
             ],
             [
              0.4444444444444444,
              "#bd3786"
             ],
             [
              0.5555555555555556,
              "#d8576b"
             ],
             [
              0.6666666666666666,
              "#ed7953"
             ],
             [
              0.7777777777777778,
              "#fb9f3a"
             ],
             [
              0.8888888888888888,
              "#fdca26"
             ],
             [
              1,
              "#f0f921"
             ]
            ],
            "type": "surface"
           }
          ],
          "table": [
           {
            "cells": {
             "fill": {
              "color": "#EBF0F8"
             },
             "line": {
              "color": "white"
             }
            },
            "header": {
             "fill": {
              "color": "#C8D4E3"
             },
             "line": {
              "color": "white"
             }
            },
            "type": "table"
           }
          ]
         },
         "layout": {
          "annotationdefaults": {
           "arrowcolor": "#2a3f5f",
           "arrowhead": 0,
           "arrowwidth": 1
          },
          "coloraxis": {
           "colorbar": {
            "outlinewidth": 0,
            "ticks": ""
           }
          },
          "colorscale": {
           "diverging": [
            [
             0,
             "#8e0152"
            ],
            [
             0.1,
             "#c51b7d"
            ],
            [
             0.2,
             "#de77ae"
            ],
            [
             0.3,
             "#f1b6da"
            ],
            [
             0.4,
             "#fde0ef"
            ],
            [
             0.5,
             "#f7f7f7"
            ],
            [
             0.6,
             "#e6f5d0"
            ],
            [
             0.7,
             "#b8e186"
            ],
            [
             0.8,
             "#7fbc41"
            ],
            [
             0.9,
             "#4d9221"
            ],
            [
             1,
             "#276419"
            ]
           ],
           "sequential": [
            [
             0,
             "#0d0887"
            ],
            [
             0.1111111111111111,
             "#46039f"
            ],
            [
             0.2222222222222222,
             "#7201a8"
            ],
            [
             0.3333333333333333,
             "#9c179e"
            ],
            [
             0.4444444444444444,
             "#bd3786"
            ],
            [
             0.5555555555555556,
             "#d8576b"
            ],
            [
             0.6666666666666666,
             "#ed7953"
            ],
            [
             0.7777777777777778,
             "#fb9f3a"
            ],
            [
             0.8888888888888888,
             "#fdca26"
            ],
            [
             1,
             "#f0f921"
            ]
           ],
           "sequentialminus": [
            [
             0,
             "#0d0887"
            ],
            [
             0.1111111111111111,
             "#46039f"
            ],
            [
             0.2222222222222222,
             "#7201a8"
            ],
            [
             0.3333333333333333,
             "#9c179e"
            ],
            [
             0.4444444444444444,
             "#bd3786"
            ],
            [
             0.5555555555555556,
             "#d8576b"
            ],
            [
             0.6666666666666666,
             "#ed7953"
            ],
            [
             0.7777777777777778,
             "#fb9f3a"
            ],
            [
             0.8888888888888888,
             "#fdca26"
            ],
            [
             1,
             "#f0f921"
            ]
           ]
          },
          "colorway": [
           "#636efa",
           "#EF553B",
           "#00cc96",
           "#ab63fa",
           "#FFA15A",
           "#19d3f3",
           "#FF6692",
           "#B6E880",
           "#FF97FF",
           "#FECB52"
          ],
          "font": {
           "color": "#2a3f5f"
          },
          "geo": {
           "bgcolor": "white",
           "lakecolor": "white",
           "landcolor": "#E5ECF6",
           "showlakes": true,
           "showland": true,
           "subunitcolor": "white"
          },
          "hoverlabel": {
           "align": "left"
          },
          "hovermode": "closest",
          "mapbox": {
           "style": "light"
          },
          "paper_bgcolor": "white",
          "plot_bgcolor": "#E5ECF6",
          "polar": {
           "angularaxis": {
            "gridcolor": "white",
            "linecolor": "white",
            "ticks": ""
           },
           "bgcolor": "#E5ECF6",
           "radialaxis": {
            "gridcolor": "white",
            "linecolor": "white",
            "ticks": ""
           }
          },
          "scene": {
           "xaxis": {
            "backgroundcolor": "#E5ECF6",
            "gridcolor": "white",
            "gridwidth": 2,
            "linecolor": "white",
            "showbackground": true,
            "ticks": "",
            "zerolinecolor": "white"
           },
           "yaxis": {
            "backgroundcolor": "#E5ECF6",
            "gridcolor": "white",
            "gridwidth": 2,
            "linecolor": "white",
            "showbackground": true,
            "ticks": "",
            "zerolinecolor": "white"
           },
           "zaxis": {
            "backgroundcolor": "#E5ECF6",
            "gridcolor": "white",
            "gridwidth": 2,
            "linecolor": "white",
            "showbackground": true,
            "ticks": "",
            "zerolinecolor": "white"
           }
          },
          "shapedefaults": {
           "line": {
            "color": "#2a3f5f"
           }
          },
          "ternary": {
           "aaxis": {
            "gridcolor": "white",
            "linecolor": "white",
            "ticks": ""
           },
           "baxis": {
            "gridcolor": "white",
            "linecolor": "white",
            "ticks": ""
           },
           "bgcolor": "#E5ECF6",
           "caxis": {
            "gridcolor": "white",
            "linecolor": "white",
            "ticks": ""
           }
          },
          "title": {
           "x": 0.05
          },
          "xaxis": {
           "automargin": true,
           "gridcolor": "white",
           "linecolor": "white",
           "ticks": "",
           "title": {
            "standoff": 15
           },
           "zerolinecolor": "white",
           "zerolinewidth": 2
          },
          "yaxis": {
           "automargin": true,
           "gridcolor": "white",
           "linecolor": "white",
           "ticks": "",
           "title": {
            "standoff": 15
           },
           "zerolinecolor": "white",
           "zerolinewidth": 2
          }
         }
        },
        "title": {
         "text": "Popular Ramen themes of the world!"
        }
       }
      },
      "text/html": [
       "<div>\n",
       "        \n",
       "        \n",
       "            <div id=\"07b24bf5-1a6a-411d-8650-e4e68e69fe39\" class=\"plotly-graph-div\" style=\"height:525px; width:100%;\"></div>\n",
       "            <script type=\"text/javascript\">\n",
       "                require([\"plotly\"], function(Plotly) {\n",
       "                    window.PLOTLYENV=window.PLOTLYENV || {};\n",
       "                    \n",
       "                if (document.getElementById(\"07b24bf5-1a6a-411d-8650-e4e68e69fe39\")) {\n",
       "                    Plotly.newPlot(\n",
       "                        '07b24bf5-1a6a-411d-8650-e4e68e69fe39',\n",
       "                        [{\"colorscale\": [[0.0, \"#FD3216\"], [1.0, \"#FD3216\"]], \"customdata\": [[3.5, \"chicken, mi goreng, beef\"], [3.5, \"chicken, soup, beef\"], [3.5, \"chicken, vegetable, rumpum\"], [3.5, \"chicken, supreme, pancit canton\"], [3.5, \"chicken, super, curry\"], [3.5, \"chicken, soup, spicy\"], [3.5, \"chicken, mi, shrimp\"]], \"geo\": \"geo\", \"hovertemplate\": \"<b>%{hovertext}</b><br><br>Main Theme=chicken<br>Main Theme Rating=%{customdata[0]}<br>Top 3 Themes=%{customdata[1]}<br>ISO=%{location}<extra></extra>\", \"hovertext\": [\"Australia\", \"Canada\", \"Nepal\", \"Philippines\", \"United Kingdom\", \"United States\", \"Vietnam\"], \"locations\": [\"AUS\", \"CAN\", \"NPL\", \"PHL\", \"GBR\", \"USA\", \"VNM\"], \"name\": \"chicken\", \"showlegend\": true, \"showscale\": false, \"type\": \"choropleth\", \"z\": [1, 1, 1, 1, 1, 1, 1]}, {\"colorscale\": [[0.0, \"#00FE35\"], [1.0, \"#00FE35\"]], \"customdata\": [[3.25, \"oriental style, mr curry, mr beef\"]], \"geo\": \"geo\", \"hovertemplate\": \"<b>%{hovertext}</b><br><br>Main Theme=oriental style<br>Main Theme Rating=%{customdata[0]}<br>Top 3 Themes=%{customdata[1]}<br>ISO=%{location}<extra></extra>\", \"hovertext\": [\"Bangladesh\"], \"locations\": [\"BGD\"], \"name\": \"oriental style\", \"showlegend\": true, \"showscale\": false, \"type\": \"choropleth\", \"z\": [1]}, {\"colorscale\": [[0.0, \"#6A76FC\"], [1.0, \"#6A76FC\"]], \"customdata\": [[4.25, \"sabor calabresa, sabor galinha caipira, lamen sabor picanha\"]], \"geo\": \"geo\", \"hovertemplate\": \"<b>%{hovertext}</b><br><br>Main Theme=sabor calabresa<br>Main Theme Rating=%{customdata[0]}<br>Top 3 Themes=%{customdata[1]}<br>ISO=%{location}<extra></extra>\", \"hovertext\": [\"Brazil\"], \"locations\": [\"BRA\"], \"name\": \"sabor calabresa\", \"showlegend\": true, \"showscale\": false, \"type\": \"choropleth\", \"z\": [1]}, {\"colorscale\": [[0.0, \"#FED4C4\"], [1.0, \"#FED4C4\"]], \"customdata\": [[4.0, \"shrimp tom yum, minced pork, stewed beef\"]], \"geo\": \"geo\", \"hovertemplate\": \"<b>%{hovertext}</b><br><br>Main Theme=shrimp tom yum<br>Main Theme Rating=%{customdata[0]}<br>Top 3 Themes=%{customdata[1]}<br>ISO=%{location}<extra></extra>\", \"hovertext\": [\"Cambodia\"], \"locations\": [\"KHM\"], \"name\": \"shrimp tom yum\", \"showlegend\": true, \"showscale\": false, \"type\": \"choropleth\", \"z\": [1]}, {\"colorscale\": [[0.0, \"#FE00CE\"], [1.0, \"#FE00CE\"]], \"customdata\": [[3.5, \"beef, artificial, spicy\"]], \"geo\": \"geo\", \"hovertemplate\": \"<b>%{hovertext}</b><br><br>Main Theme=beef<br>Main Theme Rating=%{customdata[0]}<br>Top 3 Themes=%{customdata[1]}<br>ISO=%{location}<extra></extra>\", \"hovertext\": [\"China\"], \"locations\": [\"CHN\"], \"name\": \"beef\", \"showlegend\": true, \"showscale\": false, \"type\": \"choropleth\", \"z\": [1]}, {\"colorscale\": [[0.0, \"#0DF9FF\"], [1.0, \"#0DF9FF\"]], \"customdata\": [[4.0, \"sabor, sabor carne sopa, sopa con fideos\"], [4.0, \"sabor, sopa nissin sabor, sabor pollo\"]], \"geo\": \"geo\", \"hovertemplate\": \"<b>%{hovertext}</b><br><br>Main Theme=sabor<br>Main Theme Rating=%{customdata[0]}<br>Top 3 Themes=%{customdata[1]}<br>ISO=%{location}<extra></extra>\", \"hovertext\": [\"Colombia\", \"Mexico\"], \"locations\": [\"COL\", \"MEX\"], \"name\": \"sabor\", \"showlegend\": true, \"showscale\": false, \"type\": \"choropleth\", \"z\": [1, 1]}, {\"colorscale\": [[0.0, \"#F6F926\"], [1.0, \"#F6F926\"]], \"customdata\": [[3.5, \"nuudeli, nuudeli kana nudlar, kana nudlar kyckling\"]], \"geo\": \"geo\", \"hovertemplate\": \"<b>%{hovertext}</b><br><br>Main Theme=nuudeli<br>Main Theme Rating=%{customdata[0]}<br>Top 3 Themes=%{customdata[1]}<br>ISO=%{location}<extra></extra>\", \"hovertext\": [\"Finland\"], \"locations\": [\"FIN\"], \"name\": \"nuudeli\", \"showlegend\": true, \"showscale\": false, \"type\": \"choropleth\", \"z\": [1]}, {\"colorscale\": [[0.0, \"#FF9616\"], [1.0, \"#FF9616\"]], \"customdata\": [[4.0, \"soba, demae, beef\"]], \"geo\": \"geo\", \"hovertemplate\": \"<b>%{hovertext}</b><br><br>Main Theme=soba<br>Main Theme Rating=%{customdata[0]}<br>Top 3 Themes=%{customdata[1]}<br>ISO=%{location}<extra></extra>\", \"hovertext\": [\"Germany\"], \"locations\": [\"DEU\"], \"name\": \"soba\", \"showlegend\": true, \"showscale\": false, \"type\": \"choropleth\", \"z\": [1]}, {\"colorscale\": [[0.0, \"#479B55\"], [1.0, \"#479B55\"]], \"customdata\": [[null, \"beef light soup\"]], \"geo\": \"geo\", \"hovertemplate\": \"<b>%{hovertext}</b><br><br>Main Theme=beef light soup<br>Main Theme Rating=%{customdata[0]}<br>Top 3 Themes=%{customdata[1]}<br>ISO=%{location}<extra></extra>\", \"hovertext\": [\"Ghana\"], \"locations\": [\"GHA\"], \"name\": \"beef light soup\", \"showlegend\": true, \"showscale\": false, \"type\": \"choropleth\", \"z\": [1]}, {\"colorscale\": [[0.0, \"#EEA6FB\"], [1.0, \"#EEA6FB\"]], \"customdata\": [[3.5, \"good, sate, good chicken\"]], \"geo\": \"geo\", \"hovertemplate\": \"<b>%{hovertext}</b><br><br>Main Theme=good<br>Main Theme Rating=%{customdata[0]}<br>Top 3 Themes=%{customdata[1]}<br>ISO=%{location}<extra></extra>\", \"hovertext\": [\"Netherlands\"], \"locations\": [\"NLD\"], \"name\": \"good\", \"showlegend\": true, \"showscale\": false, \"type\": \"choropleth\", \"z\": [1]}, {\"colorscale\": [[0.0, \"#DC587D\"], [1.0, \"#DC587D\"]], \"customdata\": [[3.75, \"soup, seafood, spicy\"]], \"geo\": \"geo\", \"hovertemplate\": \"<b>%{hovertext}</b><br><br>Main Theme=soup<br>Main Theme Rating=%{customdata[0]}<br>Top 3 Themes=%{customdata[1]}<br>ISO=%{location}<extra></extra>\", \"hovertext\": [\"Hong Kong\"], \"locations\": [\"HKG\"], \"name\": \"soup\", \"showlegend\": true, \"showscale\": false, \"type\": \"choropleth\", \"z\": [1]}, {\"colorscale\": [[0.0, \"#D626FF\"], [1.0, \"#D626FF\"]], \"customdata\": [[3.5, \"shrimp, chicken, duck\"]], \"geo\": \"geo\", \"hovertemplate\": \"<b>%{hovertext}</b><br><br>Main Theme=shrimp<br>Main Theme Rating=%{customdata[0]}<br>Top 3 Themes=%{customdata[1]}<br>ISO=%{location}<extra></extra>\", \"hovertext\": [\"Hungary\"], \"locations\": [\"HUN\"], \"name\": \"shrimp\", \"showlegend\": true, \"showscale\": false, \"type\": \"choropleth\", \"z\": [1]}, {\"colorscale\": [[0.0, \"#6E899C\"], [1.0, \"#6E899C\"]], \"customdata\": [[3.75, \"masala, minute, curry\"]], \"geo\": \"geo\", \"hovertemplate\": \"<b>%{hovertext}</b><br><br>Main Theme=masala<br>Main Theme Rating=%{customdata[0]}<br>Top 3 Themes=%{customdata[1]}<br>ISO=%{location}<extra></extra>\", \"hovertext\": [\"India\"], \"locations\": [\"IND\"], \"name\": \"masala\", \"showlegend\": true, \"showscale\": false, \"type\": \"choropleth\", \"z\": [1]}, {\"colorscale\": [[0.0, \"#00B5F7\"], [1.0, \"#00B5F7\"]], \"customdata\": [[3.875, \"rasa, mi goreng, chicken\"]], \"geo\": \"geo\", \"hovertemplate\": \"<b>%{hovertext}</b><br><br>Main Theme=rasa<br>Main Theme Rating=%{customdata[0]}<br>Top 3 Themes=%{customdata[1]}<br>ISO=%{location}<extra></extra>\", \"hovertext\": [\"Indonesia\"], \"locations\": [\"IDN\"], \"name\": \"rasa\", \"showlegend\": true, \"showscale\": false, \"type\": \"choropleth\", \"z\": [1]}, {\"colorscale\": [[0.0, \"#B68E00\"], [1.0, \"#B68E00\"]], \"customdata\": [[3.75, \"udon, shoyu, tonkotsu\"]], \"geo\": \"geo\", \"hovertemplate\": \"<b>%{hovertext}</b><br><br>Main Theme=udon<br>Main Theme Rating=%{customdata[0]}<br>Top 3 Themes=%{customdata[1]}<br>ISO=%{location}<extra></extra>\", \"hovertext\": [\"Japan\"], \"locations\": [\"JPN\"], \"name\": \"udon\", \"showlegend\": true, \"showscale\": false, \"type\": \"choropleth\", \"z\": [1]}, {\"colorscale\": [[0.0, \"#C9FBE5\"], [1.0, \"#C9FBE5\"]], \"customdata\": [[5.0, \"penang white curry, perisa, kari\"]], \"geo\": \"geo\", \"hovertemplate\": \"<b>%{hovertext}</b><br><br>Main Theme=penang white curry<br>Main Theme Rating=%{customdata[0]}<br>Top 3 Themes=%{customdata[1]}<br>ISO=%{location}<extra></extra>\", \"hovertext\": [\"Malaysia\"], \"locations\": [\"MYS\"], \"name\": \"penang white curry\", \"showlegend\": true, \"showscale\": false, \"type\": \"choropleth\", \"z\": [1]}, {\"colorscale\": [[0.0, \"#FF0092\"], [1.0, \"#FF0092\"]], \"customdata\": [[3.25, \"rangers snack, coconut milk, shrimp tom yum\"]], \"geo\": \"geo\", \"hovertemplate\": \"<b>%{hovertext}</b><br><br>Main Theme=rangers snack<br>Main Theme Rating=%{customdata[0]}<br>Top 3 Themes=%{customdata[1]}<br>ISO=%{location}<extra></extra>\", \"hovertext\": [\"Myanmar\"], \"locations\": [\"MMR\"], \"name\": \"rangers snack\", \"showlegend\": true, \"showscale\": false, \"type\": \"choropleth\", \"z\": [1]}, {\"colorscale\": [[0.0, \"#22FFA7\"], [1.0, \"#22FFA7\"]], \"customdata\": [[3.25, \"oriental, island flavours, soup\"]], \"geo\": \"geo\", \"hovertemplate\": \"<b>%{hovertext}</b><br><br>Main Theme=oriental<br>Main Theme Rating=%{customdata[0]}<br>Top 3 Themes=%{customdata[1]}<br>ISO=%{location}<extra></extra>\", \"hovertext\": [\"Netherlands\"], \"locations\": [\"NLD\"], \"name\": \"oriental\", \"showlegend\": true, \"showscale\": false, \"type\": \"choropleth\", \"z\": [1]}, {\"colorscale\": [[0.0, \"#E3EE9E\"], [1.0, \"#E3EE9E\"]], \"customdata\": [[3.25, \"shoop, pizza, chatt patta\"]], \"geo\": \"geo\", \"hovertemplate\": \"<b>%{hovertext}</b><br><br>Main Theme=shoop<br>Main Theme Rating=%{customdata[0]}<br>Top 3 Themes=%{customdata[1]}<br>ISO=%{location}<extra></extra>\", \"hovertext\": [\"Pakistan\"], \"locations\": [\"PAK\"], \"name\": \"shoop\", \"showlegend\": true, \"showscale\": false, \"type\": \"choropleth\", \"z\": [1]}, {\"colorscale\": [[0.0, \"#86CE00\"], [1.0, \"#86CE00\"]], \"customdata\": [[3.25, \"ogorkowa, zurek, barszcz czerwony borscht\"]], \"geo\": \"geo\", \"hovertemplate\": \"<b>%{hovertext}</b><br><br>Main Theme=ogorkowa<br>Main Theme Rating=%{customdata[0]}<br>Top 3 Themes=%{customdata[1]}<br>ISO=%{location}<extra></extra>\", \"hovertext\": [\"Poland\"], \"locations\": [\"POL\"], \"name\": \"ogorkowa\", \"showlegend\": true, \"showscale\": false, \"type\": \"choropleth\", \"z\": [1]}, {\"colorscale\": [[0.0, \"#BC7196\"], [1.0, \"#BC7196\"]], \"customdata\": [[3.75, \"spicy, chicken, curry\"], [3.75, \"spicy, artificial, sesame\"]], \"geo\": \"geo\", \"hovertemplate\": \"<b>%{hovertext}</b><br><br>Main Theme=spicy<br>Main Theme Rating=%{customdata[0]}<br>Top 3 Themes=%{customdata[1]}<br>ISO=%{location}<extra></extra>\", \"hovertext\": [\"Singapore\", \"Taiwan\"], \"locations\": [\"SGP\", \"TWN\"], \"name\": \"spicy\", \"showlegend\": true, \"showscale\": false, \"type\": \"choropleth\", \"z\": [1, 1]}, {\"colorscale\": [[0.0, \"#7E7DCD\"], [1.0, \"#7E7DCD\"]], \"customdata\": [[4.0, \"ramyun, spicy, seafood\"]], \"geo\": \"geo\", \"hovertemplate\": \"<b>%{hovertext}</b><br><br>Main Theme=ramyun<br>Main Theme Rating=%{customdata[0]}<br>Top 3 Themes=%{customdata[1]}<br>ISO=%{location}<extra></extra>\", \"hovertext\": [\"Korea, Republic of\"], \"locations\": [\"KOR\"], \"name\": \"ramyun\", \"showlegend\": true, \"showscale\": false, \"type\": \"choropleth\", \"z\": [1]}, {\"colorscale\": [[0.0, \"#FC6955\"], [1.0, \"#FC6955\"]], \"customdata\": [[2.75, \"spicy chili, asia fast snabbnudlar, fast snabbnudlar r\\u00e4ksmak\"]], \"geo\": \"geo\", \"hovertemplate\": \"<b>%{hovertext}</b><br><br>Main Theme=spicy chili<br>Main Theme Rating=%{customdata[0]}<br>Top 3 Themes=%{customdata[1]}<br>ISO=%{location}<extra></extra>\", \"hovertext\": [\"Sweden\"], \"locations\": [\"SWE\"], \"name\": \"spicy chili\", \"showlegend\": true, \"showscale\": false, \"type\": \"choropleth\", \"z\": [1]}, {\"colorscale\": [[0.0, \"#E48F72\"], [1.0, \"#E48F72\"]], \"customdata\": [[3.75, \"tom yum, rice, pork\"]], \"geo\": \"geo\", \"hovertemplate\": \"<b>%{hovertext}</b><br><br>Main Theme=tom yum<br>Main Theme Rating=%{customdata[0]}<br>Top 3 Themes=%{customdata[1]}<br>ISO=%{location}<extra></extra>\", \"hovertext\": [\"Thailand\"], \"locations\": [\"THA\"], \"name\": \"tom yum\", \"showlegend\": true, \"showscale\": false, \"type\": \"choropleth\", \"z\": [1]}],\n",
       "                        {\"geo\": {\"center\": {}, \"domain\": {\"x\": [0.0, 1.0], \"y\": [0.0, 1.0]}}, \"legend\": {\"title\": {\"text\": \"Main Theme\"}, \"tracegroupgap\": 0}, \"margin\": {\"t\": 60}, \"template\": {\"data\": {\"bar\": [{\"error_x\": {\"color\": \"#2a3f5f\"}, \"error_y\": {\"color\": \"#2a3f5f\"}, \"marker\": {\"line\": {\"color\": \"#E5ECF6\", \"width\": 0.5}}, \"type\": \"bar\"}], \"barpolar\": [{\"marker\": {\"line\": {\"color\": \"#E5ECF6\", \"width\": 0.5}}, \"type\": \"barpolar\"}], \"carpet\": [{\"aaxis\": {\"endlinecolor\": \"#2a3f5f\", \"gridcolor\": \"white\", \"linecolor\": \"white\", \"minorgridcolor\": \"white\", \"startlinecolor\": \"#2a3f5f\"}, \"baxis\": {\"endlinecolor\": \"#2a3f5f\", \"gridcolor\": \"white\", \"linecolor\": \"white\", \"minorgridcolor\": \"white\", \"startlinecolor\": \"#2a3f5f\"}, \"type\": \"carpet\"}], \"choropleth\": [{\"colorbar\": {\"outlinewidth\": 0, \"ticks\": \"\"}, \"type\": \"choropleth\"}], \"contour\": [{\"colorbar\": {\"outlinewidth\": 0, \"ticks\": \"\"}, \"colorscale\": [[0.0, \"#0d0887\"], [0.1111111111111111, \"#46039f\"], [0.2222222222222222, \"#7201a8\"], [0.3333333333333333, \"#9c179e\"], [0.4444444444444444, \"#bd3786\"], [0.5555555555555556, \"#d8576b\"], [0.6666666666666666, \"#ed7953\"], [0.7777777777777778, \"#fb9f3a\"], [0.8888888888888888, \"#fdca26\"], [1.0, \"#f0f921\"]], \"type\": \"contour\"}], \"contourcarpet\": [{\"colorbar\": {\"outlinewidth\": 0, \"ticks\": \"\"}, \"type\": \"contourcarpet\"}], \"heatmap\": [{\"colorbar\": {\"outlinewidth\": 0, \"ticks\": \"\"}, \"colorscale\": [[0.0, \"#0d0887\"], [0.1111111111111111, \"#46039f\"], [0.2222222222222222, \"#7201a8\"], [0.3333333333333333, \"#9c179e\"], [0.4444444444444444, \"#bd3786\"], [0.5555555555555556, \"#d8576b\"], [0.6666666666666666, \"#ed7953\"], [0.7777777777777778, \"#fb9f3a\"], [0.8888888888888888, \"#fdca26\"], [1.0, \"#f0f921\"]], \"type\": \"heatmap\"}], \"heatmapgl\": [{\"colorbar\": {\"outlinewidth\": 0, \"ticks\": \"\"}, \"colorscale\": [[0.0, \"#0d0887\"], [0.1111111111111111, \"#46039f\"], [0.2222222222222222, \"#7201a8\"], [0.3333333333333333, \"#9c179e\"], [0.4444444444444444, \"#bd3786\"], [0.5555555555555556, \"#d8576b\"], [0.6666666666666666, \"#ed7953\"], [0.7777777777777778, \"#fb9f3a\"], [0.8888888888888888, \"#fdca26\"], [1.0, \"#f0f921\"]], \"type\": \"heatmapgl\"}], \"histogram\": [{\"marker\": {\"colorbar\": {\"outlinewidth\": 0, \"ticks\": \"\"}}, \"type\": \"histogram\"}], \"histogram2d\": [{\"colorbar\": {\"outlinewidth\": 0, \"ticks\": \"\"}, \"colorscale\": [[0.0, \"#0d0887\"], [0.1111111111111111, \"#46039f\"], [0.2222222222222222, \"#7201a8\"], [0.3333333333333333, \"#9c179e\"], [0.4444444444444444, \"#bd3786\"], [0.5555555555555556, \"#d8576b\"], [0.6666666666666666, \"#ed7953\"], [0.7777777777777778, \"#fb9f3a\"], [0.8888888888888888, \"#fdca26\"], [1.0, \"#f0f921\"]], \"type\": \"histogram2d\"}], \"histogram2dcontour\": [{\"colorbar\": {\"outlinewidth\": 0, \"ticks\": \"\"}, \"colorscale\": [[0.0, \"#0d0887\"], [0.1111111111111111, \"#46039f\"], [0.2222222222222222, \"#7201a8\"], [0.3333333333333333, \"#9c179e\"], [0.4444444444444444, \"#bd3786\"], [0.5555555555555556, \"#d8576b\"], [0.6666666666666666, \"#ed7953\"], [0.7777777777777778, \"#fb9f3a\"], [0.8888888888888888, \"#fdca26\"], [1.0, \"#f0f921\"]], \"type\": \"histogram2dcontour\"}], \"mesh3d\": [{\"colorbar\": {\"outlinewidth\": 0, \"ticks\": \"\"}, \"type\": \"mesh3d\"}], \"parcoords\": [{\"line\": {\"colorbar\": {\"outlinewidth\": 0, \"ticks\": \"\"}}, \"type\": \"parcoords\"}], \"pie\": [{\"automargin\": true, \"type\": \"pie\"}], \"scatter\": [{\"marker\": {\"colorbar\": {\"outlinewidth\": 0, \"ticks\": \"\"}}, \"type\": \"scatter\"}], \"scatter3d\": [{\"line\": {\"colorbar\": {\"outlinewidth\": 0, \"ticks\": \"\"}}, \"marker\": {\"colorbar\": {\"outlinewidth\": 0, \"ticks\": \"\"}}, \"type\": \"scatter3d\"}], \"scattercarpet\": [{\"marker\": {\"colorbar\": {\"outlinewidth\": 0, \"ticks\": \"\"}}, \"type\": \"scattercarpet\"}], \"scattergeo\": [{\"marker\": {\"colorbar\": {\"outlinewidth\": 0, \"ticks\": \"\"}}, \"type\": \"scattergeo\"}], \"scattergl\": [{\"marker\": {\"colorbar\": {\"outlinewidth\": 0, \"ticks\": \"\"}}, \"type\": \"scattergl\"}], \"scattermapbox\": [{\"marker\": {\"colorbar\": {\"outlinewidth\": 0, \"ticks\": \"\"}}, \"type\": \"scattermapbox\"}], \"scatterpolar\": [{\"marker\": {\"colorbar\": {\"outlinewidth\": 0, \"ticks\": \"\"}}, \"type\": \"scatterpolar\"}], \"scatterpolargl\": [{\"marker\": {\"colorbar\": {\"outlinewidth\": 0, \"ticks\": \"\"}}, \"type\": \"scatterpolargl\"}], \"scatterternary\": [{\"marker\": {\"colorbar\": {\"outlinewidth\": 0, \"ticks\": \"\"}}, \"type\": \"scatterternary\"}], \"surface\": [{\"colorbar\": {\"outlinewidth\": 0, \"ticks\": \"\"}, \"colorscale\": [[0.0, \"#0d0887\"], [0.1111111111111111, \"#46039f\"], [0.2222222222222222, \"#7201a8\"], [0.3333333333333333, \"#9c179e\"], [0.4444444444444444, \"#bd3786\"], [0.5555555555555556, \"#d8576b\"], [0.6666666666666666, \"#ed7953\"], [0.7777777777777778, \"#fb9f3a\"], [0.8888888888888888, \"#fdca26\"], [1.0, \"#f0f921\"]], \"type\": \"surface\"}], \"table\": [{\"cells\": {\"fill\": {\"color\": \"#EBF0F8\"}, \"line\": {\"color\": \"white\"}}, \"header\": {\"fill\": {\"color\": \"#C8D4E3\"}, \"line\": {\"color\": \"white\"}}, \"type\": \"table\"}]}, \"layout\": {\"annotationdefaults\": {\"arrowcolor\": \"#2a3f5f\", \"arrowhead\": 0, \"arrowwidth\": 1}, \"coloraxis\": {\"colorbar\": {\"outlinewidth\": 0, \"ticks\": \"\"}}, \"colorscale\": {\"diverging\": [[0, \"#8e0152\"], [0.1, \"#c51b7d\"], [0.2, \"#de77ae\"], [0.3, \"#f1b6da\"], [0.4, \"#fde0ef\"], [0.5, \"#f7f7f7\"], [0.6, \"#e6f5d0\"], [0.7, \"#b8e186\"], [0.8, \"#7fbc41\"], [0.9, \"#4d9221\"], [1, \"#276419\"]], \"sequential\": [[0.0, \"#0d0887\"], [0.1111111111111111, \"#46039f\"], [0.2222222222222222, \"#7201a8\"], [0.3333333333333333, \"#9c179e\"], [0.4444444444444444, \"#bd3786\"], [0.5555555555555556, \"#d8576b\"], [0.6666666666666666, \"#ed7953\"], [0.7777777777777778, \"#fb9f3a\"], [0.8888888888888888, \"#fdca26\"], [1.0, \"#f0f921\"]], \"sequentialminus\": [[0.0, \"#0d0887\"], [0.1111111111111111, \"#46039f\"], [0.2222222222222222, \"#7201a8\"], [0.3333333333333333, \"#9c179e\"], [0.4444444444444444, \"#bd3786\"], [0.5555555555555556, \"#d8576b\"], [0.6666666666666666, \"#ed7953\"], [0.7777777777777778, \"#fb9f3a\"], [0.8888888888888888, \"#fdca26\"], [1.0, \"#f0f921\"]]}, \"colorway\": [\"#636efa\", \"#EF553B\", \"#00cc96\", \"#ab63fa\", \"#FFA15A\", \"#19d3f3\", \"#FF6692\", \"#B6E880\", \"#FF97FF\", \"#FECB52\"], \"font\": {\"color\": \"#2a3f5f\"}, \"geo\": {\"bgcolor\": \"white\", \"lakecolor\": \"white\", \"landcolor\": \"#E5ECF6\", \"showlakes\": true, \"showland\": true, \"subunitcolor\": \"white\"}, \"hoverlabel\": {\"align\": \"left\"}, \"hovermode\": \"closest\", \"mapbox\": {\"style\": \"light\"}, \"paper_bgcolor\": \"white\", \"plot_bgcolor\": \"#E5ECF6\", \"polar\": {\"angularaxis\": {\"gridcolor\": \"white\", \"linecolor\": \"white\", \"ticks\": \"\"}, \"bgcolor\": \"#E5ECF6\", \"radialaxis\": {\"gridcolor\": \"white\", \"linecolor\": \"white\", \"ticks\": \"\"}}, \"scene\": {\"xaxis\": {\"backgroundcolor\": \"#E5ECF6\", \"gridcolor\": \"white\", \"gridwidth\": 2, \"linecolor\": \"white\", \"showbackground\": true, \"ticks\": \"\", \"zerolinecolor\": \"white\"}, \"yaxis\": {\"backgroundcolor\": \"#E5ECF6\", \"gridcolor\": \"white\", \"gridwidth\": 2, \"linecolor\": \"white\", \"showbackground\": true, \"ticks\": \"\", \"zerolinecolor\": \"white\"}, \"zaxis\": {\"backgroundcolor\": \"#E5ECF6\", \"gridcolor\": \"white\", \"gridwidth\": 2, \"linecolor\": \"white\", \"showbackground\": true, \"ticks\": \"\", \"zerolinecolor\": \"white\"}}, \"shapedefaults\": {\"line\": {\"color\": \"#2a3f5f\"}}, \"ternary\": {\"aaxis\": {\"gridcolor\": \"white\", \"linecolor\": \"white\", \"ticks\": \"\"}, \"baxis\": {\"gridcolor\": \"white\", \"linecolor\": \"white\", \"ticks\": \"\"}, \"bgcolor\": \"#E5ECF6\", \"caxis\": {\"gridcolor\": \"white\", \"linecolor\": \"white\", \"ticks\": \"\"}}, \"title\": {\"x\": 0.05}, \"xaxis\": {\"automargin\": true, \"gridcolor\": \"white\", \"linecolor\": \"white\", \"ticks\": \"\", \"title\": {\"standoff\": 15}, \"zerolinecolor\": \"white\", \"zerolinewidth\": 2}, \"yaxis\": {\"automargin\": true, \"gridcolor\": \"white\", \"linecolor\": \"white\", \"ticks\": \"\", \"title\": {\"standoff\": 15}, \"zerolinecolor\": \"white\", \"zerolinewidth\": 2}}}, \"title\": {\"text\": \"Popular Ramen themes of the world!\"}},\n",
       "                        {\"responsive\": true}\n",
       "                    ).then(function(){\n",
       "                            \n",
       "var gd = document.getElementById('07b24bf5-1a6a-411d-8650-e4e68e69fe39');\n",
       "var x = new MutationObserver(function (mutations, observer) {{\n",
       "        var display = window.getComputedStyle(gd).display;\n",
       "        if (!display || display === 'none') {{\n",
       "            console.log([gd, 'removed!']);\n",
       "            Plotly.purge(gd);\n",
       "            observer.disconnect();\n",
       "        }}\n",
       "}});\n",
       "\n",
       "// Listen for the removal of the full notebook cells\n",
       "var notebookContainer = gd.closest('#notebook-container');\n",
       "if (notebookContainer) {{\n",
       "    x.observe(notebookContainer, {childList: true});\n",
       "}}\n",
       "\n",
       "// Listen for the clearing of the current output cell\n",
       "var outputEl = gd.closest('.output');\n",
       "if (outputEl) {{\n",
       "    x.observe(outputEl, {childList: true});\n",
       "}}\n",
       "\n",
       "                        })\n",
       "                };\n",
       "                });\n",
       "            </script>\n",
       "        </div>"
      ]
     },
     "metadata": {},
     "output_type": "display_data"
    }
   ],
   "source": [
    "import plotly.express as px\n",
    "\n",
    "#df = px.data.gapminder().query(\"year==2007\")\n",
    "fig = px.choropleth(word_country_df, locations=\"ISO\",\n",
    "                    color=\"Main Theme\", # lifeExp is a column of gapminder\n",
    "                    hover_name=\"Country\", # column to add to hover information\n",
    "                    hover_data=[\"Main Theme Rating\", \"Top 3 Themes\"],\n",
    "                    color_discrete_sequence=px.colors.qualitative.Light24)\n",
    "\n",
    "fig.update_layout(\n",
    "    title_text = 'Popular Ramen themes of the world!',\n",
    ")\n",
    "fig.show()"
   ]
  },
  {
   "cell_type": "code",
   "execution_count": 272,
   "metadata": {},
   "outputs": [],
   "source": [
    "import chart_studio\n",
    "import os\n",
    "username = 'kdhawan' # your username\n",
    "api_key = '4aoJcDQnfpj76EtCTTz1' # your api key - go to profile > settings > regenerate key\n",
    "chart_studio.tools.set_credentials_file(username=username, api_key=api_key,)\n",
    "\n",
    "os.environ['REQUESTS_CA_BUNDLE'] = '/Users/kdhawan/Desktop/cacert.pem'"
   ]
  },
  {
   "cell_type": "code",
   "execution_count": 273,
   "metadata": {},
   "outputs": [
    {
     "data": {
      "text/plain": [
       "'https://plotly.com/~kdhawan/0/'"
      ]
     },
     "execution_count": 273,
     "metadata": {},
     "output_type": "execute_result"
    }
   ],
   "source": [
    "import chart_studio.plotly as py\n",
    "py.plot(fig, filename = 'ramen_in_world', auto_open=True)"
   ]
  },
  {
   "cell_type": "code",
   "execution_count": 208,
   "metadata": {},
   "outputs": [],
   "source": [
    "threshold = 0.1\n",
    "all_words = generate_concatenated_word_df(ratings, threshold)\n",
    "all_words_sorted = all_words.sort_values(by='Median Rating', ascending = False)\n",
    "all_words_sorted_20 = all_words_sorted.head(20)"
   ]
  },
  {
   "cell_type": "code",
   "execution_count": 132,
   "metadata": {},
   "outputs": [
    {
     "data": {
      "image/png": "[encoded data removed]",
      "text/plain": [
       "<Figure size 1080x576 with 2 Axes>"
      ]
     },
     "metadata": {
      "needs_background": "light"
     },
     "output_type": "display_data"
    }
   ],
   "source": [
    "count_avg_plot(all_words_sorted_20, \"Word\", \"Frequency\", \"Highest Rated Words\", \"Median Rating\")"
   ]
  },
  {
   "cell_type": "code",
   "execution_count": 137,
   "metadata": {},
   "outputs": [
    {
     "data": {
      "text/html": [
       "<div>\n",
       "<style scoped>\n",
       "    .dataframe tbody tr th:only-of-type {\n",
       "        vertical-align: middle;\n",
       "    }\n",
       "\n",
       "    .dataframe tbody tr th {\n",
       "        vertical-align: top;\n",
       "    }\n",
       "\n",
       "    .dataframe thead th {\n",
       "        text-align: right;\n",
       "    }\n",
       "</style>\n",
       "<table border=\"1\" class=\"dataframe\">\n",
       "  <thead>\n",
       "    <tr style=\"text-align: right;\">\n",
       "      <th></th>\n",
       "      <th>Word</th>\n",
       "      <th>Frequency</th>\n",
       "      <th>Mean Rating</th>\n",
       "      <th>Median Rating</th>\n",
       "    </tr>\n",
       "  </thead>\n",
       "  <tbody>\n",
       "    <tr>\n",
       "      <th>63</th>\n",
       "      <td>garlic</td>\n",
       "      <td>25.0</td>\n",
       "      <td>3.750000</td>\n",
       "      <td>3.75</td>\n",
       "    </tr>\n",
       "    <tr>\n",
       "      <th>40</th>\n",
       "      <td>onion</td>\n",
       "      <td>37.0</td>\n",
       "      <td>3.504054</td>\n",
       "      <td>3.75</td>\n",
       "    </tr>\n",
       "    <tr>\n",
       "      <th>87</th>\n",
       "      <td>shio</td>\n",
       "      <td>18.0</td>\n",
       "      <td>4.302632</td>\n",
       "      <td>4.50</td>\n",
       "    </tr>\n",
       "    <tr>\n",
       "      <th>52</th>\n",
       "      <td>crab</td>\n",
       "      <td>32.0</td>\n",
       "      <td>3.814516</td>\n",
       "      <td>3.75</td>\n",
       "    </tr>\n",
       "    <tr>\n",
       "      <th>0</th>\n",
       "      <td>penang white curry</td>\n",
       "      <td>20.0</td>\n",
       "      <td>4.887500</td>\n",
       "      <td>5.00</td>\n",
       "    </tr>\n",
       "  </tbody>\n",
       "</table>\n",
       "</div>"
      ],
      "text/plain": [
       "                  Word  Frequency  Mean Rating  Median Rating\n",
       "63              garlic       25.0     3.750000           3.75\n",
       "40               onion       37.0     3.504054           3.75\n",
       "87                shio       18.0     4.302632           4.50\n",
       "52                crab       32.0     3.814516           3.75\n",
       "0   penang white curry       20.0     4.887500           5.00"
      ]
     },
     "execution_count": 137,
     "metadata": {},
     "output_type": "execute_result"
    }
   ],
   "source": [
    "all_words_sorted.sample(5)"
   ]
  },
  {
   "cell_type": "code",
   "execution_count": 229,
   "metadata": {},
   "outputs": [
    {
     "data": {
      "text/html": [
       "<div>\n",
       "<style scoped>\n",
       "    .dataframe tbody tr th:only-of-type {\n",
       "        vertical-align: middle;\n",
       "    }\n",
       "\n",
       "    .dataframe tbody tr th {\n",
       "        vertical-align: top;\n",
       "    }\n",
       "\n",
       "    .dataframe thead th {\n",
       "        text-align: right;\n",
       "    }\n",
       "</style>\n",
       "<table border=\"1\" class=\"dataframe\">\n",
       "  <thead>\n",
       "    <tr style=\"text-align: right;\">\n",
       "      <th></th>\n",
       "      <th>Word</th>\n",
       "      <th>Frequency</th>\n",
       "      <th>Mean Rating</th>\n",
       "      <th>Median Rating</th>\n",
       "    </tr>\n",
       "  </thead>\n",
       "  <tbody>\n",
       "    <tr>\n",
       "      <th>123</th>\n",
       "      <td>singapore</td>\n",
       "      <td>13.0</td>\n",
       "      <td>4.553571</td>\n",
       "      <td>5.000</td>\n",
       "    </tr>\n",
       "    <tr>\n",
       "      <th>25</th>\n",
       "      <td>penang</td>\n",
       "      <td>54.0</td>\n",
       "      <td>4.675926</td>\n",
       "      <td>5.000</td>\n",
       "    </tr>\n",
       "    <tr>\n",
       "      <th>146</th>\n",
       "      <td>aloe</td>\n",
       "      <td>11.0</td>\n",
       "      <td>4.340909</td>\n",
       "      <td>5.000</td>\n",
       "    </tr>\n",
       "    <tr>\n",
       "      <th>0</th>\n",
       "      <td>penang white curry</td>\n",
       "      <td>19.0</td>\n",
       "      <td>4.887500</td>\n",
       "      <td>5.000</td>\n",
       "    </tr>\n",
       "    <tr>\n",
       "      <th>55</th>\n",
       "      <td>taste</td>\n",
       "      <td>32.0</td>\n",
       "      <td>4.492188</td>\n",
       "      <td>5.000</td>\n",
       "    </tr>\n",
       "    <tr>\n",
       "      <th>132</th>\n",
       "      <td>veggie</td>\n",
       "      <td>12.0</td>\n",
       "      <td>4.187500</td>\n",
       "      <td>5.000</td>\n",
       "    </tr>\n",
       "    <tr>\n",
       "      <th>149</th>\n",
       "      <td>jumbo</td>\n",
       "      <td>11.0</td>\n",
       "      <td>4.500000</td>\n",
       "      <td>5.000</td>\n",
       "    </tr>\n",
       "    <tr>\n",
       "      <th>103</th>\n",
       "      <td>raoh</td>\n",
       "      <td>16.0</td>\n",
       "      <td>4.781250</td>\n",
       "      <td>5.000</td>\n",
       "    </tr>\n",
       "    <tr>\n",
       "      <th>144</th>\n",
       "      <td>sichuan</td>\n",
       "      <td>11.0</td>\n",
       "      <td>3.977273</td>\n",
       "      <td>4.750</td>\n",
       "    </tr>\n",
       "    <tr>\n",
       "      <th>115</th>\n",
       "      <td>chef</td>\n",
       "      <td>15.0</td>\n",
       "      <td>4.383333</td>\n",
       "      <td>4.750</td>\n",
       "    </tr>\n",
       "    <tr>\n",
       "      <th>43</th>\n",
       "      <td>creamy</td>\n",
       "      <td>36.0</td>\n",
       "      <td>4.319444</td>\n",
       "      <td>4.750</td>\n",
       "    </tr>\n",
       "    <tr>\n",
       "      <th>89</th>\n",
       "      <td>shio</td>\n",
       "      <td>18.0</td>\n",
       "      <td>4.302632</td>\n",
       "      <td>4.500</td>\n",
       "    </tr>\n",
       "    <tr>\n",
       "      <th>96</th>\n",
       "      <td>authentic</td>\n",
       "      <td>17.0</td>\n",
       "      <td>3.970588</td>\n",
       "      <td>4.500</td>\n",
       "    </tr>\n",
       "    <tr>\n",
       "      <th>1</th>\n",
       "      <td>mi goreng</td>\n",
       "      <td>56.0</td>\n",
       "      <td>4.233036</td>\n",
       "      <td>4.400</td>\n",
       "    </tr>\n",
       "    <tr>\n",
       "      <th>66</th>\n",
       "      <td>prawn</td>\n",
       "      <td>25.0</td>\n",
       "      <td>4.120000</td>\n",
       "      <td>4.250</td>\n",
       "    </tr>\n",
       "    <tr>\n",
       "      <th>46</th>\n",
       "      <td>laksa</td>\n",
       "      <td>35.0</td>\n",
       "      <td>4.185714</td>\n",
       "      <td>4.250</td>\n",
       "    </tr>\n",
       "    <tr>\n",
       "      <th>22</th>\n",
       "      <td>fried</td>\n",
       "      <td>57.0</td>\n",
       "      <td>4.166667</td>\n",
       "      <td>4.250</td>\n",
       "    </tr>\n",
       "    <tr>\n",
       "      <th>8</th>\n",
       "      <td>curry</td>\n",
       "      <td>127.0</td>\n",
       "      <td>4.121032</td>\n",
       "      <td>4.250</td>\n",
       "    </tr>\n",
       "    <tr>\n",
       "      <th>24</th>\n",
       "      <td>tonkotsu</td>\n",
       "      <td>54.0</td>\n",
       "      <td>4.159259</td>\n",
       "      <td>4.150</td>\n",
       "    </tr>\n",
       "    <tr>\n",
       "      <th>99</th>\n",
       "      <td>version</td>\n",
       "      <td>16.0</td>\n",
       "      <td>4.296875</td>\n",
       "      <td>4.125</td>\n",
       "    </tr>\n",
       "  </tbody>\n",
       "</table>\n",
       "</div>"
      ],
      "text/plain": [
       "                   Word  Frequency  Mean Rating  Median Rating\n",
       "123           singapore       13.0     4.553571          5.000\n",
       "25               penang       54.0     4.675926          5.000\n",
       "146                aloe       11.0     4.340909          5.000\n",
       "0    penang white curry       19.0     4.887500          5.000\n",
       "55                taste       32.0     4.492188          5.000\n",
       "132              veggie       12.0     4.187500          5.000\n",
       "149               jumbo       11.0     4.500000          5.000\n",
       "103                raoh       16.0     4.781250          5.000\n",
       "144             sichuan       11.0     3.977273          4.750\n",
       "115                chef       15.0     4.383333          4.750\n",
       "43               creamy       36.0     4.319444          4.750\n",
       "89                 shio       18.0     4.302632          4.500\n",
       "96            authentic       17.0     3.970588          4.500\n",
       "1             mi goreng       56.0     4.233036          4.400\n",
       "66                prawn       25.0     4.120000          4.250\n",
       "46                laksa       35.0     4.185714          4.250\n",
       "22                fried       57.0     4.166667          4.250\n",
       "8                 curry      127.0     4.121032          4.250\n",
       "24             tonkotsu       54.0     4.159259          4.150\n",
       "99              version       16.0     4.296875          4.125"
      ]
     },
     "execution_count": 229,
     "metadata": {},
     "output_type": "execute_result"
    }
   ],
   "source": [
    "all_words[all_words.Frequency > 10].sort_values(by=['Median Rating'], ascending=False).head(20)"
   ]
  },
  {
   "cell_type": "code",
   "execution_count": 238,
   "metadata": {},
   "outputs": [
    {
     "data": {
      "text/html": [
       "<div>\n",
       "<style scoped>\n",
       "    .dataframe tbody tr th:only-of-type {\n",
       "        vertical-align: middle;\n",
       "    }\n",
       "\n",
       "    .dataframe tbody tr th {\n",
       "        vertical-align: top;\n",
       "    }\n",
       "\n",
       "    .dataframe thead th {\n",
       "        text-align: right;\n",
       "    }\n",
       "</style>\n",
       "<table border=\"1\" class=\"dataframe\">\n",
       "  <thead>\n",
       "    <tr style=\"text-align: right;\">\n",
       "      <th></th>\n",
       "      <th>Review #</th>\n",
       "      <th>Brand</th>\n",
       "      <th>Variety</th>\n",
       "      <th>Style</th>\n",
       "      <th>Country</th>\n",
       "      <th>Stars</th>\n",
       "      <th>Top Ten</th>\n",
       "    </tr>\n",
       "  </thead>\n",
       "  <tbody>\n",
       "    <tr>\n",
       "      <th>142</th>\n",
       "      <td>2438</td>\n",
       "      <td>world o' noodle</td>\n",
       "      <td>mi goreng original flavour fried noodles</td>\n",
       "      <td>Pack</td>\n",
       "      <td>Indonesia</td>\n",
       "      <td>5.0</td>\n",
       "      <td>NaN</td>\n",
       "    </tr>\n",
       "    <tr>\n",
       "      <th>977</th>\n",
       "      <td>1603</td>\n",
       "      <td>salam mie</td>\n",
       "      <td>mi goreng ala jawa dengan sambal cabe asli</td>\n",
       "      <td>Pack</td>\n",
       "      <td>Indonesia</td>\n",
       "      <td>5.0</td>\n",
       "      <td>NaN</td>\n",
       "    </tr>\n",
       "    <tr>\n",
       "      <th>2533</th>\n",
       "      <td>47</td>\n",
       "      <td>indomie</td>\n",
       "      <td>mi goreng jumbo barbecue chicken</td>\n",
       "      <td>Pack</td>\n",
       "      <td>Indonesia</td>\n",
       "      <td>5.0</td>\n",
       "      <td>2012 #2</td>\n",
       "    </tr>\n",
       "    <tr>\n",
       "      <th>2530</th>\n",
       "      <td>50</td>\n",
       "      <td>indomie</td>\n",
       "      <td>mi goreng</td>\n",
       "      <td>Pack</td>\n",
       "      <td>Indonesia</td>\n",
       "      <td>5.0</td>\n",
       "      <td>NaN</td>\n",
       "    </tr>\n",
       "    <tr>\n",
       "      <th>2440</th>\n",
       "      <td>140</td>\n",
       "      <td>mama</td>\n",
       "      <td>mi goreng</td>\n",
       "      <td>Pack</td>\n",
       "      <td>Thailand</td>\n",
       "      <td>5.0</td>\n",
       "      <td>NaN</td>\n",
       "    </tr>\n",
       "  </tbody>\n",
       "</table>\n",
       "</div>"
      ],
      "text/plain": [
       "      Review #            Brand                                     Variety  \\\n",
       "142       2438  world o' noodle    mi goreng original flavour fried noodles   \n",
       "977       1603        salam mie  mi goreng ala jawa dengan sambal cabe asli   \n",
       "2533        47          indomie            mi goreng jumbo barbecue chicken   \n",
       "2530        50          indomie                                   mi goreng   \n",
       "2440       140             mama                                   mi goreng   \n",
       "\n",
       "     Style    Country  Stars  Top Ten  \n",
       "142   Pack  Indonesia    5.0      NaN  \n",
       "977   Pack  Indonesia    5.0      NaN  \n",
       "2533  Pack  Indonesia    5.0  2012 #2  \n",
       "2530  Pack  Indonesia    5.0      NaN  \n",
       "2440  Pack   Thailand    5.0      NaN  "
      ]
     },
     "execution_count": 238,
     "metadata": {},
     "output_type": "execute_result"
    }
   ],
   "source": [
    "get_df_words('mi goreng', ratings).sort_values(by='Stars', ascending = False).head()"
   ]
  },
  {
   "cell_type": "code",
   "execution_count": 25,
   "metadata": {},
   "outputs": [
    {
     "data": {
      "text/html": [
       "<div>\n",
       "<style scoped>\n",
       "    .dataframe tbody tr th:only-of-type {\n",
       "        vertical-align: middle;\n",
       "    }\n",
       "\n",
       "    .dataframe tbody tr th {\n",
       "        vertical-align: top;\n",
       "    }\n",
       "\n",
       "    .dataframe thead th {\n",
       "        text-align: right;\n",
       "    }\n",
       "</style>\n",
       "<table border=\"1\" class=\"dataframe\">\n",
       "  <thead>\n",
       "    <tr style=\"text-align: right;\">\n",
       "      <th></th>\n",
       "      <th>Review #</th>\n",
       "      <th>Brand</th>\n",
       "      <th>Variety</th>\n",
       "      <th>Style</th>\n",
       "      <th>Country</th>\n",
       "      <th>Stars</th>\n",
       "      <th>Top Ten</th>\n",
       "      <th>Varity Tokenized</th>\n",
       "      <th>Variety Bigrams</th>\n",
       "      <th>Variety Trigrams</th>\n",
       "    </tr>\n",
       "  </thead>\n",
       "  <tbody>\n",
       "    <tr>\n",
       "      <th>11</th>\n",
       "      <td>2569</td>\n",
       "      <td>yamachan</td>\n",
       "      <td>yokohama tonkotsu shoyu</td>\n",
       "      <td>Pack</td>\n",
       "      <td>USA</td>\n",
       "      <td>5.0</td>\n",
       "      <td>NaN</td>\n",
       "      <td>[yokohama, tonkotsu, shoyu]</td>\n",
       "      <td>[(yokohama, tonkotsu), (tonkotsu, shoyu)]</td>\n",
       "      <td>[(yokohama, tonkotsu, shoyu)]</td>\n",
       "    </tr>\n",
       "    <tr>\n",
       "      <th>1095</th>\n",
       "      <td>1485</td>\n",
       "      <td>nongshim</td>\n",
       "      <td>spicy tonkotsu noodle soup</td>\n",
       "      <td>Pack</td>\n",
       "      <td>USA</td>\n",
       "      <td>5.0</td>\n",
       "      <td>NaN</td>\n",
       "      <td>[spicy, tonkotsu, noodle, soup]</td>\n",
       "      <td>[(spicy, tonkotsu), (tonkotsu, noodle), (noodl...</td>\n",
       "      <td>[(spicy, tonkotsu, noodle), (tonkotsu, noodle,...</td>\n",
       "    </tr>\n",
       "    <tr>\n",
       "      <th>525</th>\n",
       "      <td>2055</td>\n",
       "      <td>nissin</td>\n",
       "      <td>tokyo tokunou gyokai tonkotsu</td>\n",
       "      <td>Bowl</td>\n",
       "      <td>Japan</td>\n",
       "      <td>5.0</td>\n",
       "      <td>NaN</td>\n",
       "      <td>[tokyo, tokunou, gyokai, tonkotsu]</td>\n",
       "      <td>[(tokyo, tokunou), (tokunou, gyokai), (gyokai,...</td>\n",
       "      <td>[(tokyo, tokunou, gyokai), (tokunou, gyokai, t...</td>\n",
       "    </tr>\n",
       "    <tr>\n",
       "      <th>514</th>\n",
       "      <td>2066</td>\n",
       "      <td>marutai</td>\n",
       "      <td>hakata tonkotsu ramen</td>\n",
       "      <td>Pack</td>\n",
       "      <td>Japan</td>\n",
       "      <td>5.0</td>\n",
       "      <td>NaN</td>\n",
       "      <td>[hakata, tonkotsu, ramen]</td>\n",
       "      <td>[(hakata, tonkotsu), (tonkotsu, ramen)]</td>\n",
       "      <td>[(hakata, tonkotsu, ramen)]</td>\n",
       "    </tr>\n",
       "    <tr>\n",
       "      <th>496</th>\n",
       "      <td>2084</td>\n",
       "      <td>nissin</td>\n",
       "      <td>demae ramen straight noodle kyushu tonkotsu in...</td>\n",
       "      <td>Pack</td>\n",
       "      <td>Hong Kong</td>\n",
       "      <td>5.0</td>\n",
       "      <td>NaN</td>\n",
       "      <td>[demae, ramen, straight, noodle, kyushu, tonko...</td>\n",
       "      <td>[(demae, ramen), (ramen, straight), (straight,...</td>\n",
       "      <td>[(demae, ramen, straight), (ramen, straight, n...</td>\n",
       "    </tr>\n",
       "  </tbody>\n",
       "</table>\n",
       "</div>"
      ],
      "text/plain": [
       "      Review #     Brand                                            Variety  \\\n",
       "11        2569  yamachan                            yokohama tonkotsu shoyu   \n",
       "1095      1485  nongshim                         spicy tonkotsu noodle soup   \n",
       "525       2055    nissin                      tokyo tokunou gyokai tonkotsu   \n",
       "514       2066   marutai                              hakata tonkotsu ramen   \n",
       "496       2084    nissin  demae ramen straight noodle kyushu tonkotsu in...   \n",
       "\n",
       "     Style    Country  Stars Top Ten  \\\n",
       "11    Pack        USA    5.0     NaN   \n",
       "1095  Pack        USA    5.0     NaN   \n",
       "525   Bowl      Japan    5.0     NaN   \n",
       "514   Pack      Japan    5.0     NaN   \n",
       "496   Pack  Hong Kong    5.0     NaN   \n",
       "\n",
       "                                       Varity Tokenized  \\\n",
       "11                          [yokohama, tonkotsu, shoyu]   \n",
       "1095                    [spicy, tonkotsu, noodle, soup]   \n",
       "525                  [tokyo, tokunou, gyokai, tonkotsu]   \n",
       "514                           [hakata, tonkotsu, ramen]   \n",
       "496   [demae, ramen, straight, noodle, kyushu, tonko...   \n",
       "\n",
       "                                        Variety Bigrams  \\\n",
       "11            [(yokohama, tonkotsu), (tonkotsu, shoyu)]   \n",
       "1095  [(spicy, tonkotsu), (tonkotsu, noodle), (noodl...   \n",
       "525   [(tokyo, tokunou), (tokunou, gyokai), (gyokai,...   \n",
       "514             [(hakata, tonkotsu), (tonkotsu, ramen)]   \n",
       "496   [(demae, ramen), (ramen, straight), (straight,...   \n",
       "\n",
       "                                       Variety Trigrams  \n",
       "11                        [(yokohama, tonkotsu, shoyu)]  \n",
       "1095  [(spicy, tonkotsu, noodle), (tonkotsu, noodle,...  \n",
       "525   [(tokyo, tokunou, gyokai), (tokunou, gyokai, t...  \n",
       "514                         [(hakata, tonkotsu, ramen)]  \n",
       "496   [(demae, ramen, straight), (ramen, straight, n...  "
      ]
     },
     "execution_count": 25,
     "metadata": {},
     "output_type": "execute_result"
    }
   ],
   "source": [
    "get_df_words('tonkotsu', ratings).sort_values(by='Stars', ascending = False).head()"
   ]
  },
  {
   "cell_type": "code",
   "execution_count": 142,
   "metadata": {},
   "outputs": [
    {
     "data": {
      "text/html": [
       "<div>\n",
       "<style scoped>\n",
       "    .dataframe tbody tr th:only-of-type {\n",
       "        vertical-align: middle;\n",
       "    }\n",
       "\n",
       "    .dataframe tbody tr th {\n",
       "        vertical-align: top;\n",
       "    }\n",
       "\n",
       "    .dataframe thead th {\n",
       "        text-align: right;\n",
       "    }\n",
       "</style>\n",
       "<table border=\"1\" class=\"dataframe\">\n",
       "  <thead>\n",
       "    <tr style=\"text-align: right;\">\n",
       "      <th></th>\n",
       "      <th>Review #</th>\n",
       "      <th>Brand</th>\n",
       "      <th>Variety</th>\n",
       "      <th>Style</th>\n",
       "      <th>Country</th>\n",
       "      <th>Stars</th>\n",
       "      <th>Top Ten</th>\n",
       "    </tr>\n",
       "  </thead>\n",
       "  <tbody>\n",
       "    <tr>\n",
       "      <th>28</th>\n",
       "      <td>2552</td>\n",
       "      <td>mykuali</td>\n",
       "      <td>penang white curry rice vermicelli soup</td>\n",
       "      <td>Bowl</td>\n",
       "      <td>Malaysia</td>\n",
       "      <td>5.0</td>\n",
       "      <td>NaN</td>\n",
       "    </tr>\n",
       "    <tr>\n",
       "      <th>770</th>\n",
       "      <td>1810</td>\n",
       "      <td>mykuali</td>\n",
       "      <td>penang white curry noodle (new version)</td>\n",
       "      <td>Pack</td>\n",
       "      <td>Malaysia</td>\n",
       "      <td>5.0</td>\n",
       "      <td>NaN</td>\n",
       "    </tr>\n",
       "    <tr>\n",
       "      <th>1030</th>\n",
       "      <td>1550</td>\n",
       "      <td>ibumie</td>\n",
       "      <td>penang white currymee</td>\n",
       "      <td>Pack</td>\n",
       "      <td>Malaysia</td>\n",
       "      <td>5.0</td>\n",
       "      <td>NaN</td>\n",
       "    </tr>\n",
       "    <tr>\n",
       "      <th>966</th>\n",
       "      <td>1614</td>\n",
       "      <td>the bridge</td>\n",
       "      <td>penang white curry noodle</td>\n",
       "      <td>Pack</td>\n",
       "      <td>Malaysia</td>\n",
       "      <td>5.0</td>\n",
       "      <td>NaN</td>\n",
       "    </tr>\n",
       "    <tr>\n",
       "      <th>957</th>\n",
       "      <td>1623</td>\n",
       "      <td>mykuali</td>\n",
       "      <td>penang white curry noodle (new improved tatse)</td>\n",
       "      <td>Pack</td>\n",
       "      <td>Malaysia</td>\n",
       "      <td>5.0</td>\n",
       "      <td>NaN</td>\n",
       "    </tr>\n",
       "    <tr>\n",
       "      <th>928</th>\n",
       "      <td>1652</td>\n",
       "      <td>myori</td>\n",
       "      <td>malaysia penang white curry noodle original</td>\n",
       "      <td>Pack</td>\n",
       "      <td>Malaysia</td>\n",
       "      <td>5.0</td>\n",
       "      <td>NaN</td>\n",
       "    </tr>\n",
       "    <tr>\n",
       "      <th>926</th>\n",
       "      <td>1654</td>\n",
       "      <td>myori</td>\n",
       "      <td>malaysia penang white curry noodle super spicy</td>\n",
       "      <td>Pack</td>\n",
       "      <td>Malaysia</td>\n",
       "      <td>5.0</td>\n",
       "      <td>NaN</td>\n",
       "    </tr>\n",
       "    <tr>\n",
       "      <th>203</th>\n",
       "      <td>2377</td>\n",
       "      <td>mykuali</td>\n",
       "      <td>penang white curry instant noodle (japan version)</td>\n",
       "      <td>Box</td>\n",
       "      <td>Malaysia</td>\n",
       "      <td>5.0</td>\n",
       "      <td>NaN</td>\n",
       "    </tr>\n",
       "    <tr>\n",
       "      <th>1493</th>\n",
       "      <td>1087</td>\n",
       "      <td>mykuali</td>\n",
       "      <td>penang white curry noodle</td>\n",
       "      <td>Pack</td>\n",
       "      <td>Malaysia</td>\n",
       "      <td>5.0</td>\n",
       "      <td>2014 #1</td>\n",
       "    </tr>\n",
       "    <tr>\n",
       "      <th>744</th>\n",
       "      <td>1836</td>\n",
       "      <td>vit's</td>\n",
       "      <td>taste of malaysia penang white curry fried ins...</td>\n",
       "      <td>Pack</td>\n",
       "      <td>Malaysia</td>\n",
       "      <td>5.0</td>\n",
       "      <td>NaN</td>\n",
       "    </tr>\n",
       "  </tbody>\n",
       "</table>\n",
       "</div>"
      ],
      "text/plain": [
       "      Review #       Brand                                            Variety  \\\n",
       "28        2552     mykuali            penang white curry rice vermicelli soup   \n",
       "770       1810     mykuali            penang white curry noodle (new version)   \n",
       "1030      1550      ibumie                              penang white currymee   \n",
       "966       1614  the bridge                          penang white curry noodle   \n",
       "957       1623     mykuali     penang white curry noodle (new improved tatse)   \n",
       "928       1652       myori        malaysia penang white curry noodle original   \n",
       "926       1654       myori     malaysia penang white curry noodle super spicy   \n",
       "203       2377     mykuali  penang white curry instant noodle (japan version)   \n",
       "1493      1087     mykuali                          penang white curry noodle   \n",
       "744       1836       vit's  taste of malaysia penang white curry fried ins...   \n",
       "\n",
       "     Style   Country  Stars  Top Ten  \n",
       "28    Bowl  Malaysia    5.0      NaN  \n",
       "770   Pack  Malaysia    5.0      NaN  \n",
       "1030  Pack  Malaysia    5.0      NaN  \n",
       "966   Pack  Malaysia    5.0      NaN  \n",
       "957   Pack  Malaysia    5.0      NaN  \n",
       "928   Pack  Malaysia    5.0      NaN  \n",
       "926   Pack  Malaysia    5.0      NaN  \n",
       "203    Box  Malaysia    5.0      NaN  \n",
       "1493  Pack  Malaysia    5.0  2014 #1  \n",
       "744   Pack  Malaysia    5.0      NaN  "
      ]
     },
     "execution_count": 142,
     "metadata": {},
     "output_type": "execute_result"
    }
   ],
   "source": [
    "get_df_words('penang white curry', ratings).sort_values(by='Stars', ascending = False).head(10)"
   ]
  },
  {
   "cell_type": "code",
   "execution_count": 241,
   "metadata": {},
   "outputs": [
    {
     "data": {
      "text/html": [
       "<div>\n",
       "<style scoped>\n",
       "    .dataframe tbody tr th:only-of-type {\n",
       "        vertical-align: middle;\n",
       "    }\n",
       "\n",
       "    .dataframe tbody tr th {\n",
       "        vertical-align: top;\n",
       "    }\n",
       "\n",
       "    .dataframe thead th {\n",
       "        text-align: right;\n",
       "    }\n",
       "</style>\n",
       "<table border=\"1\" class=\"dataframe\">\n",
       "  <thead>\n",
       "    <tr style=\"text-align: right;\">\n",
       "      <th></th>\n",
       "      <th>Review #</th>\n",
       "      <th>Brand</th>\n",
       "      <th>Variety</th>\n",
       "      <th>Style</th>\n",
       "      <th>Country</th>\n",
       "      <th>Stars</th>\n",
       "      <th>Top Ten</th>\n",
       "    </tr>\n",
       "  </thead>\n",
       "  <tbody>\n",
       "    <tr>\n",
       "      <th>165</th>\n",
       "      <td>2415</td>\n",
       "      <td>nissin</td>\n",
       "      <td>kitsune udon donbei (west)</td>\n",
       "      <td>Bowl</td>\n",
       "      <td>Japan</td>\n",
       "      <td>5.00</td>\n",
       "      <td>NaN</td>\n",
       "    </tr>\n",
       "    <tr>\n",
       "      <th>1941</th>\n",
       "      <td>639</td>\n",
       "      <td>nissin</td>\n",
       "      <td>gozen kitsune udon</td>\n",
       "      <td>Bowl</td>\n",
       "      <td>Japan</td>\n",
       "      <td>5.00</td>\n",
       "      <td>NaN</td>\n",
       "    </tr>\n",
       "    <tr>\n",
       "      <th>581</th>\n",
       "      <td>1999</td>\n",
       "      <td>nissin</td>\n",
       "      <td>curry udon</td>\n",
       "      <td>Cup</td>\n",
       "      <td>Japan</td>\n",
       "      <td>5.00</td>\n",
       "      <td>NaN</td>\n",
       "    </tr>\n",
       "    <tr>\n",
       "      <th>1002</th>\n",
       "      <td>1578</td>\n",
       "      <td>nissin</td>\n",
       "      <td>gonbuto tempura udon</td>\n",
       "      <td>Bowl</td>\n",
       "      <td>Japan</td>\n",
       "      <td>4.00</td>\n",
       "      <td>NaN</td>\n",
       "    </tr>\n",
       "    <tr>\n",
       "      <th>417</th>\n",
       "      <td>2163</td>\n",
       "      <td>nissin</td>\n",
       "      <td>piritto karakuchi tantan udon</td>\n",
       "      <td>Bowl</td>\n",
       "      <td>Japan</td>\n",
       "      <td>4.00</td>\n",
       "      <td>NaN</td>\n",
       "    </tr>\n",
       "    <tr>\n",
       "      <th>576</th>\n",
       "      <td>2004</td>\n",
       "      <td>nissin</td>\n",
       "      <td>donbei dashi shoyu yakiudon</td>\n",
       "      <td>Bowl</td>\n",
       "      <td>Japan</td>\n",
       "      <td>3.75</td>\n",
       "      <td>NaN</td>\n",
       "    </tr>\n",
       "    <tr>\n",
       "      <th>1339</th>\n",
       "      <td>1241</td>\n",
       "      <td>nissin</td>\n",
       "      <td>donbei kansai soy sauce flavor udon</td>\n",
       "      <td>Pack</td>\n",
       "      <td>Japan</td>\n",
       "      <td>3.75</td>\n",
       "      <td>NaN</td>\n",
       "    </tr>\n",
       "    <tr>\n",
       "      <th>1071</th>\n",
       "      <td>1509</td>\n",
       "      <td>nissin</td>\n",
       "      <td>donbei kitsune udon mini</td>\n",
       "      <td>Bowl</td>\n",
       "      <td>Japan</td>\n",
       "      <td>3.50</td>\n",
       "      <td>NaN</td>\n",
       "    </tr>\n",
       "    <tr>\n",
       "      <th>1412</th>\n",
       "      <td>1168</td>\n",
       "      <td>nissin</td>\n",
       "      <td>donbei curry udon (west japanese)</td>\n",
       "      <td>Bowl</td>\n",
       "      <td>Japan</td>\n",
       "      <td>3.25</td>\n",
       "      <td>NaN</td>\n",
       "    </tr>\n",
       "    <tr>\n",
       "      <th>954</th>\n",
       "      <td>1626</td>\n",
       "      <td>nissin</td>\n",
       "      <td>gonbuto kistune udon</td>\n",
       "      <td>Bowl</td>\n",
       "      <td>Japan</td>\n",
       "      <td>2.75</td>\n",
       "      <td>NaN</td>\n",
       "    </tr>\n",
       "  </tbody>\n",
       "</table>\n",
       "</div>"
      ],
      "text/plain": [
       "      Review #   Brand                              Variety Style Country  \\\n",
       "165       2415  nissin           kitsune udon donbei (west)  Bowl   Japan   \n",
       "1941       639  nissin                   gozen kitsune udon  Bowl   Japan   \n",
       "581       1999  nissin                           curry udon   Cup   Japan   \n",
       "1002      1578  nissin                 gonbuto tempura udon  Bowl   Japan   \n",
       "417       2163  nissin        piritto karakuchi tantan udon  Bowl   Japan   \n",
       "576       2004  nissin          donbei dashi shoyu yakiudon  Bowl   Japan   \n",
       "1339      1241  nissin  donbei kansai soy sauce flavor udon  Pack   Japan   \n",
       "1071      1509  nissin             donbei kitsune udon mini  Bowl   Japan   \n",
       "1412      1168  nissin    donbei curry udon (west japanese)  Bowl   Japan   \n",
       "954       1626  nissin                 gonbuto kistune udon  Bowl   Japan   \n",
       "\n",
       "      Stars Top Ten  \n",
       "165    5.00     NaN  \n",
       "1941   5.00     NaN  \n",
       "581    5.00     NaN  \n",
       "1002   4.00     NaN  \n",
       "417    4.00     NaN  \n",
       "576    3.75     NaN  \n",
       "1339   3.75     NaN  \n",
       "1071   3.50     NaN  \n",
       "1412   3.25     NaN  \n",
       "954    2.75     NaN  "
      ]
     },
     "execution_count": 241,
     "metadata": {},
     "output_type": "execute_result"
    }
   ],
   "source": [
    "udon = get_df_words('udon', ratings).sort_values(by='Stars', ascending = False)\n",
    "udon[udon.Brand.isin(['nissin'])]"
   ]
  },
  {
   "cell_type": "code",
   "execution_count": 243,
   "metadata": {},
   "outputs": [
    {
     "data": {
      "text/html": [
       "<div>\n",
       "<style scoped>\n",
       "    .dataframe tbody tr th:only-of-type {\n",
       "        vertical-align: middle;\n",
       "    }\n",
       "\n",
       "    .dataframe tbody tr th {\n",
       "        vertical-align: top;\n",
       "    }\n",
       "\n",
       "    .dataframe thead th {\n",
       "        text-align: right;\n",
       "    }\n",
       "</style>\n",
       "<table border=\"1\" class=\"dataframe\">\n",
       "  <thead>\n",
       "    <tr style=\"text-align: right;\">\n",
       "      <th></th>\n",
       "      <th>Review #</th>\n",
       "      <th>Brand</th>\n",
       "      <th>Variety</th>\n",
       "      <th>Style</th>\n",
       "      <th>Country</th>\n",
       "      <th>Stars</th>\n",
       "      <th>Top Ten</th>\n",
       "    </tr>\n",
       "  </thead>\n",
       "  <tbody>\n",
       "    <tr>\n",
       "      <th>47</th>\n",
       "      <td>2533</td>\n",
       "      <td>nongshim</td>\n",
       "      <td>shin ramyun black</td>\n",
       "      <td>Pack</td>\n",
       "      <td>South Korea</td>\n",
       "      <td>5.00</td>\n",
       "      <td>NaN</td>\n",
       "    </tr>\n",
       "    <tr>\n",
       "      <th>393</th>\n",
       "      <td>2187</td>\n",
       "      <td>pulmuone</td>\n",
       "      <td>non-fried ramyun noodle (crab flavor)</td>\n",
       "      <td>Pack</td>\n",
       "      <td>South Korea</td>\n",
       "      <td>5.00</td>\n",
       "      <td>NaN</td>\n",
       "    </tr>\n",
       "    <tr>\n",
       "      <th>1538</th>\n",
       "      <td>1042</td>\n",
       "      <td>nongshim</td>\n",
       "      <td>potato pork ramyun</td>\n",
       "      <td>Pack</td>\n",
       "      <td>China</td>\n",
       "      <td>5.00</td>\n",
       "      <td>NaN</td>\n",
       "    </tr>\n",
       "    <tr>\n",
       "      <th>1829</th>\n",
       "      <td>751</td>\n",
       "      <td>nongshim</td>\n",
       "      <td>shin ramyun black onion</td>\n",
       "      <td>Cup</td>\n",
       "      <td>South Korea</td>\n",
       "      <td>5.00</td>\n",
       "      <td>NaN</td>\n",
       "    </tr>\n",
       "    <tr>\n",
       "      <th>606</th>\n",
       "      <td>1974</td>\n",
       "      <td>samyang foods</td>\n",
       "      <td>cheese curry ramyun</td>\n",
       "      <td>Pack</td>\n",
       "      <td>South Korea</td>\n",
       "      <td>5.00</td>\n",
       "      <td>NaN</td>\n",
       "    </tr>\n",
       "    <tr>\n",
       "      <th>1166</th>\n",
       "      <td>1414</td>\n",
       "      <td>paldo</td>\n",
       "      <td>cheese ramyun (for us market)</td>\n",
       "      <td>Pack</td>\n",
       "      <td>South Korea</td>\n",
       "      <td>5.00</td>\n",
       "      <td>NaN</td>\n",
       "    </tr>\n",
       "    <tr>\n",
       "      <th>189</th>\n",
       "      <td>2391</td>\n",
       "      <td>ottogi</td>\n",
       "      <td>jin jjambbong spicy seafood ramyun</td>\n",
       "      <td>Pack</td>\n",
       "      <td>South Korea</td>\n",
       "      <td>5.00</td>\n",
       "      <td>NaN</td>\n",
       "    </tr>\n",
       "    <tr>\n",
       "      <th>2002</th>\n",
       "      <td>578</td>\n",
       "      <td>nongshim</td>\n",
       "      <td>shin ramyun black</td>\n",
       "      <td>Pack</td>\n",
       "      <td>South Korea</td>\n",
       "      <td>4.75</td>\n",
       "      <td>2012 #7</td>\n",
       "    </tr>\n",
       "    <tr>\n",
       "      <th>1903</th>\n",
       "      <td>677</td>\n",
       "      <td>nongshim</td>\n",
       "      <td>shin ramyun shrimp</td>\n",
       "      <td>Pack</td>\n",
       "      <td>China</td>\n",
       "      <td>4.50</td>\n",
       "      <td>NaN</td>\n",
       "    </tr>\n",
       "    <tr>\n",
       "      <th>1662</th>\n",
       "      <td>918</td>\n",
       "      <td>nongshim</td>\n",
       "      <td>tempura udon flavor cup ramyun</td>\n",
       "      <td>Cup</td>\n",
       "      <td>South Korea</td>\n",
       "      <td>4.50</td>\n",
       "      <td>NaN</td>\n",
       "    </tr>\n",
       "  </tbody>\n",
       "</table>\n",
       "</div>"
      ],
      "text/plain": [
       "      Review #          Brand                                Variety Style  \\\n",
       "47        2533       nongshim                      shin ramyun black  Pack   \n",
       "393       2187       pulmuone  non-fried ramyun noodle (crab flavor)  Pack   \n",
       "1538      1042       nongshim                     potato pork ramyun  Pack   \n",
       "1829       751       nongshim                shin ramyun black onion   Cup   \n",
       "606       1974  samyang foods                    cheese curry ramyun  Pack   \n",
       "1166      1414          paldo          cheese ramyun (for us market)  Pack   \n",
       "189       2391         ottogi     jin jjambbong spicy seafood ramyun  Pack   \n",
       "2002       578       nongshim                      shin ramyun black  Pack   \n",
       "1903       677       nongshim                     shin ramyun shrimp  Pack   \n",
       "1662       918       nongshim         tempura udon flavor cup ramyun   Cup   \n",
       "\n",
       "          Country  Stars  Top Ten  \n",
       "47    South Korea   5.00      NaN  \n",
       "393   South Korea   5.00      NaN  \n",
       "1538        China   5.00      NaN  \n",
       "1829  South Korea   5.00      NaN  \n",
       "606   South Korea   5.00      NaN  \n",
       "1166  South Korea   5.00      NaN  \n",
       "189   South Korea   5.00      NaN  \n",
       "2002  South Korea   4.75  2012 #7  \n",
       "1903        China   4.50      NaN  \n",
       "1662  South Korea   4.50      NaN  "
      ]
     },
     "execution_count": 243,
     "metadata": {},
     "output_type": "execute_result"
    }
   ],
   "source": [
    "ramyun = get_df_words('ramyun', ratings).sort_values(by='Stars', ascending = False)\n",
    "ramyun.head(10)"
   ]
  },
  {
   "cell_type": "code",
   "execution_count": null,
   "metadata": {},
   "outputs": [],
   "source": []
  }
 ],
 "metadata": {
  "kernelspec": {
   "display_name": "Python 3",
   "language": "python",
   "name": "python3"
  },
  "language_info": {
   "codemirror_mode": {
    "name": "ipython",
    "version": 3
   },
   "file_extension": ".py",
   "mimetype": "text/x-python",
   "name": "python",
   "nbconvert_exporter": "python",
   "pygments_lexer": "ipython3",
   "version": "3.6.8"
  }
 },
 "nbformat": 4,
 "nbformat_minor": 2
}

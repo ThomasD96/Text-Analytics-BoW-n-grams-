{
 "cells": [
  {
   "cell_type": "code",
<<<<<<< HEAD
   "execution_count": 260,
=======
<<<<<<< HEAD
   "execution_count": 174,
=======
   "execution_count": 17,
>>>>>>> 82635201ea5190fbf422f917eb6497df76154039
>>>>>>> master
   "metadata": {},
   "outputs": [],
   "source": [
    "import pandas as pd\n",
    "import numpy as np\n",
    "import matplotlib.pyplot as plt\n",
    "import seaborn as sns\n",
    "from string import punctuation\n",
    "sns.set(rc={'figure.figsize':(11.7,8.27)})\n",
    "\n",
    "import warnings\n",
    "warnings.simplefilter(action='ignore', category=RuntimeWarning)"
   ]
  },
  {
   "cell_type": "code",
<<<<<<< HEAD
   "execution_count": 261,
=======
<<<<<<< HEAD
   "execution_count": 175,
=======
   "execution_count": 26,
   "metadata": {},
   "outputs": [
    {
     "name": "stderr",
     "output_type": "stream",
     "text": [
      "[nltk_data] Downloading package stopwords to\n",
      "[nltk_data]     /Users/vchalla/nltk_data...\n",
      "[nltk_data]   Package stopwords is already up-to-date!\n",
      "[nltk_data] Downloading package punkt to /Users/vchalla/nltk_data...\n",
      "[nltk_data]   Unzipping tokenizers/punkt.zip.\n"
     ]
    },
    {
     "data": {
      "text/plain": [
       "True"
      ]
     },
     "execution_count": 26,
     "metadata": {},
     "output_type": "execute_result"
    }
   ],
   "source": [
    "nltk.download('stopwords')\n",
    "nltk.download('punkt')"
   ]
  },
  {
   "cell_type": "code",
   "execution_count": 27,
>>>>>>> 82635201ea5190fbf422f917eb6497df76154039
>>>>>>> master
   "metadata": {},
   "outputs": [
    {
     "data": {
      "text/html": [
       "<div>\n",
       "<style scoped>\n",
       "    .dataframe tbody tr th:only-of-type {\n",
       "        vertical-align: middle;\n",
       "    }\n",
       "\n",
       "    .dataframe tbody tr th {\n",
       "        vertical-align: top;\n",
       "    }\n",
       "\n",
       "    .dataframe thead th {\n",
       "        text-align: right;\n",
       "    }\n",
       "</style>\n",
       "<table border=\"1\" class=\"dataframe\">\n",
       "  <thead>\n",
       "    <tr style=\"text-align: right;\">\n",
       "      <th></th>\n",
       "      <th>Review #</th>\n",
       "      <th>Brand</th>\n",
       "      <th>Variety</th>\n",
       "      <th>Style</th>\n",
       "      <th>Country</th>\n",
       "      <th>Stars</th>\n",
       "      <th>Top Ten</th>\n",
       "    </tr>\n",
       "  </thead>\n",
       "  <tbody>\n",
       "    <tr>\n",
       "      <th>0</th>\n",
       "      <td>2580</td>\n",
       "      <td>New Touch</td>\n",
       "      <td>T's Restaurant Tantanmen</td>\n",
       "      <td>Cup</td>\n",
       "      <td>Japan</td>\n",
       "      <td>3.75</td>\n",
       "      <td>NaN</td>\n",
       "    </tr>\n",
       "    <tr>\n",
       "      <th>1</th>\n",
       "      <td>2579</td>\n",
       "      <td>Just Way</td>\n",
       "      <td>Noodles Spicy Hot Sesame Spicy Hot Sesame Guan...</td>\n",
       "      <td>Pack</td>\n",
       "      <td>Taiwan</td>\n",
       "      <td>1</td>\n",
       "      <td>NaN</td>\n",
       "    </tr>\n",
       "    <tr>\n",
       "      <th>2</th>\n",
       "      <td>2578</td>\n",
       "      <td>Nissin</td>\n",
       "      <td>Cup Noodles Chicken Vegetable</td>\n",
       "      <td>Cup</td>\n",
       "      <td>USA</td>\n",
       "      <td>2.25</td>\n",
       "      <td>NaN</td>\n",
       "    </tr>\n",
       "    <tr>\n",
       "      <th>3</th>\n",
       "      <td>2577</td>\n",
       "      <td>Wei Lih</td>\n",
       "      <td>GGE Ramen Snack Tomato Flavor</td>\n",
       "      <td>Pack</td>\n",
       "      <td>Taiwan</td>\n",
       "      <td>2.75</td>\n",
       "      <td>NaN</td>\n",
       "    </tr>\n",
       "    <tr>\n",
       "      <th>4</th>\n",
       "      <td>2576</td>\n",
       "      <td>Ching's Secret</td>\n",
       "      <td>Singapore Curry</td>\n",
       "      <td>Pack</td>\n",
       "      <td>India</td>\n",
       "      <td>3.75</td>\n",
       "      <td>NaN</td>\n",
       "    </tr>\n",
       "  </tbody>\n",
       "</table>\n",
       "</div>"
      ],
      "text/plain": [
       "   Review #           Brand  \\\n",
       "0      2580       New Touch   \n",
       "1      2579        Just Way   \n",
       "2      2578          Nissin   \n",
       "3      2577         Wei Lih   \n",
       "4      2576  Ching's Secret   \n",
       "\n",
       "                                             Variety Style Country Stars  \\\n",
       "0                          T's Restaurant Tantanmen    Cup   Japan  3.75   \n",
       "1  Noodles Spicy Hot Sesame Spicy Hot Sesame Guan...  Pack  Taiwan     1   \n",
       "2                      Cup Noodles Chicken Vegetable   Cup     USA  2.25   \n",
       "3                      GGE Ramen Snack Tomato Flavor  Pack  Taiwan  2.75   \n",
       "4                                    Singapore Curry  Pack   India  3.75   \n",
       "\n",
       "  Top Ten  \n",
       "0     NaN  \n",
       "1     NaN  \n",
       "2     NaN  \n",
       "3     NaN  \n",
       "4     NaN  "
      ]
     },
<<<<<<< HEAD
     "execution_count": 261,
=======
<<<<<<< HEAD
     "execution_count": 175,
=======
     "execution_count": 27,
>>>>>>> 82635201ea5190fbf422f917eb6497df76154039
>>>>>>> master
     "metadata": {},
     "output_type": "execute_result"
    }
   ],
   "source": [
    "ratings = pd.read_csv('Data/ramen-ratings.csv')\n",
    "ratings.head()"
   ]
  },
  {
   "cell_type": "code",
<<<<<<< HEAD
   "execution_count": 262,
=======
<<<<<<< HEAD
   "execution_count": 176,
=======
   "execution_count": 28,
>>>>>>> 82635201ea5190fbf422f917eb6497df76154039
>>>>>>> master
   "metadata": {},
   "outputs": [
    {
     "data": {
      "text/plain": [
       "(2580, 7)"
      ]
     },
<<<<<<< HEAD
     "execution_count": 262,
=======
<<<<<<< HEAD
     "execution_count": 176,
=======
     "execution_count": 28,
>>>>>>> 82635201ea5190fbf422f917eb6497df76154039
>>>>>>> master
     "metadata": {},
     "output_type": "execute_result"
    }
   ],
   "source": [
    "ratings.shape"
   ]
  },
  {
   "cell_type": "code",
<<<<<<< HEAD
   "execution_count": 263,
=======
<<<<<<< HEAD
   "execution_count": 177,
=======
   "execution_count": 29,
>>>>>>> 82635201ea5190fbf422f917eb6497df76154039
>>>>>>> master
   "metadata": {},
   "outputs": [
    {
     "data": {
      "text/plain": [
       "Pack    1531\n",
       "Bowl     481\n",
       "Cup      450\n",
       "Tray     108\n",
       "Box        6\n",
       "Can        1\n",
       "Bar        1\n",
       "Name: Style, dtype: int64"
      ]
     },
<<<<<<< HEAD
     "execution_count": 263,
=======
<<<<<<< HEAD
     "execution_count": 177,
=======
     "execution_count": 29,
>>>>>>> 82635201ea5190fbf422f917eb6497df76154039
>>>>>>> master
     "metadata": {},
     "output_type": "execute_result"
    }
   ],
   "source": [
    "ratings['Style'].value_counts()"
   ]
  },
  {
   "cell_type": "markdown",
   "metadata": {},
   "source": [
    "# Preprocessing"
   ]
  },
  {
   "cell_type": "markdown",
   "metadata": {},
   "source": [
    "Convert text to lower string and cast stars as a float "
   ]
  },
  {
   "cell_type": "code",
<<<<<<< HEAD
   "execution_count": 264,
=======
<<<<<<< HEAD
   "execution_count": 178,
=======
   "execution_count": 30,
>>>>>>> 82635201ea5190fbf422f917eb6497df76154039
>>>>>>> master
   "metadata": {},
   "outputs": [
    {
     "data": {
      "text/plain": [
       "array(['0', '0.1', '0.25', '0.5', '0.75', '0.9', '1', '1.1', '1.25',\n",
       "       '1.5', '1.75', '1.8', '2', '2.1', '2.125', '2.25', '2.3', '2.5',\n",
       "       '2.75', '2.8', '2.85', '2.9', '3', '3.0', '3.00', '3.1', '3.125',\n",
       "       '3.2', '3.25', '3.3', '3.4', '3.5', '3.50', '3.6', '3.65', '3.7',\n",
       "       '3.75', '3.8', '4', '4.0', '4.00', '4.125', '4.25', '4.3', '4.5',\n",
       "       '4.50', '4.75', '5', '5.0', '5.00', 'Unrated'], dtype=object)"
      ]
     },
<<<<<<< HEAD
     "execution_count": 264,
=======
<<<<<<< HEAD
     "execution_count": 178,
=======
     "execution_count": 30,
>>>>>>> 82635201ea5190fbf422f917eb6497df76154039
>>>>>>> master
     "metadata": {},
     "output_type": "execute_result"
    }
   ],
   "source": [
    "np.unique(ratings['Stars'])"
   ]
  },
  {
   "cell_type": "code",
<<<<<<< HEAD
   "execution_count": 265,
=======
<<<<<<< HEAD
   "execution_count": 179,
=======
   "execution_count": 31,
   "metadata": {},
   "outputs": [],
   "source": [
    "#drop unrated ramen reviews\n"
   ]
  },
  {
   "cell_type": "code",
   "execution_count": 32,
>>>>>>> 82635201ea5190fbf422f917eb6497df76154039
>>>>>>> master
   "metadata": {},
   "outputs": [
    {
     "data": {
      "text/html": [
       "<div>\n",
       "<style scoped>\n",
       "    .dataframe tbody tr th:only-of-type {\n",
       "        vertical-align: middle;\n",
       "    }\n",
       "\n",
       "    .dataframe tbody tr th {\n",
       "        vertical-align: top;\n",
       "    }\n",
       "\n",
       "    .dataframe thead th {\n",
       "        text-align: right;\n",
       "    }\n",
       "</style>\n",
       "<table border=\"1\" class=\"dataframe\">\n",
       "  <thead>\n",
       "    <tr style=\"text-align: right;\">\n",
       "      <th></th>\n",
       "      <th>Review #</th>\n",
       "      <th>Brand</th>\n",
       "      <th>Variety</th>\n",
       "      <th>Style</th>\n",
       "      <th>Country</th>\n",
       "      <th>Stars</th>\n",
       "      <th>Top Ten</th>\n",
       "    </tr>\n",
       "  </thead>\n",
       "  <tbody>\n",
       "    <tr>\n",
       "      <th>0</th>\n",
       "      <td>2580</td>\n",
       "      <td>new touch</td>\n",
       "      <td>t's restaurant tantanmen</td>\n",
       "      <td>Cup</td>\n",
       "      <td>Japan</td>\n",
       "      <td>3.75</td>\n",
       "      <td>NaN</td>\n",
       "    </tr>\n",
       "    <tr>\n",
       "      <th>1</th>\n",
       "      <td>2579</td>\n",
       "      <td>just way</td>\n",
       "      <td>noodles spicy hot sesame spicy hot sesame guan...</td>\n",
       "      <td>Pack</td>\n",
       "      <td>Taiwan</td>\n",
       "      <td>1.00</td>\n",
       "      <td>NaN</td>\n",
       "    </tr>\n",
       "    <tr>\n",
       "      <th>2</th>\n",
       "      <td>2578</td>\n",
       "      <td>nissin</td>\n",
       "      <td>cup noodles chicken vegetable</td>\n",
       "      <td>Cup</td>\n",
       "      <td>USA</td>\n",
       "      <td>2.25</td>\n",
       "      <td>NaN</td>\n",
       "    </tr>\n",
       "    <tr>\n",
       "      <th>3</th>\n",
       "      <td>2577</td>\n",
       "      <td>wei lih</td>\n",
       "      <td>gge ramen snack tomato flavor</td>\n",
       "      <td>Pack</td>\n",
       "      <td>Taiwan</td>\n",
       "      <td>2.75</td>\n",
       "      <td>NaN</td>\n",
       "    </tr>\n",
       "    <tr>\n",
       "      <th>4</th>\n",
       "      <td>2576</td>\n",
       "      <td>ching's secret</td>\n",
       "      <td>singapore curry</td>\n",
       "      <td>Pack</td>\n",
       "      <td>India</td>\n",
       "      <td>3.75</td>\n",
       "      <td>NaN</td>\n",
       "    </tr>\n",
       "  </tbody>\n",
       "</table>\n",
       "</div>"
      ],
      "text/plain": [
       "   Review #           Brand  \\\n",
       "0      2580       new touch   \n",
       "1      2579        just way   \n",
       "2      2578          nissin   \n",
       "3      2577         wei lih   \n",
       "4      2576  ching's secret   \n",
       "\n",
       "                                             Variety Style Country  Stars  \\\n",
       "0                          t's restaurant tantanmen    Cup   Japan   3.75   \n",
       "1  noodles spicy hot sesame spicy hot sesame guan...  Pack  Taiwan   1.00   \n",
       "2                      cup noodles chicken vegetable   Cup     USA   2.25   \n",
       "3                      gge ramen snack tomato flavor  Pack  Taiwan   2.75   \n",
       "4                                    singapore curry  Pack   India   3.75   \n",
       "\n",
       "  Top Ten  \n",
       "0     NaN  \n",
       "1     NaN  \n",
       "2     NaN  \n",
       "3     NaN  \n",
       "4     NaN  "
      ]
     },
<<<<<<< HEAD
     "execution_count": 265,
=======
<<<<<<< HEAD
     "execution_count": 179,
=======
     "execution_count": 32,
>>>>>>> 82635201ea5190fbf422f917eb6497df76154039
>>>>>>> master
     "metadata": {},
     "output_type": "execute_result"
    }
   ],
   "source": [
    "unrated_idx = ratings[ratings['Stars'] == 'Unrated'].index\n",
    "\n",
    "ratings = ratings.drop(unrated_idx)\n",
    "\n",
    "ratings['Brand'] = ratings['Brand'].str.lower() \n",
    "ratings['Variety'] = ratings['Variety'].str.lower()\n",
    "ratings['Stars'] = ratings['Stars'].astype('float')\n",
    "ratings.head()"
   ]
  },
  {
   "cell_type": "markdown",
   "metadata": {},
   "source": [
    "Derive Tokenized words, bigrams and trigrams from variety"
   ]
  },
  {
<<<<<<< HEAD
=======
   "cell_type": "code",
   "execution_count": 33,
   "metadata": {},
   "outputs": [
    {
     "data": {
      "text/html": [
       "<div>\n",
       "<style scoped>\n",
       "    .dataframe tbody tr th:only-of-type {\n",
       "        vertical-align: middle;\n",
       "    }\n",
       "\n",
       "    .dataframe tbody tr th {\n",
       "        vertical-align: top;\n",
       "    }\n",
       "\n",
       "    .dataframe thead th {\n",
       "        text-align: right;\n",
       "    }\n",
       "</style>\n",
       "<table border=\"1\" class=\"dataframe\">\n",
       "  <thead>\n",
       "    <tr style=\"text-align: right;\">\n",
       "      <th></th>\n",
       "      <th>Review #</th>\n",
       "      <th>Brand</th>\n",
       "      <th>Variety</th>\n",
       "      <th>Style</th>\n",
       "      <th>Country</th>\n",
       "      <th>Stars</th>\n",
       "      <th>Top Ten</th>\n",
       "      <th>Varity Tokenized</th>\n",
       "      <th>Variety Bigrams</th>\n",
       "      <th>Variety Trigrams</th>\n",
       "    </tr>\n",
       "  </thead>\n",
       "  <tbody>\n",
       "    <tr>\n",
       "      <th>0</th>\n",
       "      <td>2580</td>\n",
       "      <td>new touch</td>\n",
       "      <td>t's restaurant tantanmen</td>\n",
       "      <td>Cup</td>\n",
       "      <td>Japan</td>\n",
       "      <td>3.75</td>\n",
       "      <td>NaN</td>\n",
       "      <td>[t, 's, restaurant, tantanmen]</td>\n",
       "      <td>[(t, 's), ('s, restaurant), (restaurant, tanta...</td>\n",
       "      <td>[(t, 's, restaurant), ('s, restaurant, tantanm...</td>\n",
       "    </tr>\n",
       "    <tr>\n",
       "      <th>1</th>\n",
       "      <td>2579</td>\n",
       "      <td>just way</td>\n",
       "      <td>noodles spicy hot sesame spicy hot sesame guan...</td>\n",
       "      <td>Pack</td>\n",
       "      <td>Taiwan</td>\n",
       "      <td>1.00</td>\n",
       "      <td>NaN</td>\n",
       "      <td>[noodles, spicy, hot, sesame, spicy, hot, sesa...</td>\n",
       "      <td>[(noodles, spicy), (spicy, hot), (hot, sesame)...</td>\n",
       "      <td>[(noodles, spicy, hot), (spicy, hot, sesame), ...</td>\n",
       "    </tr>\n",
       "    <tr>\n",
       "      <th>2</th>\n",
       "      <td>2578</td>\n",
       "      <td>nissin</td>\n",
       "      <td>cup noodles chicken vegetable</td>\n",
       "      <td>Cup</td>\n",
       "      <td>USA</td>\n",
       "      <td>2.25</td>\n",
       "      <td>NaN</td>\n",
       "      <td>[cup, noodles, chicken, vegetable]</td>\n",
       "      <td>[(cup, noodles), (noodles, chicken), (chicken,...</td>\n",
       "      <td>[(cup, noodles, chicken), (noodles, chicken, v...</td>\n",
       "    </tr>\n",
       "    <tr>\n",
       "      <th>3</th>\n",
       "      <td>2577</td>\n",
       "      <td>wei lih</td>\n",
       "      <td>gge ramen snack tomato flavor</td>\n",
       "      <td>Pack</td>\n",
       "      <td>Taiwan</td>\n",
       "      <td>2.75</td>\n",
       "      <td>NaN</td>\n",
       "      <td>[gge, ramen, snack, tomato, flavor]</td>\n",
       "      <td>[(gge, ramen), (ramen, snack), (snack, tomato)...</td>\n",
       "      <td>[(gge, ramen, snack), (ramen, snack, tomato), ...</td>\n",
       "    </tr>\n",
       "    <tr>\n",
       "      <th>4</th>\n",
       "      <td>2576</td>\n",
       "      <td>ching's secret</td>\n",
       "      <td>singapore curry</td>\n",
       "      <td>Pack</td>\n",
       "      <td>India</td>\n",
       "      <td>3.75</td>\n",
       "      <td>NaN</td>\n",
       "      <td>[singapore, curry]</td>\n",
       "      <td>[(singapore, curry)]</td>\n",
       "      <td>[]</td>\n",
       "    </tr>\n",
       "  </tbody>\n",
       "</table>\n",
       "</div>"
      ],
      "text/plain": [
       "   Review #           Brand  \\\n",
       "0      2580       new touch   \n",
       "1      2579        just way   \n",
       "2      2578          nissin   \n",
       "3      2577         wei lih   \n",
       "4      2576  ching's secret   \n",
       "\n",
       "                                             Variety Style Country  Stars  \\\n",
       "0                          t's restaurant tantanmen    Cup   Japan   3.75   \n",
       "1  noodles spicy hot sesame spicy hot sesame guan...  Pack  Taiwan   1.00   \n",
       "2                      cup noodles chicken vegetable   Cup     USA   2.25   \n",
       "3                      gge ramen snack tomato flavor  Pack  Taiwan   2.75   \n",
       "4                                    singapore curry  Pack   India   3.75   \n",
       "\n",
       "  Top Ten                                   Varity Tokenized  \\\n",
       "0     NaN                     [t, 's, restaurant, tantanmen]   \n",
       "1     NaN  [noodles, spicy, hot, sesame, spicy, hot, sesa...   \n",
       "2     NaN                 [cup, noodles, chicken, vegetable]   \n",
       "3     NaN                [gge, ramen, snack, tomato, flavor]   \n",
       "4     NaN                                 [singapore, curry]   \n",
       "\n",
       "                                     Variety Bigrams  \\\n",
       "0  [(t, 's), ('s, restaurant), (restaurant, tanta...   \n",
       "1  [(noodles, spicy), (spicy, hot), (hot, sesame)...   \n",
       "2  [(cup, noodles), (noodles, chicken), (chicken,...   \n",
       "3  [(gge, ramen), (ramen, snack), (snack, tomato)...   \n",
       "4                               [(singapore, curry)]   \n",
       "\n",
       "                                    Variety Trigrams  \n",
       "0  [(t, 's, restaurant), ('s, restaurant, tantanm...  \n",
       "1  [(noodles, spicy, hot), (spicy, hot, sesame), ...  \n",
       "2  [(cup, noodles, chicken), (noodles, chicken, v...  \n",
       "3  [(gge, ramen, snack), (ramen, snack, tomato), ...  \n",
       "4                                                 []  "
      ]
     },
     "execution_count": 33,
     "metadata": {},
     "output_type": "execute_result"
    }
   ],
   "source": [
    "\n",
    "ratings['Varity Tokenized'] =  ratings.apply(lambda row: nltk.word_tokenize(row['Variety']), axis=1)\n",
    "ratings['Variety Bigrams'] = ratings.apply(lambda row: list(bigrams(row['Varity Tokenized'])), axis = 1)\n",
    "ratings['Variety Trigrams'] = ratings.apply(lambda row: list(trigrams(row['Varity Tokenized'])), axis = 1)\n",
    "ratings.head()\n"
   ]
  },
  {
>>>>>>> 82635201ea5190fbf422f917eb6497df76154039
   "cell_type": "markdown",
   "metadata": {},
   "source": [
    "## Exploratory Data Analysis"
   ]
  },
  {
   "cell_type": "code",
<<<<<<< HEAD
   "execution_count": 266,
=======
<<<<<<< HEAD
   "execution_count": 180,
=======
   "execution_count": 34,
>>>>>>> 82635201ea5190fbf422f917eb6497df76154039
>>>>>>> master
   "metadata": {},
   "outputs": [],
   "source": [
    "from sklearn.feature_extraction.text import CountVectorizer\n",
    "\n",
    "def get_top_n_gram(corpus, ngram, stop_words=None):\n",
    "    \"\"\"\n",
    "    Generates a bag of words as list of tuples for a corpora of words\n",
    "    :param corpus: list of words to apply bag of words\n",
    "    :param ngram: int the ngram to be returned\n",
    "    :param stop_words: list of stop words to remove from bag of words\n",
    "    :return: Bag of words as a list of tuples sorted in descending order of frequency\n",
    "    \"\"\"\n",
    "    vec = CountVectorizer(stop_words=stop_words, ngram_range=(ngram, ngram)).fit(corpus)\n",
    "    bag_of_words = vec.transform(corpus)\n",
    "    sum_words = bag_of_words.sum(axis=0)\n",
    "    words_freq = [(word, sum_words[0, idx]) for word, idx in vec.vocabulary_.items()]\n",
    "    words_freq = sorted(words_freq, key=lambda x: x[1], reverse=True)\n",
    "    return words_freq\n"
   ]
  },
  {
   "cell_type": "code",
<<<<<<< HEAD
   "execution_count": 267,
=======
<<<<<<< HEAD
   "execution_count": 181,
=======
   "execution_count": 35,
>>>>>>> 82635201ea5190fbf422f917eb6497df76154039
>>>>>>> master
   "metadata": {},
   "outputs": [
    {
     "ename": "NameError",
     "evalue": "name 'ramen_stop_words' is not defined",
     "output_type": "error",
     "traceback": [
      "\u001b[0;31m---------------------------------------------------------------------------\u001b[0m",
      "\u001b[0;31mNameError\u001b[0m                                 Traceback (most recent call last)",
      "\u001b[0;32m<ipython-input-35-5313d998616b>\u001b[0m in \u001b[0;36m<module>\u001b[0;34m\u001b[0m\n\u001b[0;32m----> 1\u001b[0;31m \u001b[0mstop_words\u001b[0m\u001b[0;34m=\u001b[0m\u001b[0mramen_stop_words\u001b[0m\u001b[0;34m\u001b[0m\u001b[0;34m\u001b[0m\u001b[0m\n\u001b[0m",
      "\u001b[0;31mNameError\u001b[0m: name 'ramen_stop_words' is not defined"
     ]
    }
   ],
   "source": [
    "from nltk.corpus import stopwords\n",
    "stop_words = stopwords.words('english')\n",
    "punct_list = list(punctuation)\n",
    "stop_words += stop_words + punct_list\n",
    "ramen_common_words = ['noodle', 'noodles', 'ramen', 'instant', 'flavour', 'flavor', 'cup', 'sauce', 'flavouring', 'taste', 'chef', 'authentic', 'version']\n",
    "ramen_stop_words = stop_words + ramen_common_words  + punct_list"
   ]
  },
  {
   "cell_type": "code",
<<<<<<< HEAD
   "execution_count": 268,
=======
<<<<<<< HEAD
   "execution_count": 182,
>>>>>>> master
   "metadata": {},
   "outputs": [
    {
     "data": {
      "text/plain": [
       "[('noodles', 674), ('noodle', 518), ('instant', 446), ('flavour', 406)]"
      ]
     },
     "execution_count": 268,
     "metadata": {},
     "output_type": "execute_result"
=======
   "execution_count": 36,
   "metadata": {},
   "outputs": [
    {
     "ename": "TypeError",
     "evalue": "get_top_n_gram() got an unexpected keyword argument 'n'",
     "output_type": "error",
     "traceback": [
      "\u001b[0;31m---------------------------------------------------------------------------\u001b[0m",
      "\u001b[0;31mTypeError\u001b[0m                                 Traceback (most recent call last)",
      "\u001b[0;32m<ipython-input-36-00d8da16b9dc>\u001b[0m in \u001b[0;36m<module>\u001b[0;34m\u001b[0m\n\u001b[0;32m----> 1\u001b[0;31m \u001b[0mcommon_n_gram\u001b[0m \u001b[0;34m=\u001b[0m \u001b[0mget_top_n_gram\u001b[0m\u001b[0;34m(\u001b[0m\u001b[0mratings\u001b[0m\u001b[0;34m[\u001b[0m\u001b[0;34m'Variety'\u001b[0m\u001b[0;34m]\u001b[0m\u001b[0;34m,\u001b[0m\u001b[0mngram\u001b[0m \u001b[0;34m=\u001b[0m \u001b[0;36m1\u001b[0m\u001b[0;34m,\u001b[0m \u001b[0mn\u001b[0m\u001b[0;34m=\u001b[0m \u001b[0;36m50\u001b[0m\u001b[0;34m)\u001b[0m\u001b[0;34m\u001b[0m\u001b[0;34m\u001b[0m\u001b[0m\n\u001b[0m\u001b[1;32m      2\u001b[0m \u001b[0mcommon_n_gram\u001b[0m\u001b[0;34m[\u001b[0m\u001b[0;34m:\u001b[0m\u001b[0;36m10\u001b[0m\u001b[0;34m]\u001b[0m\u001b[0;34m\u001b[0m\u001b[0;34m\u001b[0m\u001b[0m\n",
      "\u001b[0;31mTypeError\u001b[0m: get_top_n_gram() got an unexpected keyword argument 'n'"
     ]
>>>>>>> 82635201ea5190fbf422f917eb6497df76154039
    }
   ],
   "source": [
    "common_n_gram = get_top_n_gram(ratings['Variety'],ngram = 1, stop_words=stop_words)\n",
    "common_n_gram[:4]"
   ]
  },
  {
   "cell_type": "code",
<<<<<<< HEAD
   "execution_count": 269,
=======
<<<<<<< HEAD
   "execution_count": 183,
>>>>>>> master
   "metadata": {},
   "outputs": [
    {
     "data": {
      "text/plain": [
       "[('chicken', 329), ('spicy', 277), ('beef', 233), ('soup', 196)]"
      ]
     },
     "execution_count": 269,
     "metadata": {},
     "output_type": "execute_result"
    }
   ],
   "source": [
    "common_n_gram = get_top_n_gram(ratings['Variety'],ngram = 1, stop_words=ramen_stop_words)\n",
    "common_n_gram[:4]"
   ]
  },
  {
   "cell_type": "code",
   "execution_count": 164,
=======
   "execution_count": 37,
>>>>>>> 82635201ea5190fbf422f917eb6497df76154039
   "metadata": {},
   "outputs": [],
   "source": [
    "\n",
    "def box_plot(df):\n",
    "    \"\"\"\n",
    "    Returns a Seaborn boxplot \n",
    "    :param df: Pandas Dataframe\n",
    "    :return: Seaborn Boxplot\n",
    "    \"\"\"\n",
    "    return sns.boxplot(df['Stars'])\n",
    "\n",
    "def get_df_words(words, dataframe, column='Variety'):\n",
    "    \"\"\"\n",
    "    This function takes a string of words as an input and generates a df from our input dataframe only\n",
    "    if the column contains the word\n",
    "    :param words: A string of words to be matched\n",
    "    :param dataframe: A pandas DataFrame\n",
    "    :param column: The column to match words on , defaulted to Variety\n",
    "    :return: Pandas Dataframe\n",
    "    \"\"\"\n",
    "    assert type(words) is str\n",
    "    df = dataframe[dataframe[column].str.contains(words, regex=True)]\n",
    "\n",
    "    return df\n",
    "\n",
    "def generate_mean_median(dataframe, target_var = 'Stars'):\n",
    "    \"\"\"\n",
    "    Generates the mean and median value of a target variable for a dataframe\n",
    "    :param dataframe: Pandas DataFrame\n",
    "    :param target_var: Column Value of Dataframe\n",
    "    :return: mean, median value\n",
    "    \"\"\"\n",
    "    mean = np.mean(dataframe[target_var])\n",
    "    median = np.median(dataframe[target_var])\n",
    "\n",
    "    return mean, median\n",
    "\n",
    "def generate_stats_df(idx, df, freq, mean, median, word):\n",
    "    \"\"\"\n",
    "    Loops through indicies to create a basic stats dataframe with mean, median, frequency of word\n",
    "    :param idx: int Index of dataframe\n",
    "    :param df: Pandas Dataframe\n",
    "    :param freq: int Frequency of word\n",
    "    :param mean: float Mean rating of word\n",
    "    :param median: float Median Rating of word\n",
    "    :param word: string Bag of Word\n",
    "    :return: Pandas Dataframe with Word, Frequence, Mean and Median Rating\n",
    "    \"\"\"\n",
    "    df.loc[idx, 'Word'] = word\n",
    "    df.loc[idx, 'Frequency'] = freq\n",
    "    df.loc[idx, 'Mean Rating'] = mean\n",
    "    df.loc[idx, 'Median Rating'] = median\n",
    "    return df\n",
    "\n",
    "def n_gram_df(df, ngram, column='Variety', stopwords=ramen_stop_words):\n",
    "    \"\"\"\n",
    "    generates a pandas dataframe with bag of words and additional statistics for ngrams\n",
    "    :param df: Pandas Dataframe to generate ngram df from\n",
    "    :param ngram: int, number of grams\n",
    "    :param column: Target Column that contains text for bag of words\n",
    "    :param stopwords: list of stopwords, defaulted to ramen_stop_words\n",
    "    :return: pandas dataframe\n",
    "    \"\"\"\n",
    "    common_n_gram = get_top_n_gram(df[column] ,ngram = ngram, stop_words=stopwords)\n",
    "    n_gram_df = pd.DataFrame()\n",
    "    idx = 0\n",
    "    for word, freq in common_n_gram:\n",
    "        stats = get_df_words(str(word), ratings)\n",
    "        mean, median = generate_mean_median(stats)\n",
    "        generate_stats_df(idx, n_gram_df, freq, mean, median, word)\n",
    "        idx += 1\n",
    "    return n_gram_df\n",
    "\n",
    "def remove_words_from_df(source, target, thresh):\n",
    "    \"\"\"\n",
    "    Drops word from target dataframe that also exist in the source dataframe if the \n",
    "    source's frequency percentage in the target is greater than or equal to a threshold \n",
    "    :param source: List of source dataframes\n",
    "    :param target: Pandas DataFrame\n",
    "    :param thresh: Float value of threshold to \n",
    "    :return: Target dataframe with recurring words removed\n",
    "    \"\"\"\n",
    "    words_to_drop = []\n",
    "    for idx in target.index:\n",
    "        word = target.loc[idx, 'Word']\n",
    "        freq = target.loc[idx, 'Frequency']\n",
    "        for source_df in source:\n",
    "            source_df_word = source_df[source_df.Word.str.contains(word)]\n",
    "            for source_idx in source_df_word.index:\n",
    "                if source_df_word.loc[source_idx, 'Frequency' ] /freq >= thresh:\n",
    "                    words_to_drop.append(word)\n",
    "    target = target[~target['Word'].isin(words_to_drop)]\n",
    "    return target\n"
   ]
  },
  {
   "cell_type": "code",
<<<<<<< HEAD
   "execution_count": 232,
=======
<<<<<<< HEAD
   "execution_count": 184,
=======
   "execution_count": 38,
   "metadata": {},
   "outputs": [],
   "source": [
    "from nltk.corpus import stopwords\n",
    "ramen_stop_words = stopwords.words('english')\n",
    "punct_list = list(punctuation)\n",
    "ramen_common_words = ['noodle', 'noodles', 'ramen', 'instant', 'flavour', 'flavor', 'cup', 'sauce', 'sabor']\n",
    "ramen_stop_words += ramen_common_words  + punct_list"
   ]
  },
  {
   "cell_type": "code",
   "execution_count": 39,
>>>>>>> 82635201ea5190fbf422f917eb6497df76154039
>>>>>>> master
   "metadata": {},
   "outputs": [],
   "source": [
    "brand_group = ratings[['Brand','Variety','Stars']].groupby('Brand', as_index = False)\\\n",
    ".agg({'Variety':'size', 'Stars':'median'})\n",
    "#.sort_values(by=['Variety', 'Stars'],ascending=False).head(20)\n",
    "    \n",
    "brand_group.columns = ['Brand', 'Count', 'Median Rating']\n",
    "more_than_2 = brand_group[brand_group.Count > 2]\n",
    "more_than_2 = more_than_2.sort_values(by=['Count'],ascending=False).head(15)\n",
    "\n",
    "one_hit_wonders = brand_group[brand_group.Count <= 2]\n",
    "one_hit_wonders = one_hit_wonders.sort_values(by=['Median Rating'], ascending=False).head(15)\n",
    "\n"
   ]
  },
  {
   "cell_type": "code",
<<<<<<< HEAD
   "execution_count": 185,
=======
   "execution_count": 40,
>>>>>>> 82635201ea5190fbf422f917eb6497df76154039
   "metadata": {},
   "outputs": [],
   "source": [
    "def count_avg_plot(df, X, Y, title,  Z=None):\n",
    "    \"\"\"\n",
    "    Generates a plot based of an X and Y and an optional Z axis from a pandas dataframe\n",
    "    :param df: Pandas Dataframe holding X, Y and Z\n",
    "    :param X: Pandas Series to be plotted on X axis\n",
    "    :param Y: Pandas Series to be plotted on Y axis\n",
    "    :param title: String, title of graph\n",
    "    :param Z: Pandas Series to be plotted on Z axis\n",
    "    :return: Matplotlib Plot\n",
    "    \"\"\"\n",
    "    ax = df.plot(x=X, y=Y, legend=False, kind='bar', figsize=(15,8), fontsize = 15, title=title, rot = 75)\n",
    "    ax.grid(False)\n",
    "    ax.set_ylabel(Y)\n",
    "    ax.title.set_size(20)\n",
    "    if Z:\n",
    "        ax2 = ax.twinx()\n",
    "        ax2.set_ylabel(Z)\n",
    "        df.plot(x=X, y=Z, ax=ax2, legend=False, color=\"r\", fontsize=15).grid(False)\n",
    "    ax.figure.legend(loc=4)\n",
    "    #ax.xticks(fontsize=14)\n",
    "    plt.show()"
   ]
  },
  {
   "cell_type": "code",
<<<<<<< HEAD
   "execution_count": 233,
=======
<<<<<<< HEAD
   "execution_count": 186,
=======
   "execution_count": 41,
>>>>>>> 82635201ea5190fbf422f917eb6497df76154039
>>>>>>> master
   "metadata": {},
   "outputs": [
    {
     "data": {
<<<<<<< HEAD
      "image/png": "iVBORw0KGgoAAAANSUhEUgAAA+oAAAJTCAYAAACfLOzbAAAABHNCSVQICAgIfAhkiAAAAAlwSFlzAAALEgAACxIB0t1+/AAAADh0RVh0U29mdHdhcmUAbWF0cGxvdGxpYiB2ZXJzaW9uMy4xLjIsIGh0dHA6Ly9tYXRwbG90bGliLm9yZy8li6FKAAAgAElEQVR4nOzdeVhTZ9oG8DsJYUkgkV2LWndQkcW1VBT3rSouqCgutVU7dexidfp1bK3T1lGn1bZf1bbfKLYqiCsoYhW1Lq3WpbSCCu7VugJhDXsgyfcHQ8YIKiDhQHL/rit/5Kx35Kg8Oe/7HJFer9eDiIiIiIiIiBoEsdABiIiIiIiIiOi/WKgTERERERERNSAs1ImIiIiIiIgaEBbqRERERERERA0IC3UiIiIiIiKiBoSFOhEREREREVEDwkKdiKiaVq9eDU9Pz0qvrl27YsyYMVi3bh1KS0uFjvlEwcHB8PT0rNE+ycnJ+PDDDzFs2DD4+vqia9euCA0NRWRkJMrKykyU9NmdOHEC58+fFzpGJWq1Gp6enpg2bdpTt502bZrhOktISHjitqNGjYKnpycGDBhQV1EN5s6dC09PT9y9e9ewzNPTE8HBwXV+rup63N9HT09P+Pr6on///liwYAFu3LjxTOcpKSnBhg0bjJa999578PT0xKVLl57p2ERERI9jJXQAIqLGZuDAgejYsSMAQKvVIj8/HwkJCVi5ciUSExOxdu1agRPWDZ1Oh9WrV+Obb76BVCpF37590b9/f+Tl5eHEiRP4+OOPceDAAaxbtw62trZCxzWyZcsWfPTRR2bzswCAQ4cOoXv37lWuu3XrFq5evVqveebNmwcXF5d6PWdVHv77WCErKwsJCQmIi4vDsWPHsHPnTrRu3bpWx586dSpu3ryJV155xbBs0KBB8PDwaBCfn4iIzBMLdSKiGho0aBDGjRtntEyv1+P111/H4cOHcerUKQQEBAiUru58++23+Prrr+Hn54evvvoK7u7uhnUajQaLFi3C3r178d577+HLL78UMGllmZmZQkeoU66urjh06BD+/ve/V7n+wIEDkEqlEIlE9ZbpjTfeqLdzPUlVfx+B8i+a3n//fURHR2PNmjVYtWpVrY5f1bU0aNAgDBo0qFbHIyIiqg4OfSciqgMikchQLPz6668Cp3l2N2/exNdffw0nJyesW7fOqEgHAGtrayxfvhweHh44cODAMw8vpicbOHAg7t27h5SUlCrXx8fHIyAgADY2NvWcrOESi8WYO3cuAODUqVMCpyEiIqoZFupERHVEIpEAKC9iK5w5cwaenp7YsmUL3nnnHfj4+CAwMBC//fYbAODevXtYsmQJBg0ahC5dusDf3x/jxo1DVFSU0bGjo6Ph6emJU6dOITw8HEOGDIG3tzcGDRqEb775Blqt1mj74uJifP755xgwYAB8fHwwceLEGn2BsHv3bpSWliIsLAwKhaLKbaRSKRYvXoxly5bB0dHRaN0PP/yA0NBQ+Pn5wd/fH6Ghodi3b5/RNnfv3oWnp6ehmHpYxfzjw4cPG5YNGDAA06ZNw40bN/CXv/wF3bp1g7+/P2bPno3Lly8btps2bRrWrFkDAPjrX/9arTn5v/32G+bNm4fAwEB4e3ujR48emDlzJk6fPm20XcXc5NzcXCxZsgS9e/dGly5dMG7cOMTHx1c67t27d7Fw4UK8+OKL8Pf3x7x583D//v2n5nnU0KFDAQAHDx6stO7OnTtISUkxbFOV/fv3IzQ0FP7+/ujatStmzJhR6bMB5VM51q9fj6FDh8LHxwejRo2q8pxA1XPUTXU915azszOA8hEgDysoKMDatWsRHBwMf39/dOnSBUOGDMGnn36KwsJCAP+9Pu/du4e8vDx4enrivffeA1B5jnrFtqtXr8aPP/6IkJAQ+Pj4ICAgAB988AGysrIqZTtw4ABCQkLg7++PPn36YOXKlfjll1/g6emJ6OjoOvn8RETUeHHoOxFRHdDr9YiJiYFEIqlySOzatWshk8kwdepUXL9+HZ07d8bdu3cREhKCoqIiDB48GM2aNUNaWhri4+Pxj3/8A1qtFlOnTjU6zmeffYabN29i2LBh6N+/P/bt24cvv/wSxcXFmD9/PoDyIb+zZ8/G2bNn4ePjg8GDB+PChQt45ZVXYGdnV63P8/PPPwMA+vTp88Tt+vfvX2nZv/71L2zYsAGurq4YOXIkAODYsWN45513kJKSgr/97W/VylCVBw8eIDQ0FK1atcLEiRNx8+ZNHD16FImJiYiPj4eTkxPGjh0LADh79ixGjBiBNm3aPPGYhw8fxptvvgknJycMGjQIcrkc165dw08//YSzZ89i586dleZAz5w5Ezk5ORg+fDgKCwuxd+9evPXWW1i/fj0CAwMBAKmpqQgNDUVGRgYGDBiA5557Dj///DNmzZpV48/t7e0NDw8PHDp0CG+//bbRugMHDsDKygqDBg3CihUrKu37v//7v/j666/h4eGBsWPHQiQS4cCBA5g5cyZWrFhhVGy/9957iI2NRbt27TBp0iTcunULb775pqHgfRJTXc/PouI69vLyMiwrKyvDzJkzcf78eQQGBiIwMBAFBQU4cuQIwsPDcffuXXz11VdQKBSYN28eNm7ciJKSEsyZM6fSdfCoo0eP4uuvv0a/fv3Qq1cvnDx5Ejt27MD169exdetWw3YbN27EsmXL4OrqiuDgYJSWliIiIgIHDhx45s9MRETmgYU6EVENHT58GPfu3QNQXqAXFBTg7NmzuHbtGhYvXox27dpV2qegoAC7d++Gq6urYdm///1vZGdn47vvvsOLL75oWD516lRMmDABcXFxlQqb27dvY/fu3Xj++ecBlN89HjZsGHbu3GkobGJiYnD27FmMHz8eS5cuhVhcPnjq008/RXh4eLU+Y2pqKgCgVatW1fxTKZeQkIANGzagU6dOCA8Ph5OTE4Dy5l4zZszA+vXr0a9fP/To0aNGx61w584dhIWFYfHixYb52IsXL8b27dsRHx+PyZMnY9y4cbh37x7Onj2Ll1566alziVeuXAkHBwfs3r3bqDnYunXrsHLlSuzfv79SgSaRSBAXFweZTAYACAgIwMKFC7Fr1y5Dof7FF19ApVJhxYoVhi8PCgsL8dprr0GlUtX4sw8ePBjff/89bt68adQYLT4+Hi+88AKaNGlSaZ/z58/jm2++Qc+ePfHvf//b8EXNvHnzMGnSJCxZsgR9+vSBk5MTTp8+jdjYWAQGBuKbb74xjAyJjIzExx9//NR8prqea0qn0yEnJwenT5/GJ598AqB8ZEWF+Ph4JCUl4S9/+YvRORYuXIihQ4fi8OHDKCoqgkKhwBtvvIGYmBio1epqzclPTk7Gl19+ieHDhwMA3n77bYwdOxbnzp3DjRs30LZtW6SmpmLVqlVo2bIloqKiDNdcWFgYJk6cWKvPTERE5odD34mIaujHH3/EmjVrsGbNGqxduxbff/89UlJSIJPJoFarqxy227VrV6MiHQBGjx6NZcuWGRU1AODj4wNbW9sqm1gNGTLEUNQAQPPmzdG2bVtkZGSgpKQEALBv3z6IRCIsWLDAUKQD5UWDg4NDtT6jWq0GAMjl8mptX6FiyO67775rKNIBwMnJCQsWLAAA7Nq1q0bHfNTs2bONmqYFBQUBgOHLk5rQ6XRYsGABPv3000odvHv16gWg6mZiYWFhhiK9qgwajQYHDx5E+/btDUU6AMhkMixcuLDGOYHynz1Q3v29wv3793HhwgUMGzasyn127twJvV6Pd99912g0haOjI2bPno2ioiLs378fAAxTE95++22j6RthYWFPHZUAmO56fpq///3vRo9m69ixIwICAjB//nxIJBJ89tlnRs0dO3XqhKVLl2LGjBlGx7G3t0enTp2g1WqRm5tbrXM/qkWLFoYiHSifHlJx7oprY//+/SgpKcFrr71mdM116tTJ6FohIiLLxjvqREQ1tHz5cqMu04WFhfjjjz/w1Vdf4fPPP8etW7ewfPlyo32aN29e6Tjdu3dH9+7dkZOTg0uXLuH27du4efMmEhMTUVJSUmXBX9Ud7oriW6PRwMbGBpcvX8Zzzz1XabiytbU1OnfuXOXc5Ec1adIEKpUKarXaqOB+msuXL0MsFqNbt26V1lUse3g+eU3Z2NigWbNmRsvs7e0BVJ6HXB1isRiDBw8GUF5IXbt2Dbdv38b169dx5swZAOXF/KMefdTXwz8DoPzOf2FhIby9vSvt6+3tDalUWuOsFV/2HDx4EHPmzAFQfne4Yth7VZKTkwGUz20/duyY0bqKURMV86wvX74MiURS5fBuf39//PHHH0/MZ6rr+WkefjxbdnY29u3bh5ycHMyaNQvz58+HlZXxrzqtW7dG69atUVJSgqSkJNy8eRO3b99GcnIyzp49CwC1niP/tM8DABcuXABQ/gXGo7p27Yrt27fX6txERGReWKgTET0jmUwGb29vrFmzBoMGDUJ0dDRmz55tdBeyqoIjNzcXy5cvR1xcHEpLSyESieDh4YEXXnjhsd29H77TWaHi7rJerwdQfjf8cXOKlUpltT5TixYtoFKp8Oeffz6xUM/Ly0NRURHc3NwAAPn5+bCxsakyp4ODA+zs7FBUVFStDFWpzuevqStXrmDp0qWGIk0qlaJt27bw9vbGrVu3qjzuozkezVBxR7aqEQkSicTw5UJNiEQiDB48GFFRUUhNTUXTpk0RHx+PXr16VWrmVyEvLw9A+bD0x6nIqlarYWNjU6mwBap33Zjqen6aRx/PNm/ePISFhWH9+vVwdHSs1BNAp9Ph//7v//Ddd98ZPruzszP8/f3h4eGBGzdu1PpaetLnqZCdnQ0AVT6DveLvEREREQt1IqI6Ym1tDX9/fxw4cABXrlx56nDhv/3tbzh+/DhCQ0MRHByMDh06GAq4vXv31jqHQqEwFGiPquho/TR9+vTB77//jpMnT8Lf3/+x223btg2fffYZXn/9dbz99tuQy+UoKiqCWq2u1C2+pKQExcXFhqKyooCp6o71sxTzNZGfn49XXnkFeXl5+J//+R+8+OKLaNOmDaytrZGUlIS4uLhaHbeisK3q56DX62v9+YYMGYItW7bg0KFDGDJkCBITE584f1wmk0EikSApKempd/EVCgVu376N0tLSSttW57ox1fVcU05OTlizZg3GjRuHlStXokOHDujbt69h/YYNG/Dll1+iZ8+emD17Njp27GiYljJr1iyTP2qw4s+koKCg0pdg+fn5Jj03ERE1HpyjTkRUhyrmdj9tLrharcbx48fh7e2Njz76CF27djX8An/37l2UlJTU+q5e586d8eDBg0qPAdNqtYZhzk8zatQoSKVSREREPLboLyoqwo4dOwAAvXv3BvDf7toVj5972G+//Qa9Xm9otldRDFZVtN65c6daOR/n0buYj3P69GlkZGQgLCwMr7zyCry8vAx3RSsKttr8HFq2bAkHBwecO3eu0rrr16+juLi4xscEgJ49e8LR0RGHDh3CoUOHIBaLn9gsz9PT87E/98TERKxcuRIJCQkAyq8bnU6HpKSkSttevHjxiblMeT3XRtu2bTF//nzo9XosWrTI6BqOi4uDRCLBN998g759+xqKdL1ebxjeb8qsnTt3BlDe6O9RVf3ZExGRZWKhTkRUR5KSknD27FkolUp07979idtKpVKIxWKo1WqjudXFxcWGTtWlpaW1ylHRkGrFihVGxwgPD0dGRka1jtGiRQu8/PLLyM7OxqxZs5Cenm60Pi8vDwsXLsStW7fQv39/Qxf3iiHIn3/+udGzo7OysvDpp58CgOFxYM7OzlAqlTh//rxRo7GUlJRK86lrqmL49tPmrVdMSXi00dn9+/cNz2IvKyur8fmlUilGjhyJ27dv47vvvjMs12g0WLVqVY2PV0EikWDgwIH47bffEB0djV69ej1xakLFtbBs2TKju7X5+fn4xz/+gXXr1hnmY1c8um3lypVG2+7bt++phbopr+famj59Orp06QKVSoWVK1caltvY2ECr1VZ6tvnatWsNDd8e/plLpdJaXQOPU/El2LfffmuU4dq1a9i2bVudnYeIiBo3Dn0nIqqhhx/PBpTfqb5+/TqOHTsGrVaLRYsWwdbW9onHsLOzw+DBgxEfH48JEyagd+/eKCwsxNGjR5GRkQGlUom8vDzodDqjzu3VMWLECMTHx+PAgQO4efMmAgICcP36dZw+fRoeHh7V7o4+f/58ZGZmIjo6GgMHDkS/fv3QsmVLpKWl4eTJk8jKykLXrl0NBTgA9OjRAzNnzsR3332H0aNHG56zfvToUahUKsyePdtQ1EskEowfPx4bNmzAhAkTMHToUGRlZeHAgQPw8fEx3OmtDXd3dwDAN998g0uXLmHevHlV9gno1q0bPDw8sGfPHmRnZ8PLywsPHjzAjz/+CBsbG4hEIuTk5NQqw/z583Hq1CmsWLECJ06cQNu2bXHq1Cnk5ORUq0na4wwZMgQ7d+5EcnLyUx+b9sILL2DatGnYvHkzXnrpJQQFBcHa2hqHDx82PJO+oru9r68vXnnlFYSHh2PMmDHo168fUlNTcfjwYbRs2RK3b99+7HlMeT3XllgsxieffILx48dj27ZtCA4ORteuXTF69GgkJiZi8uTJGD58OKRSKc6cOYPk5GQ4OzsjMzPT6Gfu5uaGW7duYeHChQgMDMSYMWOeKZeHhwfefPNNrFq1CsHBwRg4cCCKi4sRHx9vuC7q68+IiIgaLv5PQERUQw8/nm3NmjVYv349zp8/j/79+2PTpk3V/kV+2bJlmDFjBvLy8hAREYGff/4ZXbp0QVRUFMaMGYPi4mJD5/Ga+vzzz7Fw4UJoNBpERUVBpVJhzZo1hqHp1SGRSLB8+XKEh4cjKCgIly9fxubNm3HkyBG0atUKH330ESIiIirNRX/vvffw2WefwcPDA3v37sX+/fvRunVrrF69utKjyd555x3DM643b96M5ORkLF68GDNnzqzV564wYsQIDB8+HHfu3MGWLVse++WETCbDd999hyFDhiA5ORkRERFISUnB6NGjERsbCy8vLyQkJKCgoKDGGZRKJaKiohAaGoorV65g27ZtcHFxwffff19l07HqCggIgEKhgEQiMXSsf5IPPvgAn376KZo1a4bY2FjExMTAxcUFy5Ytw5IlS4y2fffdd7F06VLY2dlh+/btuHr1KpYuXYp+/fo99TymvJ5rq2PHjpgxYwb0ej0+/PBDlJaWYsqUKVi8eDGaNGmCHTt2YO/evZDL5fj8888NX3wcP37ccIy//e1vaN++PQ4cOIA9e/bUSa45c+Zg2bJlcHR0xK5du3Dy5EnMmDEDc+fOBQCjR+kREZFlEunrc9IYERERkQXLzs6GVqutsuv7V199hbVr12LHjh1VPr6NiIgsR73cUU9MTESnTp2Mvkk/ceIEgoOD4ePjg1GjRhl9ew2Uzxd866230L17dwQEBOCzzz6r0zliRERERPXtzJkz6N27t6EHQoWsrCzExMRAqVTWaOQLERGZJ5PPUS8sLMS7775raFYDlHe8ff311zF37lwMGTIEe/fuxV//+lfExMSgffv2AIA33ngDIpEIERERSEtLw3vvvQcrKyvMnz/f1JGJiIiITKJPnz7w8PDA2rVrceHCBXTo0AG5ubk4fPgwsrOzsWLFimeaGkFERObB5EPfP/zwQ9y8eRNnz57Fpk2b0KtXL8OyzZs3G7abNm0aWrVqhU8++QTnzp1DaGgoDh8+jBYtWgAAYmJi8Mknn+D06dP8D4yIiIgarfT0dKxfvx7Hjh1DamoqZDIZvL298eqrryIgIEDoeERE1ACY9I768ePHcezYMaxbtw6jR482LE9ISMDw4cONtu3Vqxf27dtnWO/h4WEo0oHyZ8cWFBTg0qVL8PX1NWVsIiIiIpNxc3PDokWLsGjRIqGjEBFRA2WyQj0rKwvvv/8+li1bBqVSabQuNTXV8OicCm5ubkhNTQUApKWlwc3NrdJ6AHjw4EGVhbparYZara603MnJCTKZ7Jk+CxEREREREVF9MVmhvmTJEgwYMAB9+/Y1FOAViouLKw1ft7a2RklJCQCgqKio0jNmpVIpRCKRYZtHbdy4sVJjltDQUHz00UfP+lGIiIiIiIiI6o1JCvWYmBikpKQgNja2yvU2NjYoLS01WqbRaAzPDbW1tYVGozFaX1paCr1e/9i74zNmzMDYsWONllV8GaBWF0Gr1dXqsxARERERETVWEokYCoWd0DGohkxSqEdHRyMtLQ2BgYEAgIp+dbNnz8aYMWPQrFkzpKenG+2Tnp5uGA7ftGnTSo9rq9j+0SHzFRQKBRQKRZXrtFodyspYqBMREREREVHDZ5JCfeXKlSguLja8V6lUCAsLw9KlS9G7d298+eWX+PXXX432OXPmDLp37w4A6NatG1auXIkHDx6gWbNmhvVyuZzPFiUiIiIiIiKzZpJC/dG73hXzzd3d3eHs7IypU6di/Pjx+Oqrr/DSSy8hLi4OSUlJ+Mc//gEA8Pf3h5+fH+bPn4/FixcjIyMDn332GWbOnMlHsxEREREREZFZEwtxUk9PT6xZswbx8fEYM2YMjhw5gm+//RZt27YFAIhEIqxZswbOzs4ICwvDokWLMGHCBPz1r38VIi4RERERERFRvRHpKyaQm7Hs7ALOUSciIiIiIotjZSWGo6Nc6BhUQ4LcUSciIiIiIiKiqrFQJyIiIiIiImpAWKgTERERERERNSAs1ImIiIiIiIgaEBbqRERERERERA0IC3UiIiIiIiKiBoSFOhEREREREVEDwkKdiIiIiIiIqAFhoU5ERERERETUgLBQJyIiIiIiImpAWKgTERERERERNSAs1ImIqN7o9XoU/fEH9Dqd0FGIiIiIGiwW6kREVG9yfzqGO8s+Rtb+fUJHISIiImqwrIQOUB8cHeW12q+4pAx56qI6TkNEZJm0eXnI2LUTEImQtW8vFC8EQOrsInQsIiIiogbHIgr1d1f/hEu3smu8395VwcgzQR4iIkuk2rUDupJieLw5H/e/WYP0rVvg8dc3hY5FRERE1OBw6DsREZlc0Y3rUJ/4CY6DBkPexQfOI0ej4NzvyD+fJHQ0IiIiogaHhToREZmUXqtFesQmWDk6wnnUGACA45BhsG7aDKqoCOg0GoETEhERETUsLNSJiMikco4dQcmd23CdNBliW1sAgMjKCm5h01CqUrGxHBEREdEjWKgTEZHJlOXmIHN3NGSdOsO+Ww+jdbKOneDQsxey9++DJj1doIREREREDQ8LdSIiMhnVzu3Ql5bCbco0iESiSutdJ4ZCZGWF9C0R0Ov1AiQkIiIianhYqBMRkUkUXr2CvFO/wHHocFg3bVrlNlZNHOE8eiwKL55HQeLv9ZyQiIiIqGFioU5ERHVOX1ZW3kDO2RlOI0Y+cdsmAwbC2qM50qO2QFdSUk8JiYiIiBouFupERFTnsn88BM39e3ALDYPYxuaJ21Y0livLykTWvr31lJCIiIio4WKhTkREdao0OxuZsXsg9/GF3M+/WvvIOnhCEdAbWfH7oXlw38QJiYiIiBo2FupERFSnVNuiAJ0WrpPDqmwg9zguIRMhtrZmYzkiIiKyeCzUiYiozhSkJCM/4SycRoyEtatbjfa1UirhMnY8Ci+lIP/XsyZKSERERNTwsVAnIqI6oSstRXrkZkhd3eA4bHitjqHsNwA2LZ9H+vYo6IqL6jghERERUePAQp2IiOpEzqF4lKalwi1sKsRS61odQyQWw23qdGhzcpAZu6eOExIREVFNJCYmolOnTjhz5sxjt/nhhx8QHBwMPz8/DB48GP/+97+h1WrrMaV5YqFORETPrDQzA5lxsbD37wa5t88zHcuuTVso+vRF9uGDKLl3t44SEhERUU0UFhbi3XfffWLRffz4cSxcuBATJkxAbGwsFixYgHXr1uHbb7+tx6TmiYU6ERE9s/StWwAArqFT6uR4ruMmQGxnh/TIzWwsR0REJIAVK1bA3d39idts3boVQ4YMwdSpU9GyZUsMGzYML7/8MqKjo+sppflioU5ERM8k/3wSCs79DueRoyF1dq6TY0ocHOAyfgKKrl5B3ulf6uSYREREVD3Hjx/HsWPH8MEHHzxxu9dffx3z5s0zWiYWi6FWq00ZzyJYCR2AiIgaL51GA1VUBKybNoPjkGF1emxlYF+oT/wE1fZtkPv6QSKT1+nxiYiILMmDBw8qDWNXKBRQKBRGy7KysvD+++9j2bJlUCqVTzymj4/xdLf8/HxERUWhT58+dRPagvGOOhER1VrW/n0oVangFjYNIqu6/e5XJBbDLWw6tPl5yNwdU6fHJiIisjRhYWEYOHCg0Wvjxo2VtluyZAkGDBiAvn371uj4RUVFmDt3LkpKSrBgwYK6im2xeEediIhqRZOejuz9++DQsxdkHTuZ5By2z7eCst8A5Bz9EYrAPrBt+bxJzkNERGTuIiMjq7yj/rCYmBikpKQgNja2RsfOysrC3Llzcf36dWzYsAEeHh7PnNfSsVAnIqIa0+v1UEVFQGRlBdeJoSY9l8uYcchPOIv0iE1o8d77EIk5GIyIiKimmjVr9tRtoqOjkZaWhsDAQAAwNHSdPXs2xowZg48//rjSPnfv3sWrr76KgoICREREwMvLq26DWygW6kREVGMFib+j4MJ5uE6cDKsmjiY9l0Quh0vIJKR9tx7qkz9D2SfIpOcjIiKyVCtXrkRxcbHhvUqlQlhYGJYuXYrevXtX2j4zMxPTp0+HRCJBVFQUWrRoUZ9xzRoLdSIiqhFdSQnSo7bA2qM5mgwYWC/nVLzYu7yx3K4dsPfvBom9fb2cl4iIyJI8+jg2Gxsbw3JnZ2doNBrk5uZCqVTC2toaH330EbKzs7Fx40bY2tpCpVIBAEQiEVxcXOo9vznh+EEiIqqRrH17UZaVaZIGco8jEongFjYNusJCZETvrJdzEhERkbFz584hMDAQ586dQ3FxMQ4dOoTCwkJMmDABgYGBhldNG9FRZbyjTkRE1aZ5cB9Z8fuhCOgNWQfPej23TfMWaDJwMHIOH4QisC/s2rSp1/MTERFZmqZNm+LKlSuG97169b7wSRwAACAASURBVDJ6f+nSJSFiWQTeUSciomrR6/VI3xIJsbU1XEImCpLBefQYSBRKpEdugl6nEyQDERERkamxUCciomrJT/gVhZeS4TJ2PKyUSkEySOzs4DopFCV/3kLu8WOCZCAiIiIyNRbqRET0VLriIqRv2wKbls9D2W+AoFkcevSCnVdHZMTsRJlaLWgWIiIiIlMwaaGempqKN998Ez179kT37t0xf/58pKWlGdYHBATA09PT6PX1118b1v/555949dVX4e/vj6CgIKxfv96UcYmI6DEyY/dAm5MDt6nTBX+OuUgkgtuUadCVlCBj53ZBsxARERGZgsmayen1esyZMwdOTk7YtGkTAGDp0qV4/fXXER0djYyMDGRlZSEyMhLPP/+8YT+5XA4A0Gg0mDVrFjp27IgdO3bg0qVLWLx4MRQKBSZOFGZuJBGRJSq5dxfZhw9C0acv7Nq0FToOAMDmuefgOHgosg/8AGWfINi1by90JCIiIqI6Y7LbIhkZGWjbti2WLl0KLy8veHl54eWXX0ZycjJyc3Nx7do1WFlZwdfXF66uroaXTCYDABw8eBAZGRlYvnw52rVrh1GjRmHWrFkIDw83VWQiInqEXq9HeuRmiO3s4DpugtBxjDiPCoaVkxPSIjdBr9UKHYeIiIiozpisUHd1dcUXX3yB5s2bAygfBr9t2zZ06dIFSqUSV69eRYsWLSCVSqvcPyEhAd7e3oY77ADQs2dP3Lp1CxkZGaaKTURED8k7/QuKrl6By/gJkDg4CB3HiNjGBq6TpkBz9w5yjv4odBwiIiKiOlMvz1GfO3cufvzxRyiVSsMw+Io76q+99houXrwId3d3TJ8+HWPGjAFQXti7ubkZHafi/YMHD+Di4mK0Tq1WQ/1IUyFra+tKxyAiourRFhZAtX0bbNu0gTKwr9BxqmTftRtk3l2QuTsaDt17wqpJE6EjERERET2zeukI9NZbb2HHjh3o2rUrZs6cibS0NFy/fh05OTkICQlBeHg4hg0bhkWLFmHXrl0AgOLiYtjY2Bgdx9raGgBQUlJS6RwbN27EwIEDjV5vvfWW6T8cEZGZytwdA21+HtzChG8g9zgikQhuk8OgLyuDasdWoeMQERER1Yl6uaPu6ekJAPjiiy/Qr18/xMTEYNOmTdBoNLC3twcAeHl54d69e/j+++8xfvx42NraQqPRGB2n4n3FPPaHzZgxA2PHjjVaVlHYExFRzRTf/hM5R3+Est8A2D7fSug4T2Tt3hSOw0YgKy4Wyj5BkHl1FDoSERER0TMxaTO5ffv2GS2zs7NDixYtkJaWBmtra0ORXqFDhw548OABAKBp06ZQqVRG69PT0wEA7u7ulc6nUCjQvHlzoxeHvRMR1Zxep0N6xCZI7O3hMnac0HGqxWnESEhdXJEeuRn6sjKh4xARERE9E5MV6vfv38c777yDCxcuGJbl5eXh5s2baNWqFYKCgvDdd98Z7XPx4kW0a9cOANCtWzdcvHgRRUVFhvVnzpxB69at4ezsbKrYREQWT33yZxT/cQMuIZMgkcmfvkMDILa2huvkMGge3Ef2oYNCxyEiIiJ6JiYr1L29vdG9e3d88MEHOH/+PFJSUvD222/DyckJISEh6N+/P7799lv8+OOP+PPPPxEeHo7Y2FjMmzcPADB48GAolUosWLAAV69eRVxcHMLDwzFnzhxTRSYisnja/Hyodu2AXfsOULzYW+g4NWLv6we5nz8y9+5GaVam0HGIiIiIas1khbpYLMbq1avRsWNHvPbaa5g6dSrkcjkiIiIgl8uxaNEihIaG4p///Cdeeukl7NmzB19++SUCAwMBALa2tli/fj3y8/MREhKCVatWYf78+Rg3rnEMwyQiaowyYnZCV1gIt7BpEIlEQsepMbfQKQAA1bYogZMQERER1Z5Ir9frhQ5hau+u/gmXbmXXeL+9q4KhUuWZIBERUcNTfPMP3F72CZoMGgK3SZOFjlNrmXGxyNwdDY/5CyHv7C10HCIiIkFZWYnh6Ng4prLRfzXM5+0QEVG90ut0SIvYBIlCCefRY4SO80wchw6H1N0d6Vs2Q1daKnQcIiIiohpjoU5ERMg9fgwlf96C66RQSOzshI7zTMRSKdymTENpWhqy4/cLHYeIiIioxlioExFZuDK1GhkxO2Hn1REOPXoJHadOyDt7w75bd2Tt24vSRx71SURERNTQsVAnIrJwGTu3Q1dSArcpjbOB3OO4TpoCiMVI3xopdBQiIiKiGmGhTkRkwYquXYP6lxNwHDwUNs89J3ScOiV1coLzqGAUJCUiP/Gc0HGIiIiIqo2FOhGRhdJrtUiL3ASr/xS05shx0BBYP/ccVFu3QKfRCB2HiIiIqFpYqBMRWaicoz9Cc/cOXCdNgdjGRug4JiGysipvLJehQtYPcULHISIiIqoWFupERBaoLCcHmbujIfPuAvuu3YSOY1Iyr45w6PUCsg/8AE1aqtBxiIiIiJ6KhToRkQVS7dgKfVkZ3CZPNasGco/jOiEUIqkU6VsioNfrhY5DRERE9EQs1ImILEzh5UvIO3MajsNfgrW7u9Bx6oVVkyZwDh6LwuSLyP89Qeg4RERERE/EQp2IyILoy8qQHrkZUhdXOA1/Seg49apJ/4GwadECqq1R0BUXCx2HiIiI6LFYqBMRWZDsQweheXAfrpPDILa2FjpOvRJJJHALm46y7CxkxsUKHYeIiIjosVioExFZiNKsTGTG7YHczx/2vn5CxxGEXbv2UPTug+xD8Si5f1/oOERERERVYqFORGQhVNuiAL0ebqFThI4iKJfxEyC2sUH6ls1sLEdEREQNEgt1IiILUJB8Efm/JcBpxEhIXVyFjiMoK4UCLmNDUHT5EvLOnhE6DhEREVElLNSJiMycrrQU6Vs2Q+reFI5Dhwsdp0FQBvWDTavWUG3fCm1RkdBxiIiIiIywUCciMnPZ8ftRmpYGtylTIZZKhY7TIIjEYriHTYNWnYvMPTFCxyEiIiIywkKdiMiMlapUyNq3F/bdukPe2VvoOA2Kbes2UPYNQs6Rwyi5c0foOEREREQGLNSJiMxY+rYtgFgM10mW3UDucVzGhkAik7OxHBERETUoLNSJiMxUflIiChLPwXlUMKROTkLHaZAk9vZwCZmAomtXof7lpNBxiIiIiACwUCciMks6jQaqqEhYP/ccHAcNETpOg6Z4MRC2bdshY+c2aAsKhI5DRERExEKdiMgcZf0Qh9IMFdymTIPIykroOA2aSCyGW9g0aPPzkbF7l9BxiIiIiFioExGZG01aKrIP/ACHXgGQeXUUOk6jYNvyeTTpPxC5x46i+NYtoeMQERGRhWOhTkRkRvR6PdK3REAklcJ14iSh4zQqzmPGQeLggPTITdDrdELHISIiIgvGQp2IyIzk/56AwuSLcA4eCytlE6HjNCoSmQyuE0JRfPMP5J74Seg4REREZMFYqBMRmQldSQlUW6Ng06IFmvQfKHScRsnhhQDYdfBExq4d0OblCR2HiIiILBQLdSIiM5G5dw/KsrPgFjYdIolE6DiNkkgkglvYdOiKiqCK3iF0HCIiIrJQLNSJiMxAyf37yD4UD0XvPrBr117oOI2ajYcHHAcNgfrnn1B047rQcYiIiMgCsVAnImrkyhvIbYbYxhYuIROEjmMWnEcHQ9KkCdIjN7OxHBEREdU7FupERI1c3tkzKLp8CS7jxsPKQSF0HLMgtrWD26QpKLn9J3KOHRE6DhEREVkYFupERI2YtqgIqu1bYdOqNZR9+wkdx6zYd+8BWcfOyIzZhbLcXKHjEBERkQVhoU5E1Ihl7omBVp0L97BpEIn5T3pdKm8sNxU6jQYZO7cLHYeIiIgsCH+rIyJqpEru3EHOkcNQ9g2Cbes2QscxS9ZNm8Fp6HCoT51E4dUrQschIiIiC8FCnYioEapoICeRyeEyNkToOGbN6aVRsHJyLm8sV1YmdBwiIiKyACzUiYgaIfUvJ1F07SpcQiZAYm8vdByzJraxgdvkKdDcu4ucI4eFjkNEREQWgIU6EVEjoy0oQMbObbBt2w6KFwOFjmMR5H5dIe/ig4w9u1GanS10HCIiIjJzLNSJiBqZjN27oM3PhxsbyNUbkUgE18lTAW0ZMrZHCR2HiIiIzBx/wyMiakSKb91C7rGjaDJgEGxbPi90HIti7eYGpxEjkffrWRReShE6DhEREZkxFupERI2EXqdDeuQmSBwc4Bw8Vug4Fslx+AhIXd3YWI6IiIhMioU6EVEjkXviJxTf/AOuE0IhkcmEjmORxFJruE2ZCk3qA2QfPCB0HCIiIjJTLNSJiBoBbV4eMnbtgF0HTzi8ECB0HIsm7+IDuX9XZMbFojQzU+g4REREZIZYqBMRNQKq6B3QFRfDLWw6RCKR0HEsnlvoFACAausWgZMQERGROTJpoZ6amoo333wTPXv2RPfu3TF//nykpaUZ1sfGxmLo0KHw8fHBxIkTcf78eaP9//zzT7z66qvw9/dHUFAQ1q9fb8q4REQNUtGN61D//BMcBw2GjYeH0HEIgNTZBc4jRyP/3G8ouHD+6TsQERER1YDJCnW9Xo85c+ZArVZj06ZNiIiIgEqlwuuvvw4A+OWXX7Bo0SK88soriImJQYcOHfDqq68iKysLAKDRaDBr1izI5XLs2LEDCxcuxJo1a7B9+3ZTRSYianDKG8hthpWjI5xHjRE6Dj3EccgwSJs2RfqWCOhKNULHISIiIjNiskI9IyMDbdu2xdKlS+Hl5QUvLy+8/PLLSE5ORm5uLsLDwzFy5EhMmjQJbdu2xccffwylUmkoxA8ePIiMjAwsX74c7dq1w6hRozBr1iyEh4ebKjIRUYOTc+wISm7/CddJkyG2tRU6Dj1EZGUF97DpKFWlI/vAfqHjEBERkRkxWaHu6uqKL774As2bNwdQPgx+27Zt6NKlCxwcHPD777+jZ8+e/w0iFqNHjx5ISEgAACQkJMDb2xtyudywTc+ePXHr1i1kZGSYKjYRUYNRlpuLzJhdkHXsDPtuPYSOQ1WQdewEhx49kfVDHDSqdKHjEBERkZmol2Zyc+fORVBQEJKSkrB06VKo1WoUFhbC3d3daDs3NzekpqYCKC/s3dzcKq0HgAcPHlQ6h1qtxt27d41e6en8pYmIGq+Mnduh02jgFjaVDeQaMJeJkwGxBKqoSOj1eqHjEBERkRmol0L9rbfewo4dO9C1a1fMnDkTBQUFAAAbGxuj7aRSKUpKSgAAxcXFldZbW1sDgGGbh23cuBEDBw40er311lum+DhERCZXePUK1KdOwmnocFg3bSZ0HHoCqaMjnEcHo+B8EgoSzwkdh4iIiMyAVX2cxNPTEwDwxRdfoF+/foiNjQVQ3jDuYaWlpbCzswMA2NraVlpf8V4mk1U6x4wZMzB27FijZRWFPRFRY6IvKytvIOfsDKeXRgkdh6rBceBgqE+eQPrWSMg6dYb4kS+aiYiIiGrCpM3k9u3bZ7TMzs4OLVq0QHp6OmQyWaWh6enp6Ybh8E2bNoVKpaq0HkClIfMAoFAo0Lx5c6PXo0PniYgag5wjh6G5dxduoWEs+BoJkZUV3KZOR1lmJrL27RU6DhERETVyJivU79+/j3feeQcXLlwwLMvLy8PNmzfRrl07+Pv749dffzWs0+l0+PXXX9GjR3nDpG7duuHixYsoKioybHPmzBm0bt0azs7OpopNRCSo0uxsZOzZDbmPL+R+/kLHoRqQdfCEQ8CLyIrfD81/+q0QERER1YbJCnVvb290794dH3zwAc6fP4+UlBS8/fbbcHJywpgxY/Dyyy9j9+7diIyMxI0bN/Dhhx8iLy8PISEhAIDBgwdDqVRiwYIFuHr1KuLi4hAeHo45c+aYKjIRkeAydmwFtGVwnRzGBnKNkGvIJIitrZG+ZTMbyxEREVGtmaxQF4vFWL16NTp27IjXXnsNU6dOhVwuR0REBORyOfr27YuPP/4YGzZswNixY3H9+nVs2LABTk5OAMrnqK9fvx75+fkICQnBqlWrMH/+fIwbN85UkYmIBFV4KQV5Z8/AacRIWLty6k5jZKVUwnnseBSmJCP/t1+fvgMREVEDlpiYiE6dOuHMmTOP3ebChQsIDQ2Fr68vhgwZgt27d9djQvNl0mZyTk5OWLFixWPXjx8/HuPHj3/s+jZt2mDTpk2miEZE1KBUNJCTurrBcfgIoePQM2gS1B/qn3+CalsU5N5dILa1EzoSERFRjRUWFuLdd9+FVqt97DZZWVmYNWsWRo4ciX/+85/45Zdf8P7778PFxQWBgYH1mNb81Mvj2YiI6MmyDx6AJvUB3KZMhVjKJ1Y0ZiKJpLyxXHY2MvfuEToOERFRraxYsaLKJt4P27FjB+zt7fH++++jbdu2mDZtGkaPHo0NGzbUU0rzxUKdiEhgpZmZyIyLhb1/N8i7+Agdh+qAXdt2UAT2RfbhQyi5d0/oOERERDVy/PhxHDt2DB988METt0tISECPHj0gFv+3rOzZsyd+//139mp5RvXyHHWheaeeh0tmRo33+zOyEIWFJSZIZBpiaxso+/WHRCYXOgrRMym8egWFKReFjlFvCi9dAgC4hk4ROAnVJdfxE5B/7jekR25C87+9x+aAZqjg4gVIFArYtnxe6ChERE/14MGDSsPYFQoFFAqF0bKsrCy8//77WLZsGZRK5ROPmZqaik6dOhktc3NzQ1FREbKzsw39x6jmLKJQ90pPRuts1dM3fMTdnclAY/omSK9Hyb27aDb7L0InIaq10sxM3PtyFfQaDWAhhY1IIoHrpCmQ8tGTZkXi4ADnUWOg2hqJkju3WcyZGX1ZGR58uxZSV1e0/PBjfhFDRA1eWFgY7j0yymvevHl44403jJYtWbIEAwYMQN++fZH6lMeNFhcXw9raeMpexXuNRlMHqS2XRRTqO30m49Kt7Brvt3dVMFSqPBMkMo2M3dHIiouFsk8QZF4dhY5DVCuqbVsAAK3/tRJSZxeB0xA9G4cePaHatgUFSYks1M1M4ZXL0BUXo+TOHRTf/AN2bdoKHYmI6IkiIyOrvKP+sJiYGKSkpCA2NrZax7S1ta1UkFe8t7NjM9VnwTnqZsRpxEhIXVyRHrkZ+rIyoeMQ1VjBxfPI//03OL00ikU6mQUrpRK2rVsjPylR6ChUxwqSzkFkbQ2RjQ1yjx8TOg4R0VM1a9YMzZs3N3o9WqhHR0cjLS0NgYGB8Pf3x7BhwwAAs2fPxocffljpmE2bNoVKZTxyOT09HTKZDA4ODqb7MBbAIu6oWwqxtTVcJ4fh/uovkX3oIJz4iCdqRHSlGqRHRkDq3hSOQ4YJHYeozsh9/ZEZswtlOdmwauIodByqA3q9HvlJiZB16gwrhQLq06fgOimUPWKIqNFbuXIliouLDe9VKhXCwsKwdOlS9O7du9L23bp1Q3R0NPR6vWEK0JkzZ9C1a1ejBnNUc/zTMzP2vn6Q+/kjc+9ulGZlCh2HqNqyD+xHqSodbmHTIJZKhY5DVGfsff0AAPlJSQInobqiuXsXZZmZsPfxg7Jvf+g1GqhP/SJ0LCKiZ+bu7o7nn3/e8GrevLlhubOzMzQaDVQqlWF4e0hICLKysrBkyRLcuHEDmzdvRlxcHGbNmiXkxzALLNTNkNt/OkertkUJnISoejSqdGT9EAf77j0h79RZ6DhEdcraozmsXFxQkHRO6ChUR/L/87OU+/rCtlUr2DzfCrnHj/FRRERk9s6dO4fAwECcO1f+76CLiwvWr1+PlJQUjBkzBhEREfjXv/6FgIAAgZM2fhz6boakLq5wGjESmbujUXDxAuTeXYSORPREqqhIQCyG66TJQkchqnMikQj2Pn7I/fk4dCUlENvYCB2JnlFBUiJsW7eBlbIJAEAZ1A/pm75H8fXrsGvfXuB0RER1p2nTprhy5Yrhfa9evYzeA4Cfnx927txZ39HMHu+omynHocMhdXdHelQEdKWlQscheqz8xHMoOJ8E59FjIHXk/F0yT3I/f+hLS1F4KUXoKPSMynJzUHzzD8j/M6UBABQ9X4DY1hY5x48ImIyIiMwJC3UzJZZK4TZlGkrT0pAdv1/oOERV0pWUID0qAtbPecBx4GCh4xCZjKyDJ8R2doYh09R4FZwv7zVg7+tvWCa2tYXDCy8iP+FXaPPzhYpGRERmhIW6GZN39oZ9t+7I2rcXpY88NoGoIcj6IQ5lmZlwC5sGkRVn4pD5EllZQdbZGwVJidDrdELHoWeQn5QIKydnWP+nwVKFJkH9oC8rg/qXkwIlIyIic8JC3cy5TpoCiMVI3xopdBQiI5rUVGTH74fDCwGQeXoJHYfI5Ox9/aFVq1F865bQUaiWdBoNClOSYe/nZ3gMUQWbFi1h26YNcn46yqZyRET0zFiomzmpkxOcRwWjICkR+YkcckkNg16vR/qWzRBJpXCdMEnoOET1Qt7FBxCJ2P29ESu8lAK9RgP5Q8PeH6YM6o/S1FQUXb1S5XoiIqLqYqFuARwHDYH1c88hfWskdCUlQschQv5vv6IwJRnOY8YZuiYTmTuJvT3s2ndAflKi0FGolgqSEiG2tYVdB88q1zt07wmxnR1yjx+t52RERGRuWKhbAJGVFdymTENZRgay9u8TOg5ZOF1xMVTbomDToiWa9BsgdByieiX39YPm7h2UZmYIHYVqSK/TIT8pEbLO3hBLpVVuI7axgSKgN/J+S0BZnrqeExIRkTlhoW4hZF4d4dDrBWQf+AGatFSh45AFy9y7B2XZ2XCbOh0iiUToOET1qqJTOO+qNz4lt/+ENjcH9n5VD3uvoAzqD2i1UJ88UU/JiIjIHLFQtyCuE0IhkkqRviWCjW5IECX37iH78EEoAvvArm07oeMQ1Tvrpk0hdW+KAhbqjU5+UiIgEkHexfeJ29l4eMCufQfk/nScHf6JiKjWWKhbEKsmTeAcPBaFyReR/3uC0HHIwuj1eqRHboLYxhYu4ycIHYdIMPa+fii8fAnaoiKho1ANFCSeg1279pDY2z91W2XffihNT0Ph5Uv1kIyIiMwRC3UL06T/QNi0aAHV1ijoiouFjkMWJO/MKRRdvQKX8SGwclAIHYdIMHI/f0CrRWHyRaGjUDWVZmWi5M5tyH39qrW9fffuEMvlbCpHRES1xkLdwogkEriFTUdZdhYy42KFjkMWQltYCNX2rbBp1RrKPkFCxyESlF3bdhDL5MjnY9oajYqpCvbVLNTFUmsoXgxEfuI5lOXmmDIaERGZKRbqFsiuXXsoevdB9qF4lNy/J3QcsgCZe2KgzcuD+9TpEIn5zw5ZNpFEArmPDwounOcc5kYiPykRUnd3SJs2q/Y+TYL6sakcERHVGn9jtlAuIRMgtrFhYzkyuZI7t5Fz5DCUQf1h26q10HGIGgR7X3/o8vNRfOO60FHoKXTFRSi6fAn2Pn4QiUTV3s+6aTPYeXoh56dj/EKGiIhqjIW6hbJyUMBlbAiKLl9C3tkzQschM6XX6ZAWsQkSuT1cxowTOg5RgyHr7A1IJMhP5PD3hq4gORn6srLy3gI1pAzqh7KMDBSmsB8BERHVDAt1C6YM6gebVq2h2r6V3YfJJNS/nETxjetwCZlYrU7JRJZCIpNB1sGLj2lrBAqSEiGWyWHXrn2N97X37waJvQNyjh+r+2BERGTWWKhbMJFYDPewadCqc5G5J0boOGRmtPn5yNi5HbZt20HxYm+h4xA1OHI/P2hSH0CTlip0FHoMvU6HgvNJkHfpApFEUuP9xVIpFIF9UJCUiLKcbBMkJCIic8VC3cLZtm4DZd8g5Bw5jJI7d4SOQ2YkI2YXtAX5bCBH9BgVHcR5V73hKv7jBrT5ebD3rfmw9wrKPkGATofcn3+qw2RERGTu+NszwWVsCCQyOdIiN7HhDdWJ4pt/IPenY2gycBBsWrQUOg5RgyR1cYW1R3POU2/A8hPPARIJZN5dan0Ma3d3yDp2Ru7Px/l/LBERVRsLdYLE3h4uIRNQfP0a1KdOCh2HGjm9Toe0yM2QKBRwHj1W6DhEDZq9rx+Krl+DtqBA6ChUhYLziZB18IREJnum4yiD+qEsKwsFF87XUTIiIjJ3LNQJAKB4MRC2bdshY+d2/sJIzyT35+MouXUTrhNDn/mXWyJzJ/f1A3Q6FFxkAdfQaNLTobl/v/xn9Izs/fwhUSqRe/xoHSQjIiJLwEKdAJQ3lnMLm1beAGz3LqHjUCNVlqdGxq6dsPP0gkPPF4SOQ9Tg2bZuA4mDAgUc/t7gFCSV/0zqolAXWVlB2bsPCi6cR2lm5jMfj4iIzB8LdTKwbfk8mvQfiNxjR1F865bQcagRyti1A7qSYriFTYNIJBI6DlGDJxKLIff1RcHFC9CXlQkdhx6Sn5QI6+c8YO3qVifHU/YNAlA+6oiIiOhpWKiTEecx4yBxcEA6G8tRDRVdvwb1iZ/hOGgIbJ7zEDoOUaNh7+sPXVERiq5dFToK/Ye2sABF167Wyd30ClIXV8g6eyP3xE/Qa7V1dlwiIjJPLNTJiEQmg+uE0PKu3XyUDFWTXqtFeuQmWDk6wXlUsNBxiBoVWafOEFlZIT+Jw98bioKLFwCtFvZ+tX8sW1WaBPWHNicHBef5SD4iInoyFupUicMLAbDr4ImM6B3Q5uUJHYcagZyjR1By5w5cJ02G2NZW6DhEjYrYxgayjp1QkJgIvV4vdBwCUJCYCImDA2xbt6nT48p9fGHl6Iic48fq9LhERGR+WKhTJSKRCG5h06ErLoZq1w6h41ADV5aTg8w90ZB19oZ9t+5CxyFqlOR+/ijNUEFz/77QUSyevqwMBRfPQ+7jB5G4bn9NEkkkUAT2RWHyRZSqVHV6bCIiMi8s1KlKNh4ecBw0GOoTP6HoxnWh41ADptq5DfrSUrhNmcoGckS1JPcpnwtdwOHvgiu6fg26wsI6nZ/+MGWfvgDYVI6IiJ6MhTo9lvOopLFnSwAAIABJREFUYEiaNEF65GY2lqMqFV65jLzTp+A4dDis3ZsKHYeo0ZI6OsLm+VbIT+LcZaHlJyVCZGUFeafOJjm+1MkZch/f8qZy7PRPRESPwUKdHktsawe3SVNQcvtP5Bw7InQcamD0ZWVIj9wMK2dnOI0YKXQcokbP3tcPxX/cQJlaLXQUi6XX61GQeA52Xp1M2m9DGdQP/8/efYc3VfZ9AP+erDY5adNBB6Mgo7SFtmkFGVJocQ9EmaIMQX3FraC+KoI+jwuFR3Hg3ggoIoiiqDwi4ERFm5QCZY8C3SNt0pEmOe8fSF9rAQs0vdPk+7muXNCT03O+4eJK8jvnvn+3u6oKdgtHUBAR0fGxUKeTMvY/B4akvij7ZAVcNpvoOORDKtb9F84jhxF9zSSogoJExyFq9+S0dEBR4Mixio4SsJwFBWgoKYbRS8Pej5GTU6GJiISNTeWIiOgEWKjTSR1tLDcJHqcTJR8vEx2HfERDeTnKPlsFOdXc6ssXEQWqoLiu0IRHwMHh78Ic+7f31vz0YySVCqahw1CzfSucRUVePRcREbVPLNTpH+liOyLi4ktR/fNPqNm5Q3Qc8gElH30AeDyIvmaS6ChEfkOSJMipZji2boGnwSk6TkCyW7MR1LUbtBERXj+XaegwQKWC7bsNXj8XERG1P14t1EtLS3H//fcjIyMD/fv3xw033ICdO3c2Pj948GAkJCQ0ebz88suNzx84cAA33HAD0tPTkZmZiTfffNObcekkIi6/AprISBQvXsTmNwHOsTUX9s2/IeKyEdBGRYmOQ+RXjGnpUJxO1ObliY4ScFzVVajbs9vrd9OP0YSFw2hOR9WPP8DT0NAm5yQiovZD460Dezwe3H777VAUBS+//DIMBgNefPFFTJ06FV988QXcbjfKy8uxZMkSdOvWrfH3ZFkGADidTtx4441ISkrC8uXLsX37dsyZMwehoaEYP368t2LTCaiCghA9YSKOvPQCKr/9BuEXXSI6EgngaWhA8dLF0EbHIPySS0XHIfI7+sRESEFBsFstkFNSRccJKI6cHEBRYDS33XQeU2YW7Nm/w579O0IHDGqz8xIRke/zWqGel5eH7OxsrFmzBj179gQAzJ8/HwMGDMDGjRsRExMDjUYDs9kMrVbb7PfXrl2L0tJSzJ07F7Iso1evXjhw4ADeeustFuqCyGnpkFNSUfrpKhjPGQhteLjoSNTGKtZ+hYaiQnS+eyZUWp3oOER+R6XVQe6TDIfVAmXiZEiSJDpSwHDkWKAOC0PQX24eeJuhT19oO0TBtmE9C3UiImrCa0PfO3bsiNdeew3du3dv3HbsC4fNZsPOnTsRFxd33CIdADZv3ozk5OTGO+wAMGDAAOzfvx+lpaXeik0nIUkSoq6ZBLhdKP3oA9FxqI01lJag/IvVMJ7dD3Iy7/QReYtsToOrohz1+QdFRwkYnoYGOHJzYTSntenFEUmlgmlYJmp37oCz4EibnZeIiHyf1wr18PBwZGVlQaX6/1O8//77qKurQ0ZGBnbt2gWNRoPp06djyJAhGD16NFatWtW4b2FhIaKjo5sc89jPBQUFzc5XVVWFQ4cONXkUFxd76dUFLl10NCIuG4Hq335FzfZtouNQGyr+cCkAIGrCtYKTEPk3OdUMSBIcXGO7zdTuyINSX9dm89P/KnTIUECtRuV3G9v83ERE5LvarOv7unXr8Oyzz2LatGno2bMndu/ejcrKSowdOxZvvfUWLrnkEsyaNQsrVqwAANTV1SHob2sz63RHh9rW19c3O/57772H888/v8njrrvu8v4LC0Dhl14GbVQ0ipYsYgOcAGHPscBhyUbkFVdCGxEpOg6RX9OEhiK4R0/YuUxbm7FbLZB0OhgS+7T5uTUmE4zpZ6Pqpx/Y7Z+IiBp5bY76X61cuRJz5szBZZddhvvuuw8AsGjRIjidThiNRgBAYmIiDh8+jHfffRdjxoxBcHAwnM6mH1jHfjYYDM3Ocd1112HUqFFNth0r7Kl1qbQ6RF87CYeffxaV//0aEZeNEB2JvMjjdKJk6RLoOnZC+IUXi45DFBCM5jSUrvwYDRUV7AfiZYqiwGHNhqFPX6gEfW8IyxwO++bfYN+8GaGDzxWSgYiIfIvX76i/8sorePDBBzFhwgTMmzevcSi8TqdrLNKP6d27d+Ow9tjYWJSUlDR5/thQ9piYmGbnCQ0NRZcuXZo8/j50nlqPnJIKY3o/lH3+GRrK2DPAn5V/+QUaSksQPXEyJE2bXNsjCnjyn53HHTm8q+5tzkP5cJWXw5jWdt3e/06fkAhtdAwqN64XloGIiHyLVwv1N954A8899xzuvPNOzJkzp7FBi8vlQmZmJt55550m++fm5qJXr14AgH79+iE3Nxe1tbWNz//yyy/o3r07IiM59NYXHJurXPIhG8v5K2dRESq+/AIhAwbBkJgkOg5RwNB16gRthyg4OPzd6+yWbECSIKeYhWWQVCqYMrNQt3sX6g8fFpaDiIh8h9cK9by8PCxYsABjxozB+PHjUVJS0vhwOp0YPnw4Xn31Vaxbt65x2bXPPvsMt99+OwDgwgsvhMlkwj333IOdO3fi888/x1tvvYWbbrrJW5HpFGkjIxE5YiTs2b/DsSVHdBxqZYqioPiDJZA0GkSNv1p0HKKAIkkS5LQ01GzbCs9x+rJQ67FbLQju3gMak0loDtO5GZA0Gth4V52IiODFQn3NmjVwu91YsWIFMjIymjzeffddzJo1CxMmTMATTzyByy+/HJ9++imee+45ZGRkAACCg4Px5ptvwm63Y+zYsXjmmWcwY8YMjB492luR6TSEX3QJtLGxKF66mE1w/Iw9+w/U5OYgcuQoaMI4R5aorRnN6VBcLtRs2yo6it9yVVaifv8+Id3e/04dEgLj2f1R9fOPvDhDRETeayY3c+ZMzJw586T7zJgxAzNmzDjh8z169MCiRYtaOxq1IkmjQczEKTj0zDxUfLkGkSOvEh2JWoGnvh4lHy6BrnMXhJ1/geg4RAFJH98bKr0edms2jOlni47jl+x/9gAw+kChDgCmzCxU/7oJ1b/9ClPGUNFxiIhIoDZbno38lyGpD0LOGYDyNZ/DybXr/ULZ55/BVV6OmElTIKnVouMQBSRJo4GcnAJHjhWKxyM6jl9yWC3QdOgAXecuoqMAAPS9E6CL7Qjbdxz+TkQU6FioU6voMP4aQK1ByQeLoSiK6Dh0BpwFR1Cx9iuEnjsE+vjeouMQBTTZnAZ3VRXq9u8THcXveOrrUbNtK4ypaY3NbkWTJOloU7m9e1Gff1B0HCIiEoiFOrUKbXg4Olx5FRxbcuCw/CE6Dp0mRVFQtOR9qHQ6dBjLBnJEosnJqYBKBYclW3QUv1OzfRuUhgbIApdlO57QwUMgaTSo3LhBdBQiIhKIhTq1mrDzLoCuU2cUf7CUjXDaKftvv6I2bzs6jBoDTWio6DhEAU9tNELfKx52LtPW6uzWbKj0ehh6J4iO0oTaaITxnAGo3vQTPHV1ouMQEZEgLNSp1UgaDaInTYGrvAzlX6wWHYdOkaeuFsUffYCgrt1gyjpPdBwi+pMxLR3Ow4fQUFoiOorfUDweOHKsMPRNgaTxWl/d0xaWORyeujpU/bpJdBQiIhKEhTq1KkPvBIQMPhflX38JZ2GB6Dh0Cso+XQW3zYboSVMgqfjWQOQrji0dxrvqraf+wH64bTaf6fb+d8E9e0HXuQtsHP5ORBSw+G2cWl3U2Kuh0ulQvISN5dqL+kP5qFj3X5iGDoO+R0/RcYjoL3QxsdDFdoTDwkK9tdit2YAkQU5JFR3luI41las/sB91+/eLjkNERAKwUKdWpzGZEDlqDGq2b4V982+i49A/UBQFxUveh8pgQIfR40THIaLjkM1pqNmZB3dtregofsFhtUAf3xtqo1F0lBMKHTQYkk7HpdqIiAIUC3XyirCs8xDUtRuKly2Fp45fLH1Z9c8/oXbXTkSNHufTX1qJAplsTgPcbtRs3SI6SrvXUFaK+vz8xikFvkptkBEyYCCqftnECzRERAGIhTp5haRSIXriZLgrK1H22aei49AJuGscKFm+DME9eiA0Y6joOER0AvqevaAyGmHnMm1nzPHnXH+j2beWZTse07DhUOrrUb3pZ9FRiIiojfleq1PyG/qevRCaMQwV36xF6JAMBHXuIjoS/U3ZqpVw26vR+e6ZbCBH5MMktRpySiocOVYobjcktVp0pHbLbrVAGxMLXWys6Cj/KLh7dwTFdYXtu/UwZQ2HJEmiIxERnbGFCxc2+VmSJOj1esTHx2PoUN44OobfzMmrosaMg0qvR/GS99lYzsfUHdiPyvXfwpR1HoK7nSU6DhH9A6M5HR6HA7V7douO0m556mpRuyPPZ7u9/11jU7n8fNTt2ys6DhFRq9i5cyeWLVuGyspKVFdXY8WKFVi/fj1eeOEFvPTSS6Lj+QwW6uRV6pAQdBg9DrU7d3Dong9RPB4UL1kEtTEEHUaNFh2HiFrA0DcZUKvhsHL4++lybM2F4nJBTvP9Ye/HhA4aDCkoGLYNbCpHRP6hrKwMK1euxOzZs/Hggw9ixYoVkCQJS5YswVdffSU6ns9goU5eZxo6DMHde6Bk+Ydw1zhExyEAVT98j7q9exE17mqoDbLoOETUAmq9HobEJNi5TNtpc1gsUBlk6Hv2Eh2lxVTBeoQOHITqzb/yM5SI/EJlZSWioqIafw4PD0dlZSV0Oh00Gs7MPoaFOnnd0cZyU+CurkbZqk9Exwl4brsdJSuXQx/fGyGDzxUdh4hOgWxOQ0NRIZyFhaKjtDuKxwP7Fivk1NR2N8fflJkFxelE1c8/iY5CRHTG4uLi8MwzzyA/Px/5+flYsGABunbtCqvVChV7JjXivwS1ieCzzoIpazgq169D3cEDouMEtNKVy+GpqUH0xMlsTETUzhybW23n8PdTVrdnNzx2e7vo9v53wd3OQtBZ3WHbuIH9Xoio3XvyySdx+PBhjBo1CmPHjkVRUREef/xxbN26Fffff7/oeD6DYwuozXS4agzsm39D8ZL3EXf/LHYZF6B27x7Yvv8O4RdchKAucaLjENEp0kZ2gK5LHBxWCyIuvlR0nHbFbrUAavXRuf7tUFhmForeewd1u3dBH99bdBwiotMWERGBZ599ttn2a6+9VkAa38VKidqMWpbRYex41O3ZjaqffhAdJ+AoHg+KFy+COtSEiJFXiY5DRKfJaE5D7e5dcNvtoqO0Kw5LNgy9E6E2GERHOS0hAwZBpdejciObyhFR+/brr79i8uTJGDlyJK644orGBzXFO+rUpkIHD4Ht++9Q+vFyGNPOhtpoFB0pYNg2rkf9wQOIvelmqPV60XGI6DTJ5nSUf7Eaji05CGWfiRZxFhXBWVgAU9Z5oqOcNlVQEEIGDUbV99/BPWEiPz+JqN169NFHMWbMGPTp04fTME+Cd9SpTUkqFWImToG7xoHSTz4WHSdguKqqUPrJCugTkxByzkDRcYjoDASfdRbUJtPRodzUIo4//63ay/rpJxI2bDgUlwtVP/0oOgoR0WnTarWYNm0aBg4ciAEDBjQ+qCkW6tTmguLiEHbeBbB9txF1+/aKjhMQSj9eBk99PWLYQI6o3ZNUKsipZtTk5kBxuUTHaRfs1mzoOneB9i/LAbVHQXFxCO7RE5XfrWdTOSJqt+Lj47Fjxw7RMXweC3USIvLKUVCHmlC0eBEUj0d0HL9Wu2snqn76EeEXXQJdx06i4xBRKzCa0+Gpq0PNTn7R+SduhwO1u3a2+7vpx5gyh6OhsBC1O/JERyEiOi35+fkYM2YMLrroIs5RPwnOUSch1Ho9osZPQOEbr8K2cQPChrffeYO+THG7UbR4ETQRkYgcMVJ0HCJqJYakPpC0WjisFsh9+oqO49McuTmAxwPZTwr1kHMGoGTZUti+2wBDYpLoOETkhwoLC/Hkk09i06ZN8Hg8GDp0KB544AHExMQcd/8vv/wSL7/8MvLz89GpUyfccMMNGDNmzAmPP2PGDG9F9yu8o07ChAwYCH1iEko/+Riu6irRcfxS5bffwHn4EKImXAtVUJDoOETUSlRBQTAk9YHdms0h0P/AYbVAHRKK4O49REdpFSqdDqGDh6D698387CSiVqcoCm666SZUVVVh0aJFWLx4MUpKSnDLLbccd//Nmzfj3nvvxcSJE7F69WpMmTIFc+bMwYYNG5rtu2fPHgCALMvHfVBTLNRJGEmSEH3tJHjq61H68XLRcfyOq7ICZZ9+AkNyCozpZ4uOQ0StTDanw1VaCueRw6Kj+CzF5YJjSw5ksxmSyn++8pgyswC3G1U/cqlTImpdpaWl6NmzJx5//HEkJiYiMTERU6dOxdatW2Gz2Zrtv27dOiQkJGDChAmIi4vDhAkT0KdPH/zwQ/P3p3nz5gEA7rjjjmaPO++80+uvrb3h0HcSKqhTZ4RfeDEqvloDU8Yw6OPjRUfyGyUfLYPiciH6mklsIEfkh4xmM4rfB+yWbAR17iI6jk+q3bUTntpav5mffkxQp87Qx/eGbeMGhF90iV9dhCAisaKiorBgwYLGnwsLC7Fs2TKkpKTAZDI12z88PBy7du3Cpk2bMHDgQGzevBm7du3CpEmTmu372muvAQCWLl2K2NjYJs/t2rWrlV9J+8d3dhIucsRIaMIjULRkERS3W3Qcv1CzfRuqf92E8Esvh+4E84mIqH3ThIUj6KzujUuPUXN2qwWSRgNDn2TRUVqdKTMLDSXFqMnbLjoKEbUTBQUFOHToUJNHVdWJp9DceuutyMzMhNVqxeOPP37cfSZOnIiMjAxcd9116Nu3LyZNmoRrr70WV111VbN9KysrUVlZiZtuugk2mw2VlZWw2WwoLS3Fbbfd1mqv01+wUCfhVMHBiJpwDZyH8lG5fp3oOO2e4nKheMn70HaIQsSll4uOQ0ReZDSnoW7fXriOMxwx0CmKAoc1G4akPn7Zo8PYrz9URiNsG9eLjkJE7cTEiRNx/vnnN3m89957J9z/rrvuwvLly3H22Wdj2rRpKCoqarZPeXk5SktLcd9992HFihWYPXs2li5dio8//rjZvvfccw8GDRqEnTt3YuDAgRg0aBAGDhyIrKws9OnTp1Vfqz/g0HfyCcaz+8PQNxllq1YipP8AaMLCREdqtyr++zWchQXodOfdUOl0ouMQkRfJ5jSUffoJHFusMGUMEx3HpzgLjqChpAThl1wmOopXqLQ6mAYPQcW338Blq4TGxM9NIjq5JUuWwP230auhoaEn3D8hIQEAsGDBAmRlZeGTTz7BzTff3GSf2bNnIykpCTfeeCMAICkpCeXl5Zg/fz7GjBnTZPrlW2+9BQB48MEHMXfu3FZ5Tf6Md9TJJxxrLKe4XChZ/qHoOO1WQ1kZylZ/CjktHcZU/5qTSUTNBcV1hSYiAnYOf2/GYckGAMh+/F54rKmc7YfvRUchonagY8eO6NKlS5PH3wv10tJSfPHFF0226fV6xMXFHfeOutVqRUpKSpNtZrMZlZWVJxxWP3fuXFRWVqKgoABHjhxBfn4+fvzxxzN8df6HhTr5DF1MLMIvuQzVv2zinLvTVPLRBwCA6AnXCk5CRG1BkiTI5jTUbM2Fp8EpOo5PsVstCOp2FrTh4aKjeI0utiP0iUmwfb8RiscjOg4R+YEjR45g5syZ2LJlS+O26upq7Nu3D7169Wq2f0xMDHbs2NFk286dOxEWFnbc5nMA8MILL2DIkCG44IILcMkll+Ciiy7CU0891bovxA+wUCefEnHp5dB06IDipe9DcblEx2lXHLlbYP99MyIuGwFthyjRcYiojRjNaVCcTtRs5wXOY1xVVajbu8fvur0fT9iwLLhKS1GzLVd0FCLyA8nJyejfvz9mz56NnJwcbNu2DXfffTciIiJw1VVXoa6uDiUlJY1D6KdMmYIPP/wQH3zwAfLz87F69Wq89tprmD59+gnPsWrVKqxfvx4XX3wx1q5di6eeeuq4FwECHQt18imqoCBET5gI55EjqPhmreg47YanwYnipYuhjYlF+MWXio5DRG1In5AEKSgYDmu26Cg+w7HFCigK5AAo1I1n94M6JASVGzeIjkJEfkClUuHFF19EUlISpk+fjkmTJkGWZSxevBiyLGPNmjXIyMhAQUEBgKMN6h555BEsWbIEV1xxBV599VXMnDkT06ZNO+E5IiIiEB0djR49eiAvLw9XXnklDhw40FYvsd1gMznyOca09KMNklZ/ipABg6CNiBAdyedVfPUlGoqL0HnGvVBptaLjEFEbUmm1kPv2hSPHCkVRmjTuCVQOqwWa8HAEde0mOorXSRoNQocMRcXar9BQUeHXQ/2JqG1ERESccCj66NGjMXr06Cbbxo0bh3HjxrX4+BqNBgcPHkSPHj2wefNmZGRknHSZuEDVojvqs2bNarbtjjvuaPUwRMdET5gIeDwoWbZUdBSf11BSgvI1n8PY/xzIff1vrWAi+meyOR2uigrUH+QdCU+DE46tuZBT0wLmooVpWBbg8aDqh+9ERyEi+kfTp0/HnDlzkJWVhf/+97/IysrCwIEDRcfyOSe9o/7II4+gqKgIv//+O8rLyxu3u1wu7N271+vhKHBpo6IQcfkVKFu18ugXLhagJ1T8wWJApULU+GtERyEiQeTUVECSYLdkI7jbWaLjCFW7Iw9KfT2Maemio7QZXXQ0DH36wvb9RkRcfgUkFWc2EpHvGj58OIYPHw7g6Hz1AwcOoHv37oJT+Z6TvpOPHTsWF110EYxGIy6++OLGx8iRI/Hee++1VUYKUOEXXwptTAyKl74PT0OD6Dg+yW7JhiPHisiRV3GKAFEA04SEIrhnLzi4TBvsFgukoCDoExNFR2lTpswsuMrL4diSIzoKEdFxOZ1OfPTRR/j6668bt+n1ehw+fBgjRowQmMw3nfSOekpKClJSUnDuueciNja2rTIRATg67zL6mkk4/NwzqPj6S0SOGCk6kk/x1Nej+IPF0HXqhPDzLxQdh4gEM5rTULpiORrKywP2wp2iKHBYLZD7JEOl1YmO06aM5nSoTSbYNq4PiG73RNT+PPzww9i1axfsdjuqqqpw3nnnYdasWdi0aRNuvPFG0fF8TouayR08eBD33XcfbDYbFEVp3L569WqvBSMCADk5BcZ+/VG+5nOEDhrMZcf+ovzLz+EqK0OXe++HpGFfSKJAJ/9ZqDtyLAjLOk90HCHq8w/CVVEO+cpRoqO0OUmjgSljGMrXfI6GsjJoIyNFRyIiamLz5s1Ys2YNKioqcPfdd+Ptt99G586d8fnnnyMuLk50PJ/Tom/3jz76KMaMGYM+ffoETGMW8h1RV18DR+4WFH+4FJ1vv0t0HJ/gLCpExVdfImTgYBgSk0THISIfoOvYCdqoaNgtgVuoO6wWQJIgp5pFRxHCNCwT5Ws+h+37jehw1eh//gUiojYkyzJ0Oh1iYmKwf/9+TJ48GbfeeqvoWD6rRYW6Vqs96Vp4RN6kjYhE5IgrUbriI9itloAf0qcoCoqXLoak1SJq/NWi4xCRj5AkCbI5DbYN38JTXw9VUJDoSG3ObrUguEdPaEJDRUcRQhvZAYa+KbD98B0ir7gSklotOhIRUaO/3vANDw9nkf4PWtQWND4+Hjt27PB2FqITCr/wIug6dkLJB0vgcTpFxxHK/vtm1GzNReSVo6ExhYmOQ0Q+xJiWDsXlQs22XNFR2pyrsgL1+/cF/MXcsKzhcFdWwpHDxoJE5Fv+WqgHBeDF5FPVojvq+fn5GDNmDDp16tTkH/Wf5qiXlpZi/vz5+PHHH1FXVwez2Yz7778fvXv3BgB89tlneOmll1BQUIDExETMnj0bqampjb9/4MABPProo/jjjz8QGhqKyZMns9FAgJI0GkRPnIxD/3ka5Ws+D9ghfZ66OpQsW4qguK4IGx6YQ1uJ6MT0veKh0utht1hgTO8nOk6bslutAI6uKR/I5JRUaMLDUblxQ8D9HyAi35afn4+bb7652d+PefXVV0XE8lktKtRnzJhxygf2eDy4/fbboSgKXn75ZRgMBrz44ouYOnUqvvjiC2zfvh2zZs3CnDlz0L9/f7zzzju44YYb8PXXXyMiIgJOpxM33ngjkpKSsHz5cmzfvh1z5sxBaGgoxo8ff8p5qP0zJCYhZOAgVHy1BqGDz4UuJvBWIihb/SlcFRXoePNtHNJIRM1IGg3kFDMcORYoHk9AraftsGZD2yEKuk6dREcRSlKrEZoxDOWff4aGkhJoo9iElYh8w0MPPdT494svvlhgkvahRYX6sTvgpyIvLw/Z2dlYs2YNevbsCQCYP38+BgwYgI0bN2L16tUYMWIErr766BzbRx99FJs2bcJHH32Em2++GWvXrkVpaSnmzp0LWZbRq1cvHDhwAG+99RYL9QAWNW4CHFYLipcuRue77wmo5ob1Rw6j4pu1CM0YCn3PXqLjEJGPks1pqP51E+r27Q2Y9wpPfT1qtm+DKTMroD4XTsQ0NBPln392tKnc6LGi4xARAQBGjQq8FTnORIsutQ8aNAiDBw9u/HPw4MEYOfLka1p37NgRr732Grp379647diHp81mwx9//IEBAwb8fxCVCueccw42b94M4Gj7/uTkZMiy3LjPgAEDsH//fpSWlrb8FZJf0YSFIfLKUajZmgv7H7+LjtNmFEVB8ZL3oQoKRocx40THISIfJienACrV0Q7oAaJm21YoDQ0wBviw92O0ERFHGwv+8B0Ul0t0HCIiOg0tuqOel5fX+PeGhgasXbu2ybbjCQ8PR1ZWVpNt77//Purq6pCcnIyamhrExMQ0eT46OhpbtmwBABQWFiI6OrrZ8wBQUFCADh06NHmuqqoKVVVVTbbpdLpmx6D2L+y8C2D78QcUL16E6l9+Fh2nTXjq61G7Iw/Rk6ZAExKY3YyJqGXUsgx97wTYLdkBczfVbrXgqjDHAAAgAElEQVRApddDH3/qIwD9lWlYFhyWbNgt2Qjpf47oOEQ+pfrXX1C9+VfRMdqMLjwc4XfeIjoGnaIWFep/pdVqcfnll+Ott97CPffc0+LfW7duHZ599llMmzYNnTt3BtC8259Wq0V9fT0AoK6uDhEREU2e1+l0ANC4z1+99957WLhwYZNtZ599Nj744IMWZ6T2QVKrETvtBhQvWQRnUZHoOG0m9NwMmIZliY5BRO2AMTUNJR99EBBzlBWPB44cC+TkFEiaU/5a47fk5BRoIiJh27iehTrRXyiKgpKPP4Knvg6asHDRcdqExJE17VKLPtEqKysb/64oCnJzc5vdvT6ZlStXYs6cObjssstw3333wWazAQCcf1tmq6GhAXq9HgAQHBzc7PljPxsMhmbnuO6665rNezhW2JP/Ce52FrrOelh0DCIinySnpaPkow9gt1oQfsGFouN4Vd3+fXBXVUEO8GXZ/k5SqWAalomyVSvhLCqC7m+jGIkClfPQIbjKyxAzZRpMwzJFx2kTGo1vNRatra3FV199BZvNBkVRGrdPmzZNYCrf06JCfdCgQZAkqfEfMjIysknXvpN55ZVX8Nxzz2HSpEmYPXs2JElCWFgYDAYDiouLm+xbXFzcOBw+NjYW+/bta/Y8gGZD5gEgNDQUoaEcEkxERKSLjoauYyc4rNl+X6g7rBZApYKcnPrPOwcYU8YwlH22CrbvNiBq3NWi4xD5BLs1GwAgp5oFJwlcM2bMQHFxMXr37s0GoCdxynPUT8Ubb7yB5557DnfeeSduu+22xu2SJCE9PR2//fYbrrrqKgBHl3P77bffGju69+vXD6tXr0ZtbW3jXfZffvkF3bt3R2Rk5GnlISIiChSyOQ0V//0a7poaqI8zEs1f2C3Z0PeKh9poFB3F52jCwmBMS0fVjz8g8qrRUGm1oiMRCeewWhB0VndowsJERwlYe/fuxZo1a6DhdKWTatE4CI/HgzfeeAOTJ0/GNddcg4ULF8L1D3Md8vLysGDBAowZMwbjx49HSUlJ46OmpgZTp07FqlWrsGTJEuzZswcPP/wwqqurMXbs0cY3F154IUwmE+655x7s3LkTn3/+Od566y3cdNNNZ/6qiYiI/JzRnA643ajJ3SI6itc0lJbAefgQjGns9n4ipszhcNurA2qlFKITcdkqUbdvL98zBIuNjRUdoV1o0WWMZ555Bnl5ebjuuuvg8XiwbNkyzJs3D7NmzTrh76xZswZutxsrVqzAihUrmjx311134dZbb8Wjjz6Kl19+GU8//TT69OmDt99+u7GBXHBwMN58803861//wtixYxEZGYkZM2Zg9OjRZ/ByiYiIAkNwz55QG0Ngt1oQMmCg6DheYf9zCTrOTz8xQ1IfaKOiYNu4HqEDB4mOQySUw2oFABj5niFU7969MWXKFAwdOhTBwcGN2zlHvakWFerff/89VqxYAe2fQ6aysrIwcuTIkxbqM2fOxMyZM0963DFjxmDMmDEnfL5Hjx5YtGhRSyISERHRX0gqFeTUVNgtFihuNyS1WnSkVuewWqCNjYUuhndnTkRSqWAamonSlR/DWXAEuo6dREciEsaeY4EmIhK6LnGiowQ0h8OBbt264eDBg6Kj+LQWFeqKojQW6cDRbupaznMiIiLyabI5DVU//Yja3btgSEgUHadVuWtrUbMjD+EXXCQ6is8LHTIUpZ9+gsrvNiL66mtExyESwuN0ombbVoQOGcoGZoLNnTtXdIR2oUWFemJiIp588klMmjQJALB48WL07t3bq8GIiIjozMh9kyFpNHBYLX5XqNds3QK43Rz23gIakwnG9H6o+ukHdBg1BiouX0sBqGb7NihOJ+en+4Ds7Gy8/vrrqKmpgaIo8Hg8OHToEDZs2CA6mk9pUTO5Rx55BFVVVZgwYQLGjx+PiooKzJkzx9vZiIiI6AyogvXQJyQ2LkfkT+xWC1RGI/Q9e4mO0i6EZWbB43DA/vtvoqMQCeGwZkMKCoa+d4LoKAFv9uzZSE9Ph91uxxVXXAGj0YiLLuLoqL87aaHudDpx//33Y9OmTXjqqafw008/ITU1FWq1GkYug0JEROTzjGnpaCgqgrOwQHSUVqO43XDkWCGnpPrl3Htv0CcmQRsTg8qNG0RHIWpziscDu9UKOTmZyxT6AEmScNNNN2HAgAHo0aMHnn/+eWzevFl0LJ9z0kL9hRdegN1uR3r6/w8Reeyxx1BVVYUXX3zR6+GIiIjozMipR4eG2y3+c1e9ds9ueBwOdm4+BZIkwTQsC3W7d6H+8GHRcYjaVP3BA3DbKo8uW0nCybIMAOjatSt27dqFoKAguN1uwal8z0kL9Q0bNuCZZ55BZGRk47aYmBjMmzcP33zzjdfDERER0ZnRRkYiKC4Ojj+XMvMHDms2oFbD0DdFdJR2xXRuBiSNBraN60VHIWpTdks2IEmQU1JFRyEAKSkpuPvuuzFo0CC8/fbbeOqpp6Dm6KhmTlqoa7XaJmvbHWM0GqFjIxIiIqJ2QTano3b3LrjtdtFRWoX9z+Z4ar1edJR2RR0SAmO//qj6+Ud46utFxyFqMw6rBfpe8VCHhIiOQgAeeughTJ06Fd27d8esWbPg8Xjwn//8R3Qsn3PSQl2lUsF+nA91u90Ol8vltVBERETUeozmNEBR4NhiFR3ljDkLC9FQWAiZnZtPiylzODy1taj+7VfRUYjaRENZGerzDzZOAyJx9uzZAwDYtm0btFottm7diqioKFx55ZWora0VnM73nHR5thEjRmD27Nl48sknYTAYAAA1NTWYPXs2O/MRERG1E0HdzoLaFAa71YLQwUNExzkjxzrYc3766dHH94auYyfYvlsPU8ZQ0XGIvM6Rc3TajzGN7xmiPf3003j99ddxxx13NHtOkiSsW7dOQCrfddJC/brrrsMjjzyCIUOGID4+Hh6PB3v27MEVV1yB2267ra0yEhER0RmQVCoYzWZU//oLFJcLkuakH/8+zWG1QNclDtrIDqKjtEuSJMGUmYWSD5ei7uABBHftJjoSkVfZrRZoo2Ogje0oOkrAe/311wEA3377reAk7cNJP6lVKhUee+wxTJ8+Hdu2bYNKpUJKSgpiYmLaKh8RERG1AtmcDtt3G1GzIw9y32TRcU6L225H7e5diLj0ctFR2rXQwUNQumI5bBs3IHjydaLjEHmNp64WtXnbYRp+PiRJEh0n4C1cuPCkz99+++1tlKR9aNEl9S5duqBLly7ezkJEREReYkjqA0mng8Oa3W4LdUduDuDxQOaw9zOilmWE9B+A6l9+RtS4q6E6TuNgIn/g2LoVisvFqTI+oqKiAgCwd+9e7Nu3DxdccAE0Gg3WrVuHhIQEwel8z0mbyREREZF/UOl0MCT1gd1qgaIoouOcFrvFAnVoKILP6i46SrtnyhoOT10dqn7dJDoKkdc4rNlQGQzQ94oXHYUAzJkzB3PmzIHb7cbKlSsxe/ZsPPDAA/j4448bi3j6fyzUiYiIAoTRnA5XWRmchw+JjnLKFJcLNVu3QE5Ng6Ti15czFdyjJ3Sdu8C2cYPoKEReoXg8cOTkQE5Jbdd9OfxRSUkJIiIiGn8ODQ1FWVmZwES+iZ90REREAUJONQMA7JZswUlOXc3OHfDU1sLIZdlahSRJCMvMQv2B/ajbv090HKJWV7dnD9z2ak6V8UEJCQl48MEHsWnTJvz888+49957YTabRcfyOSzUiYiIAoQmLAzB3Xs0LlfUnjisFkhaLQxJfURH8Rshg86FpNOhcuN60VGIWp3dmg2o1ZCTU0RHob95/PHHERISgieeeAJz585FbGws/v3vf4uO5XM4DoSIiCiAyOY0lK1aCZetEhpTmOg4LaIoChxWCwxJfaAKChIdx2+oDQaEDBiE6l9/QdT4a6DW60VHImo1jhwL9PG9oTbIoqPQ3xiNRsycORP79+9H79694XQ6Ecymls3wjjoREVEAMZqPDh135FgFJ2k555HDaCgtgWzmsPfWFpaZBaW+HtWbfhYdhajVOIuL4TxyhN3efZTFYsEFF1yAm2++GcXFxcjMzMQff/whOpbPYaFOREQUQHRdukATEQm7tf0Mf3f8mdXIOYytLuis7gjq2g2279a329UAiP7OYT3ah4MX93zTvHnz8O677yIsLAyxsbGYN28ennjiCdGxfA4LdSIiogAiSRJkcxpqtm2Fx+kUHadF7JZsBJ3VHZqwcNFR/I4kSTBlZqE+Px91e/eIjkPUKuxWC3SdOkEXHS06Ch1HXV0devXq1fhzZmYm3G63wES+iYU6ERFRgDGmpUNxOlGTt010lH/kstlQt28vh7B6UejAQZCCgrlUG/kFt8OB2p07eDfdh2k0GthsNkiSBADYu3ev4ES+iYU6ERFRgNH3ToAUFAyHxfeHvzu2WAFF4RJLXqQK1iN00CBUb/4V7hqH6DhEZ8SRuwXweHhxz4fdcsstmDRpEgoLCzFz5kxcc801uOWWW0TH8jns+k5ERBRgVFot5ORk2HMsiPZ4IKl897q93WqBJiICQXFdRUfxa6bM4bBt3ICqn39C+PkXio5DdNocVgvUxhAE9+gpOgqdwPDhw9GjRw/8+OOP8Hg8uPXWW5sMhaejfPeTmYiIiLzGaE6Hu7IS9QcPiI5yQp4GJ2q25kI2pzUOkSTvCO7aDUFndYdtI5vKUfuluFxw5OZATjX79AXIQFVZWdn4MJlMuOyyyzBixAh06NABlZWVouP5HN5RJyIiCkBySiogSbBbLQg+q7voOMdVs307FKeTQ1jbSFjWcBS9+zbqdu+CPr636DhEp6x29y54amo4VcZHDRo0qMlFV0VRIElS45/bt28XmM738FITERFRAFKHhEDfKx4OS7boKCfksFogBQVBn5AoOkpACDlnIFR6PSo3rhcdhei02K0WSBoN5L7JoqPQcYwaNQpdu3bF1KlTsXr1auTl5WH79u2Nf1JTLNSJiIgClJyahvr8g2goLxMdpRlFUeDIsUDumwyVVic6TkBQBQUhZNC5sG/+DW67XXQcolOiKAoclmzoE5OgCg4WHYeOY+7cuVi1ahUSExPxxBNP4Oqrr8aSJUtQVVUlOppPYqFOREQUoIxpR4eHOqxWwUmaqz94AK6KCg5hbWNhmVlQXC5U/fSj6ChEp8RZUICGkmIYuSybT9Pr9bjyyivxzjvv4Pnnn4fdbseUKVNw9913i47mc1ioExERBShtbEdoo2Ngt/re8He7JRuQJMipZtFRAkpQlzgE9+yFyu/YVI7aF8ef72Oyme8Z7UV5eTnKy8tRUVGB6upq0XF8DpvJERERBShJkmA0p6Fy/Tp46up8ariow2pBcI+e0ISEio4ScMIyh6Pw7TdQuyMPhsQk0XGIWsRutSAoriu0EZGio9BJFBQU4LPPPsNnn30GlUqFkSNH4qOPPkJMTIzoaD6Hd9SJiIgCmGxOO7qk0dZc0VEaNZSXo/7gARjTOIRVBGP/c6AyyLB9t0F0FKIWcVVXoW7Pbsh8z/BpkydPxrhx41BWVob58+dj9erV+J//+R8W6SfAO+pEREQBTN8rHiqDDIfVgpB+/UXHAQA4ciwAwPnpgqh0OoSeey4q13+LqKoqaEI5qoF8myMnB1AULuXo43777TcEBQVh+fLl+Pjjjxu3H1ue7Y8//hCYzvewUCciIgpgkkYDOSUFjhwrFI8Hkkr8YDuH1QJtVBR0HTuJjhKwTMOGo/Kb/6Lqxx8QcellouMQnZQjxwJ1WBiCunYTHYVOYt26daIjtCss1ImIiAKc0ZyO6l82oW7vHuh7xQvN4qmvR832bTBlnQdJkoRmCWRBnTpB3zsBtu82IPziS3ziAg7R8XgaGuDIzUXowEH8f+rjOnfuLDpCu8L/zURERAHOkJwCqNWwWy2io6BmWy4Ul4tDWH2AKTMLDSXFqMnbLjoK0QnV7siDUl8HOY3vGeRfWKgTEREFOLXBAH1878bljUSyWyxQ6fXQx/cWHSXgGc/uD5XRCNvG9aKjEJ2Q3ZoNSaeDIbGP6ChErYqFOhEREcGYlg7nkSNwFhcLy6B4PHDkWCGnpELScHaeaCqtFqZzM2C3ZMNlqxQdh6gZRVHgsFpg6NMXKp1OdByiVsVCnYiIiBo7rIu8q163by/c1VWQzVxiyVeYhmUBbjdsP3wvOgpRM85D+XCVl3OqDPklFupEREQEXVQ0dJ06C52n7rBaAJUKcnKKsAzUlC42FvrEJNi+3wjF4xEdh6gJu+XohUU51Sw4CVHrY6FOREREAI7eVa/dtRPuGoeQ89utFujje0Mty0LOT8cXljkcrtJS1GzLFR2FqAm71YLgHj2gMYWJjkLU6lioExEREYCj89ThdsORu6XNz91QUgLn4UMwcti7zzGmnw11SCgqN24QHYWokauyAvX790FO5bB38k8s1ImIiAgAENy9B9QhIUeHoLexY0PuZc419TmSRoPQjKFwWC1oqKgQHYcIAGDPsQL48wIjkR9ioU5EREQAAEmlgpxihmNLDhSXq03P7bBmQ9exE3QxMW16XmoZ07BMAEDBKwvZAZ58gsNqgSYyErrOXURHIfKKNivUH374YTz00ENNto0dOxYJCQlNHn/dp6ysDHfddRf69++PwYMHY/78+XC18RcHIiKiQCKnpcNTU4Pa3bva7JzumhrU7NzBu+k+TBcVjY7Tb0H9oXwcfPxR1B08IDoSBTBPfT1qtm2F0ZwGSZJExyHyCq8vUqooCl544QUsW7YMY8eObbJ99+7d+M9//oNBgwY1btfr9Y1/v+OOOyBJEhYvXoyioiI88MAD0Gg0mDFjhrdjExERBSS5T19IGg3sVgsMiUltcs6arbmA28356T4upN850EZF48jC55H/1BOIvf5GhPQfIDoWBaCa7dugNDRwKUfya169o56fn48pU6bggw8+QKdOnZo9V1tbi7S0NERFRTU+jEYjACA7Oxu///47nnrqKSQmJiIzMxP/+7//i/fffx9Op9ObsYmIiAKWKjgY+sQ+cFgtUBSlTc5pt2RDbQxBcM+ebXI+On3BXbuh60OPICiuKwpefRlln63ism3U5uzWbKiCg2FISBQdhchrvFqo//HHH+jYsSNWr16NLl2azh/ZuXMngoOD0blz5+P+7ubNm9G5c2fExcU1bhswYAAcDge2b9/ebP+qqiocOnSoyaO4uLh1XxAREVEAMJrT0FBchIbCAq+fS3G74diSAzklFZKKrXPaA43JhC733o/QczNQ9tkqFLz2Mjz19aJjUYBQPB44cqwwJKdA0nh9cDCRMF79RLzyyisxb948REVFNXtu165dCAkJwb333ouMjAxcccUVeOedd+D586psUVERoqOjm/zOsZ8LCpp/cXjvvfdw/vnnN3ncddddXnhVRERE/u3YXHG7xfvd32t374KnxgE5jfPT2xOVVouYaTegw7irYf/jd+Q//SQaystEx6IAULd/P9w2G4zsaeE1hYWFuPPOOzFgwAD0798fM2bMQFFR0Qn33717N66//nqYzWYMHToUzz33XGNNR6dP2GWo3bt3o6amBhkZGZg+fTr++OMPzJs3D9XV1bjzzjtRW1uLoKCgJr+j1WohSRLqj3PV9rrrrsOoUaOabNPpdF59DURERP5IGxGBoK7d4MixIOLSy7x6LofVAkmjgdw32avnodYnSRIiLr4Uuo6dUPjGqzj4+L/R6bY7oe/ZS3Q08mOOnGxAkiCnmEVH8UuKouCmm25CREQEFi1aBAB4/PHHccstt2DlypXN9i8vL8fkyZMxaNAgfPLJJ9i7dy8eeOABhISE4IYbbmjr+H5FWKH+9NNPo6amBqGhoQCAhIQEVFdX49VXX8Udd9yB4ODgZnPRGxoaoCgKDAZDs+OFhoY2HouIiIjOjGxOQ/nnn8FdXQ11SIjXzmO3ZkOfkAhVsP6fdyafZEw1I+7B2Tjy4vM4NP8pxEyZhtBzh4iORX7KYbVA3yse6j/7WlHrKi0tRc+ePXHPPfc0Tl2eOnUqbrvtNthsNphMpib7L168GEajEfPmzYNWq0WPHj0wdepUZGdni4jvV4RNBtNoNM0K64SEBDgcDlRXVyM2NhYlJSVNnj825zyGa6wSERF5ldGcDigKHFtyvHYOZ2EBGoqKOITVDwR16oyuDz2M4F7xKHz7DZQsX8Ymc9TqGspKUZ+fz6UcvSgqKgoLFixoLNILCwuxbNkypKSkNCvSAeCHH37ABRdcAK1W27jt9ttvx8KFC9sss78SVqiPHz8ejz/+eJNtW7ZsQXR0NEJDQ9GvXz/k5+c3mY/+yy+/QJZlJCaywyMREZE3BXXrBnVYGOxW790VsVuPzoHnl27/oDYa0eXue2Aafh4qvv4SRxY+D3dtrehY5Eccf75nGNO4LNvpKCgoaNZ8u6qq6oT733rrrcjMzITVam1Wtx2zf/9+dOjQAY899hiGDh2KSy65BK+99hrcbre3XkbAEFaoX3jhhVi2bBlWrVqFgwcPYvny5XjzzTdx5513AgDS09ORlpaGGTNmYOvWrdi4cSPmz5+PadOmce45ERGRl0mSBKM5DY7cXHgaGrxyDoclG0FxcdBGdvDK8antSRoNYiZOQfTEKXDkbkH+3Mfg5Co81ErsVgu0MTHQxXYUHaVdmjhxYrPm2++9994J97/rrruwfPlynH322Zg2bdpxG8rZ7Xa8+uqrUKvVePXVV3HzzTfjjTfe4B31ViBsjvqNN94IjUaDV155BUeOHEGnTp3w4IMPYty4cQCOfkFYuHAh/vWvf2HixImQZRnjxo3DbbfdJioyERFRQJHNabBt3IDanTtavdmb225H7e5diLh8RKsel3xD2PDzoOvYEUdeWYiDT/wbnW65HYbEJNGxqB1z19aiJm87ws+/UHSUdmvJkiXN7nSfrMdXQkICAGDBggXIysrCJ598gptvvrnJPhqNBgkJCZg1axYAoG/fvigrK8PLL7/MFbjOUJsV6u+//36TnyVJwrRp0zBt2rQT/k5UVBReeuklb0cjIiKi4zAk9oGk08FuyW71Qt2xxQooytG58OSXDIlJ6PrQIzjy4nM4tOA/iL5mIsKyzhMdi9qpmq25gNvNqTJnoGPHfx6JUFpail9++QWXX3554za9Xo+4uLjj3lGPiYlB7969m2zr1asX7HY7KioqEB4efubBA5Swoe9ERETk21Q6HQx9+sJhtUBRlFY9tt1qgdpkQlC3s1r1uORbdNHRiHtwNuQ+fVG8eBGKliyC4nKJjkXtkMNqgcogQ98rXnQUv3bkyBHMnDkTW7ZsadxWXV2Nffv2oVev5ksv9u/fv8m+ALBz506EhYUdt/kctRwLdSIiIjohozkNrvIyOA/lt9oxFZcLNblbYDSnQVLxq4i/UxsM6HTH3Qi/+BLY1n+LQ889A7fdLjoWtSOKxwP7FivklFRIarXoOH4tOTkZ/fv3x+zZs5GTk4Nt27bh7rvvRkREBK666irU1dWhpKSkcQj99ddfjx07duDJJ5/EgQMHsHbtWrz++uuYPHkyVHx/PyP81yMiIqITklPTAElq7NDeGmp25MFTV3f02BQQJJUKUeMmIGbajajbvQsHn3wM9UeOiI5F7UTdnt3w2O1cyrENqFQqvPjii0hKSsL06dMxadIkyLKMxYsXQ5ZlrFmzBhkZGY0rc8XHx+Odd95BTk4ORowYgSeeeALXX389br31VsGvpP0T1kyOiIiIfJ/GZEJw9+6wW7IROWJkqxzTYbVA0mphSOrTKsej9sM0JAO6mBgceelF5M99DB1vugVySqroWOTj7FYLoFbDkJwiOkpAiIiIwFNPPXXc50aPHo3Ro0c32davXz98+OGHbREtoPCOOhEREZ2UbE5H/f59cFVWnvGxFEWB3ZoNQ5++UAUFtUI6am/0veLRdfYj0HaIwuEXFqBi7Vet3gOB/IvDkg1D7wSoDQbRUYjaDAt1IiIiOqljw00dOdYzPpbz8CG4ysrYuTnAaSMjEffAQzCe3Q8lH32IonfegqehQXQs8kHOokI4Cwsgc4UICjAs1ImIiOikdJ27QNOhA+zW7DM+lt1y9BhGzk8PeKqgIHScfisirrgSVT/9gEP/eRoum010LPIxjj/7Y3B+OgUaFupERER0UpIkwZiahprt2+Cprz+jYzlyLAg6qzs0YWGtlI7aM0mlQocrR6HjzbeiPv8gDj7xb9QdPCA6FvkQu9UCXecu0EZFiY5C1KZYqBMREdE/ks1pUJxO1GzfdtrHcNkqUbd3L4xpHMJKTYX0H4C4+2cBCpD/1BOo/n2z6EjkA9wOB2p37eTddApILNSJiIjoHxkSEqEKDoYj5/SXaTs2x51fuul4grudha4PPYygLl1Q8MpClK3+lE3mApwjNwfweNjTggISC3UiIiL6R5JGA0NyCuxWCxSP57SOYbdaoImIgK5LXCunI3+hCQtDl/seQMjgc1H26ScofP2VM55uQe2Xw2qBOiQUwd17iI5C1OZYqBMREVGLGM3pcNtsqD+w/5R/1+N0ombbVsjmdEiS1PrhyG+otDrEXv8/6DBmPKo3/4b8eXPRUFEhOha1McXlgmNLDuRUMyQVSxYKPPxfT0RERC0ip6QCkgS79dSHv9fkbYPidHLYO7WIJEmIuPQydLr9LjgLC3Hw8X+hdu8e0bGoDdXu2glPbS2MaXzPoMDEQp2IiIhaRG00Qh/fG47TWKbNYbFACgqGPiHRC8nIXxnNaeg6aw5UWh0OzZuLqk0/iY5EbcRuzT465aZPsugoREKwUCciIqIWk81pqM/PR0NZWYt/R/F4YM+xQE5Ohkqr9WI68kdBnTuj60MPI7hHTxS++TpKViw/7T4J1D4oigKH1QJDUh+ogoJExyESgoU6ERERtdixoeuncle9/uABuCsrYTRzWTY6PeqQEHSZeR9MmVmo+PILHHnpBXjqanxvE4YAACAASURBVEXHIi9xFhxBQ0kJu71TQGOhTkRERC2mi+0IbUzsKc1Tt1stgCQdneNOdJokjQbRk65D9LWT4NiSg4Nzn0BDSYnoWOQFDsvRC4FyKgt1Clws1ImIiOiUGM1pqN2R1+I7mg6rBcE9e0EdEuLlZOTvJElC2HkXoPPd98BVUY4DT/wbNTvyRMeiVma3WhDUtRu0ERGioxAJw0KdiIiITomcln506aStuf+4b0N5GeoPHuCwd2pVcp++6PrQw1AbjTj07HxUbtwgOhK1EldVFer27uGwdwp4LNSJiIjolOh79oLKIMPRguHvDqsVAPilm1qdLiYWXWfNgSGpD4rffxfFSxdDcbtFx6Iz5NhiBRQFxjRe3KPAxkKdiIiITomkVkNOTYUjJ+cfu2/brdnQRsdA17FjG6WjQKI2yOh85wyEX3gxKr/9BoeffxZuh0N0LDoDDqsFmvBwBHXtJjoKkVAs1ImIiOiUGc3pcNurUbdnzwn38dTVoTZvO2RzGiRJasN0FEgklQpRV1+DmKnXo2ZHHg4++SichQWiY9Fp8DQ44diaCzmV7xlELNSJiIjolBn6JgNqNewnWabNsTUXisvVuKQbkTeZMoYh7t774ampwcEnHoUjd4voSHSKanfkQamv51QZIrBQJyIiotOgNhhg6J140nnqDqsFKoMB+l7xbZiMApk+vje6zn4EmsgOOPz8s6j4Zi0URREdi1rIbrFA0ulgSEoSHYVIOBbqREREdFpkcxqcBUfgLCpq9pzi8cCxxQo5ORWSRiMgHQUqbWQHdH3gIchp6Sj5cCmK3nsHisslOhb9A0VR4Pg/9u48LKp6/wP4e4adGfZNVhdAQNlFcc8911BTc9fuvZlbltotTdPMNM3MJbPFutcIUzPRMi019wUXFEYBQQVUVmEAwRl2Zn5/9Ju5ktqiwJkZ3q/n4XnqnDPnvI8zZ+Z8zvd7vkeWCMv2gRCbmAodh0hwLNSJiIjoiWi6tD+qVb0yIx119+9DEsourNT0xObmcJsxG/ZDh6Hs9Elkr/0AtWVlQseiP1CVdQe1JcW8VYbo/7FQJyIioidi4uQEU3cPKK48XKgrZImAkREkgUECJCP6bZA5x+HPo8W06ai8lYk7K5ahKitL6Fj0GEpZIiASQRIUInQUIp3AQp2IiIiemDQkFBXX0x56JJZSlgAL37YwspQIlIzoN9adOsPzzbegrqvDnVXvQZFwWehI9AgKWSLMW7eBsY2N0FGIdAILdSIiInpikpBQQKWqN8J2dUEBqnNz2YWVdIZ5q9ZouXgpTF3dkPvJRhTt38dB5nRI7b0SVN3KhDQ0TOgoRDqDhToRERE9MfPWbWBkZQ3lA49p0/y3JIQn3aQ7jG3t4PnGQlhFdkbRnt3I3/I5VNXVQsciAAqZDAD4WDaiB3AYViIiInpiIrEYkpAQKC7FQ11bC5GxMRSyRJi6ucHU2VnoeET1iE1N0eJfL8PM3QPy2O9RXXAX7rPnwNjWTuhozZpSlgBjR0eYurkLHYVIZ7BFnYiIiJ6KNCQUqooKVNy8gbpyJSpuXIckmC1jpJtEIhHsBw+F26w5qM7Lxe33lqEyM0PoWM2WqqoK5ddSIA0Jg0gkEjoOkc5goU5ERERPxbJd4G8t6YkJv92rXlfHe01J50nDwuG1cDFExsbI+uB9lJ0/J3SkZqk8JRnqmhp2eyf6HRbqRERE9FTEZmawDGgHpSwRysREGEmtYN7GW+hYRH/KzMMTXouWwLxVa+Rv+QzyPbuhVqmEjtWsKGSJEFtYwLKtn9BRiHQKC3UiIiJ6apLQMNQUFkBxOR6S4BCIxDzFIP1gbGUNj/lvwLpHTxTv34fcTzdBVVkpdKxmQa1SQXklEZbtgyAy5tBZRA/irygRERE9Nc096eraWnZhJb0jMjaGy+QX4TR2ApSJCbizagVq5IVCxzJ4lbcyUVdWBmkovzOIfo+FOhERET01Ezs7mLVsBZGxMSTtA4WOQ/S3iUQi2PXrD/fX5qO2SI47K95FTSGL9caklCUCYjEkgcFCRyHSOSzUiYiIqEE4jhwFp3ETIDY3FzoK0ROTtA+E11tvQ1Vdg4LtMULHMWiKxARY+PjCSCoVOgqRzmGhTkRERA1C0j4Qts/0FjoG0VMzdXWDw3NRUF6RQZGYIHQcg1QjL0R1TjZvlSF6DBbqRERERES/Y9e3P0zd3FGwPQaqqiqh4xgchSwRACAN4aMciR6FhToRERER0e+IjI3hPGESaouKUHzgJ6HjGBylLBEmLVrAtEULoaMQ6SQW6kREREREj2Dp5w+rzl1QcvBnVOfnCx3HYNRVVKA8LRVSdnsneqwmK9SXLFmCRYsW1Zt2+vRpREVFITg4GMOGDcOJEyfqzS8qKsKrr76KiIgIdOnSBWvWrEFtbW1TRSYiIiKiZs5p9AsQmZigYHsM1Gq10HEMQnnyVaCuDhJ2eyd6rEYv1NVqNTZs2ICdO3fWm37z5k3MmDEDAwcOxJ49e9C3b1/MmjULN27c0C7zyiuvQC6XIyYmBqtWrUJsbCw+/vjjxo5MRERERAQAMLaxhcPwkShPToLiUrzQcQyCQpYIsUQCC28foaMQ6axGLdSzsrIwefJkbN++HW5ubvXmRUdHIzQ0FDNmzIC3tzdee+01hIWFITo6GgCQkJCAS5cuYdWqVfD398czzzyDN954A9988w2qq6sbMzYRERERkZZtrz4w8/RC4c5voaqsFDqOXlPX1UF5RQZJUDBERkZCxyHSWY1aqF++fBmurq7Yt28fPDw86s2Lj49Hp06d6k2LjIxEfHy8dr67uzs8PT218zt16gSlUolr1641ZmwiIiIiIi2RkRGcJ05GbUkJivb9IHQcvVaRfhMqpRLSUHZ7J/ojxo258qioKERFRT1yXn5+PlxcXOpNc3Z2Rv7/D9Rx9+5dODs7PzQfAPLy8hASElJvXllZGcrKyupNMzU1fWgdRERERER/l4W3D6y790DJr4dg3bU7zNzdhY6kl5SyBMDICJbtg4SOQqTTGrVQ/yOVlZUwNTWtN83U1BRV//+cyoqKCpiZmdWbb2JiApFIpF3mQV9//TU2bdpUb1p4eDi2b9/ewMmJiIiIqDlyfH40FJcvo2BbNDz+vQAikUjoSHpHIUuEpZ8/jCwshI5CpNMEK9TNzMxQU1NTb1p1dTUs/v+gNTc3f+he9JqaGqjValhaWj60vilTpmDEiBH1pv3+QgARERER0ZMytrKG4/OjUPDN17h/Pg7WnbsKHUmvVOfnoyY/H7a9+wodhUjnCVaou7q6oqCgoN60goICbXf4Fi1aPPS4Ns3yv+8yDwDW1tawtrZupLRNy8raAuZmTf/WVFbV4n5ZRZNuszntKxEREek/mx7PoPTUSRTu2glJcCiMHtGARI+mkCUAAJ+fTvQXCFaod+jQARcvXqw37fz584iIiNDO//DDD5GXlwdXV1ftfIlEAn9//ybP25TMzYwxbH7TD1Syb20U7jfxNpvTvhIREZH+E4nFcJk4GXdWvIuiH/fAeewEoSPpDaUsEabuHjBxdBI6CpHOa/TnqD/OxIkTER8fj40bNyI9PR0bNmyATCbDlClTAABhYWEIDQ3F3LlzkZycjBMnTmDNmjV48cUX2aWdiIiIiARj3qo1bJ7pjXtHfkVV1h2h4+iFOoUCFTdvsDWd6C8SrFD38/PDpk2bcPDgQQwfPhxHjx7FZ599Bm9vbwCASCTCpk2b4ODggAkTJuCtt97C6NGjMWvWLKEiExEREREBAByHj4SRRIq7MdFQq1RCx9F5yqQrgEoFCR/LRvSXNFnX92+++eahab169UKvXr0e+xonJyd88sknjZiKiIiIiOjvM5JK4ThqDO5u/QplZ8/ApnsPoSPpNKUsEUbW1jBv1VroKER6QbAWdSIiIiIifWbdtRvMvX0g//471CkUQsfRWeraWiiTrkISHAqRmOUH0V/BI4WIiIiI6AloBparUyog37Nb6Dg6q+LGdagqKnh/OtHfwEKdiIiIiOgJmXl6wbZvP5SePI7KW5lCx9FJisQEiIyNYdmuvdBRiPQGC3UiIiIioqfg8NwIGFlbc2C5R1Cr1VDKEmHZrj3EZmZCxyHSGyzUiYiIiIiegpGlJZzGjEXVrUyUnjohdBydUp2bgxp5ISTs9k70t7BQJyIiIiJ6SladOsPCzx/y3d+j9n6Z0HF0hlKWCACQBLNQJ/o7WKgTERERET0lkUgE5wmToKqqhHz3LqHj6AyFLBFmLVvBxM5O6ChEeoWFOhERERFRAzBzc4ddvwEoO30KFTdvCB1HcLVlZajMSIc0NEzoKER6h4U6EREREVEDcRgWBWM7exRsi4a6rk7oOIJSXpEBajXvTyd6AizUiYiIiIgaiNjcHE4vjENVVhbuHT8qdBxBKWQJMLazh5mnl9BRiPQOC3UiIiIiogYk7RABy/aBKNobi9rSe0LHEYSqphrlyUmQhIRCJBIJHYdI77BQJyIiIiJqQCKRCM7jJ0JdU4PCXTuFjiOI8mvXoK6uhpTd3omeCAt1IiIiIqIGZurSAnbPDsL9c3EoT0sVOk6TU8oSITIzg4W/v9BRiPQSC3UiIiIiokZgP3gojB0cULDtG6hra4WO02TUajWUVxIhaRcIsYmp0HGI9BILdSIiIiKiRiA2M4PzuImozs1ByZHDQsdpMlV3bqO2pASSUHZ7J3pSLNSJiIiIiBqJNDQMkuAQFP24FzXFxULHaRJKWSIgEkESFCJ0FCK9xUKdiIiIiKgROY+bCKhUKPxuh9BRmoQiMQHmbbxhbG0tdBQivcVCnYiIiIioEZk4OcF+8FAo4i9AmZIsdJxGVVNcjKo7tznaO9FTYqFORERERNTI7AYOgomzCwq2fQNVTY3QcRqN8koiAEASEiZwEnpS+fn5mDNnDjp16oSIiAjMnTsXd+/e/dPX1dTUYPjw4ViwYEETpDR8xkIHIGpOrKwtYG7W9IddZVUt7pdVNPl2iYiI6DdiE1M4j5+AnPUfoeTQL3AYMkzoSI1CKUuEiZMTTN3chI5CT0CtVmPatGmwt7dHdHQ0AOC9997DjBkzEBsb+4ev3bhxI65duwZ/PpKvQbBQJ2pC5mbGGDb/hybf7r61Ubjf5FslIiKiB0kCgyEN74Di/ftgHdkZJo5OQkdqUKqqKpRfS4FNr94QiURCx6EnIJfL4e3tjfnz58PDwwMAMHXqVMyaNQulpaWwsbF55OsuXbqE3bt3o23btk0Z16Cx6zsRERERURNxGjseAFCw41uBkzS88pQkqGtrIWW3d52Ul5eH7Ozsen9lZWX1lnFycsK6deu0RXp+fj527tyJoKCgxxbpSqUSb775JhYvXgwHB4dG34/mgi3qRERERERNxMTeAQ7DoiDfvQuKK4mQBhvOoGsKWSLEFhaw8GWrqi6aMGECcnJy6k2bPXs2XnnllUcuP3PmTBw5cgQ2NjbabvCPsnLlSgQFBWHw4MH47rvvGjRzc8ZCnYiIiIioCdn1fxZlZ8+gcPs2WPq3g9jUVOhIT02tUkEpk0ESGASRMUsMXbRt2zbU1dXVm2b9B4/Qe/XVVzF9+nRs3rwZL774Ivbu3QsXF5d6yxw5cgQnTpzATz/91CiZmzN2fSciIiIiakIiY2M4T5iEmsJCFP+8X+g4DaIyMwN198sgCWW3d13l6uoKDw+Pen9/VKj7+fkhODgY69atg0qlwp49e+rNLy4uxttvv4333nsPtra2jR2/2eHlLiIiIiKiJmbpHwCrTp1R8vN+WHfpBlNnZ6EjPRWlLBEQiyEJDBY6Cj0FuVyO8+fPY8iQIdppFhYW8PT0fOgRbSdOnEBRURHmzp2rnVZVVQWRSISDBw8iISGhyXIbIhbqREREREQCcBrzApRXElHwbQzcX52r1yOlK2SJsPBtCyOJROgo9BRyc3Mxb948eHl5ISgoCABw//59ZGZmYsSIEfWW7d+/P8LDw+tNe/PNN+Hk5ITXX3+9yTIbKnZ9JyIiIiISgLGtHRyeG4HypCtQJFwWOs4TqyksRHVONqQhhjMwXnMVGBiIiIgILF68GFeuXEFKSgpee+012NvbY/jw4aisrERhYSHq6uoglUrRsmXLen/m5uaQSCRo2bKl0Lui91ioExEREREJxLZvP5i6e6BwxzaoqqqEjvNEFLJEAICEhbreE4vF+PjjjxEQEICXX34ZEydOhEQiQUxMDCQSCQ4cOIDu3bsjLy9P6KgGj13fiYiIiIgEIjIygsvEychavRLF+/fBceQooSP9bUpZIkxbuMLUpYXQUagB2NvbY9WqVY+cN3LkSIwcOfKxr926dWsjpWp+WKgTUaOxsraAuVnTf81UVtXifllFk2+XiIjoSVj4toV1124oPvgzrLt0hamrm9CR/rK68nKUX0+FXb8BQkchMigs1Imo0ZibGWPY/B+afLv71kbhfpNvlYiI6Mk5jnoBisSE3waWm/dvvRlYrjw5Cairg5SPZSNqULxHnYiIiIhIYMbW1nAc8TzKr6VAcfGC0HH+MoUsAWKpFObePkJHITIobFEnImog7OpPRERPw+aZ3ig9dRIF322HJDgYYnMLoSP9IXVdHZRXrkAaEgqRmO1/RA2JhToRUQNhV38iInoaIrEYzhMnI+v991D0w144vTBO6Eh/qCL9JlTlSo72TtQIeOmLiIiIiEhHWLTxhk2Pnig5chhV2VlCx/lDysQEiIyNIQkMFDoKkcFhoU5EREREpEMcR46G2NISBdu+gVqtFjrOYylkibDw89f5LvpE+oiFOhERERGRDjGSSuE0cjQqblzH/XNnhY7zSNX5eai5m89u70SNhIU6EREREZGOse7eA+ZtvFH43U7UlSuFjvMQhSwRACBloU7UKFioExERERHpGJFYDOcJk1CnuI+ivbFCx3mIUpYIUw9PmDg4Ch2FyCCxUCciIiIi0kHmLVvBplcf3Dt2FJW3bwkdR6tOoUDFjeuQhrI1naixsFAnIiIiItJRjiNGwkhqhYJt0VCrVELHAQAor14B1GpIgsOEjkJksAQt1G/evAk/P7+H/uLj4wEAp0+fRlRUFIKDgzFs2DCcOHFCyLhERERERE3KyFICp9EvoDIjA2WnTwkdBwCgkCXAyMYG5q1aCR2FyGAZC7nx69evw87ODvv27as33dbWFjdv3sSMGTMwc+ZMDBgwAPv27cOsWbOwZ88e+Pr6CpSYiIiIiKhpWXXpitJTJ1AYuwvS8A4wkkoFy6KurUV50lVIO3aCSMzOuUSNRfBC3cfHB05OTg/Ni46ORmhoKGbMmAEAeO2113Dp0iVER0dj+fLlTR2ViIh+x8raAuZmTfszUllVi/tlFU26TSIioYlEIjhPmITb7y6FPPZ7uEyeKliW8rRUqCorIQ1ht3eixiRooX7jxg20adPmkfPi4+MxaNCgetMiIyOxf//+pohGRER/wtzMGMPm/9Ck29y3Ngr3m3SLRES6wczDE3Z9+6Pk10Ow7t4TFo85h25sSlkiRCYmsAxoJ8j2iZoLwQv1qqoqjBkzBjk5OfD19cW8efMQHByM/Px8uLi41Fve2dkZ+fn5j1xXWVkZysrK6k0zNTWFs7Nzo+UnIqLmQYjeAwB7EBBRfQ5Rw1F28TwKYr6G1+KlTd71XK1WQ3ElEZYB7SA2M2vSbRM1N4IV6pWVlcjKyoK9vT3eeOMNmJqaIiYmBhMnTsSePXtQWVkJU1PTeq8xNTVFVVXVI9f39ddfY9OmTfWmhYeHY/v27Y22D0RE1DwI0XsAYA8CIqpPbG4BpzFjkf/FZyg9cQy2vfs26farc7JRK5fDfvDQJt0uUXMkWKFubm6OixcvwtTUVFuQr1q1CsnJyfj2229hZmaGmpqaeq+prq6GhYXFI9c3ZcoUjBgxot603xf6RERERET6zKpjJEpPnoB8z25IO3SEsbV1k21bIUsEAEiD+fx0osYm6FCNUqm0XjEtFovh4+ODvLw8uLq6oqCgoN7yBQUFD3WH17C2toaHh0e9P3Z7JyIiIiJDIhKJ4DJhElRVVZB/v7NJt62UJcCsVWsY29o26XaJmiPBCvWkpCSEh4cjKSlJO62urg6pqanw9fVFhw4dcPHixXqvOX/+PCIiIpo6KhERERGRzjB1dYPdgIEoO3sGFTeuN8k2a0vvoTIzE9IQtqYTNQXBCnV/f3+4u7tjyZIlkMlkuHHjBhYuXIiSkhJMnjwZEydORHx8PDZu3Ij09HRs2LABMpkMU6ZMESoyEREREZFOcBj6HIztHXB32zdQ19U1+vaUV2SAWg0JC3WiJiFYoW5sbIwvv/wSrVu3xvTp0zF69GjI5XLExMTAwcEBfn5+2LRpEw4ePIjhw4fj6NGj+Oyzz+Dt7S1UZCIiIiIinSA2M4PT2PGozs7CvaO/Nvr2FLJEGNvbw8zTq9G3RUQCP57NxcUFa9eufez8Xr16oVevXk0XiIiIiPg4OiI9IQ0Lh2VgMIp+2AOrjp1gbGvXKNtRVVejPCUZ1t26QyQSNco2iKg+QQt1IiIi0j18HB2RfhCJRHAeNwG3ly5C4Xc74TpteqNspzw1BerqakhDwhpl/UT0MBbqRERE1KyxBwHpM1MXF9gNGoLifT/ApkdPWAa0a/BtKGWJEJmZw8LPv8HXTUSPxkKdiIiImjX2ICB9Zz9oCO7HnUXBtm/Q8p3lEBk33Cm+Wq2GQpYISWAgxCYmDbZeIvpjgj5HnYiIiIiIno7Y1BRO4yegOj8PJYcPNei6q27fRt29e5AEc7R3oqbEQp2IiIiISM9Jg0MhCQ1D0b69qCkuarD1KmQJgEgESXBwg62TiP4cC3UiIiIiIgPgPHY8AKBw5/YGW6dSlghzbx8YW1k32DqJ6M+xUCciIiIiMgAmjk6wHzwUikvxUCZdfer11RQXo+rObUhD2O2dqKmxUCciIiIiMhB2zw6CiUsLFHwbA1VN9VOtSylLBABI+Fg2oibHQp2IiIiIyECITUzgPH4iagruouSXn59qXQpZIkycnGHq6tpA6Yjor2KhTkRERERkQCTtAyGN6IjiAz+hprDwidahqqxERWoKJKFhEIlEDZyQiP4MC3UiIiIiIgPjNGYcIBajYMe2J3q9MiUZ6tpa3p9OJBBjoQMQERERUdOxsraAuVnTnwJWVtXifllFk29XiP0Val8fZGJvD4fnhkO+aycUiQmQhv69+8yVskSILSxg4ePbSAmJ6I+wUCciIiJqRszNjDFs/g9Nvt19a6Nwv8m3Ksz+CrWvv78o4TB2JJTnzqDou+3w6hkJIzOzv7QedV0dMpNksO/YAc6udn+6vC5cmCAyNCzUiYiIiIgMwKMuSnjVtcP4gkNY+/L7OOXw11rV3SoKMbm0DF+liXDtL1zkEOrCBJEh4z3qREREREQG6o5lCyRJWyOyJBl21WV/6TW+yizUQYQMS7dGTkdEj8MWdSIiIiIiA3bMMQI+5dnoX3ge37n1A/5kFHef8mxkW7igyuivdZUXSnMbb4GaFxbqREREREQGTGlsgVP2oegvvwg/5R2kSVs+dlmbmvtwqr6HXx0jmjDhk2lu4y0IdWGChMF3moiIiIjIwF228UNw2U30lV9EhqUbasQmj1zOV5kNALgp8WzKePQXPOmFiYBWdvjglZ6NkIgaE+9RJyIiIiIycGqRGAedOsO6thzdiq88djkfZRbkJja4Z2LVhOmI6PdYqBMRERERNQO5Fk6QWfmg470UOFTfe2i+WV01PCvu4obEQ4B0RPQgFupERERERM3EccdwVItNMKDwPKBW15vXujwHRlCz2zuRDmChTkRERETUTFQYmeOEQxhaVtxFO0VmvXm+ymyUi82Qa+4oUDoi0mChTkRERETUjMisfZFn5oA+8kswq6sGAIjVKniX5yBd4gG1iCUCkdB4FBIRERERNSO/DSwXCUldBboXywAAHhUFMFdV8/50Ih3BQp2IiIiIqJnJN3dEgnVbdChNhVNVCXzKs1ELMTIt3YSORkRgoU5ERERE1CyddAhDpdgUAwrPwUeZhTuWLR77fHUialos1ImIiIiImqFKIzMcc+wAz8pC2NfcZ7d3Ih3CQp2IiIiIqJm6auWNbHMnAEC6JQt1Il1hLHQAIiIiIiISiEiEH116wK2yEGUmUqHTENH/Y6FORERERNSMlZlIWaQT6Rh2fSciIiIiIiLSISzUiYiIiIiIiHQIC3UiIiIiIiIiHcJCnYiIiIiIiEiHsFAnIiIiIiIi0iEs1ImIiIiIiIh0CAt1IiIiIiIiIh3CQp2IiIiIiIhIh7BQJyIiIiIiItIhLNSJiIiIiIiIdAgLdSIiIiIiIiIdwkKdiIiIiIiISIewUCciIiIiIiLSITpfqNfV1WHt2rXo3r07wsLCMGfOHMjlcqFjERERERERGZz8/HzMmTMHnTp1QkREBObOnYu7d+8+dvmYmBgMHDgQoaGhGDx4MHbt2tWEaQ2XzhfqH3/8Mfbs2YPVq1cjJiYG+fn5eOWVV4SORUREREREZFDUajWmTZuGsrIyREdHIyYmBoWFhZgxY8Yjl//222+xdu1azJgxAz/++CNefPFFLFu2DHv37m3i5IZHpwv16upqREdHY968eejWrRvat2+Pjz76CJcvX8bly5eFjkdERERERGQw5HI5vL298d5778Hf3x/+/v6YOnUqkpOTUVpa+tDyO3bswPjx4xEVFQUvLy+MHj0azz33HGJjYwVIb1iMhQ7wR1JTU6FUKtGpUyftNA8PD7i7uyM+Ph7h4eECpiMiIiIiIjIcTk5OWLdunfb/8/PzsXPnTgQFBcHGxuah5RcvXgxXV9d608RiMcrKyho9q6HT6UI9Pz8fAODi4lJvurOzs3aeRllZ2UMfCFNTUzg7O6OVq9UTZzA2FqbTQUArO0G2K8T+Nqd9Bbi/TYX72zSE2N/mVuZv2wAAIABJREFUtK8A97epcH+bRnPa3+a0rwD3t6k8yf5qaqG8vDzU1dXVm2dtbQ1ra+tHvm7mzJk4cuQIbGxsEB0d/chlHmxQBYDc3Fzs378fEydO/Ns5qT6RWq1WCx3icX744QcsWLAA165dqzd98uTJ8PT0xIoVK7TTPv74Y2zatKnecmPHjsWyZcuaJCsREREREZGuGjdu3EO3D8+ePfux43+lpaWhqqoKmzdvhkwmw969ex9qQH1QcXExpkyZgsrKSsTGxsLK6skbS0nHW9TNzc2hUqlQW1sLY+P/Ra2uroaFhUW9ZadMmYIRI0Y8tI7y8nJYWlo2elYiIiIiIiJdpFAosGbNmoemP641HQD8/PwAAOvWrUOvXr2wZ88eTJ8+/ZHLZmVl4V//+hcqKysRExPDIr0B6HShrrnfobCwsN69DwUFBQ9dzfmjbhtERERERETNlVQqhVQq/dPl5HI5zp8/jyFDhminWVhYwNPT87GPaEtOTsZLL70EGxsb7Nix46F71unJ6PSo7/7+/pBIJLhw4YJ2WnZ2NnJyctCxY0cBkxERERERERmW3NxczJs3D1evXtVOu3//PjIzM+Hj4/PQ8unp6fjHP/4Bd3d3fPvttyzSG5BO36MOAB9++CH27NmD999/Hw4ODli2bBnMzMzwzTffCB2NiIiIiIjIYKhUKkyaNAkKhQLLly+HsbEx1q5dizt37mDv3r0wMjLC/fv3YW9vDyMjI4waNQp3795FdHR0vRZ7IyMj2NvbC7gn+k/nC/Xa2lptsV5bW4sePXpgyZIlfOOJiIiIiIgaWHFxMT744AOcOHECVVVV6N69OxYtWgQXFxfExsZi4cKFOHLkCGpqajBw4MBHrsPLywuHDx9u4uSGRecLdSIiIiIiIqLmRKfvUSciIiIiIiJqblioExEREREREekQFupEREREREREOoSFOhEREREREZEOYaHeDDSH8QKbwz4SGTqVSgWVSiV0DEEoFApUVlY+NF1fvttu3ryJ/Px8oWMQNYna2tpHHq+GQK1W6833DpGhY6HeDIhEIqEjNLoH95E/MobLkN/b5ligPvhe1tTUQCwWQyxuPj9Lmv1PTEzEW2+9haNHjwL4reg9efIkFAoFRCKRXnzmly5diqSkJADA6dOncebMGeTm5qK6ulrgZNSQPv/8c0ydOhV79+5Fbm6u0HGaXF1dHQDgl19+wa5du7TT9OEY/atEIpFBn1MdPXoU58+fFzoG0V9iLHSAplJYWIi6ujrY29vD1NRU6DiNSqVSQSwWQy6X48cff0R6ejr8/f0RFhYGDw8PWFlZwcjISOiYDebWrVu4ffs2vL294eHh0SwuTACAUqnE+fPnoVKp4OfnB09PT6EjNbji4mJkZGTA2dkZnp6eBv3eisVinD59GtnZ2RCJRPDw8EC7du1gZ2cndLRGIxKJUFJSgtjYWJw5cwYZGRn45JNP4OrqCnt7ewC/nSQa6vsuEolQXV2NpUuXQiqVwsPDA6mpqZg7dy7y8/Ph6OiI//73v/Dw8BA66p+aPHkyIiIiAAArV65ERUUFfHx80LZtW/j6+qJ169Zwd3eHg4ODQb2farUahYWFuHHjhva4dXFxgZmZmdDRGoWPjw/i4+Px4YcfoqioCF5eXujcuTP69OmDoKAg7XFrqDQXElNSUnDp0iWMGjUKFhYW9Zb59ddf4ebmhnbt2gkR8YnU1dUhMzMTJ0+eRG1tLQIDA9G+fXvY2NgY1PEKAIcPH0arVq0QGRmJTz75BPn5+Rg+fDg6dOggdLQmU1RUhLS0NGRlZcHNzQ2dO3eGkZFRs7pQri8M9jnqdXV1MDIywvnz57FlyxZkZmaiVatWaNeuHXx8fNC6dWu4urrCyclJ6KgNTrPvCxYswLlz52BlZYWioiKUlJTA3d0dnTp1QmhoKHr37q33+79lyxbExsZqf0i8vLwQEBCArl27okWLFvD09DSoE33NRZjk5GS8++67yMzMRIsWLWBqagpnZ2cEBAQgODjYIE6YTp06hQ0bNiA3NxfFxcWwt7dHv3798NJLLxncRYny8nJs2bIFW7duhampKVQqFczMzNChQwe8/vrrBre/GlVVVVi0aBFkMhmef/55rF+/Ht9//z32798PAHjjjTcM5tj9Pc2xfOjQIaxZswaHDx9GSUkJli9fjhs3bmDRokVYv349evTogVmzZgkd9y/RfNdmZmbi4sWLOHPmDFJTU6FUKmFnZ4fWrVvDx8cH06dP1/sL5prf2TNnzmDVqlXIyMiAu7s7vLy80Lp1awQEBMDW1hYuLi5o37690HEbXG1tLW7evInTp0/j+PHjSE1NhUKhwE8//QQfHx8cP34cERERkEqlQkdtcGq1GmVlZRgyZAhmzpyJ5557DtevX0dcXBz279+PjIwMbNiwAc8++6zQUf+U5nN88OBBvP/++6isrISHhwdqampgYWGBVq1awd/fH507d4a/v7/QcRtEQUEBrK2tYW5ujjVr1uDAgQOQy+UQi8Vo3749evfujb59+6JNmzZCR20UFy5cwOeff460tDTI5XK88sor6NWrF27fvo3BgwcLHY9+x2ALdc1J0MiRI2Fra4vg4GDcunUL165dg1KphLOzM6ytrTFnzhyEh4cLHbdRhIeHY/Xq1ejduzdUKhWuXbuG06dPIy4uDvHx8di8eTP69Omjt4WsSqVC165dMWLECAQFBWHRokXo0KEDbt++jaKiIpSXlyMmJkbbymMIamtrYWxsjNdffx3FxcUYP348qqurce3aNWRmZkIul6OgoAB9+vTB4sWLhY77tz14oj979mz4+fkhKioK5ubmuHjxIn766Se0bdsWH330EYyN9b9DkOYkKTY2Fl988QX+9a9/YdSoUSgpKcHJkyfx+eefw8rKCjt37hQ6aoPS7PeBAwewceNG7NmzBxkZGXj55Zfxyy+/4MCBA1i5ciU+/fRTdOnSRei4jULzG7VixQoUFxdj7dq12Lp1K3bt2oVXX30VAwYMwPr165GamorPPvtMu7yuqqmpgYmJCUpLS2FjY1Nv3tWrVxEXF4cTJ05ALBbjm2++0dvfHQ3NZ/jFF1+ElZUV3njjDSxYsAAFBQUAgKysLLi6umLkyJGYPXu2wGkbX2VlJZKSkhAREYHS0lJ07doVcXFxsLa2Fjpag8jKykJpaSkCAgK0PRKPHj2KuXPnIjIyEjKZDJaWlhg0aBACAwPRv39/mJiYCJz6z2k+xy+88AKCgoIwefJk3Lt3D0lJSbhx4wZyc3Nx48YNg/4cl5SUICMjA1evXsXFixdx9epVFBUVQaVS4cSJE3B2dhY6YoMaPXo0AgIC8O677yIqKgrjx4+Hh4cHXn75ZSxZsgRjxowROiI9QP/PdB9DLBajtLQUmZmZ2LdvX72ug5qThsOHDz90QmEoCgsLERoaijZt2mgLmpCQEISEhGDWrFm4d+8erKysAOjvPeynTp2CsbEx3nzzTZSVlaF169Z46623kJ6ejnfffRdz5swxqCIdgPa9zMjIwMyZM9GvXz8AwODBg3H//n1kZmbi8uXLetXl7kEqlQpGRkbYv38/7O3t8dFHH2mnd+zYEW3atMHKlStx9uxZ9OzZU+C0DeeXX37BoEGDMGrUKACAnZ0doqKi4OLignfeeQenTp1Cjx49BE7Z8E6dOoWwsDBYWFjgwIEDCAgIgFQqxfPPP4+4uDicOnXKIAv1uro67fdup06d8MUXX2Dr1q346quvMHToUAwYMAAAkJCQgI4dOwLQ/UHlNMXLq6++ioyMDPTu3RsdOnRAly5dEBQUhKCgIEybNk17z7rmWNdXmuyJiYn4+uuv4eHhAalUimnTpqFnz56YMmUKTExMMGzYMIGTNrwHL7KUl5cjNzcXLVu21P7eWlhYYNeuXbC2ttb7CzIaO3fuxJdffgkXFxcEBwejT58+6NChA7p164akpCSsX78enTt3BgC9GVcC+N/nWKVSYeDAgfDy8oKXlxeCg4MBAHfv3kVycjK8vb2FjNmgNBcnrly5goSEBHTr1g3t2rVDhw4dMHXqVOTn5yMtLQ3Xr183uCI9JycH6enp+Oabb1BRUYGsrCxERETA29sbzz//PI4cOYJhw4Y9dDsHCcdgC3UAyM/PR6dOnR76kXjwpMHQaH4UnZycEBkZiXXr1mHu3Llwd3eHubm5djlbW1sBUzYMzdV7ALhy5Qo8PT0hFovRv39/HD9+HGVlZQInbByVlZUIDg5GRkZGvelWVlYIDg7W/sDqI02L4a1btxAUFPTQ9MGDB+PAgQO4cuUKevbsqfOtjH/mwZOkB9XW1kKlUqFz584wMzPD/fv3tcvp8/5qaPa7TZs2uHjxIgAgLi4Ozz//vHZ+Xl6e3l5w+jMPFqgRERE4cOAAPv30U4SFheGVV15BUlISYmNjkZ+fjyFDhgCAzr/vmnxRUVFYuHAhjh8/jv3796O8vBze3t7o168fIiMjtcWMPhfpGhkZGXBycoKLiwsUCgUsLS1RXFwMABg3bhz2798PV1dXgVM2LM05RmlpKVauXIk7d+5ALpdjyZIl8PLygo2NDWxtbbXHriEU6QDwj3/8A7169YJMJsPZs2excuVKKBQKqNVq2Nvb4+7du6ioqIClpSUA/dhvzXtZXFyMNm3a4NSpUw81bri4uMDFxUWghI1D894kJyfjiy++wLZt2+Dt7Q0fHx8EBQWhXbt26N69O5555hkAhjVOSnp6OlxdXWFkZIRz587B3t4e7u7uAIDevXtj+fLlLNJ1jEEW6pqrZfn5+SgoKMCaNWswc+ZMuLq6aluRDZXmC+Wjjz5CdHQ0KisrUVBQgDZt2qB169bw9/dHq1at0LJlS6GjPjU/Pz/s2rULZ8+e1X6JagqekpISuLm5CRmvwWmKtLS0NFy5cgX79++HWq1Gly5dEBAQoBfd7P6M5n3s1q0bNmzYgP79+yMsLEw7v6qqCikpKRg+fLhQERvMg0X30KFD8f7776NHjx4IDg7W9pxITEzE7du3tSdPul6s/V19+/bF3r17sX79ety6dQsBAQEoLCzEsWPHkJ2djf79+wsdscHt3r0baWlpGDlyJPz9/WFnZ4d169ahuroapqamUCgU2LlzJ+Li4vDOO++gdevWAHT7xF/zWY6Pj0d0dDTefvtt9OvXD2ZmZkhOTsZ//vMffPrpp/jss89ga2uLefPmYfTo0ULHfmrW1tZwcXFBTEwMJk6cCJFIBKVSCeC3f5MbN27o/b34vycSiVBbW4vXXnsNIpEIw4YNw7vvvgt7e3vs3LkT2dnZWLp0KRwcHISO2qDs7e1hb2+PiIgIjBs3DgqFAteuXUNqairOnDmDJUuWYNmyZbC3t0d0dLS2+NFlmvPFy5cvIyEhAbm5ucjLy0OPHj0QGhpqsGOjaH5Hc3JyYG5ujjZt2sDExARJSUn48ccfYW1tjXbt2iE4OBjDhg0zmNs3AKBDhw6wtbXFjh07kJGRgU6dOsHc3BwKhQKHDx+Gr6+v0BHpdwyyUNdcqd+xYweys7ORnp6OO3fuIDAwEH5+fvD29oarq6u2BdaQiMViVFdXY+vWrZg3bx7s7OyQnJyMtLQ0pKSk4NChQ1Cr1Vi/fj28vLyEjvtUevfujWPHjqGgoAARERGIi4vDwIEDkZmZiQsXLmD69OlCR2xQms+qXC5H69atYWFhoR14y97eHr6+vmjbti169+4NR0dHgdM+nWeeeQa7du3CihUrEBUVhYCAABQVFWHfvn2QSCTabu/6fPyKxWLtiVKXLl0QEhKC+fPnIyIiAk5OTlAqlbh06RL69u0LZ2dng7iqX1xcDAsLC+0V+zZt2mDmzJlYuXIlysvL8dZbb0EikSA7Oxsvv/wyWrVqJWzgRpCXl4d9+/Zh27ZtMDExQefOnTFgwAB07twZbm5ukEqlWL58uV71ntB08/3555/h6emJCRMmAPitWO3WrRusra2hUqkwfPhwJCUlISYmBj179tT7ljpHR0cMGDAAaWlpsLCwgFqtRmpqKlJSUrB161Z07dpV6IgNSvOZ1Dyd4ocffkB1dTXWr1+PVq1aoW/fvpg5cybi4+P1YiC1J2VpaYnKykp07twZQUFBmDRpEoqKipCQkID4+Hi9KNKB//1+SiQSDBkyBFlZWbh58yZSUlJgamoKd3d3uLm5YezYsdoLhvpO8zualpaG/fv3Y9WqVYiMjATw23fzoUOHsH79elhaWiIxMREXL17E8uXLDaaRTyKRYOTIkdi4cSPkcjnCwsLwxRdfIC4uDkVFRViwYIHQEel3DGowuZKSEhgbG9c7oBQKBS5evIhTp04hISEBhYWFkEgksLOzw5YtWwzm4HvQlStXsHTpUuzZs0c7Ta1WIy0tDQkJCUhKSsKKFSsETNhwFAoFAEAqlWLRokX48ccfYWNjgy5dumDNmjUCp2tcxcXFuHHjBpKSkpCWlob8/HzcvHkTq1at0rv7t7OysmBpaQlbW1vthbbU1FR88sknOHPmDMrLy+Hm5oZWrVph5syZiIiI0OvCdfXq1ZgwYUK9sTOUSiWio6Nx6dIl7W0bPXr0wIsvvgipVKrX+6sxZswYvPbaa+jatStu3LgBS0tLuLu7o7a2FjKZDOfOnQMA9OvXD35+fgKnbRxKpRLFxcXIycnBhQsXsHnzZu08W1tb9OjRA8OGDUNYWBisrKz06n1fsWIFcnJy6u2TJv/06dPRsWNHTJw4EVOnTsVzzz2HcePGCZj26ajVauTk5MDDw0PbG+LAgQNYunQp7t+/j549e2LBggUGNXK0plBfvXo1cnJysHHjRqxfvx4JCQn4+uuvAQALFy5EbW0t1qxZo1ef3T+j2fe7d+/i22+/xd69e1FUVKS9rWPcuHFwdHTUDqqor+7du4fk5GTEx8cjPT0daWlpWL9+PQICAoSO1iA07+PWrVtx6NAhfPvttw99TpcsWQJXV1eEhYVh4cKFePvtt9GnTx8BUzc8mUyG2NhY5OXlIS8vD3Z2dliwYIHB3m6mzwyqRX3dunUoLS3Fhg0bcOXKFVRUVKBTp07o3bs3evfuDeC3ri6nT5/G9evXDa5I13T5V6vVaNmyJY4cOYK+ffsC+K27mr+/v8E8XqO2thZ5eXkoKyuDpaUlRCIRli9fjkGDBqGurs7gWjI0VCoV8vLycO/ePZibmyMoKAiRkZFQqVTIzc3FzZs3tYNP6ZNx48bByMgIXbt21Xbl9/f3x8cffwyVSlVvxF3NSZC+ngAqFAqkpKRou4ZqWo67d++OSZMmYcaMGVAoFPUea6Q5tvXdgAEDtN9BEydOhJWVFTp27IiOHTsiKChIbx5D9jQkEgkkEglEIhE+//xzTJw4Eb1794ZYLMbVq1fx/fffY9++fQCAc+fO6dV4IiNGjMCYMWOwcuVKjBw5Em3atIGpqam2pfGll16CmZnZI0eG1xeaE/0zZ85gx44d2LRpk7Z7++DBgxEeHo6SkhL4+PjodcH2KJoWWG9vb+3YEjKZDL169dIuI5fLERgYCED/Bwx8kOb3ZtWqVbhx4wZGjx4NX19fJCQkYOfOnTh06BA2b96sl93FU1NTce7cOVy9ehWurq7o06cP5syZA6VSiYyMDIMp0oH/fYadnZ1RUFCgHaj1wR5M1dXVyMvLw4wZMxAZGYljx44ZTKFeXFyMy5cvw87ODjNnzoRIJIK9vb1BPEXHUBlUi/rt27chFovh6emJt99+G7t27YKNjQ3atWuHnj17omfPngY1cuXvaa4KzpgxA8eOHYO7uzteeOEF9O/f32C6LWm8++672Lt3L0xNTdGqVSu0bdsW7dq1Q1hYGGxtbeHk5KQ33Ub/igef2fvhhx/i2rVrcHBwQFBQEHx9fdGhQwfY29vDzs5OL08ULl++rB3lOykpCTY2NmjRogXCw8PRpUsXBAcHw87ODoBhDEKVl5cHV1dX5OXl4e2330Z5eTlKSkpgZmaGli1bIigoCP7+/ggMDNSrQu2v0HxPnT9/HseOHcPx48dx69YtmJqawsfHB5GRkQgODsazzz5rUMewhqbFbdOmTbh48aK2JVLz73LmzBls3LgRkyZNwtChQ/WuVXLv3r346quvYGtrC4lEgnv37iErKwvdunXDBx98gOTkZEyePBnHjx/X64vlp0+fxuLFi7FhwwaEhIRop5eWluLo0aMoLy/X3gJgaMrLyzFmzBjY2Njg0qVL2LJli3ZckR9++AFbtmyBr6+v3n12/0xRURH69euHXbt2wcfHRzs9NTUVM2bMwJgxY/Dyyy/rxfeW5pziyJEj2Lx5M27fvo3g4GBUVFTg7t276NOnDxYsWGCwBZxKpcLMmTMhl8sxdepUbS+9AwcOIDo6Gu+88w569+6NsWPHYuDAgZg6darQkZ/a2bNn8cknn0CpVCI1NRUrV66El5cXFAoFunXrBmNjY4M6Xg2FQRXqDyopKUFOTg4SExNx7tw5XL58GcXFxXB1dUWbNm2wYsUKtGjRQuiYDeLB1ja1Wo24uDjcvHkTFy5cQGJiIuRyOWxsbBAZGYlu3bph9OjRevFD8ji3b99GVFQU/v3vf8PFxQVxcXFISEhAQUEBzM3N4ejoaHC3NWje4wkTJsDGxgZLly7F7NmzUVxcjMrKSpSWlsLJyQmTJ0/Giy++KHTcJ1ZUVITPPvsMBw8eRJcuXZCcnIyMjAzY2NigQ4cOCA8Pxz/+8Q+hYzYIzRV8zYnRrVu3kJCQgNTUVBQWFqKmpgZSqRQ+Pj4YPHiwQTym7HH3XVdVVeH48eM4cuQIjhw5AmdnZ/z8888CJGx8muJl2bJlkMvl+Pjjjx9a5t///jdatmyJ2bNn60Wx8/uMFy9exJEjR1BUVAQbGxv4+/tj0KBB2LVrF7744gtERUXhzTffFDDx09Hs76xZs2BhYYG5c+fi7NmzuHDhAk6ePInS0lIsXrwYEydOFDpqg9Mcw+np6fjoo49w/fp1yOVyqNVqODg4YPr06QYxUOCDNO/34cOHsXHjRsTGxsLExKTe99m2bdvw888/IyYmRuC0f41mnwYOHIhevXph9uzZMDExQWZmJuLi4rB69Wq8+uqrmDFjhtBRG01GRgY2btyIkydPoqqqCnZ2djA3N0dUVBT++c9/Yvfu3fjiiy+wY8cOvRl34HFUKhVGjBiBzp07Y/LkyRg1ahQ2bNiA27dvY/Pmzfj444+1PWFItxjmpTL89hxiW1tbBAYGYsyYMaisrMS1a9dw/vx5nD171qCKuL1796Kqqgrjx4+HUqlEeHg4unbtikmTJiE/Px/Xr19HYmIi4uLi8Pnnn+OFF14QOvJTuXLlCkJDQ7WtFZpniefm5uLMmTNIS0szqPcX+F8rclJSEr7//nu4uLjA2toaixcvRkhICEaMGAFHR0e97Z5VW1sLY2NjvPvuu7C0tERMTIx2sMN79+5hwYIF+PXXXyGRSAAYRldwzQmeSqVCYWEh7O3tMWvWLBgbGyM1NRUJCQnIzMzE5cuXcevWLbRo0ULve8Zoirni4mIcOHAAtbW16Nq1K9q2bYtnn31WOwCVZuwJQ6T5Nxg6dCj+8Y9/4NNPP8XIkSO1A6vdunUL8fHx2mep60OhLhKJUF5ejh07duDUqVPw9PREp06d0LVrV9jb2wP4raXZw8MDb775pnbf9El2djZ+/PFH9OvXDz4+PhCJRFixYgWeffZZXLx4EVKpFNbW1pg/fz5CQkIMciBE4LfvrcrKSnh7e+OTTz5BSkoKcnNzAQDu7u4G1U1aQ3P8ubu7QywW4+DBgxg6dGi9i455eXl685v04GPZ5HI5pk2bpr3VSnOLZG1tLeLi4jBhwgSDGfVcc95w9epVAEBAQADWr1+PrKws3L17F4WFhfD19YWPjw+++uorfPfdd5g+fbreF+nAbz2ASkpKsHDhQty+fRu1tbXw9/dHy5YtERsbi9jYWBbqOsqgCvUHB/vYsWMHVCoV5s6dq73fRHM/77Rp0+o9U1zfpaamarveffXVV5DJZAgPD4e/vz/8/Py0z4OcMWMGSkpKAOjHyd/jBAUF4ZdffkF6enq9Wxnc3NwM7ko+8L/3KiUlBc7OznBwcEBxcTGsrKyQnZ2NkJAQTJkyBXFxcXrZ7R3434WIa9eu4dVXX4WXl5f2WeK2traYOXMmHBwcMHv2bAD6Pdq7hkqlwqFDh7Bs2TKYmZkBAMzMzNC3b1/MmzdPO6hLUlISRo0ahfT0dIMo1FUqFV555RXcunULJiYmWL16NaytrREaGop+/fppRwPX5++ovyI0NBQzZ87E7t27ceHCBTg6OqK6uhrJycnw9/fXPsNXHz7r9+7dw5IlS3D+/Hl0794dd+7cwU8//QQAeOONNzB27FjY2NhoL6rqI83glp9++qm2h8+AAQMwduxYbN++HatWrTKIXi9/5uDBg4iJiUFJSQkiIyMxYMAA9OrVy2C7SD/I398fbdq0webNm3Hv3j20b98eUqkUFy5cwPHjxzFlyhShI/4lmu/Vu3fvwsvLC9euXUO3bt1QU1MDkUgEY2NjtG/fHl9//bXBFOnA/75L33//fSQmJqJ9+/Zo164dunbtisDAwHrPkB80aBDCw8PrPR5Wn2VkZKBt27YAgF9//RX+/v6wtraGtbU1+vXrhxMnTgickB7HIL9ZV69ejeTkZG1humzZMhw8eBAmJibYuHFjvYFPDMGiRYu0zw83MzODWq3Gr7/+il9++QU2Njbw9PSEv78/Wrdujc6dOwPQ34G4gN9+XFJSUvDSSy9hxIgR6Nq1K0JDQ/XmavbfpXmvHB0d4ejoiL1792Lo0KFQqVSoqakB8Nt9r6mpqXpxUv8oIpEI1dXVCA4OxoEDBzBkyJB6J36+vr748ccf8dJLL2mX11eaq/onT57EunXrEBUVhWeeeQYlJSWQyWT46aefUFRUhOXLl8O3SH8uAAAgAElEQVTU1BT+/v4YPXq09tjVVw8OwnXr1i2sXbsWjo6OyMrKQnJyMi5fvowPP/wQS5YsQVJSksEezxpGRkZ4+eWX4ePjg8OHD0Mul8PExARDhgzBtGnT9OL525rP8r59+5CdnY3//Oc/aN++PYDfvqc3bdqE//73v+jbty+cnJwETvt0evXqhWPHjiE7Oxvx8fE4c+aMdnwJAPj+++9RW1uL9u3ba3sRGArNRbNbt25hwYIFCA8PR6dOnZCQkIBdu3ZBpVLB29sbXbp0weuvv26wRbtYLMbChQuxevVqrFq1ClKpFPb29tqBx4YOHSp0xD91+/ZttGjRQjsmiLOzM7788ku0a9dOOw5Mfn4+Dh48aHBP3hCJRKirq8OoUaOQmpoKFxcXXL16Fbt374aJiQkiIyMRGhqK/v37w9vbG25ubgZzwbhHjx746quvcPDgQRw5ckQ74HJVVRVOnDiB4OBggRPS4xjcPerV1dXo2LEj9uzZo73yuW3bNrzzzjv45ZdfYGJigiVLlsDS0lLoqI0qKysLMpkMCQkJuH79Ou7du4fKykrs2rVLrwenunr1KiZNmgRvb284OzsjPz9fOwiXr68vIiIiMGXKFIP4Yn2UDRs2ICcnB0uWLMHrr7+O1q1bY/z48Zg/fz46dOigV/d9PvgDqBlg6/Tp05g+fTrCw8MxfPhwdO7cGWVlZdi8eTMyMzO1o2HrM01xM2fOHNjY2GD58uX15n///ffYsmULNmzYoB0h3RC6+mts374dCQkJ+OCDD7TTqqurUVZWhry8PCgUimbRMvnTTz/h3LlzcHd3R2BgoF4WeJrP5bRp0+Dn54f58+fXm64p7EaPHo3nn3/eYE56NftXVFSElJQUyGQyHD16FJmZmaioqMDnn3+u7RFhCDQX2b788kucOHEC0dHRqKysRElJCfLz85Geno5z585BLpfj66+/Npj3+ffUajUKCgoglUphZmaG5ORk5OTkIDQ0FG5ubkLH+1N1dXX45z//if9j7z7Dorq2Bo7/BwZxqNKbIojSFBBEBMQSFBvqjRpjwRJLNOZaE00UNZY0vcYeu8ZegIiKmmhUUOyCIkVEEFDpKChIG+r7wWfm1Zjcm9yYO8x4ft8C5HnW8Zyzz167rL1u3Tr5TPnVq1cJDg6moKAAFxcXHBwcSEhIQE1NjTlz5qhMWyx7Z0+cOMHmzZtZvHixfAa9vLycDRs28MMPP9CsWTNKSkoYOXIkCxcuVHDUb9bWrVs5ffo0d+7c4cMPP8TCwoITJ05QXV3N8uXLVbrYtjJTmWFP2Yfh5s2bmJiY0KpVKx48eEB4eDgjRowgICAAHR0d5s2bp7JJuuyIrqZNm2JiYkL//v3lM6/37t0jLS1NqZN0gJ9//hlvb282b95McXEx2dnZZGZmkpGRQUJCArGxsSpRnfP3zJgxA6lUiqamJj179uTrr79m586ddO7cWenOJBaJRGRlZdGiRQv5MUZ+fn5s376dbdu2sWbNGoqLi6mvr6dLly4sXrwY+P2CZMpClnCXlpbSqVMn4MUefQCxWEz//v3Zt28f9+7dw9HRkYaGBpVJ0gEGDBjAhQsXOHXqFN26daNp06Y0adJEvmJE1VVXV/Ptt99y/PhxHB0diYuLY8OGDRgYGDB79mz+8Y9/KDrEP0z2XFpZWVFSUvLaz21sbCgrK5OvDlCVBE5dXZ34+HhEIhGWlpZ06NCBqVOn8vDhQ+Li4ujQoYOiQ3yjZO1tmzZtePz4MVKpFIlEgkQiwdLSEnd3d3r37i1vx1SJ7JnNyspi7dq1JCUlkZubi7GxMQMHDmTkyJGYmpoqOsw/5MaNG1y7du2VYoAbNmwgIiKC48ePEx8fz/3793F1deXDDz9U2q10/87ly5dxdXXF09OTuro66urq0NbWZtSoUeTn5zN48GAeP37Mtm3bSElJUZkjjQHGjh2Lnp4eEomE0NBQTE1NsbKy4uOPPxaS9EZMZRJ12cff0NCQFi1asH37dmJjY5FIJPKiY2lpafKlPapENlIYERHBxo0befToEcbGxrRv3x4fHx86duyIg4ODShR5sbe3l+/nNTQ0xNDQEFdXV2pra8nPz0fFFoi84sGDB5SWltKqVSs0NTV57733aNeuHWVlZdjY2ChdklNdXU1AQAC6urp06NCBHj160LVrV7y9vfH29iY1NZWnT58ikUho3ry5fLZRmZN0mfr6ejp27MjBgwfp06eP/Ex1eHH0UVZWlnwpmqokN/Bimd2GDRs4f/48iYmJXL58GU9PT+zs7DAzM0NXV1el6oe8TNZOR0ZGcuXKFVasWIGvry9NmjQhMzOTTZs2sXnzZrp06aJ0M+u9evViwoQJWFhY0KtXL4yNjdHW1iYyMpK8vDz8/PwA5X53ZQOEjx49ki8hffbsmXx7ytixY+nTpw/W1tYq877+mrm5OSdPnkRbW5s+ffpgYmKCjo4OGhoar+xlVqXrl11LcHAwNTU18sKP9+7d45dffiElJYVvv/1WKfqWurq6tGnThvnz51NRUUFqaioFBQXo6ekxcuRIRo4cqegQ/zaywcMWLVoQHR1NVVUVTZs2lf/c0tKSvLw87t+/zwcffMCPP/5ITEyMSiTqtbW15OXl8fz5c/r168fw4cOpqanh6dOnSjPI9DZTXyybplIRhoaGpKamsnHjRiQSCUuWLMHS0pLQ0FBCQkIYPHgw7du3V3SYb5Ss8zN69Gi6d+/OrFmzaNWqFWlpaRw7doyDBw+yY8cOunfvrnTJ3Mtqa2vZvn07R48exczMDDMzM8RiMerq6qipqaGnp4e+vr6iw3yjamtrUVNT4/jx4yxfvpyNGzfyww8/8Msvv5CTk0Pz5s1xdnZGX19f6RK66upq2rVrh42NDVlZWRw7dozNmzdz+PBhMjMzsbS0xMPDAysrKyQSiaLDfWNkHX4LCwtCQkI4ceIEVVVVNGnShLi4OJYtW4axsTETJkwAVKPTW1dXh5qaGj/99BPbtm1j/Pjx2NnZcfnyZX788UdOnDjB1atXKSoqkq8yUDUNDQ2oqamxZcsWWrZsyfjx4xGLxdTX12NkZIStrS0XL15ES0tLvs9bGVRXV2NpaYmGhga7du0iOjqahIQEdu7cydGjR/nggw/o2rWr0rVPvyZ7b5cuXUpWVhajR49m/vz5+Pn5kZ2dzb59+2jZsiWtW7dW+mt9WX19PSKRiLS0NIKDg8nPz+fq1aucOnWKxMRECgsLkUql8sKfqkR27bGxsRw4cIBdu3bRrVs3HB0d8fT0xMbGht27d9OyZUulSOj09fVRU1MjMTGR27dvIxaLuX37Nnfv3qWwsJDKykoAJBKJUg+q/TsWFhZs2bKFK1euoKmpiY6ODrq6uuzbt4+TJ08yd+5cmjVrxtq1axk6dKj89Bll9tVXX7F48WKOHz/O+fPniY+Pp6ioCLFYjFQqRU9PT2XvtypQuT3qMlKplIqKCgwMDPjhhx/4/vvv+ec//8mwYcPkx1CoAlmHICEhgRkzZhAVFfXK78vLy7l79y7R0dFMnTpVKQoU/Z6cnBymT59OcXExeXl52Nra4uXlhY+PD46OjpiYmMiP71IVsvvbvXt3fHx86Nu3L1VVVVy5coXr16+Tm5srn6Xs0aOHosP9r9TW1lJSUsKTJ0/IzMzk5s2bxMbGkp6eTn19PaampowePVqpz4eXkXX2r169SocOHcjJyWHjxo3cuHFDPrPRs2dPxo4di4ODg9Iv85eRXccXX3yBpqYm8+fPl/+uvLycK1eucPjwYZo1a8ayZcsUGOnfb8mSJTQ0NPBbY+QjRoygb9++jBkzplHf+4KCAnR1ddHS0uKbb75h5MiR2NjYEBcXx5kzZ7h37x7Ozs506dKFjh07IhKJVCZ5dXd3Z8+ePbi4uMh/VlFRwaeffoqamhrLli1TqeNBZStBvvzyS27fvs13332HtrY2Z86c4ezZsyQkJFBeXs4777zDpk2bFB3uGyV7B3fs2MGNGzfYsmXLa3/zr3/9i+zsbNatW6eACP97jo6OTJ06laysLJKTkykpKUFXVxdbW1vMzc2ZNGmSys22ytqgu3fv8t1335Gfn49UKqWoqAhtbW0mTJjAmDFjOHbsGKtWreLSpUuKDvkve/jwIf/4xz+YM2cOZmZmXL16lbi4OAoLC9HS0sLIyIitW7eqVJulalRi6bvs5autreWXX36hurqawMBADAwMKCgooEePHrz//vtIJBKV2usZGhpKXV0dvr6+SKVSPDw8yMzMfOUIJ21tbTw9PV85dkJZWVlZcfjwYaRSKXFxcVy4cIErV67Iz5EfPnz4b3Z+lZlIJCI/P5/KykqWLFkiH2jx9/envLycvLw8bt68qdRHiIjFYoyMjDA0NMTBwYE+ffpQXl7Oo0ePSE5O5uzZs/Lq9rLz1pWVLPFavXo1zs7OLFy4kBUrVlBQUCA/js7MzEx+nxtrovZnya7D0tKSwsLCV36nra1NQEAAAQEBigjtf65Xr16MHz8eGxsbAgICMDQ0RCKRcOvWLVJTU/n666+BxruSQnaqyNatW2ndujWXL1/Gy8sLGxsb3N3dX2mLsrOz5d/nxno9f8b9+/cxMTF5beZYS0uLjz76iFmzZsm3ZqkK2btbV1fH4MGD5f2LoKAg+bbCxMREysrKAOVvo18mu3Y7OztCQ0OJjo6ma9eurwyiZWVlKUVCGxkZSVpaGpMnTwYgNjb2lUmrlJQUrl69yo0bN4iKimLOnDmKCvVvIxKJKC8vx8nJiQ0bNnDz5k1ycnLQ0dHBxsaGNm3asGzZMiIiIpg7d66iw30jEhISaN++vfxdlR2RmZuby+XLl7l3756QpDdyKrH0XdZo7ty5ky1btiASiejatSsHDhxg/fr1xMbG4urqqtTLvn/Lpk2b2LVrFyEhIcTHx3P9+nVKS0vl+7hlBbpUSUZGBhKJhFatWuHn58eIESMYNmwY9vb2uLi4qMQyJYCwsDBOnDiBoaEhYrGYp0+foqOjIy/uoqamRtOmTTE2NsbV1VWpl4Y3NDQQFRXFzp07OX/+PLm5uQDyjn///v3x8PBAJBKpROJaW1uLRCIhLCyMXbt2YWRkRPv27dHX10dfX1+lBhNf9vTpU3bv3s2ZM2fIy8tDQ0MDfX19ld2T/nssLCyor69n586d3Lhxg9TUVA4dOsQPP/xAYGAggwYNAhpvoi4SiTAzMwNeJK4FBQXExMQQEhJCTEwMJSUl6OvrU1payqxZsxg6dGijvZY/SywWc+HCBZKTk+ncuTNqamryNuns2bMkJiaqXDFT2ZFWV65cITY2lp49e762Ms/MzOyVb5OqsbKyIioqinPnzqGpqYmenh7FxcVs376d69ev889//hMLCwtFh/lvRUVFoaamhoeHBzt37mT16tXk5+ejoaGBhYUFxsbG8u/tqFGjVLL/GBUVxapVq9i3bx/FxcXY2tri5+eHk5MTJiYmSKVSWrduzYABA+R1NZSdpqamfK/9y7VPdHV1adu2LV27dlVgdII/QqWWvvv4+PDJJ58wdOhQTp8+zRdffEGXLl1ITEzE1dWVxYsXq9zS6OfPn5OYmMjFixdJSEggPj4eDQ0N2rZti7e3N506dcLa2lresVJWsiNvfv75Z2pqamjdujWurq74+fmpXM0BgO+//56DBw9SUlKCRCKhrKyM9u3bs3TpUtq0aaPo8N4I2QDbrVu3mDVrFtra2mhpafHo0SOaN2+Ojo4OLVu2RCQSsXTpUkWH+8ZJpVI2btzIxYsX6dOnD5MmTZL/TlWWCb8sPT2dH374gaKiIjIzMxGLxejq6mJjY4OjoyPe3t5Ksc/zTUlKSuLkyZPcvn2bFi1a4OvrS0BAANra2kpz/0+ePElqaioODg4kJiaSmppKdnY2JSUlVFVVYW9vL1/5pewDULJ7cvjwYTZt2oS7uzudO3dGR0dHvpz01++xqrh79y7BwcGkpaVhYWFB586dad++PW5ubq+s4FNlhYWFrFixgsjISCoqKtDW1sbIyIhx48YxfPhwRYf3Hz1//hyRSISOjg4rV64kJyeHwsJCsrKy0NLSwt7eHm9vbzw9PWnTpk2j3nrzZ8je27S0ND744AP50b4nTpzAzMyMuro67O3tkUgkrF27VmVWg8hcv36duXPnIhKJGDRoEL6+vrRv317p2+O3idIn6rKXMCMjg5EjR3Lt2jWqqqoYO3YszZs3Z+XKlSQnJ/Ppp59y6NAhlSs29muy2Y2oqCji4uLIzc3FwsLitb3ryiYiIoJly5YxePBgSktLCQ8Px8HBgfT0dDQ1NbGysiI8PFzRYb4xtbW1lJaWkpOTQ3x8PHfu3OHGjRvk5ORgbm6Op6cn/v7+dOjQQWkHYWRLJIODg3n69CmbNm1i7969REREMGDAALZt20Z1dTVDhw5l9uzZKtNxeFllZSXnzp1j3bp1mJmZ8dlnn72y91VVvJx4VldXU1BQQEJCArdu3eLRo0ekp6czePBgpk6dquBI/15lZWWcOXOGy5cvo6+vT69evejQoYNSdQ7v37+PlpYWlpaWTJ8+neDgYMzNzamqqqKwsJDs7GwePnyIjo4O7du3p0WLFiqRqMtUVlZy+PBhDhw4QEFBAc2aNUNTU5ORI0cyaNAglZsMAHj27Jl8mXBycjI5OTmUlpaioaFB06ZNeffdd3nvvfcUHeYb9XKb9fPPP/Ps2TN69+5NTU0NxcXF1NbWYmxs3Ohn0n9NKpXi5uZGz5496devH4B8kK2goIBHjx5x+PBhlZkQkPUzvvvuOxISEtizZw/Hjx9n165dTJs2jc2bN3P79m3ef/99li5dqlL9jMTEREaPHi0fnMjPz+fp06doamrSpk0bPD09GTt2rFIMCr/NlKd38BsaGhrkjWlJSQnNmzcnIiKC7OxssrKy5AWLcnNzef78ucol6S9/SG7duoWZmRlWVlby89MBUlNTycrKAlDqztKxY8fo378/s2fPZuvWrQQEBDB58mSWL19Obm4uEydOVHSIb5RYLJYfP+fi4kJ5eTnFxcXk5OQQGxtLXFwcCxcupLy8/LW9ZspC9izGxcUxbdo04MVA0zvvvMOYMWMwNjbm4MGDBAYGAo13KfCflZ6eTkNDA5qammRmZqKlpcXIkSPZs2cP06ZNY9y4cbz33nsq1eEXiURUVVWRkpIiPzbT29ubwMBAiouLuXXrlsp0DH9N1k4XFBSwatUqjh8/TufOncnNzeX48eOYm5uzZMkSpagz0dDQwK1bt9i/fz/m5uZcuHCBwMBAtLW10dXVxdraGmtra3x9fSksLJTv3VXW7w68WgDy2rVrzJo1i1GjRjFq1CiePn1Keno6rq6uSl2o9T9p1qyZvFhpXV0djx49IjU1lbS0tFe+P8rcx/g9X331FefOnaNPnz7U1dVhZmbG9u3bMTExUcptDk2aNGHlypUcOnSI8+fPM23aNPr160d+fj73798nOztbpdpiWdIdGxtLnz59AMjPz8fT05Pu3bujr6/Ppk2bGDFiBKA6/Qx4McDk7e3N5s2bKS4uJjs7m8zMTDIyMkhISCA2NlYpn+G3jVIn6rICNfX19bi7u+Pj48PKlSuRSqV89NFHuLq6yqsJd+/eXdHh/m327t3Lrl27+PDDDxk+fDghISHcvXuX7t270717d+zt7QHl7ixlZ2czZswYAIqLi7G3t8fR0ZFZs2axZs0alfqwwP93eMrKyti7dy+5ubkEBQXh7e1Nq1at6NWrF1paWmRlZSllkg4v3t/q6mpMTU3Jy8ujoaGBuro6GhoakEql+Pr6smnTJvn+e2X+gMqStZs3b/Lpp59SW1tLcXEx1tbWqKurU15e/sqSvGfPnjFjxgxFh/2Xya67uLiYbdu2sXPnTmxtbRGLxezYsYMOHTqwaNEieYEbVVRXV4dYLCY0NJTMzEwOHz6Mvb09T548ISMjg3Xr1rFkyRL27dvX6N9lkUiEp6cnmZmZXLt2DXhRK2Xnzp1YWVnh4uKCp6cnFRUVfPXVV0RERCg44jfn7t27REREMHLkSPkqJgMDAzw9Pbl48SIGBga0a9dOwVH+PV6eFFFXV8fW1hZbW1t69+5NeXm5fD+zMvcxfk02uHb8+HHWrl2Li4uLfPDU2dmZlStX4ubmpnTHSYpEInr37o2RkRFr1qwhKCiIyZMnExQUhLm5uaLDe+NkiXrLli0pKCgAXqzqUlNTo6Kignbt2pGXl0dFRYUiw/xbyOpVAfKJH1dXV2pra8nPz0fJF1S/NZQ2US8vL2f//v1MmDBB/nGYPn06bm5u2NjY0Lp1a06fPs3y5ctxcHBQiaOdfk0kElFYWMimTZsYO3YsPXv25KeffmLJkiU4Ojpy6NAhdu3ahbe3t6JD/UukUikuLi6cOnUKT09PxGKxvAp4y5YtuX//vsqd3yrz9ddfk5aWhpeXF3p6egCcOXOGixcvsmTJEnx8fBQc4V/TpEkTevbsyZEjR+jZsye6urrEx8ejqalJQkICubm52NjYKDrMv0w2yKCtrc2QIUPo3LkzhoaGlJWVYWpqiqmpKVVVVairq3Pu3DkWLVqEsbGxvFKrspIlqfv37+f69ets2rQJNzc3Hj58SFxcHDt27OCzzz5j7dq1Klm8CP6/o3jx4kUCAwNxcnICXhTgMjMzw8DAgAULFnDr1i2lKOzTqlUrPv/8c7Zt20bPnj3R09MjNTWV8vJyLly4QFhYGIWFhfIVAspeBVx2/8aPH8+RI0fYt28f48aN4+nTp5w4cYKLFy+SlJTEZ599prKJen19/StJuCxxV1NTU6mVPzKyVRTXr1/H3Nwcb29v+UCyuro6/fr14+bNm4SFhSldog4vVux5e3vL+4i7du0iISGB8ePHY29vr9SD4r+nW7duLF++nN69e2NlZcXevXsRi8Wkp6eTlZUlr3WkKtdeW1tLdHQ0UVFRWFtb061bN3R1ddHQ0EAsFtO8eXNFhyj4g5T263n79m0SEhJQV1fn/v37rFu3Dn9/f9zd3bGysgKgXbt28mRGmTsKv0X2wTh37hwWFhZMnjyZ9PR09u/fT2BgICtWrGDhwoUcO3ZM6RN1TU1NAgIC2Lt3L/n5+RgaGnLkyBGGDRvG2bNnATAxMVFwlG+Wuro69fX1nDp1ip07d75SMK99+/Zs2bKF0NBQ+ZJxZdajRw8kEgm6urrY2dlx4MABFi1aRGJiIl26dAFUZ0mlo6Mjjo6OSKXS145xklU/9/f3JzQ0lDt37igixDdKluScOXOGoKAg3nnnHeDF6L67uzvNmzdn8+bN3L9/X57AqhrZv4GFhQVPnjyRz0zKkgE7OzuKiorkz3dj3yMpiy8wMJDw8HDu37/P48eP0dTUxNnZGV9fX6ysrOjQoQOgvFXAi4qKSEpKolWrVhgYGKCjo8OXX37JJ598wp07d4iJiZEncePGjcPf31/RIb9RL2+t+3XbqyrH7f0e2TOro6NDfX09KSkpODo6yv8dNDU1MTY2JiUlRZFh/mm1tbVUVVXRpEkT7t69S0NDA126dKGkpIRNmzZx+/ZtQkNDVW6bKEBAQAAmJiZYWFjQ0NBAcXExn376KWlpafj4+KCurq4y/Qx4sY3w4cOHNGvWjHnz5mFra4uXlxc+Pj44OjpiYmKikoNsqkhps1c3Nzf5iNDDhw959OgRu3fvZseOHRgbG2Nvb4+Pjw/29vaIxWKlqaL7R8k+JNnZ2VhZWVFdXc2uXbuorKxk9OjRwIuPzMOHDwHlT3R69eqFs7MzJiYmdOjQgcOHDzNhwgQqKysZNmyYosN7o2TPalJSEiYmJq9V1W3bti3BwcFs3LiRf/7zn0rbEZaxtLTk3XffRSwW07t3b9LS0ggLCyMwMJBRo0YBqjHKXV1dzYEDB7hy5Qp6enpYWVnh4OCAg4MD1tbW8hnlkpISevfujZubm4Ij/uvU1NSoq6uTrwYB5OfFa2ho4OPjw9dff62Syw4LCwvltSbgxQDMt99+i4eHB35+fmhoaFBRUcHly5cpLS3Fy8sLaNyJrWwWtaioiO+++45Lly7JlwQXFRXx+PFjpk6diq+vr/z/aczX8+/8/PPPfPXVV9jY2NCuXTt5NWzZKq49e/bQunVrlT2DWNbmDhkyhNGjR/Puu+8Cqnkixe/p2rUr69evZ/r06YwbN07+DERGRvLTTz/JzyRv7GSDa5cuXeLzzz8HXgwcPn/+nIKCAnx8fHjnnXeQSqUqmaQD1NTU4ObmRpMmTTAzM+Pjjz8mPDycQYMGqVwdHHhxpODhw4eRSqXExcVx4cIFrly5wtGjR5FKpQwfPhwVOJ37raAyVd8fPXrEw4cPuXv3LmlpaWRnZ1NeXk5JSQmzZ89mwIABig71b3Hv3j3mzp2LRCIhKSmJr776ioEDB5KVlcW0adMICgpi6NChSp+oZ2VlIRaLMTY2RkNDgytXrhAdHU337t1xd3d/bXZSFTx69Ijp06fj4+PDrFmzEIvF8k7vvn37CA0NVfo9oAkJCRw4cIBnz56hrq6Om5sbAwcOxNzcXGU6hLJ379SpUyxevBg7Ozu0tbUpLCykvr4efX19zMzMaNeunUoVdnn5/m3cuJFjx46xe/du+T7I+vp6YmJi+Oijj4iLi1NkqH+L+fPn07FjR3mCU1JSwoIFCzhz5oy8xkZpaSnJyckMHTqUadOmNfrZdNmz/MMPP3DkyBFWrVpFmzZtqKys5MGDB2zYsIHbt29z4sQJldiOVFVVRXJyMidOnODIkSPyPdrPnz9n5syZBAYGIhaLMTExUblVe/Di+pctW8adO3fo27cvY8aMkU98gGolNr+noKCAb7/9lrS0NOrr63n27BlVVVWMGjWKKVOmoKWlpegQ/7CbN29y584dbG1tqaysxM7ODjMzM54+fYqpqalK9qOqq6sJCQnh8uXL6Ojo0Lx5cyfq6zsAACAASURBVPnAmyq0Uf9ORkYGpqamr9Q+KS4u5uLFixgbG9O5c2cFRif4o5Q2Uf93nfi6ujpycnK4d+8eMTExBAUF0bJly/9xhP87ERERnD17lh49ejBw4EAOHTrE/v37MTIyYt26dUo9Qpqdnc3KlStJTEzEwsICKysr7O3t8fLywsbGptEXX/qrtm/fzv79++natSvdu3fHwMCAqKgooqOj6d+/PxMmTFB0iH+arLN/5swZNm7ciFQqxcnJiZqaGjIyMjAwMGDhwoXyIojKTna906dPx9TUlAULFgAvVgLFx8fLjynr0KED8+fPV/o9vS+3zbLEMyUlhZkzZ5KXl0fXrl3x9PQkJyeHqKgounbtysKFCxUc9Zvn4eHB/PnzGTJkCFOnTmXx4sUYGxtz7do1IiMjuXPnDkZGRgwfPhxPT0+aNGnS6AenZPdz8uTJeHh4MHny5FcGgR8/fsyUKVMYOXIkgwcPVnC0b96zZ8+Ij4/n6NGjnDp1Cj09PYyMjFi9ejUODg6KDu9vUVJSQlhYGLt378bJyYlPPvkER0dHRYf1P3ft2jX5cbAtWrRQyr3pb5N/N0BeV1eHrq4uFhYWuLi4qNQAObw4QnLLli38/PPP1NTU0Lp1a1xdXfHz83tlG6VAOShtoi7rMBQUFLBr1y75Xu2OHTvi7u5OmzZt5EfDqBrZtaemplJUVISnp6d82WxtbS0HDx4kMzOTadOmYWBgoOBo/5oVK1YQFRWFv78/VVVV3Lt3j2fPnqGmpoZEIsHf359JkyYpOsy/TXl5OWFhYYSEhPDgwQN0dHQwMTHh3XffZcSIEUq57FL2AQ0KCsLR0ZHg4GD5LFVGRgYLFizAysqKTZs2Neqk5c/asWMHZWVlTJs27bVZ07q6Op4/f06zZs0a/azqH3H06FF8fX1faYMrKyvZu3cvly5dIiMjAyMjI0aPHk3v3r2V8jn+dyorK1mwYAHJycl07NiR0NBQtmzZgoeHh0pc68KFCykrK2PlypWoqalRW1tLQ0MDGhoa9O3bl+nTp9O3b1+VeJZ/T0NDA/n5+URGRjJgwIBXtneoooyMDJYvX05aWhoTJ05k4MCB6OjoKP1qvd9TXV3N+fPnOXfuHMXFxSxduhRzc3P5N0lVr1tV/NkBclVqqyIiIli2bBmDBw+mtLSU8PBwHBwc5ANNVlZWhIeHKzpMwR+ktIm6bNZp6dKlXL58GU9PT54/f861a9coLS3F3NwcGxsbgoKCCAgIUHS4b5Rs1mXevHmcP38ea2tr2rZti7u7O3Z2dtjZ2b2yhEmZG6ARI0bw3nvvMWTIEODFfU9LS+P27dtER0fj7+/P0KFDFRzlmyP7uGRmZpKfn4+Li4t81UBpaSkPHjzAwMCAFi1aKDjSv+7dd99l2rRp8vN5ZeLi4pg3bx6rV69WqQJjV69e5fPPP2fRokWvXbMqycnJoUePHohEIoyMjPDz86Nfv3506tTptaWVytw2/SfJycns37+f2NhYCgsLcXBwwMTEhFatWuHg4ICdnR22trZKef72jRs3mDRpErNmzWLQoEHyJDUsLIwVK1YQGRmp8qud3iaVlZXU1taira3N2rVr+fHHHxk4cCCzZs1Syuf3j1i+fDlHjhyhf//+7Nu3j507d3Lz5k3U1NSYNGmSUq96epu8TQPkMhMmTMDOzo7g4GC2bt3K3bt3mTx5MsuXLyc3N5cZM2bQr18/RYcp+IOUtqWRjWSeO3eOzz///JWHLjMzk/PnzxMSEkJhYaGiQvzbyEZ0HRwcOHXqFNra2sTExBAREYG6ujru7u64urri6+tL+/btlbrx6dOnD2lpafL/FovFODk54eTkxIgRI1TuHEjZcx0SEsKuXbswNTWlXbt2dO7cGU9PT5ydnZX6fsoGmcrKyujevTthYWG4ublhZGQkf67Nzc3Jy8uTF4ts7MuB/x3ZwMvp06f5/vvvKSsrY8aMGWhoaODi4kKPHj3o3r27Sm3NMTY2Jjw8nLy8PBISEjh8+DBHjx4FwM7Oju7du9OrVy/c3NyU+ln+T5ydnfn666+ZNGkStra2uLm5ER8fz8WLF4mKiqJZs2bo6uoyYMAA+vTpo+hw/7CGhgY8PDyYOHEiGzduZMuWLRgaGqKpqcmzZ8/44IMP5NWyVfn+qirZfXv48CFr166VV/R//vw5Dx48wMzMDE1NTQ4dOsTp06cJDg6mZ8+eig77jZBd+7Vr1zh9+jQhISHU19dz4sQJ7O3tyczMZMWKFXTq1El+qoGgcXN2dubzzz+nXbt2rw2Qq6ury/epq1JblZ2dzZgxY4AXe9JlNVFmzZrFmjVraNOmjYIjFPwZSpuoi0QiysvLad269WvnAdra2mJra6uSZ6fLPiRXr14lJCSEdevWyY+wKikpYdeuXWzatInr16+zYcMGhg4dyvz585XyjOLKykokEgkhISEYGBjQt29frK2tX/kbZU3g/pM5c+YwePBgrl+/zvnz51mzZg3l5eW4ublhZWXFjBkzlHJWXXa/jhw5wubNmwH44osvGDx4MNbW1jx48ICLFy/SuXNn+RJhVbjHu3btwtHRkYULF1JfX09SUhK3bt1i9+7dfPvtt4wdO5Z58+YpOsw3QnZMl7OzM1lZWbRr1w5jY2Pc3NzIyMjg/Pnz7NixA4BJkybxySefKDjiv4esrV60aBEGBgbyolOPHj0iPj6epKQkrl+/rjTHssmIRCLEYjFTp04lICCAmJgYsrOzqa+vp1u3bvICRcpwLYLXye7b9evXefDgAR4eHkilUjp16kTr1q2pq6vD0NCQ5s2bs3//fnbs2IGtrS12dnYKjvyvkw38R0ZG4uTkRMuWLdm1axctW7bEyMiIQYMGce3aNc6ePSsk6o3Y2zhALiOVSnFxceHUqVN4enoiFoupqakBkJ9YoepF9FSNUibqspcwNzeXZs2asWbNGhYuXIiZmZlSVeD8b8g+JNHR0djZ2dGlSxf5/kB9fX1Gjx5NVlYWQ4YM4fnz56xYsYJ79+7Rrl07BUf+561bt46IiAiaN2/OgQMHWL16NQYGBnh7e9OlSxd69+6NlpaWSiRyv6auro69vT329vaMHj2a58+fc+7cOebPn09xcbHSLzccPXo077//Pvfu3ePo0aPMmTOHmpoaamtrMTU1ZerUqWRkZKCtrY2xsbHS7gWUxV1bW0tQUJC8kIunpydDhgyhqKiI1NRUeSEqVdn3KEs6t2/fztKlS+VnTFdXVzNy5Ejmz5+PWCxWuW1JL5MlPFZWVjQ0NMj/TaytrbG2tmbAgAHU1ta+9vfKRHa8oDKvehH8tm7dutGvX79/u4VhyJAhHDlyhPDwcObMmfM/jO7vIWt7DQ0Nyc/PB+DChQv4+fkBIJFIqK6uFp51JfE2DZDLaGpqEhAQwN69e8nPz8fQ0JAjR44wbNgwzp49C4CJiYmCoxT8GUqZqMsa01u3bnH27FmkUilTpkzB19eXDh06YGdnh7GxMQYGBirR6X2Z7HqMjY25fPkyBQUFmJmZAS86x4aGhpSVlXHt2jVmzZpFSEgI58+fV8pE/eTJk8ycORM/Pz8qKirIzMwkKSmJ+Ph4goODqaiokJ+zrep0dXXp3bs3Dx48wMvLS37PlZmmpiaurq64urryxRdfUFJSQmJiIqGhoSxatAg9PT2MjY1ZtWqVUlZU/vUy/wMHDmBlZYWhoSFisRgDAwMMDAxo3bq1/P9RlfZKTU2NnJwcamtrsbS0lP+8SZMmtGjRgpkzZ/Kvf/0LW1tbBUb5vyMSieSd+4aGBvmAq6rscxUSF9VSXl7OsGHDiIqKoqGhgdraWjQ0NOQDieXl5WhrayORSOTbslRJz549CQkJYf/+/SQnJzN58mRqamq4ceMGSUlJKl3AVhW8rQPkMr169cLZ2RkTExM6dOjA4cOHmTBhApWVlQwbNkzR4Qn+JKXuJQwbNoxhw4ZRWlpKTEwM4eHhzJ49W+k7+H/EkCFDOHjwIJ9//jnjxo3Dy8sLiURCWFgYcXFxTJ48GYC8vDz+8Y9/KDjaP6+srAw7Ozvc3NywsLAAkK8gKC0tJTc395UERxXIPhYHDhygWbNmuLi4YGxsTNOmTRGJREgkEioqKggLC8PX11fR4b5x+vr6+Pn54efn90pFZdn9VzYvL/Nfv349AM+fP6dr1644ODhgaWmJnp6eyq4C0tfXx9XVlfXr17Nq1apXCsllZWWRk5PzVhQcq6urA/6/8/hy0i4QNCayVR+lpaVIJBK+++475syZI986V1ZWxvHjx0lNTWXp0qXo6+vzySefYGRkpODI36zWrVszY8YMlixZQmVlJZs2bUIikXD9+nXef/99PDw8FB2i4He8zQPkMtnZ2YjFYtTV1XFzc2P+/PlER0fTvXt33N3dFR2e4E9S2qrvv+dtODJF1hAlJCSwYsUK0tPTqampQSwWo6GhwZAhQ5gxYwYRERF8++23/PLLL0p3JFBqaiqbN2+mpKSEBQsWYGpqira2tqLD+p8YN24cV69eRUtLC0dHR3x8fOjYsSMpKSls3bqV+fPnExgYqOgwBX+CVCrl3r17HDt2jPDwcGpqauSVv8ePH6+y5xL/8ssvfP3111hYWNChQwfMzc15+PAhN27c4J133mHWrFmKDvF/SrYEXiQSKeVSd4Hq+vWs4rFjx9i6dStTpkwB4MSJE9y8eRORSIS/vz/Lli1TVKh/u9TUVExMTKitreXixYtcvHgRbW1tAgIC8PHxUfqtZ2+DvXv38vXXXwPwzjvvvBUD5NnZ2axcuZLExEQsLCywsrLC3t4eLy8vbGxs3oqBcVWkcon62+LlPYExMTFkZWVRV1eHjY0NHh4erF27lpCQEKZPn05QUJCCo/3zQkND+eabb6iqqsLOzo5OnTrh4eGBnZ0dRkZG8tFRVSG7n0+ePCEvLw8zMzNiY2OJjo7mxo0b5ObmIpFIGDp0KJ9++ulrx1wJlEtJSQk3b95k586dzJw5kw4dOqjsPt/Y2FgOHTpEZmYmlZWV1NTU8OGHHzJgwAAkEomiw3vjZPcxPT2d8ePHExgYiIeHBx4eHhgaGr7yt7KkXRXvu0C5LFy4kBYtWuDk5ISNjQ0tWrTgiy++IDw8HCMjI5ydnfH398fd3V0+G6ksBRD/jMOHD7N161YcHBxYuHAhJiYmXL9+HRsbG5XYcvY2edsGyFesWEFUVBT+/v5UVVVx7949nj17hpqaGhKJBH9/f2HbhhISEnUldPv2bQ4ePEhubi6+vr4EBAS8soynpqaGgoICHj9+rPTLXF7e1hAZGamy2xpksxlfffUVGRkZbN68WT5qX19fz5MnT3j27Bk2NjbCaL5AKZSVlZGcnIyFhQUtWrSgrKyM8vJyle/sypKX1NRUZs2aRXp6urwgooWFBX5+fvj6+tKuXTvhXRY0Crm5uUyZMkWedBsaGmJjY0NNTQ1hYWH88MMP+Pj4KDjKv49scC0vL0++pXL48OHyJf1jx44lNzeXQ4cOqdwy/7eJqg+Qjxgxgvfee48hQ4YAL/bop6Wlcfv2baKjo/H392fo0KEKjlLwZwmJupKQNSYFBQUMHToUfX19bG1tSUlJISsrC4lEgouLC35+fkyYMEHlRrnh7djWsH79eiQSCRMnTlR0KALBnyYbcIqMjGTr1q3k5+ejq6uLiYkJbdu2xc3NjVatWtGqVStFh/q3kSXq8+bNo6ysDD8/PywtLXny5AlRUVH88ssvaGtrY2lpyZAhQxg5cqSQsAsURta3kHXqY2NjuXPnDpmZmUilUtLT0zEzM6N///5YWlrSvn177O3tFR32GyVrt/bv38+JEyc4ePAg8P//No8fP2bKlCn069eP8ePHKzhageC37d69m7y8PObOnfubv1elQYm3ieqsHVZx9fX1qKurc/LkSYyNjdm9ezcikYiioiKys7NJSUnh6tWrnDx5kg8//FAlX0iRSISFhYVSLuX/I2pra7l58yZ37tzByMiILl26qOTJBQLVJWtz1q5di62tLQMGDKC8vFyeAFy+fJmnT5/yySefMGDAAAVH+/dQU1OjurqakydPEhoa+sryStkxdXV1ddja2rJt2zZMTU3p16+fosIVvOVEIhENDQ2IxWKcnJxwcnICXqzMS0pKIjY2lqSkJC5dukR+fj5BQUHY29urVB9DNrHx/Plz1NXVefr0KQYGBvJCkCYmJri5uZGWlqbIMAWC31VZWYlEIiEkJAQDAwP69u2LtbX1K3+jKu/r20ZI1JWE7EOipqaGj4+PvDicjo4OLVu2xNvbm8GDB1NdXa3IMAV/wePHj6moqEBbW5t58+bJ76uPjw9OTk6Ympqq5J5egepQU1OjqqqKvLw8tm7dKl/mXlNTw6NHj7h37x63bt3C1dVVwZH+vdLT0zE3N3+tloS+vj7Dhw9n7dq1rF27ltraWn755Rd69uwpzKoLFOblDvydO3fYsmULjo6OfPzxx7i7u1NRUUFDQwMXLlzAzs4OUK3ZOdl1BAYGsn//fsLCwpg4caK8Dk5mZiZXr15lwoQJigxTIPhd69atIyIigubNm3PgwAFWr16NgYEB3t7edOnShd69e6OlpaUy7+zbREjUlYTs5aqoqODixYsMHjxY/sGEF8dLGBgYvPb3AuVhYWFBaGgoUqmUuLg4oqOjuXz5MkePHkUqlTJ8+HAWL16s6DAFgt/08jJRX19fMjIy5Im6hoYGdnZ22NnZvRWzx5aWlpiYmLBo0SK+/PJLTExM5FWGb926RUVFBWKxGGdnZ86fPy8k6QKFerkA4ty5czEyMsLLywuAqqoq+vTpQ1BQkPzYV0Alt9dZWVkRFBTEpk2b2LNnD23atKFFixbExsZibm5O7969FR2iQPCbTp48ycyZM/Hz86OiooLMzEySkpKIj48nODiYiooKRo0apegwBf8FYY+6EikoKOCDDz6goKAATU1N/Pz86NOnD507d6Zp06aKDk/wBmRkZGBqavrKMRrFxcVcvHgRY2NjOnfurMDoBILfJ9vn+dNPP7F69WqaNWvGJ598gqOj4yuDiG+L2NhYvvnmGzQ0NPDy8qJZs2ZER0fz5MkTJkyYwODBg5k3bx7V1dWsXLlS0eEK3mKyd3flypWkpaWxYcOGV7Zc7d27l3379rF69WqcnZ0VGOn/RkpKCmfPniUtLY2ioiLc3Nz46KOPlO6YW8HboaysjGnTpjFv3rxX6kdIpVJKS0vJzc2ldevWb80Rx6pGSNSVSFlZGampqTx58oSYmBhu3bpFeno6tbW1mJubExQUxLhx4xQdpuC/UFlZyZYtW/j555+pqamhdevWuLq64ufnR/v27RUdnkDwh23atImYmBgePnwIvNjf2bJlS1xdXXFycqJ9+/YqORv3W+7cuUNISAjXr19HLBZjZ2fHwIEDcXNzY9myZdy9e5clS5bQsWNHRYcqeIvJZtQ//vhjrK2tmTt3LvX19dTX1yMWi5FKpXz00Ue88847jBkzRiWPZausrCQqKorq6mp8fX0xNTVVdEgCwR+SmprK5s2bKSkpYcGCBZiamgpJuQoREnUl8Vv7wcrLy8nJySExMZHz58/j5ubGxIkTqa2tVakzxlWZbCYjIiKCZcuWMXjwYEpLSwkPD8fe3p6MjAw0NTWxsrIiPDxc0eEKBK8pKCjgwYMHdOrUSf6ziooKHj58SGJiIsnJyTx69Ihnz57x7NkzDh48qJJHtL1cPbuwsJCCggJ0dXXlR2eWl5fLO0/Xrl3j8OHDvPfee6/8uwkEihQSEsKePXvYu3cvhoaG8p9LpVL69u3LokWL6Natm8ol6g0NDcyYMYNbt26hpaXF48ePsbW1xcPDg65du2JkZISjo6NQ2FXQKIWGhvLNN99QVVWFnZ0dnTp1wsPDAzs7O4yMjDA0NBRyAiUmJOpK5P79++zevZvLly+jra1Nly5dGDx4MK1bt6asrAwNDY3XihcJGjdZoj5x4kRatWpFcHAwW7duJTk5mY8++ojly5eTm5vLjBkz3oq9vQLls379euLj49m+fTsxMTEkJSXh5eVFy5Yt5Vs4ioqKSE1NJTMzk5EjRyo44r+H7F0+dOgQW7duJTc3FwsLC1q1aoWjoyPt2rXDzMwMe3t7dHR05Im7KhXlEii3rKwsxo0bR01NDb169cLd3R1LS0v27t1LUlISP/30k0olq7IBh0uXLvHZZ5+xZMkSqqqqWLx4Me+++y6nT5/myZMnqKmpkZiYqFLXLlA9paWlxMTEEB4eTmRkJHp6ehgbG7Nq1SocHBwUHZ7gvyQk6o2c7ENy9+5dvvzyS548ecLAgQMpKSnh0qVLFBcXM2/ePN59911Fhyr4C3r37k1wcDDdunVj2bJl6Onp8fHHH5OQkMCaNWuYN28ebdq0UXSYAsFvkiWpYWFhfPXVVwBYW1vToUMHOnbsiLOzM1ZWVm9F0TQfHx+GDBlC7969SUlJ4eLFi6SkpFBdXU1NTQ1r1qyRL3UXknRBY1NcXMzGjRtJSkqiqKiIgoIC3NzcmDNnDq6urir1zMrarQULFlBRUcGqVas4ffq0fIXb8ePH+fHHH1m4cCHu7u6KDlcg+MMaGhrIz88nMjKSAQMGoKenp+iQBP8lYS1EIydL1Pfv34+BgQGbN29GT0+P6upqxo8fz8qVK9m8eTM+Pj4quZz0bSCVSnFxceHUqVN4enoiFoupra0FoGXLlty/f59mzZopOEqB4PfJZpqGDh3K0KFDKSkpISYmhiNHjjB79mx0dXUxMDBg7dq1r5wrrmqysrJo0qQJkydPRldXFxcXF4YOHQpAYmIiUVFR8gE3VUp4BMpL9hweOHAAc3NzPD09WbBgAYWFhRQWFmJubo6Wlpb81AJVemZl7VZRUZG8yn1ubi5mZmY0NDQwaNAgzp49S15enpCoC5SKSCTCwsKCoKAgRYci+IuERL2Rk31IkpKSGDVqlHxUrEmTJlhYWPDpp58yY8YMkpKS5B8XVfqQvg00NTUJCAhg79695OfnY2RkRHh4OMOGDePs2bPAi4JcAoGy0NfXp2fPnvTs2fOVkX1LS0tFh/a3kLW7VVVVtG/fnszMzNfOindxccHFxUX+30I7LWgMRCIRlZWVhIaGUl9fj0QiwdbWlg4dOtC+fXv09PRUfiVM586d2bx5M97e3ujo6FBaWirva6WlpdGyZUsFRygQCN5W6ouFg5kbNZFIRF1dHSkpKTx8+JBu3bq9sk9KXV2dtWvXMnLkSHmVUqEDqHzs7Ozw8vLC3NwcTU1Nzp49S0REBDExMQwdOlQ+2i8QKBuRSISuri6urq4qW0NDtvIpLCyMY8eOcfv2bfT09FBTU0NTU1PlEx2BchOJRLRp0wZra2vU1NTIzc3l8uXLhIeHc+bMGZKTk+nWrZuiw/zbWFlZUVlZia2tLXp6eqxcuRJra2uOHj1KcnIy8+bNU3SIAoHgLSUk6kpATU0NNTU1tm/fTkNDA4aGhohEIvLy8vjxxx9JTU3ls88+A4QkXVllZ2cjFovR0dHB0tISW1tbGhoamDBhAoGBgULFToGgEZNVwI6OjqahoYGsrCwuXbrEzZs3SUlJIT8/n6dPn2Jubi68y4JGR01NDSsrK9q2bUu3bt3w9vbG2dmZ9PR0CgsLCQwMxMnJifr6epXsY2hpaeHm5oaxsTGmpqZkZWWxb98+SktLGTNmzGurYwQCgeB/RSgmpyQqKirYsWMH27ZtQ11dnRYtWiCVSgHkFcFV7cgUVSa7V9nZ2axcuZLExEQsLCywsrLC3t4eLy8vbGxs5FWzBQKB8igtLeXGjRtcunSJ+Ph4Hj9+jIaGBqdPnxZm1wVK4+7du2zevJkpU6bg6Oj41mytq6io4Pbt21hYWGBra6vocAQCwVtMSNSVTGlpKbdu3SIuLg5TU1P8/f2xsLBQdFiCP0l21v13331HZGQk/v7+VFVVkZqaytOnT1FTU0MikeDv78+kSZMUHa5AIPgPqqurSUlJQVNTk1atWqGhoSH/XXZ2Nunp6Sp5BrVAOckqnj958oS1a9fSqVMnXF1dsba2lv9NWVkZAQEBHD16VChWKxAIBAogrMFr5Kqrqzl37hwXLlxAX18fDw8P2rZtS/fu3RUdmuAvkNUZuHnzJhMmTGDIkCHAiwQ+NTWV+Ph4oqOjMTAwUGSYAoHgP5Al3nv37mX37t0UFhZiYmJC27Zt8fLyonv37mhoaODj4wMgJOmCRkH2DUpLSyMmJoakpCREIhFmZmY4OzvTvHlzEhISkEgkb0Wh2l9fn6pfr0AgUA7CjHojJRvtPnr0KGvXrqVJkybU1taSk5ODtrY2zs7OeHh44OvrS6dOnRQdruC/tHv3bvLy8pg7d+5v/l7oLAgEjV9lZSWdO3dm9OjR9OrVi/fee49OnTpx9+5dSkpKEIlEHDt2DHt7e0WHKhDw4MED9PT00NHRQUNDgwcPHpCenk5SUhLp6enk5eWRn5+PgYEBkydPpn///vI+ydugoaGBhoYGYVBNIBAonDCj3siFhITQs2dPgoODEYlEFBUVER0dTWRkJFu2bKGoqIhOnToJyymViCz5rqysRCKREBISgoGBAX369HntGBghSRcIGi9Zu3vhwgWMjIyYNWsWDx48oG3btixfvpw7d+4QHBzMxx9/LCTpgkahvLycQYMG4ebmhqenJ+3bt6dNmzby4xSrqqp4+PAhlZWV2NnZoaurC6CSSXpubi5JSUnU1NRgZWVF8+bNMTY2RiQSCd9egUDQKAiJeiMl+yg2NDTQo0cP+UfDyMiIQYMGMWjQIOBF0ROBcqmrq0MsFrN+/XqOHTuGlZUVBw4cYPXq1RgaGtKpUye6dOlC79690dLSEjoMAkEjl5ycjKOjI/BitrJly5ZUVFTg7+9P7969hUFUQaPRpEkTPvvsM65evcqePXv4/vvvMTY269AY5gAAF5dJREFUxtXVFS8vL9zc3GjVqhXa2toqmZzLBsofPnzI7NmzSUpKwsjICFNTU5o3b469vT02NjbU19czYMAA4fsrEAgUSkjUGyHZh6SsrIyuXbsSGhpK69atMTQ0fK3Dp6WlBQj7HpWJrPNz4sQJZs6ciZ+fHxUVFWRmZpKUlER8fDzBwcFUVFQwatQoBUcrEAh+j6zd9fT05KeffiIlJQWxWExZWRkSiQSAR48e0bx5c4C3avmwoHHS0NBgxIgRjBgxAoDMzEwiIyM5d+4cK1eupLa2FltbW5ycnAgMDMTf31/BEb9ZsoHysLAw6uvruXTpEgcPHuTQoUMYGBjw/fffY2RkhK+vLwMHDlR0uAKB4C0nJOqNkGwE98iRI6xbtw54sVytW7duODk5YWlpib6+Pk2bNlVkmIL/kmwQxs7ODjc3N3nVfjs7O7p06UJpaSm5ubm0bt1awZEKBII/okuXLri4uHD9+nX69evHzZs3iYmJQV9fX778HYQBVUHjY2try4QJE5gwYQIAt27dIjIykh9//JHmzZvj7++vUgNMsnfwwoULjBo1CiMjI6qrqxk5ciQff/wx69evJyoqiuHDhys4UoFAIBAS9UZt9OjRvP/++9y7d49jx46xYsUKampqcHBwwM7OjvHjx8uXWwqUg6zDk5ubi4GBAf/617+YP38+pqamaGtro6mpiYmJCSYmJooOVSAQ/Buy/ekJCQmUlZWxevVqKioq0NTUZNCgQaxevZry8nL8/f1p06YNINScEDR+Hh4eeHh4MHv2bGS1hlVpgElNTY3a2lrU1NQwNDQEXmwh1NLSoqqqigEDBnDjxg2MjY0VHKlAIBAIiXqjp6mpiaurK66urixcuJCSkhJu3rzJzp07KS8vB4TK4MpENisRFxfHuXPnkEqlTJ06lU6dOuHh4YGdnR1GRkYYGhoiFguvp0DQWMna3PPnzxMaGsrMmTMZMGAA6urqTJw4EWdnZ6ytrXFzcwOEdlqgfGTPq6o9t2pqanh7e3PgwAHc3d3R0tIiNzeXpk2b0tDQQFJS0muFXQUCgUARhOPZBAIFKi0tJSYmhvDwcCIjI9HT08PY2JhVq1bh4OCg6PAEAsF/8PTpU/bs2cOpU6fo3Lkzn376qXx/ukAgaJxiY2M5fPgwU6ZM4eLFixw6dIj58+dz4MABCgsLOXTokKJDFAgEAiFRFwgai4aGBvLz84mMjGTAgAHo6ekpOiSBQPAH/fTTT6xfv57y8nL++c9/0r9/f7S1tYWjMwWCRu7Ro0fMmTOH+Ph4OnXqxNSpU+nYsaOiwxIIBAIhURcIBAKB4E2QSqWEhYURHx+Ph4eHvLK2QCBoPDIyMkhNTcXQ0JCWLVtiZmZGeXk5ZWVlaGpq0qxZM0WHKBAIBICQqAsEAoFA8KfIZslzcnLIzMwkJycHdXV1nj17RlxcHJf/r717j6qyyv84/j5yQK4iYBqoIXJJEBVFRLwuBW2mcqxVCl4nf2lalo2OLtF+02+ivOSY0TBqSlriGjMvzbIYR0krzbt4QeVqWgqSZImCyO1cfn84MJI3aqiD9nn9o+7nefb5Pofl4vk++7v33r2biooKwsPDmTlzJp07d7Z1yCK/ajULuR44cIAFCxZw4sQJ7OzscHV1JTQ0lL59+xIWFoa/vz9ubm62DldEBFCiLiIi8pOEhobSokULnJycuHTpEr6+vgQGBmIwGPDw8KCoqIicnBxmz55Njx49bB2uyK+WyWTCaDQyadIkrFYrL7zwAh4eHuzZs4cdO3Zw9OhRvvvuO2JjY3nllVdsHa6ICKBEXURE5EczmUxkZmbStGlTmjVrho+PD+Xl5VitVpydnQG4cuUKM2fOpKqqiqSkJBwdHW0ctcivW0xMDPPnz6d79+512quqqsjJycHJyal2O0UREVvTCjciIiI/ktFopFOnTgQFBeHu7k51dTVOTk61STqAq6srXbt25dSpU0rSRWzMZDIxduxYDh48iMlkqnPMwcGBzp07K0kXkUZFGzWLiIjUU81+6OvWrePdd9+loqKCkJAQIiIiCA4Opk2bNjRv3hwXFxfMZjORkZG0b9/e1mGL/CpZrVZMJhP29vasW7eOuXPnYmdnh5ubG5GRkfj4+ODs7HzP7RUvIvcGlb6LiIj8CFeuXKF///4MHjyYBx54gD179pCRkYHJZMLPzw9/f38SEhK0erRII3Ly5ElSU1M5duwYhw4dwmq1EhgYSK9evQgLCyMiIgJ3d3dbhykiUkuJuoiISD3UjKZv376dxMRENm3aVGeP9IyMDLZs2cKBAwfYuHEjgPZRF7GR0tJSEhMTmTVrFkZj3QLSkpISDh48yI4dO0hPT+f06dOsWLGC3r172yhaEZEbqfRdRESkHmrKY318fAgMDOTChQu0atWq9niXLl3o0qVLnWuUpIvYRl5eHhcvXsRoNJKdnc3MmTOJiYkhKiqKsLAwoqOjiY6OBqCwsLDO/2URkcZAI+oiIiI/wvnz55k0aRJubm6MGDGCTp060bZtW1uHJSLXqaiooLS0lPvuu4/09HSWLl1KcXEx33//PU2bNiUgIIDIyEh69OhBcHBwbcWMiEhjoURdRETkDmoe4ouKioiNjaWsrIyWLVvSpEkTHBwcaNWqFSEhIYSEhDBgwAA98Is0IgUFBbRs2ZJz585x4sQJvvzyS3JzcyksLOTUqVPMnj2bUaNG2TpMEZE6VPouIiJyBxaLBTs7OzZv3oyHhwfr16+npKSErKws8vLyOHPmDNu3byc9PZ2BAwfaOlwR+bfKykpiYmIYO3Yszz77LEOGDMFkMnHhwgXOnTtHdnY2AwYMsHWYIiI30Ii6iIhIPa1fv578/HymTZtWp/3KlSvk5uZiMpmIjIzUInIijYTVaiU1NZXVq1fTokULpk6dqv3SReSuoKcIERGReioqKmLr1q3s3bu3Trurqyvh4eFERkYCWkROpLEwGAw8/PDDTJ8+ncuXLzNhwgRSUlIwmUy2Dk1E5LY0oi4iIlIPRUVFDBs2jKtXr2KxWAgPD2fgwIFERUXRrl07W4cnIvXw3nvvsWbNGsLDw3n66afx9/fXmhJyz6iuriY/P5/y8gpbhyI/gpOTI23btsXe3r5OuxJ1ERGRejCZTFy6dInz58+Tnp7O7t27OX78OKWlpbi5uREbG8vUqVNtHaaI/JvJZKKiogIHBweys7OxWq24ubmRmprK0qVL8fX1Zd26dbi7u9s6VJEGcfr0aYzGpri6uusF1F3CarVSWnoZs7mS9u3b1zmmxeRERETqwWg04ujoSGhoKKGhoTz11FNcunSJ7Oxstm/fTosWLYBryYHRqF+vIrZSs0bErl27mDlzJgDe3t6UlpZSVFREVFQUAwYMoLKyUkm63FPKyyvw9m6pJP0uYjAYcHNz55tvzt5wTE8SIiIi9fDRRx+xefNmqqurCQ4OJjQ0lLCwMKKiooiKiqo9T0m6iG3VrBHh5ubG5MmT8fPzo7y8HH9/f1q1akVxcTEtW7akadOmNo5UpOEpSb/73OpnptJ3ERGRW6gZmTt48CAvvvgiQUFBODs788UXX+Dn50d1dTXe3t44ODjw9ttv2zpcERH5FcvMzMLHx9fWYchPUFh4ho4dQ+q06bW/iIjILdQk6h9++CHh4eEkJSWxZs0aSkpKGDNmDIsXLyYzM5MxY8YAYDabsbOzs3HUIiIi1zg5N8WxacOnfBWVJsqvVt7xvLKyKyxZksSRI4exs7PDza0ZU6ZMpUOH4AaLJTl5KRERkYSFdWuwPhsDJeoiIiK3UJN0Hz9+nEmTJgHXVn/v0aMHDz30EM2aNWP58uVER0cD2pZNREQaF8emRob8cVOD9/vxG0PvmKhbLBamTp1CeHh3UlLex2g0cujQQaZOfYG1azfg7t68QWI5fPgw3bpFNEhfjYmeKERERG7BYDBQVVWFr68vubm5mM1mrFYrVquV6upqOnfuzDfffIODg4OtQxUREWlUDh06yHffXWDChEm167eEh0fwpz/9GbPZwnvvrSAu7glGjRrOW28twmw2U1hYyGOPPVLbR3Ly2yQnX5ta9sgjg1m48HXGjh3BuHGjKSw8x+bNqeTkZDFvXgJffnnSJvf5c1GiLiIichsODg4MGjSInTt3cvr0aTw9Pdm3bx9Wq5WMjAy+/fZb/P39AS3iIyIiUiMvL5fg4JAbqs169epDTk4WX3yxg/fe+zurVq2hoCCff/xjw237+/7774iI6EFKyvuEhXVj/foPePjhR+nQIYRZs14mICDw57ydX5xK30VERO5g0KBBeHp64uXlRXBwMO+++y5TpkzhzJkzDB48GND8dBERkesZDLceE05PP8jgwb/B0dERgCFDhvLPf35Mr159b9tnz569APD39+fIkcMNF2wjpBF1ERGROzCZTPTr1w9PT0+6d+/OlClTKC0tJTY2lhkzZgAaTRcREblecHAwubnZ/HCTsaVLk0hPP1CnzWq1Yjabufar9D/nm0ymOuf9Z1tFA/f63mVK1EVERG6hvLyclStX8vzzz5Ofnw/A7t27uf/++0lJSeGpp57Cy8sL0EJyIiIi1wsL64aHhyfvvLMMs9kMwL59e0hN/ZjY2JGkpW2hoqICk8lEaupHhId3x83NjZKSUoqLi6mqqmLfvj13/Bw7O7va/u8lKn0XERH5gZoy9tTUVD788EMGDhyIk5MTK1euZPHixTg5OdG3b1/mzZtn61BFREQaJYPBwF/+8iaJiW8wcuQwjEYjzZs3Z9Giv/Lggx0oKipi3LjRmM1mIiOjGDYsDqPRyOjRYxk3bjStWrUiJCT0jp8TFdWLBQvm8PLLr9K5c5df4M5+GQbrD2sRREREfuVqEvW4uDj69OnD888/T1paGklJSfTr14/AwEBWrFhBfHw8vXv3tnW4IiIiZGZm4ePjW6fN1vuoS/0UFp6hY8eQOm0aURcREfmBmkXhiouLiYyMBGD58uUEBQUxfvx4PDw8SE5OprLy2kOKxWJR6buIiDQ65VcrlVDfpZSoi4iI3ERVVRX9+/fn1VdfJSIigpycHF555RU8PDw4deoU586dIyIiAtD8dBEREWlYStRFRERuwsHBgZEjR1JQUMCxY8eYNWsWISEhJCcns2vXLqKionBzc9NouoiIiDQ4JeoiIiK30K5dOxITEzEYDNjb25OTk0NGRgZt2rRh8uTJtg5PRERE7lFaTE5ERKSezGYzJpPpun1cRUREGoebLSYndwctJiciIvJfsLOzq11oTkREROTnokl1IiIiIiIiIo2IEnURERERERFpMIWFhfTs2Y3581+r056Xl0vPnt1ITf2o3n0dOpTOs89OAGDOnASys7P+6/gee+wR4uKeYMyYOMaMieOxxx5h1qwZlJeX3/a65OSlHD16uEFjuRWVvouIiIiIiEiDcndvzr59ezCbzbXTxrZtS8PDw+Mn9/nSSy83VHgsWpSEj48PANXV1Uyc+D9s3pzKE08Mu+U1hw8fplu3iAaP5WaUqIuIiNxBQUEBgwYNIigoCACLxYKjoyPx8fGEh4c3+OddvHiRqKgocnNzG7xvERH5dbi0exeXdu78Wfpu3q8fzXv3ue05Tk5OBAU9yNGjhwkPv5bc7t+/l4iIyNpz9u7dTXLy25hMJry9fZg9+0+4uzdn//69JCa+gYODA76+frXnP/vsBMaPn0iXLmEsWDCP06e/5OLFizzwgC/z5y/k4sWLxMf/kfbt/cnLy8XT05M5cxbg7u5+21hLS0u5cuUKzZo1A2D9+rX861+bqagox2Aw8Npr88nOziInJ4t58xKYP/8N3nhjAePHTwRg1aqVODo68vXXX+HvH0BCwlzs7e354IP3Wb9+LW5ubvj6tqN16zZMmDCpXt+xSt9FRETqwdHRkU2bNrFp0yY+/vhjxo0bx6xZs2wdloiISKMVHT2ITz/dBkBWViYBAYEYjfYAFBcXs2RJEomJi0lJeZ+ePaP429/+SlVVFQkJ/8fcuQtYtWrNTXdaOX48A3t7I++8s4oNGzZRWVnJnj27ATh5Mo8RI0azZs16XF3d2Lr1XzeNbdq0Fxg1aji//W0M06a9wJNPxhITM5iysivs2PE5S5YsZ82a9fTvP4CNG9fz8MOP0qFDCLNmvUxAQOAN8UyfPpO1azdSVHSeffv2cPJkHhs3rmPVqr/z9tsryM8/+6O+O42oi4iI/ASXLl3ivvvuY//+/cyZMwdnZ2euXr3Khg0bWLBgARkZGZSVlWG1WnnttdcIDw8nPj4eV1dXcnNzOX/+PO3bt2fRokW4uLiQlpbGm2++iZOTE6Ghoba+PRERucs1793njqPeP7c+ffqxbNkSLBYL27alERMzmE8+SQMgM/M4RUXnmTz5GeBatVqzZs04depLWrRogZ9fewAeeeRRli1bWqffrl3DcXdvzoYNH/D1119TUHCW8vKrAHh4ePLggx0A8Pf3p6Tk8k1jqyl9//TT7bz11hv07dsPg8GAi4srCQlz2bZtK2fPnmXfvj0EBgbd9j7bt/enZctWALRr50dJSQn5+fn07t0XFxdXAAYP/g0lJSX1/u6UqIuIiNRDRUUFQ4cOBaCkpIQLFy6wePFiAE6ePMm2bdto3bo1R44c4dtvv+WDDz6gSZMmLF++nOTk5NoS+RMnTpCSkoLBYGD48OFs2bKF/v37M3v2bNauXUtAQADLli2z2X2KiIg0FBcXFwIDg8jIOEJ6+kGee+6F2kTdYrHQuXMYCxcmAlBZWcnVq1cpKvoGq9Va28fNtkXduXMHyclLiY0dwaOP/o7Lly/VXuPg4HDdmYY6fd3MwIHRHDiwl/nzX+Ott5ZQVHSe5557hiefHE5UVC+8vLzuOBXNweH6Uf9rn2ln1wSr1XLb625Hpe8iIiL1cH3p+2effUZKSgrTpk2joKAAb29vWrduDUDXrl35wx/+wNq1a3n99dfZsmULZWVltf307dsXBwcH7O3tCQoK4vLlyxw6dIigoCACAgIAiI2Ntck9ioiINLTo6EEsWZJEcHAwRuN/xok7dgzlxIljnD17BoCVK5NJSkokICCQ4uKLnDyZB0Ba2tYb+jx4cD/R0YN49NGheHm14OjRw1gsPz0pfuaZ5zh+/Di7du0kKyuTNm3aMGLEaDp27MTevbuxWMzAtZcGZrO5Xn12796DPXt2U1Z2herqaj77bDsGg6HeMSlRFxER+Qm6deuGn58fTk5OODs717Z//vnnTJx4bXGZ6OhoRowYUec6R0fH2r8bDNfeutf8WeP6BxkREZG7WZ8+/cjLyyMmZnCddi+vFrz00v/x0kszGTVqOLm5Obz44lSMRnsSEuby5z//L2PHjqSiouKGPocOfZxPPtnK2LEjiI//Ix07dqKw8NxPjtHT05MxY35PUlIikZFRWCxW4uKeYPz43+Pt7UNhYSEAUVG9WLBgDseOZdyxT3//AIYPj2P8+KeYOPFpnJ1dbjrf/lYM1jvVAoiIiPzKFRQUMGTIEI4cOVLb9tVXXzFs2DBmzJjB6tWrSU1NBWDOnDkYDAZmz55NZWUlU6ZMobS0lDVr1hAfH09gYCBPP/00QO2/H3/8cR566CFWr15Nhw4dSElJYc6cOVr1XURE6i0zMwsfH19bhyH/dvbsGXbv/oIRI0YDMGPGVH73u8fo27f/DecWFp6hY8eQOm16ZS8iIlIP189Rh2tz6xISEvDy8qpzXlxcHNOnT2fIkCHY2dnRvXt30tLSbluS5+npycKFC5k+fTr29vZERET8bPchIiIiP7/77/cmOzuLkSOHYTAYiIyMok+ffvW+XiPqIiIiIiIidzmNqN+9bjairjnqIiIiIiIi9wCNwd59bvUzU6IuIiIiIiJyl7u2IrnJ1mHIj2Q2mzAab9yCTom6iIiIiIjIXc7T04OSkuL/au9u+WVZrRYuXy7Gw8PjhmOaoy4iIiIiInKXs1gs5OfnU1ZWhjK8u4PBAC4uLrRt25YmTeqOoStRFxEREREREWlEVPouIiIiIiIi0ogoURcRERERERFpRJSoi4iIiIiIiDQi/w/d5xEoQau0BgAAAABJRU5ErkJggg==\n",
=======
<<<<<<< HEAD
      "image/png": "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\n",
=======
      "image/png": "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\n",
>>>>>>> 82635201ea5190fbf422f917eb6497df76154039
>>>>>>> master
      "text/plain": [
       "<Figure size 1080x576 with 2 Axes>"
      ]
     },
     "metadata": {},
     "output_type": "display_data"
    }
   ],
   "source": [
    "count_avg_plot(more_than_2, \"Brand\", \"Count\", \"Brand Count and Median Rating\",\"Median Rating\")"
   ]
  },
  {
   "cell_type": "code",
<<<<<<< HEAD
   "execution_count": 235,
=======
<<<<<<< HEAD
   "execution_count": 187,
>>>>>>> master
   "metadata": {
    "scrolled": true
   },
   "outputs": [],
=======
   "execution_count": 42,
   "metadata": {
    "scrolled": true
   },
   "outputs": [
    {
     "data": {
      "image/png": "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\n",
      "text/plain": [
       "<Figure size 864x576 with 2 Axes>"
      ]
     },
     "metadata": {},
     "output_type": "display_data"
    }
   ],
>>>>>>> 82635201ea5190fbf422f917eb6497df76154039
   "source": [
    "top_ten = ratings[~ratings['Top Ten'].isnull()]\n",
    "top_ten_brands = top_ten[['Brand', 'Variety', 'Stars']].groupby('Brand', as_index = False)\\\n",
    ".agg({'Variety':'size', 'Stars':'median'})\n",
    "\n",
    "top_ten_brands\n",
    "top_ten_brands.columns = ['Brand', 'Count', 'Median Rating']\n",
    "top_ten_brands = top_ten_brands.sort_values(by=['Count'], ascending=False).head(15)\n"
   ]
  },
  {
   "cell_type": "code",
<<<<<<< HEAD
   "execution_count": 237,
=======
<<<<<<< HEAD
   "execution_count": 188,
=======
   "execution_count": 43,
>>>>>>> 82635201ea5190fbf422f917eb6497df76154039
>>>>>>> master
   "metadata": {},
   "outputs": [
    {
     "data": {
<<<<<<< HEAD
      "image/png": "iVBORw0KGgoAAAANSUhEUgAAA9kAAAJdCAYAAAAm4rSQAAAABHNCSVQICAgIfAhkiAAAAAlwSFlzAAALEgAACxIB0t1+/AAAADh0RVh0U29mdHdhcmUAbWF0cGxvdGxpYiB2ZXJzaW9uMy4xLjIsIGh0dHA6Ly9tYXRwbG90bGliLm9yZy8li6FKAAAgAElEQVR4nOzde3iT5f3H8U+SJj1QyrFNSgGngjgEVETxwDwggs4poKhMVMQBIsJUQAHdfmzKOAqeQMXjcBwUEVBQZJ5AnAoyARUUAVFKaUJLaUuhbdLk+f0BySgFKZDkSZv367p6XeTJkzzfJCj95L7v720xDMMQAAAAAAA4aVazCwAAAAAAoLYgZAMAAAAAECaEbAAAAAAAwoSQDQAAAABAmBCyAQAAAAAIE0I2AAAAAABhkmB2AQBQ0zzzzDOaNm1aleN16tRR8+bNde211+rOO++U3W43obrq6d69u3744Qdt2rQpLM+3YMECjR49+pjnTZ8+XV26dAnLNY+mvLxcs2fP1l133RXR65yoDz/8UPfee6+GDBmioUOHHvW8HTt26Morr9SVV16pZ599NizX7ty5s3Jycqp17rHqi4RLLrlE+fn51Tp3+PDhGjhwYIQrAgDg+BGyAeAEXXnllfrtb38rSfL7/SopKdGaNWv0+OOPa926dZo+fbrJFUbfBRdcoAsuuOCo95966qkRr+G2227Ttm3bYjZkV1daWpqGDBmi0047LWzPeccdd2jv3r2h28XFxXrttdeUlZWlnj17Vjr31z7HSLnrrru0f//+0O09e/Zo9uzZat68ua6//vpK57Zv3z7a5QEAUC2EbAA4QV26dNENN9xQ6ZhhGLrnnnv04Ycf6osvvtBFF11kUnXmuOCCC6I++nm43bt3m3r9cElLSwv7e3nnnXdWur1jx45QyDb7c5OkP/3pT5Vub926NRSyY6E+AACqgzXZABBGFoslFLy/+uork6sBAABAtBGyASDMbDabJMnhcISOrVq1Sq1atdKcOXM0bNgwtWvXTp06ddJ///tfSVJOTo7GjBmjLl26qG3btjr33HN1ww03aO7cuZWee8GCBWrVqpW++OILvfzyy+ratavatGmjLl266LnnnpPf7690fllZmaZOnarOnTurXbt2uvnmm48a/r/99lvdfffd6tSpk9q2batu3brp8ccfV0lJSTjfnhDDMDR37lz17NlT7dq10/nnn69BgwZp48aNVc7dt2+fpk+fru7du+vcc89V27Zt1bVrV02aNCk0vXjHjh1q1aqVcnJytHfvXrVq1UqjRo2SJN1+++1q1aqViouLKz1v8DGDBw8OHRs1apRatWqlb775Rr///e/Vtm1b9e7dW4ZhSJJ++eUXjRgxQhdffLHatGmja665RjNmzJDP56tS95o1a9S3b1+dd955uvjiizVhwgSVlZVV6/35tdqKioo0ZswYXXLJJWrbtq1uuOEGLVu2rFrPeyK2bt2qYcOG6aKLLlKbNm101VVXaerUqVX+bjzwwANq3bq1CgoKNGzYMJ133nnq2LGjhg4dqq1bt0asvp07d+rhhx9Wp06d1KZNG3Xt2lVPP/10lfd68ODB6tChg3bv3q3Ro0frwgsvDP13sWLFiojVBwCIL0wXB4AwMgxDCxculM1mO2KDr+nTpyslJUW33XabtmzZorPOOks7duxQr169VFpaqquuukqZmZnyeDxatmyZ/va3v8nv9+u2226r9DyTJ0/Wtm3bdPXVV+uKK67Qu+++qyeffFJlZWV64IEHJEmBQEADBgzQ6tWr1a5dO1111VX69ttvdddddyk5ObnS823btk39+vWT1WrV1VdfrbS0NK1du1Yvvviivv32W82cOTPs79XIkSP19ttvq2XLlurdu7dKS0u1dOlS9e7dWzNmzAhNta+oqFC/fv30zTffqFOnTurUqZP27dunjz/+WC+//LJ27Nihp59+OrSGeebMmSovL9fAgQNDa+ZPxD333KO2bdvqkksuUUpKiiwWizZs2KC+ffuqrKxMXbt2VZMmTbRmzRpNnTpVX331lWbMmBH6kuXTTz/V4MGD5XA41K1bN9lsNi1cuFBLliw56feuX79+Kiws1DXXXKP9+/dr8eLFuu+++/TSSy+pU6dOJ/38h1qzZo3+9Kc/yefzqXPnzsrKytJ///tfzZgxQ5988onmzp2r1NTU0PmGYeiuu+7Snj17dNNNN2nnzp364IMPtGrVKs2ZM0ctWrQIa31bt27VbbfdpqKiInXp0kXNmzfXN998o+nTp+vLL7/UP//5z0pfeFVUVOj2229XRUWFrrvuOhUXF2vJkiW65557NGfOHJ1zzjlhrQ8AEH8I2QBwgj788MNQp2bDMLRv3z6tXr1amzdv1l//+tcjhol9+/Zp0aJFSk9PDx174YUXtGfPHr366qu6+OKLQ8dvu+023XTTTVqyZEmVkL19+3YtWrRIp5xyiqQDI7VXX3215s+fHwrZCxcu1OrVq3XjjTdq7NixsloPTF6aNGmSXn755UrPN2/ePO3du1czZ87UhRdeGDp+9913a/ny5dq8ebNatmx5zPdk9erVeuaZZ454X8+ePdW0aVNJ0tKlS/X222/rD3/4gyZOnKiEhAP/HA0cOFC9evXSyJEj9eGHH8rhcGjZsmVav369Bg0aFHptkjRixAh169ZNH374oUpLS0NrmBcuXKji4uKTXsPbvn37Sq/FMAyNGjVKXq9Xr7/+utq0aRO6b/z48frnP/+p119/XX369JHf79ff//532e12vf766zrjjDNCr++Pf/zjSdUlHZgtsWTJEqWkpEiSLrroIo0YMUJvvfVWWEO2z+fTQw89JL/fr5dffjn0xYdhGBo/frxmzpypKVOmaMyYMaHHBAIB7d+/X++8847q1asnSXrnnXf04IMPavz48VX+7p2sRx55RMXFxZo5c6bOP//80PFp06bpmWee0SuvvKJBgwaFjpeWlio9PV0vvPCCEhMTJUnt2rXTo48+qgULFhCyAQAnjeniAHCCPvroI02bNk3Tpk3T9OnT9c9//lMbN25USkqKiouLq0zdlg4Et0MDtiRdf/31GjduXKWALR34xT8pKemIjby6du0aCtiS1LRpU51++unKz89XeXm5JOndd9+VxWLR8OHDQwFbku6//37VrVu30vMFAgFJB6aMH2r8+PH64osvqhWwpQMhO/ieHP5z6NZR8+fPl3QgIAUDtiQ1a9ZMvXv3lsfj0eeffy5Jat26tcaOHau+fftWulZqaqpat24tv9+voqKiatV3PLp27Vrp9vr16/Xjjz+qV69elQK2JN13332y2+1asGBB6NwdO3aoZ8+eoYAtSc2bN6/yOk5Enz59QgFbki677DJJqvb2XNW1evVq5eTkqGfPnpWa+FksFg0bNkyNGjXSokWLVFFRUelx9957byhgSwf+jrdp00aff/65CgoKwlbf1q1btXbtWl1zzTWVArZ04AuitLS00GdyqL59+4YCthS59w8AEJ8YyQaAEzR+/PhK3cX379+vn376SU8//bSmTp2qn3/+WePHj6/0mOBI7qE6dOigDh06qLCwUN9//722b9+ubdu2ad26dSovLz9iWP/Nb35T5VgwOHu9XiUmJuqHH35QkyZN1KhRo0rnORwOnXXWWfryyy9Dx3r27Km5c+fq8ccf16xZs3TppZfq0ksvDU2Vrq7q7q28YcMGJSYmavbs2VXu27ZtmyTp+++/1+WXX65TTz1Vp556qsrLy7V+/Xpt27ZN27dv14YNG7R69WpJOuJ7dLIO/6w2bNgg6cAsgiON1tepU0ebNm2SYRj64YcfJKlKGJfCs/XU4VuhHfrZh9P3338v6cDf0cMlJSWpdevWWrlypbZv315pq7Ejbf/Vrl07fffdd9q0aVPYuu4HPxOPx3PEzyQ5OVm//PKL9u3bpzp16oSOH/7fT6TePwBAfCJkA0CYpKSkqE2bNpo2bZq6dOmiBQsWaMCAAZXCx6GjZ0FFRUUaP368lixZIp/PJ4vFoqysLF144YVHbAImVW6qFmSxWCQp1KCruLi4SsAOOnSUUZLOPPNMzZs3T88//7xWrFihefPmad68eUpJSdEdd9yh+++/P/T84bB3715VVFRo2rRpRz0nODodCAQ0Y8YMvfrqq6FjjRo10rnnnqusrCxt3bo19JrDKSkpqdLtYNO0lStXauXKlUd93L59+0LnHhrsgg5/70/E4Z//4Z99uAQbmx0+8yEoIyNDkqo0GAseP1Tjxo0rPWc4BPf8Xr16degLlyMpLi6u9Fkc7f0DACAcCNkAEGYOh0Pnnnuu3n//fW3atKlSyD6SBx98UCtWrFDv3r3VvXt3nXHGGaFGUosXLz7hOtLS0kIh5HDBjtyHOvPMM/Xkk0/K6/Vq7dq1+vTTT7VgwQI9//zzcjqduvXWW0+4lsOlpKSoTp06Wr58+THPfeWVV/Tkk0/qggsu0IABA/Tb3/42NOW+f//+x9W1OjgtPqi6nb6DNUvSP/7xD/Xq1etXz01LS5OkI77/R3rvY1UwmHo8niPeH/wyoX79+pWOl5eXV5kBEXwvGjRoELb6gtcYNWqU+vXrF7bnBQDgZLAmGwAiIBg+jjYCeOh5K1asUJs2bfT3v/9d7du3DwXsHTt2qLy8/IRHJ8866yzl5uZq586dlY77/f7QNOCgRYsW6bHHHpNhGHI4HOrYsaMefPDB0BTc4FZj4dKqVSu53W7l5eVVuW/58uV64oknQlOulyxZIpvNpueee06XXnppKGAbhqGffvop9OdfExy5LC0trXR8+/btx1WzJH333XdV7vP5fJowYYL+9a9/SfrfNPGvv/66yrlHenysCnZnP9LnX1FRobVr16pevXpVRq4PX9svSevWrZPD4dCZZ54Ztvp+7TMxDEOPP/64XnnllYjMdAAA4GgI2QAQZuvXr9fq1atVr169I65lPZTdbpfValVxcXGl9aBlZWV67LHHJOmI+y9XR8+ePSVJEyZMqPQcL7/8svLz8yudu27dOs2aNUtLly6tdHzHjh2SpCZNmpxQDb9Wm2EYeuyxxyq97l27dmnMmDF64YUXQqOoiYmJ8vv9VRpmTZ8+PdSo6tDGW3a7vUojruAa5k8++SR0rLy8/Lg6XZ9//vlq2rSp5s+fr7Vr11a674UXXtCrr74aWiPctm1btWjRQosXL64UtHft2qVXXnml2tc024UXXqgmTZro3Xff1RdffBE6bhiGpk6dqvz8fF177bWVmtdJ0lNPPVVpxP6dd97R2rVr1a1bt0rbfZ2s1q1bq1WrVnrvvff02WefVbpv1qxZevHFF7VmzRqmgwMAoorp4gBwgg7dwks6MEK8ZcsWLV++XH6/Xw8//HCVdb2HS05O1lVXXaVly5bppptu0iWXXKL9+/frk08+UX5+vurVq6e9e/cqEAhU6hBeHb///e+1bNkyvf/++9q2bZsuuugibdmyRV9++aWysrIq1d6/f38tXbpUI0aM0Pvvv69TTjlFOTk5+ve//6309PQqW4idrBtuuEEff/yxli1bpk2bNul3v/udKioqtHTpUhUWFmr48OFq1qyZpAOdqdetW6c//vGPuuaaa2S327Vq1Spt2LBBjRo10u7du1VYWBh67oyMDP38888aMWKEOnXqpB49eqhXr16aM2eOxo0bp/Xr16tBgwb66KOPVLdu3Wo3drPZbJo4caIGDBig2267TVdeeaWaNWum7777Tl9++aWaNm2qYcOGSTqwxnfcuHG688471bdv31C4/OCDD46rkZzZEhISNGHCBN19993605/+FNon++uvv9Y333yjVq1aafjw4VUe9+OPP6pHjx667LLLlJOTo48//lhZWVl68MEHw17jhAkT1LdvXw0YMECXX365TjvtNG3atEkrV65Uenq6Ro8eHfZrAgDwawjZAHCCPvroI3300Ueh23a7XQ0bNtQVV1yh22+//Ygdlo9k3Lhxcrlc+vDDDzVr1iylp6erbdu2GjhwoJYsWaKZM2dq1apVJ9SReerUqWrTpo3mz5+vuXPn6je/+Y2mTZum+fPnVwrZTZs21dy5c/Xss8/q66+/1scff6wGDRro+uuv15AhQ+R0Oo/72r/GYrHo6aef1uzZs7VgwQK9+eabSkpKUosWLdSvXz916dIldO6tt94qwzA0d+5cvfnmm6pbt65OPfVUTZ06VYmJibr33nu1YsUKnXvuuZIOrHF/+OGH9f7772v37t3q0aOHzjzzTL3wwguaNm2ali5dqtTUVHXp0kUjRoxQ586dq113hw4d9Oabb+q5557TF198oU8++UQul0u33367Bg0aFGruJUlnn3225s6dqyeffFLLly+XxWJR165d1aNHj7B/aRFJHTt21Lx58zR9+nStWrVKK1asUFZWloYMGaL+/fsrOTm5ymOeeuopzZkzR/Pnz1dKSopuuukm/fnPf66yfV04tG7dWm+99ZaeffZZffbZZ1q5cqWcTqduueUWDR48WC6XK+zXBADg11gMFioBAIAweOCBB/Tee+/pvffe0+mnn252OQAAmII12QAAAAAAhAkhGwAAAACAMCFkAwAAAAAQJqzJBgAAAAAgTBjJBgAAAAAgTAjZAAAAAACESczvk11cXCq/P2B2GQAAAAAQVTabVWlpyWaXgeMU8yHb7w+oooKQDQAAAACIfUwXBwAAAAAgTAjZAAAAAACECSEbAAAAAIAwIWQDAAAAABAmhGwAAAAAAMKEkA0AAAAAQJgQsgEAAAAACBNCNgAAAAAAYULIBgAAAAAgTAjZAAAAAACECSEbAAAAAIAwIWQDAAAAQC2wZcsWtWrVqsrPmjVrjnj+t99+q969e+vss89W165dtWjRoihXXDslRPLJt2zZomuvvbbK8dmzZ6tDhw6RvDQAAAAAxJUff/xRDRo00OLFiysdr1+/fpVzCwoK1L9/f/3hD3/QP/7xD33++ed65JFH1LhxY3Xq1ClaJddKEQ3Zx/MhAwAAAABO3I8//qgWLVooPT39mOe++eabSk1N1SOPPCKr1arTTz9dGzdu1CuvvELIPkkRnS5+6Id86I/dbo/kZQEAAAAg7mzevFmnnXZatc5ds2aNzj//fFmt/4uEF1xwgb7++msZhhGpEuNCREP28XzIAAAAAIATt3nzZu3cuVM333yzLrnkEt1555365ptvjniu2+2W0+msdCwjI0OlpaXas2dPNMqttSI6XXzz5s0qLy/XzTffrJycHLVs2VLDhg1Tu3btqv0cP//jMXnzd0ewythR98KL1LjnjbJY6UdXm5Ss/Vp589+Q4fWZXQoiJO2ii9X4hl5ml4Ew85eUKHvyBAX27ze7FABAnHI0bqQGj09Qbm6u/H5/pfvS0tKUlpYWul1WVqbs7Gw1bNhQDz30kBwOh2bNmqXbbrtNCxcu1Omnn17p8WVlZXI4HJWvd/C21+uN0CuKDxEL2cfzIRcXF6u4uLjS4x0OhzIyMpTS8gwlOIsPf/pax19UpD1L35W/uFjOvv0I2rVE8Refy/3qS3JkNlFyyzPMLgcRULr5R+39ajUhuxYq2/aTvDk7VOecc2VLTTW7HABAHHIcDNF9+vRRTk5OpfuGDBmioUOHhm4nJSXpq6++ksPhCIXlCRMmaMOGDZozZ47++te/Vnp8UlJSlTAdvJ2cnBz21xJPIhayj+dDnjlzpqZNm1bp8e3bt9fcuXPV6u67Tuj6ZeUV2ltceuIv4ATVTUtWUuLxv62GYSj79XnKfn2e7KrQGQ/cJ+txrF036/Xi6AqXf6xds/+l5FZnKmvIn2VN4n9WtVH+ordU8O4SBXy+4/pvFrHP686VJDnv6KeEQ0YKAACIloSEAwNvs2fPPuJI9uFSD/tS2Gq1qkWLFsrNza1yrsvlUl5eXqVju3btUkpKiurWrXuypce1iE4Xr+6H3LdvX/Xs2bPSsWAwf+iZT/X9z8e/JmDxlO7ae9yPOnlJiQm6bvjbJ/poXdDoPHX+zxeatXa7FrouU4W1eh+RWa8XR1aw9D3lvzVPddqdrcxB98p62FQc1B4OZ6ZkGPLl5SmxSROzy0EYeT0eWVNSZOMXDQCAyTIzM495znfffac77rhDr732mtq0aSNJ8vv9+uGHH3T11VdXOf+8887TggULZBiGLBaLJGnVqlVq3759pWZoOH4Re/e+++47tW/fXt99913oWPBDbtmyZaVz09LS1LRp00o/GRkZkSotpq1ucJaWpl+o0/bn6OadH8kRYD1ETWIYhvIXvqX8t+ap7vkXqMngoQTsWs7hckmSfJ6q3xCjZvO6c+VwuUK/eAAAEMvOPPNMZWVl6f/+7/+0fv16bd68WaNHj9aePXt0xx13yOv1Ki8vLzQlvFevXiooKNCYMWO0detW/etf/9KSJUvUv39/k19JzRexkH2sDxlHt77eGXrH+Ttlle3SH3M+UJK/zOySUA1GIKC8ubNV8O5ipf3uUrkGDJIlIaKTRRAD7M4DIdvrdptcCcLN53EfmKkAAEANkJCQoJdeekmnnnqqBg0apJtuukn5+fmaNWuWGjVqpLVr16pTp05au3atJKlx48Z66aWXtHHjRvXo0UOzZs3SxIkTddFFF5n8Smq+iCWA4Ic8adIkDRo0SKWlpWrfvn3oQ8av+77uqfJZE9TDvUJ9cv6t15t00b6EFLPLwlEYfr88M19V8eefqf5V3ZR+c29Gv+KELSVFtrQ0eT2E7NokUFamij17ZD9saxMAAGKZ0+nUlClTjnhfx44dtWnTpkrHzjnnHM2fPz8apcWViA6z/dqHjGPbUqeZ3sy8UjfmfqLbcpbp9SZXqchOh9tYY1RUKPfF51Xy3zVqdH0PNbyuOwE7zjhcmYxk1zLeXR5JBz5bAACA48GK9hj3S0qmXs+6Ssn+cvXJeV8NvUVml4RDBMrLlTPtKZX8d43Sb+6tRtf3IGDHIYfLJR8hu1YJdhYPrrkHAACoLkJ2DbAzKV1zsrrKZgTUJ2eZMsoLzC4Jkvylpcp5cor2b/hOGXfcqQZdq3ZtRHywO13yl+yVv6TE7FIQJj63W7JYZM9gujgAADg+hOwaYldiQ83O6ia/xapbc5apSWnesR+EiPGXlGjHlEkq/WmrXAPuVv1LLze7JJjIEWx+xrrsWsPrcSuhYUN2BwAAAMeNkF2DFDjqaVbW1dpvS1LvnR/olP1sGWSGisJCZU8aL++ObDUZPFRpF1xodkkwWXDdLuuyaw+v2816bAAAcEII2TVMsT1Vs7OuVqE9VTft/Egt9mWbXVJc8eXnKXviOPl25yvr/uFKPfscs0tCDLA3bizZbPIxkl0rGIZxIGQ7WY8NAACOHyG7BtqXkKw5Wd20K7GBbshdrtZ7fzK7pLjgzd2p7Inj5N9XoqbDHlTKmb81uyTECEtCguyN05kuXkv4i4pklJfJTtMzAABwAgjZNVSZLVGvZ3XVjqQMXef5TO5l/za7pFqtbPsvyp40XkaFX80eHK3k01uYXRJijMPlYrp4LRHqLM5INgAAOAGE7BrMa7VrXpMrtTUlS1ufnaGCZUvNLqlWKt2yWTsmT5DFblezkQ8rsVkzs0tCDHK4XPJ53DICAbNLwUkKzkhgTTYAADgRhOwarsKaoAWZl6vRJRcp/803lL9ogQzDMLusWmPfxg3aMXWybHXT1GzkI+yZi6OyO10yKipUsXu32aXgJHndblkcDiU0aGB2KQAAoAZKMLsAnLyAxaZWwx/Qd5YEFSx5R4GyMqXf8kdZLBazS6vRStZ+rdwZz8rudKnpsBFKqFff7JIQw0Idxj1u2dPTTa4GJ8Pnccue4ZTFyvfQAADg+BGyawmLzSbnHf1kTUpS4Yf/VqCsTM477uSXxBNU/OXncr/ykpJO+Y2y7hsmW2qq2SUhxoX2yna7VadNW5Orwcnwut1KbN7c7DIAAEANRciuRSxWq9JvuVXW5BQVLH5bgbIyZfYfKEsCH/PxKFzxiXbNek3JZ7RS1tD7ZE1KNrsk1AC2tDRZk5Pl9bB/fU1mVFTIl5+nuhdcYHYpAACghiJ91TIWi0WNu/eUNSlJ+W++oZ3lZcq8Z4isDofZpdUIBe+/p/z581Sn3dnKHHQv7xuqzWKxyO50yef2mF0KToIvb5cUCNBZHAAAnDDmEtdSDbtdo4zb79S+775VzpNTFCgrNbukmGYYhvIXvaX8+fOU2uECNRk8lICN4+ZwuRjJruGC27DZnXQWBwAAJ4aQXYvVv+xyufrffWALqimT5S8pMbukmGQEAsp7fY4KlixWWqdLlTlwEFPscUIcrkxVFBQoUF5udik4QcGQ7XA5Ta4EAADUVITsWi6t44VqMnioyrO3K3vyBFUUFZpdUkwxAgF5Zr6qwo8+UP0uXeXs249mcThhoeZnB/dZRs3j9eTKVjdNtpQ6ZpcCAABqKNJEHEg951xl3TdMvvw8ZU8cL9/ufLNLiglGRYVyX3hOxf9ZqYbXdWfbM5y04D7qPg/rsmsqn8cT+hwBAABOBCE7TqT8trWaDntQ/pK9yp44LjQlMl4FysuVM+1plaz5So1vukWNu/ckYOOk2TMOTDH2ulmXXVN53bmyE7IBAMBJIGTHkeTTW6jpiJEyfD5lTxyn8uztZpdkCn9pqXKemqr9G75Vxu13qmG3a8wuCbWENTFRCQ0bxf2XWDWVf98++ffulcNF0zMAAHDiCNlxJqn5KWo28mFZEhKUPXmCSrduMbukqPKXlGjHlEkq3bpFrv53q/5ll5tdEmoZh9PFmuwaKvi5sX0XAAA4GYTsOORwZarZqIdlq5OqHVMna//3G80uKSoqCguVPWm8vDuy1eSeIUrreKHZJaEWsrtc8nncMgzD7FJwnHyhzuKEbAAAcOII2XHK3qixmo18WPbG6cp5aqpK1q01u6SIOtD0bZx8u/OVdd8wpZ5zrtkloZZyuFwKlJbKX1xkdik4Tl53rmS1yt443exSAABADUbIjmMJ9eur2YOj5GjaTDufm6bi1V+aXVJEeN25yp44Xv59JWo67EGl/La12SWhFgtt48W67BrH63HLnp4uS0KC2aUAAIAajJAd52ypqWo6/CEln95C7vzSzTsAACAASURBVBdnqPDT5WaXFFZl239R9sRxMioq1OzBUUo+vYXZJaGWC041Zl12zeN1u1mPDQAAThohG7IlJyvrvmFKOautdr32T+359/tmlxQWpVu3aMfkCbIk2NVs5GglNmtudkmIAwkNG8lit4fW96JmMAIB+XZ56CwOAABOGiEbkg5sPZQ15M9K7XC+8ua9rvy3F9boxk37v9+oHVMny1Y3Tc1GPcwvzogai9Uqe4aTvbJrmIqC3TJ8PvbIBgAAJ42FZwixJCQoc+A98iQmqWDx2wqUlSn95t6yWCxml3ZcStatVe7z02V3utR02Agl1KtvdkmIMw6XS+U7dphdBo6D1+ORxPZdAADg5BGyUYnFapWzbz9Zk5JU+MEyBcpK5bz9TlmsNWPSQ/GqL+R++UUlNj9FTe8fLltqqtklIQ45nC6VrFsro6KCJlo1RHDmAdt3AQCAk8Vvf6jCYrUqvfetsiYnq2DJOzLKyuT608CYDwuFK5Zr16yZSm55hrL+fL+sSclml4Q45XBlSn6/fPl5LFWoIbxut6zJybKl1TO7FAAAUMPFdmqCaSwWixr3uEHWpCTlz5+nQHm5MgfdK6vDYXZpR1SwbKny33xDddq2U+Y9Q2K2TsQHu9Mp6WC3akJ2jeBzu2V3umrc8hgAABB7asYcYJim4dW/V8btfbXv22+U89RUBcpKzS6pEsMwlL9ogfLffEOpHc5Xk3v/TMCG6YLBmm28ag6vh+27AABAeBCycUz1L7tCrv4DVbr5R+2YMln+khKzS5J0YMudvDfmqGDJO0rr9DtlDrwn5qe0Iz7Y6tSRrW5dOozXEIHyclUU7GY9NgAACAtCNqolreNFanLPEJVnb1f25AmqKCo0tR4jEJDntVdV+OEHqt/lKjnv6FdjmrMhPjhcmeyVXUP4dh3sLM7UfgAAEAakElRb6rnt1eTPD8iXt0vZk8bLt3u3KXUYFRXKfeE5FX+2Ug2v6670W24lYCPm2J1OpovXEMHPKbiWHgAA4GSQTHBc6rQ+S02HPSh/cbGyJ/5D3iiP1AW8XuVMe1ola75S45tuUePuPWlUhJjkcGbKX1ws//79ZpeCYwj+f4w12QAAIBwI2ThuyS1aqumDo2T4fMqeOE7l2dlRua6/tFQ5T07R/g3fKuP2O9Ww2zVRuS5wIoLre6P9RRSOn9edq4SGDWVNTDS7FAAAUAsQsnFCkpqfomYPjZYlIUHZk8er9KetEb2ev6REO6ZMUumWzXL1v1v1L7s8otcDTpb94Kioz0Pzs1jnddNZHAAAhA8hGyfMkdlEzUaOlq1OqnZMmaT9P3wfketUFBYqe/IEeXdkq8ngoUrreGFErgOEkyMjQ7JaWZcd4wzDkM/jlp3O4gAAIEwI2Tgp9sbpajbyYdkbNVbOk1NUsn5dWJ/ftzv/QJO1/Dxl3TdMqeecG9bnByLFkpAge+N0povHOH9xsQKlpXI46SwOAADCg5CNk5ZQv76aPTRajqbNtPPZZ7R39aqwPK/XnavsCePkL9mrpsMeVMpvW4fleYFocbhchOwYF5xpwB7ZAAAgXAjZCAtbaqqaDn9Iyae3UO6Lz6vo0xUn9Xzl2duVPXGcjAqfmo4YqeTTW4SpUiB67E6XfLs8MgIBs0vBUfjoLA4AAMKMkI2wsSUnK+u+YUo5q408r72qPf9edkLPU7p1i7InT5Alwa5mIx9WUvNTwlwpEB0Ol0uG16uKPXvMLgVH4fXkypKQoIRGjcwuBQAA1BKEbISVNTFRWUPuU+p5HZQ3b652v7NIhmFU+/H7v9+oHVMny1YnVc1GPSyHi3WSqLmCo6NeNx3GY5XX7Zbd6ZLFyj+HAAAgPPitAmFnSUhQ5sB7lHZxJ+1+Z5Hy571eraBdsm6tcp6aWqmZGlCThfbKpsN4zDqwfZfT7DIAAEAtkmB2AaidLDabnHfeJWtysvZ8sEz+slI5b7/zqKNFxau+lPvlF5TY/BQ1vX+4bKmpUa4YCD9bvfqyJCaF1v0ithgVFfLl56nueR3MLgUAANQihGxEjMVqVXrvW2VNTlLBksUyysrk+tNAWRIq/7UrXLFcu2bNVHLLM9Rk6P2yJSebVDEQXhaL5UCHcUayY5IvP1/y+2Wn6RkAAAgjQjYiymKxqHGPG2VNTFb+W/MUKC9X5qB7ZXU4JEkFy5Yq/803lNKmnZrcc6+siYkmVwyEl8PlUumWzWaXgSMIrpVn+y4AABBOrMlGVDS85vfKuO0O7fv2G+U8/YQCZaXKf3uh8t98Q6kdzlfWkD8TsFErOZwuVRQUKOD1ml0KDhPaI5uRbAAAEEaMZCNq6l/eWdakJLlfeUnbHhklf1GR0i75nZx9+9HZF7WW3eWSDEO+XR4lNm1mdjk4hM/jli21Lj0gAABAWJFsEFVpF16sJvcMUaC0VPW7dCVgo9YLbkPnpflZzPG63Qe+BAEAAAgjRrIRdanntleLp5+t0gANqI0cGQe2h2Kv7NjjdeeqTtuzzS4DAADUMgwhwhQEbMQLa1KSEho0kM/jMbsUHMK/f7/8xcU0PQMAAGFHyAaACLM7XfJ6GMmOJb5g0zNCNgAACDNCNgBEmMPpktftlmEYZpeCg4Jr5NkjGwAAhBshGwAizOFyKbB/v/wle80uBQd5PW7JYpE9PcPsUgAAQC1DyAaACAt2GPfRYTxmeN1u2Runy2q3m10KAACoZQjZABBhwW2i6DAeO3yeXNZjAwCAiCBkA0CE2Rs1liUhQV46jMcEIxCQ1+NhPTYAAIgIQjYARJjFapU9I4OR7BhRUbhHhtfLSDYAAIgIQjYARIHDmcma7BgR7CweXCsPAAAQToRsAIgCu9Mpb94uGX6/2aXEPd/BGQVMFwcAAJFAyAaAKHC4MiW/X778fLNLiXtej0eWxCQl1K9vdikAAKAWImQDQBQE1/96PazLNpvXnSuH0ymLxWJ2KQAAoBYiZANAFLBXduzwetysxwYAABFDyAaAKLClpspap468HkK2mQI+ryp275bd6TS7FAAAUEsRsgEgShyuzFBna5jDt2uXZBiMZAMAgIghZANAlDicLkK2yYJ7lbNHNgAAiBRCNgBEicPlkr+oUP7SUrNLiVuhPbKZLg4AACKEkA0AURLcl9nn8ZhcSfzyedyy1a8va1Ky2aUAAIBaipANAFESXAfMNl7m8brpLA4AACKLkA0AUWLPyJAsFtZlm8QwjAMh28l6bAAAEDlRCdnr1q1T69attWrVqmhcDgBiktVul71RY/nYxssUgZISBfbvI2QDAICIinjI3r9/vx566CH5/f5IXwoAYp7dRYdxswTfdzudxQEAQARFPGRPmDBBTrq4AoCkAx3GvR63DMMwu5S4E1wLz5psAAAQSREN2StWrNDy5cv1l7/8JZKXAYAaw+F0ySgvV8WePWaXEne8brdks8neqJHZpQAAgFosYiG7oKBAjzzyiMaOHat69epF6jIAUKMER1FZlx19Xo9bjgynLDab2aUAAIBaLCFSTzxmzBh17txZl156qdzHWH9YXFys4uLiSsccDocyMjIiVR4AmCK4V7bX7VbKb1ubXE188bndrMcGAAARF5GQvXDhQm3cuFHvvPNOtc6fOXOmpk2bVulY+/btNXfu3EiUhzCqm5aspMSIfVdzVGXlFdpbXBrVa8bTa0XkJDRoIIvDwV7ZUWb4/fLu8qjO2eeYXQoAAKjlIpIYFixYII/Ho06dOklSqMHPgAED1KNHDz366KOVzu/bt6969uxZ6ZjD4YhEaQizpMQEXTf87ahfd/GU7tob5WvG02tF5FgsFjmcLnndHrNLiSu+3bslv18ORrIBAHFi3bp1uvXWW/Xqq6+qY8eORzzniy++0JQpU7RlyxY1btxYt9xyi/r37y+LxRLlamuXiITsxx9/XGVlZaHbeXl56tOnj8aOHatLLrmkyvlpaWlKS0uLRCkAEHMcLpfKft5mdhlxxes+2FncSWdxAEDtV51tlH/55RcNGjRIAwYM0BNPPKENGzZo1KhRSklJUZ8+faJYbe0TkZB9+JZdiYmJoeON6OoKIM7ZXZnau+YrBXw+We12s8uJC76DvUEYyQYAxIPgNsq//PLLUc9ZuXKlkpKSNGTIEElSs2bNtHTpUq1cuZKQfZIivk82AKAyh9MpGYZ8u3aZXUrc8HpyZU2pI2tqqtmlAAAQUdXdRrlhw4YqLCzUkiVLFAgE9OOPP2rNmjVq06ZNlCqtvaLSxcnlcmnTpk3RuBQAxLzgNl5ej1uJWVkmVxMfvB6PHC4Xa8wAADVSbm5ulanfR1pyG9xGedy4ccfcRrlr167q1auXRowYEZpafs0112jw4MFhrz/eMJINAFEW3MbL56bDeLR43blMFQcA1Fh9+vTRlVdeWeln5syZVc47dBvlYykuLlZOTo769++v+fPna+LEifr888+r7PqE4xf9/YgAIM7ZkpNlq1df3oPrhBFZgbJS+QsLQzMIAACoaWbPnn3EkexDHe82yo8//rhsNptGjBghSWrdurUqKir0t7/9TbfffrsaNGgQnuLjECEbAEzgcDrl9RCyo8HrObBdmv2wppwAANQUmZnH/qL4eLdRXr9+vbp06VLp2Nlnny2fz6fc3FxC9kkgZAOACRyuTO39eo3ZZcQFb6izOCPZAIDa63i3UT5S36zNmzfLarWqefPmEa+3NiNkA4AJHC6XAiUl8peUyEbH64jyunMli0X2jAyzSwEAIGKOtY2y1+tVUVGR6tWrJ4fDoTvuuEN33323nn32WV133XXasmWLxo8fr1tvvVWp/G5yUmh8BgAmCDY/89L8LOJ8HrcSGjWS1e4wuxQAAEyzdu1aderUSWvXrpUkXXbZZZo2bZo+/PBDXX/99Ro3bpxuueUWjRo1yuRKaz5GsgHABMFO116PW8ktWppcTe3mdbvlcNJZHAAQXw6fDt6xY8cq08O7dOlSZV02Th4j2QBgAnvjdMlmo8N4hBmGcXCPbNZjAwCA6CBkA4AJLDabHOkZ8hGyI6qisFBGeRl7ZAMAgKghZAOASewuF9t4RZjv4PtrZ7o4AACIEkI2AJjE4XTJt8sjIxAwu5RaK9hYjpFsAAAQLYRsADCJw+WSUVEh3+58s0uptbxutywOhxLqNzC7FAAAECcI2QBgkuAUZtZlR86BzuJOWaz8cwcAAKKD3zoAwCTBjtesy44cn8ctu5PO4gAAIHoI2QBgElvdurKmpLCNV4QEfD758vNYjw0AAKKKkA0AJrFYLHK4XKHmXAgvX94uyTAI2QAAIKoI2QBgIrvTJZ/HY3YZtVJw+y4H23cBAIAoImQDgIkcTpcq9hQoUF5udim1TnAavt3FmmwAABA9hGwAMBHNzyLH63bLVq+ebMnJZpcCAADiCCEbAEwUnMrMuuzw87pzmSoOAACijpANACayO52SxcK67AjweTw0PQMAAFFHyAYAE1kdDiU0bMhIdpj5S0rkL9krOyPZAAAgygjZAGAyhyuTvbLDLLjG3UHTMwAAEGWEbAAwmcPplM/jlmEYZpdSawS/tGBNNgAAiDZCNgCYzO7KVKCsTP6iIrNLqTV8Hrdks8neuLHZpQAAgDhDyAYAk9FhPPy87lzZ09NlSUgwuxQAABBnCNkAYLJgB2z2yg4fr9vNVHEAAGAKQjYAmCyhQUNZHA75aH4WFkYgIN8utu8CAADmIGQDgMksVqvsGU5GssOkYvduGRUVcjjpLA4AAKKPkA0AMcDhcrGNV5h4PQfWttsZyQYAACYgZANADHA4XfLl58moqDC7lBrP6/ZIYvsuAABgDkI2AMQAh8slBQLy5e0yu5Qaz+vJlTU5Wba0NLNLAQAAcYiQDQAxwH5w/TBTxk+ez+2Ww5Upi8VidikAACAOEbIBIAY4XE5JhOxw8LrdsjudZpcBAADiFCEbAGKALaWObHXT6DB+kgLl5arYUyCHi87iAADAHIRsAIgRDpdLPkL2SQl+ScEe2QAAwCyEbACIEXaXS153rtll1Gi+g9Pt2SMbAACYhZANADHC4XTJv3ev/Pv2mV1KjRUcybZnZJhcCQAAiFeEbACIEcF1xKzLPnFet1sJDRvJmphodikAACBOEbIBIEYE1xH76DB+wrweN+uxAQCAqQjZABAj7I3TJauVddknyDAM+dy5sjsJ2QAAwDyEbACIEZaEBNnT05kufoL8xUUKlJUxkg0AAExFyAaAGOJwuuRluvgJCb5v7JENAADMRMgGgBjicLrk2+WREQiYXUqNEwrZTqfJlQAAgHhGyAaAGGJ3Zcrw+VSxp8DsUmocn8cti92uhIaNzC4FAADEMUI2AMSQ4HpipowfP687V/YMpyxW/mkDAADm4TcRAIgh/wvZdBg/XmzfBQAAYgEhGwBiiC2tnqxJSYxkHyejokK+vDw52L4LAACYjJANADHEYrHI7sqUj228josvP08KBOgsDgAATEfIBoAYwzZexy/4ftmZLg4AAExGyAaAGONwuVRRsFuB8nKzS6kxgmvYmS4OAADMRsgGgBgTDIq+XbtMrqTm8HrcstWtK1udOmaXAgAA4hwhGwBiTHDKs9dDh/Hq8rndrMcGAAAxgZANADEmOJLNuuzq87rdsjNVHAAAxABCNgDEGGtiohIaNGSv7Gry798n/95i1mMDAICYQMgGgBjkcLnk83jMLqNG8LoPvE8OOosDAIAYQMgGgBhkd7nkdefKMAyzS4l5voNr1wnZAAAgFhCyASAGOZwuBUpL5S8uNruUmOd1uyWrVfb0DLNLAQAAIGQDQCxyhDqM0/zsWLwet+yN02VJSDC7FAAAAEI2AMQih/PAdlQ+Oowfk9ftZqo4AACIGYRsAIhBCY0ayZKQwF7Zx2AEAvLt8tBZHAAAxAxCNgDEIIvVKnuGU146jP+qij17ZHi9sjOSDQAAYgQhGwBilONgh3EcXfD9YSQbAADECkI2AMQohytTvrw8GRUVZpcSs4KN4RyuTJMrAQAAOICQDQAxyu50Sn6/fPn5ZpcSs3zuXFkSk2SrV8/sUgAAACQRsgEgZgVHZ9nG6+i8Ho8cLpcsFovZpQAAAEgiZANAzAquM2Zd9tF53bls3wUAAGIKIRsAYpQtNVW21LryMZJ9RAGvVxUFBazHBgAAMYWQDQAxzO50yusmZB+Jb5dHMowDa9cBAABiBCEbAGKYw5XJmuyjCH75wEg2AACIJQlmFwAAODqHy6Xi/6yUv7RUtuRks8uJKaE9sjMYyQYAIBqmTZtW6bbFYlFycrJatmyp3/3udyZVFXsiOpLtdrv15z//WRdccIE6dOigBx54QB6PJ5KXBIBaxX6w+ZmP5mdVeD1uJTRoIGtSktmlAAAQF3788Ue98cYbKiws1N69e/XWW2/pk08+0dNPP63p06ebXV7MiFjINgxDAwcOVHFxsV577TXNmjVLeXl5uueeeyJ1SQCodYKds5kyXpXP4w59CQEAACJv9+7dWrBggf7yl79o9OjReuutt2SxWDR79my9//77ZpcXMyIWsvPz83X66adr7NixOvPMM3XmmWfqzjvv1IYNG1RUVBSpywJArWJPz5AsFpqfHcYwDHndbtZjAwAQRYWFhUpPTw/dbtCggQoLC+VwOJSQwErkoIi9E+np6XriiSdCt91ut9544w21bdtW9erVi9RlAaBWsdrtsjdOJ2Qfxr93rwL797NHNgAAUdSsWTNNmTJFN998syRp/vz5at68udavXy+rlZ7aQVH5umHw4MH66KOPVK9ePb322mtV7i8uLlZxcXGlYw6HQxkZGdEoDwBimt3pYq/swwTfDwfTxQEAiJpx48Zp7Nix6tmzp2w2m6644gqNHTtW7733nkaOHGl2eTEjKiH7vvvu06BBg/Tss8+qX79+WrRokZyH7Gs6c+bMKp3q2rdvr7lz50ajPABHUDctWUmJ0Z/2U1Zeob3FpVG/biy/XofLpaIff5ARCMjCt8SS/tdZ3M5INgAAUdOwYUNNnTq1yvFbb73VhGpiV1R+o2zVqpUk6YknntDll1+uhQsXatCgQaH7+/btq549e1Z6jMPhiEZpAI4iKTFB1w1/O+rXXTylu/ZG/aqx/XodLpcMr1cVhXtkb9goKnXFOq/bLUtCguyNGptdCgAAcWP16tV65plnVFRUJMMwQscXL15sYlWxJ2IhOz8/X6tWrdK1114bOpacnKxmzZpV2cYrLS1NaWlpkSoFAGq04JRor9tNyD7I63HLnpHByD4AAFH06KOP6sYbb1Tr1q1lsVjMLidmRSxk79y5U8OGDVPz5s3Vtm1bSdLevXu1bdu2KqPWAICjsx/soO3zuKXWZ5lcTWzwud1yZDYxuwwAAOKK3W5Xv379zC4j5kVsCKBNmzbq0KGD/vKXv+ibb77Rxo0bdf/996thw4bq0aNHpC4LALVOQv36siQm0WH8IMPvlzdvF+uxAQCIspYtW2rTpk1mlxHzIjaSbbVa9cwzz2jSpEm6++67VV5erk6dOmnWrFmqU6dOpC4LALWOxWKRw+kMNfuKd778PMnvZ/suAACiLDs7WzfeeKOaNGmixMTE0HHWZFcW0cZnDRs21IQJEyJ5CQCICw6XS2U//WR2GTHBy/ZdAACY4oEHHjC7hBqBjjEAUAPYnS75ducr4POaXYrpfAenzTsOrlUHAACRtXXrVklSnTp1jviDyqK/KSwA4Lg5XJmSYci3a5cSs5qaXY6pvG63rKmpsqWmml0KAABxYdKkSZoxY4aGDh1a5T6LxaKPPvrIhKpiFyEbAGqA/23jlUvIducyVRwAgGNYt26dbr31Vr366qvq2LHjEc9xu90aN26cVq5cqaSkJHXr1k0jR45UcnJypfNmzJghSZozZ45ch/VE2bx5c2ReQA3GdHEAqAEcLqckyefxmFyJ+bweDyEbAIBfsX//fj300EPy+/1HPcfr9apfv34qLCzU3Llz9cQTT2j58uWaPHlylXMLCwtVWFiogQMHqqioSIWFhSoqKlJ+fr7uvffeSL6UGomRbACoAaxJybLVrx/3Hcb9paXyFxXSWRwAgF8xYcIEOZ1O/fLLL0c9Z/HixcrLy9Prr7+uevXqSZKGDh2quXPnVjl3+PDh+s9//iNJlUbFExIS1KVLlzBXX/MRsgGghnC4MuN+r2zfwc7idpqeAQBwRCtWrNDy5cv14osv6vrrrz/qeZ999pkuvvjiUMCWpBtvvFE33nhjlXNffvllSdLo0aM1fvz48BddyzBdHABqCIfTGdq+Kl6xfRcAAEdXUFCgRx55RGPHjq0Uno/k559/VlZWlp588kl17txZV155pSZOnKjy8vKjPmb8+PEqLCxUbm6udu7cqezs7NAIN/6HkWwAqCEczkwF9u2Tf+9e2erWNbscU3jdbslikT0jw+xSAACImtzc3Crrq9PS0pSWllbp2JgxY9S5c2ddeumlch9j9ltJSYnmz5+vSy+9VE899ZQ8Ho8ee+wx7d69W5MmTTriY55++ulQEzSbzSafz6cWLVpo8eLFJ/Hqah9CNgDUEHZXsMO4W8lxGrJ97lzZGzeW1W43uxQAAKKmT58+ysnJqXRsyJAhlbbUWrhwoTZu3Kh33nmnWs+ZkJCgevXqadKkSbLZbGrbtq0qKip03333afTo0WrQoEGVxyxatEiffPKJJkyYoIceekirVq3S8uXLT+q11UaEbACoIULbeHlyldyypcnVmMPrdsvOVHEAQJyZPXv2EUeyD7VgwQJ5PB516tRJkmQYhiRpwIAB6tGjhx599NFK5zudTiUmJspms4WOtWjRQpKUk5NzxJDdsGFDZWRk6LTTTtMPP/yg7t27a+bMmSf/AmsZQjYA1BD2xo0lmy1um58ZhiGvx616rVqZXQoAAFGVmXnshp+PP/64ysrKQrfz8vLUp08fjR07VpdcckmV8zt06KB58+bJ5/PJfnCG2I8//iibzaasrKwjXiMhIUHbt2/XaaedpjVr1qhTp04qLi4+wVdVe1Wr8dnDDz9c5dihUxMAAJFnsdnkyIjf5mcVe/bI8HrlcNJZHACAwzmdTp1yyimhn6ZNm4aON2rUSF6vV3l5efJ6vZKk3r17q7y8XCNHjtTWrVv1+eefa/LkyerevfsRR7El6e6779Zf//pXXX755frggw90+eWXV9rSCwf86kj2mDFj5PF49N///lcFBQWh4xUVFfrpp58iXhwAoDK7yyVfnI5kB7fvYo9sAACO39q1a3XHHXfotddeU8eOHdW4cWPNnj1b48eP1w033KCUlBRdf/31Gj58+FGf44orrtAVV1wh6cD67F9++UWnnnpqtF5CjfGrIbtXr17avHmzNm3apG7duoWO22w2nXvuuREvDgBQmcPp0r5v1ssIBGSxxtcujMFp8qzJBgDg2FwulzZt2hS63bFjx0q3pQNrsIN7YP8ar9erRYsWqV69eqFcmJycrJycHA0dOlQffPBBeIuv4X41ZLdt21Zt27bVxRdfLBcjBwBgOofLJfn98uXnyxFn21h5PbmyJCYq4ShT2AAAQGT83//9nzZv3qySkhIVFxerc+fOevjhh/Xll1+qf//+ZpcXc6rV+Gz79u168MEHVVRUFOpSJ4n90AAgyoLrkb3u3PgL2W63HE6XLBaL2aUAABBX1qxZo/fee0979uzR/fffr1deeUVZWVlasmSJmjVrZnZ5MadaIfvRRx/VjTfeqNatW/PLDQCYyO5yStKBddntzja5mujyud1KYt0XAABRV6dOHTkcDjmdTv3888+6/fbbNXjwYLPLilnVCtl2u139+vWLdC0AgGOwpdaVNaVO3HUYD/h88u3OV92LLja7FAAA4s6hA60NGjQgYB9DtbrmtGzZssoieQBA9FksFjlcrrgL2b5duyTDoLM4AAAmODRkJyYmmlhJzVCtkezs7GzdeOONatKkSaU3lTXZABB9DpdLkNiteQAAIABJREFU+zZuMLuMqPK6cyWJPbIBADBBdna2Bg0aVOXPQc8//7wZZcWsaoXsBx54INJ1AACqye50yf/5fxQoK5M1KcnscqIiuEe23ek0uRIAAOLPI488EvrzoVs748iqFbLPOOOMSNcBAKim4JRpr8etpFN+Y24xUeJ1u2WrV1+25GSzSwEAIO707NnT7BJqlGqF7AsvvFAWi0WGYYTm46enp+vTTz+NaHEAgKocruA2XnEUsj1u1mMDAIAaoVoh+4cffgj92efz6d///nelYwCA6LGnZ0gWS2idcjzwunNV97zzzS4DAADgmKrVXfxQdrtd1157rf7zn/9Eoh4AwDFYHQ4lNGokn8djdilR4S8pUWDfPkayAQBAjVCtkezCwsLQnw3D0Hfffafi4uKIFQUA+HUOpytuRrKDr9NOyAYAwFSlpaV6//33VVRUJMMwQsf79etnYlWx57jXZEtSo0aNKnWYAwBEl8PpUtGWLZV6ZdRWXveBzuIOJyEbAAAzPfDA/7N35+FNlXn/xz9pmnShpBulC2UHoShIGTbZ3FAfeUTcR8d1xt+ogLgwjviguIOCgKi4MuqIOiJKEVRERhRlFwYQEagKFAWaUtrS0DVpkt8fkAwVWZSmJ8v7dV1zjT1Jc76HpMn55D73975be/fu1SmnnBL25x8n4zfPyQYAGM+akSFvbY3c5fsVnZRsdDkB5SyyS2azLM3SjC4FAICItn37di1YsEDR0ScUIyPWCf3reDwevfrqq/rqq69UV1en/v3767bbbuMfFwAMYjmsw3i4h2yX3S5rWnOZzGajSwEAIKJlMHXrhJxQSp4yZYq2bt2qG2+8UR6PR++++64mTZqksWPHBro+AMCv8K+VbS9UfOccg6sJLGdRIfOxAQAIAqeccopuuOEGDRw4ULGxsf7tzMmu74RC9tKlSzVnzhxZLBZJ0llnnaWLL76YkA0ABolOSpbJavXPVw5XXo9Hrr171aTr6UaXAgBAxKusrFTr1q31008/GV1KUDuhkO31ev0BW5KsVmu9nwEAjcsUFSVrerpcReEdsl0l++Stq2P5LgAAgsATTzxhdAkh4YRCdufOnTVhwgRdd911kqS33npLp5xySkALAwAcmyU9U7U7C4wuI6Bcvs7ih+agAwAA46xfv16vvPKKqqqq5PV65fF4tGvXLi1ZssTo0oJK1Inc6aGHHpLD4dDVV1+tq666SmVlZRo3blygawMAHIM1I12ufcXyuFxGlxIw/jWyWb4LAADDPfDAA8rNzVVFRYWGDh2qhIQEnX/++UaXFXSOGbKdTqfGjBmjVatW6cknn9SKFSvUrVs3mc1mJSQkNFaNAIBfYU3PlLxeuYqLjS4lYJxFRYqKj5e5aVOjSwEAIOKZTCbdcsst6t27t9q1a6dnnnlGa9euNbqsoHPMkP3ss8+qoqJCubm5/m2PPfaYHA6HnnvuuYAXBwA4Ot88ZVdRocGVBI7TXihrRoZMJpPRpQAAEPGaNGkiSWrVqpV++OEHxcTEyO12G1xV8DlmyF6yZImmTJmi1NRU/7b09HRNmjRJn332WcCLAwAcne8S6nDuMO4qsh8csQcAAIbr2rWr7rrrLvXt21evvfaannzySZnNZqPLCjrHDNkWi6Xe+mc+CQkJslqtASsKAHB85vh4mW22sA3Znpoa1ZWVyZKebnQpAABA0v3336+bbrpJbdu21dixY+XxeDR58mSjywo6xwzZUVFRqqioOGJ7RUWF6urqAlYUAODEWDMy5QzTZbyce4sk0VkcAACjbdu2TZK0efNmWSwWfffdd0pLS9OwYcNUXV1tcHXB55hLeF100UV64IEHNGHCBMXHx0uSqqqq9MADD9BFDgCCgDUjQxXr1hldRkD4OouzRjYAAMaaOHGiXnnlFY0aNeqI20wmkxYvXmxAVcHrmCH7xhtv1EMPPaT+/furY8eO8ng82rZtm4YOHaqRI0c2Vo0AgKOwpGfIXXFA7ooKmcNs1QeX3S6ZTLI053JxAACM9Morr0iSPv/8c4MrCQ3HDNlRUVF67LHHdOutt2rz5s2KiopS165dlc78OAAIClZf87Miu+ISOhhcTcNyFtkVnZKiKHqAAABgqOnTpx/z9ttvv72RKgkNxwzZPtnZ2crOzg50LQCA38g3X9lptyuufZiFbLud+dgAAASBsrIySdL27du1Y8cODR48WNHR0Vq8eLE6depkcHXB54RCNgAgOFmaNZPMZrnCrPmZ1+uV025XYv8BRpcCAEDEGzdunCTphhtuUF5enlJSUiRJw4cP14gRI4wsLSgds7s4ACC4maKjZWmW5m8SFi7c5fvlra2RhaZnAAAEjeLiYn/AliSbzaaSkhIDKwpOjGQDQIizZmTIWVRkdBkNyrf2t2/OOQAAMF6nTp30f//3fxo2bJi8Xq/ef/99nX766UaXFXQYyQaAEGfNyJCryC6vx2N0KQ3Gt/Y3c7IBAAgejz/+uJo2barx48friSeeUEZGhh555BGjywo6jGQDQIizpGfIW1enupISWdLSjC6nQTjtdpmsVkUnJxtdCgAAOCQhIUGjR49WQUGBTjnlFDmdTsXGxhpdVtBhJBsAQpy/w3gYNT9zFdllaZ4uUxQfUwAABIsNGzZo8ODBuu2227R3716deeaZWrdundFlBR3OXgAgxPnXyraHT8g+uHwX87EBAAgmkyZN0j//+U8lJSUpIyNDkyZN0vjx440uK+gQsgEgxJltNkXFxclZFB4dxr11dXLtKyZkAwAQZGpqatShQwf/z2eeeabcbreBFQUnQjYAhDiTySRLeoZcYTKS7dy7V/J46CwOAECQiY6OVnl5uUwmkyRp+/btBlcUnGh8BgBhwJqRoerv840uo0G4Ds0tt6TTWRwAgGAyfPhwXXfdddq3b59Gjx6t5cuX69FHHzW6rKBDyAaAMGDNyNSBVSvlqa1VVEyM0eWcFP8a2RnpBlcCAAAOd/bZZ6tdu3Zavny5PB6PRowYUe/ycRxEyAaAMOBvflZkV2yr1gZXc3KcRYUyN7XJHN/E6FIAAICk/fv3+/87MTFRQ4YMqXdbUlKSEWUFLUI2AIQBX5MwV1FRyIdsV1ERTc8AAAgiffv29c/DliSv1yuTyeT//y1bthhYXfAhZANAGLA0P3hptdMe+h3GnfZCNemea3QZAADgkEsvvVTr1q3TOeeco8svv5xLxI+DkA0AYSAqJkbRKakhv1a2u7JS7gMHZM2g6RkAAMHiiSeeUHV1tRYtWqTx48erqqpKF198sYYOHSqbzWZ0eUGHkA0AYcKaniFnUWiHbN9IPMt3AQAQXOLi4jRs2DANGzZMdrtd8+bN0w033KA2bdpo2rRpRpcXVFgnGwDChCUjQ64iu7xer9Gl/G6uoiJJYk42AABBrLS0VKWlpSorK9OBAweMLifoMJINAGHCmpEhT3W13I5yRSeGZpdPp71QioqSpVma0aUAAIDDFBYWav78+Zo/f76ioqJ08cUXa/bs2UpPZ8nNXyJkA0CY8C/jZbeHbsgussuSliZTNB9PAAAEi+uvv147duzQkCFD9NRTT6lLly5GlxTUOIsBgDDhu8TaWWRXfKfOBlfz+zjtduZjAwAQZNasWaOYmBi99957ev/99/3bfUt4rVu3zsDqgg8hGwDCRHRKqkwWi1wh2mHc6/HItbdITU49zehSAADAYRYvXmx0CSGFkA0AYcIUFSVL8/SQXSu7rrREXpdLFpqeAQAQVFq0aGF0CSGF7uIAEEasGRlyHurQHWp8dXO5OAAACGWEbAAII9b0DLn2FctbV2d0Kb+Zf41sRrIBAEAII2QDQBixZmRKbrdc+4qNLuU3c9rtioqLk9mWaHQpAAAAvxshGwDCiOXQWpXOEGx+5rLbZUnPkMlkMroUAACA342QDQBhxJqRKengMl6hxlnE8l0AACD0EbIBIIyYmzSRuWnTkOsw7qmtVV1pCfOxAQBAyAtoyN63b5/GjBmjAQMGqGfPnrr55pv1/fffB3KXABDxrBmZIbdWtmvvoc7ih0biAQAAQlXAQrbH49Htt9+ugoICvfDCC5o1a5YSEhJ00003qaysLFC7BYCIZ0lPD7nLxX31+uaUAwAAhKqAheytW7dq/fr1mjBhgrp166YOHTroqaeeUlVVlb788stA7RYAIp41PVNuh0PuqiqjSzlhvkZtzMkGAAChLmAhOzMzUy+//LLatm3r3+brGFteXh6o3QJAxPPNaw6lDuNOe6GiU1IUFRNjdCkAAAAnJTpQD5ycnKyzzjqr3rY333xTNTU1GjBgQL3tDodDDoej3jar1armzZsHqjwACFuWQ6PBrqJCxbVrZ3A1J8Zpp7M4AAAIDwEL2b+0ePFiTZ06VX/+85/Vvn37ere98cYbmj59er1tPXr00DvvvNNY5QFA2LA2by5FRR1zXnZTW5xiYxrtI8CvprZOBxzV9bZ5vV65iuyK7XtGwPYbTMcbaJF0rAAABKNG+RTOy8vTuHHjNGTIEP39738/4vYbb7xRl156ab1tVqu1MUoDgLBjio6WpVnaMS8Xj42J1tC/zWvEqg76cMowHfjFNrfDIU91tazpgessHkzHG2iRdKwAAASjgIfsF198UdOmTdN1112nBx54wD8v+3A2m002my3QpQBAxLBmZITMnGzfiDtrZAMAgHAQ0JA9Y8YMTZs2TXfccYdGjhwZyF0BAA5jSc9Q1dYt8no8MkUFrMdlg3DRWRwAAISRgIXsrVu36umnn9bll1+uq666SsXFxf7bmjRpovj4+EDtGgAinjUjQ16nU3VlZbKkphpdzjE5iwplio5WdJDXCQAAcCICFrIXLFggt9utOXPmaM6cOfVuu/POOzVixIhA7RoAIp5vVNhpLwz+kG23y5KeEfQj7gAAACciYCF79OjRGj16dKAeHgBwDP61sovsanLqaQZXc2xOu10xLVoYXQYAAECDYNgAAMKQOTFJpphY/3znYOWtq5NrX7GsGYHrLA4AANCYCNkAEIZMJtPBDuPHWCs7GLj27ZPcblloegYAAMIEIRsAwtTBZbwKjS7jmHz1sXwXAAAIF4RsAAhT1vQM1ZWWyuN0Gl3KUfnXyGYkGwAAhAlCNgCEKUtGhuT1yrW3yOhSjspVZJc5oanMCQlGlwIAANAgCNkAEKZ8zcScQdz8zGm3H/wyAAAAIEwQsgEgTFmbp0tSUM/LdtoLuVQcAACEFUI2AISpqNhYRScny1UUnJeLu6uq5HY4aHoGAADCCiEbAMKYJT1DzqLgHMl2+ZqeEbIBAEAYIWQDQBizZmTKabfL6/UaXcoRfHPFLemZBlcCAADQcAjZABDGrOnp8lRVyV1xwOhSjuAssksmkyxpaUaXAgBA2NmwYYO6dOmi1atXn9D9b731Vl1//fUBrioyELIBIIz5Ooy7grDDuNNul6VZmqIsFqNLAQAgrFRVVenee++V2+0+ofvPmjVLS5YsCWxREYSQDQBhzLc8VjB2GHcVFTIfGwCAAHjyySeVnp5+QvfduXOnnn76aeXm5ga4qshByAaAMGZJbSZTdHTQrZXt9XjkLCqSheW7AABoUF9++aWWLFmiBx544Lj3dbvdGjNmjP7f//t/at++fSNUFxkI2QAQxkxRUbI0b35w/nMQqdtfJq/TyUg2AAAnoLCwULt27ar3P4fDccT9SktLdf/99+vxxx9XYmLicR/35ZdfliTdfPPNDV5zJIs2ugAAQGBZ0zPlLNxjdBn1+EbWfXPGAQDA0V177bXavXt3vW233367Ro0aVW/bQw89pHPOOUeDBg2S/ThXsW3atEmvv/663n//fUVFMfbakAjZABDmLOnpqti4QV63Wyaz2ehyJEmuQ3PEuVwcAIDje/vtt49oYmaz2er9PHfuXG3evFnz588/7uPV1tbq3nvv1V133aXWrVs3aK0gZANA2LNmZEput1z79sl6gk1QAs1ZVCRTTKyik5KMLgUAgKCXmXn8K7/y8vJUVFSkAQMGSJK8Xq8k6a9//asuueQSPfroo/77fvPNN9q2bZsmT56syZMnS5KcTqc8Ho9yc3P18ccfKysrKwBHEhkI2QAQ5nzznp1FhcETsu0HazGZTEaXAgBAWJg8ebJqamr8PxcXF+vaa6/V448/rv79+9e7b7du3bRo0aJ626ZOnao9e/Zo8uTJat68eaPUHK4I2QAQ5uqtld3N4GIOcRbZFdeug9FlAAAQNn65ZFdMTIx/e2pqqpxOp8rLy5WYmKjY2NgjLhNPSEj41e347ZjhDgBhzpyQoKgmTYJmGS+P06m6khJZgmRUHQCASLB+/XoNGDBA69evN7qUsMdINgBEAGtGZtAs4+Uq3it5vXQWBwAggDIyMpSfn+//uU+fPvV+/qXx48c3RlkRgZFsAIgA1vSMoBnJdh7qLM4a2QAAIBwRsgEgAlgzMuQu3y93dbXRpfx3jWwuFwcAAGGIkA0AEcC3HrWrqMjgSiRXkV3mpCRFxcYZXQoAAECDI2QDQATwzX92FhUaXMnBkWzmYwMAgHBFyAaACGBp3lwymQyfl+31eg+G7HTmYwMAgPBEyAaACBBlsciS2kwuu7Ej2XUOhzxVlYRsAAAQtgjZABAhLBkZcho8J7t6T6G/FgAAgHBEyAaACGHNyJCzyC6v12tYDdW7dx+qhTnZAAAgPBGyASBCWNMz5K2tVV1ZmWE1VO/eI5nNsqSmGlYDAABAIBGyASBC+EaPXUXGNT+r3r1H1ubpMpnNhtUAAAAQSIRsAIgQvrWyjewwXr17D/OxAQBAWCNkA0CEiE5OlslqNWytbJPXoxqW7wIAAGGOkA0AEcJkMsmanmHYSHaiq0LeujpZGckGAABhjJANABHEmpFh2JzsFJfjYA3pdBYHAADhi5ANABHEkpEp17598rhcjb7vVF/IZiQbAACEMUI2AEQQa3q65PWqprDx52WnOB2KTkhQVEJCo+8bAACgsRCyASCC+Jbxqt5tQMh2ORTXIksmk6nR9w0AANBYCNkAEEF8y3hV797d6PtOcZYrrkVWo+8XAACgMRGyASCCmOPiZE5MUvXuPY26X6vHpabuasW1aNGo+wUAAGhshGwAiDDW9PRGD9nJzoNNz2Kz6CwOAADCGyEbACKMNSNT1XsaN2T7lu9iJBsAAIQ7QjYARBhrRobqDhxQrLum0faZ6iyXV1JcJst3AQCA8EbIBoAI42t+lnroEu7GkOJyqDw6QVFWa6PtEwAAwAiEbACIMNaMgyHbdwl3Y0hxOVRqtTXa/gAAAIxCyAaACGNpliZTdLRSGmsk2+tVstOhUgshGwAAhD9CNgBEGJPZrNiM9EYbyU5wVyvGW6cSRrIBAEAEIGQDQASKy8pSiqu8UfaV6jy4H0ayAQBAJCBkA0AEimuRpWTnAZm8noDvK/nQiHmpJTHg+wIAADAaIRsAIlBciyxFyyNbXWXA95XqdMhpitaB6PiA7wsAAMBohGwAiECxWVmSGmcZrxSXQ2WWppLJFPB9AQAAGI2QDQARKK5FC0mNs4wXy3cBAIBIQsgGgAhkSbSpJsqqFGdgm5+ZvW4luiqYjw0AACIGIRsAIpDJZFKJxRbwkewk1wFFycvyXQAAIGIQsgEgQpVZbUoJ8Jxs35xvlu8CAACRgpANABGqxGKTzV0li8cVsH34l+9iJBsAAEQIQjYARKhS68F50oG8ZDzVWa4Kc5ycUdaA7QMAACCYELIBIEL5LuEO5CXjKS4Hl4oDAICIQsgGgAhVZmkqrwI7kp3iZPkuAAAQWQjZABCh6qKi5YhuErCR7Fh3reI9tYxkAwCAiELIBoAIFshlvHzhvcTKGtkAACByELIBIIL5l/Hyehv8sX3hnZFsAAAQSQjZABDBSiyJivG61MRd3eCPneIql1smlVsSGvyxAQAAghUhGwAimK8pWWoA5mWnOh3ab2kqj4mPGgAAEDk48wGACOZfxisA87JZvgsAAEQiQjYARDBHdBO5TOYGD9kmr0fJLpbvAgAAkYeQDQCRzGRSmcWmFGd5gz6sra5S0V6PSix0FgcAAJGFkA0AEa7E2vDLePmW72IkGwAARBpCNgBEuFKLTUmuCkV53Q32mCzfBQAAIhUhGwAiXKnFpih5leSqaLDHTHE5VBNlUZU5tsEeEwAAIBQ0Wsh+8MEHdf/99zfW7gAAJ6jUenDedGoDzstOdZar1JIomUwN9pgAAAChIOAh2+v16plnntG7774b6F0BAH6HQCzjlUJncQAAEKGiA/ngP//8s8aOHasffvhBWVlZgdwVAOB3qjVbVWmObbCQbfG4ZKurYj42AACISAEdyV63bp0yMzP14YcfKjs7O5C7AgCchFKLzd8R/GQluw5IOti1HAAAINIEdCR72LBhGjZs2HHv53A45HDUP7mzWq1q3rx5oEoDABymxGpTx8pdDfJYvjW3S1kjGwAARKCAhuwT9cYbb2j69On1tvXo0UPvvPOOQRUBQGQptdjUxF2jGHetas0xJ/VYKYdGssssTRuiNOCYmtriFBvT+KczNbV1OuCobvT9cryNI5KON5KOVYq844UxguKZvvHGG3XppZfW22a1Wg2qBgAij6/DeIrLoUJz2kk9VoqzXOXRTVQXFRQfMQhzsTHRGvq3eY2+3w+nDNOBRt8rx9tYIul4I+lYpdA73pw2yZo0alAAKkIgBcUZkM1mk83G3D0AMIqvSVmq06HC2JML2akuB03PAABAxGq0dbIBAMFrvyVBHplOvsO416sUJ8t3AQCAyEXIBgDIYzJrvyXhpDuMN3HXKMbrYiQbAABELEI2AEDSwW7gKa7yk3oM3++XWOksDgAAIlOjzcl+8803G2tXAIDfocRqU+vqQsnrlUym3/UYvpFwRrIBAECkYiQbACDpYDC2eN2y1VX+7sdIcTnkMpnliG7SgJUBAACEDkI2AECS/M3KTqb5WarTcXB97N85Eg4AABDqCNkAAEkH52RLUqrz98/LTnGV+x8HAAAgEhGyAQCSpEpzrGpNlt89kh3ldSvJVcHyXQAAIKIRsgEAB5lMKrXafvcyXkmuCkXJS9MzAAAQ0QjZAAC/Eovtd49k+36vhJFsAAAQwQjZAAC/MqtNiXWVivbU/ebfTTk0l5uRbAAAEMkI2QAAv5JDATnZdeA3/26Ky3FwXrc5pqHLAgAACBmEbACAX6n1YGfwFNdv7zCe6nQwig0AACIeIRsA4FdmaSrpYGD+rVJcDjqLAwCAiEfIBgD4uaIsckTH/+bmZzFup5q4axjJBgAAEY+QDQCop9Ty25fx8oVyQjYAAIh0hGwAQD0l1sSDc7K93hP+HV9n8ZJDc7oBAAAiFSEbAFBPmcWmWI9L8e6aE/6dFJdDHpm035IQwMoAAACCHyEbAFCPbxmv3zIvO8Xl0H5Lgjwmc6DKAgAACAmEbABAPb4O4b9lXjbLdwEAABxEyAYA1OOIbqI6U5RST3StbK9XyS6Hf41tAACASEbIBgDU4zVFqew3dBi31VXK4nUzkg0AQBDZsGGDunTpotWrVx/1PgsWLNCwYcPUvXt3nXfeeXrllVfkdrsbscrwFG10AQCA4FNqsamZc/8J3ZfluwAACC5VVVW69957jxmYv/zyS91zzz0aO3asBg0apM2bN2vcuHFyuVwaOXJkI1YbfhjJBgAcocRqU5LrgKK8nuPe1zfiXWIlZAMAEAyefPJJpaenH/M+s2bN0vnnn6/rrrtOrVq10v/8z//opptuUl5eXiNVGb4YyQYAHKHMYpNZXiW6KlR2nPCc6ipXrSlalea4RqoOAAAczZdffqklS5ZoxowZuvjii496v+HDhys+Pr7etqioKDkcJ974FL+OkA0AOEKJ5WATsxSX47ghO9l5qOmZydQYpQEAEHEKCwuPuPTbZrPJZqv/GV1aWqr7779fEyZMUGLisRuSduvWrd7PFRUVeueddzRw4MCGKTqCEbIBAEfwLeOV6izXtibZx7xvqsuhXbHNG6MsAAAi0rXXXqvdu3fX23b77bdr1KhR9bY99NBDOuecczRo0CDZ7fYTfvzq6mqNGDFCtbW1+tvf/tYgNUcyQjYA4Ag15hhVRcX4m5odTbSnTra6Sn8oBwAADe/tt9/+1ZHsw82dO1ebN2/W/Pnzf9Njl5aWasSIEfrxxx/12muvqUWLFiddb6QjZAMAflWp9fjLeCW7DsgkOosDABBImZmZx71PXl6eioqKNGDAAEmS1+uVJP31r3/VJZdcokcfffSI39m1a5duvvlmVVZW6q233lLnzp0btvAIRcgGAPyqUotN7ar2HPM+/uW7GMkGAMBQkydPVk1Njf/n4uJiXXvttXr88cfVv3//I+5fUlKiG264QWazWe+8845atmzZmOWGNUI2AOBXlVgT1e3ANlk9TjmjrL96nxRnuSRGsgEAMNovl+yKiYnxb09NTZXT6VR5ebkSExNltVr1yCOPqKysTG+88YZiY2NVXFwsSTKZTGrWrFmj1x9OCNkAgF9Vdig4pzgdssf++odtqsshhzlerihLY5YGAAB+o/Xr1+uGG27QzJkzdfrpp+vf//63PB6Prrzyynr3M5vN2rx5s0FVhgdCNgDgV5UcugQ8xXX0kH1w+S5GsQEACDYZGRnKz8/3/9ynT596P2/ZssWIsiJClNEFAACC035LU3lkUurRmp95vUp1ObhUHAAA4DCEbADAr3KbzCq3JCjFVf6rt8e7axTrcarUmtjIlQEAAAQvQjYA4KhKLUdfxsvfWZyRbAAAAD9CNgDgqEotNiW7DkiH1to8nC9klzAnGwAAwI+QDQA4qhKrTVZvnZrWVR1xW4rToTpFyRHdxIDKAAAAghMhGwBwVP5lvH5lXnaqq1xl1qbymvgoAQAA8OHMCABwVCWHmpr5Lg0/XLLzgEotND0DAAA4HCEbAHBUFeY41Zr6ai51AAAgAElEQVSij1jGy+T1KNl1gKZnAAAAv0DIBgAcncmkMqvtiJHsJFeFzPKolKZnAAAA9RCyAQDH9GvLeLF8FwAAwK8jZAMAjqnUYlNiXYXMHrd/my90s3wXAABAfYRsAMAxlVgTZZKUfNgl4ymuclVFxajGHGtcYQAAAEGIkA0AOCbfJeGph4XsVKeD+dgAAAC/gpANADimskNhOvmwednJLgfzsQEAAH4FIRsAcEzOKIsOmOP8I9lWj1NN3dWMZAMAAPwKQjYA4LhKrYlKcZZL+m/Ts1JLopElAQAABCVCNgDguEoth9bK9npZvgsAAOAYCNkAgOMqtdoU53EqzlOrFKdDHplUZm1qdFkAAABBh5ANADiukkOj1ilOh1JcDpVHN5HbZDa4KgAAgOBDyAYAHNd/l/EqV6qznKZnAAAAR0HIBgAcV7klQW5FKcXpULLrAE3PAAAAjoKQDQA4Lq8pSmWWpmpVbZfVW8dINgAAwFEQsgEAJ6TUalNWbcnB/6azOAAAwK8iZAMATsjhwZqRbAAAgF9HyAYAnBBfsHaaonXAHG9wNQAAAMGJkA0AOCElh5qdlVptkslkcDUAAADBiZANADghvpFs5mMDAAAcHSEbAHBCqqNiVBCXoW3xLYwuBQAAIGhFG10AACBEmEya1eJ8o6sAAAAIaoxkAwAAAADQQAjZAAAAAAA0EEI2AAAAAAANhJANAAAAAEADIWQDAAAAANBACNkAAAAAADQQQjYAAAAAAA2EkA0AAAAAQAMhZAMAAAAA0EAI2QAAAAAANBBCNgAAAAAADYSQDQAAAABAAyFkAwAAAADQQAIast1ut6ZMmaIBAwYoNzdXd9xxh/bt2xfIXQIAAAAAYJiAhuznnntOc+fO1cSJE/XWW2/Jbrdr1KhRgdwlAAAAAACGCVjIdjqdmjlzpkaPHq3+/fvr1FNP1dSpU7Vu3TqtW7cuULsFAAAAAMAwAQvZW7duVWVlpXr37u3flp2drRYtWmjt2rWB2i0AAAAAAIaJDtQD2+12SVJ6enq97c2bN/ff5uNwOORwOOpts1qtat68udpkNv3dNURHG9PXLadNsiH75XgDL5KOVeJ4GwvH2zgi6Xgj6VgljrexcLyNw4jjjaRjlULreE8mC8E4Jq/X6w3EA8+bN0/33XeftmzZUm/7DTfcoJYtW2r8+PH+bc8995ymT59e735XX321HnnkkUCUBgAAAABAQARsJDs2NlYej0d1dXWKjv7vbpxOp+Li4urd98Ybb9Sll156xGNUVVUpPj4+UCUCAAAAANCgAhayMzMzJUnFxcX+/5akvXv3HnEJuc1mk81mC1QpAAAAAAA0ioBNSOjcubOaNGmir7/+2r9t165d2r17t3r16hWo3QIAAAAAYJiAjWRbrVb96U9/0qRJk5ScnKzU1FQ98sgj6t27t7p37x6o3QIAAAAAYJiANT6TpLq6Ok2ePFlz585VXV2dBg4cqAcffFApKSmB2iUAAAAAAIYJaMgGAAAAACCSGLNIHAAAAAAAYYiQDQAAAABAAyFkAwAAAADQQAjZAAAAAAA0kJAL2R6PRx6Px+gyGkWkHOfhIqEPX7gf4969eyVF5usXkcvr9Yb933YkcjqdcrlcRpfRqCoqKlRTU3PEdl7fAHDizA8//PDDRhdxLF6vVyaTSZLkcrkUHR3t/zmceb1eRUVFae/evbLb7dq+fbvi4+MVGxvrvz0c/x3C8Zh+6fBj9J20hMtxezwe9ezZU5deeqkSExP1+eefKy0tTVar1ejSGl24PbeH83g8YXlcv5Xv32Hr1q2aNWuWZs+erXXr1unAgQOKjY1VYmKi0SXiJHz11VcaO3asWrdurezsbOXn52vZsmWyWCxhtxSp75xiw4YNmjx5ssxmszp27Kgff/xRmzZtUmpqqmJiYsLi3CMcjuFkuFwuFRUVaeHChdq3b59atmypqKiQG3OLeB6PJ+Jfy8EuJJbwKisrU15enpYvX67t27fr+eefV2Zmpv9DLlxfZJ999pmeeeYZ7dixQzExMcrLy9Pu3buVm5uruLg4o8trEB6PR1FRUdq3b5/mz5+vbdu2qXPnzsrNzVV2draaNm0qs9lsdJkNpqCgQDt37lT79u2VnZ1tdDkNrrq6Wl9//bXOPPNM7d69W+eee66io6OVnZ2tgQMHavDgwerTp4/RZQZEaWmptm/frubNm6tly5Zh+Z50uGXLlmnXrl0ymUzKzs5Wly5dlJycbHRZhhg2bJj279+vdu3ayeVy6cCBAzKbzWrRooWysrJ06623hmQoKykpUX5+vn7++WdlZWWpb9++MpvNYX1C7juf2L59u26//Xbl5ORo5MiR2rdvn0aNGqXk5GS1atVK06ZNU3x8vNHlNiin06krr7xSCQkJGjNmjKxWq+6++27Z7XY1a9ZMr7/+ekh+btXU1GjPnj1KS0tT06ZN690WruePv+Q71yoqKtJrr72mvLw8NWnSRC1atNDkyZO1evVqDR48WAkJCUaX+psVFxfL7XYrJSUl7L/Q3717t2pra9WuXbsjbouU13IoiTa6gOOpra3V+PHj9c033+jyyy/XihUr5PV6NWPGDEnSvffeG1YvKt8b4fr16zVt2jRdfPHF6tu3r2666SbFxsZq5syZmjp1qv71r3+FxZuJ7zueyZMna9WqVWratKm++OILlZWVqUWLFurdu7e6d++us88+W2lpaQZXe3JmzJihvLw8/+u1VatWysnJUb9+/ZSRkaGWLVuG/Juk2+3WoEGDJEktWrTQnDlz9OOPP2rNmjVasWKF3nnnHUVHR6tt27a64oordO211xpcccNYunSpnnnmGe3Zs0elpaVKSUnR4MGD9de//lUtW7Y0urwGVVVVpRkzZuif//ynrFarPB6PYmJi9Ic//EH33HNP2B3v0fj+VteuXavCwkItXLhQNptNO3bsUH5+vvLz87Vjxw6tWbNGo0ePNrrc3+zrr7/Wyy+/rPz8fH/ATElJ0c6dOzVkyBCjywsYj8cjs9msjz/+WMnJyZoyZYoKCgr0/PPP67TTTtP111+vyZMna+7cuWHz/uU771iyZImqqqo0b948lZWV6bHHHlN0dLRefPFFTZs2TfPmzdPIkSONLveEuN1umc1mffbZZ/rXv/6lAwcOKC0tTR06dNApp5yi0047TRkZGYqNjQ35z90T4TvXevbZZ1VcXKxZs2Zp+vTpiouLU0VFhaZPn678/HyNGTPG4EqPz/fcrl69WjNmzNCOHTvUpk0bdenSRR06dFDbtm2VmZkZ8ueMPr7X5xtvvKF58+Zp//79iouLU05Ojvr27au+ffsqOzs77F/DoShoQ7bvj2jx4sXatGmT5s+fr+3bt+utt95SmzZt1LZtW02YMEGDBg3SGWecYXS5Dcb3YTdnzhx16tRJt9xyi15//XV17txZ6enpuvnmmzVmzBgtW7ZM55xzjtHlnjTfKPWiRYs0ceJEnX322fJ4PNqyZYuWLVumlStXKi8vTy+88ILOOeeckP0w9Hg8evXVV3XppZeqa9euuv/++5WVlaWPPvpIb7zxhqqqqvTWW2+pZ8+eRpd6UsaPH6+6ujqdeuqpOvXUU9WhQwedeuqpGjZsmMrLy7V9+3Zt3rxZn332mX/udl1dnaKjg/at6Kh8r8UdO3boySefVKdOnTRq1CjFxsZqzZo1+uijj7R//35NnTo1JI/vl3zvyQsXLtQnn3yi+++/X1dccYXKysr01Vdf6eWXX9Y999yjd9991+hSG1VRUZEGDBig5ORkmUwmdezYUR07dtRFF12kAwcOqLCwMCQvs33qqaeUk5OjV199VcOGDVOzZs20f/9+3XvvvaqoqNBVV11ldIkB4XuOtm7dqoEDB0qSZs6cqdraWt11113Kzc3VggULtHPnTkn//cwOB2vWrFG3bt0kSfPmzVN+fr7uvPNO/4n8t99+Kyk0jtl3bjF58mRlZ2erX79+euONN/Tzzz/rww8/VFJSkoqLizVp0iT169fP4GoDz/fv8fnnn2vSpElq3769duzYoauvvlodO3bUVVddpc8//1yFhYXKzMw0uNpj8/2NTpw4UUlJSRo6dKgKCgq0aNEizZ07V82bN5fNZtMdd9yhHj16GFztyfF9buzdu1fPPvuszj//fOXk5KiwsFDff/+9ZsyYoRdeeEEWi0XvvPNOSF4xFc6C/sxv6dKl/sujFyxYoJycHCUkJOjyyy/XypUrtXTp0rAK2b43wt27d/sD16JFi/wf9r169VJ2drZ++uknSaHxYXc8xcXF6t69u9q1a+cPI6effrpOP/10jRw5Uvv37/df4hVKJ6mHW7p0qaKjozVmzBg5HA61bdtWY8eO1bZt2/Too4/qjjvuCPmA7WsOtGfPHm3dulXz5s1Ts2bN1KZNG+Xk5KhLly7q1KmTcnNzde2118rpdEpSyE4HOHzEKyUlRVOnTvVv79Wrl9q1a6cJEyZoxYoV/tH9cLBw4UJdeOGFuuKKKyRJycnJGjZsmNLT0/Xwww9r6dKl/verSFBRUaGdO3dqzZo16t27d73bmjZtGpLvXbt379a2bdv05ptvqrq6Wj///LN69uyp9u3b6/LLL9fixYs1dOjQsJm2dDjf52mvXr00e/ZsVVVVadasWRo3bpxyc3Pl9Xr1n//8JyRG/E6E2+32vzZ79+6tV155Rf/85z/16quv6qKLLtL5558vSVq/fr169eolKfgboPmCydatW7V3717NnTtXcXFxWrhwoR566CFt3rxZU6ZM0SWXXKLu3bsbXW6jKS4uls1mU1pamv99y3f+PGTIEL366qsh8XkcFRWl8vJy7dixQx9++GG9KQzffvutVq5cqX//+99h0RPD91r+8ssv1bp1az3xxBOSDl7lu3fvXu3atUvff/+97HY7ATsIBW3I9v2ht2vXTmvWrJEkrVy5Updffrn/9sLCQnXp0sWwGgPB92E3ZMgQvffee/rTn/6k7du3a/z48ZIOjprk5+frnnvuqXf/UOR780hLS1OfPn309NNP6+6771aLFi38Dd4kKSkpycAqG8amTZv8IXrjxo3+RiPnnXeelixZIofDYXCFJ89iseiJJ56Q0+nUli1btHbtWn333Xdav369VqxYodjYWGVmZqp9+/bq3LmzLrzwQkmh+xr2nYwXFBSoa9euR2wfMmSIFixYoI0bN2rQoEEh/4WY7z35l13j6+rq5PF41LdvX8XExOjAgQP++4Xy8R6PyWRSXV2dvvjiC/30008aOXKkBgwYoJ49e6p79+7q1KlTyF7BsG3bNmVmZspsNmvVqlVKSUlRixYtJElnn322HnvssbAM2Ie74oortG3bNi1btkyXXXaZrrnmGn366af66KOPlJCQoLPOOkuSQv41fnio6tmzpxYsWKAXX3xRubm5GjVqlDZt2qS8vDzZ7Xb97//+r6TgP2bfucXq1av9gzTr1q1Tu3btlJGRoZ49e2rjxo3KzMwMu3n1x5KQkKCuXbtq/vz56t27t1q2bKnWrVvL7XZr48aNslgsat68eUhcdWO329W7d+8j6uzatau6du2qW265xaDKGpbv+JKTk5WTk6OKigolJCQoJiZGLVu2VMuWLXXGGWeotrbW4Erxa4L+DODcc8/VBx98oGnTpqmgoEA5OTkqLi7WF198oV27dum8884zusSAOOecc/T+++/rmmuukcvl0urVq/Xdd98pLy9Pbdu29V/SFexvhMfieyOfOnWqZs6cqZqaGu3du1ft2rVT27Zt1blzZ7Vp00atW7c2utST1qlTJ7333ntasWKF/znzhZWysjJlZWUZWV6D8C1hZLVa/VciSJLD4dCmTZu0bt06bdmyRZ988ol27NihCy+8MCQ+zI/GV3f//v31zDPP6LzzzlNubq7/9traWm3evFmXXHKJUSU2mMMD80UXXaQnnnhCAwcOVLdu3fxBcsOGDdq5c6f/y6RgPxFvCB6PR9dcc40GDx6s7777Tjt27NDs2bM1e/Zs2Ww25eTkaOzYsUaX+Zv94Q9/UFJSkmbNmqXt27erd+/eio2NVUVFhf7973+rY8eORpcYcAkJCXrsscdUXV2tuLg4FRcXa8WKFXI4HBo3bpysVmtIv39J0pw5c5Sfn6/LLrtMnTt3VnJysp5++mk5nU5ZrVZVVFTo3Xff1cqVK/Xwww+rbdu2koL/vMP33pOUlKSioiJ99913qq2tVXx8vP8L7fj4eJWVlUkK/y8EpYOfz3Fxcbr44ot177336rXXXlP79u311VdfaenSpfrqq6909dVXS/rvVVrByDdtyW63a+/evXrqqac0YsQIZWZmHtHULhz4/tYWL16sxYsXq2PHjrrmmmsUExNT736//BnBIei6i5eWliouLq7et+Qff/yxJkyYoJKSErVp00ZNmjTRrl27dOutt+ovf/mLgdU2HN8bhyR9+eWX6tKli7/B0ObNm1VXV6fS0lKdfvrpuueee9S2bduw+GBwOp3q2bOnRo8ereTkZH333XfKz89XWVmZLBaLvF6vpk2bplatWhld6klxu9168MEH1atXL/Xs2VOXXXaZHnnkEVmtVo0ZM0avvfaa/4uTcFBUVKQNGzYoLi5Obdu2rdcMq6ioSFVVVWHzGi4tLdXtt98up9OpYcOGKScnRyUlJfrwww+1c+dOzZkzJ2yaFJpMJhUVFWncuHH64Ycf1LNnT6WlpamyslL/+c9/1KlTJ02ZMiXkw8fvtW/fPv3www/asmWL1q9fr8zMTI0dOzYkX+dz5szRs88+q3379ik3N1eDBg3SypUrVVJSovvuuy/s57EuXbpUS5culc1m01VXXaW0tDTV1NTIbDaHxd+zJE2fPl1vv/22HA6HLBaL+vbtq/PPP199+/at98VvKL5+pYPnF8OHD9e5556rfv366aabbtLEiROVlZWl6667TuPGjdPgwYND9viOp7a2Vp9++qn69Omj9PR0//adO3dq9uzZWrlypbZt26ZWrVrpL3/5i8477zwlJCSExPv38OHDtXbtWtXW1qpDhw467bTT1KlTJ7Vv316ZmZlhtSxZeXm5nnjiCRUUFGjTpk1KSUlRx44d1bt3b51xxhlhde4YboIuZF911VW666671K9fP/3www+Kj49XixYtVFdXp2+++UarVq2SJA0ePFidOnUyuNqGs3TpUm3fvl2DBw/WNddco5deesl/KfzPP/+sXbt2qVOnTmG3bNnGjRv10EMPae7cuf5tXq9X+fn5Wr9+vTZt2uS/VD7UVVRUSDo4QnL//fdr/vz5SkxM1BlnnKGnnnrK4OoajtPp1D333KPFixfL6/UqLS1NLVq0UK9evdSnTx/V1taqf//+IXui+vPPPys+Pl5JSUn+L8a2bt2q559/XsuXL1dVVZWysrLUpk0bjRgxQj179gzpv9eJEyfq2muvrTfvrbKyUjNnztR//vMf/8jQwIED9ec//zlkTtIawtq1a7Vw4UJFRUX5m/21atXK/9quqakJ6e7F33zzjfLy8lRYWKjCwkIlJyfrvvvuC7tpWodzuVx65plnNH/+fHXp0kVLlizRBx98oIULF6p9+/YaOnSo0SU2mMrKSpWWlmr37t36+uuv9cILL/hvS0pK0sCBAzV06FDl5uaqadOmIfk6LigokCS1adNGN998s/Lz82W1WtW8eXPNnDkzZD+HTsTatWt13XXXyWq1qmXLlurXr58GDhyoHj16KCYmRnV1dTKbzaqrqwv6y+bLysoUHR1db7S6oqJCa9as0dKlS7V+/XoVFxerSZMmSk5O1owZM8JqZLu0tFTl5eXas2ePNmzYoPz8fO3cuVN2u12nnXaaXn31VaNLxK8IupD9j3/8Q5dddplSUlLUp08fNW3aVL169VKvXr3UtWvXsL1M7YsvvtCYMWNUWVkpt9ut888/X2eddVa9b5Rra2v1wgsv6JZbblGTJk0Mrvjk+Ebuv/nmG73++usaOnSozj33XKPLCoi6ujoVFhbK4XAoPj5ezZs3V1xcnFasWCG3261+/frJYrEYXeZJ8z2nixYt0oMPPqjnn39ebrdbt9xyi4YMGaJFixapoqJCHTp00EcffWR0ub/bgAEDZDab1a9fP51xxhnKycnxvy95PB79/PPPKi8vV05OTsg/rxUVFRo5cqReeuklxcXF6dZbb1WbNm00YMAA5ebmKiEhwT9HzOfwq3LCWWlpqW688UZVVVXJZDLJbrcrLi5OHTt2VJ8+fXTgwAHdddddIbnubGlpqdatW6fk5GT/0jApKSkhO8f8RBz+/vXcc89pwoQJqqur091336358+fr9ddf1wcffKBZs2bVGxUMB7t27dK4cePUvn17nX322YqKitK3336r999/399kddWqVSHXH8XXL8LlcqlJkyYqKSnR3LlzVVNTo8svv1yZmZkh+cXBb+FrRLpixQqtXr1aO3bskNlsVrdu3TRgwACdccYZOvXUU4P+PfvBBx9UeXm5nnnmGW3cuFHV1dVHzMnevXu3li1bpu+//17jxo0zsNrAsNvtMplMSk9PV3l5uQoLC7VhwwalpaXp3HPPjZjP3lASdCFbqt+04osvvtCSJUtUUFAgq9WqDh06qE+fPurWrZsuuOCCsLkcRDr4Dfpjjz2mjz/+WKeffrq+/fZbVVZWqlWrVurTp49MJpM+++wzLVu2zOhST5rvOR4+fLi++OILtWjRQn/84x913nnn+ed9hYtHH31UH3zwgaxWq9q0aaNTTjlFXbp0UW5urpKSkpSWlhYWr2PfG/zf/vY3JSQk6JFHHlFeXp6WL1+uKVOmaPbs2XrzzTd1zz336MwzzwzZS/TWrVvnX9lg06ZNSkxMVEZGhnr06OG/dCs5OVlS6HZOP5xvSZfCwkKNGzdOVVVVKisrU0xMjFq3bq2uXbuqc+fOOu2000LuJPz38L3O//Wvf+n111/XggUL9NNPP+m2227T6NGj/VN8zjrrLL300ktGl/ubrVixQs8//7wqKyu1detWTZgwQa1atVJFRYX69++v6OjosAwlvud19OjRiomJ0RNPPKGnn35a3333nf7xj3+ooKBA9957r4YMGaKbbrrJ6HIbhMvlksVi0fTp07VmzRq98cYbkv77+bx8+XI9++yzuv7663XRRReFRCD11Th79my9/vrrqqmp0amnnqqePXvq9NNPV+fOncO+aZ/P1q1blZ2d7f+iz+12q6CgQN98842WL1+udevWad++fXK5XJo0aZIuvvhigys+up07dyoqKkotW7bUuHHj9N577ykxMVFdunTRoEGDNGjQILVv397oMgNiy5YtevDBB2U2m/Xzzz9r5syZqq6uVqdOnfzTKoP97zJSBd3X0oefePfp00d9+vTRfffdp9raWi1ZskSLFy/W7NmztWTJEn934nBhsVh022236c9//rPatm2rXbt26ccff9Ty5cu1atUqeTwe3XbbbZJCd21h34mMyWSS1+vV9ddfrzPOOENff/21Zs6cqalTpyoxMVF9+vRR//79deWVV4ZkEPPZuXOn8vLy9Pe//13p6elauXKl1q9fr88//1yxsbFq1qxZ2FzW5AuU5eXl/i9KSktL1axZM5WWluriiy/WokWL/K/bUP1Q6NGjh3r06KGrr75aL730kj799FN16NBBK1eu1Ntvv63ExET94Q9/UI8ePcKiZ0RmZqY8Ho8yMzP13HPPqaioSAUFBVq/fr22bt2qBQsWaN68eUpISFCHDh00ZMiQsFpW8WiWLVumIUOGyGKxaPXq1erZs6cuvPBCJScna/r06br55pslhdZ8Vo/Ho4kTJ6pv37664YYbdMUVVyg7O1s7duzQCy+8oOeee06nnXaa0WUGhO/9Kz4+3r/0z9KlS/0rmrRp06belSnhMGrkey8uKSmRzWbzbz+8qeMHH3zgv+Q6FJhMJlVUVGjixIk6//zz1apVK61YsUJTp06V0+lUmzZt1LFjRz322GNh/aVgcXGxRo8erXbt2vm/3O/atatatWql9u3b67LLLlNVVZW2bdumr776Sqeeeqqk4H2/OrwB7ujRo/XHP/5RGzZs0KpVqzRjxgxNnDhRmZmZateuncaPH6+MjAwDqz15vufh22+/1aOPPqqcnBxlZmZq5syZiouL03PPPaekpCSNHTs2rKc8hLqgS2m+N/fS0lItWLBAdXV16tevn0455RRdcMEFuuCCCyT9d35ruMnKytKqVavUrFkzZWdnKzs7279UiPTf9SlDMWBL0gcffKDa2lr96U9/UmVlpXr06KF+/frp+uuvl91u1/fff68NGzZo5cqVevnll/XHP/7R6JJPysaNG9W9e3dde+21kg72EpAOXsK1fPly5efnh0XAPtwFF1ygV199VVdeeaXi4uK0e/dupaSkyOl06ttvvw35Sy19X3A9+uijio+P11tvveVvzLd//37dd999+uyzz/xTOsLhZNx30uXxeFRcXKyUlBSNHDlS0dHR2rp1q9avX68dO3Zo3bp1KigoUEZGRthdkeLjey593Zelg3OvExISVFxcrL59+2ratGmqqqqSFFpfJi1btkxlZWX6v//7P+3cuVN1dXXq3LmzWrdurby8POXl5YVtyPaNBl144YUaNWqU2rdvr507d/rXUV67dq2+//57Pf7445LCo3u+77V50UUX6S9/+YtefPFFXXbZZf736IKCAq1du9a/Vnawj5gdfhVkVlaWxo8fr6ioKA0fPlzSwR4DCxcu1Ndffx3WAVs6+F595plnavfu3Vq7dq2WLVsmt9utDh06qEOHDsrJyVGXLl38S175hMLrOjk5WUlJSTrttNN01VVXqaamRlu2bNHq1au1YsWKsDin8oXsuXPnqnnz5v4rIrOzs5WVlaU+ffro+eef1+WXX17v+UNwCbqkZjKZ5PF4NGrUKBUUFMhisa3Jf00AACAASURBVGjixImy2Wzq3r27Bg8erEGDBik9PT3o3/BP1OFdeydNmqT8/Hy9+OKLMplMmj59uvbv36+rr75a3bt3D/nj3bp1q39pp1dffVXffPONevTooc6dO6tTp04aMGCAzjzzTA0fPty/vEYoP89du3bVwoULtW3btnqXMmVlZenKK680sLLA6dWrl9auXasdO3aoU6dOmjx5sj755BNt3bpVsbGx6tChg6TQCh+H84WsLVu26M4771SrVq38c/+SkpI0YsQIpaam6vbbb5cUGictx+PxeLRo0SI98sgj/qVCYmJidO6552r06NH+RlibNm3yry8criHbZ9iwYXrooYd0ySWXKCkpSZ9//rnS0tJUVFSk/Px85eTkSAqt1/n27dt1yimnSJI+++wzde7cWTabTTabTYMHD9aXX35pcIUNr7a2VjExMfVGb2+55RZNnjxZlZWVev/99/X8889r3bp1GjZsWMgsY/VbdO/eXSNGjNCcOXP09ddfq1mzZnI6nfruu+/UuXNnnXnmmZKC/73M95xkZWWpY8eOKi4urvel7uFLS4a79PR0jRkzRpK0YMECvfLKK6qurtaePXtUVlamTz/91N9Y+Nxzz9WQIUMMrvjYfKGzqKhIs2bNksfj0d133y2n06nCwkJ17dpVffr00S233KLY2Fijyz1pvvOM77//3v8l13vvvef/W7zyyis1b948bdiwQV27dg3aKxAinfnhhx9+2OgifDwej0wmk5YtW6b3339fU6ZM0dVXX62BAwcqMzNTu3fv1rx58/Tyyy9r+PDhYfOCcrvdioqK0muvvabNmzfrzjvvVFpamqZMmaJPPvlElZWV2rhxoy688MKQHcH2GTRokDp06CCTyaQNGzZo165d2rx5s1asWKFly5Zp7dq12rVrl79BVqjP/8vPz9f/Z++8w6os/z/+YonsvURRRAQRkCWI4AJxj76uHJkpZlaa5qivuTKtNFPLHLg1B47UxJ2DFMWB4gCUISBDBGXvcxjn94fX83yl8Wuph3M6r/86j13X5+F+7vEZ9/sTHh7O0aNHKS0tRVNTEysrK6X5dgWeD4QYGxsTEhKCra0tRkZGZGZmsmnTJp4+fcq7776Li4uL+M0rImpqakilUuLj47l//z79+/dHXV1d3BQNDQ2ZNWsWI0aMwNjYWKG/X2GcLly4wPLly+nTpw+hoaF4e3ujo6PDiRMnSE5Oplu3bmhoaGBqasrTp08ZOXKk0pewWVhYYGpqip2dHWZmZnz33XdkZWVx5MgR9PT0GD9+vMIFCA0MDNiyZQu2trYcPnwYf39/fH19kUgkfPfdd7i7uytd667169dz69YtUXS0adOmdOrUCQ8PD3R1dblz5w7W1taMGDFCVGpWtHH9I9TV1fHx8aFZs2bk5eVRWFgIgL+/P3PmzFG4O8x1dXXs3LmTCxcu0LRpU5o2bSpeAfi3UF9fL6qHL1iwgJ49e7J8+XJGjhyJq6srFhYWnDlzhqdPn9KrVy9atmwpnsEbI8KcW7BgAdHR0YSEhGBlZcXChQv5/PPP2bZtG+3atROD+IqOcKUyMzOTmJgYBg8ezPLly3n//fextramtraW1atXM27cuH+FgJ+i0iiFz8LDw7l16xZfffWV+JtUKqW0tJTHjx9TXl6uVHf+hAjUwIEDGT16NKNGjRKVTENDQ3F2dmb27Nm8++679OnTR97mvnCysrK4c+cOt27dIjk5meLiYqqrqzlw4IBCl3TFxcUxduxYHBwcsLS0JDc3VxSMcnR0xMfHh3HjxinVwtivXz9at25Nv3796NKli1i29eDBAywtLRvc+1Mknt/ABLGgS5cuMXnyZLy8vHjttdfo1KkTpaWlrFu3jvT0dI4ePSpnq/85Qqn7Bx98gJGREYsXL27w/IcffmDTpk18++23ODs7N/h//i0I6up79+4lPDyc1q1bM378eNzd3RUyu7Bx40ZOnz5NQkICb7/9NjY2Nhw7dgypVMqyZcuUSlyorq6OUaNG8fjxY7S0tGjWrBlt2rShffv2uLu74+joqHDj93c4duwYV69exdbWFldXV9q3by+2C1UUnq8IfP3116moqMDS0hJ1dXWaNGmClZUVLi4uuLi40KNHD6Xad/8/CgoKCAoK4ty5c5ibmzd4Fh4eTnR0NJ999pko1tmYkUqldOzYkcOHD9O6dWvWrVvH7t27+fTTTzl16hRaWlosWLCg0bcj+ys8fPiQd955ByMjI5KTkzl58iQFBQVs3ryZ1NRUpThnKDONMi06cOBALly4wKlTp+jWrRtNmzalSZMmmJub/2qRUAbU1dXFCLqlpSVSqZQtW7aIba309PQoKSkRHU5FPLj9kvr6enJycmjatCkWFhYMGDCAAQMGUF9fT1JSEikpKQrtYAOcPHmSTp06ERYWRmFhIdnZ2aSnp5OWlsbdu3e5ceOG0qjUAlRWVhIQEEBiYqKoQm1nZ0efPn3o1auXwjrY8CyqnJWVRYsWLUTxo8DAQDZv3symTZv45ptvKCwspL6+ni5duiAUCCn6XBWc5dLSUvz8/IBnd9LhmS7EgAED2LVrF0lJSTg7OyOTyf4VDvbjx49Zv349eXl5WFlZ4erqSufOnRk5cmSDf6eIYz9u3DgMDQ3R0dFh//79WFpaYmtry3vvvadUDrbwre7fv5+CggKuXr0qKi6fOXOGpk2bYmdnh4uLC87Oztja2uLl5SVvs18oUqmUL7/8kqNHj+Ls7MytW7dYu3YtJiYmzJo1i8GDB8vbxD9NfX09GhoanDhxAhMTEw4cOEBpaSn37t0jOTmZjIwMzp07x40bNwgKCpK3ua+MsrIy7O3t+eGHH0ThXAF7e3vCwsIavYMtBFBu3ryJhYUFrVu35uHDhxw6dIhRo0YREhKCvr4+c+bMUXgHWzhnCLRq1YolS5awbds28vLy6NGjBwYGBri5ufHJJ58Ain/OUGYanZMtkUhYu3YtP//8M3FxcVy+fBkfHx8cHBywsrLCwMBAKe5b/BINDQ169+7N1KlTcXZ2Rl1dXeyHfe7cOcrLy8VDriJPJiHLFRERwbp168jMzMTc3BwPDw/8/f3p2LEjTk5O4n1GRaZt27bi/VVTU1NMTU1xd3entraW3NxcGmERyT9CV1eX2bNnixUnqampXL9+nS1btrBhwwYcHBw4fvy4vM38W0ilUkJCQjAwMMDb25vg4GC6du1Kp06d6NSpE8nJyRQVFaGjo0Pz5s3FLJAiz1WB+vp6OnbsSHh4OH369MHMzEx8VllZSVZWFu7u7oBi6yf8EcJBJjExkU8++QSpVIqTkxP37t3jxIkTmJubM3/+fAICAuRt6t+itraWx48fU1ZWRr9+/Rg5ciQ1NTUUFRVhaWkpb/NeOGpqaty4cQNbW1tsbGzo378//fv3ByA9PZ3o6GiuXr3KuXPn2Lt3L35+fqxbt07OVr8YhH34/PnzREdHs3z5cjp37kyTJk1IT09n/fr1hIWF0aVLF4XJaAvBPX19fbp06YKFhQUWFhZiYKi8vJykpCQxSPhvcExkMhmtWrUiJCSE/fv306RJEzp37oyBgQEJCQkcOnRIvKPemDvWCHuKqakpLVq0YPPmzdy4cQMdHR1RVDYlJaXRBwv+DL179+bYsWO0bt2as2fP4ubmRseOHenQoQPp6elUVFRQU1ODo6OjUp0zlJVGUy7+vPP1xRdfMHr0aKqqqoiMjOThw4fo6uri4OBA165dmTp1qrzNfSlIJBJ2795NdnY2gwcPFvsBPnjwgJ49ezJ79mylKcXs2LGjmOFMS0sTgypSqRQtLS327NmDk5OTvM3829TW1vLRRx8RGRnJggUL6NatGwYGBg1awCg7MpkMqVTK999/T0JCgqjYq4jfcFVVFZcuXSI1NZWYmBgSEhIoLi7GxsaGrl270rt3b7y9vcWgirIgHESzsrIYO3Ysurq6DB06FD8/Px49esT3338PwO7du+Vs6ctHKpXSpEkTFixYwOPHj1myZIkoqlRYWMjixYt5/Pgx27ZtU7g7rICoXqulpUWLFi1wcnLCzc1NPMzZ2dkp3Lz9I4YMGcK9e/ewsrLCx8eHQYMG4e/v/ys9gRs3biCRSAgICFDI9euXCO8we/ZsmjZtKl4DEX5PSUnhk08+YcSIEQon0LlmzRqOHj3Kp59+qlTXCv8J+fn5bNu2jf3791NeXo6VlRUSiYTOnTszZcoU7O3tFSLoUF9fz/Lly8X71wsXLqRdu3YcPHiQ8PBwhg0bxrhx4+Rt5t9G6MDi7e1NcXExXbt2pb6+npYtW4q9wN3c3MS+5/DsnCWTyRr92P1baTROtjDBFyxYgLa2NnPnzhWfVVRUEB0dzcGDBzE2Nmbp0qVytPTl8Fsbd2pqKidOnKB58+YMGDBA4ZvOC7bfvXuXadOmERkZ2eB5RUUF9+/f5+LFi0yZMkWhhZMePXrEBx98QGFhIY8fP8be3h5fX1/8/f1xdnbGwsJCbPGk7FRXVzNhwgTmzZsnqlArKrW1tZSUlJCfn096ejo3b97kxo0bpKamUl9fj6WlJWPHjmX8+PHyNvUfI6zJV65cwdvbm0ePHrFu3TquX79OXl6eqDg9btw4nJycFOKQ9ncR7l0DTJs2DS8vL8aNG9egdD45OZmpU6fy4Ycf0qdPH4VaqzMyMhg8eDCzZ8/GysqKK1eucOvWLZ48eYKuri5mZmZs3LhRKVrjPE9iYiJZWVnExsZy48YN4uLigGdltIGBgfTt27dBibgijemfYdGiRchkMn5L/3bUqFH07duXN998U2Hmdl5eHkOHDqWqqgqZTIa3tzdBQUH4+/vTqlUreZsnNwRNI3V1dZ4+fSpmff39/RViXH+JRCKhsrISExMTtm7dypo1a3j//fd5/fXXGzigiogw1x4+fEh+fj7l5eViVU1aWhoaGho4OTnRvXt3goODFToZ9W+g0TjZAmFhYTx58oQFCxbI25RXhlQq5YcffmDz5s2YmprSs2dPfHx8cHJywsDAgOrqaoUvkd+/fz91dXV07tyZJ0+esHfvXjGCqsxIJBJu3brFhQsXiI6O5uHDh0gkEkaOHPmbBxtFQzh03r59m5EjR+Ln50e3bt0ICgoSDzXC3fPY2FiFDpw8z/OH7YqKCjIzM7l37x5nz57F09OTSZMmNeryu7/CiBEjcHFxYf78+WhoaJCXlye2LLOyslKaMf09srKyCAkJwcPDg4CAANTU1Lhw4QJr165tUEYtk8nw9fVlw4YNeHl5KZRDdvToUQ4ePMj27dsb/J6Tk8Ply5dJSkpi3rx58jHuFZCYmMj27dtJS0uje/fuFBUVERMTI7YddHJyYu/evQoznn+WK1euMGHCBD7++GNCQkIwNTVFR0eH2NhY3n77bQ4cOEDr1q0b9beclpZG8+bN0dLSQk1NjYqKCtLT07lx4waXL18mLi6OsrIyDAwMeP311/nwww/lbfJLRxiv8vJyvv/+e44dO0Z1dTWampp07NiRCRMmKIy+gvAutbW1/PTTT0ilUvr374+WlhZ5eXlUV1djZmaGjo6OwleYwP8SbhMnTsTHx4dJkyYBzwK9eXl5JCQkcOXKFWJjY8nKyqJbt24sXrxYKa/0KAON6gRYVFTEjRs3uH79OrW1tfTq1Qs3Nzelbb0gTKazZ8/y3Xff0atXL3Jzc/nmm2/Q1NTEyMgINzc3sRG9InPx4kXOnTuHlpYWLVu25MGDB2hoaPD+++9jaWmpkOWVf0RaWhqWlpbivV14VlYaFRWlNAJ+wsHL3NycKVOmkJyczI4dO1i+fDmmpqbY2NhQXFxMUFAQTZo0UZiMyO8hk8mIjIwkMjISNTU1nJyccHZ2xtHRkXbt2jF06FDxrr0yONi1tbW88cYbrF69muDgYGbOnCm2LPu3YGJiwsKFC0lISCAiIoLc3FxqamqYNWsWw4YNIyAggKdPn3LgwAF8fX3FzGdjdUp+Czc3N06dOkVqamqDw3ezZs0Urlz4ryBcAdi/fz9SqZStW7eir6+PVCqlrKyMjRs3EhERQVBQEGpqakpRKv48HTt25J133mH9+vWcOnWKdu3a8fjxY+7cucOgQYNo3bo10Li/5Xnz5jFz5ky8vb2JjIwUFdJdXV156623KC4u5v79+w3UtZUlAPp7CCJwX331FXFxcXTu3Bl7e3vy8/OJiopi+vTpLF26lPbt28vb1D9EeJcdO3awe/duOnXqRJ8+fQgPD+fEiRMYGxsza9YspWndJawvmpqauLu7i3utoaEhhoaGODo60q9fPyoqKrhy5QpLly7l7t279OzZU55mq/gdGlUmOzU1la1bt1JQUEB6ejqampoYGBjQqlUrnJ2d6dSpk9gmRhkQFvrQ0FDs7OxYuHAh69evJy0tjXfffZeZM2eSlJTEpEmTmD59usJv8GVlZcTFxREVFcXdu3e5c+cOWlpatG/fnk6dOuHn54ednZ14z1FRqaqqYsOGDZw8eZKamhratGmDu7s7gYGBeHh4yNu8l0J+fj7GxsaUl5dTUFBARkYGd+/eJSMjgzZt2jBkyBBsbGwU1skW7I6NjeXDDz9ET08PXV1dMjMzad68Ofr6+rRs2RI1NTWFD4j9FhKJhHXr1hEVFUWfPn3E6DooXwntL5FIJGhrayOVSpFKpaSnp3P37l0uXrzI7du3KSkpoUmTJkilUjZs2EC3bt0U7m9y7do1/vvf/6KmpsZ//vMfOnfujIeHh0LvN38GYZyGDRtGSEgI77zzToPfi4uL+eijj3jzzTcJDAxUuHH9s8THx3P8+HFu375NixYt6Ny5MyEhIejp6TXqd5ZKpezZs4fRo0ejpaXFyJEjqa6uxtzcnLZt2+Lp6Ym7uzvW1tbyNlUueHh4sHbtWlGMsba2lpycHCZNmkS3bt34+OOPFWY/9vf3Z8aMGQwfPpzTp0+zYMECunTpQlxcHO7u7nz66acKfwVPmGtZWVnMmzePuro6vvzyywZq489TXFzMkCFDWLdunVL5RspEo3Gyn1/IpVIpeXl53L17l9jYWDIzM0lNTWXIkCFMmTJFzpa+eIKCgli4cCHdunVjyZIlmJmZ8e6773L27FnOnz/PrFmzMDU1bdSb3d8hLy+PmJgYIiMjuXXrFjk5OdjY2PzqrraiERERwdKlSxkyZAilpaUcOnQIJycnUlNT0dbWxtbWlkOHDsnbzBdGRUUFY8aM4ccff2zwuzJccxAQAmKffPIJRUVFrF+/np07dxIREcHAgQPZtGkTUqmU4cOHM2vWLIUNJvx/VFVVce7cOVavXo2VlRUfffQRbm5u8jbrpTN27FhWrFiBpaUlDx8+FIMpgNgiKD4+nhMnTjBq1CiGDx+uUAHRuLg4xo4di4ODA5aWluTm5lJUVIS2tjaOjo74+Pgwbtw4pdp7fklYWBjHjx9n8+bNDYK8hYWF9OvXj40bN+Lu7q5Ue3B5eTlnzpzh8uXLGBkZ0atXL7y9vRU2w5uXl8eRI0fEQFhOTg7l5eVij2xXV1fee+89eZv50hG+0YSEBGbMmMHBgwfR09MTM8IAx48fJywsjMOHDzfq8RbeJS0tjdGjR3P16lWqq6sZN24czZs3Z8WKFdy7d4+ZM2eyd+9epal6/fnnn5kzZw5VVVU0bdoUX19fgoKC8PPzw8bGBvjf3+aX1UcqGheNZnapqalRXV1NYmKiKM3fqVMn+vfvT2FhIbGxsTg6OsrbzBdOZWUlTk5OJCUl0a1bN/HuiUwmw8PDg4ULFzJ9+nSgcZds/RHPH05iY2OxsrLC1tZW7I8NkJycTFZWFvDbQnCKwpEjRxgwYACzZs1i48aNYoZk2bJl5OTkMHHiRHmb+EIQxvTJkycUFhayffv2Bn2/mzZtyokTJ0hPT+f999+Xn6EvAOFbvHXrltjdQOhZ+eabb2Jubk54eLjYAkiR5+rzpKamIpPJ0NbWJj09HV1dXUaPHs3333/P1KlTGT9+PMOGDVP4DMLvkZeXh5OTE5aWluTn5zNp0iRatGhB27Zt8fDwwN3dXbwOMnHiROrr6wEUau06efIknTp1IiwsjMLCQrKzs0lPTyctLY27d++KmgrKTEhICEeOHCE0NJSuXbtib2+Pjo4OR48exdraWmxRp+jzWliz8/LyWLlyJUePHiUgIICcnBzxXRctWoSnp6e8Tf1TyGQyamtr0dLSYt++fVhaWjJy5EjR0U5KSiIlJYX4+HgeP34MKH/rLuEbbdq0Kbq6uvzwww+89dZbDdakyspK6uvr0dTUbLR/D0E1W01NjZKSEpo3b05ERATZ2dlkZWWJ4sg5OTmUlZUpjYMNz7L2ERERZGVlcf36dS5fvsySJUuQSCQ0bdqUzz//nF69egHg4OCgVME/ZUPuTrbwcRQWFrJp0ya2bduGvb09mpqabNmyBW9vbxYuXKiU9w3q6+vR1dUlMDCQsLAwunXrhqmpKXFxcaipqXH9+nXU1dWxtLRUmkm0c+dOtm/fzttvv83IkSPZt28f9+/fp3v37nTv3p22bdsCinVI/SXZ2dm8+eabwLNMSNu2bXF2dubDDz/km2++UYpg0fPfo729PW+99RaHDh3C2dmZmpoaIiMjOXPmDOXl5XTp0gVQ7MCJmpoaUqkUS0tLHj9+jEwmo66uDplMJrZCWb9+vagtoMhzVRjbmzdvMnPmTGprayksLBRbOFVUVIhZz2PHjlFcXMy0adPkbfZLwcrKShT8kkqlBAcHU1BQwK1bt4iKiqJJkybY2tri6OhI586d8fHxkbPFf522bduKredMTU0xNTXF3d2d2tpacnNzaSTFbi8VBwcHtm/fznfffceNGze4cOECBQUFeHp6smrVKkA5nLO6ujo0NTXZv38/6enpHDx4kLZt25Kfn09aWhqrV69m0aJF7Nq1SyFUmtXU1MRM7PXr1wkJCQGgSZMmODk5icrLJSUlVFdXy83OV41MJsPBwQFPT082bNhAdXU1AwYMwNzcnMOHD3PgwAH69esHNN7vWk1NDTU1Nerr6/H09MTf358VK1YgkUiYPHky7u7uYteh7t27y9vcF4q2tjaampp4eXnh5eXF5MmTyc/PJyEhgbNnz9KsWTPgf2cqRT5vKDtyd7KFRX/37t1cu3aN9evX06FDBzIyMrh16xZbtmzho48+4ttvv1WaHsM1NTVoaGigrq5OXFwcw4cPx9fXFxsbGxwdHdmxYwcDBw6kpKSEwYMHA//7OykqQsZz/fr1jBs3jp49e3LixAkWLVqEs7Mze/fuZfv27aJAmKIikUhEESEfHx80NTWpqakBEAXfjI2N5WzlP2f9+vW0atUKe3t7LCwsmDBhAjdu3GDGjBloaGhgYWHBG2+8QYcOHejQoQOg2I4nPDu49ezZk8OHD9OzZ08MDAy4c+cO2tra3L17l5ycHKVoEyOMk56eHkOHDiUgIABTU1PKy8uxtLTE0tKS6upqNDQ0OHfuHAsXLsTc3JwxY8bI2fIXjxBwkMlkNGvWjI8//piamhoePXrE/fv3uX//Pg8fPiQiIoKamhp8fHwa7aH1t6itreXixYtERkZiZ2dHt27dMDAwQEtLC01NTZo3by5vE18JcXFxVFVVMXr0aKqrq2nSpAktW7ZET09PHEtFGdP/D+EdoqKi6N+/P+3atQOeBZOsrKwwMTFh3rx5xMbG0rVrV3ma+qdRU1NDIpFgZGTE7du3GTx48K/2WCMjIzHTqQzj+EcIa/j06dMxMTHh0KFDfPfdd6ipqWFsbMxrr73GyJEjgcaZ0KioqGD37t2EhoaK9n3wwQd06NCBVq1a0aZNG06fPs2yZctwcnJSipaZz1cGHjp0iEuXLqGjo4O7uzvt27fHw8ODbt260a1bN/H/aYxjp6IhcvfahAXvzJkzjBkzhh49egDPIuqenp40b96csLAwHjx4IG4IioxMJuPu3btoaGhgZ2fH7Nmz2bx5s5jd7NmzJ/n5+dy5c4fevXuLmRFFnkxCtO3cuXPY2NjwzjvvkJqayu7du+nfvz/Lly9n/vz5HDlyROGdbG1tbUJCQti5cye5ubmYmppy+PBhXn/9dc6ePQuAhYWFnK38Zzx8+JBNmzZhbGyMiYkJ9vb2uLq6Ym9vT2RkJBs2bCAwMPBXhxllONwEBwejo6ODgYEBDg4O7Nmzh4ULFxIXF6cUGfvncXZ2xtnZWRT+eh7hrn1QUBD79+8nISFBHia+dITDqpqaGvn5+Tx69Ah1dXVsbGzo27cvffv2pbKykgcPHmBqaipna/86eXl5ZGRkYGxszJw5c7C3t8fX1xd/f3+cnZ2xsLBQ2qsA8KxsVgjwFhUVUVtbi52dHQMGDGDkyJFK1xdcWINtbGzIz88XD/ZCYMjBwYGCggJx/VKUgFFSUhKZmZmkpKRw8+ZNOnXqhKenJx4eHjg6Oip0guLvIpPJ0NXVpWvXrri4uIj3sps0adKg4qYxBr9v374tnpMfPHjA6tWrCQoKwtPTE1tbWwBcXV1ZtGgR/v7+SjG+QiJt165dHDlyBD8/P1JSUggPD8fU1BQ1NTW0tLQICAhg5syZ8jZXxZ9E7l+muro6dXV1GBoair8JPVi1tLTw9/fn888/p7KyUo5Wvjjq6+u5efMmK1euxMLCgqKiIq5evYqrqys2NjYYGhoycuRIevXqxaVLl8SSrca4EP5ZhE06OzsbW1tbpFIp27dvp6qqirFjxwKgr69PRkYGoPhOSq9evXBxccHCwgJvb28OHjxIaGgoVVVVvP766/I27x8hk8lo1aoV169f59atW9y4cYMbN26wbds2NDU1kclkrF69mqdPn2JpaUmbNm1EoQ5loFmzZrz22mtoamrSu3dvUlJSOHDgAP379+eNN94AFHuuCgiqvdHR0RgaGmJrayuWX9rZ2YlVRSUlJfTu3VusVlA2BCcjNzeXxYsXc+7c4mykpQAAIABJREFUOdTU1LC0tKRDhw74+vri7u6Ovb296JApglMiYGtry8GDB5FIJNy6dYsLFy4QHR3Njz/+iEQiYeTIkXz66afyNvOFI+wxx48f5/DhwwwbNoz//Oc/VFZWcubMGfbu3Ut+fj6LFi2St6kvhCdPnqCpqSkGgoKCgvjyyy/x8vIiMDAQLS0tKisruXz5MqWlpfj6+gKK8y3b29vz8ccfi4K5aWlpJCYmcuDAAdTV1Xn99deVuhWdgLBe5efns3btWo4dO4aZmRnNmzfHycmJcePGYWlp2ejPWB06dBCraDIyMsjMzGTHjh1s2bJFVI739/enbdu24rlD0fddYa5FREQwZcoUhg8fztSpU/Hx8cHFxYUvv/wSGxsbUS9B2dvQKQtyVRd/fmKsW7eOI0eOsGPHDrHdQn19PTExMUyePJlbt27Jy8wXTn19Pfn5+UyYMIHMzEw0NDSoqakRswg+Pj4kJCRw4cIFjh49qhQLCDyLNv/3v/9FR0eH+Ph4lixZwqBBg8jKymLq1KmMGTNG4ZR5f4usrCw0NTUxNzdHS0uL6OhoLl68SPfu3fH09PxVVlDReP57fPjwIa1ataK4uJjr169z8+ZNYmJiKCwspLKyksmTJzNhwgQ5W/xiuHv3Lnv27KG4uBgNDQ06dOjAoEGDsLa2Vpo5Ksy9U6dO8emnn+Lg4ICenh5Pnjyhvr4eIyMjUalX2cWw4H+H1lWrVvHTTz8xb948rK2tOXPmDJGRkdy/fx+pVEq3bt3YsGGDvM39W6SlpWFpadngDm5hYSFRUVGYm5uL7X+UCeE7f+ONN+jUqdOvupZs376dvXv3smLFCoXoJfxHzJ07l44dO/Laa68Bz4Jj8+bN48yZM6JmiKCULxzuFSWL/TyCzeXl5SQmJoqB4NGjR9OtWzeFfKe/grAPTZo0iadPnzJixAhkMhlxcXFcvHgRPT091q9frzBq1ML7ZGZmkpGRwf3790lJSSE7O5uKigpKSkqYNWsWAwcOlLepL4TS0lJCQkI4fvw45ubmfPDBBwwaNIiePXuydetW4uLiWLRoUYOkpIrGjVzCIMLEeb5MKSgoiIiICHr37k3Xrl3x8fHh0aNHREZGMmTIEHmY+dIQxMw++OADzM3N8fDw4Nq1a1y8eJHo6Gh2796NmZmZqMis6PexBYS7M2fPnmXx4sUMHDiQ8PBw8X0FtURFdbCzs7NZsWIFcXFx2NjYYGtrS9u2bfH19WXKlCkKISTzZ3jemZwxYwZubm4sWrSIXr16iWOYnZ3N+fPnxb7giho4Eew+c+YM69atQyKR0K5dO2pqaoiIiCAqKor58+eLgn3KwokTJxgwYIAo+pWRkcGdO3fEtoomJiaAckfTq6qq0NLSQl1dnfj4eMaOHSs6nA4ODkyePBmAK1euUFFRASjW36OqqooNGzZw8uRJampqaNOmDe7u7gQGBuLh4SHqgSgjwlpUXV3d4N65cDYZNWoUP/zwA4WFhQ1+V1ROnjyJl5cXAFOmTOHTTz/lu+++4+rVq5w/f56EhATMzMxYunSpWEqsSO8rBECLiorQ1NTEw8ODAQMGiO3nhPH+NzjYOTk5xMTEcPDgQVq3bi0+LywsZOTIkURFRTV6J/t5HwHAzs4OOzs7unTpQl1dHY8ePSIpKYmYmBhR+V8ZKCwsxNbWlsuXL9OlSxd0dXUpLS0FwM3NjUOHDqkcbAVDbpnsH3/8kc6dO2NpaSn+VlVVxc6dO7l06RJpaWmYmZkxduxYevfurXR3o/4/KisrKSwsxNLSkiZNmij0Bi8EUZKTkykoKMDHx0csNa2trSU8PJz09HSmTp0qHtwVleXLlxMZGUlQUBDV1dUkJSVRXFyMuro6Ojo6BAUFMWnSJHmb+cKora3lxIkTrF69GqlUytSpU+nfvz+6urryNu2FITjZY8aMwdnZmU8++QQNDQ3KyspIS0tj3rx52Nrasn79eoWdo7/Fli1bKC8vZ+rUqb86mNbV1VFWVoaxsbHSZoaKiopYtGgRAQEBtG3blrNnz6Kpqfmbfw9FJSIigqVLlzJkyBBKS0s5dOgQTk5OpKamoq2tja2tLYcOHZK3mS8NmUzG2rVrOXLkCGFhYQ2uQSQnJzN06FAuX76s8Ifaqqoq5s2bx7179+jYsSP79+9nw4YNeHl5KfS56v8LgKalpWFiYqKUAdDfQ1iLT5w4wZYtWwgPDxdFGzU0NNDQ0GDjxo1cvHiRXbt2ydvc/xfhXfLy8ti+fbuo59OxY0c8PT1xdHRs4DsoA8I5f/Xq1Tx+/JgZM2awZMkSLCwsmDt3Ll9//TV37txh165dCpu0+Dcil5D7o0eP+O9//4uamhpmZmYEBgbSr18//Pz8mDRpUgNHRFkPcfD72T1dXd0GjooiH94F27dt28bPP/+MnZ0d7du3x9PTEwcHB0aMGNGgfFqRxzs2NpbQ0FCGDh0KPHNCU1JSuH37NhcvXlT4IMIv0dTUZNCgQfTu3Zt169axb98+ioqKxPmrDBuBYH9FRQWdO3cW/9vAwIAOHTrw2WefMWfOHBITE5VCmFHAxcWFjz/+GFdXV4KDgxs809DQENV7FXWu/hF5eXncvHmT8+fPo6amhoGBAfn5+RgZGeHn54eVlZWowq2oHDlyhAEDBjBr1iw2btxISEgI77zzDsuWLSMnJ4eJEyfK28SXipqaGn379uX8+fPMnTuXnj170qxZM1JTU8VMkqGhoULvSQA6OjqEhoaKHVx0dHRYv349FhYWtG7dGicnJxwcHLC3t6dJkybyNvcvs337dry8vH4VAJ0/fz4rV65UugDo7yF8o82bN0cikXDt2jVRjFOguLhYFDJszPuzMOc2bNjA5cuX6dixI2VlZXz//fesWbMGa2trWrVqxZgxY8S2bYqO8I1WV1djY2ODkZER7du35/Tp07z33nskJiYyffp0OVup4q+i8akcVE20tbXp1asXXbt2xczMjNOnT7Nv3z7CwsI4efIkOTk56OvrY21trdSLoyJv3H8WYfyys7O5fPkydnZ2pKSkcOzYMSIiIrh9+zaZmZloaWkp/HhXVFSQkZFBYGAg8Gx8LSwscHNzY8CAAbi4uCj0+/0eQnmekZER27Zt46effsLR0VHUVlBUhMhyeXk5hYWFXLx4kU6dOqGjo9NgHMPCwpg+fTra2toKXXVSV1eHuro6p0+fZsWKFRQUFHD8+HE2bdpEdHQ0paWlmJiYKEULuj/C3NycCRMmMGnSJFxcXNDR0aGqqoojR45w8uRJbty4QW5uLmVlZaLavKKxbt06xowZQ6tWrThz5gy2trb07duX1q1bc+/ePQYPHoyZmZm8zXypmJqa4uHhQWpqKj/++CMXLlwgNzcXT09PZsyYgb6+vkLPaQELCwuCg4OJioqiRYsW+Pn5kZOTw/3797l+/ToxMTFERkaioaFBmzZt5G3un0I4P+3cuZNhw4aJJdDa2tpYW1vj7OzMwYMH8fHxUfiOHn8FKysrzp07x44dOygpKUEmk2FoaEh4eDiHDx9m/PjxODo6IpPJGu0ZVCgVX7BgATNnzmTy5Mn07duXt99+m/79+2NsbMy1a9fEKy6KjLC+FBQUMG/ePKKjo/H19cXb2xt7e3uWLl1KZWUln332GT169BDb/6pQDOSSydbW1sbFxQUXFxeysrJwdXXF3NycDh06kJaWxs8//8yWLVsAmDRpEjNmzJCHmS+VX27c9fX1De6gKANCNPLKlSvs27eP1atXi5HVkpIStm/fzvr167l27Rpr165l+PDhzJ07VyGzQ1VVVejo6LBv3z5MTEzo27cvdnZ2Df6NMo0tQGpqKjKZDG1tbdLT09HV1WX06NF8//33TJ06lfHjxzNs2DCFbQEkjNfhw4cJCwsDYMGCBQwZMgQ7OzsePnxIVFQUAQEBopOlDGO8fft2nJ2dmT9/PvX19cTHxxMbG8uOHTv48ssvGTduHHPmzJG3mS+Vuro64FnWvnv37nTv3h14tm6dPXtWXNOePn3K/PnzGTNmjEI5YxKJBDc3N06dOoWPjw+amprU1NQA0LJlSx48eKD0wRSZTEZycjJpaWm89957LF++nIKCAtTU1Bq0Y1OGA62wFy9cuBATExOxUi4zM5M7d+4QHx/PtWvXFKZ11/MB0O7du3PgwAE6dOiAmZmZOAetra15/PixeOdekebnP2XDhg0sXbqUy5cvc/bsWXJzc9HS0uLDDz+kZ8+eQOPWvlFTU6OiooI2bdo00EyAZ0ry9vb2StEbG57NNQ0NDSIiInj48CGrVq3Czc0NeNbfvVevXhQVFeHn56eQlSb/duR2J1tYxAMDA/nss88ICgoCnrWOycvLY+7cuWhqavLhhx+KH5yykZWVhb6+/q/KiJVlMxDKkZYtW0ZWVhZr1qyhtrYWmUyGlpYWhYWFfPHFFwwdOpSysjKWL1/OqlWrcHV1lbfpf5lly5YRERGBqakppaWl5OXlYWJiQqdOnejSpQu9e/dGV1dX4cdV+DZv3rzJzJkzqa2tpbCwEDs7OzQ0NKioqMDBwQFLS0sePHhAYGAg06ZNk7fZ/xiJREJSUhI//vgjhw8fpqamhtraWiwtLZkyZQo+Pj7o6elhbm7eqA8vfwYh2CWI1tXW1lJWVkZBQQHJyclieWljLjd8UdTV1REZGcnevXsJCQkRW/A9efIES0tLUlNTMTExwdTUtNE7Jr/k9OnT7Ny5k0WLFnHhwgUOHz7M5s2bOXv2LBs2bODixYvyNvGF83zWaOvWrezZswcTExOePHmCvr4+o0aNIjQ0VGlEKn8LmUz2m1nM2tpaAIUR7oNnWezPP/8ceNaW7JcB0IKCAtatWydnK18t5eXlaGlpoa2tTXZ2ttjBplmzZrRo0ULe5v0hwr6SkpJCWFgYRUVFzJ8/HysrK6XSexEQ9o2JEyfi5eXFe++9B/xvrcrKymLatGmMHz9eaVTU/03IbTVVV1fn0aNH1NbW0qxZM/H3Jk2a0KJFC6ZPn85XX32Fvb29vEx84QiTKSUlhe3bt5OYmIiFhQX29vY4Ojri6uqKra2twmb+folwADc3N+fy5cvk5eVhZWUFPPtbmJqaUl5eztWrV/nwww/Zt28fP//8s0I62cePH2f69OkEBgZSWVlJeno68fHx3Llzh08++YTKykqxj7IiIwQJ9PT0GDp0KAEBAeI4WlpaYmlpSXV1NRoaGpw7d46FCxdibm7OmDFj5Gz5P0NbWxt3d3fc3d1ZsGABJSUlxMXFsX//fhYuXIihoSHm5uasXLkSJycneZv7l/llZmjPnj3Y2tpiamqKpqYmJiYmmJiYNCglVWYHWzjoXbp0iTVr1mBra4uLiwsAubm5TJ48mTfffLNB5wtFcrABevXqhYuLCxYWFnh7e3Pw4EFCQ0OpqqoSgwnKhtCpY/Pmzdy+fZuPP/6YDh06UFJSQnR0tNhXeerUqfI29aXxfMWc4HCDYjnXAmPHjmXEiBFiAHT27Nm/CoCmpaUpTQD09xDOlpcvX+bQoUM8ePAAGxsbunTpgq+vL46OjvI28U8jjFFsbCxnz55FIpHw7rvv0rlzZ7y9vXFwcMDc3BwTExOlGM/n79Lfvn2b8vJy9PX1xTFt0aIFNTU1YoWnogVz/+3ItU92eXk5M2bMQEtLi5UrVzYQwDpy5Ahff/01UVFR8jLvhSMc3GbNmkVSUhKBgYGcPXuWmpoatLW1adKkCTU1NfTp00epBA6Ki4sZNmwYzZs3Z/z48fj6+qKjo8OBAwf4+uuvCQsLw9PTk379+jF58mQGDRokb5P/EoIK85w5cxoomUokEkpLS8nJyaFNmzZKEzx5HolE8rt9v6VSKZMnT8ba2povvvjiFVv26pDJZOTm5nL+/HkGDhyo0GrEz2eGevToQdeuXXFycqJZs2YYGhoqZSbhtxBacb3//vvY2NiIrczg2dWQpUuXcu3aNcLCwmjVqpX8DP0HZGVloampibm5OVpaWkRHR3Px4kW6d++Op6fn785rRUYIJvXo0YPp06f/qk3ZN998w9WrV1m1ahU2NjZysvLl8fw1CGXl+QDomTNnFD4A+meRyWR0794dKysr3NzcePr0Kenp6RQXF2NkZISFhQXLli1TOFXu0tJSYmJiOHToEOfPn1fa8bx79y5vv/02w4cPZ+zYsVhZWVFeXs6RI0dYvXo1586dU+oKG2VFrqFLfX19hg0bxueff864cePw9vbG2tqajIwMrl+/rnT9sYWNLTIykm+++YYuXbpw//59goODadasGXPnzsXJyUnsNawM5ZgymQxjY2NWrlzJ8uXLmTNnDjU1NWhqaqKlpcXo0aPx9PQkIiKCoqIievToIW+T/zI5OTmYmJiwbNky5s2bh6WlJXp6emhra2NhYaF0oitSqZQ9e/YQHR2NoaEhtra2ODk54eTk1KANTklJCb1796ZDhw5ytvjloqamho2NjcJn66FhZujIkSN89dVX1NTUiCXiEyZMwNnZWd5mvnSErF5+fj7+/v7i73V1dejo6DBv3jzGjBnDgwcPaNWqlUJd8cnOzmbFihXExcVhY2ODra0tbdu2xdfXlylTpij1QU6o1jAwMBCrqp4fu5EjR/LDDz9QXV0tTzNfGs+fJ2QymagFo0yZMSMjIwIDAwkMDGwQAFXGoAn87/u9dOkSdXV17Nu3DzU1NfLz83n06BHp6ekkJyfz4MEDhRQyNDQ0JDg4mODgYKUez/bt2zNt2jQ2bNjAli1bMDU1xcTEhJqaGt5++22lEWH8tyH3+qBevXphamrK3r17uXr1KlVVVeJHpUz3D4TJkZaWhr6+Pp07d6ayshIdHR1atWolOtxZWVmiSqaiO9iA2KfR3d2dnTt3EhMTQ1ZWFnV1dbRq1QovLy9WrlzJvn37+OCDDxRSpff27ducP3+e6upqpkyZgp+fH15eXjg4OGBmZiaW3Co6QtDn/PnzhIWFid/pgwcPiIyMxMjICCsrK1xdXXnrrbewsLBQ2rJTZeb50vj58+dTUlLCzZs32bZtGxUVFYDy6Eb8FsK7CZmhXbt20bVrV1F3AKCwsJCUlBSFzKSEh4eTlJREnz59qK6uJikpiYSEBI4cOYKOjg5BQUEN2mgqG1paWrRv355vv/0WJyenBpooqampVFdXK801NeFbTk1NZcKECfTv3x8vLy+8vLwwNTVtcMZQRvFVZQqA/hH19fUEBgZSXV2Njo4O5ubmoqBwTU0NJSUlCn+mVObx1NDQYPTo0fTp04fY2FiysrKoqqoiICBATFQo09z8tyDXk395eTn37t3DxsaGr7/+mvLycioqKsQIszIhTA6JRIKRkRHHjh3D29sbAwMDysrKAHByciIyMlLhWwE9z+3btwkPDycnJ4fOnTsTEhJCx44dxec1NTWMGDGCHj164OnpKUdL/z4jRoxgxIgRDcqaZs+erbRlTSdOnGDAgAFiCW1GRgZ37tzh7t27xMbGiodWoeRWhWJjZGREUFCQKE4Jyr3ZC++mpqZGz549OXPmDB9//DFdunShWbNmVFRUEBUVhbOzsygkpEh/j9jYWEJDQxk6dCjwbJ6mpKRw+/ZtLl68+CshTmVDW1ubwYMHM2vWLMaNG8fAgQNxcnLiypUrXLp0if/85z+A8lSSqampUVdXh76+Plu3biUiIgINDQ1sbGwIDAykc+fOuLq6qpSLFZy4uDiuX79OZGQk/fr1a/BMS0sLc3NzOVmm4q9gamoqKsCrUHxe+Z3s57NhGzduJDc3FwMDAywsLGjfvj0dOnSgdevWtG7d+lWa9UoQNrxFixZRV1fHBx98wKxZs/D19SU0NJTZs2fTtGlTvvrqK4V2UIT3zMvLY/jw4RgZGWFvb09iYiJZWVno6Ojg5uZGYGAgoaGhSlWqJqBM93R/yZYtW8R76L8cu7q6OsrKyjA2NlYJdKhQOKKiovDw8GhQUZOUlMSGDRuIj48XM9zOzs7MmDGDVq1aKdx3vmPHDh4/fsx///vf33yuLAHePyIxMZEdO3YQExNDdnY2jo6ODBkyhMGDByukWvxvIbzDnDlzKC8vJzAwkGbNmpGfn09kZCQ//fQTenp6NGvWjKFDhzJ69GiVs62ASKVSZs+ezf3798nMzBSvfwQEBODj46OQFYIqVCgDr9zJFhb9wYMHY29vT8eOHamoqCAlJYXs7GwkEglFRUXMmDFDqcrFnyc3N5cnT57g7u7OqlWr2L9/PwYGBqirq7N48WI6duyo0Bu8EEjZunUrx44dY8eOHWLblOzsbBITE7ly5Qr5+fn8+OOP/5pDnbJw5coVPv74YxYuXEhwcLC8zVGh4oVQUVFBv379iIiIwMjIiD179mBnZ4eLiwumpqZUVlby8OFDrK2tG/RRViSqqqo4evQoX375JZMnT6Zv377Y2dnJ26xXSnFxMfX19Whra6OpqSnuP2VlZUqZ7ZNKpfj4+LB///4GegolJSXMnz+furo67O3tOXz4MHPnzv1VFlRF46e+vp7U1FTy8/N58OABiYmJpKam8vTpU2pqanBxcSEsLEzeZqpQ8a9DLuri1dXVdO3alaNHj4ql4TU1NWRmZpKUlERsbCxjx46lZcuWr9q0V4ZEIkFDQ4P6+noOHjxIYmIiQ4cOxd3dXd6m/WOEQ8v27dt5+vQps2fPbvC8rq6O0tJSpFIpVlZWKidbARACJ6dPn2bNmjU8evQIqVSKlpYWbm5uBAcH0717d6WesyqUm7q6Om7evImvry/p6ekMHDgQGxsbrKyscHZ2xtXVFWdnZ0xMTDAzM1PISqNly5YRERGBqakppaWl5OXlYWJiQqdOnejSpQu9e/dGV1dX6dZjYf26c+cOa9asISoqChMTEzw8PPDz88PHx4eWLVvStGlTUbhRWbh//74oqPTLu+bR0dF8++237N69m6+//prc3Fy++uorVTZbwSkvL+fx48dkZmYSFxeHgYEBoaGhSnEFQoUKReKVOtnPN1dfsWIFr7/+egPlVmVFWNhiYmLYsGEDDx48oG3btvj4+ODh4YGzs7NSlRMLrFu3jlOnTrFq1SpRJEuFYiJ8w6NGjaJ58+YMHz6c+vp64uPjiY2NJTExkZycHMaNG8ecOXPkba4KFX8b4VvPzc3l5s2bXLp0ibt371JcXIyhoSFWVlb07NlTIfved+3alalTpxIYGEhlZSXp6enEx8dz584drly5wrx58xTyvf4IYUzHjh0LPNPRqK6u5ty5c2JvWi0tLRYsWCDeyVYWSkpKeO+999DQ0GDx4sVYWFiIrfjWrFnD6dOnOXr0KBEREeKerULxEI7yvxUgk0qlqsCJChVy4JU62cJGd+LECVatWoWxsTEzZswQswPKilD6PWTIEPT09PDy8iIxMZHr169TVVVF8+bNsbOzY+bMmbRv317e5r4Q8vLyeOutt8jLy0NbW5vAwED69OlDQEAATZs2lbd5Kv4mw4cPZ+7cuXh4eADPRJPKysooKCggOTlZbPWkipirUDZSU1O5evUqJ06coEePHkycOFGhvnNBR2HOnDm0bdtW/F0ikVBaWkpOTg5t2rRBT09Pjla+XLy9vdm7dy+Ojo7ibxKJhJSUFE6fPk1wcDAeHh4KNa5/hhs3bvDFF1+gpaWFr68vxsbGXLx4kfz8fEJDQxkyZAhz5sxBKpWyYsUKeZur4i8ik8mQyWQNrhj+f063ChUqXg1yKRdfv349MTExZGRkAGBhYUHLli1xd3enXbt2eHh4KOx95N+jsrKSoKAg9u3b16CkNikpifPnz3Po0CG+/fZbXFxclKJ8ury8nOTkZPLz84mJiSE2NpbU1FRqa2uxtrZmzJgxjB8/Xt5mqvgTCN9jeXk5O3bsICMjg9mzZ/+qBYwKFcpGXV0doBztFJOTkwkLC6OkpIR58+ZhaWmp1A71L6moqGDlypX06NGDwMBAeZvzyklISGDfvn1cu3YNTU1NHBwcGDRoEB06dGDp0qXcv3+fRYsWNej+oaLxIiRvqqurVYkLFSoaKa/Eyc7Ly+Phw4f4+fmJv1VWVpKRkUFcXBz37t0jMzOT4uJiiouLCQ8PV7o2XoWFhXz11VcMHDiQgIAAeZvzUvmtIEFFRQWPHj0iLi6On3/+mQ4dOjBx4kSFVlH/t7Fz504+//xzAHr06EHXrl1xcnKiWbNmGBoaiiWIKlQoIzKZTOwlrIhB4P379/PFF19QXV2Ng4MDfn5+eHl54eDggJmZGaampkq5Fgt7zA8//MDatWsxNDRkyZIl2Nvbo6enp/AB7d9C2INra2t58uQJeXl5GBgY0KZNG+DZfiwEWK5evcrBgwcZNmxYgzOaisaN4GRPnjwZNTU1PvnkE7GloAoVKhoHr8TJ/u6777hz5w6bN28mJiaG+Ph4fH19admyJfr6+gBiuWl6ejqjR49+2Sa9MoSFsKqqiqVLl3LlyhXeeecdPDw8lPqe8oMHD9ixYweXL19GT0+PLl26MGTIENq0aSPef9PW1pa3mSr+IhKJhKSkJI4cOcKhQ4eoqakRS8QnTJjQQL1WhQoVjY/S0lJiYmI4dOgQ58+fx9DQEHNzc1auXImTk5O8zXtp7Nq1i4iICNLS0pBIJDg7O+Pv74+fnx+tWrXC2tpaKSoW4H9X8/bu3cvGjRvJycnBxsaG1q1biyJ+VlZWtG3bFn19fdHpVoYqun8bFy5cYOvWrejp6TFt2jRxDqvGUoUK+fPKysWFRf/AgQMsWbIEADs7O7y9venYsSMuLi7Y2toqnTiDsNCNHTuWhIQEjIyM0NfXR0tLCzMzM1xcXHB0dCQ4OBgdHR15m/uPEAIK9+/fZ/HixeTn5zNo0CBKSkq4dOkShYWFzJkzh9dee03epqp4QZSUlHDz5k22bdvG9OnT8fb2Vm3uKpSC8vJySktLMTExUfi1+feQyWTk5uZy/vx5Bg4815lyAAAgAElEQVQcqJQCnL+ksLCQ27dv8/PPP3Pt2jUePXpEbW0tJ06coHXr1vI274Xi7+/P0KFD6d27N4mJiURFRZGYmIhUKqWmpoZvvvlGLA9XrduKiUwm4/bt26xZs4b79+8zYcIExo0bp3Qq+SpUKCJyuZMNzw7nMTExHD58mPPnz2NgYICJiQnffvut0mXDsrOz6devH/v27aNp06akpKRw//590tPTefLkCbm5uezduxdLS0t5m/qPEMry5s2bR1FREV9++SWGhoZIpVIKCgpYsWIF8fHx7NixQ+muA6hQoULxkclkJCYmsmjRIp48eYKNjQ1ubm706dNHFPtToVxkZWVx48YNpVMVz8rK4o033uDYsWMYGBg0eBYXF0dkZCRvvvkmxsbGKgdbSQgPD2fXrl04OzszefJk8XoAqATQVKiQB3Jzsp9H2aPp8fHxbNy4kRUrVjSILlZVVZGWlkZGRgb9+vWTo4UvBmGjfu2113jjjTcYNmxYg+ePHz9m2rRpvPPOOwQHB6s2dhUqVDQKhEqrS5cusXTpUiwsLOjevTv37t3jypUrlJaWMnv2bMaMGSNvU1Wo+H8R9tWUlBTWrFlDaGgo7u7u8jZLxUtAaM319OlTSktLMTU15cKFC3z++edYWFgwf/78f0WbXBUqGiuNQuVETU0NGxsbpTvACAe3jIwM8vLy2LlzJxMmTBCf6+jo0L59e6Vp26WmpkZdXR3u7u5cv36dQYMGNSj/NzIyIiMjQ5XFVqFCRaNk165ddOzYkZkzZ4p6IQALFy7kxx9/ZNCgQb/KCqpo/NTX1wMopGDdX6W+vh4NDQ3OnTvH5cuXyc7OZuLEibRt2xZra+t/laK8MlNXV8e7775Leno6BgYG1NXVkZaWRps2bWjXrh15eXmMHz+eYcOGMWfOHNW4q1AhBxqFk62sCCIq33//PcnJySQkJBAZGUlQUBABAQE4ODgojdCKgIaGBsHBwXz00Uds2bKFXr16YWpqSlFREadOnUJHRwdXV1dAVb6kQoWKxoGwDj98+JChQ4eir6+PVCoFoEmTJowdO5Zp06YRHx+Pv7+/qgpHwfilc11XV6ewKvF/hPAtV1ZW4urqyoMHD/jiiy9o0aIFjo6OODs7Y2tri5+fn0p8VAERtG8SEhLQ0tJiwoQJSCQSrK2tcXJyoqqqCl1dXRwcHLh79y4LFy7k+PHjjBgxQt6mq1Dxr6NRlIsrGwUFBWhra4uZEKlUSnp6Ordu3SI6OprY2Fjy8/MxNzfH3d2db7/9VqlEKiorK9myZQubNm1CQ0ODFi1aIJFIAJg2bRr9+vUTNwoVKlSoaAxIJBLmzp2Lrq4un332WYNnpaWldOvWjRMnTmBjYyMnC1X8FYQ95sqVK5w7d46QkBAcHR0xNTVt8O9kMhkymUxp96PS0lKuX7/OpUuXuHPnDk+fPkVLS4vTp08rndDsvwFB+2bJkiVIpdJfrVXPI5VKmT17NomJiZw+ffoVWqlChQpQZbJfChs3bsTExITJkyeTkJBAXV0dLi4uODk5MXLkSCoqKkhKSuLSpUs8fvwYLS0tpXI6dXV1mTp1KuPGjSM2NpZbt25haWlJUFCQeEBVlndVoUKF4iOTydDW1qZPnz5MmTKF+vr6/2vvzuOirvMHjr+GgeEUHMRQPBAQBBFEwQPxBjVvW63Uzd+WoaW2muauV1uuZpqmlZZnaurmhZgnq+SxHoAHUqggeIAKmiCC3Mgx8/vDx8zG2pZb2DDD+/lXfuc7X99fv9++831/jveHsLAwfHx8AFi+fDlNmjShcePG0ottJHTXKDc3lz179rBv3z6aNWtG06ZNadu2LR06dMDLywtLS0uTu57l5eWkpKRgaWmJu7s7YWFhhIWFAY8Lsd64cQOVSmVS7x11hW4t+7S0tCfq3sDjxiWFQqGfvte9e3eZky+EgUhP9jMQERGBn58f3t7evPfee8TFxdGsWTPc3d0JCAigbdu2NGvWzNBh1rjy8nKOHj3KiRMncHBwoH379vj6+tK0aVNDhyaEED/pxz2efn5+HDhwgB07dqBUKikrKyMtLY2AgAD+/Oc/ExwcrK+1IYzD3//+dxITE2ndujX29vbk5OSQkJBAUVERnp6etGnThpEjR+Lq6mroUH8z3b28fv16Nm3aRHZ2Ng0bNsTX15eOHTvSs2dPLCwscHZ2ll5sI1ZSUsKSJUu4du0ac+bMwcPD4yevp1arpaqqCjMzM2lMEcIAJMl+xrZs2UJ+fj6ZmZlkZmZSUFCAUqmkcePGuLi48NZbb1G/fn1Dh/mb6F469+zZw2effYZKpaKyspI7d+5ga2tL69atad++PV26dKFTp06GDlcIIZ4QGBjIl19+ib+/PykpKVy6dImCggL8/Pxwd3eXgo1GRDfaICUlhfDwcNatW6cflZCbm0tcXBwLFizA39+f/Px8rKysWLJkCU5OTgaO/LcrLS0lJCSEMWPG0LdvX0aMGEGnTp24cuUK+fn5KBQK9u7di5eXl6FDFf8j3X0dExPD66+/DkCTJk3o2rUr3bp1o1WrVjg5OWFtbW3gSIUQIMPFn4mKigosLCyIj4/nxo0bzJ07l6qqKm7dukVqaiqpqamkpaVx+fJlk1qubMeOHYSFhTF79mwUCgUPHjzg5MmTHDt2jDVr1vDgwQM6deokQ9SEELVKVlYWQUFBuLi4oFQqTWrVh7pIl4xcuHCBJk2a6BNsAEdHRwYOHEhKSgrl5eUMHTqUd955hxMnTjB8+HADRv3b6H5XT5w4QYMGDZg6dSo3b97E19eXjz76iKSkJGbPns3EiRMlwTZChYWF+pUNQkJCiI+PJzk5mePHj3P69GkiIyOxtrbG2dmZiRMnmsSysEIYO0mynwHdUMKYmBiys7P129zd3XF3d6d///4UFxeTnZ2NmZmZ0c/x052vVqslNDRUfy4NGjTghRde4IUXXgAeD3ESQojaQjcK58SJE6SkpLBw4ULmzJlDw4YN9fsY+/O5LtI14rZo0YLs7Gy++eYbXnjhhWoNvFlZWSiVSlq3bk3nzp2Ji4sz6iRbJzk5GW9vb+BxtXxXV1dKSkro3bs3/fr1kwZuI6TVagkPD6dx48b4+/vj7++Pn58fHTt2pGPHjsyYMYOcnBzOnz/P3r179e9kMrVFCMOSJPsZ0L2QaTQaCgsLSU1NpVWrVtX2sbW1xc3Nrdr+xkj3AlpUVET37t3ZuXMnLVu2xNHR8YkfcxsbG0CKngkhagfdC+jDhw+xtbXV9wq1a9eOnj17EhISQosWLQwbpPjVQkJC6NatGxs2bCA7O5ugoCDMzMyIjo4mPj6euXPnAnDlyhWef/55wwb7G+l+V4OCgoiKiiIlJQVzc3OKior0w4dv376tr5EiCZjxePDgAe7u7uTl5fHPf/6TvXv3Ym1tTatWrWjdujXt2rXDy8uL/v37079/f/335PoKYVgyJ/sZKSsrY9KkSZw7dw6VSkWXLl0ICgoiICAAb29vk1ufcsuWLSxYsACAHj160KNHD3x8fHBxccHBwQErKysDRyiEED+trKyMiooKbt++zffff69farGwsBClUsmBAwdMslhlXXDv3j02bNjA/v37ycvLw9nZGVtbW0aNGsXgwYPZuHEj+/fv5x//+AcuLi6GDvc302q1TJs2jYCAAAYMGED//v15//33cXBwYPr06Xz99dd4enrKCA0jVFJSQnR0NDt37uTixYu4ublha2tLWVkZDRo0wNPTkw4dOhAaGmroUIUQSJL9zFRUVBAfH092djaXL1/m+vXr5ObmotVqsbOzw8/Pj1mzZhk6zBr16NEjUlNT2bt3L7t376aiooJWrVrh4eHB2LFj9UPYhBCitklPT8fGxgYzMzPq169PaWkpSUlJfPfdd0ycONHQ4YnfqKqqih9++IEffviBli1bolar2bp1K5GRkfzpT39iyJAhhg7xV9MNg7948SJFRUV06dKFkpISLC0tWbRoEUePHqW4uJhevXqxaNEiQ4cr/kdarRaNRoNSqeRvf/sbCoWC0aNHo1arSUtLIyEhgU2bNqHVapkyZQqvvPKK1L4RohaQJPt38ujRI65evUpCQgIJCQm4ubnx9ttvm/SQrfz8fC5cuMDGjRt5++23CQwMlNZzIUStoHsJTU9PZ+PGjURHR/Pw4UOcnZ3p0qULr732Gl5eXib9jDZFut+YQ4cOsWbNGvLz8/Hy8qJz5860a9cONzc3zMzMsLOz48GDBxQUFOinbhkr3TkvX76cnTt38vbbbzN48GAsLS3JysoiNjaW5s2b07ZtW8zNzeV32Ii1adOGrVu3PrH29bZt2zhy5Ajvv/8+zZs3l2ssRC0gSfYzkpOTw1dffcWdO3eoqKjA09OTfv364e3tjUajoaSkBDs7O3kQCiGEAeievePGjaOwsJAhQ4bg4+NDYmIikZGRlJaWsnr1alq2bGnoUMX/qKioiLCwMDp27IiXlxdnzpzh4sWLlJeX4+bmhqenJ/PmzTP65TP/U15eHps3b+bQoUOEhITwzjvvyHJOJuT+/ftMnDiRP/zhD4waNaraZ2lpaYwdO5ZDhw7J9DwhaglJsmuQ7qUtOzubGTNmcP36dXx9fVGpVPpke9q0afTs2dPQoQohRJ2XlZXF888/z/79+/UFoeBxgag33niDsLAw3n77benJNhK60QlRUVGsWLGCvXv3olKp9J8nJiZy6NAhzp07R2RkpAEjfbZ0519cXMykSZMYNGgQtra2MoTYBCxbtozIyEimTJlCYGAgjo6OFBcX8/XXX3PixAmioqLkOgtRS0h18RqkmzOzb98+8vLyiIiIoFGjRpSWlnL79m1Wr17Ne++9x549e3B0dDR0uEIIUSfpGkQTExNp3ry5fsku3fbmzZsTHh7Ozp07JcE2IrrEorKykoCAAMzNH7/i6K5r27Ztadu2rSFD/F0MGDCA0NBQIiIiiI+PR6PRMGrUKEm8TMCrr75KTk4OH330EY6OjjRv3pzLly/j6urK7Nmzgcf3uxDC8JRzdWtYiN9MoVCgUCiIiIjAw8NDv5SChYUFTk5OBAcHc/z4cSwtLWnTpo0MFRdCCAP48XM3KioKMzMz/P39q23fs2cPJSUlDBkyhKqqKklQjIDuN/Xs2bMcPHgQjUZDkyZNUKlUJttYotFoUCgU3Llzh4sXLxIXF0dKSgrnzp3j/Pnz/Otf/+Lo0aPExcXh6emJs7OzoUMWv4G1tTWhoaH07t0bKysrKisreemllwgPD8fX1xeQZVKFqC2kJ7sG6V7Qunbtytdff01SUpL+oQfg4OBAYWEhtra2wONqp7qWdiGEEL8vDw8POnbsyObNm8nNzaVdu3ZYWVlx+vRpYmNjmTBhgqFDFP8DhUJBQUEBq1evJjc3l8WLF3Po0CGCg4Np27Ytrq6uNGjQwKTmYusSqn79+uHk5IS1tTUPHz7E1dUVT09PhgwZglqtJisri/fee4/Zs2fTsWNHA0ctfi1dQ5Knpyeenp6GDkcI8TNkTnYNS0lJYdiwYQD4+/szevRofHx8KC0t5cSJE5w8eZKtW7ea3DrZQghhjPLy8li1ahXffPMNVVVVODk5UVpayqRJk/jDH/5QbU6vMB7FxcWcOnWKb7/9lri4OHJzc7GzsyMsLMzklrGqrKwkKSkJS0tL7O3tcXFxobS0FK1Wi42NDfC4GNyMGTMoLy9nxYoVUhzLyOmW9TIzM5MRkULUUpJk1yBdC+ONGze4cOEC+/bt4/vvvwce91prtVqmTZtG9+7dUavVqNVqeYETQggDysnJQalUolarycjIIDMzE29vb9RqtaFDE/8j3W/wo0ePnmjIvnPnDgcPHgRg/PjxVFZWmtRIMo1GA0BpaSkqlQoLC4sn9vnyyy/ZunUrx44d+73DE7+RTC8UwvhIkv07SEhIIDY2lmPHjpGcnIytrS1OTk689dZbDB482NDhCSFEnaF7Wb1+/TpLly7l1q1bPHr0CBsbG/r168eYMWNwcHAwdJjiV7p58yZr167lxIkTODo6snz5ciwtLXFxcTF0aDVOdy/v3LmTjRs3UlZWRuvWrenQoQM+Pj40bdqU+vXrY2trS1VVFcnJydy/f5/evXsbOnTxK5la45AQpkyS7N9ZeXk5MTEx7Ny5k+HDhxMWFmbokIQQos4ZNmwYjo6OhISEYGVlRXp6OnFxcXh4eDB//nxJtI2ILtm8ffs2s2fPxtbWlu7duzN//ny+/fZbFi5ciIODA/Pnzze5BKWoqIgePXrQt29fmjdvTmxsLImJiVRWVuLm5oaHh4dJrgleF+iGg2dlZbF//36uXLmCm5sbvr6+uLq66ufg/9SoBSGE4ZnWr40RUKlU9OrVi169ehk6FCGEqFN0L61nz54lJyeHzZs3Y29vDzzuITpz5gzTp08nNjZWvzqEqP10RUQjIyOxsrJizZo17N+/Hx8fH5o1a0avXr347LPPSE1NrVaM1Jj9uJK6i4sLCxYswMzMTF+s78drgusSbFk/2bjo+sDWrl3LsWPHcHZ25vDhw1hYWGBvb09wcDDW1tYEBQUxcOBAA0crhPhP8rQVQghRJ+jmNObk5ODt7V0t4TA3N6dr164MGTJEP3dXBnoZB911vHDhAu3atQPg4MGDdOjQAXi8brSbmxvnz58H/j1/2Zjp7mUXFxc8PT25f/9+tc/btm3LjBkziIyM1G+TBNu46Jad27NnD1OmTGH79u34+PgwdepURo0axZ49ezh69CiOjo6AadzXQpgSeeIKIYSoUyoqKkhPT2fNmjXk5ORQXl4OPH5JvXPnDs2aNdPvJ2o/XfLYuXNn0tLSAEhKSqJPnz4AWFhYkJmZiZubm8FifFbUajVpaWlMnz6dqKgoMjIyDB2SqAG6Br7r169jaWnJsGHDKCgowN7enoCAAN58800GDhzIiBEjCAwMBKQRRYjaRoaLCyGEqBMUCgXl5eWsWrWKnJwc/vGPf3Dz5k0CAwMxNzcnNjaWyspKRowYASCrPxiZHj16sH37dqZMmUJJSQkAGRkZ7Ny5E61WS9euXQHjT0Z0Q8WzsrIYOXIkxcXFPPfcc6xatQqVSoWzszOtW7emdevW9OrVS6pSGyHdNcvOzqZhw4akpKRgY2ND/fr1yc7OBqB79+5ERkbKc0qIWkqSbCGEEHWGSqXi8OHDZGRkcP78eU6cOMHXX3/NgwcPKCkpoU+fPhw5coT09HSaNWtGq1atDB2yeAparRY/Pz8WLlzIJ598AsDChQu5c+cO9vb2vP/++yiVSpOYl6zRaFAqlURFRaFWq4mIiKCgoIDk5GSuXr3KrVu3OHr0KPHx8VJJ3Mh17twZW1tbIiIieP3118nOztbfv6dPn6Zx48aAVB0XojaS6uJCCCHqpPLycn0vUHJyMrGxsZw8eZLMzEx91eYlS5YYOErxtH744QcaN25Mfn4+SUlJ3Lp1C1dXVzw8PHB2djZ0eDUuIiKCjIwMpk2bVm17UVERqampVFZW0qlTJ5NoWKjLLl68SEZGBgMHDmT8+PHcuXMHDw8PLl++zPz58wkJCZFrLEQtJEm2EEKIOuPGjRt89NFHJCUl4eTkhKenJ4MGDaJnz576fUpKSoiNjcXc3LzadlE7VVRUsHfvXg4cOMDs2bPx8vIiMTGRiooK/Pz8sLS0NHSIz8Tnn3/O/v37mTt3LsHBwYYOR/wOMjMzWbp0Kffu3WP48OEMHz5cpgMIUUtJki2EEMKk6eawZmdn8+qrr6JWqxkyZAg3b94kNjaW1NRUXnrpJd59910sLCzkpdVIVFVVoVQqOXLkCIsXLyYkJIQJEyZw/PhxFi1aRGVlJSEhIaxatcrkrmlWVhYvvvgiJSUlaDQaAgMD6d27N8HBwbRo0cLQ4YnfQNcrnZOTw65du7hw4QIBAQGEhITg6+uLubm5yd3PQpgiSbKFEEKYNF0ytmHDBg4cOMDmzZuxs7PTf37w4EGWLFnCqlWr8PHxAWRNYWOgm4c6YcIEmjZtypw5czh9+jTLli3Dz8+P7t27s3z5ciZPnkxoaKihw61RlZWVPHz4kHv37hEfH09MTAyXLl2isLCQevXq8fLLLzN16lRDhyl+Bd3z6s033yQ1NZWmTZuSnZ1NRkYGdnZ2BAUF4e/vz8svv4xarTZ0uEKI/0KqJAghhDBpuvVm69Wrh7+/P3Z2dmi1WsrKyrC2tiYsLIzdu3cTHR2Nj48PWq1WEmwjoCv0lJmZyeDBgwFYt24djRo1Yvz48TRp0oSVK1fy8OFDwLQaTszNzbGysqJNmza0adOGV199lYcPH3LlyhWOHj2Kk5MTIAWxjI1Wq0WpVFJYWMjp06fZvHkzXl5eVFRUkJmZSWJiImfPnmXFihV069YNtVqtH6kjhKhd5MkrhBCiTrh37x5Hjhyhe/fu9O7dG2tra+BxwnLv3j369+8P/Lt6s6j9NBoNvXv3ZuPGjaSmpnL27Fm2bNlCkyZNuHv3Ljdv3qRjx44AJpWI7Nu3j6ioKCoqKvDx8aFNmzYEBAQQHBxcbX62JNjGIy8vD1tbW1QqFXfv3iUgIIC2bdvqn0VqtRo/Pz9eeuklHj58yHPPPQeY1n0thCmR4eJCCCFMXlZWFsOHD6esrIyqqiq6detG3759cXBwYNu2bTRs2FA/J9uUejzrgtzcXKZMmcL9+/cZPnw44eHhREZGcujQIR49esSWLVtMordPd1+eP3+eKVOm4OXlhY2NDadOncLNzY2KigoaN26MSqVi9erVhg5X/I/Cw8OJi4sjNDSU9u3bc+zYMfr06cOYMWMMHZoQ4ldQzp07d66hgxBCCCGeJWtra4YNG0ZoaCjNmzfn+vXr7Nq1i127dpGens5zzz2HtbU19erVqzZfW9Q+V69e5f79+zg5OTFt2jRatGjBxIkT+eMf/0hgYCDXr19n48aN2NvbM3v2bOrXr28SSXZVVRVmZmZ8/vnnODk5sXbtWvLz8yksLCQ8PJwLFy6Qnp5Onz596Nixo35/YRxcXV1p3rw5N2/e5NChQ1y/fp0LFy5w69YttFot9evX14++EULUftKTLYQQok4oKiqqlkDn5+eTnJzMd999x6lTp7h+/TqFhYW89tprzJgxw4CRip8TFxfH8uXL8fT0JCIignfffZfevXs/kYToioCZQoIN/66SP2jQIN58800GDRrEJ598glKpZPLkycTFxbF27Vr++te/6msLmMJ51zVlZWU8ePCA9PR0zp8/z5kzZ7hy5QoajYZWrVoRGBjI9OnTUalUhg5VCPEzZLKOEEIIk/dLc1jDw8O5d+8eiYmJuLq6Gjpc8TNcXV3x9vYmPj4egM2bN/Ptt9/i5eWFp6cnnp6eVFZWMm7cOGJiYrCxsTFwxDVDoVBQXl6Oq6srqamp9O/fH61Wi1arpaKiAn9/f3744QdJvoyclZUVjRo1okmTJoSEhOiT7osXL3Ly5EmSk5PlGgthBKQnWwghhEmSOaymLSoqilOnTtGtWzeOHz/OlStXKCoqwtraGoVCgb29Pdu3bze5OfZ79uxh48aNfPzxx8TExHD48GE2bdpEfHw8b731FgkJCYYOUfwKuvv0zp07fPXVV3h5efHiiy+Sl5dHcXExTZs2BaC4uBhbW1sZqSBELSc92UIIIUyS7qV19+7dBAYGsmLFCrZu3UpBQQFjxozhiy++ICkpSV9YSLc+rTAOAwYMoH///igUCgYMGABASkoKcXFxKBQKevbsadgAn5E+ffrg6OhIgwYN8PHxYePGjUyePJlbt27Rt29fQO5lY6RrCJo1axb379+nd+/eZGVlMXXqVBISEmjevDlr166lRYsWgFQVF6K2kyRbCCGESdIlGZcuXeLNN98EHlcZ79ixI/369cPe3p61a9cSGhoKYFK9nXXFfyYa3t7eeHt7V9tmate1srKS7t27AxAUFMTkyZPZvXs3L7/8sn69cEnAjIuuV/rSpUtcu3aNw4cPY2ZmxqeffkpGRgarV69m1apVHD58mPHjx8v1NVEajYacnBxyc/OoqqoydDjiKVlbW9GsWTMsLCyqbZckWwghhEmSOazClJSWlrJt2zaOHz/Ohx9+SLNmzYiJiaFRo0Zs3ry5Ws+1qTUsmDpdkh0XF4eXlxf29vYcPXqU06dPM2HCBHr27Mm1a9c4fvw4b7zxhgwVN1EZGRlUVmpo0MAZpdJcrrER0Gq1FBbmk5GRgbu7e7XP5CkshBDCZKlUKvr06cPJkydJS0vD0dGRM2fOoNVqSUxMJDs7Gw8PD0B6/0TtpOvROnDgALt376Zdu3ZYW1uzYcMGpk6dyowZM3j33XcNHKX4LXSNIi1atECpVHLw4EE++eQTWrVqxdChQwFIS0vTF2WUXk7TVFxcjFrthLm5hfweGQmFQkG9eg6UlpY98Zkk2UIIIUxanz59eOedd/RzWO/evcvkyZOZP39+tTmsQtRmkZGRPP/880ybNo2EhAS++eYbRo4cyfTp07l8+TIxMTGGDlH8Rl26dAHgnXfewcbGhr/+9a8AbNiwgXPnzukTbhmpYJq0WlAo5Noam//WICLDxYUQQpg0mcMqjJluGHheXh6dOnUCYO3atXh5eREeHo5arWbdunU8evQIwOSqqdcldnZ2bNiwgfv379OgQQMA5syZw7fffsvMmTPp3LkzIEm2EMZAlvASQghhkn5qDuvJkydRKpV07txZqi8Lo1FeXs7HH3/MmTNn6NChAzt27GDHjh34+vpy48YNhg8fzqlTp6hXr56hQxW/QXl5OSqViiNHjlBeXk6/fv0oLS2ltLSUhg0bGjo88YwlJSXj4uJabZu1jSVWljXfJ1r2qJLSkke/uF9xcRErV67gu+8SUCqV1Ktnz+TJU/H29qmxWNatW0WHDp0ICGhfY8f8vd29ewtf39bVtklPthBCCJOiW75IN4e1d+/e+og9GnEAAA08SURBVDmsX3zxBdbW1nTr1o2FCxcaOlQhnopKpWL06NFkZmZy8eJFZs2aRevWrVm3bh2nT58mODiYevXqSS+2kdM1/K1fv57Q0FCUSiV2dnbY2dkZODJhKFaW5gx+Z2+NH3f/0qG/mGRrNBqmTp1MYGAQmzdvw9zcnAsXzjN16p/Zvn0XDg71aySWhIQE2rfvUCPHqk0kyRZCCGGSdHNY33rrLaKjo/VzWD09PVm/fj0xMTGEhIQYOkwhnkqLFi349NNPUSgUWFhYkJKSQmJiIk2bNmXSpEmGDk/UAF2SfePGDebMmWPgaERdd+HCeXJy7jNu3Jv6xrvAwA787W9zqarS8NVX6zl0KAqlUknHjp15660pZGVlMXHiOPbsOQjAunWrARg37k0GDuxLr16hXLz4PUqlkgULPuL7778jJSWZhQvnsWjRUlq29DTY+dY0ae4UQghhUn5pDuuwYcPQaDTV5rAKYQxUKpV+LVZPT0+WLl3KggULcHFxAWSurjHTFV9MSEigsrLyieWAhPi9Xb2aio9P6yeeK126dCUlJZlTp07w1Vdfs2nTVjIzM/jmm10/e7wHD3Lo0KEjmzdvIyCgPREROxgwYBDe3q2ZNes9k0qwQZJsIYQQJqi8vJwePXowf/585s+fT0pKCmPHjkWtVnPjxg3u3LlDhw6Ph6dJYiKMkVKpxNLS0tBhiBqiaxx0dnZmxYoV2NjYGDgiUdf9XKXz+Pjz9O37PFZWVpibmzN48FDOnz/3i8fs3PlxBX0PDw8KCvJrLNbaSIaLCyGEMDkyh1UIYSySk5M5fPgwdnZ2+Pv74+HhQXl5ORYWsl6yMBwfHx92796JVqutdh+uWrWC+PhzDBw4WL9Nq9VSVVXF493+XVO7srISc/N/p5v/bhhUYOqltyXJFkIIYZJkDqsQorbSJS5ZWVnMmTOH+/fvo1AoyMvLQ61W065dO7p06UJxcTGvvPKKjFoQv7uAgPao1Y58+eUaxo4dh1Kp5MyZWA4c2M/EiX9m9+4Ihg79A+bm5hw4sI/AwCDq1atHQUEheXl52NracuZMLF27dv/Zv0epVOqnS5gSSbKFEEKYLJVKpf9v3RzWH7+sSi+2EMIQNBoNSqWSffv28ejRIw4ePMjFixf54IMPGDt2LGvXriU6OpqgoCBef/11Q4cr6iCFQsGSJZ/w6adLGT36RczNzalfvz7Lli2nVStvsrKyeO21V6iqqqJTp2BefHEk5ubmvPLK//Haa6/g7OxM69ZtfvHvCQ7uwuLFC3jvvfn4+7f9Hc7s9yHrZAshhBBCCPE70i01+H//93907dqV8ePHs379em7dusW8efPYs2cP+/fv5y9/+Qve3t4ytaUOqI3rZIunI+tkCyGEEEIIYWC6QmcqlUo/VLa0tBR7e3sKCgoYMGAAW7ZsoaioCJBRN3VVackjSYaNlPwfK4QQQgghhAH069ePbdu2kZ6eTr169UhPT8fe3p7c3FzS0tLw9vY2dIhCiF9BerKFEEIIIYQwgLCwMIqLi9FoNHh5ebFkyRI++ugj0tPT8fLyws7OToaKC2GEJMkWQgghhBDCANRqNa+++ipVVVW4u7sTHh7OoUOH8PDwYPr06cDjSuRCCOMihc+EEEIIIYSoBaqqqigqKsLBwcHQoYjf2U8VPhPG4acKn8nYEyGEEEIIIWoBpVIpCbYQJkCSbCGEEEIIIYQQenfv3qVz5/YsWvRBte1Xr6bSuXN7DhzY99THunAhngkTxgGwYME8rlxJ/s3xDRs2kJEjhzNmzEjGjBnJsGEDmTXrL5SWlv7s99atW8X33yfUaCw/ReZkCyGEEEIIIYSoxsGhPmfOxOrXdQc4ciQatVr9q485Z857NRUey5atwMXFBYCKigreeGMsUVEHGD78xf/6nYSEBNq371DjsfwnSbKFEEIIIYQQQlRjbW2Nl1crvv8+gcDAx4np2bNxdOjQSb9PXFwM69atprKyksaNXZg9+284ONTn7Nk4Pv10KSqVCldXN/3+EyaMIzz8Ddq2DWDx4oWkpV0nNzeX5s1dWbToY3Jzc5k58x3c3T24ejUVR0dHFixY/IvTKAoLCykqKsLe3h6AiIjt/POfUZSVlaJQKPjgg0VcuZJMSkoyCxfOY9GipSxdupjw8DcA2LRpA1ZWVty8mY6HR0vmzfsQCwsLduzYRkTEdurVq4erawuaNGnKuHFv/uK/nSTZQgghTF5mZiZ9+vTBy8sLAI1Gg5WVFTNnziQwMLDG/77c3FyCg4NJTU2t8WMLIYQwfQ9jTvPw5Mlncuz63btTP6TrU+0bGtqHY8eOEBjYgeTkJFq29ERXNjsvL4+VK1fwxRdrsbe355tvdvH558v5y19mMm/e+3z++Wrc3NxZsGDeE8e9dCkRCwtzvvxyExqNhkmT3iA2NgZvbx+uXbvKnDnv06qVNzNnTufw4X/y0ksjnzjGtGl/RqlUkpubi7OzMyNGvExYWF+Ki4s4ceJfrFy5FisrK9auXUVkZATTp89g//69hIe/QcuWnk/Es2PHbpycGhIe/ifOnImlUaPGREbuZNOmrzE3t2DixHE0adL0qf7dJMkWQghRJ1hZWbF37179n6Oiopg1axbR0dEGjEoIIYSovbp27c6aNSvRaDQcORJNWFhfvv328e9mUtIlsrLuMWnSeOBxA7a9vT03blzHyckJNzd3AAYOHMSaNauqHbddu0AcHOqza9cObt68SWbmbUpLSwBQqx1p1cobAA8PDwoK8n8yNt1w8WPHjvLZZ0vp1q07CoUCW1s75s37kCNHDnP79m3OnInF09PrZ8/T3d2D555zBqBFCzcKCgrIyMggJKQbtrZ2APTt+zwFBQVP9e8mSbYQQog66eHDhzRs2JCzZ8+yYMECbGxsKCkpYdeuXSxevJjExESKi4vRarV88MEHBAYGMnPmTOzs7EhNTeXevXu4u7uzbNkybG1tiY6O5pNPPsHa2po2bdoY+vSEEEIYsfohXZ+6t/lZsrW1xdPTi8TE74iPP8/EiX/WJ9kajQZ//wA+/vhTAB49ekRJSQlZWT9UW99dN5/7x06ePMG6dat4+eVRDBo0hPz8h/rvqFSqH+2p+MW14nv3DuXcuTgWLfqAzz5bSVbWPSZOHM+IES8RHNyFBg0a/OLIMpXK8om/U6k0Q6vV/Oz3/hupLi6EEKJOKCsrY+jQoQwdOpRevXrx4YcfMn7849b3a9eusXTpUvbt20dSUhLZ2dns2LGDqKgoXnjhBdatW6c/zuXLl1m/fj1RUVFkZ2dz6NAhcnJymD17NitWrGD37t00adLEUKcphBBC1KjQ0D6sXLkCHx8fzM3/3Ufr69uGy5cvcvv2LQA2bFjHihWf0rKlJ3l5uVy7dhWA6OjDTxzz/PmzhIb2YdCgoTRo4MT33yeg0fy6hBZg/PiJXLp0idOnT5KcnETTpk0ZNeoVfH39iIuLQaOpAh4n/FVVVU91zKCgjsTGxlBcXERFRQXHjx9FoVA81XelJ1sIIUSd8J/DxRMSEhg3bhyzZ8+mcePG+sS4Xbt2ODg4sH37djIyMjh79iy2trb673Xr1k3fyu7l5UV+fj4XLlzAy8uLli1bAvDyyy+zbNmy3/HshBBCiGeja9fuLFgwj/HjJ1Tb3qCBE3PmvM+cOTPQaDQ0bPgcf//7B5ibWzBv3ofMnfsuSqW5fuj3jw0d+gLvvz+HY8eOYGFhga+vH3fv3vnVMTo6OjJmzJ9YseJTNm78B7t372LkyOGoVCp8fdtw48YNAIKDu7B48QLee2/+Lx7Tw6MlL700kvDwV7G2tqF+/fpYWlr+4vcAFNpf6n8XQgghjFxmZiaDBw/mu+++q7Z9xIgRjB07lpUrV3LgwAEA/vWvf7FgwQJee+01vLy8SE9PZ9++fWzZsoWZM2fi6enJ66+/DqD/c7Nmzdi4cSPbtm0DoKioiMDAQCl8JoQQ4qkkJSXj4uJq6DDEj9y+fYuYmFOMGvUKAH/5y1SGDBlGt249qu139+4tfH1bV9smw8WFEELUSenp6dy8eZPCwsJq22NiYujVqxejR4/Gz8+PI0eO/OLQsqCgIK5fv05KSgoAu3fvfmZxCyGEEOLZa9SoMVeuJDN69Iv88Y8v0axZc7p27f5U35Xh4kIIIeoE3ZxsHY1Gw7x582jQoEG1/UaOHMn06dMZPHgwSqWSoKAgoqOjf3aumKOjIx9//DHTp0/HwsKCDh06PLPzEEIIIcSzp1KpmDfvw1/1XRkuLoQQQgghhBAGJMPFjZcMFxdCCCGEEEKIWkj6Po3Pf7tmkmQLIYQQQgghhAFZWFhQXv7I0GGI/1FVVSXm5k+uAy5JthBCCCGEEEIYkLPzczx8mMOjR2XSo20ktFoN+fl5qNXqJz6TwmdCCCGEEEIIYUAODg4AZGVlU1FRYeBoxNNQKMDW1hYnJ6cnP5PCZ0IIIYQQQgghRM2Q4eJCCCGEEEIIIUQNkSRbCCGEEEIIIYSoIZJkCyGEEEIIIYQQNeT/Af4Bxxe05FciAAAAAElFTkSuQmCC\n",
=======
<<<<<<< HEAD
      "image/png": "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\n",
>>>>>>> master
      "text/plain": [
       "<Figure size 1080x576 with 2 Axes>"
=======
      "image/png": "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\n",
      "text/plain": [
       "<Figure size 864x576 with 1 Axes>"
>>>>>>> 82635201ea5190fbf422f917eb6497df76154039
      ]
     },
     "metadata": {},
     "output_type": "display_data"
    }
   ],
   "source": [
    "count_avg_plot(top_ten_brands, 'Brand', 'Count', 'Brands Featured in Top Ten','Median Rating')"
   ]
  },
  {
   "cell_type": "code",
<<<<<<< HEAD
   "execution_count": 199,
=======
   "execution_count": 44,
>>>>>>> 82635201ea5190fbf422f917eb6497df76154039
   "metadata": {},
   "outputs": [],
   "source": [
    "def generate_concatenated_word_df(df, threshhold=None):\n",
    "    \"\"\"\n",
    "    Generates a unigram, bigram and trigram dataframe.\n",
    "    Removes common words from the unigram and bigram dataframe based \n",
    "    on a threshold and concatenates the three dataframes \n",
    "    :param df: Input Pandas Dataframe\n",
    "    :param threshhold: float threshold \n",
    "    :return: Concatenated pandas dataframe\n",
    "    \"\"\"\n",
    "    uni = n_gram_df(df, 1)\n",
    "    bi = n_gram_df(df, 2)\n",
    "    tri = n_gram_df(df, 3)\n",
    "    uni = remove_words_from_df([bi, tri], uni, threshhold)\n",
    "    bi = remove_words_from_df([tri], bi, threshhold)\n",
    "    return pd.concat([uni, bi, tri])"
   ]
  },
  {
   "cell_type": "code",
<<<<<<< HEAD
   "execution_count": 197,
=======
   "execution_count": 45,
>>>>>>> 82635201ea5190fbf422f917eb6497df76154039
   "metadata": {},
   "outputs": [
    {
     "data": {
      "text/html": [
       "<div>\n",
       "<style scoped>\n",
       "    .dataframe tbody tr th:only-of-type {\n",
       "        vertical-align: middle;\n",
       "    }\n",
       "\n",
       "    .dataframe tbody tr th {\n",
       "        vertical-align: top;\n",
       "    }\n",
       "\n",
       "    .dataframe thead th {\n",
       "        text-align: right;\n",
       "    }\n",
       "</style>\n",
       "<table border=\"1\" class=\"dataframe\">\n",
       "  <thead>\n",
       "    <tr style=\"text-align: right;\">\n",
       "      <th></th>\n",
       "      <th>Word</th>\n",
       "      <th>Frequency</th>\n",
       "      <th>Mean Rating</th>\n",
       "      <th>Median Rating</th>\n",
       "    </tr>\n",
       "  </thead>\n",
       "  <tbody>\n",
       "    <tr>\n",
       "      <th>0</th>\n",
       "      <td>tom</td>\n",
       "      <td>65.0</td>\n",
       "      <td>3.736607</td>\n",
       "      <td>3.75</td>\n",
       "    </tr>\n",
       "    <tr>\n",
       "      <th>1</th>\n",
       "      <td>yum</td>\n",
       "      <td>54.0</td>\n",
       "      <td>3.805495</td>\n",
       "      <td>3.75</td>\n",
       "    </tr>\n",
       "    <tr>\n",
       "      <th>0</th>\n",
       "      <td>tom yum</td>\n",
       "      <td>54.0</td>\n",
       "      <td>3.822414</td>\n",
       "      <td>3.75</td>\n",
       "    </tr>\n",
       "    <tr>\n",
       "      <th>2</th>\n",
       "      <td>shrimp</td>\n",
       "      <td>34.0</td>\n",
       "      <td>3.533333</td>\n",
       "      <td>3.50</td>\n",
       "    </tr>\n",
       "    <tr>\n",
       "      <th>3</th>\n",
       "      <td>rice</td>\n",
       "      <td>28.0</td>\n",
       "      <td>3.390411</td>\n",
       "      <td>3.50</td>\n",
       "    </tr>\n",
       "  </tbody>\n",
       "</table>\n",
       "</div>"
      ],
      "text/plain": [
       "      Word  Frequency  Mean Rating  Median Rating\n",
       "0      tom       65.0     3.736607           3.75\n",
       "1      yum       54.0     3.805495           3.75\n",
       "0  tom yum       54.0     3.822414           3.75\n",
       "2   shrimp       34.0     3.533333           3.50\n",
       "3     rice       28.0     3.390411           3.50"
      ]
     },
<<<<<<< HEAD
     "execution_count": 197,
=======
     "execution_count": 45,
>>>>>>> 82635201ea5190fbf422f917eb6497df76154039
     "metadata": {},
     "output_type": "execute_result"
    }
   ],
   "source": [
    "thailand = generate_concatenated_word_df(ratings[ratings.Country.isin(['Thailand'])]).sort_values(by=['Frequency'], ascending= False)\n",
    "\n",
    "thailand.head()"
   ]
  },
  {
   "cell_type": "code",
<<<<<<< HEAD
   "execution_count": 202,
   "metadata": {},
   "outputs": [],
   "source": []
  },
  {
   "cell_type": "code",
<<<<<<< HEAD
   "execution_count": 222,
=======
   "execution_count": 203,
=======
   "execution_count": 46,
   "metadata": {},
   "outputs": [
    {
     "ename": "NameError",
     "evalue": "name 'top_word' is not defined",
     "output_type": "error",
     "traceback": [
      "\u001b[0;31m---------------------------------------------------------------------------\u001b[0m",
      "\u001b[0;31mNameError\u001b[0m                                 Traceback (most recent call last)",
      "\u001b[0;32m<ipython-input-46-52b360c4df7e>\u001b[0m in \u001b[0;36m<module>\u001b[0;34m\u001b[0m\n\u001b[0;32m----> 1\u001b[0;31m \u001b[0mtop_word\u001b[0m\u001b[0;34m[\u001b[0m\u001b[0;36m0\u001b[0m\u001b[0;34m]\u001b[0m\u001b[0;34m\u001b[0m\u001b[0;34m\u001b[0m\u001b[0m\n\u001b[0m",
      "\u001b[0;31mNameError\u001b[0m: name 'top_word' is not defined"
     ]
    }
   ],
   "source": [
    "top_word[0]"
   ]
  },
  {
   "cell_type": "code",
   "execution_count": 47,
>>>>>>> 82635201ea5190fbf422f917eb6497df76154039
>>>>>>> master
   "metadata": {},
   "outputs": [
    {
     "name": "stdout",
     "output_type": "stream",
     "text": [
      "These are the most popular ramen styles/flavours by country!\n",
<<<<<<< HEAD
      "Australia : chicken, mi goreng, beef\n",
      "Bangladesh : oriental style, mr curry, mr beef\n",
      "Brazil : sabor calabresa, sabor galinha caipira, lamen sabor picanha\n",
      "Cambodia : shrimp tom yum, minced pork, stewed beef\n",
      "Canada : chicken, soup, beef\n",
      "China : beef, artificial, spicy\n",
      "Colombia : sabor, sabor carne sopa, sopa con fideos\n",
      "Finland : nuudeli, nuudeli kana nudlar, kana nudlar kyckling\n",
      "Germany : soba, demae, beef\n",
      "Ghana : beef light soup\n",
      "Holland : good, sate, good chicken\n",
      "Hong Kong : soup, seafood, spicy\n",
      "Hungary : shrimp, chicken, duck\n",
      "India : masala, minute, curry\n",
      "Indonesia : rasa, mi goreng, chicken\n",
      "Japan : udon, shoyu, tonkotsu\n",
      "Malaysia : penang white curry, perisa, kari\n",
      "Mexico : sabor, sopa nissin sabor, sabor pollo\n",
      "Myanmar : rangers snack, coconut milk, shrimp tom yum\n",
      "Nepal : chicken, vegetable, rumpum\n",
      "Netherlands : oriental, island flavours, soup\n",
      "Pakistan : shoop, pizza, chatt patta\n",
      "Philippines : chicken, supreme, pancit canton\n",
      "Poland : ogorkowa, zurek, barszcz czerwony borscht\n",
      "Sarawak : sarawak white laksa, sibu kampua original, kampua dark soy\n",
      "Singapore : spicy, chicken, curry\n",
      "South Korea : ramyun, spicy, seafood\n",
      "Sweden : spicy chili, asia fast snabbnudlar, fast snabbnudlar räksmak\n",
      "Taiwan : spicy, artificial, sesame\n",
      "Thailand : tom yum, rice, pork\n",
      "UK : chicken, super, curry\n",
      "USA : chicken, soup, spicy\n",
      "United States : rice fettucini alfredo\n",
      "Vietnam : chicken, mi, shrimp\n"
=======
      "/n\n"
>>>>>>> 82635201ea5190fbf422f917eb6497df76154039
     ]
    }
   ],
   "source": [
    "countries = np.unique(ratings.Country)\n",
    "len(countries)\n",
    "word_country_df = pd.DataFrame()\n",
    "threshold = 0.4\n",
    "print('These are the most popular ramen styles/flavours by country!')\n",
    "i = 0\n",
    "for country in countries:\n",
    "    \n",
    "    try:\n",
    "        country_df = ratings[ratings.Country.isin([country])]\n",
    "        top_word_df = generate_concatenated_word_df(country_df, threshold) \\\n",
    "        .sort_values(by=['Frequency'], ascending= False)\n",
    "        top_word = top_word_df['Word'].head(3).values\n",
    "        median_rating = top_word_df['Median Rating'].head(1).values\n",
    "        words_str = ', '.join(word for word in top_word)\n",
    "        print(country,':', words_str)\n",
    "        word_country_df.loc[i, 'Country'] = country\n",
    "        word_country_df.loc[i,'Main Theme'] = top_word[0]\n",
    "        word_country_df.loc[i, 'Main Theme Rating'] = median_rating\n",
    "        word_country_df.loc[i,'Top 3 Themes'] = str(words_str)\n",
    "        i += 1\n",
    "        #word_country_dict[country] = top_word[0]\n",
    "    except:\n",
    "        pass"
   ]
  },
  {
   "cell_type": "code",
<<<<<<< HEAD
   "execution_count": 223,
=======
<<<<<<< HEAD
   "execution_count": 204,
=======
   "execution_count": 48,
>>>>>>> 82635201ea5190fbf422f917eb6497df76154039
>>>>>>> master
   "metadata": {},
   "outputs": [],
   "source": [
    "import pycountry\n",
<<<<<<< HEAD
    "def generate_iso_alpha_list(dataframe, country_col):\n",
    "    \"\"\"\n",
    "    Appends as 'ISO' column, which contains the alpha3 country code \n",
    "    to a pandas dataframe by utilizing the pycountry countries API\n",
    "    :param dataframe: Pandas Dataframe \n",
    "    :param country_col: string Column that contains the country name\n",
    "    :return: Pandas Dataframe with appended ISO column\n",
    "    \"\"\"\n",
    "    for idx in dataframe.index:\n",
    "        country = dataframe.loc[idx, country_col]\n",
    "        try:\n",
    "            iso = pycountry.countries.get(name=country).alpha_3\n",
    "            dataframe.loc[idx, 'ISO'] = iso\n",
    "        except Exception as e:\n",
    "            try:\n",
    "                iso = pycountry.countries.get(common_name=country).alpha_3\n",
    "                dataframe.loc[idx, 'ISO'] = iso\n",
    "            except Exception as e:\n",
    "                print(country, e)\n",
    "                pass\n",
    "    return dataframe"
=======
    "def generate_iso_alpha_list(country_dict):\n",
    "    iso_alpha_list = []\n",
    "    for country in country_dict.keys():\n",
    "        try:\n",
    "            iso_alpha_list.append(pycountry.countries.get(name=country).alpha_3)\n",
    "        except Exception as e:\n",
    "            try:\n",
    "                iso_alpha_list.append(pycountry.countries.get(common_name=country).alpha_3)\n",
    "            except Exception as e:\n",
    "                print(country, e)\n",
    "                pass\n",
    "    return iso_alpha_list"
>>>>>>> 82635201ea5190fbf422f917eb6497df76154039
   ]
  },
  {
   "cell_type": "code",
<<<<<<< HEAD
   "execution_count": 224,
=======
<<<<<<< HEAD
   "execution_count": 205,
>>>>>>> master
   "metadata": {},
   "outputs": [],
   "source": [
    "word_country_df['Country']\\\n",
    ".replace({\"USA\": \"United States\", \"UK\": \"United Kingdom\", \"South Korea\":\"Korea, Republic of\", \"Holland\": \"Netherlands\"}, inplace=True)"
   ]
  },
  {
   "cell_type": "code",
   "execution_count": 256,
   "metadata": {},
   "outputs": [],
   "source": [
    "word_country_df = word_country_df[~word_country_df.ISO.isnull()]"
   ]
  },
  {
   "cell_type": "code",
   "execution_count": 271,
   "metadata": {},
   "outputs": [
    {
     "data": {
      "text/html": [
       "<div>\n",
       "<style scoped>\n",
       "    .dataframe tbody tr th:only-of-type {\n",
       "        vertical-align: middle;\n",
       "    }\n",
       "\n",
       "    .dataframe tbody tr th {\n",
       "        vertical-align: top;\n",
       "    }\n",
       "\n",
       "    .dataframe thead th {\n",
       "        text-align: right;\n",
       "    }\n",
       "</style>\n",
       "<table border=\"1\" class=\"dataframe\">\n",
       "  <thead>\n",
       "    <tr style=\"text-align: right;\">\n",
       "      <th></th>\n",
       "      <th>Country</th>\n",
       "      <th>Main Theme</th>\n",
       "      <th>Main Theme Rating</th>\n",
       "      <th>Top 3 Themes</th>\n",
       "      <th>ISO</th>\n",
       "    </tr>\n",
       "  </thead>\n",
       "  <tbody>\n",
       "    <tr>\n",
       "      <th>0</th>\n",
       "      <td>Australia</td>\n",
       "      <td>chicken</td>\n",
       "      <td>3.500</td>\n",
       "      <td>chicken, mi goreng, beef</td>\n",
       "      <td>AUS</td>\n",
       "    </tr>\n",
       "    <tr>\n",
       "      <th>1</th>\n",
       "      <td>Bangladesh</td>\n",
       "      <td>oriental style</td>\n",
       "      <td>3.250</td>\n",
       "      <td>oriental style, mr curry, mr beef</td>\n",
       "      <td>BGD</td>\n",
       "    </tr>\n",
       "    <tr>\n",
       "      <th>2</th>\n",
       "      <td>Brazil</td>\n",
       "      <td>sabor calabresa</td>\n",
       "      <td>4.250</td>\n",
       "      <td>sabor calabresa, sabor galinha caipira, lamen ...</td>\n",
       "      <td>BRA</td>\n",
       "    </tr>\n",
       "    <tr>\n",
       "      <th>3</th>\n",
       "      <td>Cambodia</td>\n",
       "      <td>shrimp tom yum</td>\n",
       "      <td>4.000</td>\n",
       "      <td>shrimp tom yum, minced pork, stewed beef</td>\n",
       "      <td>KHM</td>\n",
       "    </tr>\n",
       "    <tr>\n",
       "      <th>4</th>\n",
       "      <td>Canada</td>\n",
       "      <td>chicken</td>\n",
       "      <td>3.500</td>\n",
       "      <td>chicken, soup, beef</td>\n",
       "      <td>CAN</td>\n",
       "    </tr>\n",
       "    <tr>\n",
       "      <th>5</th>\n",
       "      <td>China</td>\n",
       "      <td>beef</td>\n",
       "      <td>3.500</td>\n",
       "      <td>beef, artificial, spicy</td>\n",
       "      <td>CHN</td>\n",
       "    </tr>\n",
       "    <tr>\n",
       "      <th>6</th>\n",
       "      <td>Colombia</td>\n",
       "      <td>sabor</td>\n",
       "      <td>4.000</td>\n",
       "      <td>sabor, sabor carne sopa, sopa con fideos</td>\n",
       "      <td>COL</td>\n",
       "    </tr>\n",
       "    <tr>\n",
       "      <th>7</th>\n",
       "      <td>Finland</td>\n",
       "      <td>nuudeli</td>\n",
       "      <td>3.500</td>\n",
       "      <td>nuudeli, nuudeli kana nudlar, kana nudlar kyck...</td>\n",
       "      <td>FIN</td>\n",
       "    </tr>\n",
       "    <tr>\n",
       "      <th>8</th>\n",
       "      <td>Germany</td>\n",
       "      <td>soba</td>\n",
       "      <td>4.000</td>\n",
       "      <td>soba, demae, beef</td>\n",
       "      <td>DEU</td>\n",
       "    </tr>\n",
       "    <tr>\n",
       "      <th>9</th>\n",
       "      <td>Ghana</td>\n",
       "      <td>beef light soup</td>\n",
       "      <td>NaN</td>\n",
       "      <td>beef light soup</td>\n",
       "      <td>GHA</td>\n",
       "    </tr>\n",
       "    <tr>\n",
       "      <th>10</th>\n",
       "      <td>Netherlands</td>\n",
       "      <td>good</td>\n",
       "      <td>3.500</td>\n",
       "      <td>good, sate, good chicken</td>\n",
       "      <td>NLD</td>\n",
       "    </tr>\n",
       "    <tr>\n",
       "      <th>11</th>\n",
       "      <td>Hong Kong</td>\n",
       "      <td>soup</td>\n",
       "      <td>3.750</td>\n",
       "      <td>soup, seafood, spicy</td>\n",
       "      <td>HKG</td>\n",
       "    </tr>\n",
       "    <tr>\n",
       "      <th>12</th>\n",
       "      <td>Hungary</td>\n",
       "      <td>shrimp</td>\n",
       "      <td>3.500</td>\n",
       "      <td>shrimp, chicken, duck</td>\n",
       "      <td>HUN</td>\n",
       "    </tr>\n",
       "    <tr>\n",
       "      <th>13</th>\n",
       "      <td>India</td>\n",
       "      <td>masala</td>\n",
       "      <td>3.750</td>\n",
       "      <td>masala, minute, curry</td>\n",
       "      <td>IND</td>\n",
       "    </tr>\n",
       "    <tr>\n",
       "      <th>14</th>\n",
       "      <td>Indonesia</td>\n",
       "      <td>rasa</td>\n",
       "      <td>3.875</td>\n",
       "      <td>rasa, mi goreng, chicken</td>\n",
       "      <td>IDN</td>\n",
       "    </tr>\n",
       "    <tr>\n",
       "      <th>15</th>\n",
       "      <td>Japan</td>\n",
       "      <td>udon</td>\n",
       "      <td>3.750</td>\n",
       "      <td>udon, shoyu, tonkotsu</td>\n",
       "      <td>JPN</td>\n",
       "    </tr>\n",
       "    <tr>\n",
       "      <th>16</th>\n",
       "      <td>Malaysia</td>\n",
       "      <td>penang white curry</td>\n",
       "      <td>5.000</td>\n",
       "      <td>penang white curry, perisa, kari</td>\n",
       "      <td>MYS</td>\n",
       "    </tr>\n",
       "    <tr>\n",
       "      <th>17</th>\n",
       "      <td>Mexico</td>\n",
       "      <td>sabor</td>\n",
       "      <td>4.000</td>\n",
       "      <td>sabor, sopa nissin sabor, sabor pollo</td>\n",
       "      <td>MEX</td>\n",
       "    </tr>\n",
       "    <tr>\n",
       "      <th>18</th>\n",
       "      <td>Myanmar</td>\n",
       "      <td>rangers snack</td>\n",
       "      <td>3.250</td>\n",
       "      <td>rangers snack, coconut milk, shrimp tom yum</td>\n",
       "      <td>MMR</td>\n",
       "    </tr>\n",
       "    <tr>\n",
       "      <th>19</th>\n",
       "      <td>Nepal</td>\n",
       "      <td>chicken</td>\n",
       "      <td>3.500</td>\n",
       "      <td>chicken, vegetable, rumpum</td>\n",
       "      <td>NPL</td>\n",
       "    </tr>\n",
       "    <tr>\n",
       "      <th>20</th>\n",
       "      <td>Netherlands</td>\n",
       "      <td>oriental</td>\n",
       "      <td>3.250</td>\n",
       "      <td>oriental, island flavours, soup</td>\n",
       "      <td>NLD</td>\n",
       "    </tr>\n",
       "    <tr>\n",
       "      <th>21</th>\n",
       "      <td>Pakistan</td>\n",
       "      <td>shoop</td>\n",
       "      <td>3.250</td>\n",
       "      <td>shoop, pizza, chatt patta</td>\n",
       "      <td>PAK</td>\n",
       "    </tr>\n",
       "    <tr>\n",
       "      <th>22</th>\n",
       "      <td>Philippines</td>\n",
       "      <td>chicken</td>\n",
       "      <td>3.500</td>\n",
       "      <td>chicken, supreme, pancit canton</td>\n",
       "      <td>PHL</td>\n",
       "    </tr>\n",
       "    <tr>\n",
       "      <th>23</th>\n",
       "      <td>Poland</td>\n",
       "      <td>ogorkowa</td>\n",
       "      <td>3.250</td>\n",
       "      <td>ogorkowa, zurek, barszcz czerwony borscht</td>\n",
       "      <td>POL</td>\n",
       "    </tr>\n",
       "    <tr>\n",
       "      <th>25</th>\n",
       "      <td>Singapore</td>\n",
       "      <td>spicy</td>\n",
       "      <td>3.750</td>\n",
       "      <td>spicy, chicken, curry</td>\n",
       "      <td>SGP</td>\n",
       "    </tr>\n",
       "    <tr>\n",
       "      <th>26</th>\n",
       "      <td>Korea, Republic of</td>\n",
       "      <td>ramyun</td>\n",
       "      <td>4.000</td>\n",
       "      <td>ramyun, spicy, seafood</td>\n",
       "      <td>KOR</td>\n",
       "    </tr>\n",
       "    <tr>\n",
       "      <th>27</th>\n",
       "      <td>Sweden</td>\n",
       "      <td>spicy chili</td>\n",
       "      <td>2.750</td>\n",
       "      <td>spicy chili, asia fast snabbnudlar, fast snabb...</td>\n",
       "      <td>SWE</td>\n",
       "    </tr>\n",
       "    <tr>\n",
       "      <th>28</th>\n",
       "      <td>Taiwan</td>\n",
       "      <td>spicy</td>\n",
       "      <td>3.750</td>\n",
       "      <td>spicy, artificial, sesame</td>\n",
       "      <td>TWN</td>\n",
       "    </tr>\n",
       "    <tr>\n",
       "      <th>29</th>\n",
       "      <td>Thailand</td>\n",
       "      <td>tom yum</td>\n",
       "      <td>3.750</td>\n",
       "      <td>tom yum, rice, pork</td>\n",
       "      <td>THA</td>\n",
       "    </tr>\n",
       "    <tr>\n",
       "      <th>30</th>\n",
       "      <td>United Kingdom</td>\n",
       "      <td>chicken</td>\n",
       "      <td>3.500</td>\n",
       "      <td>chicken, super, curry</td>\n",
       "      <td>GBR</td>\n",
       "    </tr>\n",
       "    <tr>\n",
       "      <th>31</th>\n",
       "      <td>United States</td>\n",
       "      <td>chicken</td>\n",
       "      <td>3.500</td>\n",
       "      <td>chicken, soup, spicy</td>\n",
       "      <td>USA</td>\n",
       "    </tr>\n",
       "    <tr>\n",
       "      <th>33</th>\n",
       "      <td>Vietnam</td>\n",
       "      <td>chicken</td>\n",
       "      <td>3.500</td>\n",
       "      <td>chicken, mi, shrimp</td>\n",
       "      <td>VNM</td>\n",
       "    </tr>\n",
       "  </tbody>\n",
       "</table>\n",
       "</div>"
      ],
      "text/plain": [
       "               Country          Main Theme  Main Theme Rating  \\\n",
       "0            Australia             chicken              3.500   \n",
       "1           Bangladesh      oriental style              3.250   \n",
       "2               Brazil     sabor calabresa              4.250   \n",
       "3             Cambodia      shrimp tom yum              4.000   \n",
       "4               Canada             chicken              3.500   \n",
       "5                China                beef              3.500   \n",
       "6             Colombia               sabor              4.000   \n",
       "7              Finland             nuudeli              3.500   \n",
       "8              Germany                soba              4.000   \n",
       "9                Ghana     beef light soup                NaN   \n",
       "10         Netherlands                good              3.500   \n",
       "11           Hong Kong                soup              3.750   \n",
       "12             Hungary              shrimp              3.500   \n",
       "13               India              masala              3.750   \n",
       "14           Indonesia                rasa              3.875   \n",
       "15               Japan                udon              3.750   \n",
       "16            Malaysia  penang white curry              5.000   \n",
       "17              Mexico               sabor              4.000   \n",
       "18             Myanmar       rangers snack              3.250   \n",
       "19               Nepal             chicken              3.500   \n",
       "20         Netherlands            oriental              3.250   \n",
       "21            Pakistan               shoop              3.250   \n",
       "22         Philippines             chicken              3.500   \n",
       "23              Poland            ogorkowa              3.250   \n",
       "25           Singapore               spicy              3.750   \n",
       "26  Korea, Republic of              ramyun              4.000   \n",
       "27              Sweden         spicy chili              2.750   \n",
       "28              Taiwan               spicy              3.750   \n",
       "29            Thailand             tom yum              3.750   \n",
       "30      United Kingdom             chicken              3.500   \n",
       "31       United States             chicken              3.500   \n",
       "33             Vietnam             chicken              3.500   \n",
       "\n",
       "                                         Top 3 Themes  ISO  \n",
       "0                            chicken, mi goreng, beef  AUS  \n",
       "1                   oriental style, mr curry, mr beef  BGD  \n",
       "2   sabor calabresa, sabor galinha caipira, lamen ...  BRA  \n",
       "3            shrimp tom yum, minced pork, stewed beef  KHM  \n",
       "4                                 chicken, soup, beef  CAN  \n",
       "5                             beef, artificial, spicy  CHN  \n",
       "6            sabor, sabor carne sopa, sopa con fideos  COL  \n",
       "7   nuudeli, nuudeli kana nudlar, kana nudlar kyck...  FIN  \n",
       "8                                   soba, demae, beef  DEU  \n",
       "9                                     beef light soup  GHA  \n",
       "10                           good, sate, good chicken  NLD  \n",
       "11                               soup, seafood, spicy  HKG  \n",
       "12                              shrimp, chicken, duck  HUN  \n",
       "13                              masala, minute, curry  IND  \n",
       "14                           rasa, mi goreng, chicken  IDN  \n",
       "15                              udon, shoyu, tonkotsu  JPN  \n",
       "16                   penang white curry, perisa, kari  MYS  \n",
       "17              sabor, sopa nissin sabor, sabor pollo  MEX  \n",
       "18        rangers snack, coconut milk, shrimp tom yum  MMR  \n",
       "19                         chicken, vegetable, rumpum  NPL  \n",
       "20                    oriental, island flavours, soup  NLD  \n",
       "21                          shoop, pizza, chatt patta  PAK  \n",
       "22                    chicken, supreme, pancit canton  PHL  \n",
       "23          ogorkowa, zurek, barszcz czerwony borscht  POL  \n",
       "25                              spicy, chicken, curry  SGP  \n",
       "26                             ramyun, spicy, seafood  KOR  \n",
       "27  spicy chili, asia fast snabbnudlar, fast snabb...  SWE  \n",
       "28                          spicy, artificial, sesame  TWN  \n",
       "29                                tom yum, rice, pork  THA  \n",
       "30                              chicken, super, curry  GBR  \n",
       "31                               chicken, soup, spicy  USA  \n",
       "33                                chicken, mi, shrimp  VNM  "
      ]
     },
     "execution_count": 271,
     "metadata": {},
     "output_type": "execute_result"
    }
   ],
   "source": [
    "word_country_df"
   ]
  },
  {
   "cell_type": "code",
   "execution_count": 257,
   "metadata": {},
   "outputs": [
    {
     "ename": "KeyError",
     "evalue": "'[32] not found in axis'",
     "output_type": "error",
     "traceback": [
      "\u001b[0;31m---------------------------------------------------------------------------\u001b[0m",
      "\u001b[0;31mKeyError\u001b[0m                                  Traceback (most recent call last)",
      "\u001b[0;32m<ipython-input-257-4c0027cd54b2>\u001b[0m in \u001b[0;36m<module>\u001b[0;34m\u001b[0m\n\u001b[0;32m----> 1\u001b[0;31m \u001b[0mword_country_df\u001b[0m \u001b[0;34m=\u001b[0m \u001b[0mword_country_df\u001b[0m\u001b[0;34m.\u001b[0m\u001b[0mdrop\u001b[0m\u001b[0;34m(\u001b[0m\u001b[0;34m[\u001b[0m\u001b[0;36m32\u001b[0m\u001b[0;34m]\u001b[0m\u001b[0;34m)\u001b[0m\u001b[0;34m\u001b[0m\u001b[0;34m\u001b[0m\u001b[0m\n\u001b[0m",
      "\u001b[0;32m/anaconda3/lib/python3.6/site-packages/pandas/core/frame.py\u001b[0m in \u001b[0;36mdrop\u001b[0;34m(self, labels, axis, index, columns, level, inplace, errors)\u001b[0m\n\u001b[1;32m   4115\u001b[0m             \u001b[0mlevel\u001b[0m\u001b[0;34m=\u001b[0m\u001b[0mlevel\u001b[0m\u001b[0;34m,\u001b[0m\u001b[0;34m\u001b[0m\u001b[0;34m\u001b[0m\u001b[0m\n\u001b[1;32m   4116\u001b[0m             \u001b[0minplace\u001b[0m\u001b[0;34m=\u001b[0m\u001b[0minplace\u001b[0m\u001b[0;34m,\u001b[0m\u001b[0;34m\u001b[0m\u001b[0;34m\u001b[0m\u001b[0m\n\u001b[0;32m-> 4117\u001b[0;31m             \u001b[0merrors\u001b[0m\u001b[0;34m=\u001b[0m\u001b[0merrors\u001b[0m\u001b[0;34m,\u001b[0m\u001b[0;34m\u001b[0m\u001b[0;34m\u001b[0m\u001b[0m\n\u001b[0m\u001b[1;32m   4118\u001b[0m         )\n\u001b[1;32m   4119\u001b[0m \u001b[0;34m\u001b[0m\u001b[0m\n",
      "\u001b[0;32m/anaconda3/lib/python3.6/site-packages/pandas/core/generic.py\u001b[0m in \u001b[0;36mdrop\u001b[0;34m(self, labels, axis, index, columns, level, inplace, errors)\u001b[0m\n\u001b[1;32m   3912\u001b[0m         \u001b[0;32mfor\u001b[0m \u001b[0maxis\u001b[0m\u001b[0;34m,\u001b[0m \u001b[0mlabels\u001b[0m \u001b[0;32min\u001b[0m \u001b[0maxes\u001b[0m\u001b[0;34m.\u001b[0m\u001b[0mitems\u001b[0m\u001b[0;34m(\u001b[0m\u001b[0;34m)\u001b[0m\u001b[0;34m:\u001b[0m\u001b[0;34m\u001b[0m\u001b[0;34m\u001b[0m\u001b[0m\n\u001b[1;32m   3913\u001b[0m             \u001b[0;32mif\u001b[0m \u001b[0mlabels\u001b[0m \u001b[0;32mis\u001b[0m \u001b[0;32mnot\u001b[0m \u001b[0;32mNone\u001b[0m\u001b[0;34m:\u001b[0m\u001b[0;34m\u001b[0m\u001b[0;34m\u001b[0m\u001b[0m\n\u001b[0;32m-> 3914\u001b[0;31m                 \u001b[0mobj\u001b[0m \u001b[0;34m=\u001b[0m \u001b[0mobj\u001b[0m\u001b[0;34m.\u001b[0m\u001b[0m_drop_axis\u001b[0m\u001b[0;34m(\u001b[0m\u001b[0mlabels\u001b[0m\u001b[0;34m,\u001b[0m \u001b[0maxis\u001b[0m\u001b[0;34m,\u001b[0m \u001b[0mlevel\u001b[0m\u001b[0;34m=\u001b[0m\u001b[0mlevel\u001b[0m\u001b[0;34m,\u001b[0m \u001b[0merrors\u001b[0m\u001b[0;34m=\u001b[0m\u001b[0merrors\u001b[0m\u001b[0;34m)\u001b[0m\u001b[0;34m\u001b[0m\u001b[0;34m\u001b[0m\u001b[0m\n\u001b[0m\u001b[1;32m   3915\u001b[0m \u001b[0;34m\u001b[0m\u001b[0m\n\u001b[1;32m   3916\u001b[0m         \u001b[0;32mif\u001b[0m \u001b[0minplace\u001b[0m\u001b[0;34m:\u001b[0m\u001b[0;34m\u001b[0m\u001b[0;34m\u001b[0m\u001b[0m\n",
      "\u001b[0;32m/anaconda3/lib/python3.6/site-packages/pandas/core/generic.py\u001b[0m in \u001b[0;36m_drop_axis\u001b[0;34m(self, labels, axis, level, errors)\u001b[0m\n\u001b[1;32m   3944\u001b[0m                 \u001b[0mnew_axis\u001b[0m \u001b[0;34m=\u001b[0m \u001b[0maxis\u001b[0m\u001b[0;34m.\u001b[0m\u001b[0mdrop\u001b[0m\u001b[0;34m(\u001b[0m\u001b[0mlabels\u001b[0m\u001b[0;34m,\u001b[0m \u001b[0mlevel\u001b[0m\u001b[0;34m=\u001b[0m\u001b[0mlevel\u001b[0m\u001b[0;34m,\u001b[0m \u001b[0merrors\u001b[0m\u001b[0;34m=\u001b[0m\u001b[0merrors\u001b[0m\u001b[0;34m)\u001b[0m\u001b[0;34m\u001b[0m\u001b[0;34m\u001b[0m\u001b[0m\n\u001b[1;32m   3945\u001b[0m             \u001b[0;32melse\u001b[0m\u001b[0;34m:\u001b[0m\u001b[0;34m\u001b[0m\u001b[0;34m\u001b[0m\u001b[0m\n\u001b[0;32m-> 3946\u001b[0;31m                 \u001b[0mnew_axis\u001b[0m \u001b[0;34m=\u001b[0m \u001b[0maxis\u001b[0m\u001b[0;34m.\u001b[0m\u001b[0mdrop\u001b[0m\u001b[0;34m(\u001b[0m\u001b[0mlabels\u001b[0m\u001b[0;34m,\u001b[0m \u001b[0merrors\u001b[0m\u001b[0;34m=\u001b[0m\u001b[0merrors\u001b[0m\u001b[0;34m)\u001b[0m\u001b[0;34m\u001b[0m\u001b[0;34m\u001b[0m\u001b[0m\n\u001b[0m\u001b[1;32m   3947\u001b[0m             \u001b[0mresult\u001b[0m \u001b[0;34m=\u001b[0m \u001b[0mself\u001b[0m\u001b[0;34m.\u001b[0m\u001b[0mreindex\u001b[0m\u001b[0;34m(\u001b[0m\u001b[0;34m**\u001b[0m\u001b[0;34m{\u001b[0m\u001b[0maxis_name\u001b[0m\u001b[0;34m:\u001b[0m \u001b[0mnew_axis\u001b[0m\u001b[0;34m}\u001b[0m\u001b[0;34m)\u001b[0m\u001b[0;34m\u001b[0m\u001b[0;34m\u001b[0m\u001b[0m\n\u001b[1;32m   3948\u001b[0m \u001b[0;34m\u001b[0m\u001b[0m\n",
      "\u001b[0;32m/anaconda3/lib/python3.6/site-packages/pandas/core/indexes/base.py\u001b[0m in \u001b[0;36mdrop\u001b[0;34m(self, labels, errors)\u001b[0m\n\u001b[1;32m   5338\u001b[0m         \u001b[0;32mif\u001b[0m \u001b[0mmask\u001b[0m\u001b[0;34m.\u001b[0m\u001b[0many\u001b[0m\u001b[0;34m(\u001b[0m\u001b[0;34m)\u001b[0m\u001b[0;34m:\u001b[0m\u001b[0;34m\u001b[0m\u001b[0;34m\u001b[0m\u001b[0m\n\u001b[1;32m   5339\u001b[0m             \u001b[0;32mif\u001b[0m \u001b[0merrors\u001b[0m \u001b[0;34m!=\u001b[0m \u001b[0;34m\"ignore\"\u001b[0m\u001b[0;34m:\u001b[0m\u001b[0;34m\u001b[0m\u001b[0;34m\u001b[0m\u001b[0m\n\u001b[0;32m-> 5340\u001b[0;31m                 \u001b[0;32mraise\u001b[0m \u001b[0mKeyError\u001b[0m\u001b[0;34m(\u001b[0m\u001b[0;34m\"{} not found in axis\"\u001b[0m\u001b[0;34m.\u001b[0m\u001b[0mformat\u001b[0m\u001b[0;34m(\u001b[0m\u001b[0mlabels\u001b[0m\u001b[0;34m[\u001b[0m\u001b[0mmask\u001b[0m\u001b[0;34m]\u001b[0m\u001b[0;34m)\u001b[0m\u001b[0;34m)\u001b[0m\u001b[0;34m\u001b[0m\u001b[0;34m\u001b[0m\u001b[0m\n\u001b[0m\u001b[1;32m   5341\u001b[0m             \u001b[0mindexer\u001b[0m \u001b[0;34m=\u001b[0m \u001b[0mindexer\u001b[0m\u001b[0;34m[\u001b[0m\u001b[0;34m~\u001b[0m\u001b[0mmask\u001b[0m\u001b[0;34m]\u001b[0m\u001b[0;34m\u001b[0m\u001b[0;34m\u001b[0m\u001b[0m\n\u001b[1;32m   5342\u001b[0m         \u001b[0;32mreturn\u001b[0m \u001b[0mself\u001b[0m\u001b[0;34m.\u001b[0m\u001b[0mdelete\u001b[0m\u001b[0;34m(\u001b[0m\u001b[0mindexer\u001b[0m\u001b[0;34m)\u001b[0m\u001b[0;34m\u001b[0m\u001b[0;34m\u001b[0m\u001b[0m\n",
      "\u001b[0;31mKeyError\u001b[0m: '[32] not found in axis'"
     ]
    }
   ],
   "source": [
    "\n",
    "word_country_df = word_country_df.drop([32])"
=======
   "execution_count": 49,
   "metadata": {},
   "outputs": [
    {
     "ename": "KeyError",
     "evalue": "'Sarawak'",
     "output_type": "error",
     "traceback": [
      "\u001b[0;31m---------------------------------------------------------------------------\u001b[0m",
      "\u001b[0;31mKeyError\u001b[0m                                  Traceback (most recent call last)",
      "\u001b[0;32m<ipython-input-49-d6b2efea5af2>\u001b[0m in \u001b[0;36m<module>\u001b[0;34m\u001b[0m\n\u001b[0;32m----> 1\u001b[0;31m \u001b[0;32mdel\u001b[0m \u001b[0mword_country_dict\u001b[0m\u001b[0;34m[\u001b[0m\u001b[0;34m'Sarawak'\u001b[0m\u001b[0;34m]\u001b[0m\u001b[0;34m\u001b[0m\u001b[0;34m\u001b[0m\u001b[0m\n\u001b[0m\u001b[1;32m      2\u001b[0m \u001b[0mword_country_dict\u001b[0m\u001b[0;34m[\u001b[0m\u001b[0;34m'United States'\u001b[0m\u001b[0;34m]\u001b[0m \u001b[0;34m=\u001b[0m \u001b[0mword_country_dict\u001b[0m\u001b[0;34m.\u001b[0m\u001b[0mpop\u001b[0m\u001b[0;34m(\u001b[0m\u001b[0;34m'USA'\u001b[0m\u001b[0;34m)\u001b[0m\u001b[0;34m\u001b[0m\u001b[0;34m\u001b[0m\u001b[0m\n\u001b[1;32m      3\u001b[0m \u001b[0mword_country_dict\u001b[0m\u001b[0;34m[\u001b[0m\u001b[0;34m'United Kingdom'\u001b[0m\u001b[0;34m]\u001b[0m \u001b[0;34m=\u001b[0m \u001b[0mword_country_dict\u001b[0m\u001b[0;34m.\u001b[0m\u001b[0mpop\u001b[0m\u001b[0;34m(\u001b[0m\u001b[0;34m'UK'\u001b[0m\u001b[0;34m)\u001b[0m\u001b[0;34m\u001b[0m\u001b[0;34m\u001b[0m\u001b[0m\n\u001b[1;32m      4\u001b[0m \u001b[0mword_country_dict\u001b[0m\u001b[0;34m[\u001b[0m\u001b[0;34m'Korea, Republic of'\u001b[0m\u001b[0;34m]\u001b[0m \u001b[0;34m=\u001b[0m \u001b[0mword_country_dict\u001b[0m\u001b[0;34m.\u001b[0m\u001b[0mpop\u001b[0m\u001b[0;34m(\u001b[0m\u001b[0;34m'South Korea'\u001b[0m\u001b[0;34m)\u001b[0m\u001b[0;34m\u001b[0m\u001b[0;34m\u001b[0m\u001b[0m\n\u001b[1;32m      5\u001b[0m \u001b[0mword_country_dict\u001b[0m\u001b[0;34m[\u001b[0m\u001b[0;34m'Netherlands'\u001b[0m\u001b[0;34m]\u001b[0m \u001b[0;34m=\u001b[0m \u001b[0mword_country_dict\u001b[0m\u001b[0;34m.\u001b[0m\u001b[0mpop\u001b[0m\u001b[0;34m(\u001b[0m\u001b[0;34m'Holland'\u001b[0m\u001b[0;34m)\u001b[0m\u001b[0;34m\u001b[0m\u001b[0;34m\u001b[0m\u001b[0m\n",
      "\u001b[0;31mKeyError\u001b[0m: 'Sarawak'"
     ]
    }
   ],
   "source": [
    "del word_country_dict['Sarawak']\n",
    "word_country_dict['United States'] = word_country_dict.pop('USA')\n",
    "word_country_dict['United Kingdom'] = word_country_dict.pop('UK')\n",
    "word_country_dict['Korea, Republic of'] = word_country_dict.pop('South Korea')\n",
    "word_country_dict['Netherlands'] = word_country_dict.pop('Holland')"
>>>>>>> 82635201ea5190fbf422f917eb6497df76154039
   ]
  },
  {
   "cell_type": "code",
<<<<<<< HEAD
   "execution_count": 226,
=======
<<<<<<< HEAD
   "execution_count": 207,
>>>>>>> master
   "metadata": {},
   "outputs": [
    {
     "name": "stdout",
     "output_type": "stream",
     "text": [
      "Sarawak 'NoneType' object has no attribute 'alpha_3'\n"
     ]
=======
   "execution_count": 50,
   "metadata": {},
   "outputs": [
    {
     "data": {
      "text/html": [
       "<div>\n",
       "<style scoped>\n",
       "    .dataframe tbody tr th:only-of-type {\n",
       "        vertical-align: middle;\n",
       "    }\n",
       "\n",
       "    .dataframe tbody tr th {\n",
       "        vertical-align: top;\n",
       "    }\n",
       "\n",
       "    .dataframe thead th {\n",
       "        text-align: right;\n",
       "    }\n",
       "</style>\n",
       "<table border=\"1\" class=\"dataframe\">\n",
       "  <thead>\n",
       "    <tr style=\"text-align: right;\">\n",
       "      <th></th>\n",
       "      <th>Country</th>\n",
       "      <th>Words</th>\n",
       "      <th>iso</th>\n",
       "    </tr>\n",
       "  </thead>\n",
       "  <tbody>\n",
       "  </tbody>\n",
       "</table>\n",
       "</div>"
      ],
      "text/plain": [
       "Empty DataFrame\n",
       "Columns: [Country, Words, iso]\n",
       "Index: []"
      ]
     },
     "execution_count": 50,
     "metadata": {},
     "output_type": "execute_result"
>>>>>>> 82635201ea5190fbf422f917eb6497df76154039
    }
   ],
   "source": [
    "word_country_df = generate_iso_alpha_list(word_country_df, 'Country')"
   ]
  },
  {
   "cell_type": "code",
<<<<<<< HEAD
   "execution_count": 270,
=======
<<<<<<< HEAD
   "execution_count": 33,
=======
   "execution_count": 51,
>>>>>>> 82635201ea5190fbf422f917eb6497df76154039
>>>>>>> master
   "metadata": {},
   "outputs": [
    {
     "data": {
      "application/vnd.plotly.v1+json": {
       "config": {
        "plotlyServerURL": "https://plotly.com"
       },
<<<<<<< HEAD
       "data": [
        {
         "colorscale": [
          [
           0,
           "#FD3216"
          ],
          [
           1,
           "#FD3216"
          ]
         ],
         "customdata": [
          [
           3.5,
           "chicken, mi goreng, beef"
          ],
          [
           3.5,
           "chicken, soup, beef"
          ],
          [
           3.5,
           "chicken, vegetable, rumpum"
          ],
          [
           3.5,
           "chicken, supreme, pancit canton"
          ],
          [
           3.5,
           "chicken, super, curry"
          ],
          [
           3.5,
           "chicken, soup, spicy"
          ],
          [
           3.5,
           "chicken, mi, shrimp"
          ]
         ],
         "geo": "geo",
         "hovertemplate": "<b>%{hovertext}</b><br><br>Main Theme=chicken<br>Main Theme Rating=%{customdata[0]}<br>Top 3 Themes=%{customdata[1]}<br>ISO=%{location}<extra></extra>",
         "hovertext": [
          "Australia",
          "Canada",
          "Nepal",
          "Philippines",
          "United Kingdom",
          "United States",
          "Vietnam"
         ],
         "locations": [
          "AUS",
          "CAN",
          "NPL",
          "PHL",
          "GBR",
          "USA",
          "VNM"
         ],
         "name": "chicken",
         "showlegend": true,
         "showscale": false,
         "type": "choropleth",
         "z": [
          1,
          1,
          1,
          1,
          1,
          1,
          1
         ]
        },
        {
         "colorscale": [
          [
           0,
           "#00FE35"
          ],
          [
           1,
           "#00FE35"
          ]
         ],
         "customdata": [
          [
           3.25,
           "oriental style, mr curry, mr beef"
          ]
         ],
         "geo": "geo",
         "hovertemplate": "<b>%{hovertext}</b><br><br>Main Theme=oriental style<br>Main Theme Rating=%{customdata[0]}<br>Top 3 Themes=%{customdata[1]}<br>ISO=%{location}<extra></extra>",
         "hovertext": [
          "Bangladesh"
         ],
         "locations": [
          "BGD"
         ],
         "name": "oriental style",
         "showlegend": true,
         "showscale": false,
         "type": "choropleth",
         "z": [
          1
         ]
        },
        {
         "colorscale": [
          [
           0,
           "#6A76FC"
          ],
          [
           1,
           "#6A76FC"
          ]
         ],
         "customdata": [
          [
           4.25,
           "sabor calabresa, sabor galinha caipira, lamen sabor picanha"
          ]
         ],
         "geo": "geo",
         "hovertemplate": "<b>%{hovertext}</b><br><br>Main Theme=sabor calabresa<br>Main Theme Rating=%{customdata[0]}<br>Top 3 Themes=%{customdata[1]}<br>ISO=%{location}<extra></extra>",
         "hovertext": [
          "Brazil"
         ],
         "locations": [
          "BRA"
         ],
         "name": "sabor calabresa",
         "showlegend": true,
         "showscale": false,
         "type": "choropleth",
         "z": [
          1
         ]
        },
        {
         "colorscale": [
          [
           0,
           "#FED4C4"
          ],
          [
           1,
           "#FED4C4"
          ]
         ],
         "customdata": [
          [
           4,
           "shrimp tom yum, minced pork, stewed beef"
          ]
         ],
         "geo": "geo",
         "hovertemplate": "<b>%{hovertext}</b><br><br>Main Theme=shrimp tom yum<br>Main Theme Rating=%{customdata[0]}<br>Top 3 Themes=%{customdata[1]}<br>ISO=%{location}<extra></extra>",
         "hovertext": [
          "Cambodia"
         ],
         "locations": [
          "KHM"
         ],
         "name": "shrimp tom yum",
         "showlegend": true,
         "showscale": false,
         "type": "choropleth",
         "z": [
          1
         ]
        },
        {
         "colorscale": [
          [
           0,
           "#FE00CE"
          ],
          [
           1,
           "#FE00CE"
          ]
         ],
         "customdata": [
          [
           3.5,
           "beef, artificial, spicy"
          ]
         ],
         "geo": "geo",
         "hovertemplate": "<b>%{hovertext}</b><br><br>Main Theme=beef<br>Main Theme Rating=%{customdata[0]}<br>Top 3 Themes=%{customdata[1]}<br>ISO=%{location}<extra></extra>",
         "hovertext": [
          "China"
         ],
         "locations": [
          "CHN"
         ],
         "name": "beef",
         "showlegend": true,
         "showscale": false,
         "type": "choropleth",
         "z": [
          1
         ]
        },
        {
         "colorscale": [
          [
           0,
           "#0DF9FF"
          ],
          [
           1,
           "#0DF9FF"
          ]
         ],
         "customdata": [
          [
           4,
           "sabor, sabor carne sopa, sopa con fideos"
          ],
          [
           4,
           "sabor, sopa nissin sabor, sabor pollo"
          ]
         ],
         "geo": "geo",
         "hovertemplate": "<b>%{hovertext}</b><br><br>Main Theme=sabor<br>Main Theme Rating=%{customdata[0]}<br>Top 3 Themes=%{customdata[1]}<br>ISO=%{location}<extra></extra>",
         "hovertext": [
          "Colombia",
          "Mexico"
         ],
         "locations": [
          "COL",
          "MEX"
         ],
         "name": "sabor",
         "showlegend": true,
         "showscale": false,
         "type": "choropleth",
         "z": [
          1,
          1
         ]
        },
        {
         "colorscale": [
          [
           0,
           "#F6F926"
          ],
          [
           1,
           "#F6F926"
          ]
         ],
         "customdata": [
          [
           3.5,
           "nuudeli, nuudeli kana nudlar, kana nudlar kyckling"
          ]
         ],
         "geo": "geo",
         "hovertemplate": "<b>%{hovertext}</b><br><br>Main Theme=nuudeli<br>Main Theme Rating=%{customdata[0]}<br>Top 3 Themes=%{customdata[1]}<br>ISO=%{location}<extra></extra>",
         "hovertext": [
          "Finland"
         ],
         "locations": [
          "FIN"
         ],
         "name": "nuudeli",
         "showlegend": true,
         "showscale": false,
         "type": "choropleth",
         "z": [
          1
         ]
        },
        {
         "colorscale": [
          [
           0,
           "#FF9616"
          ],
          [
           1,
           "#FF9616"
          ]
         ],
         "customdata": [
          [
           4,
           "soba, demae, beef"
          ]
         ],
         "geo": "geo",
         "hovertemplate": "<b>%{hovertext}</b><br><br>Main Theme=soba<br>Main Theme Rating=%{customdata[0]}<br>Top 3 Themes=%{customdata[1]}<br>ISO=%{location}<extra></extra>",
         "hovertext": [
          "Germany"
         ],
         "locations": [
          "DEU"
         ],
         "name": "soba",
         "showlegend": true,
         "showscale": false,
         "type": "choropleth",
         "z": [
          1
         ]
        },
        {
         "colorscale": [
          [
           0,
           "#479B55"
          ],
          [
           1,
           "#479B55"
          ]
         ],
         "customdata": [
          [
           null,
           "beef light soup"
          ]
         ],
         "geo": "geo",
         "hovertemplate": "<b>%{hovertext}</b><br><br>Main Theme=beef light soup<br>Main Theme Rating=%{customdata[0]}<br>Top 3 Themes=%{customdata[1]}<br>ISO=%{location}<extra></extra>",
         "hovertext": [
          "Ghana"
         ],
         "locations": [
          "GHA"
         ],
         "name": "beef light soup",
         "showlegend": true,
         "showscale": false,
         "type": "choropleth",
         "z": [
          1
         ]
        },
        {
         "colorscale": [
          [
           0,
           "#EEA6FB"
          ],
          [
           1,
           "#EEA6FB"
          ]
         ],
         "customdata": [
          [
           3.5,
           "good, sate, good chicken"
          ]
         ],
         "geo": "geo",
         "hovertemplate": "<b>%{hovertext}</b><br><br>Main Theme=good<br>Main Theme Rating=%{customdata[0]}<br>Top 3 Themes=%{customdata[1]}<br>ISO=%{location}<extra></extra>",
         "hovertext": [
          "Netherlands"
         ],
         "locations": [
          "NLD"
         ],
         "name": "good",
         "showlegend": true,
         "showscale": false,
         "type": "choropleth",
         "z": [
          1
         ]
        },
        {
         "colorscale": [
          [
           0,
           "#DC587D"
          ],
          [
           1,
           "#DC587D"
          ]
         ],
         "customdata": [
          [
           3.75,
           "soup, seafood, spicy"
          ]
         ],
         "geo": "geo",
         "hovertemplate": "<b>%{hovertext}</b><br><br>Main Theme=soup<br>Main Theme Rating=%{customdata[0]}<br>Top 3 Themes=%{customdata[1]}<br>ISO=%{location}<extra></extra>",
         "hovertext": [
          "Hong Kong"
         ],
         "locations": [
          "HKG"
         ],
         "name": "soup",
         "showlegend": true,
         "showscale": false,
         "type": "choropleth",
         "z": [
          1
         ]
        },
        {
         "colorscale": [
          [
           0,
           "#D626FF"
          ],
          [
           1,
           "#D626FF"
          ]
         ],
         "customdata": [
          [
           3.5,
           "shrimp, chicken, duck"
          ]
         ],
         "geo": "geo",
         "hovertemplate": "<b>%{hovertext}</b><br><br>Main Theme=shrimp<br>Main Theme Rating=%{customdata[0]}<br>Top 3 Themes=%{customdata[1]}<br>ISO=%{location}<extra></extra>",
         "hovertext": [
          "Hungary"
         ],
         "locations": [
          "HUN"
         ],
         "name": "shrimp",
         "showlegend": true,
         "showscale": false,
         "type": "choropleth",
         "z": [
          1
         ]
        },
        {
         "colorscale": [
          [
           0,
           "#6E899C"
          ],
          [
           1,
           "#6E899C"
          ]
         ],
         "customdata": [
          [
           3.75,
           "masala, minute, curry"
          ]
         ],
         "geo": "geo",
         "hovertemplate": "<b>%{hovertext}</b><br><br>Main Theme=masala<br>Main Theme Rating=%{customdata[0]}<br>Top 3 Themes=%{customdata[1]}<br>ISO=%{location}<extra></extra>",
         "hovertext": [
          "India"
         ],
         "locations": [
          "IND"
         ],
         "name": "masala",
         "showlegend": true,
         "showscale": false,
         "type": "choropleth",
         "z": [
          1
         ]
        },
        {
         "colorscale": [
          [
           0,
           "#00B5F7"
          ],
          [
           1,
           "#00B5F7"
          ]
         ],
         "customdata": [
          [
           3.875,
           "rasa, mi goreng, chicken"
          ]
         ],
         "geo": "geo",
         "hovertemplate": "<b>%{hovertext}</b><br><br>Main Theme=rasa<br>Main Theme Rating=%{customdata[0]}<br>Top 3 Themes=%{customdata[1]}<br>ISO=%{location}<extra></extra>",
         "hovertext": [
          "Indonesia"
         ],
         "locations": [
          "IDN"
         ],
         "name": "rasa",
         "showlegend": true,
         "showscale": false,
         "type": "choropleth",
         "z": [
          1
         ]
        },
        {
         "colorscale": [
          [
           0,
           "#B68E00"
          ],
          [
           1,
           "#B68E00"
          ]
         ],
         "customdata": [
          [
           3.75,
           "udon, shoyu, tonkotsu"
          ]
         ],
         "geo": "geo",
         "hovertemplate": "<b>%{hovertext}</b><br><br>Main Theme=udon<br>Main Theme Rating=%{customdata[0]}<br>Top 3 Themes=%{customdata[1]}<br>ISO=%{location}<extra></extra>",
         "hovertext": [
          "Japan"
         ],
         "locations": [
          "JPN"
         ],
         "name": "udon",
         "showlegend": true,
         "showscale": false,
         "type": "choropleth",
         "z": [
          1
         ]
        },
        {
         "colorscale": [
          [
           0,
           "#C9FBE5"
          ],
          [
           1,
           "#C9FBE5"
          ]
         ],
         "customdata": [
          [
           5,
           "penang white curry, perisa, kari"
          ]
         ],
         "geo": "geo",
         "hovertemplate": "<b>%{hovertext}</b><br><br>Main Theme=penang white curry<br>Main Theme Rating=%{customdata[0]}<br>Top 3 Themes=%{customdata[1]}<br>ISO=%{location}<extra></extra>",
         "hovertext": [
          "Malaysia"
         ],
         "locations": [
          "MYS"
         ],
         "name": "penang white curry",
         "showlegend": true,
         "showscale": false,
         "type": "choropleth",
         "z": [
          1
         ]
        },
        {
         "colorscale": [
          [
           0,
           "#FF0092"
          ],
          [
           1,
           "#FF0092"
          ]
         ],
         "customdata": [
          [
           3.25,
           "rangers snack, coconut milk, shrimp tom yum"
          ]
         ],
         "geo": "geo",
         "hovertemplate": "<b>%{hovertext}</b><br><br>Main Theme=rangers snack<br>Main Theme Rating=%{customdata[0]}<br>Top 3 Themes=%{customdata[1]}<br>ISO=%{location}<extra></extra>",
         "hovertext": [
          "Myanmar"
         ],
         "locations": [
          "MMR"
         ],
         "name": "rangers snack",
         "showlegend": true,
         "showscale": false,
         "type": "choropleth",
         "z": [
          1
         ]
        },
        {
         "colorscale": [
          [
           0,
           "#22FFA7"
          ],
          [
           1,
           "#22FFA7"
          ]
         ],
         "customdata": [
          [
           3.25,
           "oriental, island flavours, soup"
          ]
         ],
         "geo": "geo",
         "hovertemplate": "<b>%{hovertext}</b><br><br>Main Theme=oriental<br>Main Theme Rating=%{customdata[0]}<br>Top 3 Themes=%{customdata[1]}<br>ISO=%{location}<extra></extra>",
         "hovertext": [
          "Netherlands"
         ],
         "locations": [
          "NLD"
         ],
         "name": "oriental",
         "showlegend": true,
         "showscale": false,
         "type": "choropleth",
         "z": [
          1
         ]
        },
        {
         "colorscale": [
          [
           0,
           "#E3EE9E"
          ],
          [
           1,
           "#E3EE9E"
          ]
         ],
         "customdata": [
          [
           3.25,
           "shoop, pizza, chatt patta"
          ]
         ],
         "geo": "geo",
         "hovertemplate": "<b>%{hovertext}</b><br><br>Main Theme=shoop<br>Main Theme Rating=%{customdata[0]}<br>Top 3 Themes=%{customdata[1]}<br>ISO=%{location}<extra></extra>",
         "hovertext": [
          "Pakistan"
         ],
         "locations": [
          "PAK"
         ],
         "name": "shoop",
         "showlegend": true,
         "showscale": false,
         "type": "choropleth",
         "z": [
          1
         ]
        },
        {
         "colorscale": [
          [
           0,
           "#86CE00"
          ],
          [
           1,
           "#86CE00"
          ]
         ],
         "customdata": [
          [
           3.25,
           "ogorkowa, zurek, barszcz czerwony borscht"
          ]
         ],
         "geo": "geo",
         "hovertemplate": "<b>%{hovertext}</b><br><br>Main Theme=ogorkowa<br>Main Theme Rating=%{customdata[0]}<br>Top 3 Themes=%{customdata[1]}<br>ISO=%{location}<extra></extra>",
         "hovertext": [
          "Poland"
         ],
         "locations": [
          "POL"
         ],
         "name": "ogorkowa",
         "showlegend": true,
         "showscale": false,
         "type": "choropleth",
         "z": [
          1
         ]
        },
        {
         "colorscale": [
          [
           0,
           "#BC7196"
          ],
          [
           1,
           "#BC7196"
          ]
         ],
         "customdata": [
          [
           3.75,
           "spicy, chicken, curry"
          ],
          [
           3.75,
           "spicy, artificial, sesame"
          ]
         ],
         "geo": "geo",
         "hovertemplate": "<b>%{hovertext}</b><br><br>Main Theme=spicy<br>Main Theme Rating=%{customdata[0]}<br>Top 3 Themes=%{customdata[1]}<br>ISO=%{location}<extra></extra>",
         "hovertext": [
          "Singapore",
          "Taiwan"
         ],
         "locations": [
          "SGP",
          "TWN"
         ],
         "name": "spicy",
         "showlegend": true,
         "showscale": false,
         "type": "choropleth",
         "z": [
          1,
          1
         ]
        },
        {
         "colorscale": [
          [
           0,
           "#7E7DCD"
          ],
          [
           1,
           "#7E7DCD"
          ]
         ],
         "customdata": [
          [
           4,
           "ramyun, spicy, seafood"
          ]
         ],
         "geo": "geo",
         "hovertemplate": "<b>%{hovertext}</b><br><br>Main Theme=ramyun<br>Main Theme Rating=%{customdata[0]}<br>Top 3 Themes=%{customdata[1]}<br>ISO=%{location}<extra></extra>",
         "hovertext": [
          "Korea, Republic of"
         ],
         "locations": [
          "KOR"
         ],
         "name": "ramyun",
         "showlegend": true,
         "showscale": false,
         "type": "choropleth",
         "z": [
          1
         ]
        },
        {
         "colorscale": [
          [
           0,
           "#FC6955"
          ],
          [
           1,
           "#FC6955"
          ]
         ],
         "customdata": [
          [
           2.75,
           "spicy chili, asia fast snabbnudlar, fast snabbnudlar räksmak"
          ]
         ],
         "geo": "geo",
         "hovertemplate": "<b>%{hovertext}</b><br><br>Main Theme=spicy chili<br>Main Theme Rating=%{customdata[0]}<br>Top 3 Themes=%{customdata[1]}<br>ISO=%{location}<extra></extra>",
         "hovertext": [
          "Sweden"
         ],
         "locations": [
          "SWE"
         ],
         "name": "spicy chili",
         "showlegend": true,
         "showscale": false,
         "type": "choropleth",
         "z": [
          1
         ]
        },
        {
         "colorscale": [
          [
           0,
           "#E48F72"
          ],
          [
           1,
           "#E48F72"
          ]
         ],
         "customdata": [
          [
           3.75,
           "tom yum, rice, pork"
          ]
         ],
         "geo": "geo",
         "hovertemplate": "<b>%{hovertext}</b><br><br>Main Theme=tom yum<br>Main Theme Rating=%{customdata[0]}<br>Top 3 Themes=%{customdata[1]}<br>ISO=%{location}<extra></extra>",
         "hovertext": [
          "Thailand"
         ],
         "locations": [
          "THA"
         ],
         "name": "tom yum",
         "showlegend": true,
         "showscale": false,
         "type": "choropleth",
         "z": [
          1
         ]
        }
       ],
       "layout": {
=======
       "data": [],
       "layout": {
        "coloraxis": {
         "colorbar": {
          "title": {
           "text": "Words"
          }
         },
         "colorscale": [
          [
           0,
           "#0d0887"
          ],
          [
           0.1111111111111111,
           "#46039f"
          ],
          [
           0.2222222222222222,
           "#7201a8"
          ],
          [
           0.3333333333333333,
           "#9c179e"
          ],
          [
           0.4444444444444444,
           "#bd3786"
          ],
          [
           0.5555555555555556,
           "#d8576b"
          ],
          [
           0.6666666666666666,
           "#ed7953"
          ],
          [
           0.7777777777777778,
           "#fb9f3a"
          ],
          [
           0.8888888888888888,
           "#fdca26"
          ],
          [
           1,
           "#f0f921"
          ]
         ]
        },
>>>>>>> 82635201ea5190fbf422f917eb6497df76154039
        "geo": {
         "center": {}
        },
        "legend": {
<<<<<<< HEAD
         "title": {
          "text": "Main Theme"
         },
=======
>>>>>>> 82635201ea5190fbf422f917eb6497df76154039
         "tracegroupgap": 0
        },
        "margin": {
         "t": 60
        },
        "template": {
         "data": {
          "bar": [
           {
            "error_x": {
             "color": "#2a3f5f"
            },
            "error_y": {
             "color": "#2a3f5f"
            },
            "marker": {
             "line": {
              "color": "#E5ECF6",
              "width": 0.5
             }
            },
            "type": "bar"
           }
          ],
          "barpolar": [
           {
            "marker": {
             "line": {
              "color": "#E5ECF6",
              "width": 0.5
             }
            },
            "type": "barpolar"
           }
          ],
          "carpet": [
           {
            "aaxis": {
             "endlinecolor": "#2a3f5f",
             "gridcolor": "white",
             "linecolor": "white",
             "minorgridcolor": "white",
             "startlinecolor": "#2a3f5f"
            },
            "baxis": {
             "endlinecolor": "#2a3f5f",
             "gridcolor": "white",
             "linecolor": "white",
             "minorgridcolor": "white",
             "startlinecolor": "#2a3f5f"
            },
            "type": "carpet"
           }
          ],
          "choropleth": [
           {
            "colorbar": {
             "outlinewidth": 0,
             "ticks": ""
            },
            "type": "choropleth"
           }
          ],
          "contour": [
           {
            "colorbar": {
             "outlinewidth": 0,
             "ticks": ""
            },
            "colorscale": [
             [
              0,
              "#0d0887"
             ],
             [
              0.1111111111111111,
              "#46039f"
             ],
             [
              0.2222222222222222,
              "#7201a8"
             ],
             [
              0.3333333333333333,
              "#9c179e"
             ],
             [
              0.4444444444444444,
              "#bd3786"
             ],
             [
              0.5555555555555556,
              "#d8576b"
             ],
             [
              0.6666666666666666,
              "#ed7953"
             ],
             [
              0.7777777777777778,
              "#fb9f3a"
             ],
             [
              0.8888888888888888,
              "#fdca26"
             ],
             [
              1,
              "#f0f921"
             ]
            ],
            "type": "contour"
           }
          ],
          "contourcarpet": [
           {
            "colorbar": {
             "outlinewidth": 0,
             "ticks": ""
            },
            "type": "contourcarpet"
           }
          ],
          "heatmap": [
           {
            "colorbar": {
             "outlinewidth": 0,
             "ticks": ""
            },
            "colorscale": [
             [
              0,
              "#0d0887"
             ],
             [
              0.1111111111111111,
              "#46039f"
             ],
             [
              0.2222222222222222,
              "#7201a8"
             ],
             [
              0.3333333333333333,
              "#9c179e"
             ],
             [
              0.4444444444444444,
              "#bd3786"
             ],
             [
              0.5555555555555556,
              "#d8576b"
             ],
             [
              0.6666666666666666,
              "#ed7953"
             ],
             [
              0.7777777777777778,
              "#fb9f3a"
             ],
             [
              0.8888888888888888,
              "#fdca26"
             ],
             [
              1,
              "#f0f921"
             ]
            ],
            "type": "heatmap"
           }
          ],
          "heatmapgl": [
           {
            "colorbar": {
             "outlinewidth": 0,
             "ticks": ""
            },
            "colorscale": [
             [
              0,
              "#0d0887"
             ],
             [
              0.1111111111111111,
              "#46039f"
             ],
             [
              0.2222222222222222,
              "#7201a8"
             ],
             [
              0.3333333333333333,
              "#9c179e"
             ],
             [
              0.4444444444444444,
              "#bd3786"
             ],
             [
              0.5555555555555556,
              "#d8576b"
             ],
             [
              0.6666666666666666,
              "#ed7953"
             ],
             [
              0.7777777777777778,
              "#fb9f3a"
             ],
             [
              0.8888888888888888,
              "#fdca26"
             ],
             [
              1,
              "#f0f921"
             ]
            ],
            "type": "heatmapgl"
           }
          ],
          "histogram": [
           {
            "marker": {
             "colorbar": {
              "outlinewidth": 0,
              "ticks": ""
             }
            },
            "type": "histogram"
           }
          ],
          "histogram2d": [
           {
            "colorbar": {
             "outlinewidth": 0,
             "ticks": ""
            },
            "colorscale": [
             [
              0,
              "#0d0887"
             ],
             [
              0.1111111111111111,
              "#46039f"
             ],
             [
              0.2222222222222222,
              "#7201a8"
             ],
             [
              0.3333333333333333,
              "#9c179e"
             ],
             [
              0.4444444444444444,
              "#bd3786"
             ],
             [
              0.5555555555555556,
              "#d8576b"
             ],
             [
              0.6666666666666666,
              "#ed7953"
             ],
             [
              0.7777777777777778,
              "#fb9f3a"
             ],
             [
              0.8888888888888888,
              "#fdca26"
             ],
             [
              1,
              "#f0f921"
             ]
            ],
            "type": "histogram2d"
           }
          ],
          "histogram2dcontour": [
           {
            "colorbar": {
             "outlinewidth": 0,
             "ticks": ""
            },
            "colorscale": [
             [
              0,
              "#0d0887"
             ],
             [
              0.1111111111111111,
              "#46039f"
             ],
             [
              0.2222222222222222,
              "#7201a8"
             ],
             [
              0.3333333333333333,
              "#9c179e"
             ],
             [
              0.4444444444444444,
              "#bd3786"
             ],
             [
              0.5555555555555556,
              "#d8576b"
             ],
             [
              0.6666666666666666,
              "#ed7953"
             ],
             [
              0.7777777777777778,
              "#fb9f3a"
             ],
             [
              0.8888888888888888,
              "#fdca26"
             ],
             [
              1,
              "#f0f921"
             ]
            ],
            "type": "histogram2dcontour"
           }
          ],
          "mesh3d": [
           {
            "colorbar": {
             "outlinewidth": 0,
             "ticks": ""
            },
            "type": "mesh3d"
           }
          ],
          "parcoords": [
           {
            "line": {
             "colorbar": {
              "outlinewidth": 0,
              "ticks": ""
             }
            },
            "type": "parcoords"
           }
          ],
          "pie": [
           {
            "automargin": true,
            "type": "pie"
           }
          ],
          "scatter": [
           {
            "marker": {
             "colorbar": {
              "outlinewidth": 0,
              "ticks": ""
             }
            },
            "type": "scatter"
           }
          ],
          "scatter3d": [
           {
            "line": {
             "colorbar": {
              "outlinewidth": 0,
              "ticks": ""
             }
            },
            "marker": {
             "colorbar": {
              "outlinewidth": 0,
              "ticks": ""
             }
            },
            "type": "scatter3d"
           }
          ],
          "scattercarpet": [
           {
            "marker": {
             "colorbar": {
              "outlinewidth": 0,
              "ticks": ""
             }
            },
            "type": "scattercarpet"
           }
          ],
          "scattergeo": [
           {
            "marker": {
             "colorbar": {
              "outlinewidth": 0,
              "ticks": ""
             }
            },
            "type": "scattergeo"
           }
          ],
          "scattergl": [
           {
            "marker": {
             "colorbar": {
              "outlinewidth": 0,
              "ticks": ""
             }
            },
            "type": "scattergl"
           }
          ],
          "scattermapbox": [
           {
            "marker": {
             "colorbar": {
              "outlinewidth": 0,
              "ticks": ""
             }
            },
            "type": "scattermapbox"
           }
          ],
          "scatterpolar": [
           {
            "marker": {
             "colorbar": {
              "outlinewidth": 0,
              "ticks": ""
             }
            },
            "type": "scatterpolar"
           }
          ],
          "scatterpolargl": [
           {
            "marker": {
             "colorbar": {
              "outlinewidth": 0,
              "ticks": ""
             }
            },
            "type": "scatterpolargl"
           }
          ],
          "scatterternary": [
           {
            "marker": {
             "colorbar": {
              "outlinewidth": 0,
              "ticks": ""
             }
            },
            "type": "scatterternary"
           }
          ],
          "surface": [
           {
            "colorbar": {
             "outlinewidth": 0,
             "ticks": ""
            },
            "colorscale": [
             [
              0,
              "#0d0887"
             ],
             [
              0.1111111111111111,
              "#46039f"
             ],
             [
              0.2222222222222222,
              "#7201a8"
             ],
             [
              0.3333333333333333,
              "#9c179e"
             ],
             [
              0.4444444444444444,
              "#bd3786"
             ],
             [
              0.5555555555555556,
              "#d8576b"
             ],
             [
              0.6666666666666666,
              "#ed7953"
             ],
             [
              0.7777777777777778,
              "#fb9f3a"
             ],
             [
              0.8888888888888888,
              "#fdca26"
             ],
             [
              1,
              "#f0f921"
             ]
            ],
            "type": "surface"
           }
          ],
          "table": [
           {
            "cells": {
             "fill": {
              "color": "#EBF0F8"
             },
             "line": {
              "color": "white"
             }
            },
            "header": {
             "fill": {
              "color": "#C8D4E3"
             },
             "line": {
              "color": "white"
             }
            },
            "type": "table"
           }
          ]
         },
         "layout": {
          "annotationdefaults": {
           "arrowcolor": "#2a3f5f",
           "arrowhead": 0,
           "arrowwidth": 1
          },
          "coloraxis": {
           "colorbar": {
            "outlinewidth": 0,
            "ticks": ""
           }
          },
          "colorscale": {
           "diverging": [
            [
             0,
             "#8e0152"
            ],
            [
             0.1,
             "#c51b7d"
            ],
            [
             0.2,
             "#de77ae"
            ],
            [
             0.3,
             "#f1b6da"
            ],
            [
             0.4,
             "#fde0ef"
            ],
            [
             0.5,
             "#f7f7f7"
            ],
            [
             0.6,
             "#e6f5d0"
            ],
            [
             0.7,
             "#b8e186"
            ],
            [
             0.8,
             "#7fbc41"
            ],
            [
             0.9,
             "#4d9221"
            ],
            [
             1,
             "#276419"
            ]
           ],
           "sequential": [
            [
             0,
             "#0d0887"
            ],
            [
             0.1111111111111111,
             "#46039f"
            ],
            [
             0.2222222222222222,
             "#7201a8"
            ],
            [
             0.3333333333333333,
             "#9c179e"
            ],
            [
             0.4444444444444444,
             "#bd3786"
            ],
            [
             0.5555555555555556,
             "#d8576b"
            ],
            [
             0.6666666666666666,
             "#ed7953"
            ],
            [
             0.7777777777777778,
             "#fb9f3a"
            ],
            [
             0.8888888888888888,
             "#fdca26"
            ],
            [
             1,
             "#f0f921"
            ]
           ],
           "sequentialminus": [
            [
             0,
             "#0d0887"
            ],
            [
             0.1111111111111111,
             "#46039f"
            ],
            [
             0.2222222222222222,
             "#7201a8"
            ],
            [
             0.3333333333333333,
             "#9c179e"
            ],
            [
             0.4444444444444444,
             "#bd3786"
            ],
            [
             0.5555555555555556,
             "#d8576b"
            ],
            [
             0.6666666666666666,
             "#ed7953"
            ],
            [
             0.7777777777777778,
             "#fb9f3a"
            ],
            [
             0.8888888888888888,
             "#fdca26"
            ],
            [
             1,
             "#f0f921"
            ]
           ]
          },
          "colorway": [
           "#636efa",
           "#EF553B",
           "#00cc96",
           "#ab63fa",
           "#FFA15A",
           "#19d3f3",
           "#FF6692",
           "#B6E880",
           "#FF97FF",
           "#FECB52"
          ],
          "font": {
           "color": "#2a3f5f"
          },
          "geo": {
           "bgcolor": "white",
           "lakecolor": "white",
           "landcolor": "#E5ECF6",
           "showlakes": true,
           "showland": true,
           "subunitcolor": "white"
          },
          "hoverlabel": {
           "align": "left"
          },
          "hovermode": "closest",
          "mapbox": {
           "style": "light"
          },
          "paper_bgcolor": "white",
          "plot_bgcolor": "#E5ECF6",
          "polar": {
           "angularaxis": {
            "gridcolor": "white",
            "linecolor": "white",
            "ticks": ""
           },
           "bgcolor": "#E5ECF6",
           "radialaxis": {
            "gridcolor": "white",
            "linecolor": "white",
            "ticks": ""
           }
          },
          "scene": {
           "xaxis": {
            "backgroundcolor": "#E5ECF6",
            "gridcolor": "white",
            "gridwidth": 2,
            "linecolor": "white",
            "showbackground": true,
            "ticks": "",
            "zerolinecolor": "white"
           },
           "yaxis": {
            "backgroundcolor": "#E5ECF6",
            "gridcolor": "white",
            "gridwidth": 2,
            "linecolor": "white",
            "showbackground": true,
            "ticks": "",
            "zerolinecolor": "white"
           },
           "zaxis": {
            "backgroundcolor": "#E5ECF6",
            "gridcolor": "white",
            "gridwidth": 2,
            "linecolor": "white",
            "showbackground": true,
            "ticks": "",
            "zerolinecolor": "white"
           }
          },
          "shapedefaults": {
           "line": {
            "color": "#2a3f5f"
           }
          },
          "ternary": {
           "aaxis": {
            "gridcolor": "white",
            "linecolor": "white",
            "ticks": ""
           },
           "baxis": {
            "gridcolor": "white",
            "linecolor": "white",
            "ticks": ""
           },
           "bgcolor": "#E5ECF6",
           "caxis": {
            "gridcolor": "white",
            "linecolor": "white",
            "ticks": ""
           }
          },
          "title": {
           "x": 0.05
          },
          "xaxis": {
           "automargin": true,
           "gridcolor": "white",
           "linecolor": "white",
           "ticks": "",
           "title": {
            "standoff": 15
           },
           "zerolinecolor": "white",
           "zerolinewidth": 2
          },
          "yaxis": {
           "automargin": true,
           "gridcolor": "white",
           "linecolor": "white",
           "ticks": "",
           "title": {
            "standoff": 15
           },
           "zerolinecolor": "white",
           "zerolinewidth": 2
          }
         }
        },
        "title": {
         "text": "Popular Ramen themes of the world!"
        },
        "xaxis": {
         "anchor": "y",
         "domain": [
          0,
          1
         ]
        },
        "yaxis": {
         "anchor": "x",
         "domain": [
          0,
          1
         ]
        }
       }
      },
      "text/html": [
       "<div>\n",
       "        \n",
       "        \n",
<<<<<<< HEAD
       "            <div id=\"07b24bf5-1a6a-411d-8650-e4e68e69fe39\" class=\"plotly-graph-div\" style=\"height:525px; width:100%;\"></div>\n",
=======
<<<<<<< HEAD
       "            <div id=\"ae1b9611-84fa-405a-a46b-32cdc8bbe80d\" class=\"plotly-graph-div\" style=\"height:525px; width:100%;\"></div>\n",
=======
       "            <div id=\"f331faff-a88b-4694-9634-e547383ed43c\" class=\"plotly-graph-div\" style=\"height:525px; width:100%;\"></div>\n",
>>>>>>> 82635201ea5190fbf422f917eb6497df76154039
>>>>>>> master
       "            <script type=\"text/javascript\">\n",
       "                require([\"plotly\"], function(Plotly) {\n",
       "                    window.PLOTLYENV=window.PLOTLYENV || {};\n",
       "                    \n",
<<<<<<< HEAD
       "                if (document.getElementById(\"07b24bf5-1a6a-411d-8650-e4e68e69fe39\")) {\n",
=======
<<<<<<< HEAD
       "                if (document.getElementById(\"ae1b9611-84fa-405a-a46b-32cdc8bbe80d\")) {\n",
>>>>>>> master
       "                    Plotly.newPlot(\n",
       "                        '07b24bf5-1a6a-411d-8650-e4e68e69fe39',\n",
       "                        [{\"colorscale\": [[0.0, \"#FD3216\"], [1.0, \"#FD3216\"]], \"customdata\": [[3.5, \"chicken, mi goreng, beef\"], [3.5, \"chicken, soup, beef\"], [3.5, \"chicken, vegetable, rumpum\"], [3.5, \"chicken, supreme, pancit canton\"], [3.5, \"chicken, super, curry\"], [3.5, \"chicken, soup, spicy\"], [3.5, \"chicken, mi, shrimp\"]], \"geo\": \"geo\", \"hovertemplate\": \"<b>%{hovertext}</b><br><br>Main Theme=chicken<br>Main Theme Rating=%{customdata[0]}<br>Top 3 Themes=%{customdata[1]}<br>ISO=%{location}<extra></extra>\", \"hovertext\": [\"Australia\", \"Canada\", \"Nepal\", \"Philippines\", \"United Kingdom\", \"United States\", \"Vietnam\"], \"locations\": [\"AUS\", \"CAN\", \"NPL\", \"PHL\", \"GBR\", \"USA\", \"VNM\"], \"name\": \"chicken\", \"showlegend\": true, \"showscale\": false, \"type\": \"choropleth\", \"z\": [1, 1, 1, 1, 1, 1, 1]}, {\"colorscale\": [[0.0, \"#00FE35\"], [1.0, \"#00FE35\"]], \"customdata\": [[3.25, \"oriental style, mr curry, mr beef\"]], \"geo\": \"geo\", \"hovertemplate\": \"<b>%{hovertext}</b><br><br>Main Theme=oriental style<br>Main Theme Rating=%{customdata[0]}<br>Top 3 Themes=%{customdata[1]}<br>ISO=%{location}<extra></extra>\", \"hovertext\": [\"Bangladesh\"], \"locations\": [\"BGD\"], \"name\": \"oriental style\", \"showlegend\": true, \"showscale\": false, \"type\": \"choropleth\", \"z\": [1]}, {\"colorscale\": [[0.0, \"#6A76FC\"], [1.0, \"#6A76FC\"]], \"customdata\": [[4.25, \"sabor calabresa, sabor galinha caipira, lamen sabor picanha\"]], \"geo\": \"geo\", \"hovertemplate\": \"<b>%{hovertext}</b><br><br>Main Theme=sabor calabresa<br>Main Theme Rating=%{customdata[0]}<br>Top 3 Themes=%{customdata[1]}<br>ISO=%{location}<extra></extra>\", \"hovertext\": [\"Brazil\"], \"locations\": [\"BRA\"], \"name\": \"sabor calabresa\", \"showlegend\": true, \"showscale\": false, \"type\": \"choropleth\", \"z\": [1]}, {\"colorscale\": [[0.0, \"#FED4C4\"], [1.0, \"#FED4C4\"]], \"customdata\": [[4.0, \"shrimp tom yum, minced pork, stewed beef\"]], \"geo\": \"geo\", \"hovertemplate\": \"<b>%{hovertext}</b><br><br>Main Theme=shrimp tom yum<br>Main Theme Rating=%{customdata[0]}<br>Top 3 Themes=%{customdata[1]}<br>ISO=%{location}<extra></extra>\", \"hovertext\": [\"Cambodia\"], \"locations\": [\"KHM\"], \"name\": \"shrimp tom yum\", \"showlegend\": true, \"showscale\": false, \"type\": \"choropleth\", \"z\": [1]}, {\"colorscale\": [[0.0, \"#FE00CE\"], [1.0, \"#FE00CE\"]], \"customdata\": [[3.5, \"beef, artificial, spicy\"]], \"geo\": \"geo\", \"hovertemplate\": \"<b>%{hovertext}</b><br><br>Main Theme=beef<br>Main Theme Rating=%{customdata[0]}<br>Top 3 Themes=%{customdata[1]}<br>ISO=%{location}<extra></extra>\", \"hovertext\": [\"China\"], \"locations\": [\"CHN\"], \"name\": \"beef\", \"showlegend\": true, \"showscale\": false, \"type\": \"choropleth\", \"z\": [1]}, {\"colorscale\": [[0.0, \"#0DF9FF\"], [1.0, \"#0DF9FF\"]], \"customdata\": [[4.0, \"sabor, sabor carne sopa, sopa con fideos\"], [4.0, \"sabor, sopa nissin sabor, sabor pollo\"]], \"geo\": \"geo\", \"hovertemplate\": \"<b>%{hovertext}</b><br><br>Main Theme=sabor<br>Main Theme Rating=%{customdata[0]}<br>Top 3 Themes=%{customdata[1]}<br>ISO=%{location}<extra></extra>\", \"hovertext\": [\"Colombia\", \"Mexico\"], \"locations\": [\"COL\", \"MEX\"], \"name\": \"sabor\", \"showlegend\": true, \"showscale\": false, \"type\": \"choropleth\", \"z\": [1, 1]}, {\"colorscale\": [[0.0, \"#F6F926\"], [1.0, \"#F6F926\"]], \"customdata\": [[3.5, \"nuudeli, nuudeli kana nudlar, kana nudlar kyckling\"]], \"geo\": \"geo\", \"hovertemplate\": \"<b>%{hovertext}</b><br><br>Main Theme=nuudeli<br>Main Theme Rating=%{customdata[0]}<br>Top 3 Themes=%{customdata[1]}<br>ISO=%{location}<extra></extra>\", \"hovertext\": [\"Finland\"], \"locations\": [\"FIN\"], \"name\": \"nuudeli\", \"showlegend\": true, \"showscale\": false, \"type\": \"choropleth\", \"z\": [1]}, {\"colorscale\": [[0.0, \"#FF9616\"], [1.0, \"#FF9616\"]], \"customdata\": [[4.0, \"soba, demae, beef\"]], \"geo\": \"geo\", \"hovertemplate\": \"<b>%{hovertext}</b><br><br>Main Theme=soba<br>Main Theme Rating=%{customdata[0]}<br>Top 3 Themes=%{customdata[1]}<br>ISO=%{location}<extra></extra>\", \"hovertext\": [\"Germany\"], \"locations\": [\"DEU\"], \"name\": \"soba\", \"showlegend\": true, \"showscale\": false, \"type\": \"choropleth\", \"z\": [1]}, {\"colorscale\": [[0.0, \"#479B55\"], [1.0, \"#479B55\"]], \"customdata\": [[null, \"beef light soup\"]], \"geo\": \"geo\", \"hovertemplate\": \"<b>%{hovertext}</b><br><br>Main Theme=beef light soup<br>Main Theme Rating=%{customdata[0]}<br>Top 3 Themes=%{customdata[1]}<br>ISO=%{location}<extra></extra>\", \"hovertext\": [\"Ghana\"], \"locations\": [\"GHA\"], \"name\": \"beef light soup\", \"showlegend\": true, \"showscale\": false, \"type\": \"choropleth\", \"z\": [1]}, {\"colorscale\": [[0.0, \"#EEA6FB\"], [1.0, \"#EEA6FB\"]], \"customdata\": [[3.5, \"good, sate, good chicken\"]], \"geo\": \"geo\", \"hovertemplate\": \"<b>%{hovertext}</b><br><br>Main Theme=good<br>Main Theme Rating=%{customdata[0]}<br>Top 3 Themes=%{customdata[1]}<br>ISO=%{location}<extra></extra>\", \"hovertext\": [\"Netherlands\"], \"locations\": [\"NLD\"], \"name\": \"good\", \"showlegend\": true, \"showscale\": false, \"type\": \"choropleth\", \"z\": [1]}, {\"colorscale\": [[0.0, \"#DC587D\"], [1.0, \"#DC587D\"]], \"customdata\": [[3.75, \"soup, seafood, spicy\"]], \"geo\": \"geo\", \"hovertemplate\": \"<b>%{hovertext}</b><br><br>Main Theme=soup<br>Main Theme Rating=%{customdata[0]}<br>Top 3 Themes=%{customdata[1]}<br>ISO=%{location}<extra></extra>\", \"hovertext\": [\"Hong Kong\"], \"locations\": [\"HKG\"], \"name\": \"soup\", \"showlegend\": true, \"showscale\": false, \"type\": \"choropleth\", \"z\": [1]}, {\"colorscale\": [[0.0, \"#D626FF\"], [1.0, \"#D626FF\"]], \"customdata\": [[3.5, \"shrimp, chicken, duck\"]], \"geo\": \"geo\", \"hovertemplate\": \"<b>%{hovertext}</b><br><br>Main Theme=shrimp<br>Main Theme Rating=%{customdata[0]}<br>Top 3 Themes=%{customdata[1]}<br>ISO=%{location}<extra></extra>\", \"hovertext\": [\"Hungary\"], \"locations\": [\"HUN\"], \"name\": \"shrimp\", \"showlegend\": true, \"showscale\": false, \"type\": \"choropleth\", \"z\": [1]}, {\"colorscale\": [[0.0, \"#6E899C\"], [1.0, \"#6E899C\"]], \"customdata\": [[3.75, \"masala, minute, curry\"]], \"geo\": \"geo\", \"hovertemplate\": \"<b>%{hovertext}</b><br><br>Main Theme=masala<br>Main Theme Rating=%{customdata[0]}<br>Top 3 Themes=%{customdata[1]}<br>ISO=%{location}<extra></extra>\", \"hovertext\": [\"India\"], \"locations\": [\"IND\"], \"name\": \"masala\", \"showlegend\": true, \"showscale\": false, \"type\": \"choropleth\", \"z\": [1]}, {\"colorscale\": [[0.0, \"#00B5F7\"], [1.0, \"#00B5F7\"]], \"customdata\": [[3.875, \"rasa, mi goreng, chicken\"]], \"geo\": \"geo\", \"hovertemplate\": \"<b>%{hovertext}</b><br><br>Main Theme=rasa<br>Main Theme Rating=%{customdata[0]}<br>Top 3 Themes=%{customdata[1]}<br>ISO=%{location}<extra></extra>\", \"hovertext\": [\"Indonesia\"], \"locations\": [\"IDN\"], \"name\": \"rasa\", \"showlegend\": true, \"showscale\": false, \"type\": \"choropleth\", \"z\": [1]}, {\"colorscale\": [[0.0, \"#B68E00\"], [1.0, \"#B68E00\"]], \"customdata\": [[3.75, \"udon, shoyu, tonkotsu\"]], \"geo\": \"geo\", \"hovertemplate\": \"<b>%{hovertext}</b><br><br>Main Theme=udon<br>Main Theme Rating=%{customdata[0]}<br>Top 3 Themes=%{customdata[1]}<br>ISO=%{location}<extra></extra>\", \"hovertext\": [\"Japan\"], \"locations\": [\"JPN\"], \"name\": \"udon\", \"showlegend\": true, \"showscale\": false, \"type\": \"choropleth\", \"z\": [1]}, {\"colorscale\": [[0.0, \"#C9FBE5\"], [1.0, \"#C9FBE5\"]], \"customdata\": [[5.0, \"penang white curry, perisa, kari\"]], \"geo\": \"geo\", \"hovertemplate\": \"<b>%{hovertext}</b><br><br>Main Theme=penang white curry<br>Main Theme Rating=%{customdata[0]}<br>Top 3 Themes=%{customdata[1]}<br>ISO=%{location}<extra></extra>\", \"hovertext\": [\"Malaysia\"], \"locations\": [\"MYS\"], \"name\": \"penang white curry\", \"showlegend\": true, \"showscale\": false, \"type\": \"choropleth\", \"z\": [1]}, {\"colorscale\": [[0.0, \"#FF0092\"], [1.0, \"#FF0092\"]], \"customdata\": [[3.25, \"rangers snack, coconut milk, shrimp tom yum\"]], \"geo\": \"geo\", \"hovertemplate\": \"<b>%{hovertext}</b><br><br>Main Theme=rangers snack<br>Main Theme Rating=%{customdata[0]}<br>Top 3 Themes=%{customdata[1]}<br>ISO=%{location}<extra></extra>\", \"hovertext\": [\"Myanmar\"], \"locations\": [\"MMR\"], \"name\": \"rangers snack\", \"showlegend\": true, \"showscale\": false, \"type\": \"choropleth\", \"z\": [1]}, {\"colorscale\": [[0.0, \"#22FFA7\"], [1.0, \"#22FFA7\"]], \"customdata\": [[3.25, \"oriental, island flavours, soup\"]], \"geo\": \"geo\", \"hovertemplate\": \"<b>%{hovertext}</b><br><br>Main Theme=oriental<br>Main Theme Rating=%{customdata[0]}<br>Top 3 Themes=%{customdata[1]}<br>ISO=%{location}<extra></extra>\", \"hovertext\": [\"Netherlands\"], \"locations\": [\"NLD\"], \"name\": \"oriental\", \"showlegend\": true, \"showscale\": false, \"type\": \"choropleth\", \"z\": [1]}, {\"colorscale\": [[0.0, \"#E3EE9E\"], [1.0, \"#E3EE9E\"]], \"customdata\": [[3.25, \"shoop, pizza, chatt patta\"]], \"geo\": \"geo\", \"hovertemplate\": \"<b>%{hovertext}</b><br><br>Main Theme=shoop<br>Main Theme Rating=%{customdata[0]}<br>Top 3 Themes=%{customdata[1]}<br>ISO=%{location}<extra></extra>\", \"hovertext\": [\"Pakistan\"], \"locations\": [\"PAK\"], \"name\": \"shoop\", \"showlegend\": true, \"showscale\": false, \"type\": \"choropleth\", \"z\": [1]}, {\"colorscale\": [[0.0, \"#86CE00\"], [1.0, \"#86CE00\"]], \"customdata\": [[3.25, \"ogorkowa, zurek, barszcz czerwony borscht\"]], \"geo\": \"geo\", \"hovertemplate\": \"<b>%{hovertext}</b><br><br>Main Theme=ogorkowa<br>Main Theme Rating=%{customdata[0]}<br>Top 3 Themes=%{customdata[1]}<br>ISO=%{location}<extra></extra>\", \"hovertext\": [\"Poland\"], \"locations\": [\"POL\"], \"name\": \"ogorkowa\", \"showlegend\": true, \"showscale\": false, \"type\": \"choropleth\", \"z\": [1]}, {\"colorscale\": [[0.0, \"#BC7196\"], [1.0, \"#BC7196\"]], \"customdata\": [[3.75, \"spicy, chicken, curry\"], [3.75, \"spicy, artificial, sesame\"]], \"geo\": \"geo\", \"hovertemplate\": \"<b>%{hovertext}</b><br><br>Main Theme=spicy<br>Main Theme Rating=%{customdata[0]}<br>Top 3 Themes=%{customdata[1]}<br>ISO=%{location}<extra></extra>\", \"hovertext\": [\"Singapore\", \"Taiwan\"], \"locations\": [\"SGP\", \"TWN\"], \"name\": \"spicy\", \"showlegend\": true, \"showscale\": false, \"type\": \"choropleth\", \"z\": [1, 1]}, {\"colorscale\": [[0.0, \"#7E7DCD\"], [1.0, \"#7E7DCD\"]], \"customdata\": [[4.0, \"ramyun, spicy, seafood\"]], \"geo\": \"geo\", \"hovertemplate\": \"<b>%{hovertext}</b><br><br>Main Theme=ramyun<br>Main Theme Rating=%{customdata[0]}<br>Top 3 Themes=%{customdata[1]}<br>ISO=%{location}<extra></extra>\", \"hovertext\": [\"Korea, Republic of\"], \"locations\": [\"KOR\"], \"name\": \"ramyun\", \"showlegend\": true, \"showscale\": false, \"type\": \"choropleth\", \"z\": [1]}, {\"colorscale\": [[0.0, \"#FC6955\"], [1.0, \"#FC6955\"]], \"customdata\": [[2.75, \"spicy chili, asia fast snabbnudlar, fast snabbnudlar r\\u00e4ksmak\"]], \"geo\": \"geo\", \"hovertemplate\": \"<b>%{hovertext}</b><br><br>Main Theme=spicy chili<br>Main Theme Rating=%{customdata[0]}<br>Top 3 Themes=%{customdata[1]}<br>ISO=%{location}<extra></extra>\", \"hovertext\": [\"Sweden\"], \"locations\": [\"SWE\"], \"name\": \"spicy chili\", \"showlegend\": true, \"showscale\": false, \"type\": \"choropleth\", \"z\": [1]}, {\"colorscale\": [[0.0, \"#E48F72\"], [1.0, \"#E48F72\"]], \"customdata\": [[3.75, \"tom yum, rice, pork\"]], \"geo\": \"geo\", \"hovertemplate\": \"<b>%{hovertext}</b><br><br>Main Theme=tom yum<br>Main Theme Rating=%{customdata[0]}<br>Top 3 Themes=%{customdata[1]}<br>ISO=%{location}<extra></extra>\", \"hovertext\": [\"Thailand\"], \"locations\": [\"THA\"], \"name\": \"tom yum\", \"showlegend\": true, \"showscale\": false, \"type\": \"choropleth\", \"z\": [1]}],\n",
       "                        {\"geo\": {\"center\": {}, \"domain\": {\"x\": [0.0, 1.0], \"y\": [0.0, 1.0]}}, \"legend\": {\"title\": {\"text\": \"Main Theme\"}, \"tracegroupgap\": 0}, \"margin\": {\"t\": 60}, \"template\": {\"data\": {\"bar\": [{\"error_x\": {\"color\": \"#2a3f5f\"}, \"error_y\": {\"color\": \"#2a3f5f\"}, \"marker\": {\"line\": {\"color\": \"#E5ECF6\", \"width\": 0.5}}, \"type\": \"bar\"}], \"barpolar\": [{\"marker\": {\"line\": {\"color\": \"#E5ECF6\", \"width\": 0.5}}, \"type\": \"barpolar\"}], \"carpet\": [{\"aaxis\": {\"endlinecolor\": \"#2a3f5f\", \"gridcolor\": \"white\", \"linecolor\": \"white\", \"minorgridcolor\": \"white\", \"startlinecolor\": \"#2a3f5f\"}, \"baxis\": {\"endlinecolor\": \"#2a3f5f\", \"gridcolor\": \"white\", \"linecolor\": \"white\", \"minorgridcolor\": \"white\", \"startlinecolor\": \"#2a3f5f\"}, \"type\": \"carpet\"}], \"choropleth\": [{\"colorbar\": {\"outlinewidth\": 0, \"ticks\": \"\"}, \"type\": \"choropleth\"}], \"contour\": [{\"colorbar\": {\"outlinewidth\": 0, \"ticks\": \"\"}, \"colorscale\": [[0.0, \"#0d0887\"], [0.1111111111111111, \"#46039f\"], [0.2222222222222222, \"#7201a8\"], [0.3333333333333333, \"#9c179e\"], [0.4444444444444444, \"#bd3786\"], [0.5555555555555556, \"#d8576b\"], [0.6666666666666666, \"#ed7953\"], [0.7777777777777778, \"#fb9f3a\"], [0.8888888888888888, \"#fdca26\"], [1.0, \"#f0f921\"]], \"type\": \"contour\"}], \"contourcarpet\": [{\"colorbar\": {\"outlinewidth\": 0, \"ticks\": \"\"}, \"type\": \"contourcarpet\"}], \"heatmap\": [{\"colorbar\": {\"outlinewidth\": 0, \"ticks\": \"\"}, \"colorscale\": [[0.0, \"#0d0887\"], [0.1111111111111111, \"#46039f\"], [0.2222222222222222, \"#7201a8\"], [0.3333333333333333, \"#9c179e\"], [0.4444444444444444, \"#bd3786\"], [0.5555555555555556, \"#d8576b\"], [0.6666666666666666, \"#ed7953\"], [0.7777777777777778, \"#fb9f3a\"], [0.8888888888888888, \"#fdca26\"], [1.0, \"#f0f921\"]], \"type\": \"heatmap\"}], \"heatmapgl\": [{\"colorbar\": {\"outlinewidth\": 0, \"ticks\": \"\"}, \"colorscale\": [[0.0, \"#0d0887\"], [0.1111111111111111, \"#46039f\"], [0.2222222222222222, \"#7201a8\"], [0.3333333333333333, \"#9c179e\"], [0.4444444444444444, \"#bd3786\"], [0.5555555555555556, \"#d8576b\"], [0.6666666666666666, \"#ed7953\"], [0.7777777777777778, \"#fb9f3a\"], [0.8888888888888888, \"#fdca26\"], [1.0, \"#f0f921\"]], \"type\": \"heatmapgl\"}], \"histogram\": [{\"marker\": {\"colorbar\": {\"outlinewidth\": 0, \"ticks\": \"\"}}, \"type\": \"histogram\"}], \"histogram2d\": [{\"colorbar\": {\"outlinewidth\": 0, \"ticks\": \"\"}, \"colorscale\": [[0.0, \"#0d0887\"], [0.1111111111111111, \"#46039f\"], [0.2222222222222222, \"#7201a8\"], [0.3333333333333333, \"#9c179e\"], [0.4444444444444444, \"#bd3786\"], [0.5555555555555556, \"#d8576b\"], [0.6666666666666666, \"#ed7953\"], [0.7777777777777778, \"#fb9f3a\"], [0.8888888888888888, \"#fdca26\"], [1.0, \"#f0f921\"]], \"type\": \"histogram2d\"}], \"histogram2dcontour\": [{\"colorbar\": {\"outlinewidth\": 0, \"ticks\": \"\"}, \"colorscale\": [[0.0, \"#0d0887\"], [0.1111111111111111, \"#46039f\"], [0.2222222222222222, \"#7201a8\"], [0.3333333333333333, \"#9c179e\"], [0.4444444444444444, \"#bd3786\"], [0.5555555555555556, \"#d8576b\"], [0.6666666666666666, \"#ed7953\"], [0.7777777777777778, \"#fb9f3a\"], [0.8888888888888888, \"#fdca26\"], [1.0, \"#f0f921\"]], \"type\": \"histogram2dcontour\"}], \"mesh3d\": [{\"colorbar\": {\"outlinewidth\": 0, \"ticks\": \"\"}, \"type\": \"mesh3d\"}], \"parcoords\": [{\"line\": {\"colorbar\": {\"outlinewidth\": 0, \"ticks\": \"\"}}, \"type\": \"parcoords\"}], \"pie\": [{\"automargin\": true, \"type\": \"pie\"}], \"scatter\": [{\"marker\": {\"colorbar\": {\"outlinewidth\": 0, \"ticks\": \"\"}}, \"type\": \"scatter\"}], \"scatter3d\": [{\"line\": {\"colorbar\": {\"outlinewidth\": 0, \"ticks\": \"\"}}, \"marker\": {\"colorbar\": {\"outlinewidth\": 0, \"ticks\": \"\"}}, \"type\": \"scatter3d\"}], \"scattercarpet\": [{\"marker\": {\"colorbar\": {\"outlinewidth\": 0, \"ticks\": \"\"}}, \"type\": \"scattercarpet\"}], \"scattergeo\": [{\"marker\": {\"colorbar\": {\"outlinewidth\": 0, \"ticks\": \"\"}}, \"type\": \"scattergeo\"}], \"scattergl\": [{\"marker\": {\"colorbar\": {\"outlinewidth\": 0, \"ticks\": \"\"}}, \"type\": \"scattergl\"}], \"scattermapbox\": [{\"marker\": {\"colorbar\": {\"outlinewidth\": 0, \"ticks\": \"\"}}, \"type\": \"scattermapbox\"}], \"scatterpolar\": [{\"marker\": {\"colorbar\": {\"outlinewidth\": 0, \"ticks\": \"\"}}, \"type\": \"scatterpolar\"}], \"scatterpolargl\": [{\"marker\": {\"colorbar\": {\"outlinewidth\": 0, \"ticks\": \"\"}}, \"type\": \"scatterpolargl\"}], \"scatterternary\": [{\"marker\": {\"colorbar\": {\"outlinewidth\": 0, \"ticks\": \"\"}}, \"type\": \"scatterternary\"}], \"surface\": [{\"colorbar\": {\"outlinewidth\": 0, \"ticks\": \"\"}, \"colorscale\": [[0.0, \"#0d0887\"], [0.1111111111111111, \"#46039f\"], [0.2222222222222222, \"#7201a8\"], [0.3333333333333333, \"#9c179e\"], [0.4444444444444444, \"#bd3786\"], [0.5555555555555556, \"#d8576b\"], [0.6666666666666666, \"#ed7953\"], [0.7777777777777778, \"#fb9f3a\"], [0.8888888888888888, \"#fdca26\"], [1.0, \"#f0f921\"]], \"type\": \"surface\"}], \"table\": [{\"cells\": {\"fill\": {\"color\": \"#EBF0F8\"}, \"line\": {\"color\": \"white\"}}, \"header\": {\"fill\": {\"color\": \"#C8D4E3\"}, \"line\": {\"color\": \"white\"}}, \"type\": \"table\"}]}, \"layout\": {\"annotationdefaults\": {\"arrowcolor\": \"#2a3f5f\", \"arrowhead\": 0, \"arrowwidth\": 1}, \"coloraxis\": {\"colorbar\": {\"outlinewidth\": 0, \"ticks\": \"\"}}, \"colorscale\": {\"diverging\": [[0, \"#8e0152\"], [0.1, \"#c51b7d\"], [0.2, \"#de77ae\"], [0.3, \"#f1b6da\"], [0.4, \"#fde0ef\"], [0.5, \"#f7f7f7\"], [0.6, \"#e6f5d0\"], [0.7, \"#b8e186\"], [0.8, \"#7fbc41\"], [0.9, \"#4d9221\"], [1, \"#276419\"]], \"sequential\": [[0.0, \"#0d0887\"], [0.1111111111111111, \"#46039f\"], [0.2222222222222222, \"#7201a8\"], [0.3333333333333333, \"#9c179e\"], [0.4444444444444444, \"#bd3786\"], [0.5555555555555556, \"#d8576b\"], [0.6666666666666666, \"#ed7953\"], [0.7777777777777778, \"#fb9f3a\"], [0.8888888888888888, \"#fdca26\"], [1.0, \"#f0f921\"]], \"sequentialminus\": [[0.0, \"#0d0887\"], [0.1111111111111111, \"#46039f\"], [0.2222222222222222, \"#7201a8\"], [0.3333333333333333, \"#9c179e\"], [0.4444444444444444, \"#bd3786\"], [0.5555555555555556, \"#d8576b\"], [0.6666666666666666, \"#ed7953\"], [0.7777777777777778, \"#fb9f3a\"], [0.8888888888888888, \"#fdca26\"], [1.0, \"#f0f921\"]]}, \"colorway\": [\"#636efa\", \"#EF553B\", \"#00cc96\", \"#ab63fa\", \"#FFA15A\", \"#19d3f3\", \"#FF6692\", \"#B6E880\", \"#FF97FF\", \"#FECB52\"], \"font\": {\"color\": \"#2a3f5f\"}, \"geo\": {\"bgcolor\": \"white\", \"lakecolor\": \"white\", \"landcolor\": \"#E5ECF6\", \"showlakes\": true, \"showland\": true, \"subunitcolor\": \"white\"}, \"hoverlabel\": {\"align\": \"left\"}, \"hovermode\": \"closest\", \"mapbox\": {\"style\": \"light\"}, \"paper_bgcolor\": \"white\", \"plot_bgcolor\": \"#E5ECF6\", \"polar\": {\"angularaxis\": {\"gridcolor\": \"white\", \"linecolor\": \"white\", \"ticks\": \"\"}, \"bgcolor\": \"#E5ECF6\", \"radialaxis\": {\"gridcolor\": \"white\", \"linecolor\": \"white\", \"ticks\": \"\"}}, \"scene\": {\"xaxis\": {\"backgroundcolor\": \"#E5ECF6\", \"gridcolor\": \"white\", \"gridwidth\": 2, \"linecolor\": \"white\", \"showbackground\": true, \"ticks\": \"\", \"zerolinecolor\": \"white\"}, \"yaxis\": {\"backgroundcolor\": \"#E5ECF6\", \"gridcolor\": \"white\", \"gridwidth\": 2, \"linecolor\": \"white\", \"showbackground\": true, \"ticks\": \"\", \"zerolinecolor\": \"white\"}, \"zaxis\": {\"backgroundcolor\": \"#E5ECF6\", \"gridcolor\": \"white\", \"gridwidth\": 2, \"linecolor\": \"white\", \"showbackground\": true, \"ticks\": \"\", \"zerolinecolor\": \"white\"}}, \"shapedefaults\": {\"line\": {\"color\": \"#2a3f5f\"}}, \"ternary\": {\"aaxis\": {\"gridcolor\": \"white\", \"linecolor\": \"white\", \"ticks\": \"\"}, \"baxis\": {\"gridcolor\": \"white\", \"linecolor\": \"white\", \"ticks\": \"\"}, \"bgcolor\": \"#E5ECF6\", \"caxis\": {\"gridcolor\": \"white\", \"linecolor\": \"white\", \"ticks\": \"\"}}, \"title\": {\"x\": 0.05}, \"xaxis\": {\"automargin\": true, \"gridcolor\": \"white\", \"linecolor\": \"white\", \"ticks\": \"\", \"title\": {\"standoff\": 15}, \"zerolinecolor\": \"white\", \"zerolinewidth\": 2}, \"yaxis\": {\"automargin\": true, \"gridcolor\": \"white\", \"linecolor\": \"white\", \"ticks\": \"\", \"title\": {\"standoff\": 15}, \"zerolinecolor\": \"white\", \"zerolinewidth\": 2}}}, \"title\": {\"text\": \"Popular Ramen themes of the world!\"}},\n",
       "                        {\"responsive\": true}\n",
       "                    ).then(function(){\n",
       "                            \n",
<<<<<<< HEAD
       "var gd = document.getElementById('07b24bf5-1a6a-411d-8650-e4e68e69fe39');\n",
=======
       "var gd = document.getElementById('ae1b9611-84fa-405a-a46b-32cdc8bbe80d');\n",
=======
       "                if (document.getElementById(\"f331faff-a88b-4694-9634-e547383ed43c\")) {\n",
       "                    Plotly.newPlot(\n",
       "                        'f331faff-a88b-4694-9634-e547383ed43c',\n",
       "                        [],\n",
       "                        {\"coloraxis\": {\"colorbar\": {\"title\": {\"text\": \"Words\"}}, \"colorscale\": [[0.0, \"#0d0887\"], [0.1111111111111111, \"#46039f\"], [0.2222222222222222, \"#7201a8\"], [0.3333333333333333, \"#9c179e\"], [0.4444444444444444, \"#bd3786\"], [0.5555555555555556, \"#d8576b\"], [0.6666666666666666, \"#ed7953\"], [0.7777777777777778, \"#fb9f3a\"], [0.8888888888888888, \"#fdca26\"], [1.0, \"#f0f921\"]]}, \"geo\": {\"center\": {}}, \"legend\": {\"tracegroupgap\": 0}, \"margin\": {\"t\": 60}, \"template\": {\"data\": {\"bar\": [{\"error_x\": {\"color\": \"#2a3f5f\"}, \"error_y\": {\"color\": \"#2a3f5f\"}, \"marker\": {\"line\": {\"color\": \"#E5ECF6\", \"width\": 0.5}}, \"type\": \"bar\"}], \"barpolar\": [{\"marker\": {\"line\": {\"color\": \"#E5ECF6\", \"width\": 0.5}}, \"type\": \"barpolar\"}], \"carpet\": [{\"aaxis\": {\"endlinecolor\": \"#2a3f5f\", \"gridcolor\": \"white\", \"linecolor\": \"white\", \"minorgridcolor\": \"white\", \"startlinecolor\": \"#2a3f5f\"}, \"baxis\": {\"endlinecolor\": \"#2a3f5f\", \"gridcolor\": \"white\", \"linecolor\": \"white\", \"minorgridcolor\": \"white\", \"startlinecolor\": \"#2a3f5f\"}, \"type\": \"carpet\"}], \"choropleth\": [{\"colorbar\": {\"outlinewidth\": 0, \"ticks\": \"\"}, \"type\": \"choropleth\"}], \"contour\": [{\"colorbar\": {\"outlinewidth\": 0, \"ticks\": \"\"}, \"colorscale\": [[0.0, \"#0d0887\"], [0.1111111111111111, \"#46039f\"], [0.2222222222222222, \"#7201a8\"], [0.3333333333333333, \"#9c179e\"], [0.4444444444444444, \"#bd3786\"], [0.5555555555555556, \"#d8576b\"], [0.6666666666666666, \"#ed7953\"], [0.7777777777777778, \"#fb9f3a\"], [0.8888888888888888, \"#fdca26\"], [1.0, \"#f0f921\"]], \"type\": \"contour\"}], \"contourcarpet\": [{\"colorbar\": {\"outlinewidth\": 0, \"ticks\": \"\"}, \"type\": \"contourcarpet\"}], \"heatmap\": [{\"colorbar\": {\"outlinewidth\": 0, \"ticks\": \"\"}, \"colorscale\": [[0.0, \"#0d0887\"], [0.1111111111111111, \"#46039f\"], [0.2222222222222222, \"#7201a8\"], [0.3333333333333333, \"#9c179e\"], [0.4444444444444444, \"#bd3786\"], [0.5555555555555556, \"#d8576b\"], [0.6666666666666666, \"#ed7953\"], [0.7777777777777778, \"#fb9f3a\"], [0.8888888888888888, \"#fdca26\"], [1.0, \"#f0f921\"]], \"type\": \"heatmap\"}], \"heatmapgl\": [{\"colorbar\": {\"outlinewidth\": 0, \"ticks\": \"\"}, \"colorscale\": [[0.0, \"#0d0887\"], [0.1111111111111111, \"#46039f\"], [0.2222222222222222, \"#7201a8\"], [0.3333333333333333, \"#9c179e\"], [0.4444444444444444, \"#bd3786\"], [0.5555555555555556, \"#d8576b\"], [0.6666666666666666, \"#ed7953\"], [0.7777777777777778, \"#fb9f3a\"], [0.8888888888888888, \"#fdca26\"], [1.0, \"#f0f921\"]], \"type\": \"heatmapgl\"}], \"histogram\": [{\"marker\": {\"colorbar\": {\"outlinewidth\": 0, \"ticks\": \"\"}}, \"type\": \"histogram\"}], \"histogram2d\": [{\"colorbar\": {\"outlinewidth\": 0, \"ticks\": \"\"}, \"colorscale\": [[0.0, \"#0d0887\"], [0.1111111111111111, \"#46039f\"], [0.2222222222222222, \"#7201a8\"], [0.3333333333333333, \"#9c179e\"], [0.4444444444444444, \"#bd3786\"], [0.5555555555555556, \"#d8576b\"], [0.6666666666666666, \"#ed7953\"], [0.7777777777777778, \"#fb9f3a\"], [0.8888888888888888, \"#fdca26\"], [1.0, \"#f0f921\"]], \"type\": \"histogram2d\"}], \"histogram2dcontour\": [{\"colorbar\": {\"outlinewidth\": 0, \"ticks\": \"\"}, \"colorscale\": [[0.0, \"#0d0887\"], [0.1111111111111111, \"#46039f\"], [0.2222222222222222, \"#7201a8\"], [0.3333333333333333, \"#9c179e\"], [0.4444444444444444, \"#bd3786\"], [0.5555555555555556, \"#d8576b\"], [0.6666666666666666, \"#ed7953\"], [0.7777777777777778, \"#fb9f3a\"], [0.8888888888888888, \"#fdca26\"], [1.0, \"#f0f921\"]], \"type\": \"histogram2dcontour\"}], \"mesh3d\": [{\"colorbar\": {\"outlinewidth\": 0, \"ticks\": \"\"}, \"type\": \"mesh3d\"}], \"parcoords\": [{\"line\": {\"colorbar\": {\"outlinewidth\": 0, \"ticks\": \"\"}}, \"type\": \"parcoords\"}], \"pie\": [{\"automargin\": true, \"type\": \"pie\"}], \"scatter\": [{\"marker\": {\"colorbar\": {\"outlinewidth\": 0, \"ticks\": \"\"}}, \"type\": \"scatter\"}], \"scatter3d\": [{\"line\": {\"colorbar\": {\"outlinewidth\": 0, \"ticks\": \"\"}}, \"marker\": {\"colorbar\": {\"outlinewidth\": 0, \"ticks\": \"\"}}, \"type\": \"scatter3d\"}], \"scattercarpet\": [{\"marker\": {\"colorbar\": {\"outlinewidth\": 0, \"ticks\": \"\"}}, \"type\": \"scattercarpet\"}], \"scattergeo\": [{\"marker\": {\"colorbar\": {\"outlinewidth\": 0, \"ticks\": \"\"}}, \"type\": \"scattergeo\"}], \"scattergl\": [{\"marker\": {\"colorbar\": {\"outlinewidth\": 0, \"ticks\": \"\"}}, \"type\": \"scattergl\"}], \"scattermapbox\": [{\"marker\": {\"colorbar\": {\"outlinewidth\": 0, \"ticks\": \"\"}}, \"type\": \"scattermapbox\"}], \"scatterpolar\": [{\"marker\": {\"colorbar\": {\"outlinewidth\": 0, \"ticks\": \"\"}}, \"type\": \"scatterpolar\"}], \"scatterpolargl\": [{\"marker\": {\"colorbar\": {\"outlinewidth\": 0, \"ticks\": \"\"}}, \"type\": \"scatterpolargl\"}], \"scatterternary\": [{\"marker\": {\"colorbar\": {\"outlinewidth\": 0, \"ticks\": \"\"}}, \"type\": \"scatterternary\"}], \"surface\": [{\"colorbar\": {\"outlinewidth\": 0, \"ticks\": \"\"}, \"colorscale\": [[0.0, \"#0d0887\"], [0.1111111111111111, \"#46039f\"], [0.2222222222222222, \"#7201a8\"], [0.3333333333333333, \"#9c179e\"], [0.4444444444444444, \"#bd3786\"], [0.5555555555555556, \"#d8576b\"], [0.6666666666666666, \"#ed7953\"], [0.7777777777777778, \"#fb9f3a\"], [0.8888888888888888, \"#fdca26\"], [1.0, \"#f0f921\"]], \"type\": \"surface\"}], \"table\": [{\"cells\": {\"fill\": {\"color\": \"#EBF0F8\"}, \"line\": {\"color\": \"white\"}}, \"header\": {\"fill\": {\"color\": \"#C8D4E3\"}, \"line\": {\"color\": \"white\"}}, \"type\": \"table\"}]}, \"layout\": {\"annotationdefaults\": {\"arrowcolor\": \"#2a3f5f\", \"arrowhead\": 0, \"arrowwidth\": 1}, \"coloraxis\": {\"colorbar\": {\"outlinewidth\": 0, \"ticks\": \"\"}}, \"colorscale\": {\"diverging\": [[0, \"#8e0152\"], [0.1, \"#c51b7d\"], [0.2, \"#de77ae\"], [0.3, \"#f1b6da\"], [0.4, \"#fde0ef\"], [0.5, \"#f7f7f7\"], [0.6, \"#e6f5d0\"], [0.7, \"#b8e186\"], [0.8, \"#7fbc41\"], [0.9, \"#4d9221\"], [1, \"#276419\"]], \"sequential\": [[0.0, \"#0d0887\"], [0.1111111111111111, \"#46039f\"], [0.2222222222222222, \"#7201a8\"], [0.3333333333333333, \"#9c179e\"], [0.4444444444444444, \"#bd3786\"], [0.5555555555555556, \"#d8576b\"], [0.6666666666666666, \"#ed7953\"], [0.7777777777777778, \"#fb9f3a\"], [0.8888888888888888, \"#fdca26\"], [1.0, \"#f0f921\"]], \"sequentialminus\": [[0.0, \"#0d0887\"], [0.1111111111111111, \"#46039f\"], [0.2222222222222222, \"#7201a8\"], [0.3333333333333333, \"#9c179e\"], [0.4444444444444444, \"#bd3786\"], [0.5555555555555556, \"#d8576b\"], [0.6666666666666666, \"#ed7953\"], [0.7777777777777778, \"#fb9f3a\"], [0.8888888888888888, \"#fdca26\"], [1.0, \"#f0f921\"]]}, \"colorway\": [\"#636efa\", \"#EF553B\", \"#00cc96\", \"#ab63fa\", \"#FFA15A\", \"#19d3f3\", \"#FF6692\", \"#B6E880\", \"#FF97FF\", \"#FECB52\"], \"font\": {\"color\": \"#2a3f5f\"}, \"geo\": {\"bgcolor\": \"white\", \"lakecolor\": \"white\", \"landcolor\": \"#E5ECF6\", \"showlakes\": true, \"showland\": true, \"subunitcolor\": \"white\"}, \"hoverlabel\": {\"align\": \"left\"}, \"hovermode\": \"closest\", \"mapbox\": {\"style\": \"light\"}, \"paper_bgcolor\": \"white\", \"plot_bgcolor\": \"#E5ECF6\", \"polar\": {\"angularaxis\": {\"gridcolor\": \"white\", \"linecolor\": \"white\", \"ticks\": \"\"}, \"bgcolor\": \"#E5ECF6\", \"radialaxis\": {\"gridcolor\": \"white\", \"linecolor\": \"white\", \"ticks\": \"\"}}, \"scene\": {\"xaxis\": {\"backgroundcolor\": \"#E5ECF6\", \"gridcolor\": \"white\", \"gridwidth\": 2, \"linecolor\": \"white\", \"showbackground\": true, \"ticks\": \"\", \"zerolinecolor\": \"white\"}, \"yaxis\": {\"backgroundcolor\": \"#E5ECF6\", \"gridcolor\": \"white\", \"gridwidth\": 2, \"linecolor\": \"white\", \"showbackground\": true, \"ticks\": \"\", \"zerolinecolor\": \"white\"}, \"zaxis\": {\"backgroundcolor\": \"#E5ECF6\", \"gridcolor\": \"white\", \"gridwidth\": 2, \"linecolor\": \"white\", \"showbackground\": true, \"ticks\": \"\", \"zerolinecolor\": \"white\"}}, \"shapedefaults\": {\"line\": {\"color\": \"#2a3f5f\"}}, \"ternary\": {\"aaxis\": {\"gridcolor\": \"white\", \"linecolor\": \"white\", \"ticks\": \"\"}, \"baxis\": {\"gridcolor\": \"white\", \"linecolor\": \"white\", \"ticks\": \"\"}, \"bgcolor\": \"#E5ECF6\", \"caxis\": {\"gridcolor\": \"white\", \"linecolor\": \"white\", \"ticks\": \"\"}}, \"title\": {\"x\": 0.05}, \"xaxis\": {\"automargin\": true, \"gridcolor\": \"white\", \"linecolor\": \"white\", \"ticks\": \"\", \"title\": {\"standoff\": 15}, \"zerolinecolor\": \"white\", \"zerolinewidth\": 2}, \"yaxis\": {\"automargin\": true, \"gridcolor\": \"white\", \"linecolor\": \"white\", \"ticks\": \"\", \"title\": {\"standoff\": 15}, \"zerolinecolor\": \"white\", \"zerolinewidth\": 2}}}, \"title\": {\"text\": \"Popular Ramen themes of the world!\"}, \"xaxis\": {\"anchor\": \"y\", \"domain\": [0.0, 1.0]}, \"yaxis\": {\"anchor\": \"x\", \"domain\": [0.0, 1.0]}},\n",
       "                        {\"responsive\": true}\n",
       "                    ).then(function(){\n",
       "                            \n",
       "var gd = document.getElementById('f331faff-a88b-4694-9634-e547383ed43c');\n",
>>>>>>> 82635201ea5190fbf422f917eb6497df76154039
>>>>>>> master
       "var x = new MutationObserver(function (mutations, observer) {{\n",
       "        var display = window.getComputedStyle(gd).display;\n",
       "        if (!display || display === 'none') {{\n",
       "            console.log([gd, 'removed!']);\n",
       "            Plotly.purge(gd);\n",
       "            observer.disconnect();\n",
       "        }}\n",
       "}});\n",
       "\n",
       "// Listen for the removal of the full notebook cells\n",
       "var notebookContainer = gd.closest('#notebook-container');\n",
       "if (notebookContainer) {{\n",
       "    x.observe(notebookContainer, {childList: true});\n",
       "}}\n",
       "\n",
       "// Listen for the clearing of the current output cell\n",
       "var outputEl = gd.closest('.output');\n",
       "if (outputEl) {{\n",
       "    x.observe(outputEl, {childList: true});\n",
       "}}\n",
       "\n",
       "                        })\n",
       "                };\n",
       "                });\n",
       "            </script>\n",
       "        </div>"
      ]
     },
     "metadata": {},
     "output_type": "display_data"
    }
   ],
   "source": [
    "import plotly.express as px\n",
    "\n",
    "#df = px.data.gapminder().query(\"year==2007\")\n",
    "fig = px.choropleth(word_country_df, locations=\"ISO\",\n",
    "                    color=\"Main Theme\", # lifeExp is a column of gapminder\n",
    "                    hover_name=\"Country\", # column to add to hover information\n",
    "                    hover_data=[\"Main Theme Rating\", \"Top 3 Themes\"],\n",
    "                    color_discrete_sequence=px.colors.qualitative.Light24)\n",
    "\n",
    "fig.update_layout(\n",
    "    title_text = 'Popular Ramen themes of the world!',\n",
    ")\n",
    "fig.show()"
   ]
  },
  {
   "cell_type": "code",
<<<<<<< HEAD
   "execution_count": 272,
=======
<<<<<<< HEAD
   "execution_count": 64,
=======
   "execution_count": 63,
>>>>>>> 82635201ea5190fbf422f917eb6497df76154039
>>>>>>> master
   "metadata": {},
   "outputs": [],
   "source": [
    "import chart_studio\n",
<<<<<<< HEAD
    "import os\n",
    "username = 'kdhawan' # your username\n",
    "api_key = '4aoJcDQnfpj76EtCTTz1' # your api key - go to profile > settings > regenerate key\n",
    "chart_studio.tools.set_credentials_file(username=username, api_key=api_key,)\n",
    "\n",
    "os.environ['REQUESTS_CA_BUNDLE'] = '/Users/kdhawan/Desktop/cacert.pem'"
=======
    "username = 'kdhawan' # your username\n",
    "api_key = '4aoJcDQnfpj76EtCTTz1' # your api key - go to profile > settings > regenerate key\n",
    "chart_studio.tools.set_credentials_file(username=username, api_key=api_key,)"
   ]
  },
  {
   "cell_type": "code",
   "execution_count": 66,
   "metadata": {},
   "outputs": [],
   "source": [
    "import os\n",
    "os.environ['REQUESTS_CA_BUNDLE'] = '/Users/vchalla/Desktop/cacert.pem'"
   ]
  },
  {
   "cell_type": "code",
   "execution_count": 67,
   "metadata": {},
   "outputs": [
    {
     "data": {
      "text/plain": [
       "'https://plotly.com/~kdhawan/0/'"
      ]
     },
     "execution_count": 67,
     "metadata": {},
     "output_type": "execute_result"
    }
   ],
   "source": [
    "import chart_studio.plotly as py\n",
    "py.plot(fig, filename = 'ramen_in_world', auto_open=True)"
   ]
  },
  {
   "cell_type": "code",
   "execution_count": 15,
   "metadata": {},
   "outputs": [],
   "source": [
    "common_words = get_top_n_gram(ratings['Variety'],ngram = 1, n=40, stop_words=ramen_stop_words)\n",
    "#common_words = [(word, freq) for word, freq in common_words if word not in ramen_common_words]\n",
    "common_words_df = pd.DataFrame()\n",
    "idx = 0\n",
    "for word, freq in common_words:\n",
    "    stats = get_df_words(str(word), ratings)\n",
    "    mean, median = quick_stats(stats)\n",
    "    generate_stats_df(idx, common_words_df, freq, mean, median, word)\n",
    "    idx += 1\n"
   ]
  },
  {
   "cell_type": "code",
   "execution_count": 235,
   "metadata": {},
   "outputs": [
    {
     "data": {
      "text/plain": [
       "'tonkotsu ramen artificially flavored tonkotsu white chicken broth'"
      ]
     },
     "execution_count": 235,
     "metadata": {},
     "output_type": "execute_result"
    }
   ],
   "source": [
    "get_df_words('tonkotsu', ratings).sort_values(by=['Stars'], ascending=False).loc[705].Variety"
   ]
  },
  {
   "cell_type": "code",
   "execution_count": 271,
   "metadata": {},
   "outputs": [],
   "source": [
    "all_words = generate_concatenated_word_df(ratings)\n",
    "all_words_sorted = all_words[all_words.Frequency > 10].sort_values(by=['Median Rating'], ascending=False).head(20)\n"
>>>>>>> 82635201ea5190fbf422f917eb6497df76154039
   ]
  },
  {
   "cell_type": "code",
   "execution_count": 273,
   "metadata": {},
   "outputs": [
    {
     "data": {
      "text/plain": [
       "'https://plotly.com/~kdhawan/0/'"
      ]
     },
     "execution_count": 273,
     "metadata": {},
     "output_type": "execute_result"
    }
   ],
   "source": [
    "import chart_studio.plotly as py\n",
    "py.plot(fig, filename = 'ramen_in_world', auto_open=True)"
   ]
  },
  {
   "cell_type": "code",
   "execution_count": 208,
   "metadata": {},
   "outputs": [],
   "source": [
    "threshold = 0.1\n",
    "all_words = generate_concatenated_word_df(ratings, threshold)\n",
    "all_words_sorted = all_words.sort_values(by='Median Rating', ascending = False)\n",
    "all_words_sorted_20 = all_words_sorted.head(20)"
   ]
  },
  {
   "cell_type": "code",
   "execution_count": 132,
   "metadata": {},
   "outputs": [
    {
     "data": {
      "image/png": "iVBORw0KGgoAAAANSUhEUgAAA+oAAAJ+CAYAAAAkHvozAAAABHNCSVQICAgIfAhkiAAAAAlwSFlzAAALEgAACxIB0t1+/AAAADh0RVh0U29mdHdhcmUAbWF0cGxvdGxpYiB2ZXJzaW9uMy4xLjIsIGh0dHA6Ly9tYXRwbG90bGliLm9yZy8li6FKAAAgAElEQVR4nOzdeXxcdb3/8dckaTMpUErZSmlpmwl8UBHZFESBgojWfbnovYpX8aK4oFSxF9xFwQUUUa5iXUFcLiIqCiLXBVRURBTB9fuTFGpbKFtpKSXpkub3xzmRYUjbaZPJmSSv5+MxjzPzPWfOvJPG5TPfrdTf348kSZIkSWoOLUUHkCRJkiRJj7BQlyRJkiSpiVioS5IkSZLURCzUJUmSJElqIhbqkiRJkiQ1EQt1SZIkSZKaSFvRASRJIyMiXgN8BTgzpfSBzVzXDyxOKc3OX88GbgeuSCm9aBs+9wPA+4EXp5S+t7XvHw4RUQbenFL6RB3X3gHMGuRUP/Ag2e/iu8C5KaWeIWTaB3hSSumybb3HJu47H/gkcGJK6aJNXDMXuBa4PKX0b4OcfzPwP/nLSkppUc35icAq4IGU0vThSz+4iDgAuBm4OKX0mkZ/niRJRbNQlyRtyUrgTODvRQcZgp8DAWyxUK9yZs3rVrIC/oX5ucMi4rkppf6tDRMRTwJuBC4EhrVQr9NvgF7gsE2cfyawkWzk3TOBhTXnDwHKwE8bFVCSpPHMQl2StFkppZXAB4rOMUS7b+0bNjXqICKmA38A5pEVsf+3DXl2AiZuw/uGRUppbUT8Bjg6ImaklJYOnIuINuBo4Erg2QxeqD89P1qoS5LUAM5RlyRpK6SU7uSRwvUZRWYZomvz41Nr2p8CTAZ+SNbzfkxE1P7/haflRwt1SZIawB51SdJmbWqOekRUgLOAY4DtgF8ApwE/AJamlObW3KocER8CXgVMy+/56ZTShYN85vHA24D9yYZg/w44K6V0bc11h5D19h8ETAX+CXwH+HBK6cGq7APX9zM885zvyY/tNXn2A04H5pL14vcCfwLOSyldnl/zAbI5+wCnRsSpwNEppevy8wcB7wOOACYBCfgcsLB2mH1EvBA4g+z3tCK/rrfOn2Hgd3kYjx5+/8z8+FNgN+AosqHuN1Zdczjwj5TSkqos7WT//icAFeAh4HrgQymlm6quew3ZWgkvA07K7393/jtYFBH7Ax/Kf/4S2XoAXxvsB4iItwCvJpvW0A/cQvY3VcR0AkmSho096pKkrRYRXWS9rS8jK8YuBDrz5ztv4m2fAt5A1lP7RbJC9rMR8daae38Q+BawB3ARcDHwBOAnEXFC1XX7AD8hKxp/AJwPLCcrlL+bXzYwv34VsDZ/PhwL2j07P95SlecpZMXs84BryObDX0PWQ/3tiHheful1+c8E8Ns80x35PeYBvyb78uMHwAVk/1t9ITXDzyPipPxn6QQuye/7buAddf4MNwIP89ge9WeSLSZ4G9nvd6Bt4HMfB+xCVW96vljfT4Czgb4874+BZwG/zr9QqHUBsCvwaeB3eZF+ANnf0DzgR8A3gOOAr9e+OSJOz99bIvvdXAR0Ad+KiFfV+TuQJKkp2aMuSePP3LxXdyg+SVZkHZ9S+jZARLyHrFh7+ibesxZ4ckrp7vz6LwG/B/6LrOAaKHbfQ1Z0Pjel9HDe/gHgBmBhRFyTUroXeD2wI3BMdU97RFwJPDcinpBS+gvwgbwXd8rmVrvfknyl872AN5IV47eRFZIDPghMAA5OKf2t6n0vAy4FXgFcmVK6LiIg6wm+YSBTREwiK+BXAYemlO7I28/I3/+6iPheSumHETEF+DiwFHjqwBzziPgU2ciGLUoprYuIXwNHRMTE/PVk4FAe+SLhd2Qr3T+TrAiHweenL8jbLwJel1LakOc5iKzwvigiZqWUHqx6z3rg6QP/xrlPkY0iOC6l9LP8Hh8g+3uYVvMjLAC689/VwOedQ/bv8layLy8kSRqV7FGXpPHnKLKh15t6bFZE7AI8B/jlQJEO2QJlZL3Zm/KFgSI9v/5mYBlZj/CA15L1kC6oLuBSSvcDHyMr4l6WNw/8b9iTaz7nNcCueZG+zSKiv/pB9kXDP4C3k60i/6z8Zx7wSeCV1UV67rr8uNsWPvIFZF9+nDtQpAOklDYC78xfnpgfn0P2JcWnqheCy4eYDxTZ9biWbPj+gfnruWRf4v8kv98Gsp/1qfkXCZDNT+/nkaHzkP3OHwbeOlA05+//A/AZYArwkprPvrr63zgi9gSOBH40UKTn97iX7EuQWi1kv6/OqmuXAvuSDZuXJGnUskddksafevZR35yDyYqkGwc591tgwyDtkBW5te4HZtTcG+ClVUPFBwxcd0B+vJisd/tj+Vzlq/PH/6WU1mz2J6jPwPZsLcCTyHrR7wf+vbqQHJBSugYgIqbl11fIisaBHujWLXzewM9+8CZGPPTxyM/+pPx40yDX/ZpsikE9quep/5as57yfR/eW/xR4PtkUg4ERE3/MvzwhInYgK5Z/lVJaPchnXE82HP9JNe2317zePz9u6meqtZBsfv7fIuJ3ZP/2V1XPh5ckabSyUJckba1d8uPy2hMppb6IuKe2PVfPImdT8uMZm7lmav5Zt0TEYcC7gOcCr8sfa/Ih4O/Zlj3OB9R+mZHPs74cuDQijqztOY+IvciG8L+AbFTARuD/kRWqB+ZtmzPws//7Zq6Zmh93yo+DFcYrtvA51X5HtujbU8mGnT8T+FPeiz1gYJ76URHxJ7IvID5edX5yfly1ic+4Mz9OqmnvqXm9tT/Tu8i+/HkD2ToAh5JNc0jAmwb7MkWSpNHCQl2StLUG5hlP3sT5HYZw74fIeo47Ukrrt3RxSukW4OX5/PHDyRYhO5GsiFtKtqjZsEgpXRERZ5FND7giIg5KKT0EEBEl4Crg8cCHyRZ5+0tKqScididb3XxLHsqPz6ijyHwgP+44yLnt6/gsIBvaHhG/Ag7J94cP4Lyaa/4SEcvJfr83583VPe4DhfWem/iYgQL8/i3E2aqfKf8S5svAlyNiN+BY4MXAS4Ef5HPi79vCZ0qS1JScoy5J2lp/IBse/ZTaExHxeIZWqN9KNkT8wNoTEXFYRHw0Io7IX/9nRFwQEaWU0rqU0nUppdPJCjV49Dzlbe5Zr3EW2QJ4ewPnVLXvD+wHfCel9J6U0k0ppYEe48flx+oe9cHy3JofD6k9ERFTI+L8qlXvf58fn1Z77WDv34JryXrJB6Ya/GSQa35K9jM+lWwRuF8OnMgXiLsd2Ccidh3kvUfmxy2tGXAz2e9liz9TROwcER+IiFfnGe5JKX0jpXQ82dZvk8i27JMkaVSyUJckbZWU0jKyrbeeGRHPGWjP99E+Z5NvrM9F+fGT+QrkA/fegax3/HQemet9GHAKcHzNPWbnx8VVbevJVmQfknyhtJPIev3fEBEDW5sNDOt/1IJxETEVODd/Wf35A6MFJla1fZdstMLp+dZz1c4BTiXbfgyyLe7uBd5afW1E7Et9vffVBuapvwVYx+Crxv+UbMrD88lWqq9dA+AioIPs3+1fo/XyVd/fQrZN3g82FyKltJxsS7ZjImLgyxbyv4PaRQ5Xk/0+zs5/x9Vm5cfFSJI0Sjn0XZK0Ld5Ktl3a9yPie2TDzI8jW4UbskJ2q6WUro2IT+f3/0tEXEW22vqLgZnA51JK1+WXn0O2Avw38i3Q/kFWpL+UbP78BVW3XgbsHRFfI1ts7qvbki/P+Md8Dvzbgc/nxeg/yBbXOzIifgn8iqywfRFQJlsRvXp/+WX58WUR8RBwcT7E/CSyLd9ujojvks3vPops9MLvyOeGp5QeiojXAd8GboyIgdX3jycr4KdQv9+TfUGwH/CLTSzEN9DLHsA3Bzl/Dtme6a8E9o+InwG75z9/CXh5zdZsm3IK2cJx36r6u3o+2Xz/f8m3knsf2ZoAf85/Vw+T/a6eDFySUkp1fJ4kSU3JHnVJ0lbLi6Cnkc3LPpZsEbdu4Jj8koc38dZ67n0q8CpgSX58DVnh/VrgzVXX3ZFn+F+yodFvJxtmfQnZ3tp3Vt32dLKh18fn9xyq95H12O4H/He+hdoLyXqW55B90XAk2UrkBwP/RzY0vJJnX0y2X3w/WXH6lLz9svx9PyWbb/8WsrUAPgQcOzAnPr/2CuAZZFMRXk5W0H6ebH5+3VJKfTwylH2wYe+klJbwyKr9g61430v2d/A+slECbyT7W/gB2T7vV9SZZRHZSIn/Jfs9vJZsSPwLBrn2ArKF924n+/lPIdtq7u35+yRJGrVK/f3DNW1PkjQeREQL2XZci2sXfIuIOcAi4MKU0puKyCdJkjTa2aMuSdpa/WS9nH/KV1uvtiA/XoskSZK2iT3qkqStFhHnAu8AEtnw7j6yYeiHAdcA84ayh7kkSdJ4ZqEuSdpq+fD3E8nmpgfZiuaLgK8D59WzB7okSZIGZ6EuSZIkSVITGevbs+0AnAD8nUf2rJUkSZKk8WICsC/wNWB1wVlUp7FeqJ8AfLboEJIkSZLUBC4sOoDqM9YL9b8DPPhgD319G4vOIkmSJEkjqrW1hcmTOyCvjTQ6jPVCfT1AX99GNmywUJckSZI0bjkVeBRxH3VJkiRJkpqIhbokSZIkSU3EQl2SJEmSpCZioS5JkiRJUhOxUJckSZIkqYlYqEuSJEmS1EQs1CVJkiRJaiIW6pIkSZIkNRELdUmSJEmSmoiFuiRJkiRJTcRCXZIkSZKkJtJWdABJkiRJUnOIiMcDfxnk1BEppesHuf4Q4FPAgcAy4EMppa82NuXYZ4+6JEmSJGnAE4H7gD1qHr+tvTAidgWuAf4AHAR8GvhSRBw3YmnHKHvUJUmSJEkD9gP+mlJaXse1JwGrgFNTShuBv0fEQcA7gP9rYMYxzx51SZIkSdKA/YC/1XntEcAv8iJ9wHXA0yKiNNzBxpNx0aP+wM+vZf1DDxcdY0zabr8n0r7njKJjSJIkSdqMq6++etr8+fNn1zSvTCmtrGnbDyhHxA3AbODPwLtSSjcOctsZwM01bXcCk4CdyYbQaxuMi0J9xVVXsvaee4uOMSat+dOtzHzH6UXHkCRJkrQZ55577mWDNJ8JfGDgRUR0AJ3AvcACYC1wCvDziDgopVTb0z4J6K1pW5sfy8MQe9waF4X6nA99mA3r+4qOMebce9mlPPibX9Hf10eptbXoOGqQHSZ3UG4f/v+q6F27gdUP9gz7fSVJkvRYCxYsOH7+/Pk31TQ/qjc9pdQTETsBa1NKawEi4jXAwcCbgLfUvL8HaK9pG3i9Zjhyj1fjolBvaW+npXXjli/UVunYZx9W/fxa1i5bSnmvWUXHUYOU29t4/mlXDPt9f/CJF7J62O8qSZKkwcybN2/5vHnz7tjSdSmlB2teb4yIvwAzB7l8CdmK8NWmAw+RLTKnbeRictpmHZ1dAPR231ZwEkmSJElDFREHR8SDEXFwVVsrcACD761+PXBkzcJxRwO/qllgTltpXPSoqzHadtmF1smT6em+jSlHP6PoOJIkSZKG5hbgDmBhRLyZrGf8dGAX4FMRMRGYCqxIKa0DvgT8N/C5iDgfOBZ4BfDsArKPKfaoa5uVSiXKlS56u7uLjiJJkiRpiFJKG4B5QAJ+ANwITAOOTCndAxwO3JUfSSndTVaUH0i2+vspwH+mlH428unHFnvUNSQdnV2sufkPbHjwQdomTy46jiRJkqQhSCktA165iXPXAaWathuApzQ+2fhij7qGpFypANC7yF51SZIkSRoOFuoakvLsOdDaSo8LykmSJEnSsLBQ15C0TJxI+8y9XPldkiRJkoaJhbqGrKOzQu8dt9Pf11d0FEmSJEka9SzUNWTlShf969axdumSoqNIkiRJ0qhnoa4h68gXlHOeuiRJkiQNnYW6hqxt511o3XFH56lLkiRJ0jCwUNeQlUolOipd9Ha7RZskSZIkDZWFuoZFudLF+vvuZcOqVUVHkSRJkqRRzUJdw6KjswuA3kUOf5ckSZKkobBQ17Bonz0LWlvpcfi7JEmSJA2JhbqGRcuEiZT3muWCcpIkSZI0RG0j9UER8TmgLaV0UlXbKcApwExgMXBeSumLVee7gP8Bng48AHw6pXTuSGXW1ilXKqz6xc/p37CBUtuI/WlJkiRJ0pjS8B71iChFxAeBk2va3wh8FDgL2B84D/hsRLwqPz8R+BGwGngKcDrwgYh4XaMza9t0dHbRv24da5cuKTqKJEmSJI1aDe32jIhO4EvAfsA/a06/AfhMSulr+evuiHgqcCJwCfBSYBpwYkrpIeCvEbE3sAD4QiNza9uUK9mCcj3dt1GePafgNJIkSZI0OjW6R/1wYAnwROD2mnNvBT5X07YR2Cl/fgRwU16kD7gO2Dsidh/+qBqqtqlTaZ0yxf3UJUmSJGkIGtqjnveWfw0gImrP/bz6dUTsBfwHcEHeNANYVnPLO/PjTODumvdPAaZUty1cuHDa3Llztzm/tk6pVKKj0kWPW7RJkiRJ0jZrilXfI2JX4CpgOdm8dYBJQG/NpWvzY3mQ28wn67X/12PhwoWXDX9abU65s8KG++5jw6qVRUeRJEmSpFGp8EI9n8d+PVlv+HEppVX5qR6gvebygddrBrnV+cCc6sfJJ598/PAn1uZ0/GueusPfJUmSJGlbFLqHVkQcBFwNrAAOTylVLxe+BIiat0zPj7VD4kkprQRqu3FnDFNU1al91ixobaW3+zZ2OOjgouNIkiRJ0qhTWI96ROwL/Bi4A3h6TZEOWS/7IRExqartaCCllO4ZmZTaWi0TJlKeNYveRfaoS5IkSdK2KLJH/atkc9BfBUyIiGl5+4aU0n3Ad4GzgW9ExHvIVo5fALy5iLCqX7mzi1U/v5b+DRsotRU6aEOSJEmSRp1CetQjYh/gyWRD2RNwV9XjBoCUUg/wbGAy8DuyRebelVK6qIDI2godlS76169n7ZJ/Fh1FkiRJkkadEevuTCnNrXr+/4BSHe9JwDENjKUGKFcqQLagXHlOZ8FpJEmSJGl0KXzVd409E6buTNtOO9Hb/Y+io0iSJEnSqGOhroYod1bcok2SJEmStoGFuhqio7I3G1bcz4aVDxQdRZIkSZJGFQt1NcQj89RvKziJJEmSJI0uFupqiPa9ZlFqa6PX4e+SJEmStFUs1NUQLRMm0D5rtj3qkiRJkrSVLNTVMB2dFdYuvoP+DRuKjiJJkiRJo4aFuhqmXOmif8MGev+5uOgokiRJkjRqWKirYcqVLgB6Hf4uSZIkSXWzUFfDTNhpJ9qmTnU/dUmSJEnaChbqaqhyZxe9i+xRlyRJkqR6WairoToqFTasWMH6Bx4oOookSZIkjQoW6moo56lLkiRJ0taxUFdDlfeaRamtzUJdkiRJkupkoa6GKrW10T5rNj2LXFBOkiRJkuphoa6G66h0sXbxHWxcv77oKJIkSZLU9CzU1XDlSoX+DRtY+8/FRUeRJEmSpKZnoa6G6/jXgnIOf5ckSZKkLbFQV8O1TdmJtqk70+N+6pIkSZK0RRbqGhEdlYo96pIkSZJUBwt1jYhypYsND6xg/Yr7i44iSZIkSU3NQl0jotzpPHVJkiRJqoeFukZEea+9KE2YQE+389QlSZIkaXMs1DUiSm1tlGfPodcF5SRJkiRpsyzUNWLKnRV6Fy9m4/p1RUeRJEmSpKZloa4RU650QV8faxcvLjqKJEmSJDUtC3WNmI5KBcB56pIkSZK0GRbqGjFtO06hbZdd6F3kyu+SJEmStCkW6hpRHZ1d9HTfRn9/f9FRJEmSJKkpWahrRJUrFfpWrmTDihVFR5EkSZKkpmShrhHVUekCoNd56pIkSZI0KAt1jaj2GTMpTZxIj/upS5IkSdKgLNQ1okptbZRnzaa32wXlJEmSJGkwFuoaceVKF73/XMzG9euKjiJJkiRJTcdCXSOuo1KBvj7W3rG46CiSJEmS1HQs1DXiyp3ZgnLOU5ckSZKkx7JQ14hr23FHJuyyqyu/S5IkSdIgLNRViHKlQk93N/39/UVHkSRJkqSmYqGuQpQrXfStWsmGFfcXHUWSJEmSmoqFugrRMTBP3eHvkiRJkvQoFuoqRPuMGZQmTqT3Ngt1SZIkSapmoa5ClNraKM+eQ8+i7qKjSJIkSVJTsVBXYcqVLtYu+Scb160rOookSZIkNQ0LdRWmo9IFfX303nF70VEkSZIkqWm0FR1A41e5swJAb3c3k/aJgtNIkiRJqhYRhwHXA8emlK7bxDXHAB8FngAsBxYC56aU3Id5CCzUVZi2yZOZsOtu9CxyQTlJkiSpmUTEdsAlQOtmrukCriQr1P8dOAi4GFgDfGYEYo5ZFuoqVLlS4eG//oX+/n5KpVLRcSRJkiRlzgOWAl2buebZQE9K6YP560UR8TLgWVioD4mFugrVUeli9Q2/YcN99zFh112LjiNJkiSNSVdfffW0+fPnz65pXplSWll7bUQ8B3guMA+4dTO3vReYGhH/AVwKPB44EvjssIQex1xMToUqV7Iv6Bz+LkmSJDXOueeeexlwe81jfu11EbEL8CXgJOCBLdz28vzarwPrgD8BPwfOGrbg45SFugrVvucMSu3t9HZbqEuSJEmNsmDBguOBOTWP8we5dCHw/ZTSj+q47RRgNnAO8GTg1cAzgfcPQ+RxzaHvKlSptZXy7Dn0dHcXHUWSJEkas+bNm7d83rx5d2zumoh4NXAgsH+dt/0YsCGldEb++uaIaAM+FxGfTindv82Bxzl71FW4jkoXa5cuYePatUVHkSRJksaz1wAzgOUR8RCQ8varI+Jzg1x/GHBTTdtvgQnAXo0KOR7Yo67ClTsr0NdH7+I73E9dkiRJKs4JQEfV62nAL8nmq/94kOuX8tje9/2AjYBDZodgxAr1/BuYtpTSSVVtx5HNZwjgH8DpKaWrq87vBvwPcBzZ4gRfAd6dUtowUrnVeOVKBYDe7tss1CVJkqSCpJSWVb+OiN786bKU0j0RMRGYCqxIKa0DPgVcGRHvAb5Btur7ecBnU0oPjmD0MafhQ98johQRHwROrml/PPB94DKyeRBXAN+LiCdUXXY52bc4R5ENwzgROLPRmTWy2naYzITddqfHBeUkSZKkZnY4cFd+JKX0Q+AlwIvItnE7n2wxurcXFXCsaGiPekR0ki3Xvx/wz5rTpwI3pJTOzl+/NyKenre/PiKeCjwd6Ewp3Q7cEhELgAsi4oMpJSc0jyHlSoWH//xn+vv7KZVKRceRJEmSxr2U0lKgVPX6uurXedv3gO+NbLKxr9E96ocDS4Anku3TV+0I4Lqatuvy9oHzi/Mivfr8DsABw5xTBevo7KJv9YOsv+/eoqNIkiRJUqEa2qOeUvoa8DWAiMfMPZ4BLKtpuxOYuYXz5Nf8tvpEREwh28fvXxYuXDht7ty525BcI616nvrEXXcrOI0kSZIkFafI7dkmAb01bWuB8qbOp5TWA/1V11SbT9Zr/6/HwoULLxvOwGqc9j1nUGpvdz91SZIkSeNekYV6D9Be09YOrNnU+YiYQDYnYg2PdT4wp/px8sknHz+cgdU4pdZWynM66XVBOUmSJEnjXJH7qC8B9qhpm84jw92XAM8Z5Dw8dkg8KaWVwMqa5hlDzKgR1NFZYcWPfsjGtWtpaa/9DkeSJEmSxocie9SvJ9t2rdrRwC+qzndGxMya86uBPzY+nkZauasLNm6k9/ZFRUeRJEmSpMIU2aN+AfD7iDgT+CbwCuBQ4I35+d8ANwCXRsQpwO7AOcB5KaV1BeRVg3V0dgHQu6ibSfs+ruA0kiRJklSMwnrUU0p/Al4M/BtZD/kLgOenlP6Wn+/Pz98N/BL4CvBF4IOFBFbDtW6/PRN2n0aP89QlSZIkjWMj1qOeUpo7SNtVwFWbec9ysmJd40RHpcKaW2+lv7+fUqlUdBxJkiRJGnFFzlGXHqNc6aLvodWsv+eeoqNIkiRJUiEs1NVUHpmn7vB3SZIkSeOThbqaysQ996SlXKanu7voKJIkSZJUCAt1NZVSSwvlOZ30uqCcJEmSpHHKQl1Np1ypsHbpEjb29hYdRZIkSZJGnIW6mk65swv6++m94/aio0iSJEnSiLNQV9Pp6KwAuJ+6JEmSpHHJQl1Np3X77ZkwbZrz1CVJkiSNSxbqakodnV30LlpEf39/0VEkSZIkaURZqKsplStd9D20mvX33F10FEmSJEkaURbqakodlWyeeq/7qUuSJEkaZyzU1ZQmTt+TlnLZBeUkSZIkjTsW6mpKpZYWynMq9C6yUJckSZI0vlioq2mVKxXWLl3Kxt6eoqNIkiRJ0oixUFfT6qh0QX8/vbffXnQUSZIkSRoxFupqWuXObEE556lLkiRJGk8s1NW0Wrfbjol7TKfXQl2SJEnSOGKhrqZWrlToWdRNf39/0VEkSZIkaURYqKupdXR2sXHNGtbfvbzoKJIkSZI0IizU1dTKlS7AeeqSJEmSxg8LdTW1iXvsQUtHB73d3UVHkSRJkqQRYaGuplZqaaHcWbFHXZIkSdK4YaGuplfurLDuzmX09fQUHUWSJEmSGs5CXU2vo9IF/f303r6o6CiSJEmS1HAW6mp65c5OAPdTlyRJkjQuWKir6bVO2o6J06fT44JykiRJksYBC3WNCuXOLnoXddO/cWPRUSRJkiSpoSzUNSp0VCpsfHgN6+9eXnQUSZIkSWooC3WNCuVKF4DD3yVJkiSNeRbqGhUmTtuDlkmT6F3kgnKSJEmSxjYLdY0KpZYWynM67VGXJEmSNOZZqGvU6Kh0se7OZfQ9/HDRUSRJkiSpYSzUNWqUK13Q30/v7YuKjiJJkiRJDWOhrlGjPKcTSiV6Fzn8XZIkSdLYZaGuUaN10iQm7jGdntv+UXQUSZIkSWoYC3WNKh1dXfQu6qZ/48aio0iSJElSQ1ioa1Qpd3axsaeHdcvvKjqKJEmSJDWEhbpGlY5KBYDebvdTlyRJkjQ2WahrVJmw+zRaJm3nfuqSJEmSxiwLdY0qpZYWyp0VehfZoy5JkiRpbLJQ16jTUamw7s476Xt4TdFRJEmSJGnYWahr1ClXugDoXbSo4CSSJEmSNPws1DXqlOd0QqlEjwvKSVOd6u8AACAASURBVJIkSRqDLNQ16rR2dDBx+p70LnJBOUmSJEljj4W6RqWOShe9i7rp37ix6CiSJEmSNKws1DUqlSsVNvb0sO6uu4qOIkmSJEnDykJdo1LHwIJyzlOXJEmSNMZYqGtUmrD7NFq2244e91OXJEmSNMZYqGtUKpVKdHRW6O12QTlJkiRJY4uFukatcqWLdXfdSd+aNUVHkSRJkqRhY6GuUetf89Rvt1ddkiRJ0thhoa5RqzxnDpRK9Dj8XZIkSdIYYqGuUaul3MHEPWe48rskSZKkMcVCXaNaR6VC76Ju+jduLDqKJEmSJA2LtiI/PCK2Az4KvBSYBPwGOC2l9Nf8/HHAOUAA/wBOTyldXVBcNaGOyt6s+vl1rLtzGe0zZhYdR5IkSZKGrOge9U8BxwLHA08FeoEfRUQ5Ih4PfB+4DDgQuAL4XkQ8oaiwaj7lSgXAeeqSJEmSxoyiC/UXAZ9NKf0qpfQ34N3ATODxwKnADSmls1NKf08pvRf4dd4uATBht91p3X4H56lLkiRJGjOKLtTvBV4eEbtFxETgv4AHgEXAEcB1Nddfl7dLAJRKJcqdnfQsslCXJEmSNDYUOkcdeD3wNeBuoA94GDgupbQyImYAy2quv5Osx/0xImIKMKW6beHChdPmzp073JnVZMqVLtbcegt9Dz1E6/bbFx1HkiRJGhMi4jDgeuDYlNJ1m7hmBnA+8CygB/g28I6U0sMjlXMsKrpHvQtYDjwXeBpwDfDt/B97Etmc9WprgfIm7jUfuL36sXDhwssaEVrNpaPSBUDPIuepS5IkScMhX/j7EqB1M9e0Az8GppLVcy8Hnke2ILiGoLAe9YiYA3wBeHpK6Ya87RXA34C3kX0b017ztnZgzSZueT5wUXXDySeffAjZYnQaw8qz50CpRO+i29h+/ycVHUeSJEkaC84DlpJ1rm7KK4A9gMNTSg8ARMT7gTc2Pt7YVuTQ90PIvp25aaAhpbQ+Im4m+2NYQvaPXm06jx0OP/DelcDKmuYZw5ZWTaulXKZ9xkx6XfldkiRJGtTVV189bf78+bNrmlfmddSjRMRzyEY9zwNu3cxtnwX8eKBIB0gpfQX4ytATj29FDn1fmh/3H2iIiBLZiu//IJsLcVTNe44GfjEi6TSqlCtd9CxaRP/GjUVHkSRJkprOueeeexk1U4XJpg8/SkTsAnwJOIlsoe/N2QdYHBEfiojbI2JRRHw8IjY1XVl1KrJQvxG4AbgoIp4eEfsCFwJ7ARfkjyMj4syI2DciPggcSrb3uvQoHZUK/Wt7Wbds0AEXkiRJ0ri2YMGC44E5NY/zB7l0IfD9lNKP6rjtZLKduyrA8WRTmF8OfH44Mo9nhQ19Tyn1RcTzgY8A/wtsTzYM/oiU0mKAiHgx2UIEpwN/B56f77cuPUq5c2BBudtonznoxgCSJEnSuDVv3rzl8+bNu2Nz10TEq4EDqRr1vAXrgRXAq1JKfcBNETEBuCwi3pZSun8omcezQrdnSyndB7xuM+evAq4auUQarSbsthut2+9Ab/dtcNTRRceRJEmSRqPXkK3ztTwiAEp5+9URcXFK6Q011y8DevMifcBf8+Ns4DGFekS8r6apn2yb7j+nlK4ZUvoxpOjt2aRhUSqVKFcq9LignCRJkrStTiBbM+yA/PGsvP0koLbABvglcEDeiz5gP6APuGMTn/FE4GRgZ2AK8FqyLd0+GBHvHWL+MaPQHnVpOHVUulhzyx/pe+ghWrffvug4kiRJ0qiSUnrUgk8R0Zs/XZZSuiciJpLtmb4ipbQO+BzwFuCrEXEmWW/8ucBXNzPsfXfg4JTS8vwzzibbUvsI4PfAh4b5xxqV7FHXmFHurADZPHVJkiRJw+5w4K78SErpbuBIsuL9D8A3gMvZ/D7qOw8U6fk97s/b1pHNeRf2qGsMKc/phJYWeru72X7/A4qOI0mSJI1qKaWlPDJPnZTSddWv87a/8sgQ+XosioiPkK0MXyJbNb47Ig4lGzIv7FHXGNLS3k77jJn0dNujLkmSJDWpE8kWmruZbMvuPcnmwB8EvKO4WM3FHnWNKeVKhQd//Wv6N26k1OL3UJIkSVIzyXf++o9BTl040lmamYW6xpSOzi5WXfsz1i1bSvvMvYqOI0mSJKlKRBwFfIBsXnv1sPp6924fFyzUNaaUK10A9Nx2m4W6JEmS1Hw+A3yZbPG5/oKzNC0LdY0pE3bdldYdJtOz6DamHH1M0XEkSZIkPdq6lNJ5RYdodk7i1ZhSKpUoVyr0dncXHUWSJEnSY/05Ip5YdIhmV1ePekS8Bbg4pfRgg/NIQ9ZR6WLNH29mw+oHadthctFxJEmSJD2iE/h9RCwGegYanaP+aPUOfX8i8P8i4krgcymlmxqYSRqSgXnqvd3dbH/AgQWnkSRJklTl3UUHGA3qGvqeUno9sA9wE/DZiPhdRLw2IsoNTSdtg/Ks2dDaSu8ih79LkiRJzSAi9s2frt7EQ1XqnqOeD3u/DPgGsDPwZiBFxL81KJu0TVra22mfMZOe7tuKjiJJkiQp8/H8ePkgj28XFapZ1TtH/VjgdcCxZMX6i1JKt0ZEBfgl/mLVZDoqFVZd/0v6+/ootbYWHUeSJEka11JKz8ufHpFSWlp9LiKeUECkplbvHPX/AT4LvD6ltGqgMaXUHRFfaEgyaQjKlS5W/uynrF22lPJes4qOI0mSJI1rETE1f3pVRMwFSmT7qE8EvgfsXVC0plTv0Pf9gftTSqsiYlpEzI+IFoCU0vsbF0/aNh2dAwvKOfxdkiRJagLfBO4jW6j8/vz5/cAS4A8F5mpKW9OjvgPwdWAjcATZsvpvbVAuaUjadtmF1smT6em+jSlHP6PoOJIkSdK4llJ6FkBEfDml9Nqi8zS7egv1w1NK+wGklO6JiOOBWxoXSxqaUqlEudJFb7crv0uSJEnNIqX02nwY/HZkw99bga6U0o+LTdZc6h36PiEiJla9rrfAlwrT0dnF+nvvYcODDxYdRZIkSRIQEWcCdwOLgATcBpxXaKgmVG+hfhVwTb53+on566saF0saunKlAuB+6pIkSVLzeDWwF9nOYXvnr/9SaKImVG+hvgD4LvBC4HnAd4B3NSqUNBzKs+dAa6v7qUuSJEnN456U0l3A34AnpZS+BnQVnKnp1DWEPaXUB3w6f0ijQsvEibTP3MuV3yVJkqTmsT4iKmTD3o+IiGuAnQrO1HTqKtQj4mXAOWS/wNJAe0ppcoNyScOio7PCqut/QX9fH6XW1qLjSJIkSePdR4DPAy8APkQ29N1p1TXqXRTuLODtZPvb9TcujjS8ypUuVv7sJ6xduoTyrNlFx5EkSZLGtZTSlcCVABFxANk89VRoqCZUb6H+QErpOw1NIjVAx8CCct23WahLkiRJBcl3EXs1sCKldDlASunhiJgFXI7z1B+l3kL9txExL6V0dUPTSMOsbeddaN1xR3q6b2PKMccWHUeSJEkarz4PPAGYHBE7Ad8HvgwcQzbNWlXqLdSfA5wSEeuAdWTz1Pudo65mVyqV6Kh00dvtFm2SJElSgY4AHgfsClwKnAbcAeyXUlpUYK6mVG+h/oyGppAaqFzp4qE//J4Nq1bRtuOORceRJEmSxqPVKaV1wLKI2Af4dErprKJDNau69lFPKS0Gngy8DrgXODxvk5peR2c23aV3kdu0SZIkSQWpXpT8Pov0zaurUI+IM4A3Ai8DOoD3R8R7GxlMGi7ts2dBays9Dn+XJEmSilJdqPcWlmKUqHfo+78DhwI3pJTuj4jDgN+Q7XsnNbWWCRMp7zWL3m571CVJkqSCdEbE9wd5DkBK6QUFZGpa9Rbq61NKayMCgJTSyohY37hY0vAqVyqs+sXP6d+wgVJbvX/2kiRJkobJqVXPLy8sxShRb8WyJCKeC/RHRDvwDsA56ho1Ojq7WPmTH7N26RLKs+cUHUeSJEkaV1JKFxedYTSpa446cArwdmB/YA0wL2+TRoVyJVtQrsfh75IkSZKaXF096imlO4FnRMQkoDWltLqxsaTh1TZ1Kq1TprDm1luYcvQzKLXU+x2VJEmSJI2sugr1iHh7zWsAUkrnNSCTNOxKpRJTjn4G93/3cu5a+FmmnfR6WiZMLDqWJEmSJD1GvXPUn1j1fCJwBHDt8MeRGmfn5z6flgkTuPdb/8uy1auZfspbaZ20XdGxJEmSpHEjH6V9PDAVKA202wn8aPUOfT+x+nVE7AJc0pBEUgPtdNyzad1xCsu//AWWfOwj7Hnq25kwdWrRsSRJkqTx4lJgOvAnHtlbvX/Tl49P27RPVUrpvoiYPcxZpBEx+dDDaN1hB+78zAUs+ehZ7Dn/NNqn71l0LEmSJGk82Bd4XEppQ9FBmtm2zFEvAYcA9zQkkTQCtnv8E5h5+jtZdv4nWPLRD7PnW+bTsffeRceSJEmSxrolRQcYDbZljno/8E9gwfDHkUZOea9ZzHzne1h2/idYet457PH6N7L9gQcVHUuSJEkay/4EXBsRPwJ6Bhqdo/5o2zRHXRorJu66GzPPeDfLPvVJ7vzsBex2wquZctTcomNJkiRJY9Vk4Dagq+ggzazeoe/XspkJ/imlY4YtkTTC2naYzMwFZ3DnhZ/hnksuYsPKB9j5BS+iVCpt+c2SJEmS6mYncH3qHfp+E/B44PPAOuA/8/f+b4NySSOqpb2dPU95K3d/9SJW/OAK+latZLdX/iel1taio0mSJEljRkQ8FTgD2J5s/bNWYE5Kaa9CgzWZegv1pwNPTyn1AUTENcANKaXLG5ZMGmGltjZ2P/G/aJsyhRU/vJINDz7IHq97Ay3t7UVHkyRJksaKLwJfBf4N+BzwIsC6skZLndftClRXKzsAk4Y/jlSsUqnELi/5N3Z7xQmsueWPLD3vXPoeeqjoWJIkSdJY0Z9S+hhwHfB34HjgyEITNaF6C/VvAL+NiDMj4oPAb4HPNC6WVKwpxxzLHie/ibWL72DJR89m/f33FR1JkiRJGgtW58duYL+UUi/Z8HdVqatQTym9D3gfMBUoAyenlC5sZDCpaDsc8mT2fNs72LBqJf/8yFmsXeqWj5IkSdIQ3RgRlwI/A94REZ8A+grO1HTq7VEHWAb8GXgv2YJy0pg3KfZl5unvAmDJxz7Mw+nvBSeSJEmSRrX5wCdTSv8vf94CvKLYSM2nrkI9Ik4EvgL8N7AjcEVEvK6RwaRm0T5jJnu98720TdmJZZ/8OKtvurHoSJIkSdKoEhH75k8PBNZFxEHAXcAlwHaFBWtS9faovwV4KvBgSuke4GCybz+kcWHCzjsz8/R30T5rNnctvJAHfvrjoiNJkiRJo8kn8uPlgzy+XVSoZlXv9mx9KaUHIwKAlNKSiNjQuFhS82ndfntmnPbf3PX5C7n3m1+nb9Uqdn7xSymVSkVHkyRJkppaSum5+XFO0VlGg3oL9RURcQDQDxARrwRWDEeAiDiJbEj9TOCvwIKU0s/yc8cB5wAB/AM4PaV09XB8rrQtWiZOZPobT+Ger1+S7bW+8gF2/88TKbXV+x8lSZIkafyJiPdt7nxK6YMjlWU0qLe6OJVsOEIlIu4EeoEXDvXDI+LVZNu8vRH4BfAm4PsRsR/ZPu3fBz5ENhzilcD3IuKglNJfhvrZ0rYqtbay26teTdtOO3H/Fd9lw4Ormf7GN9PS3l50NEmSJKlZ7Zof9yXriP0usIGsrry1qFDNqt5CfRLwJGAfsj3uUkpp/VA+OCJKwJnAx1JKX87b3gEcAxwOHAXckFI6O3/LeyPi6WRfGrx+KJ8tDVWpVGLn57+Q1h135J5LLmbJuR9lz1PfRtsOk4uOJkmSJDWdlNJbACLiZ8BBKaX78tdnAVcUma0Z1Vuofz2l9Djgb8P42QHMAi4daEgpbQQOAIiI9wDfqnnPdcC/D2MGaUimHDmXtsk7ctfCz7LkI2ez59tOY+KuuxUdS5IkSWpWewwU6bmVgP8Huka9hfqtEfEK4HrgoYHGlNJQ5qnvkx+n5N+q7Af8HTgjpfRrYAbZ3u3V7iSby/4YETEFmFLdtnDhwmlz584dQkRpy7Y/4EBmnPbfLLvgfJZ85Cz2PPXtlGfNLjqWJEmS1IxujYivAF8FSsB/Ab8tNlLzqXd7thcCXwPuAO7LH/cO8bMHxghfDHwReDbwZ+BnEfE4suH2vTXvWQuUN3G/+cDt1Y+FCxdeNsSMUl06uvZm5unvptQ2gSXnfJQ1f3UZBUmSJGkQJ5H1on8K+CSwFHhDoYmaUF096imlTRXHQzEwx/3slNI3ACLizcARZIvL9QC1q3O1A2s2cb/zgYuqG04++eRDAIt1jYj26dOZ+c73sOz8T7DsU+cx7bUnMfnQpxYdS5IkSWoaKaXVEfEuYG+yjtr2lFJPwbGazmZ71CPi81XPdxnmzx4Y1v6ngYaUUj/ZPPg5wBJgj5r3TOexw+EH3rsypXRH9WPu3LnLhzmztFkTdtqJmae/k45KF8u/sJAV17iboCRJkjQgIg4DuoEryeq7pRFxeLGpms+Whr4fUvX8/4b5s/9A1jv+5IGGfCX4x5P9w11PtvJ7taPJtnGTmlbrpO3Y822nsf3Bh3DfZZdy76XfpH/jxqJjSZIkSc3gXOBY4P6U0lLgVWTD4FVlS4V6aRPPhyyl9DDZnISzI+IlEbE3cB5QAS4ELgCOjIgzI2LfiPggcCj+I2oUaJkwkT1OfhNTjnkGD/z4GpZ/8fP0b9hQdCxJkiSpaJNSSn8deJFS+iH1L3I+bmzNL6S/AZ//PuBhsvnluwF/BI5LKSWAiHgxcA5wOtmK8M9PKQ3nFnFSw5RaWtj1P06gbcpO3Pedb9O3ejV7vOkUWjs6io4mSZIkFWV9ROxEXl9GRBScpyltqVBvyX+JJaC16jkw5O3ZBuakfyR/DHb+KuCqoXyGVKRSqcTU5zyP1h135O6Lv8LScz7CnvPfTtuOU7b8ZkmSJGnsOQv4OTAtIr4JHAe8vthIzWdLQ9+fyCPbsT0RuJ/h255NGjd2fNoR7PmW+ay7ezlLPnI265a7zqEkSZLGn5TSlcBLgPcDvwKOSCldXmyq5rPZHvWUUr37rEvagu2euD8z3nEGd376kyz56NlMf+vb6OjsLDqWJEmS1HARMbXq5Qrg0upzQx2tPdZYiEsjqKOzk5nvfDct5TJLP/5R1vzp1qIjSZIkSSNhYFT2wOO+mqOqWKhLI2zi7tOY+c53M3HaHiy74HxW/eqXRUeSJEmSGu1ism24zwOemFJqSSm1DhwLztZ0LNSlArTtOIUZC85gUjyOu7/yJVb88Er6+xuxsYIkSZJUvJTSicABwC3ApyLiNxHxpohwleVBWKhLBWnt6GDPU9/GDocexn3f+Tb3fvNr9G/cWHQsSZIkqSFSSg+nlL6WUnomcDywI3BtRFy6hbeOO24sL42wHSZ3UG5/5D96u55xGndcfAl3fu/7tPY+zD5veystEydu9X17125g9YM9wxlVkiRJ41hEHAZcDxybUrqujuuvBLZPKc2t4/a75o9dgHuGEHNMslCXRli5vY3nn3ZFTesUnrLzwRzz699w6R8WcfkeR7O2deuK9R984oWsHr6YkiRJGsciYjvgEqCu+eMRcTLwXLI90jd1zUzghPyxMb//oSmlO4cceIyxUJeaxI07PYGH2jp47t2/5pXLfsS3ph/LQ22Tio4lSZKk8ek8YCnQtaULI6IL+DDwm81ccx2wD9m2bCeklG4enphjk4W61ET+ukMna1rLvOSu63jV0h/yrenHcv9E19eQJEnSyImI55D1js8DNrufcES0Al8FPkZWiG+qsD8S6AVOAv4rIgbaS0B/Smny0JOPHRbqUpNZPGk635jxLI6/86e8fNlP+Mpez6OntVx0LEmSJI1iV1999bT58+fPrmlemVJaWd0QEbsAXwJOBB6o49bvBPqBjwOf38x1c+pPKwt1qQnd3b4zl01/Bq9acjXPvftXfHuPY6BUKjqWJEmSRqlzzz33skGazwQ+UNO2EPh+SulHETFjc/eMiIOB04Anp5Q2VvWSP0ZKafHWJR7fLNSlJnV3+878bJdDOO6+G3nKyr9y405PKDqSGqB2F4Dh4i4AkiSp2oIFC46fP3/+TTXNtb3prwYOBPbf0v0ioky2GNx7Ukq3DVtQARbqUlP7w47BrJ7lHHX/H1jSsRt3lXctOpKG2eC7AAyduwBIkqRq8+bNWz5v3rw7tnDZa4AZwPK8d3xgSOfVEXFxSukNVdceCjwO+FhEfCxvawdaIuIh4PEppX8OV/7xpqXoAJI2o1Tih7sdzuq27XjR8l/Q3re26ESSJEkau04AHg8ckD+elbefBLyv5tobgb2rrj0A+C5wU/7cLdeGwB51qcmtbZ3IFdOO4ISlP+I59/yG7047yvnqkiRJGnYppWXVryOiN3+6LKV0T0RMBKYCK1JKPfD/2bvv8LiKq4/jX3XJDRs32dhg6qGakgQIvYMJxIQkhN4JNQQCob6hJYEkDoQ0sKmBFFogYNOrMb2a7hwDobj33rBsvX+cu/YiXGQsaVbS7/M8eixdrVbHq7v3zpk5M8NHdR4/E5inUvjVpxF1kWZgXGVXnu28DTbnc7aZ4anDEREREZHWaQdgXPavNCKNqIs0E6923JS1541nj8mvM6ayKxMqO6cOSURERERaMHcfzdJ56rj70Pyvl/H4E5sgrFZBI+oizUVREQ9135G5JZX0nzCM8sVfpI5IREREREQagRJ1kWZkXkklg6t3puPC2ew38WWorU0dkoiIiIiINDAl6iLNzOiq7jy35lZsOvtT+s7UOh0iIiIiIi2NEnWRZuilTpvzSVUP9p78Kl0XTEsdjoiIiIiINCAl6iLNUVERQ7rvxILiMvqPH0bZ4oWpIxIRERERkQaiRF2kmZpbWsWQ7jvTeeEM9p70aupwRERERESkgShRF2nGPmvTgxc79aXvrI+Z+PTQ1OGIiIiIiEgD0D7qIs3c82v2pfe8CRQPupG1L+5BeY+eqUOSFqx9hyoqKxr+1jF/QQ2zZs5r8OcVERERaY6UqIs0c7VFxQyu3pmzpj7O2EHXs/ZFv6C4vDx1WNJCVVaUcuA5DzT48w65uj+zGvxZRURERJonlb6LtACzS9uw0Vk/4YvRo5h0179ShyMiIiIiIqtBibpIC9HpG9vQab/9mfHsUGa9+krqcERERERE5GtSoi7SgnQ56GAq11ufCbffyhcTJ6YOR0REREREvgYl6iItSFFpKT1OPhWKSxg36DoWL9T+6iIiIiIizY0SdZEWpqxzF6qPO4EFn33K5HvvTh2OiIiIiIisIiXqIi1Qu623oeNeezP9ySeYPfyN1OGIiIiIiMgqUKIu0kJ1+f4hVKzTh/G33szCKZNThyMiIiIiIvWkRF2khSouK6PHyafB4sWMG3Q9tTU1qUMSEREREZF6UKIu0oKVd+tG92OOZ/7/Pmby/felDkdEREREROpBibpIC9f+W9uyxq67Me3Rh5nz7jupwxERERERkZVQoi7SCnT90eGU9+rN+JtvZOG0aanDERERERGRFVCiLtIKFJeX0/PkU1m88AvG3ziQ2kWLUockIiIiIiLLoURdpJUo79GT7kcezbyRzpQhD6QOR0RERERElkOJukgr0uHbO9Jhh52Y+tAQ5o74IHU4IiIiIiKyDErURVqZbkccRXn3asbdOJCaGTNShyMiIiIiInUoURdpZYorKuhxymksnjeP8TfdQO3ixalDEhERERGRPErURVqhil696XbYkcwd8T5TH34wdTgiIiIiIpJHibpIK9Vh511ov+32THngP8wd6anDERERERGRjBJ1kVaqqKiIbkcdQ1nXboy/cSCLZs1KHZKIiIiIiKBEXaRVK6mqosfJp7Jo1izG33qT5quLiIiIiBQAJeoirVzlOn3ocsihzHnnbaY98VjqcEREREREWr3S1AGISHodd9+Tef8dweT7/k3VhhtRtd76qUMSEZFmqH2HKiorGr55OX9BDbNmzmvw5xURKVRK1EWEoqIiuh97PPOvuJRxg65jnUuuoKRt29RhiYhIM1NZUcqB5zzQ4M875Or+aCUVEWlNVPouIgCUtGlLjx+fSs306Uz42y3U1tamDklEREREpFVSoi4iS1Sttz5dDv4Bs4e/wfRnnkodjoiIiIhIq6REXUS+pNPe+9K275ZMvvtO5n/2aepwRERERERanYJJ1M1sezOrMbPd8o7tY2Zvmdk8M3vHzPolDFGkVSgqLqb6uBMpad+ecYOup2bu3NQhiYiIiIi0KgWRqJtZW+DvQEnesU2BwcA9wNbAA8D9ZrZZkiBFWpGS9u3p8eNTWTh5Eh9fNxA0X11EREREpMkURKIOXAOMrnPsp8DL7v5rd/+vu/8CeDE7LiKNrGrDjejc/3tMfu4Ftpz5YepwRERERERajeSJupntD3wHOLPOt3YGhtY5NjQ7LiJNYM1+36HjVluy1+TX6LpgWupwRERERERahaSJupl1AW4GTgTqZgG9gDF1jo0Fei/nuTqaWZ/8j6FDh1Y3eNAirUhRcTEbnn0mC4rL6D9+GGWLF6YOSURERESkxUs9oj4IGOzujy7je22A+XWOLQAql/NcZwGf5H8MGjTonoYKVKS1Ku/YkSHdd6bzwhnsPenV1OGIiIiIiLR4yRJ1MzuGWCTunOU8ZB5QUedYBTBnOY+/Flg3/+Pkk0/+YQOEKtLqfdamBy926kvfWR+z+cyPU4cjIiIiItKilSb83ccS5e3jzQygKDv+iJndBowCetT5mZ58tRweAHefDkyvc7hXQwUr0to9v2Zfes+bwD6TXmFsZRemlq+ROiQRERERkRYpZaJ+JFCV93U18BwxX/0J4FfArsAv8x6zOzCsqQIUkaVqi4oZXL0zx38+hIPGP8vtvfanpjjlJUREpGVr36GKyorGuc7OX1DDrJnzGuW5h/iODgAAIABJREFURURk9SVrZbv7l0bGzSw3H32Mu080sz8Db5jZ5cAdwOHAdsCpTRupiOTMLm3Dg9134pBxT7Hn5Nd5rNv2qUMSEWmxKitKOfCcBxrluYdc3Z9ZjfLMIiLSEFIvJrdc7v4u8D3gB8BbwHeBA919RNLARFq5/7Vdi5c7bsbWM0ey8axPUocjIiIiItLiFEzdqruPZuk89dyxh4CH0kQkIsszrPPW9J43gX4TX2Z8ZReml7VPHZKIiIiISItRsCPqIlK4FhcV80D1LiwuKuKg8c9SUrsodUgiIiIiIi2GEnUR+VpmlrXj4W47UL1gKrtPfiN1OCIiIiIiLYYSdRH52j5stzavrbEJ35zxXzac/XnqcEREREREWgQl6iKyWoZ22YZxFZ35zsQX6bBwdupwRERERESavYJZTE5EmqdFRSU8UL0Lx33+ID/+7H4WFZXU6+dePvQeamtrGzm6FStfqxc9Tz2d0o6dksYhIiIiIpJPibqIrLbpZe25q+debDz703r/zEG7rs/ceQsbL6iVWbyYmS88x+dX/oq1zjqHip4908UiIiIiIpJHibqINIixVV0ZW9W13o8/+4T+TJo0qxEjWrkOO+7EmGuvZtRvf81aZ55N1fobJI1HRERERAQ0R11EWrHKtddh7Qt/QUm7doy++nfMfmt46pBERERERJSoi0jrVta1K70vuJjynmsx9q9/YsawZ1OHJCIiIiKtnErfRaRFad+hisqKVby0dW1Pt9/+Cv/d75lw+62UL5xL7x/9kKKioiUPmb+ghlkz5zVwtCIiIiIiX6VEXURalMqKUg4854Gv9bPFtZuxX/uZcMddDH5oOI933Zbaoig8GnJ1f9LOqBcRERGR1kKJuohIZnFRMQ9324FZpW3Ycdq7tF00j8Hdd6amWJdKEREREWk6mqMuIpKvqIjnOm/N4122ZcM5ozh07BNULlqQOioRERERaUWUqIuILMObHTfm/updqZ4/hSNHP8qCSZNShyQiIiIirYQSdRGR5fB263DXWnvRbtFc3jn/IhaMGZ06JBERERFpBZSoi4iswKiqav651n7x+W9+zVz/b+KIRERERKSlU6IuIrISkyo60fe3V1LasRNj/vB7Zr3xWuqQRERERKQFU6IuIlIPFV270vv8i6hYpw/jBl7H9KefTB2SiIiIiLRQStRFROqppF07ep1zHm233IqJ//oHk+/7N7W1tanDEhEREZEWRom6iMgqKC4vp+epZ7DGLrsx9eEHmXDrzdTW1KQOS0RERERakNLUAYiINDdFJSV0O+oYSjt1YsoD/6Fm5kx6nno6xRUVqUMTERERaTBmtj3wPLCXuw9dzmN+BFwIbAiMA24CBrj7oqaKsyXSiLqIyNdQVFRE5wP70+3oY5n7/ruM/v1vqZk1M3VYIiIiIg3CzNoCfwdKVvCYfsA/ieS8L3ABcD5wUVPE2JIpURcRWQ0dd9mNnqefyYLRoxj1m1+zcNKk1CGJiIiINIRrgNErecwpwL3u/hd3/9jd/5393HGNHl0Lp0RdRGQ1tdtqa3qdcx6LZs/m86t+yfzPP0sdkoiIiMjXZmb7A98BzlzJQ38FXF7n2GKgU2PE1ZooURcRaQBVG2xI7/Mvpqi0jNG/u4o5H7yfOiQRERGRJR555JFqM+tT56Nj3ceZWRfgZuBEYNqKntPdX3P3D/J+tgNwKvBoA4ff6ihRFxFpIBU9e9L7wv+jtHMXxvzxGma+8nLqkEREREQAGDBgwD3AJ3U+zlrGQwcBg919lZJtM2sD3A9UEXPVZTVo1XcRkQZU1qkTvc+/kLF/+RPjbxzIohnT6bTPfqnDkmaifYcqKisa/tY8f0ENs2bOa/DnFRGR5uPnP//5D88666zX6xyenv+FmR0DbE0sDFdv2Sj8YGBTYG931zzA1aREXUSkgZW0actaZ5/D+JtuYNLdd1IzfTpdfnAIRcUqYpIVq6wo5cBzHmjw5x1ydX9mNfiziohIc9KvX7/x/fr1+3QlDzsW6AWMNzOAouz4I2Z2m7ufUvcHzKwP8DjQHtjF3d9pqJhbMyXqIiKNoLisnB4nn8akO//JtMcfpWbGdKqPO5GiUl12RUREpGAdSZSu51QDzxHz1Z+o+2Az6wY8AywCdnD3T5oiyNZALUYRkUZSVFxM18OOpLRjJybf928WzZxFj9POoKSqauU/LCIiItLE3H1M/tdmNj/7dIy7TzSzcmBNYKq7fwH8FegC7AHMM7Pq7PG17j6hqeJuiVSHKSLSiIqKilhz/wPoftyJzPURjB7wG2pmTF/5D4qIiIgUnh2AccAOZlYFHAy0A17Njuc+xiz3GaReNKIuItIE1thxJ0o7dGDs9X9h1FW/Zq2zz6G8e/XKf1BEREQkEXcfzdJ56rj70PyvgZKmjqm1UKIuItJE2m7Rl17nXsDYP/2BUVf9mp5nng1dt0wdlkiroVX1RUSkuVCiLiLShKrWW4/eF17MmD9czejf/4b2F/w8dUgirYZW1RcRkeZCc9RFRJpYefdqel94MeXVPfjgV1ex+cyPU4ckIiIiIgVEibqISAKla3Sk93kXsMYWm3PAxBfYfuq7UFubOiwRERERKQBK1EVEEimurGLTX1zE++3WZbepw9l78qsU1S5OHZaIiIiIJKY56iIiCRWXlTGk+07MLq1iu+kf0LZmPkO678SiYi2iKiIiItJaKVEXEUmtqIhnunyT2SVt2HPK67QZO597e+zOgpLy1JGJiIiISAJK1EVECsRrnTZldmkVB0x4gSPGPMrdPfdidmmb1GGJiLRYzW3LvuYWr4h8fUrURUQKyIj26zK3pIKDxw3lqNEPc3fPvZhS3jF1WCIiLVJz27KvucUrIl+fFpMTESkwn7Xpyb967UtJ7WKOHP0oa82bmDokEREREWlCStRFRArQhIrO/L1XP+aVVHDo2CfYYM6o1CGJiIiISBNRoi4iUqBmlLXn7736Mam8IwePG0rfGR+mDklEREREmoASdRGRAjavpJI71tqHT9r0oN+kl1hn7rjUIYmIiIhII1OiLiJS4BYWl3F/9a5MKVuDAyc8T5sarcwrIiIi0pIpURcRaQYWFpfxQPUuVCz+ggMnPA+1talDEhEREZFGokRdRKSZmFTRiSe7fIt1541j+2nvpQ5HRERERBqJEnURkWbk7Q4b8kG7Puwy9S16zZuQOhwRERERaQRK1EVEmpOiIh7ttj0zytrx3QnPUblofuqIRERERKSBKVEXEWlmvigu5/7uu9CmZj4HTHhB89VFREREWhgl6iIizdCEys480+UbbDB3DN+aPiJ1OCIiIiLSgJSoi4g0U2+ssTHedm12m/IGPeZPTh2OiIiIiDSQ0pS/3My6A78D9gGqgFeAc9z9vez7RwCXAGsDbwM/cffXEoUrIlJYiop4uNu3OX7UFPqPH8atvQ9gQUl56qhEREREZDUlG1E3s2LgP8BGQH9gB2AG8JSZdTazvYBbgKuBbYB3gcfNrGuikEVECs6CkgoeqN6F9jVz6DfxRc1XFxEREWkBUo6obwl8G9jU3UcAmNlRwFTgO8ARwB3ufkP2vZOBPYCTgCuTRCwiUoDGVnbl2c7bsMeUN9hmhvNmx41Th1Qw2neoorKi4W918xfUMGvmvAZ/3uZGr6+IiEjjSJmofw4cAHjescXZv52AHYEzct9w98VmNgzYuckiFBFpJl7tuClrzxvPHpNfZ0yVCo9yKitKOfCcBxr8eYdc3Z9ZDf6szY9eXxERkcaRLFF39ynAQ3UOn0nMVX8daAuMqfP9scC3lvV8ZtYR6Jh/bNCgQdW77bZbQ4QrIlLYiop4qPuOHPf5g/QfP4yauYeljkhEREREvqaki8nlM7PvAlcB1wCfZYfn13nYAqByOU9xFnBp/oFBgwax22670alT23rFoFI7EWnO5pVUMrh6Zw4f8zgfXz+QTkedQFFRUeqwRERERGQVFUSibmbHAjcCdwLnEaXvABV1HloBzFnO01wL/C3/wMknn/xN4J7z/jyMEZ9OW2kcKrUTkeZudFV3nltzS3Yd9jwl627IGjvvmjokEREREVlFyRN1M7sY+BXwF+BMd681s6lEQt6jzsN78tVyeADcfTowvc7hXg0crohIwXu50+Z8t/diJt7xTyrXW5+KtXQpFBEREWlOkm3PBmBm5xFJ+iXu/hN3rwXI/n0R2DXvscXALsCwFLGKiDQXtUXFbHT2mRRXVjJu4HUsXrAgdUgiIiIisgqSjaibWV9im7VbgBvNrDrv27OIuepDzGw48DTwM2AN4KamjlVEpLkp79SJHiedwuhrBjDxX/+g+rgTUockIiIiIvWUckT9UKAEOB4YV+fjbHd/FPgxcA7wJrApsI+7T04TrohI89Jmk01Z8zsHMvOF55j50gupwxERERGRekq5PdtFwEUrecytwK1NE5GISMvT+cD+zBvpTPjH7VSuux7l1XWX/hARERGRQpN8MTmR1dW+QxWVFQ1/Kmu7PmkJikpKqD7pFD67/BeMHXgda1/0C4rLy1OHJSIiIiIroERdmr3KilIOPOeBBn9ebdcnLUVZp05UH38SY//0BybdfSfdjzw6dUgiIiIisgJJV30XEZGm0a7vlnTatx8zhj7NrNdeTR2OiIiIiKyAEnURkVaiy/e+T+V66zPh9lv5YuLE1OGIiIiIyHIoURcRaSWKSkvpcfKpUFTEuEHXsXjhwtQhiYiIiMgyKFEXEWlFyjp3ofq4E1jw2adMvvee1OGIiIiIyDJoMTn5Cq2iLtKytdv6G3Tcc2+mP/k4bTbehHZbbZ06JBERERHJo0RdvkKrqIu0fF1+cAjzPhzJ+FtuYp1Lr6Csc+fUIYmIiIhIRqXvIiKtUHFZGT1OPg0WL2LcDddTW1OTOiQRERERyWhEXUSklSrv3p3uRx/HuBuuZ/L999H1B4ekDklERFoQTacU+fqUqIuItGLtt92OuT6CaY8+TJuNN6bt5n1ThyQiIi2EplOKfH0qfRcRaeW6/uhwytfqxfibbqRm+rTU4YiIiIi0ekrURURaueLycnqechqLv1jAuBsGUrt4ceqQRERERFo1JeoiIkJ5j550P/IY5o10pgxp+DJFEREREak/JeoiIgJAhx12pMMOOzL1wcHMHfFB6nBEREREWi0l6iIiskS3w4+ivHs1424aRM2MGanDEREREWmVlKiLiMgSxZWV9DjlNBbPncv4m2/QfHURERGRBJSoi4jIl1T06k3Xw45g7gfvM+3Rh1OHIyIiItLqKFEXEZGvWGPnXWm/7XZMvv8+5n04MnU4IiIiIq1KaeoAWoP2HaqorGj4l3r+ghpmzZzX4M8rIlJUVES3o45l/iefMO6Ggaxz6RWUtGuXOiwRERGRVkGJehOorCjlwHMafrujIVf3Z1aDP6uISCipqqLHKacx6qpfMf6WG+n5k7NShyQiIiLSKqj0XURElqtynT50+eGPmPPO20x/4rHU4YiIiIi0CkrURURkhTrusRfttv4Gk+69h1kjP0wdjoiIiEiLp9J3ERFZoaKiIrofezzzr7gEH3ANFW33YEFJeeqwREREGlRzW1eqseKVwqC/rIiIrFRJ27b0+PGpjP7dVfSb8yL3V+8KRUWpwxIREWkwzW1dqfrGu0mfTvzuJ7s0QgTSmFT6LiIi9VK1/gasc9QRbDznc7aZ4anDEREREWmxlKiLiEi99ex/IB+1WYs9Jr9O9wVTUocjIiIi0iIpURcRkXorKi7moe47Mrekkv7jh1G+eGHqkERERERaHCXqIiKySuaVVDK4emc6LpzNvhNfgtra1CGJiIiItChK1EVEZJWNrurOc2tuyWazP6XvrI9ShyMiIiLSoihRFxGRr+XlTpvzSVUP9p70Kl0WTEsdjoiIiEiLoURdRES+ltqiYh7svhMLiss4aPwwyjRfXURERKRBKFEXEZGvbU5pFUO670TnhTPYe9KrqcMRERERaRGUqIuIyGr5rE1PXuy0BX1nfcxmMz9OHY6IiIhIs1eaOgAREWn+nl9zS3rPm8i+k15hXGUXppavkTokERERWU1mtj3wPLCXuw9dzmO+CfwR2BoYA/zS3W9vsiBbKI2oi4jIaqstKmZw9c7UFJVw0PhhlC6uSR2SiIiIrAYzawv8HShZwWO6Ao8BbwLbAH8CbjazfZokyBZMibqIiDSI2aVteLD7jnT7Yhp7TH49dTgiIiKyeq4BRq/kMScCM4Cfuvt/3f3PwD+Acxs7uJZOpe8iItJg/te2Fy933Iztp7/P2MqufNqmR71+bsGUKSycNqfB41lQ/AXtauY2/PMq3nhexRvP28ziheYXs+LNnlfxxvMq3njeesZbubBylZ/bzPYHvgP0A95ZwUN3Boa5++K8Y0OB68ysyN1rV/mXC6BEXUREGtiwzlvTe94EDpj4Qr1/5vXj/90osXwCnNEIz6t4g+INzS1eaH4xK96geIPiDfWNt2JuV2BfHnnkkeqzzjqrT51vT3f36fkHzKwLcDNwHDBtJU/fCxhe59hYoA3QGZhcjxBlGZSoi4hIg1pcVMw9PfdkozmfU1Rbv470Mw7Zilmz5jd4LO3bV/KXu99q8OdVvEHxhuYWLzS/mBVvULxB8Yb6xrtWry58ExgwYMA9y/j25cBldY4NAga7+6Nm1mslT98GqPufW5D9u+pD+bKEEnUREWlw80sqeKfDhvV+fPU+e1MyaVaDx9G1a3vefqzhyxgVb1C8obnFC80vZsUbFG9QvKG+8X6xZicAfv7zn//wrLPOqruITN3R9GOI1dv71jOMeUBFnWO5rxu+3r8VUaIuIiIiIiLSwvXr1298v379Pl3Jw44lytnHmxlAUXb8ETO7zd1PqfP4UUDdBWl6ArOJRebka1KiLiIiIiIiIgBHAlV5X1cDzxGruz+xjMc/DxxXZ+G43YEX6iwwJ6tIibqIiIiIiIjg7mPyvzaz3PzzMe4+0czKgTWBqe7+BbHo3HnAQDO7FtgLOBzYrwnDbpG0j7qIiIiIiIjUxw7AuOxf3H0CkZRvTaz+fgZwtLs/nSzCFkIj6iIiIiIiIvIV7j6apfPUcfeh+V9nx14Gtm3ayFo+jaiLiIiIiIiIFBAl6iIiIiIiIiIFRIm6iIiIiIiISAFRoi4iIiIiIiJSQJSoi4iIiIiIiBQQJeoiIiIiIiIiBUSJuoiIiIiIiEgBUaIuIiIiIiIiUkBKUwewMmZWAvwKOBZoDzwKnO7uE1LGJSIiIiIiItIYmsOI+mXAMcDRwC5AL+DelAGJiIiIiIiINJaCTtTNrBz4KXCRuz/h7m8ChwI7mtkOaaMTERERERERaXiFXvq+FVHuPjR3wN0/NbNPgZ2BF3PHzawj0DH/h2+55ZbeO+64I316tK/3LywtbZy+i036dGqU51W8QfEGxRsUb1C8QfEGxRsU71LNLWbFGxRvULyhPvHm5UJljRKENIqi2tra1DEsl5kdTJS5l7v7wrzjLwDD3f2MvGOXAZfm//yhhx7K5Zdf3kTRioiIiIiIFKzTgOtTByH1U+gj6m2AxflJemYBUFnn2LXA3/IPzJw5s92UKVP27dy585tA3ecQERERERFp6cqAjYF/pA5E6q/QE/V5QLGZlbp7Td7xCmBO/gPdfTowfRnP8V4jxiciIiIiIlLonkkdgKyagl5MDhiV/dujzvGewJgmjkVERERERESk0RV6ov42MAvYNXfAzPoAfYBhaUISERERERERaTwFvZgcgJn9Bjg2+5gIXAfMd/fd0kUlIiIiIiIi0jgKfY46wP8RCyD8I/v3UeD0pBGJiIiIiIiINJKCH1EXERERERERaU0KfY66iIiIiIiISKuiRF1ERERERESkgChRFxERERERESkgStRFpEGZWVHqGEREREQKVYq2kpkp72tm9Adj6ZvFzA4xsw6p48mnpKfhmVmRmRXrtW1YZlYO4O7NaoXK3PmQOo6vq7mdx2ZW2pxf70LQ0l6/5nYO5xRi3M3h3CjE102aXl7bu9rM2mWfl6SNqumkaCu5++L8r9UWLnxa9T1jZlXAG8Aw4JfuPiY7Xlz3xG7kOIqaU6LT1K9PYyj019zMStx9kZldCnQG7gFed/d5iUP7EjM7BzgNOMrdX8yOFfRruyxZQ7e2EOPOvZ5mtiawyN1nLO8xCcJbZVmjrMjda1LHsjJm1hXYHGgDOPBxqtfZzA4BugMvA6OBae4+P0Usq8PMKtx9Qeo4VoeZtQEWF+LrX+DXsu3c/ZXs82bfjigEZvZdYLS7v2lmZcR5uSh1XMuT+7ub2W+ABe5+aeqYGlPe/bsjcBxwNPAJ8AzwYvb5jMb6m5nZd4Dd3f1cMyute9/NEvYiCvSa0VopUc9kN7TvA+cDXwCXuPuTiWLZDdgI2BAYCIxz97kpYlmWvIvr+sBhwFbAh8BTwAuFlkDmmFkf4DvAHsDHwH/c/aWkQa0CM7sQ+DWwAJhIvOZPAA+7+7spYwMwMwN+CfQA/uDu92XHCypxzLtZtgN2Bw4ERgCPufsHaaNbsbxOmz8BaxI395HA/4AxhZz0mNkOwOnAdOBO4PlCOi/qyjtP2hMNqquJe8PnwBjgfne/PlFs9wEHAXOB/xIdzC9ln48jGnsLU8RWH1nH+I8BI+51ufNiciEnFvnM7BjgJ8A84DXivejAWGBmU77+eefqA8AHwN3uPrzuY6AwKp6yTq+PiffUVe7+ReKQ6sXMKoEuRGfdTGBKIb3PzOx94HfufpuZXQwsIs7Lz4j31pykAS6HmZ0LXAa8B/xfqrZ3Y8slx9mgy4nEdaMI2BnoRLwn3gJudfdHGuH3nwis4e5Xm9mZwE+B+4CnifvxrIb+nbL6lKjXYWbrAJcTjaC7gAHu/lFT9EybWSlwHnAuMUqyKdCXSCaG50YpC4WZvQr0At4BOhIJWg3wPnGxuXpZI35NKS+x2QO4ghgRexHonX08CJzt7pMShrlceQ2wauB6ooHwFJGsbw3sB3QlEs2ngT+6+8cJ410XOBs4ArgXuNTdx6WKZ1nyzokriJvlJ8R7rQgYT/Rufww8VbexWyjM7BpgN2JUdR7xf3gPGE78H54thKQ9r1NvR+AfwBSgA7ABsBh4lXgPTnf369JF+lV5jaqfEUnlzcAjwLbAAcQ94vfufl6i+MqAvYgO5n2BtYhk903gWeK1/RwYWUjJr5l1JhK0PYlr8UHAZsDxwPvu/s+E4a1QnfP5P0TnyBTi79ALmEa8B3OVeU3WwMo6P24HtgTWJa4LL2VxDnb3sU0Vy8pkCe9RwIXAVOBi4npbU2ij63WqmH5PdNpNIu637xN/71FAqbu/lS7SkE1BW0h04u9OXGc/Bl4AniPuE+OAsYXQaZNjZmsRAxF9gb8Ct7v7wkI7H1ZH3vXjQ+AaYFD2dRtgC+KaeAxwm7tfmWurNODvrwLK3H2mmR0GfJdoB/cCaonBn2eIAbdhhTbI0lopUV8OM9sXOASYTSScnzfi78q9eQ8kGjBHEDevl4FNgN8B/YG+uZL81MxsF+ABYjR9FrA2UQGwGXHB2RT4Zuoe3Lyk7BXgdeK1nApUA7sCA4CB7n5hwjCXKy/+c4kG7f7ZRbYUaEecKxex9G/xOXB06hGKvI6RYqKn/JlCu+ma2QTgV8BtRGLzIlBCJGUAx7v739JEVz9m1puoENmPqAyYRyRo3y2E5Cwv2b2NGDE4hOjI2Re4BbiW6OQb4u79C+z8yF2X3wWuqzt6bmbnE0ny9919VBPH9pUGnJl1I86B7wE7AmsQCUXv1NcD+NK17FTgJCLGrYF/EveNXxPJ+jfd/cN0kS5f3v/hz8Ba7n5w3ve6Av2IBLTI3fdKMHVuDWLEdz1gG6Izb9/s2+7umzRVLPWRDYxcSrRz/uDudycO6Svy/uY/IQZRfkYkwKcBM4jO8xHE6/ujhHH2BObUHRwxs52Ag4l7xMbEPWIksF2BXBeWJIPZgMQJRKXm8+RNQ20psrbbYOBXyxt8a+gEfTm/Yy/gXaAnsD5xbmyRfb4psJO7v9mYMUj9lKYOoBBkb5yexGhrDVBJnKjrEI3gY83sSiJhb4y5lLmFHA4hEprXstG+4e4+2cwuyGL7LjGqmkRW6j4qu7iXA4+6+2fZt6cCb5nZv4kkuGvqJB0gu8GWEw2Bo/LinQV8mPUwHmxm3d19QrJAly/Xk7YV8J67zwTIzsPpZnYd0eAdQZQw/ZnolW3wsqkVMbMqd5+XlQmvS5RfXgT8Bbg7+/y61ElY3ujI+sT7/Gai4TIF+BcxGtkNeIVIIApaliDeBtxmZt8G/kRM6UiepGdycewEXOTu882sCzDU3W/PzpdvEQ3ggpIl6SVEZ1NuzZKy7OuFRIXAqcT1rkkT9dzfN4tvI6LUegxxPt+cfW9TYBt3/6KQOkCI6UcPZ9eLE4nRm7lZOeg2wP7AH5NGuBx576uFRIcYsOS6MokY0b4970eadCQkS9JmAB+b2VDgRiKx3I7oOG2SJKC+3P0zMzudmELwNzP7EXCZF8BUrmU4lChJvtfMNgJ+4+4Xmdk/iU7/36YNjwuB083sPWJUdLC7P+XuzxNJ78/MrIJoR25VCEk6xFQMM1vT3ae6+3gzu5NoTx4FPGhmvwfu8wKdUllfee+73kSFw2Vmdhwwvu77sTHen1mn/pnEa1sKnOLuawETiKqQXGfPesBGStILR6tO1PMaL8cTc8HfI8oHIeaOzCRGKscSjYtOZnZpQ5eU1nlT5m7s/Yh5nLj7RDObR/TcprzR/hPomZW8jwY2MrNvuftruQdkPaPjso9CsTYxd3MDYGSdRuuLwOUFmqTnr9D5KDDAzO4Hnsj7+xcTic4D7v6kmU0hEuWmdrWZ9Sc6QOYRvbOTiYS9Brg2K7U6wd1HJoivrnWJssVioA9x8+qUJQ+PAD9y99QNr2Uys82I13Ziflmau79kZiOAjOl4AAAgAElEQVSz7xWErBFWRVR65GItA2qyDtL7gbOI0d/JBZRM5hQBQ4nRs8GeNx81G8HuTlTqNKm8a9gJwBnAZmY2Kov14SzWD4APsiQy+euad80aQzRWIRKcS7Lvz8zK4qcmCK/ess6aCcBxZvYm0ak3c1mPTVw2WuPuUy0W6rqHmC7VKEnAqsjKfDcgOkfXIc6F14iKiouAPmb2C3d/OF2US+W9Xp2JqQQQnXNTskGAPwNVRAVkSn8lphxuD+wNnGpmi4ipiQ8RHbjvEufCPYVQ1myxbsI9QJmZbUW8jv8jpvOtk31+GlE9OChVnA0h7zw6mliTA2AI8KiZPU0MtkzxRliUMvtbjzKzGUS1wobAQjO7h5gS8YS7v+/uY7OO9OSDbLJUq07U88wjep1HED1Ls4lG+5KSGzM7giiTfpUYuWwQdZLuW4AbzGx74o309+wxOxKlgadlj2vyRlfWOLk+i6svMYprwJNZ8vg4UQ1QMPPg8nxCLPJziZmNdPePALIL0veBj1IGV09DiOkPVwDbWiwa04aYK1sEPJzd9DYn5qE1mazh1YcYUVhMXORfyz4vc/e3LVY5vRP4iZn9vDFuRvWR1zB5myi5HkDMO2xDVIlAVNMUZLKQvdb3EJ2Kb5nZCOL8HUU0cvajwBo0WefHS0RnzTvEa7tOVhLfk7jWJltXYUWyGB8E7jWz4UTH7StEefGZREKcZIudrAPkKuJ+dDlxXmwJHAkUmRnAFl54CyTeDPzdYjGjLsB/sv/L4UQ1S0EkaCvwTeJ1h6jCeQJ4Jju3R9FIje1lyasQ2ojYteZOovPrybwBhe7ALkRnWSE4griPdSHm9I8hKhqnEOdwG+AvZvZHdy+IygqLOfUvA4eZ2TCi06NdVq3yCVEKPyVhfGVER+fNwM0W8+mNWE9jF2ItlsuyjvyPgIMKZHDCiFLr14mOmplEXvIusQBeZ2L9h2vNDHcvqHvbqsrer5eb2fXADkR1w2HEItYTgVFmdpK7v92QvzfvHnUDUXZ/O3EelAAnA+eb2SRiYGU/oq1/V4FVYrVarTpRzzsBfwfs4u4f5vUyzrVsP9LscU8TC/Ws38Ax5PduDyd6bJ/Pvv6TmU0lRtcfdvf3s59J0TBcSJTXlhA31Q2IUclvEsnhr4ASMxsHPOfuSUtZ83uLs/L364mKgHfN7FmiU2ZnIjm7JF2k9ePuMywWtTqfGEErJSo9JhEVIb2BK4mFo5q6bLAfMSJ6u7tPr/vN7G8xPRup/gNRopeUu0/KSi6riQZsO+BIi5XJDyNKMQtRGdFpsyVxg82VZU/Mjn3q7sPShbdcA4iRnVzD/AwzqwG+TSQ6BVWSm5M1VB4xsz2JufX7E697B+A6Yo59ipgWE5100939JDPbkBhNO5yYl/x74IoCTNIhzoO7iLUr2hEdH7OJarY/uXuyhGdlsmvZS0CxmW1OrAfQH/ghkbxNINoTA5sinjptgbuIa8DhQHlWAv0+Ud30VlZWnHwUlUhof0m879sAC3PnqZm1dfc5ZnYacIGZ/dfdH0sYKwDZlJ2HiSk66xH33f2zb58GTPJsWloi+wMXmdlzRJL7FvB2dq7+0WKhts2IAZbtUyfptnRrsB8RC+D+bTkPnU5M49icWNeiWSfqQJuscuBFd7+f6FTLTSvdk3g9pmfHGuy9mnsud58ITDSzgUQnYydikGUjli5e/QBRnQFNPHVHlq3VJup5PdHrEg31trCkVLOI6GlanJfMLyR6me5twBhuJ7bSeC/73dOBo7M5Ov1YOk/+z0SjMOlWV9nvXkSMGowys2fd/RaLeU9bEvPgdiLm/iaTlQYfTfQSFgOV7v5i1pg9muj93p0oe89NeShoFosE1bj7GUSSsw5QnnUutQfOIUawf5ogvC2IhuCXknTL2ykhK3N+i7gpz04Q41e4+zNmVu6xyN3PgVuJTqdriZtVwfGYg3o+LBld35m4wRvwN+LmW4imu/ud2ec3mtkWREL5BDGPFgq0UZA1Et9090NyFQDEHMPahp4GtYq+zdJy202IzsfZxOv5bQq0KiQbbb4ku8/tRCQ+ZcSCgkNTxrYydaaavEfcO36ZtRn2IjpNZ0KTLQiV67TpRVR4LCQW6OtLvLabZDFek/1IEYnfZ+5+n8XWmDXAF/kjdr50XZv7iQ703st4iiaX/S3vNrOHso6EcuBcM1tMLMyWeprUYmLK0w5E23EO0Ub7gBgAeht42t0fzwZbUsu9L/YgdiXIlcHn9n5fshZU1vaZTOwO0izltdv3ICqg3Mz+SwwAPuXuTtxTbsj9TAO389exWAxxKpGY7+PuA4lr1WfAs2bWlqhuG91IMcjX1GpXfbelK/ruSyTgo4lyrNeXNSrYGL+fSAZOcfcxWQnrCKKh/YgXwEJsy2MxN/NkYn5hN+Ji8w93f93MOgEl7p5snqzFXOn+7n68mf2AGLm5i1jZ21P3Jq+K7Dz5JdEAnEOMkLxOlJb/D5iWjQ73IpKhJk+CzewSYlXZy4m9yOcu53GlRHKTZNQ07z3fiSgPXuzuf80S3vbuPsGyRW1SxFcfWUnjj4ikZnSd7xXiiHQJMZJzGDGa8zFwR9Zg7EKUCRfUTSjvPNmUGEXfk0iAHHgSGOaFsQ3TocS2Vt8jOpgOB37m7qPN7HFisc9rCum8MLNvETH/n7u/ZzEnvXchvJ71kSUTmxL/hx2Izt4ziYQz2YiqmU0nErLz3f3V7L7RnlhksGDeX1ky8APifbUF0en/JPAXd38rbwBlHWK1+ruboj22MtnruQ5ROdaGqAqx7OMjoqM6+eJs2TV1G+Jauw3R0VFKjNJ+SLzeN3kj7mJUX9l0lzuISpRT695365Zdm1lF4o7R1WZmGxCDROsSg1vrEefUZ8S9caDH4n+N8buvJO5lmxEJ+lNEJ94LREf0XDPbh9hn/Z7GiEG+nlabqOdkI2n7EaXcEBeykUQ53nDgtbxR9gbtYTKzjllJcDtizttWRG94bruPx4iS9ycb6neurqx380biDT8YmE/Mg+pGbKVxwwp+vMllpcwXEo2CtYk9pl8lRvJeIRL3WekiXLa8ZGE/Yj7RTcRqvrsRDcVSoszyLXc/PmGcHYl5TdXExf8ZYsX5l4mbzywvkDlOea/pDUTZ8FXEKPRVxN6lk4EfuPsb6aL8qrzGa2eiU3F3otx2JFFpsyZwi7sXzGi6Ld3S6CBiSkYtsXbCpsR0mdeAI+p2NqSWNcjL3H2Bmf2LaNQ8Trz3tiTKiNsT6wH81t2vWe6TNX6s3YmO3TuJRtdwYmXqacQ8753d/f3U5c5577vtiBGjsURH7zrEnOQviP/HRYVyragr73zem5jm9V+ggrhfH0DMu7/H3f/cxHHlrg0bEnN8uxBVSw9k319S1dSUcS2PxfStE4jdNe4lRvx/RCSUJ7r7f/Iem3R+bN55uxYxFeonxN98NJHgDHT35KO8WcXPce5+zjK+tzaxuNwOxLV3E2Ka5ydNG+WSeMrJRszN7JtEW3ILYvHhoUTH18vAu944OywVhGzQogex5tOOxCKKnxAdFs82xrmftd37AP8m3n9tiEqcUmI6ynhi56lzsw5ezU8vEK06Uc9uYqcTPbprAN8gSsbWJRaa6gH0y5WmN0E8VSzd/3QXopR8c+ADd9+8KWJYQWy5hsoJxDytA939o6yToSexcvMRxN6c/00Z6/JkI2T7EvO5tiIWKjnYY65QQcl7vQcCVe5+TN73Kokb70FAsbufYUvnfDV1nBsS5ZQlxGv7HaLjppKYi3y3u1/Q1HEtTzZNYwqxR+hbZnY2UWJ5KTEy+S7w80Lqubcv7+N7CjEiNZ6Yh/x9onGzPbCXF8iWKnkxv0EkkVcRHTltiWvsdcSo1PGFMBK1LBYLL33X3V/Ivu5O3Btyjat73P2phCHm7mGdgLlEp9NWxL3sJXf/XsLQlshdm8zsZmBNd/+emfUlOp2mA8OAHwNH517rQpN3Pj9KbJN5rpn9Eejo7seY2Y1E0r63u09r4tjyF5Q7j0h87yM6zgtqoVQz+x9wpbvflHesEzGyWgMcnrIyIV/eeftHomR5AFGVtwtRvbIncE5Td87UVaeC8BCisu1fRKzDcwMR2WDTxu4+ImGsuTnmDxEdHn2IQZ6tiGvrmiydmnFD/nnSkpnZRUQH8CWet7NII/2uA9z9wazjfwOi7bAp8bfwLIbpqTt4ZalWOUc9r6doH6JUMHehfTn7/tpEL98WjZmk5/XYnkckOkOBj9z978SquB2zOIqyxydJxurYiyjN/wggK7Uemf0f1iOqEwomUc9K7b5BLLL1ATH6+4esJHcnYqXcgpNXqjqROqv8e8zxfDr7yB1LdV78jdgH+TyiCuRaiznzW7F0gaXk527eTWdXYluztywWcPkx0SD4U9aIvMbdz0wV50rsD/zL3UeY2VlEh97xHnM+7yfee0kT9WykoE9egjCL2Poll7zMBJ43s/OJhu8GxHsyuawj72AiyfmUmC7TKfd9jykzE4CXLeZXp97mKleK+6nHyvonE5Uhn5FdGwqksZV7nbYErs4+/ykxneAij10hvkOczwWZqOddj/P/DwcCv8g+/wNx3mwBDGuq192+vGjqSOBEi329TweuyBKj57J2RuoR6g7U2cYsi3+amV0M/INI1AoiUc+7X/0A+Im753b7ybXPfkOsAv+flJVBWfVEbk2V0UQp/glEwj7JzF4hqjNfJtsvO6E5xH3seKLD/EHinnUHUVnTk5hOsAPR0Z+8smJ15XXy7UFUvDy+jOkcI4lcZGFjXTts6RSoxyz2VN+QGAR8JevE6QGMy7uepL5vSKZVJup5egLvmFn7/PJnj/k7nxO9fo0m7+KzGdnNgFiV/GNiHvIbxNyR3Hz1ZA3DvIbKR8DWZtbF3SfnLqLuPtti7nqSbbfy5V0YdybK3rcCFlhsP5Ere38+KzEqShnriljMnV4DOMJiNf2ngVGeaGuz5RhDlLsvkb2XniNvm7jUHUx5N505wKdmdjDR0F5ELNYI0dFUcGtD5L335gC9spGzc4my4dyI7kZki/Iktgtwq8X+0k4sbnYM2crueT4kevGTz5XM8y3iGnwiS0f/tzSz17zOuhaNPeqxMhbrQhxGjEJON7ORxPvwfmBMNhJYEA1cX7qY5LvAIVnCdhzRyZTbhmhTYipSwcqqx56PT+1ZotGdW5F8KjG16gNo0kZukZn1IEpYNyfOh1Kic/dQYj/ty4k54KnPhRKiXXMS2aKnea9TG6CXu3+aJrSlzKwPsYbJf4h5w/cQ+3rn1twoy+7BfyUS4jZpIv0qd3+RuK/lVxD2I9bp6UxUYCW7T7j7z4CfZYNhFxAVYt8ndtH4nKhufZx4n72c/Uzq83a15N2/DyIWM55iZp8TlUQPEh0UpxH3S4j3SYO2l7J7wSIz+wYxdWcHYgT/aIv1sWa7u6/wSSSZVln6nlcqNoDoeX6F2PbhRW+iRTbyRtM3Inro2xBv3M5E4v5Norz1LWKk/QYvgAWBLLaWeJR4vW4g5hZ1IubpDQC29rz95xPElz/H9GkiEXuYuBj2JV7b7kQnzcXu3uTbK9VXNofrXmILo0XEvLjhRIP3Q6L6ItnCeGa2HnAb8XqeRJTZFcRoyPJkHTN/A44iOhmOJ5Ld/sTo2B3uPiBZgHVY3haR2flwE9EQz1XblBNVLlcDm3nira3MbFtiCkx19tGd6ER4mBj1eZ2I/3Ri2sbRhZJQmllXImFcj3htc9fhYqIR9SqRmL2QojQw7761OdEJdjsxgrZ+9tEte+gsYF8vsAVJLXbjuIVolL/p7kdknanHEFtGJZ3eVR9mdioxn/Q1IjHejZi3fAGwrbtv3RTnc965sA9xP55GrK9TTXToPUF0knUnrg+vAUemvj5nr9/FxDX4SSLuDYlzYIG7/8ASL36YlZL/m7jnTiMqPyqBPXIVlhbTzw4AbnX39qliratOBeHneceXVBB6wl1XzKwsGzU+gehQeJy4jrUnXs/zievvx+6+Yao4G0N2/etOTA3sS9wXexOdQC8R89Pfaczrh5m9SlS8/pS4XhxEnC/nAfu7e0F3lrZWrXJEPbvBlREX4CHEDfdyYGbW0/Vm9vFYI95wi4le758RSeRRuXKY7CZwAXAqMaJ6BTGyc1oBNGhHEEnBZcSWYJ8Q8yN7E4vYJEvSYUnva25+8dbEnPmRAFlJdm+i3HY76owEFxp3f53YVqMHsQ3X/kTv+CHEe/caonMklfWJeU1rEInYGxarTT9LVF5MSj2Sni8b1evkMaf0SqIXeYyZXUi8x64hFoUqGLn3u5ltQzQcBxCdeXcRc/muJOZPDkqdpAO4+6vAq9l7bXNi8bXNiMT3aKJBsDbRwffjVHEui7tPIs7dZ7NrcBlxDdmKiH8r4j3Y08x2T9CoyW2tdQCxO8mSrRizEarNiKqA9h5bSBVC2fsSHgvbHUJ00HySNVx/QSS656eNrn7c/frs3D6DOD/uJDpz3iLu5ZBNVWvkOHJ/14nEXOnxxH7kHwGYWefc9SB7ne8gpiKlvr49Qdx/zyAqV0YQpc7PEG0KSL9N40PENWpd4r77DWIe79vZ6OOTRDtiDbLR65SaWQVhrv16NFECfl329Wxi284pxPz/q6AwdzJZFXkDctsT974z3P1pi/VO+gBrEdVb77v7OGj4CoK8GHYGerr7tlmbsoalA4EHAd+lwKuaWqtWmajDktLFi7LG+7rE/LhtiJvGD4nepUcaMYTcxWdj4KFshCY3ejbfzP5C3CCuJHrJ/49oiL3biDGtlMciWwPM7DZiNGFLoqF1d9ZIT8bMdiVG8+4gStbuJFY5HQlLSrJz89QHJwpzlWTn5xRiq6W7s2NbEHNp38i+bvKbWZYEPAH0tthbek8iiTmFaHyXEqPVtzVlXMuS9/ocRszjPiJX5mWxCu1NwJ2eaCXc5TGz/YlrwK3ECNTZ7v7PvO/3Im6s97r7w0mCrCNvKswsYpTgpex4CfFe3I5IJjcntheE9A1z4Cvvoy2I6Uh3eqxf0JEY+etI/B9SzPXMvU7TgI/zR17ypms9kncfKYjXNcdiTYidgYVmNj5L3H9KbCs5LnF4K5QlOKe4+/Xu/jsze5C45vUBfkNUCIyHL5W6NjqPtTZKicRyDTPr4e7j3H1KbvSSKMvvQFxLkiTq2TSuU4nR/UOIgYjfE1NlTiD2kv4C0pc6Z53L44Bx2QhkLTHNYRuizbMn0SbrSfwfksne66VEe/Jylnbm5ioItyLK33uaWfIKQv/yNK61c8ezc3iRx3orVxBrFTTpe6kx5J3Lc4ldLv5uZpd6bMHW1NWQ2xBrr0AsOOnA1CyJv58YBCqUdU0kT6tL1G3pSp7nEeU2TwIj3P0u4K5sHtrmRLlxoy1k4Uu3fBtKLAAzxL+8WvoMolSp2N3/Y2a/JXpxkyXqZrYn2Rwbolz4tVzyWCA2ZOmNdBHR4729mX0GvN2cLj5ZxcfuRCNwY+AlMzuCWDX5XfLOg1Q3MzM7B3ja3YeTLbCTHd+E6EgYnn2drLQ5l7RkZgI7mNlWnu3b7O5fZI2E/cxskRfW9oLjibm8lxGjdL/Oyp4Hu/snHgsY3WBm55rZ8EJIdvL/zlnH2cFE0juRqF66291vNrMNfOmClAX1vjSzY4h9nicRWw1CjKz/hEjW6s63b4qY8htPWxLzOj82szu8zkJWqROdurJ76qnE7grvE6WfL5tZP6KTOvl5uzx5167tgcvM7C53n+pLFybNPa46QWxlROfo9URp9ufEOTHY3W/zpesoTCVGsEc2dYx5DieuZQ8SnQYnEJUhs4DvNfKgyNeWtRW3I0aCPwGGuvv5FlMWtyN23EgZX3OtIBwI/MvM3iYWSM1Vkx5JxJx00KehZSXthxKVe0+b2e3AAHf3LA8oaqzrdt7zDgWOt5iyuAMwJEvSK4jO89zC2Q0+R15WT6ucow5gZncQjZ1SYq7GS0TZ4+vE/J5JTRRHT2J0t4iYv/cS0VN7ErCRu29iMXfyU2At/+pqkY0dX65sZmvgbuKmUEGUPc8kRnWfIt7cV6bsAbVYpGg94sa0KTEHaDuiVHg80bB6AnjW3f9biD2HeWVshxJzIf9OzGHal6ULwTzs7klLRS0WqnmaWDxwDpGUP0WMjBTSAmFLZOXM9xOrYl9C9CrvAXybeI2P9ALaixyWJAC5UsBHiVi7EHu+DyNGpc8BKgphmkHe+Xsskey2I65puQ7QN4HTPBaiLKj3X9617h2iGudad5+bNaTWJs73x9z9tFSxW6zWO5AomexF3Lv+R7z/XiZGdqc2dVzLkncunEokaecQ58DJxCJnufnq+3phLZD5JdnfvyOxPsEwdz83O55bx+BsYKw30XZ4de4RVxCDDYOJ0dO9iVHq37n7xU0RT32Y2QtEqfPlFgt5XkFcz94jFsY8O0UH2LLkXQfWJ2L7AdGGWAC8DVxLLDC3OOX1axkVhBcSlXcPrPAHC0CWHP6CmP60mOjIXUDc2/7u7pek7OBvaPnVWhY7XJwGjCXazJ9kxxv1npJdx24n2pJdiMUQ7yU6zbYFDnP3N1vS695SFK/8IS2Tux/m7uXE6MRNxGjsn4kL8L1Zb2Sjyt68Y4mS3LeIRVZez+JZCJxiZhsTDZpXmjpJz+TOkWOJxsjmxAjfS0Tjax1iFcmtUpcpuftMd3/L3f+dxfQvYh7cmcRCVrOIioDhZrZZISUJy3AmcJfHwmadiL//R8QWQP2yBntKo4hVhS8jGlxdieT3dTN7z2L7raTMbGszG2BmW8KSbe0OJzo8PiBGmSqJuNcm5n0XlKyc9i5iIaP+xOj0/kQJaw9i3/rfFEKSnsnd4C8l9hlf392PJBavuYiI/XwovJH0rHFeSSz4c6+7z82O17r7Z8SI+q5mtm5Txm5mO1rMacTdRwHfIyoVTiEWYyolRidvJCpwCs2hxJaezxHll29nHeF/IRKgXVIGtzxmtpHFjjC1HtsLXgbsa2Z/NLPHiOveLUQn8MDsZ5qySvFkor1yhrs/6u6/cfc9szj3N7O18v4vqdt6XVg6onsB8A5wlbv/jRikqISCiBOWrjHwS6LD/xdE+7A/MWDyV+CgvKrIVHIVhDcRnTXfBy43sy0Tx7VS7r7A3f+P6Cj/LdEJ+jKxoNol2cMK6v6wOrKOtTbZ9eQhYkrg3sQuT6dnj2nU/292HTuKaBs/TZw79xPX5JPc/c3scUrSC0yrK32vK6+M+JdmdiDwJ6K8aVZj9XDlPe8pZvY+Mcp0EnEzKyMSsxFE6fZNxPyW/2voOOop96bdlVhsC+Lm9aJHSX4nYm5LISRmuWkNGxIjkN2IOcnDiZGPzkTD5m/u/n66SJcvr7MjN/8YIrk5Pfv8BiLZ7AOMSjWy5zEHeSgs6R3vRbzGVxELwySbP59nY6LH/gwzW0iUKf6b6EXehyi5LMjzICfr3f5/9s4zTKvqasM3QxWkqIiCqCjqEhsq1oiKGo1dY4m9xRaNscQWsZtoPjWWaDQxMfYQa+wKNiwURQQsqMuCio2idKTD9+PZB44joCbMe87MrPu65mJ4zzvMYuacvfdqz/rczBqa2f6oHPtZd++dnMqqzKEsA+nwugJqK/prdn8mR/eTFAA92syWLUvmtxqtUBDnBODUatfeQyOkKq1l8Axq5xltZsegipA3UkDy/lRavhbq/860FwoXYcp9/7ksGMO3E8qsg4IMTdAYvFKRykMfAPqlPfodFEQfgQJ8f0GB4PuRiFvWX13jAbPcz3U5VEGRla9mGjK3oYD02sDn6Rkscn56EyQ2er2ZvYgy/ye4+ui7oL3sRSiHk5D7+e4BbOcSdQW1FfRHv/dDzewZd59YiJHiXnRPZhWEHdA57Tm0VgxLn/crawWhS0X/rYXZVjZbfyy5ypdTURZ7PLCaafzfW6g6owfwRzPbCjgn7ZM1Zc/qQEOX5kpWlTUF+LoMz12waOqlo56cy2kLKbd7Eil+DoSaWyjSYbY1Uk+fhw7fr6Ky7IGojKnK3ceZxljMKyibnmWZGiUbs/E/VcA3JoGY+5Ca5dJF2LcIzkCOwqXI5itRT85oYDXPqSWXETNbCpWRb2dmr6CDbDavN3OKh0I5NrN0OPwQHWRmo0BCFp0t0ll4BAUMVkVCStsiccal0c/xAjO7B/XZV3zc1g+kKq0BlwMTULZ3rpk9APRMFTlloy3q5/yZu/cyCck1SE7MCGD1Mjrp6fc/xsz+g/QAvkFBvffMrAeqChhYgGmd3f2LtC7cgIK5n5rZyyhY9irgWUYECn/uqvMIcJypH3VpUoAPZXJWoly9sxnzUJXbRiiTOgM56+OQUNcQtPfNLKKaxdSf/iKqansgrcF5VkH2F75HuHRAbkSivZuhANgQk07Qz4Bn3H1imUpuU2vXKKTHMx/XNIXLUGtMoe0arlF7w4BhqfLybyj49Tpy3n+KgiDXmdmmZQ5KF32P1gT+bWHSWSgo+RQKprZCVYnHoTXweuAsMztlSa4ntmCM46+RuO+yZjYFJYGeAV72CrX5Bv899bJHPUV1XwP6oYdmFDoEz0MzBs9397trYuPIRdnWRX0qm6O+481RRmQpFCUdjHp1XluS3/+/JUUFT0eZnX2BDdz9IDPrhioQCp8lmluUvkB9sA+Z2YWox6wnEsj4E4rmv1ikrd+HSWjpFhRcaIlKXVuhssFm7r5DUQeb1Bt3KMom9fPcvGaT8M5/3H2lRX19EaSDbROk1tsViadsh6Y8tAZ6lOmeyK0T+6BStXtRVqoZCjodiZyFw0tU9p5/Bm9HB5RfehLuM/X0/g5o7u4/zypgirR3YaTAwrHAmeigOxvpcTyPen9fLcCm+T8rk17IPqjcfT20b32IeoBLF4RMJdj/RuKoM1FGek20jzzv7scUaN73YmarAlshx2dzpIMyFQUYPgYecvf+Bdi1MxJn61qeoAgAACAASURBVI/WhwFAc9TK08zdty2Z89sEJR1mmdkGqER/HHCJu48sma1tUFnwZ6jFYLov6DE+CTjFC57znasg3Aada8YBl7r7Syl7+gaqyHzbyyWSWq8ws1YpqLK49xyOKmG6pirfJfF9s5n17VGQ8SEUxOmIJgJ0QmeimcBPwmEvL/Uuo54y2WNRWdMpqBxlMCp/3xRtdI9CjZdh/RVlQnbKskuplPXfqBymNXCCmZ3l7n+uQTsWiS0QVVkNiZqNQWX4byMF3DuRqNyzRdhXneQgLIOEtkaYWQtUMn4D8Fi6fieVH4vxg8j9vI9A9+Bv0D3aDPUpr4l61M8qzkpAZbYbIiXkFmbm6ND6JdJbeAuKL7+tdvBrgH5+44AHXWNgmqNDdzeKyZT+EA4D+rr7RbnXXjSzL5F4UDdKNPs0lxn5C2ojGpICZx+gLN+nLGiTKcWhPE/aH7oj56cPqsZohO6f/kW0GeQO5BuhebtDUUXN+en6jug+ySaVFF72npFs/9zMfobGnu6DnIpPgD+j/a50mHqlq9DIqE/MbCZwf8oOr4dmp++Mgg5DgP6VdDTT77h3ctbPRJm5C1nQ3nVpJez4MWTtAYnhwMH5qsYSOekNUoXVzajl8CbgKTObyoJgzc1F2liN45Ejdkqyu7G7jzCze9FefU6x5tU/cgHrZsAmZrYpMHBhyQCTnoADw5aUkw7zR1CDfJ0P3P3I9P2aIX2b1VGgd+Vw0stNvXLU08MzEUXyMbNl0cFhVyTQ8xbKUE2tqTLY3AGqExrPMC5l+6pc89N/n66fgsSC9jCze72YETbZ/78vcHoqY23k7g+bZl3ugQ4pNxZg26L4BpUE9kc9pROBa9KieSA6eHmRBi6K5KQ3R6JQXd39flNPXDdUTvwSMCrLYBd4sHkIHVZmIse3C7oX1kZR/J4F2VWdBjA/89QTbU6jgfdNyt4DgM/cvfBZ79XJrRMt0CEM+Ja+xb/QGrEmJXLUM9z91VR5sTOK3q+IWnv+mgUmS3QwzwJkGyMxts6o6uYpMwMFzHp6QcrkuaqDO4B1zexVtBb8x90HuNSy84rZpfi5wvzxVmuhLM4EtL9OMrMW+UqcspHuzblmtrSZnYYqiG4E/uzub5kEBQ9MWeIGua+plH1zzGwld3/GzF5Aa+/yqLVkfDrnlOYZq05a30oRTKpO7tw3ArgV/e53Rc7UHFTpdlshxuXIrQsGXJec9Kqcg3YJauXcEbWfBJWjCt0rl6LpMlUouTUPVfM+jAQ2h6O+8VfMbJMl9c3NrCdKnDyI9EGGZGtu2sc+Sh/PJsc9KDH1pvQ9F+FaE/gt8DlwY3KUm6RIefNKZEzSg/F3VAK6X7VrK6IHa0XUR/sKEjT5sKbtWhgpmDEAqU5/kXu9BdCqoADCYkk2n46qEv6JxmDcgrJj97j77xfz5YWQuz9XQ33U53uaM10mTKMCr0RZx2vc/Yb02k1IZOexohya6uQcsIGo1/BhVBY6BVUpNEHP2B/c/driLF04KdJ+BhI229Xd381dWxk58Bu4+4iCTJxP7v5tgcZVVaFDSjbabLqXs58+n7F+GFXjXA+8mwKnG6Iqlgfc/cyaCuD+ABtboH3rPFSJ1Ro5ZzNRr2HfZOOnlbatOrl7YQWU7fstatt5AY2T6u7u9xZp4/eRaz35FcpW9wLucvdRZrYKqiJ70N3PqtQ9kVvP2qNpJvsiZ+A1VP0xsKzPWG3Avj2W7UpgeXffOq3D16PRmKctLCtaFCb9oOvQWrCbu0/LXWuMAtNbufs7i/gnghrEzCaidq8BaMTjRujstBHSbNjd3Z9YkmtIqgZ6Bp13G6M9bU20d/zNv6tnEZScMozCqAjp4NAEORRbod6jKelyLzO7tFJljcmRuRvY08z6mtmJZrZhiqj9A5XAjEMPV+sinHRTnyYou/Q5cK2ZrZMOjKTIXOmcdID0szvf3U9KZaKroFK7K1DZZRnJnsVfogPYdZbSeSXjMNR7fKC735Bemwgsizak0kT+0qGrBRKtOtXd/4GCNqeiEn3QiKXSjWXLbdz3oX7YR83sAjPb0SQM8wDSByjcSU9k9++VKAM1FQVBrkOHlEfNbIuCbFssuczUZkAv14jH6clZG4bGNHU3s7Uq7aTn1uHD0Ci+nVCVwvZorFlfVM3yW+AFMzuqkvYtgszmU9BEkC1R8HE6ai37Uyorrg0ciEre/5Sc9AbuPhKV7e9uZptXyElvwIIKyN+i2cdvo+DHakhscqCZvWvSkwl+PNkadha6Ty819Xrfh56xucARMP/3UThp7boT6a7ca2a7m1kbk3bQrWikbjjpBWBSd38f7Smvu/sLKOBzHNIX2ZuaaRudh/SvTgSuQW1SjtaI98ysj5mdk8rxg1pAvXDUbcFszt2Q07aFu9+WsugN0AiLk8xspwrZ09Ddn0DCbJOQc/YkMAhlSE40ic39BjkSFSdXetsVHbT2Q5mlK8zswBRYWDF3kCwV+ZI/l/jT2e5+Rz7iXCZyP+8v0P3YDRhuZsPN7Boz28HUP1s0O6JM0mCYn4WYicYBge6TwskdpLZAitgfpEzYKGCGu7+M+gxLGXBKgcV27v4xsCdaBw5BmbOzUE99aYTDcvfvEcBv3P0qJMh2ABLDmwEcn1o7SodJPOodlJkCvvV/ehSNPypyFNPPgRfd/QV3n+LuY919IOo/fRy1djwBnGYSPyuS7Od2CGrvegdNXHghVQldDnRL1W2lJPe7n8OCwEP++l+QyGBbqHnHzTXiMOvxPhg4090PRnoPx6OqmyuQWNTYZFMp9+YSkx/L9jd3740CZIa0CC4ANjOzrYuoqlkYKXA0EK2zLVACaBxqhVmW746YDCpE2rufAH5nZsukyq057j7O3d9x90ey7PaSvJ/SWvGuu/dx92tQC22mD3IzSlAeAPQxs0L8i+DHUa961FFf7ZtZ5twWiO7cmBzj3ZFoSI2WsqWSurYudc6PUI9vA9RTPQaVyDyGekgKFQJx95uBm9NBdhs0DuZfSIRvNMo4LDEBjJqiLBvrD+AfaMzKSigTvD0SsPkV0NTMVnH3zwq07yNgS1ugZNogyzKZZvnOgO8IuRXJFKCxmR2KIsvTULYE1DO7ZVGG/QBuMLNfuuZ2/8bMWiHnYLkylDhn5Eqdt0QaCk+bWTvkqN/u7n8xsyFo3Zi12H+sIFz9nS8BV5v6CF9CAnhzUQbka3evuAhlzmH8APV5V7/+ppl1ROvxb1AApxsSaysEXzB+dCYquwQFfE9NDu29SAivlImCavv/3eieeBUYkNY8zKw7GoE1AGp2fzG1w/0M9bSOQYGjTKdkFuqlHgE8bRJLnZ6ulbIHvKz4DxejHVOknXmy+86lVdAfJaKWQ21db3gJx2DWdXItFEei6SwdUXXsc2b2Jlqbx7v75Bq0IWvnOhztua8Az6Yy+6WRRtbmpPXZSiRAGnyXeuGo5xyGfsD+Zradu/etdmOuw4J5rpkQxBIjd5hdCpUuHp8y+Hch53dFd/88vbchKnGcWpYMsGuO+yPAI+mw1RFFnkvjMNQRmqIs8DeoXOmJtOCug/qRi3TSQb3+vYGeZnada75zy7QhtEdzQgsXMcodYF4xs77o+e6DNszOqaTxcDRirnSYRlptg0SM7oH5c3Mxs6XM7BTg+qJ/ztVoAow1s7NRkKkxC4QmuwDTXONiShHEMbOl3X1K7qVLUe/36SjjMAEdZkYB51bewm9xH/CMSXm6FxrHNgpVsKzNAkFBS9eKZjJaCw4xKaZP8DRqNLVANHUvrajnvJyz/iAa4/gXNK96LAqkrwfc7e7jK3A/d0/ff6xp2kMLoIuZPe0LhMMy2xc7Bir4XmqzGO00dGYICiQ56Y2Ba1GL2qfoPH8tSsi9BbxjmpleI2rrvqCd61A0oWccMMgkojsEjaG+NbduFb4fB4um3ojJwfzRO3cDHZBy9VvoMLYT6gve1d3frYmMui0QpzkJOeYPoyxDc1S2eDM6eN+2JL9vUH5yEdifkMrr0GHwG9QOcVmKmBciZFXN1oYow9gTPUdjUVS2MXCzu19ZpJ0pk9sNbURfoYx6c6Cta8zS5cDJKMr8OnCIq+e0NOTuh/OBX6Bs2vJIgOZQVAXwlrtvXqCZ3yJn8wUoi/ANKst9Et0vRwGPuvsfrATz002Ck38ETkrBg9WRFsdcYGtUxbIyev76u/uQCtu3MlLtnZM9S2b2c+Di9JaxqDe5FSolvxqV6V7q7itV0tZFYWY7IDHPtiio8AeUydkf6OPuvy3OuoWTnrl/uPrRsznEzdH9ux3KVk5HvaV/9RqcEJOzaSW0pnVmwfzjjVF1zasoAfGUuw9K7y98n6jNWC0Uow3KQS4hty2qjFw/v9eZZt7vi3yOdWriOc3ZsArSjFkXVYitjBIVKwLDkMPeJ7V4BCWmXjnqAOnmvRgdxmah7HlT1Ff5aA1+3+wg+yFyvP5pZs+jg+yVKGPSFtjH3b+uKTuC8mJmg5Hi/z+RUNCGqP9wHWAPd3+9LIcwk9L7T9DhsTnwtLsXPiYsBcKuQ9mQwSg7MhiJR05Cpfk/QzNEH86qWMqAme0JvJa3ycxeROWMY1C2tDcLFJ4LFQlKzuTx7n5eqrJphsqdNwQ+ck3UOBmVZD+B1r3RZbiHU1DsdHff1yS8dBPwPGqPeBX4sMhSQDN7DAliDjWzrYDRLp2FldAhb30W3OPvoYz/ocAl7n5TUXZn5A6LXZCWQhd0UGyCeqlvK1v216RS/zgKhM1FYlzvonaC11xj5SoyGWYxNjZGQaTWaEa2oYP3iqiiaR93f74o++oK+SoJk+jW/iixc19ZqhyD8pE75++EAtRnuHrVK2lDVvZ+I7ACcEpWiZmSlf+HgrojUdDvT+5+QSVtDH4c9c5RzzCz5VCU+hvgVa/AyIL0kIwANnX3EWY2AdjJ3Qel0uZH09/LULoYVIDcgXZ9pOC7emozyK6vjKo/ngXOiT6i7ye1l2yERJeORM7BcFTO2A9lST8DZpehBBvAzNoiZ3w2Uop9FrWaNEHrwuXARSjDWop7IJWC7uLuR5jZ1kj1/1kUqf8E+BhoCXRy9zcKM7Qa1QMFZrYRUnZfBWiHyl3fQ2OvPkD7Q8VKStP9exn6ec4EXkal5O+je3cgCoRkehCtkVjbSJdKfeGk/t5N0Ji70akvskX6vBStDwvDzDqkdp61UMvJPFQtNBaVFQ9F98Rwr5BmQa4arzlSe98R6T+MSX92Q+0OHVGg5qsyBMPqEvHzDH4IufPcH5HA4+tI6X1QpSr3cja8jEZK/iUF+OamdaQzmn7UE7XX/RJN8fmoEvYFP55656ibFODnFbHopuDAXSgj9gqae9shXdsa9SO3rLRdQXHkFtVD0TiN7b3aHHIzOx443N23KsTIWo5JIGgb5LTviTLro4H93b0UQoippWB1lCHbPn2sizJ7jZEQ27VIIKhwQbbcfdvS3Seb2b5I+LIKaZ+MQUHJQcjpHV6mSiFbhHiOma2HHKEdUMZydeAE12i/ipOyvCehjOk6qCVmJirTfw+1QNxShG3VyTmUW6N7YUNk65eosuV5FPT4atH/SvHksmJVqHJhM5RlNxR4aoYyqxXRLcj9XI9Bo9keQePhDgLOREKCzwInhzMZBMWSnOJLUeB3PbQnTkUZ7CEsKDmvsWBlWrv+jIJ4u7n7+GrXx6EpWK+iqqET3P3pmrIn+N+od456nkpF9nOH2kao5/RYdPiegcpjuqKo1jfu/otFHSKDuouZrYECOLeiVohZudK7f6Hg0qFl6O+tzdi3hRB75asXykJaJ5ohOzdF4oI7o9LhhsDl7t6zOAsXjWl6xhYscGxaof76o939ySJtWxQpSPIdlez0e9gWeMfdv6igPQ2Axq7xoWcBI9z9/pRR3Ri1nGyUPl529yOLzlKng2Fjd59hZs8hMdYnkKPeFR1Yl0e6Fue6+7VF2fpDyPrTq73WHPWI7wwMdvfHKrFX5xz1/qgX/WIz2we18PVG1UJnIke9JuYyB0HwA8hXXphZE6Rr0A2t1YZKzadWIumSqnR7o0qg61E14cpoZN927t4pJQ8/Bdq7e5HjR4PFUC9U32HhpUuVOtjkvu9rKBr+LlIVboNUZVdGh5oL0/vqb/SknpL6T/+NRItWBl4ys7lofrIhATQIdc7/ifQsfsoCNfLSkfrLGqLy5neBO82sGcqw7w6Uoow8F4DsAFzk7se5+3DkOPwzOTbro2DDq/mvKc7q75J3tJKTnFVdzUaZykrbM8/MMifxEKRZQeqN7pc+srFdLSpt38JIe2nWPrYRsLm7vwdgZi3RmrYGUtHvu9B/pCSYxkweb2bnIrXkV9Bc6oHu/jJqRQAqMwIt9z3asuBn9zs0FvX/3P1rMzuTdC8UHbQJgvpIbj9sxYJRml+5+93A3an9Zz1g6fT+GntOky1vm9lBaBRmL6QlNBFl9E9K1VpXAMPCSS839SqjbhLAau7uFZ8xmw7e56Jo/ONI8Kozyo68gua7z6y0XUHx5DImTVG082jUKzsGTSW42N0fL9LGoDIkh/woYC+UPf8QrQ8ve8HicYvCzH6K+nl7VG8lSOJnnd39xUKM+x8pMrCQ1oN/ov7oC71k4msZJoXjQ4B/o/v1HKC3uz9cqGE/kpwI06FIRf8R1GKwM8qkg/5/D7n7eRW2rQnSqdgetREcD2zh7kNMgn2DgQ5x4A6CYjGz61DVbFOUFBiI9IdeQSKlNf6MJn9jbgocNEVq71nbzmB0tvhPevu57j6wpm0K/nvqhaNuZp2Av6KIUgvgQPQQeSXLiNMDcwgSLpqB1BhrTGk+KDe5XsjdUT/ns8CQVD7aBlgxZVRLmYkMlhy5YM2BqBd9OOppWwWNhJqLelH7ufuFi/6XKkvuHn4UCXP+EvV1d0MBp81QP++hZcz0lfG5ymVmtkEBkBVYMNv5NZRJ/bAsP8vUO30WOvzNQZViXwBHIE2FUv18F0XuXn4EnQ3OzF1bDt3LBwAT3f2USreomdmaqC2qPXA7OtOciaZYTHH3vcr4jAVBXSe3ZhuqePs1ylzvhnRxNkR7+BfAhjXprJuEPH+N1oYxaA/JJleMM40fnAgsC1R5hUQxg/+eOlv6ntt0u6INbSTwDnA4Gst2OTDczC6u1GbrUum9xczuQDNlLzGpfV/n7lMqYUNQKrID7A7AMcBpwFtmNhRFPYebWUfgi3Qvl86pCJY4RwD/cvfTAZJC63qohHwL5AwVSurd/gnq081GVR2PSoJ7oxLdjqit5y40grKUpMPV5uhZnAa8XbQ+SO4ZH44yM9ui3vSt0M99GjDRzHqVJNB7L1qv1kCCdx2Qzc8Bo81sWPq8n7u/W8Z1zDSj/g0z+wRNLPjW5JUkhPgkuXu50veJu79vZr9AbRmzzGwDtCZ8BFxSSVuCIFgomwEvuvvN6e9DUGIuqzzbxt0n1sQamAscHgicDvwDjcW8CCUGZ5rZGygIeQyq1ApqAXXWUUd9hnNRVmesux9oZgcA3d39EzMbgBRUe6Ge8YqQ+jmnoFmGDZDDvruZ7e8lmukc1Dy5sqSGSCH7PhYIiB2PyqYGAwPM7O/RGlF3yR36P0biL9nrHyKn4eFUFt+s8tZ9hy2Qgvd4M3sd6Ws8icqFr0Z6CjehaP38sZdlyfTlgrid0Iz33ZDC+yPAyWa2cfq8kOkgOSYiMaIWaM9ojHqmp6IpBvdA8T3JqSR/GDDMzNYG/gY8hUYTrYHmfncCrjOzTZOOQWlIv+8H0DSIN4GvgJ+nAMMwrzaFo0iq7QHDgYPz9pXlGQuC+kRun+gL7GJm61dvA3P3Z4BnKhCoPAK41d17mtklyCH/IzpfdgUehoULZgblpKpoA2qQ7OC7KTo0gMpBnkif/x2NjdkW5osILVGyf9PM1jCz/mbWD/UcDkKzWNdApYxd0aEsqCekHiKA/dA4qD3d/Q/u/qukCHoYKnldA81UfjqJMgV1FNMYuVbA0amS4lu4+3Qvh0r9EJQ5OBsdAk5DDs6l6fpywHJ5J71kZGt9T9R7fCAK2I5GfXzXAuekQNoS3xcWR27PaIcy1X9AWiazUJCmAxrVtyHSOincOUsVFqRS/TuA6cD9rrFxN6Ms+yDg1LI56QDuPgQFSI9C+/KaqLy8N3CfmZ1qZpuYWdvcul047j6nTEGEIAjYCNgVeNTMrjSzvVJybj415aTngv2d0AQh0F78vmtG+kXA/WiyEOGk1x7qbEY9HbKq0AFhK+AGYG3gjPSWqcBKwFvp7w1YwmrruQeyMxKlycrpbkb9pksDbyN15xjHVr/I7o3NUNbmk3TgbZgcnEdQBPQx1PP0ELA1CwJNQd1jE6Ts3hl4xcwGIrX0gegeKYWYWCp3HwwMNrO7UMZ3bZRp3xoJIp5jZtOAX7r7g4UZuxBya+0vgF3cfZiZbQmc5+7DzexhVOV0q1dwLFuiCgWZD0O9/t2TTc3R9IcLkANvJRQOOx61l53i7hNSxmaEmd2LKhbOKda8RZN+zw8CDyZnvBPQA9gbKawvg4Ilv0b94UEQBPkKrc1QEPUNVJXzE2AnYLqZjUQVRpfVZGA1KcsPTt+7L6oqXipdHgbcgiqJg1pEnc2oJwXXucBtwA5m1gcdKEeYxtr8DQmw9IeazUq4ex/gQHc/J3084O7Pufsj7v5BOOn1j9z9NhjYwsx+4u6zsyxkKnFcB1jX3UegbN8mxVgbVIj+yNk5HPV2N0fZ3muBgWZ2WIG2LZQso+fu/d39KnffGzntP0eBppEwf852aUi9/+OAT8ysNZrx3T9dvo4077YA07IA3nbAPclJb+ju37j7UOAE9DP9OdRMJdiPxRcIshrwbHLSq3IZm0tQCf+OhRj4I0jZr2OB1dz9n+6+B6q62BwF+7ORc6XJrAdBUAoOAp5z9+5o3/4NcA0SAm2Dgqtza3LNTlpXLwHHmNm6aI/rli7vjHyeCWXbj4PFU+cy6ln/h2vMyhruPjSp0p4BfI16QOehyP8Z6WtqvMdvYf9+GUV1gopzD+oputfMbkGZ9OmonHhVFKEFHYKvLMTCoCKkTPUrZtYeeBRFw9dBWeoeVFBLY3HkFG7bo3Lhn5nZVFS99BoaJVddeKtsvbOfo2qq04H3gU/cfWS6tiMws4iMde7n9AXQNe1Nc1K1TQN3H5VaYLIgwhKvBPtvSPYNAo40s/vcfVru8ueolPz9Qoz7HnIZsTXRwXpL4JR0rTnwJzSv/OzsayK4HgQBfGvNfhbYzMyapQD2kPQxfzR0el+Nrtnufo1pCssXKBF0nJl9gCZd3Zjelml4BbWAOjeezcy2QDfkMGAAcJS7DzKzVVFZaSukmvt8CUsHg3pEzuFpgxyGg4DVUInlqyiT+hJwHrCzu69VmLFBjZC7Bxqj2elnoDLbKjR39SZ3f6lIG6tjC+ZNX4ZKtPsiZfqVUM/6XGAm8LS7l7bc2cz2QmXNq6MWpH8C3VH29D53v6xA27ZFbS49gdszbYIUdL4C6FSWVoiM1D7wGNp3bwL6oTaO09BIovUKNG+R5O7nq1E1yJHuPiZdWxG1HTUGdiiJRkQQBCXCzJoAzyBNrGOQRkchGi1pzRoHNHb3qWZ2MGpLewp4wd0nR5KwdlEXyx/WRAfHAWg0wQZJ1XWCuz/h7ne7+8PA1pkIThAUQbZQpsPfBaifqQsSitrH3R9ATvoOqCQ6qHtkJbTHot/1GKRh0QvNUL/ZzHYtyLZFkUXiDwUucvfD0Yiof6Oqj46oWmsALBAbKxtpH7gUZYJXAc5F1Qs3oSBZIaTSyP7IIT8fcDN7y8xeRY771e4+qUzli+ngNxDNGW8B3I0Oi0+jeb2nFmje95Hdz1sBvXNOemN3H4X+T9PS9SAIguq0AyajSt07gI/N7B4zO9zMVqnJb5wTIG2TArlPoSkhb5rZTcAAdz/Z3R9z98lQc4J2Qc1QZzLqucxUI6Sifj2KblWRblrUKzIIOUNnuvuyRdkbBN9H7p5u6+5fFW1PsOTJld2+i0aqXJ5eb4L6pv+Fypz3q1ZOXCipCuRDYB13H21m9wN3uftDZnY6Wnt/VdYMpJkti2bTj3D3T5MIT3t3L1V5tpmtjyaTrIb2sifc/elirVo8ZrYUCnwsBzQB3nD3ccVatXjSYfcv6Jk7LJ8NM43Q/Aj4hbv3i2xUEAQLI+mdrIc0RnZA+hbLALe5+y9r6HtmFUEXAAej0amPo/3tF2hSyOHu3rsmvn9Q89QZRx00Bs3dP0ifZ1mop5Cww94oIr4C8Blwh7ufl93khRgc1GsqoY0QlB/TfHQHdk3iYfPvCzPbFDnre7i7L+7fqSRmtgbKoF+HxlhdidqJbjON6bqxbKXOSZRtjpnth6oXlkG6JR8CQ5G6/kSk2junTM5YOIc1j5ntiO7pO5EC/OcoOLIHCuy3L9C8IAhKRi6Zcj7Sv+qfxH+z6yugdqox7v5STfgbORu+BM5y9ztz11qj9awRcFC0+9ZOSlmS+N+QDrvPm9nGqXRtMvBBeijuSh+Y2eqol/KN9KUhChNUBDPrjsRFprv73Jwz1hAJjJTKOQhqlpzztRRy1I8HTq4WvJkOdCiLk56z+UvkoG+Pypubo5YNgN2QAzzfOS7C1oWQPVvno/X/AVR51RBNVDgdOWbnufsNhVi4CGJdqAjPoADO+cCRaKZ6a3ROOh0iuBoEwQKSg9wSBfOaAKeZ2Rco8PsS8FpqYczev8STgsmGJqjldzrMrxCqcveJZnY20g5ZDgWig1pGncmom1lbJLh1V3LGh6HD4igkyvQMSUihQDODeoyZfYRmDD9iZqehfqY+1Q/hqX0jnPZ6QgrUHA1cBVyNyuQ+MrOfAScD89x99yJtrI6ZvYFU0x9HWcjfIQX4kUhA7Ly0FpfJUc9K3r8AOrv752b2MhI7m4DE255DWYmvCzQzKJB06N0BVeB9gEYujVz8qbfdLgAAIABJREFUVwVBUF8xs/XQZJ6N0p+dUcn5V8Cr7n5UDX3frHVuE+DvKBjdI+/nmNn2qGWqWVRm1U7qjKOeJx3GtgVWBjZGI45WRErEo4A73f2m4iwM6hspwrkR8DoSLxqMeojmIv2Ex4CH3X1YYUYGFcPMtkMR+EHonjgE9badjsbyzUHaGo8A15XtvjCzk4B9UObgYtRHfxnKTF8FPOPuM4uz8NvkygN3Af7g7t1SQPcq4C/u/mwqX1zF3Y8t1tqgKCJjHgTB/4KZtUKTRM5HUyQucPcHanJtMbMjkCCtATNQdv11NOVqM+Bf+ZL4oHZRl0rfs4NYgyRc82B6vQly2NdFB+EdgJbpWqmyPUHdJUUxs5maDYH9kFJoN2AbVGp5vplNQ31OOxdkalAZ2gB/RiJVHZDA5VC02TZB46Cmo3nepXLSEzcghfpLUJDhDM/NmS4buSzCaKCFmR0NvAzMRj9v0ucdCjAvKJjsLJBrR6qCb81IDoIg+F7S2MxhZtYTTRXJBEprMivaC1UQLw2shcRH90J+zyzgm7SmDXL3dyKzXruoqxn1TYEeKIP+ASox/szdZ6Zo15w0XzBu1qAwzKxppi6cZl92QWqhzd39jAgk1V3MbDk0ju8k1Ns9DhgPvItmeg9DY86uc/fSjOFaGGZ2LrAz0Ae4PvXFNYBy9lab2VWoWuE61BJ1B1LKvRuJ4P25OOuCShH7fxAE/w25xODKaB/pi1psX3f3rE98GSQwt2Y28rGGbGkO/BKdJ45FAfTj0fSrj9B4zA1Qpd7qwCbuPrym7AmWPHXGUc+NKOgG3I5uyKmoDGQU6qccBgxz9+cLMzSot+QW971R2XBjtJAPQeJWH6VgUhwg6wmpD315tMnvhQKMa6Gqn8nAQ+5+VmEGLoLkiK+FevDaAr9Fh4T+SIdhSIHmLZY0bqu1u48xs4uRgNgc5LQfWZOHqqB8mObTX+/ud6S/x/obBMH3YmY90MSTuUgU9msUaP8cBeDXdfd1a2JNyU0xOQbtv4+gKr2DgDOR7sqzSOdmFdQ3v0a0/dY+6oyjnmFmt6BS9/3dfUI6CP8U2BI9OH3cfd/YjIMiSPOn30HBo7EsmDU8CRgBfAL8n7tPKczIoFDMrDFar6qQamzhApi5INPa6EAwFZiGqkDmIRG2ldDauxRwOfCnMpQO52xvjNpNmqAy93GpsmoTlG3o6yWf9x0sWdLM96tQC9K9wJ9TwL+0FSFBEJQHM1sF6IQ0h7qhJGFHNAb6Cnd/oiaqI3OOen/gKXe/2Mz2QZoxvYHhyGH/jbs/tyS/d1BZ6kSPupmtBYxOMwKXQWJxEwDcvQ8qycTM2qPeUNAhOMqKg4qQExLZDTkIG6XXV0ZiH1sg4cPV3f284iwNisbdZwEvFm1HnpzDsgLwAiqpmw30RGXkSwNvpyz1kSjCPxCNqCmabK0/HjgbBRQ+Bl4xsxeBASjzEMGxeoa7T0utG1lWanszO8fd3/ieLw2CIMDdRyZtoSHAjchJbw28n7U21kQLY+7fbItK70HTV95EyZ6vzexMtDdjZo3T2SKoZdT6jHpS7n0Y6IciSGshZ/3XSdQhCEpDUp0+EDhtYdk7M+vo7p+F+nBQVhZVjZTLXLdFQm0D3P3wylu4cMxsEvBXNIatO7A3qrKahdoMdgwHrf5iZoay6+sCVwB3ufvk0AoJgiAjt881RNosFwNNkR7WL4G27v7+4v6NJWhLE1S9tj0K7h8PbOHuQ8ysC5ou1CElMYNaSl3IqM9Dvecbox7PZihr3sDMngEcZU9Gh+MTlIA3gf9D/byXV7/o7p+lP+NeDUrJ4pz09NfZwH1o9FwpMLN1gS/RaLbJqCrg0nRte+AXwIfFWRgUSRJkGgXsiSYZXAh0NrOeZRozGARB4WQVWicCh6NWsB7IF1kV+KuZ/c3db69pQ5Km0Y1I5X0z4FRgqJmdBfwMjUmdGImf2k2tz6jnSUrKGyGhru1Q+cl41BP8IfCIu/cvzsKgPpKLwHYA7kJBpaXS5SEsmKH+VlE2BkFdJk37uBLtAY8XbU9QHNmh1czWAH6PRvJNQ+eFNZEQVCsk8jgWONXdHy7K3iAIykNu/RgO/MPdrzWzB4B33f1cM7sbtYjtVamq3pRZn+fus8xsA+AiNEnmklSaH456LabUY39+CGZWlUSCQJnKb9z9RHfvgvqBb0Pq2pny4fwZqUFQIbL77RDUv3QYsCNwBhKPOwp4w8zeLMa8IKib5Nb6NVCA7E4z+5OZ7Z0CZ0E9I3dg3QE55q8hzYUH0Vp8MVqr10Tzic9MIopBENRzkpPeHAkBP5le3h7IAsB/RPvNShW0aWau/3w4cLC7H+PuIzObK2VLsOSpMxn19ODcCrRHI42urna9MdAgytiCSpPLqN+MRrBlJbcNUeamHVLPnuXuj0dPZBAsOVK2YSTKjn6JxHWao9GdH6Fqq8tD06T+UK3Kacqifvcp6/488C93P7uSNgZBUE7MbHngTuA/wKMo2Le6u083s/WAl9196SJtDOoOdSaz7O7foFEET6MI+BAzO9zMWqTrs8JJD4og17vbB9jSzNZPpUhz3H28i4eQyFWNKIQGQX0jG7GFevVmIOG4PYFfA9cgRfqlge3DSa93VJnZ4UhH4SQzawpgZvtlZ4bEZHSmKMP0giAICiYF+cai3vQ/oHPdZ8lJ74FmmWeTphoWZmhQZ6gLYnLzSWUevzezPwOnIYGgjmb2T3cfXax1QX0m9Q3dk/7aBnjQzAaj0vevUVanbpS3BEG5+AJNBmmZxnYOTR9ZZmTFAm0LKkiuWml34Bw0BeBed5+R7oU/ANuZ2SnuPhuYkN43pjCjgyAoDakSp5G732hm84BDgU5mNh0JqT6I2nBBAnNB8D9RZxx1MzsWlRFPRuWNX6BsyR+A08xsa3d/t0ATg3pKisC+YWbrANug/sdL0fP3LppacA8qoQqCYMnyK2B/YJSZXZXNtgVImZGxhVkWFMUhQN9cG1ITdx9rZpci7ZANgCHpXhlVoJ1BEJSAauNHf4Fmpv8dGIDU3hsC4939+exrojc8WBLUiR715AC9haJXE1GZ43vA+0BnNBe1cxrLEwSlwMx+gkpxjwb+nhRDoz89CJYQqaT5TiTu0xU55S8g4Z++7v5pgeYFBWFmDyFH/JKFXHsVuNHdb431OAgC+Jajvh9wNbB2armt/r7N3f2VylsY1FXqSkb9XTTPcD/gM9R/+BGwjLt/XaRhQbAo3H0Aisb+LtdPGxHYIFhCpJLmI9E4xLWBbZFC77VAGzMb7O6bFWhiUAyPA5cnp/wFYFo6hK8KrAVkY1xjPQ6CICt5b4j0KiYB5wLnmlk7lBD8OfJDHgJeyRz7wgwO6gx1IqMO81XdNwJOBPYFnkKiDi+HiFwQBEH9JI1o6+Dun+X+3g7YEmjh7ncVaV9QecysNZoS0x3oCwxE98TewHvuvneB5gVBUBLSfrGqu3+Ue2174A7gOeSkb44Shs8At7n7sKjGCZYUdcJRT/1lM82sESp/74TmoW6G1Bevy80YDIIgCOoBZrY+0BONP9wA6IYEf0a6+8Q0fSGypnUcMzsI6O3u47MDdFJ3PwQ4AE0E+BDphNzm7p9GRiwIAjPbCgXzhqSPPsCLaF85HbgOiVKOS5onQbBEqbWOeq5fZFPgMWAmmpX7DSpdWx5oBsx29ybFWRoEQRBUitze0Am4DZiK5t3eAKwPnAU0cvejCjMyqBhJp2AM6in90syuAV4GBuQ1CsysVYzpC4Igj5kZsBcSjOsKrIKCvQ3QBJ9DgD6RPQ9qilrrqGekuYXdgU+B9kj1/QOgMVJ9/8LdX4zMSRAEQd0nlzHtCezq7t3NbE/gciQsehjqUT/Y3Z8s0tagMphZc3f/xsxWQLog7dFBezjwbPp4HZjk7tOKszQIgjJiZi2RY94VWA8lBLsBHdGkqYnAOe7+YmFGBnWSWi8ml0YhPP8D3hdOehAEQd0niz5vzoK94RDghbQP3G5mewNbAOGo1wMydWZ3Hw10NrPl0KjMnZGmzWnovrkVjfMLgiAgS/K5+2Qz+4m7PwY8lsa0rQysg5z2HsC0/NcUZnRQp6j1jnquzLEKFjjk6e/zoscsCIKg/pA7IPUF9k+ZkC2BkwCSlskGQK9iLAyKIHdWaANMdvcHgQfTtdWB3VFWDDNr5O6zi7M2CIIyYWbbADeb2ZrADHf/CvgKGJqud3b3DyESg8GSpdaXvgdBEARBddKorV6oLHEXYCeUNT0kfd51YXNwg7pLUms+C9gKOeUDgL+6e99CDQuCoNSYWUckJHe7u1+RXusAGHACMNHdjy3QxKCOUlW0AUEQBEHwv2JmbZOSNwDu/glwEbASEhbtDdyJNE1+G056/SCrtjOznyB15irgGOBqYAVUxnpWcRYGQVBGzGzZNPqZNN7zauAAMzvZzO5EVVtPA2ukP7OKrSBYYtTqjLqZ/QroB/jCxq/FeJUgCIL6gZm9C3yN+s5fAj5w98/TtRWBjZHI6AvuPqEwQ4OKkhMXvB1o5u4H5K41As4HDgb2cPd3i7IzCILyYGZrAHcDjwCDkUj15yjguzlwP5qdfjswDpgS/kZQE9TayE8Sg7kO/R8+NbNX0Ji254FP3T3604MgCOoBKWt6GfBT4HjgYmC4mb0PvIDm3vZ297lm1qA4S4NKkxub9Am5KkIza+zus8zsCtQKsSnwbgT4gyBAvsVU4ESgHTAK7SVvARsC97v7f0I4Lqhpal1GPRcd3wSJA3UFHkfzcbsDrYBXgYHALe4+PDbeIAiC+oGZLY9K3o8EXkMj2ZYB3kHliQPd/Z6i7Asqj5ktBdyBzgg/dffhuWsrAI5G+Q2Ig3cQBHnMrDOwD7A38jmaI42Le9BYx2fc/f3iLAzqMrU2o46y6S+iXsNxMF886HbktDcHjjCzX8ehLAiCoG6TZUjRvPRGwHbuPihd2xD4G3Ay6ieMPaF+sSbKis0DBpjZ08AgYAxwAHCDuw+AUGwOgkBJQaABMCepuV+ZPjCzLsCBwF7AccAvgfcjKRjUBLXOUc+VsXUGLnT3camUscrdPzGzc4BzgXOAU5Gz/mwapRAEQRDUTbJxWtsAZ7v7oHTYwt2HmdlFwM+BSwqyLyiOD4HfAO2BjYAuwEFoBvJMoJGZnYCqLYbFgTsI6jc5XyNrtT0GWB4YjXROLgQuNLOmBZkY1BNqXek7QFL2vRXNQj262rXVUA/JMmhT7gtsnYkKBUEQBHUTM2uGRH5GL2RvaIJEfzZ29/eKsC8oDjNr5e6T0udtUJvchsBmyGHvjBz409z9hsIMDYKgcHJttluiVqpN0Nz0NkBTJCp3evgWQU1T6zLqAO4+1cz+A9xuZssADwNvov/POcBb7j7TzAxoFQ9SEARB3cfdp5vZrcA9ZjYbuAvoj0a0nQOMCie9fmFmzZEg1G5mdkwqY90cOep9kMZNe2BVNBng0aJsDYKgdJyH+tF7uPubaT3ZA/gzcDZwclTgBDVJbc2oN3D3eWa2B3A6inC1QBHxx5Di7yzgAmCaux9WmLFBEARBRcjtDYcDpwAd0d4wD4n+XO7u4YjVA3IZsWNQG9wj6HB9KBrJNgXoU73yIgiCIMPMxgI7ufvQvNCkmf0GCZbu5+4fFWljULep+v63lI90EGuPIuG7AicAZyFH/RAkEHMzEoK4uCg7gyAIgsqRZTXc/Q5gZzQf+1fAEcAB4aTXS44C7nP3nsBW6HB9E6qw2MzMdoT54lFBEAQAmFkH4DNgdZDQpJlVpXGg/0mvf12giUE9oNaUvmeRLDNbGYk69EAiMEOAl4DB7v5pem8T4HDgw6QCHARBENQj3H0s8GzRdgTFkBODaou0agB+h9rkrnD3r83sd0CzdK32lRcGQVBjuPsXZvYKcIWZfQK86+5TAMzsKGCsu0+KkY5BTVJrHHWU/Z+LMue7oTLGicAWKKs+w8ymAre5+61ElCsIgiAI6i0paP8EcL2ZvYjE436VnPQuQCc05jXGsgVBsDCuAdZDeifDzGw6Ep9sikaBgqp3g6BGqE2l71l0fH80O/3n7n4kmmF4MRKAmYX6zqKMLQiCIAjqMe4+E7gR+Aipu58KDDWzs4C/AM+4+8RUyhoEQfAt3N3RWM9bUXKzA+BIA+WW9J45i/wHguB/pNZk1FNf+tJIwXdi7nVHD8396frM9Ho8OEEQBEFQj3H3983sF8A8d59lZhugSryPgEuKtS4IgrJiZisAe6MJES8B16TgXxBUjFqh+p7rT98AuBZlzQ9x98kFmxYEQRAEQS0hVds1dvfpRdsSBEG5yE2L2BfNT28OTAPWBGYAVwBXu/s3xVkZ1CdqS0Y9iyZsB6yI+sqGmNkgYDAwAHgzHpwgCIIgCBZFqraLirsgCBZGFVofLgfuB3oBXwDLA3sCJwEfA3fF/PSgEtSKjHqGmS0LrAGsBWwKGNAOOfJNgSPdfXBxFgZBEARBEARBUFsws0buPjv398+ALdz9s9xrDYE/o+z6/u4+qfKWBvWNWuWoV8fMlkPqixshoZhfu/vExX9VEARBEARBEAQBmNlhaPRzbzQ7/WDg3jRFKv++7YEH3H2ZylsZ1EdKX/qe60/vApwMbAIMA/oBQ4HXgH5RfhIEQRAEQRAEwY+kOepB3xNV6a4GdDOz1sCL7j7EzDoBBwGPw3ez8EFQE5Q+o54Tdrgf6AIMRJGuJkjhvT8wFbjb3e8uztIgCIIgCIIgCGobZtYGWBvYGPkb6wFLA5OANkBH1J9+QnLcq9x9bkHmBvWE0jvqGWY2HdjF3fua2RDgHGBZ4C7gPeAgdx8WD04QBEEQBEEQBP8tZrYisAGwIXLguyChud2izTaoFKUufc8UFc1sK+DL5KSvBIwCJrt7HzPbDs1DfR0gnPQgCIIgCIIgCH4MZlYF8iXcfRTyN54yswbA6kCXcNKDSlJqRz3Xd94cmGBmm6AZ6lkZCqhPfV93/2OMSgiCIAiCIAiC4MdSPdmXHPd5ybf4MH0EQcWoKtqAH4K7P40c9KNQP3onIBNw+DkSlwNoWHHjgiAIgiAIgiCoU6TM+jxQlW/R9gT1j1rhqCcOBu5z90+BMcCdZjYUOe13pfdE2XsQBEEQBEEQBD8YM2ud+tIXRTjqQcUpdel7Ripp/xT4NL10OHAu0A74t7sPg+hPD4IgCIIgCILgh5Ebs3Y6qsw9N9+rnr0vfIygCEqr+p6bn74+mp/eHc1MfwJ4HonLldP4IAiCIAiCIAhqBWZ2KnA0sLO7f55ea4ImTJ0GvODuTxRoYlAPKXPpe+aE3wZsjualdwD+CowEXjOzO8ysYzHmBUEQBEEQBEFQB/gn0r862kRP4GHS7HTUdhu96kFFKW1GHcDMOgHvoPmFXwKNgRWA9YFtgb2A7d39k6JsDIIgCIIgCIKg9mBmO6M56Q+5+3vptU2BV4D3kNP+AXAz8I67h+J7UHHK7qhvBJwPHO7uU6pdawi0cPdJhRgXBEEQBEEQBEGtw8zOAy5Ifx2N2mr/g3SwOgN7u/uI3PtjBHRQcUrpqJtZQ3efY2a/AH6Lol3/V7RdQRAEQRAEQRDUblL/+fLAmqhKd0dgQ6A5MAO13t4LDHP38QWZGdRzSumoZ5hZP/TQNAYGAo8ATwFvh/piEARBEARBEAT/C1m2POlebQxshxz3zkBTYBV3/6xIG4P6Sdkd9XZAe2BL4KfAFkhQbhQwCNjf3WcVZ2EQBEEQBEEQBLWJfCm7mS0PrA584O5f596zNrCxu/cqyMygnlNKR73aw1OVZc/Tg7QminKt7O7H5K8HQRAEQRAEQRAsjlyb7eFI1b0NMA2JWL8GPAt87O4TCzQzqOeU0lEHMLPWwCHAzkAX4EAU6ZqYrjd19xkFmhgEQRAEQRAEQS3FzD5C7bXPAVcCb6MJU62AtsCe7v5YcRYG9ZlSzlFPMwr/BJwNDEY9Is2BM8zsqpRFDyc9CIIgCIIgCIIfTDYL3cw2AJZD06VuBj4FzgTORT7SpSizHgSFUCpH3cwye3ZC5e2bAHcDX6MI1weoPGXHQgwMgiAIgiAIgqA20yD92R14xd1nm9lmwIfAeHe/B7gHaOru04oyMghK5aiz4MHZDRjk7mOBfZHK+9fAncD96fr8iFgQBEEQBEEQBMEPIOv7/QRYzcx2ROruM4Cl0rWG2edm1rDiFgYBJXPU3X1O+vQj1BsC8DOgd7o+F2gHTErXSmV/EARBEARBEATlJROsdvfHUX/6WsAINE997ZRd3wN4Jn1JOQW9gjpPo6INWAQPAseY2QVAV+ASM1sG2AVYH+iZ3hcPThAEQRAEQRAEi8XMVkFjnz8CJia9q1OBpdz9czN7FLgemA68BTwB8xOFQVBxyqz6fgBwLVJedGAcsB7wJ3f/fZG2BUEQBEEQBEFQezCzO9FEqeeAAWgM23BgDDAVlb/vn/68190nFGRqEAAldtRBI9hQBn0noCXwoLsPKtaqIAiCIAiCIAhqE2bWBpW07wb8FDnkY4DXgX7AIGAYMCumSwVloHSOupm1Q2UonYHGwJvAne7+QaGGBUEQBEEQBEFQ6zGzo4HzgUeANVFicAXgVeA94PQkZB0EhVEKMbbcPMP2wL+AI5DS4lxgV+A/ZrZrcRYGQRAEQRAEQVBbMbNG6c8jgNOAXdz9ZHffxd07AicCmwJrhpMelIFSOOossONQoC2wubvvCRwOHI1mqP/dzNoWZF8QBEEQBEEQBLWXTBRuc+B1d3/HzBqaWbP0ei/gFuBPEGOgg+Ipi6OePThdgL7u/hmAu3/j7m8AJwCfAftAPDhBEARBEARBEPxwcurtw4DNzWwTd5/j7tPT9anABmhcG0D4G0GhlMJRz+YZAk8Bm5rZxtWujwdaA5PTSw0raF4QBEEQBEEQBLWYXKLv38AE1Fr7ezPbxMy6mtntqE/93vS+cgl5BfWO0ojJmdkGKMIFUl28ERgKtEB96rsAW2dRryAIgiAIgiAIgsVhZmsD4919dO61tsDZwL5AJ2A2MAT4vbs/XoSdQVCdUjjqZtbA3eelB2lr1Ku+RbrcCJWenAM8CXwFfOXuMwsxNgiCIAiCIAiCWoGZvQRsheamPw30AV529xlJyLoVqtad4O5fZH5JcRYHgSiFo74ozOwnwI5o5uHGqPR9NHCRu/cq0rYgCIIgCIIgCMqNmRnQFdgO2B6NgP4GGAg8Cjzv7m8VZ2EQLJxSO+p5zKwpctqPBW5x94cLNikIgiAIgiAIglqCmVUB6wLdkV+xJepLHwO8Auzn7rOKs/B/47XXXmtXVdXwZmA9SqJFFnwvc4G35s6dc0y3bt3G5C/UGkc9CIIgCIIgCILgx2BmDd19jpl1BZoAQ919drrWElgf+BmwirsfZWZVOYX4WsXQocMeadVq2S4tW7aZ1KBBg3DyagHz5s1rMHnyhNaTJo17e6ONNtwzf61RUUYFQRAEQRAEQRDUMJnTfQrQA/jAzN5Fpe8vu/sAYED25trqpCfWa9myzfhw0msPDRo0mNeyZZuJkyaNW6/6tXDUgyAIgiAIgiCok+SE4e4B3gPWRj3rPYCGZubAl8CF7v5VIUYuOarCSa99pN/Zd1oVwlEPgiAIgiAIgqBO4+59gD5m1hBYA9gIOBCNgL4f+LpA84LgO4SjHgRBEARBEARBvcDd5wAOuJn1Bm4E+qRR0XVuNFvLVkt1bda00RL3+abPmD178qRpry/uPSNHftzksMMOWG+llTpOz79+xRXXvt+x48q1VrSvUoSjHgRBEARBEARBnSNzvM3sBOBjYJC7z8+cu/sEM1sKWCa91ACoU456s6aNGu1x+pIflvXoVXs1mvwD3rfMMsvM6tXrgbeXuAH1gHDUgyAIgiAIgiCocyQnvTlwHOoBnmpmI4BXgZeB5dFs9cvSl9QpJ72snHvumZ0mT57c6Msvv2h63HEnfta27fKzrr/+mpVnzJhR1apVq9m/+935n6y6aqeZr78+tPkVV1y2KkC3bptMevHFvss+9FDvN88998xOG27YbfL++x/4NUD37pt069dv8GtTpkypuuyyi1cZOfLjpebOndvggAMOGbXXXvuMu+++u5cbNOjl1lOmTG44evSophtuuPGkCy74/ch58+Zx1VX/t9LAgf2Xadiw4bxddtlj7Lbbbjfx1FNPXOuhh558s6qqioED+y191123t7/hhn+8X+mfUzjqQRAEQRAEQRDUVWYCp6G+9PWBLsBRwG+BdsA97v4qfEt4LlhCjB8/vvHBB++7Tvb37bb76dcALVu2nH3ddY98MHPmzAZHHHFQlyuvvOaDjh1Xmfn888+2uuyyizvddNOt71166UWrnXjiyZ/26LHDpOuvv6b9932vv/3tL+3XWsu+ueyyKz+eNGlS1bHHHt6la9eNpgC4v9PiX/+6f3jDhg058MC913v77bfGjhjxYbO33x6+dK9eDwyfNWtWg+OOO2LtXXfdfVy7divMHDCgX8vu3beZ/Pjjj7bdeeddCxEZDEc9CIIgCIIgCII6SZqZ/nz6IJW6r48c94+Boen1OtefXgYWVvp+7rlndurSZd2pAB9++H7TMWNGNT3rrNPWyK5Pmzat4VdfjW00ceKExj167DAJYL/9Dvjq2Wf7tF3c93r99SGtZsyYUfXUU0+2BZgxY0bV++/7UgBmXaa2bNlyLkC7divOmDhxQsNhw4a03GabHuObNm06r2nTpvMyO3feebevevd+bLmNN95k6ptvvt7y/PMv+WRJ/kx+KOGoB0EQBEEQBEFQJzGzlYETgFWApsAw4GF375V/XzjplaVp02ZzAebMmdugXbsVZmRO8pw5cxgzZnTj7HpG48aN5/9+GjRYICUwa9asBtnrc+fObXDeeRd/tMEGG34DMGbM6EbLLLPsnIceemDZJk0az13w9TBv3rwGDRs2/NbvfOTIj5v4eL1aAAALx0lEQVQst9zys3fddY/xt9/+z5WefPKxZTbeeJOJTZs2LeTe+M68tiAIgiAIgiAIgtpKGsGGmXUA7gAOA5ZGYnG7A3eY2Q7FWRhkrLnmWtOnTJnS6OWXBywNcO+9/257wQW/W71ly5ZzO3RYafpTTz3ZGuDRRx9eNvuaVq1azx4xYsRSAH36PNEme32DDTacdP/99yzP/7d370FRl2scwL8LLMsCu7ggaLJyVd5cvN/yeoYEPepRwUsYVI6SlxpLZ8wm09EMzeGYHtJTapmBWZp6NM1bKunR1HRMURD1FUFAwlRQdlHuu3v+YCnyghzzAvT9zOzM7rvvvr/3t/wBD8/7Pi+AX3+9ohw7Nio4N/ey4/2u3bFjl6LDhw/qKioqFMXFxXZvvTWl9ZUreUpnZ2dLp05djImJn3sPGRL+1I7tY6BORERERESNhu0INgB4GYA7gO5SyggAYwBMApAOYLUQotlTmiLZqFQq63vvzc9YtmxJy6ioEYa9e7/3mDlzbhYAzJ4979LGjeuav/TSKMP582ku1Z+JjIy+duZMiiYqaoQhJeW0a5MmTSoA4PXXp+SVl5fbjR4dEfzmm5OCYmIm5fr7B5Td79qDBv2j0GBoe+uVVyLbjBsX3SY8fMS1Vq1alwFA//4Db6jVanOXLt1uP+av4L4UVitXeRARERERUcMnhGgNwCSlvCqEWAnghpTynTv6uAPYC2CVlHJZY9mfnpx8KkuvD/xD4bOneY76o5STk+U4ZcprYsuW71Mf97XMZjPi4z/01ul0la++Ounq474eAOTmZjTt1KmjX8027lEnIiIiIqIGTwjhiqricEeFEAcBXAIwRAjRQUr5W1Appbxh63vT1tTozk+vVmQqOV2X887pd2PGjDZoNNqK+PhPLj7NeTCjTkREREREDZ4QQgngVQBhqDofvXr/8k8APkNVEK8GEG7rEyqlbDRx7L0y6tQwMKNORERERESNkpSyAsAK2wNCiEAA/QFEoypQV9ge9gBGNaYgnRofBupERERERNToSCkzAGTg98C9F4DnAbwGoAuAzUII+xrF54jqDQbqRERERETU6EkpjwA4AuADIUT1+duWWj5C9NTweDYiIiIiIvpLqa7y3hiqvVPjxECdiIiIiIiIqB5hoE5ERERERESPTE5OlmOfPl27zJ07y7dme2pqirpPn65dNm78xqOuYx058qNmwoQxAgDmzJnhe+rUSec/O7+IiIHtIiPDg6OjRxqio0caIiIGtps27c2A27dv1xofL126uMXRo0dcH+Vc7od71ImIiIiIiOiRcnV1rUxOPqE1m82wt7cHAOzZs9Ndo9FWPuyYsbFx2Y9qfosWLUn38fErB4Dy8nLF+PGvPPvttxs9Xn557PX7fSY19bSma9fuRY96LvfCQJ2IiKgOhBC7AOyWUn5kex0EQAKIk1K+a2vzApALwFNKaXyIa4wC8IaUMuSRTZyIiP6Sbu5L8jAdOdz0cYyt7dU7X9cvrKC2Pk5OThY/v4Dio0cPa3r3/lsRACQnn9C2b9/BVN1n//4kbULCSm+z2azw8mpWNnt2bJa7u4f5wIF92mXLlrZUKpUWb++WpdX9J0wYI8aNm5DXvXvPotjY2b45OVlqo9GobNHCu3TRoqUXr1+/qnz33emtfHx8SzIzM5ybNGlSERf3rwydzr3Wyv5GY6F9cXGxvZubWyUAfPnlF54//LDHo7S01N7Ozs76/vsLMlNTU1wyMzOcFy2K850/X5cRH7/QZ9y4CXkAsGZNYnOVSmXJzb2s9vHxK46LW3zJ0dHRmpj4ude2bVu8nJ1dzHq9vvSZZ7zLpkyZlleX75hL34mIiOpmF4CQGq+HAtgGYFiNtn4ADj9MkE5ERNTYhISE3ty3L0kHAMnJJ5z9/PxLHBwcrACQn3/dYeXK5folS1Zc+Prr/5zt1u0540cffagvKytTLFy4wG/evLiMr77aeE6lcryrMv/x48dclUqlNTFx3flNm7anlpeX2e3fn+QGADk52ero6DG/rl+/Jc3FxdX83Xff3nOZ/fTpU1tHRY0wDB7cr8O0aW+0Hjo04tqQIRE3TSaT3eHDP+pWrEiQ69dvSevRo1fhhg3rPEeOjCwICAgsnj59RrbB0Lak5lgXLpx3ffvtmTkbNmw9k59/TXXgwD5tWtoZ9fbtW70SEtaeXbly9fm8vDzV//PdMaNORERUN7sAzBVC2EkpLagK1GcC+EYIESClzAQQCmCHECIYwMcAPABYASyWUn4phAgBsATAbQAuALoDmAXgJQAFANKf8D0REVEjpesXVvCgrPfjFho6oHD16lXeFosFe/Z87x4aOuBGUtJudwA4deqkS0FBvuPkyeMFAFgsFri6asznzqWpdTpdRVDQs6UAMHjwsIJVq1Z41xy3Z8/et3Q6XeWaNQme2dlZTleuXFEVFxfbA4BGo61s165DCQD4+fmXmEwm+3vNrXrp+86d25qsWPFxy379wgoVCgW0Wq1l/vx/Zm7fvsU9Jyfb6eTJn938/QOKa7tPvd6nxNtbX1H93Gg0OuTkZDt16/ZcoVartQBASEjojaIiU53jb2bUiYiI6kBKmQ7gBoD2QggdAAHgKICdAMJt3UIB7AbwHYB/SynbAxgEYIEQoqetT1sAUVLKDgAGAhgJoCOAXgDcntDtEBERPXYajcbi6+tXfOzYT64pKac0ffuG/Lbs3Ww2K4Roc2vt2k1n167ddDYxcd25uLjFGQqFAlartfqce1Rn4Gvas2eXW2zs7AAnJyfLsGHDCwyG4CKrtaqbo6OyRgb+j2Pdy+DBQws7d+5qWrAg1hcAcnMvKydOHPtsUVGRfa9efY1hYQPzq8e+H0dH5W8dFArAarXCzs7earFYar12bRioExER1V318vdBAPbaMuvbAQwQQvjZ+pgBOEkpNwOAlDIPwCZUBeUAcFlKWV2AJgzAZillkZSyEsAXT+QuiIiInpDnnw+7+dlnn+hbtWpd7ODwe0K5Y8fOt9LTpcvFi+kqAFi+fGmL+PiFeoOhbYnRaHQ4cyZVDQC7d+90v3PM48ePafv2DbnxwgtRBZ6eXhVnz6ZpLBbzQwfFkydP/SU9XbomJe12S0097dK8+TNlMTETr3Xu3PX28eNH3aoDbjs7e2tlZa3b3X/To0dP04kTx91MJpNdeXm54tChAzqFQlF7xF8Dl74TERHV3S4A4wGUAthia9sHYCWqgu4duPc/we0AKG3Pb9VotwKo+YfFQ1fCJSIiqo9CQwcULlmyyDcmZtIvNdubNWteOW3aO1lz5swItFgs8PBoWjFvXlymUqm0zpo1N/ODD97zt7OztwYGBt617Hz48FH5sbGz/Q8dOuDu4KC0BAWJ23l5eY4PO0dPT6/KESMir3z66Sf6hIS157Zu3ewZGRkerFQqrUFB4lZ2drYaAGz76H3VavWlB43Zpk1waXj4iKsTJoxp4+TkZNZotJUqlequ/fb3o3hQGp+IiIiqCCHUANIAqAAYqovGCSF2APAGMAPADwAuAHhLSrlZCNECwM+o2oduBfCxlLKt7XODAcQDeA6ACcB6VFWMD3mS90VERA1fcvKpLL0+MP9pz4OqXLyYrjp4cL9bTMzEawAwderrgUOGhOf37z/wroKzubkZTTt16uhXs41L34mIiOpISlmCqiBc3lHZfQeA1gD+K6WsABABYKoQIgVAEoBYKeX+e4y3E1XL3X8GcAwAq8UTERE1Ai1b+pRLec5l9OiI4BdfHG5o0UJfFhb29zr/nmdGnYiIiIiIqIFjRr3hYkadiIiIiIiocbIyCdvw2H5md+1dZ6BORERERETUwCkUCqPZXKl8cE+qTyorK5QKheKuJfEM1ImIiIiIiBo4i8WcUFiY7/Jnzu6mJ8tisSiMxgJXi8WceOd7PJ6NiIiIiIiogbNarctLS4s75+Vd6gPA/mnPh+rEDOCQ1WpdfucbLCZHREREREREVI9w6TsRERERERFRPcJAnYiIiIiIiKgeYaBOREREREREVI/8Dyt1Dk0+yrZ/AAAAAElFTkSuQmCC\n",
      "text/plain": [
       "<Figure size 1080x576 with 2 Axes>"
      ]
     },
     "metadata": {
      "needs_background": "light"
     },
     "output_type": "display_data"
    }
   ],
   "source": [
    "count_avg_plot(all_words_sorted_20, \"Word\", \"Frequency\", \"Highest Rated Words\", \"Median Rating\")"
   ]
  },
  {
   "cell_type": "code",
   "execution_count": 137,
   "metadata": {},
   "outputs": [
    {
     "data": {
      "text/html": [
       "<div>\n",
       "<style scoped>\n",
       "    .dataframe tbody tr th:only-of-type {\n",
       "        vertical-align: middle;\n",
       "    }\n",
       "\n",
       "    .dataframe tbody tr th {\n",
       "        vertical-align: top;\n",
       "    }\n",
       "\n",
       "    .dataframe thead th {\n",
       "        text-align: right;\n",
       "    }\n",
       "</style>\n",
       "<table border=\"1\" class=\"dataframe\">\n",
       "  <thead>\n",
       "    <tr style=\"text-align: right;\">\n",
       "      <th></th>\n",
       "      <th>Word</th>\n",
       "      <th>Frequency</th>\n",
       "      <th>Mean Rating</th>\n",
       "      <th>Median Rating</th>\n",
       "    </tr>\n",
       "  </thead>\n",
       "  <tbody>\n",
       "    <tr>\n",
       "      <th>63</th>\n",
       "      <td>garlic</td>\n",
       "      <td>25.0</td>\n",
       "      <td>3.750000</td>\n",
       "      <td>3.75</td>\n",
       "    </tr>\n",
       "    <tr>\n",
       "      <th>40</th>\n",
       "      <td>onion</td>\n",
       "      <td>37.0</td>\n",
       "      <td>3.504054</td>\n",
       "      <td>3.75</td>\n",
       "    </tr>\n",
       "    <tr>\n",
       "      <th>87</th>\n",
       "      <td>shio</td>\n",
       "      <td>18.0</td>\n",
       "      <td>4.302632</td>\n",
       "      <td>4.50</td>\n",
       "    </tr>\n",
       "    <tr>\n",
       "      <th>52</th>\n",
       "      <td>crab</td>\n",
       "      <td>32.0</td>\n",
       "      <td>3.814516</td>\n",
       "      <td>3.75</td>\n",
       "    </tr>\n",
       "    <tr>\n",
       "      <th>0</th>\n",
       "      <td>penang white curry</td>\n",
       "      <td>20.0</td>\n",
       "      <td>4.887500</td>\n",
       "      <td>5.00</td>\n",
       "    </tr>\n",
       "  </tbody>\n",
       "</table>\n",
       "</div>"
      ],
      "text/plain": [
       "                  Word  Frequency  Mean Rating  Median Rating\n",
       "63              garlic       25.0     3.750000           3.75\n",
       "40               onion       37.0     3.504054           3.75\n",
       "87                shio       18.0     4.302632           4.50\n",
       "52                crab       32.0     3.814516           3.75\n",
       "0   penang white curry       20.0     4.887500           5.00"
      ]
     },
     "execution_count": 137,
     "metadata": {},
     "output_type": "execute_result"
    }
   ],
   "source": [
    "all_words_sorted.sample(5)"
   ]
  },
  {
   "cell_type": "code",
   "execution_count": 229,
   "metadata": {},
   "outputs": [
    {
     "data": {
      "text/html": [
       "<div>\n",
       "<style scoped>\n",
       "    .dataframe tbody tr th:only-of-type {\n",
       "        vertical-align: middle;\n",
       "    }\n",
       "\n",
       "    .dataframe tbody tr th {\n",
       "        vertical-align: top;\n",
       "    }\n",
       "\n",
       "    .dataframe thead th {\n",
       "        text-align: right;\n",
       "    }\n",
       "</style>\n",
       "<table border=\"1\" class=\"dataframe\">\n",
       "  <thead>\n",
       "    <tr style=\"text-align: right;\">\n",
       "      <th></th>\n",
       "      <th>Word</th>\n",
       "      <th>Frequency</th>\n",
       "      <th>Mean Rating</th>\n",
       "      <th>Median Rating</th>\n",
       "    </tr>\n",
       "  </thead>\n",
       "  <tbody>\n",
       "    <tr>\n",
       "      <th>123</th>\n",
       "      <td>singapore</td>\n",
       "      <td>13.0</td>\n",
       "      <td>4.553571</td>\n",
       "      <td>5.000</td>\n",
       "    </tr>\n",
       "    <tr>\n",
       "      <th>25</th>\n",
       "      <td>penang</td>\n",
       "      <td>54.0</td>\n",
       "      <td>4.675926</td>\n",
       "      <td>5.000</td>\n",
       "    </tr>\n",
       "    <tr>\n",
       "      <th>146</th>\n",
       "      <td>aloe</td>\n",
       "      <td>11.0</td>\n",
       "      <td>4.340909</td>\n",
       "      <td>5.000</td>\n",
       "    </tr>\n",
       "    <tr>\n",
       "      <th>0</th>\n",
       "      <td>penang white curry</td>\n",
       "      <td>19.0</td>\n",
       "      <td>4.887500</td>\n",
       "      <td>5.000</td>\n",
       "    </tr>\n",
       "    <tr>\n",
       "      <th>55</th>\n",
       "      <td>taste</td>\n",
       "      <td>32.0</td>\n",
       "      <td>4.492188</td>\n",
       "      <td>5.000</td>\n",
       "    </tr>\n",
       "    <tr>\n",
       "      <th>132</th>\n",
       "      <td>veggie</td>\n",
       "      <td>12.0</td>\n",
       "      <td>4.187500</td>\n",
       "      <td>5.000</td>\n",
       "    </tr>\n",
       "    <tr>\n",
       "      <th>149</th>\n",
       "      <td>jumbo</td>\n",
       "      <td>11.0</td>\n",
       "      <td>4.500000</td>\n",
       "      <td>5.000</td>\n",
       "    </tr>\n",
       "    <tr>\n",
       "      <th>103</th>\n",
       "      <td>raoh</td>\n",
       "      <td>16.0</td>\n",
       "      <td>4.781250</td>\n",
       "      <td>5.000</td>\n",
       "    </tr>\n",
       "    <tr>\n",
       "      <th>144</th>\n",
       "      <td>sichuan</td>\n",
       "      <td>11.0</td>\n",
       "      <td>3.977273</td>\n",
       "      <td>4.750</td>\n",
       "    </tr>\n",
       "    <tr>\n",
       "      <th>115</th>\n",
       "      <td>chef</td>\n",
       "      <td>15.0</td>\n",
       "      <td>4.383333</td>\n",
       "      <td>4.750</td>\n",
       "    </tr>\n",
       "    <tr>\n",
       "      <th>43</th>\n",
       "      <td>creamy</td>\n",
       "      <td>36.0</td>\n",
       "      <td>4.319444</td>\n",
       "      <td>4.750</td>\n",
       "    </tr>\n",
       "    <tr>\n",
       "      <th>89</th>\n",
       "      <td>shio</td>\n",
       "      <td>18.0</td>\n",
       "      <td>4.302632</td>\n",
       "      <td>4.500</td>\n",
       "    </tr>\n",
       "    <tr>\n",
       "      <th>96</th>\n",
       "      <td>authentic</td>\n",
       "      <td>17.0</td>\n",
       "      <td>3.970588</td>\n",
       "      <td>4.500</td>\n",
       "    </tr>\n",
       "    <tr>\n",
       "      <th>1</th>\n",
       "      <td>mi goreng</td>\n",
       "      <td>56.0</td>\n",
       "      <td>4.233036</td>\n",
       "      <td>4.400</td>\n",
       "    </tr>\n",
       "    <tr>\n",
       "      <th>66</th>\n",
       "      <td>prawn</td>\n",
       "      <td>25.0</td>\n",
       "      <td>4.120000</td>\n",
       "      <td>4.250</td>\n",
       "    </tr>\n",
       "    <tr>\n",
       "      <th>46</th>\n",
       "      <td>laksa</td>\n",
       "      <td>35.0</td>\n",
       "      <td>4.185714</td>\n",
       "      <td>4.250</td>\n",
       "    </tr>\n",
       "    <tr>\n",
       "      <th>22</th>\n",
       "      <td>fried</td>\n",
       "      <td>57.0</td>\n",
       "      <td>4.166667</td>\n",
       "      <td>4.250</td>\n",
       "    </tr>\n",
       "    <tr>\n",
       "      <th>8</th>\n",
       "      <td>curry</td>\n",
       "      <td>127.0</td>\n",
       "      <td>4.121032</td>\n",
       "      <td>4.250</td>\n",
       "    </tr>\n",
       "    <tr>\n",
       "      <th>24</th>\n",
       "      <td>tonkotsu</td>\n",
       "      <td>54.0</td>\n",
       "      <td>4.159259</td>\n",
       "      <td>4.150</td>\n",
       "    </tr>\n",
       "    <tr>\n",
       "      <th>99</th>\n",
       "      <td>version</td>\n",
       "      <td>16.0</td>\n",
       "      <td>4.296875</td>\n",
       "      <td>4.125</td>\n",
       "    </tr>\n",
       "  </tbody>\n",
       "</table>\n",
       "</div>"
      ],
      "text/plain": [
       "                   Word  Frequency  Mean Rating  Median Rating\n",
       "123           singapore       13.0     4.553571          5.000\n",
       "25               penang       54.0     4.675926          5.000\n",
       "146                aloe       11.0     4.340909          5.000\n",
       "0    penang white curry       19.0     4.887500          5.000\n",
       "55                taste       32.0     4.492188          5.000\n",
       "132              veggie       12.0     4.187500          5.000\n",
       "149               jumbo       11.0     4.500000          5.000\n",
       "103                raoh       16.0     4.781250          5.000\n",
       "144             sichuan       11.0     3.977273          4.750\n",
       "115                chef       15.0     4.383333          4.750\n",
       "43               creamy       36.0     4.319444          4.750\n",
       "89                 shio       18.0     4.302632          4.500\n",
       "96            authentic       17.0     3.970588          4.500\n",
       "1             mi goreng       56.0     4.233036          4.400\n",
       "66                prawn       25.0     4.120000          4.250\n",
       "46                laksa       35.0     4.185714          4.250\n",
       "22                fried       57.0     4.166667          4.250\n",
       "8                 curry      127.0     4.121032          4.250\n",
       "24             tonkotsu       54.0     4.159259          4.150\n",
       "99              version       16.0     4.296875          4.125"
      ]
     },
     "execution_count": 229,
     "metadata": {},
     "output_type": "execute_result"
    }
   ],
   "source": [
    "all_words[all_words.Frequency > 10].sort_values(by=['Median Rating'], ascending=False).head(20)"
   ]
  },
  {
   "cell_type": "code",
   "execution_count": 238,
   "metadata": {},
   "outputs": [
    {
     "data": {
      "text/html": [
       "<div>\n",
       "<style scoped>\n",
       "    .dataframe tbody tr th:only-of-type {\n",
       "        vertical-align: middle;\n",
       "    }\n",
       "\n",
       "    .dataframe tbody tr th {\n",
       "        vertical-align: top;\n",
       "    }\n",
       "\n",
       "    .dataframe thead th {\n",
       "        text-align: right;\n",
       "    }\n",
       "</style>\n",
       "<table border=\"1\" class=\"dataframe\">\n",
       "  <thead>\n",
       "    <tr style=\"text-align: right;\">\n",
       "      <th></th>\n",
       "      <th>Review #</th>\n",
       "      <th>Brand</th>\n",
       "      <th>Variety</th>\n",
       "      <th>Style</th>\n",
       "      <th>Country</th>\n",
       "      <th>Stars</th>\n",
       "      <th>Top Ten</th>\n",
       "    </tr>\n",
       "  </thead>\n",
       "  <tbody>\n",
       "    <tr>\n",
       "      <th>142</th>\n",
       "      <td>2438</td>\n",
       "      <td>world o' noodle</td>\n",
       "      <td>mi goreng original flavour fried noodles</td>\n",
       "      <td>Pack</td>\n",
       "      <td>Indonesia</td>\n",
       "      <td>5.0</td>\n",
       "      <td>NaN</td>\n",
       "    </tr>\n",
       "    <tr>\n",
       "      <th>977</th>\n",
       "      <td>1603</td>\n",
       "      <td>salam mie</td>\n",
       "      <td>mi goreng ala jawa dengan sambal cabe asli</td>\n",
       "      <td>Pack</td>\n",
       "      <td>Indonesia</td>\n",
       "      <td>5.0</td>\n",
       "      <td>NaN</td>\n",
       "    </tr>\n",
       "    <tr>\n",
       "      <th>2533</th>\n",
       "      <td>47</td>\n",
       "      <td>indomie</td>\n",
       "      <td>mi goreng jumbo barbecue chicken</td>\n",
       "      <td>Pack</td>\n",
       "      <td>Indonesia</td>\n",
       "      <td>5.0</td>\n",
       "      <td>2012 #2</td>\n",
       "    </tr>\n",
       "    <tr>\n",
       "      <th>2530</th>\n",
       "      <td>50</td>\n",
       "      <td>indomie</td>\n",
       "      <td>mi goreng</td>\n",
       "      <td>Pack</td>\n",
       "      <td>Indonesia</td>\n",
       "      <td>5.0</td>\n",
       "      <td>NaN</td>\n",
       "    </tr>\n",
       "    <tr>\n",
       "      <th>2440</th>\n",
       "      <td>140</td>\n",
       "      <td>mama</td>\n",
       "      <td>mi goreng</td>\n",
       "      <td>Pack</td>\n",
       "      <td>Thailand</td>\n",
       "      <td>5.0</td>\n",
       "      <td>NaN</td>\n",
       "    </tr>\n",
       "  </tbody>\n",
       "</table>\n",
       "</div>"
      ],
      "text/plain": [
       "      Review #            Brand                                     Variety  \\\n",
       "142       2438  world o' noodle    mi goreng original flavour fried noodles   \n",
       "977       1603        salam mie  mi goreng ala jawa dengan sambal cabe asli   \n",
       "2533        47          indomie            mi goreng jumbo barbecue chicken   \n",
       "2530        50          indomie                                   mi goreng   \n",
       "2440       140             mama                                   mi goreng   \n",
       "\n",
       "     Style    Country  Stars  Top Ten  \n",
       "142   Pack  Indonesia    5.0      NaN  \n",
       "977   Pack  Indonesia    5.0      NaN  \n",
       "2533  Pack  Indonesia    5.0  2012 #2  \n",
       "2530  Pack  Indonesia    5.0      NaN  \n",
       "2440  Pack   Thailand    5.0      NaN  "
      ]
     },
     "execution_count": 238,
     "metadata": {},
     "output_type": "execute_result"
    }
   ],
   "source": [
    "get_df_words('mi goreng', ratings).sort_values(by='Stars', ascending = False).head()"
   ]
  },
  {
   "cell_type": "code",
   "execution_count": 25,
   "metadata": {},
   "outputs": [
    {
     "data": {
      "text/html": [
       "<div>\n",
       "<style scoped>\n",
       "    .dataframe tbody tr th:only-of-type {\n",
       "        vertical-align: middle;\n",
       "    }\n",
       "\n",
       "    .dataframe tbody tr th {\n",
       "        vertical-align: top;\n",
       "    }\n",
       "\n",
       "    .dataframe thead th {\n",
       "        text-align: right;\n",
       "    }\n",
       "</style>\n",
       "<table border=\"1\" class=\"dataframe\">\n",
       "  <thead>\n",
       "    <tr style=\"text-align: right;\">\n",
       "      <th></th>\n",
       "      <th>Review #</th>\n",
       "      <th>Brand</th>\n",
       "      <th>Variety</th>\n",
       "      <th>Style</th>\n",
       "      <th>Country</th>\n",
       "      <th>Stars</th>\n",
       "      <th>Top Ten</th>\n",
       "      <th>Varity Tokenized</th>\n",
       "      <th>Variety Bigrams</th>\n",
       "      <th>Variety Trigrams</th>\n",
       "    </tr>\n",
       "  </thead>\n",
       "  <tbody>\n",
       "    <tr>\n",
       "      <th>11</th>\n",
       "      <td>2569</td>\n",
       "      <td>yamachan</td>\n",
       "      <td>yokohama tonkotsu shoyu</td>\n",
       "      <td>Pack</td>\n",
       "      <td>USA</td>\n",
       "      <td>5.0</td>\n",
       "      <td>NaN</td>\n",
       "      <td>[yokohama, tonkotsu, shoyu]</td>\n",
       "      <td>[(yokohama, tonkotsu), (tonkotsu, shoyu)]</td>\n",
       "      <td>[(yokohama, tonkotsu, shoyu)]</td>\n",
       "    </tr>\n",
       "    <tr>\n",
       "      <th>1095</th>\n",
       "      <td>1485</td>\n",
       "      <td>nongshim</td>\n",
       "      <td>spicy tonkotsu noodle soup</td>\n",
       "      <td>Pack</td>\n",
       "      <td>USA</td>\n",
       "      <td>5.0</td>\n",
       "      <td>NaN</td>\n",
       "      <td>[spicy, tonkotsu, noodle, soup]</td>\n",
       "      <td>[(spicy, tonkotsu), (tonkotsu, noodle), (noodl...</td>\n",
       "      <td>[(spicy, tonkotsu, noodle), (tonkotsu, noodle,...</td>\n",
       "    </tr>\n",
       "    <tr>\n",
       "      <th>525</th>\n",
       "      <td>2055</td>\n",
       "      <td>nissin</td>\n",
       "      <td>tokyo tokunou gyokai tonkotsu</td>\n",
       "      <td>Bowl</td>\n",
       "      <td>Japan</td>\n",
       "      <td>5.0</td>\n",
       "      <td>NaN</td>\n",
       "      <td>[tokyo, tokunou, gyokai, tonkotsu]</td>\n",
       "      <td>[(tokyo, tokunou), (tokunou, gyokai), (gyokai,...</td>\n",
       "      <td>[(tokyo, tokunou, gyokai), (tokunou, gyokai, t...</td>\n",
       "    </tr>\n",
       "    <tr>\n",
       "      <th>514</th>\n",
       "      <td>2066</td>\n",
       "      <td>marutai</td>\n",
       "      <td>hakata tonkotsu ramen</td>\n",
       "      <td>Pack</td>\n",
       "      <td>Japan</td>\n",
       "      <td>5.0</td>\n",
       "      <td>NaN</td>\n",
       "      <td>[hakata, tonkotsu, ramen]</td>\n",
       "      <td>[(hakata, tonkotsu), (tonkotsu, ramen)]</td>\n",
       "      <td>[(hakata, tonkotsu, ramen)]</td>\n",
       "    </tr>\n",
       "    <tr>\n",
       "      <th>496</th>\n",
       "      <td>2084</td>\n",
       "      <td>nissin</td>\n",
       "      <td>demae ramen straight noodle kyushu tonkotsu in...</td>\n",
       "      <td>Pack</td>\n",
       "      <td>Hong Kong</td>\n",
       "      <td>5.0</td>\n",
       "      <td>NaN</td>\n",
       "      <td>[demae, ramen, straight, noodle, kyushu, tonko...</td>\n",
       "      <td>[(demae, ramen), (ramen, straight), (straight,...</td>\n",
       "      <td>[(demae, ramen, straight), (ramen, straight, n...</td>\n",
       "    </tr>\n",
       "  </tbody>\n",
       "</table>\n",
       "</div>"
      ],
      "text/plain": [
       "      Review #     Brand                                            Variety  \\\n",
       "11        2569  yamachan                            yokohama tonkotsu shoyu   \n",
       "1095      1485  nongshim                         spicy tonkotsu noodle soup   \n",
       "525       2055    nissin                      tokyo tokunou gyokai tonkotsu   \n",
       "514       2066   marutai                              hakata tonkotsu ramen   \n",
       "496       2084    nissin  demae ramen straight noodle kyushu tonkotsu in...   \n",
       "\n",
       "     Style    Country  Stars Top Ten  \\\n",
       "11    Pack        USA    5.0     NaN   \n",
       "1095  Pack        USA    5.0     NaN   \n",
       "525   Bowl      Japan    5.0     NaN   \n",
       "514   Pack      Japan    5.0     NaN   \n",
       "496   Pack  Hong Kong    5.0     NaN   \n",
       "\n",
       "                                       Varity Tokenized  \\\n",
       "11                          [yokohama, tonkotsu, shoyu]   \n",
       "1095                    [spicy, tonkotsu, noodle, soup]   \n",
       "525                  [tokyo, tokunou, gyokai, tonkotsu]   \n",
       "514                           [hakata, tonkotsu, ramen]   \n",
       "496   [demae, ramen, straight, noodle, kyushu, tonko...   \n",
       "\n",
       "                                        Variety Bigrams  \\\n",
       "11            [(yokohama, tonkotsu), (tonkotsu, shoyu)]   \n",
       "1095  [(spicy, tonkotsu), (tonkotsu, noodle), (noodl...   \n",
       "525   [(tokyo, tokunou), (tokunou, gyokai), (gyokai,...   \n",
       "514             [(hakata, tonkotsu), (tonkotsu, ramen)]   \n",
       "496   [(demae, ramen), (ramen, straight), (straight,...   \n",
       "\n",
       "                                       Variety Trigrams  \n",
       "11                        [(yokohama, tonkotsu, shoyu)]  \n",
       "1095  [(spicy, tonkotsu, noodle), (tonkotsu, noodle,...  \n",
       "525   [(tokyo, tokunou, gyokai), (tokunou, gyokai, t...  \n",
       "514                         [(hakata, tonkotsu, ramen)]  \n",
       "496   [(demae, ramen, straight), (ramen, straight, n...  "
      ]
     },
     "execution_count": 25,
     "metadata": {},
     "output_type": "execute_result"
    }
   ],
   "source": [
    "get_df_words('tonkotsu', ratings).sort_values(by='Stars', ascending = False).head()"
   ]
  },
  {
   "cell_type": "code",
   "execution_count": 142,
   "metadata": {},
   "outputs": [
    {
     "data": {
      "text/html": [
       "<div>\n",
       "<style scoped>\n",
       "    .dataframe tbody tr th:only-of-type {\n",
       "        vertical-align: middle;\n",
       "    }\n",
       "\n",
       "    .dataframe tbody tr th {\n",
       "        vertical-align: top;\n",
       "    }\n",
       "\n",
       "    .dataframe thead th {\n",
       "        text-align: right;\n",
       "    }\n",
       "</style>\n",
       "<table border=\"1\" class=\"dataframe\">\n",
       "  <thead>\n",
       "    <tr style=\"text-align: right;\">\n",
       "      <th></th>\n",
       "      <th>Review #</th>\n",
       "      <th>Brand</th>\n",
       "      <th>Variety</th>\n",
       "      <th>Style</th>\n",
       "      <th>Country</th>\n",
       "      <th>Stars</th>\n",
       "      <th>Top Ten</th>\n",
       "    </tr>\n",
       "  </thead>\n",
       "  <tbody>\n",
       "    <tr>\n",
       "      <th>28</th>\n",
       "      <td>2552</td>\n",
       "      <td>mykuali</td>\n",
       "      <td>penang white curry rice vermicelli soup</td>\n",
       "      <td>Bowl</td>\n",
       "      <td>Malaysia</td>\n",
       "      <td>5.0</td>\n",
       "      <td>NaN</td>\n",
       "    </tr>\n",
       "    <tr>\n",
       "      <th>770</th>\n",
       "      <td>1810</td>\n",
       "      <td>mykuali</td>\n",
       "      <td>penang white curry noodle (new version)</td>\n",
       "      <td>Pack</td>\n",
       "      <td>Malaysia</td>\n",
       "      <td>5.0</td>\n",
       "      <td>NaN</td>\n",
       "    </tr>\n",
       "    <tr>\n",
       "      <th>1030</th>\n",
       "      <td>1550</td>\n",
       "      <td>ibumie</td>\n",
       "      <td>penang white currymee</td>\n",
       "      <td>Pack</td>\n",
       "      <td>Malaysia</td>\n",
       "      <td>5.0</td>\n",
       "      <td>NaN</td>\n",
       "    </tr>\n",
       "    <tr>\n",
       "      <th>966</th>\n",
       "      <td>1614</td>\n",
       "      <td>the bridge</td>\n",
       "      <td>penang white curry noodle</td>\n",
       "      <td>Pack</td>\n",
       "      <td>Malaysia</td>\n",
       "      <td>5.0</td>\n",
       "      <td>NaN</td>\n",
       "    </tr>\n",
       "    <tr>\n",
       "      <th>957</th>\n",
       "      <td>1623</td>\n",
       "      <td>mykuali</td>\n",
       "      <td>penang white curry noodle (new improved tatse)</td>\n",
       "      <td>Pack</td>\n",
       "      <td>Malaysia</td>\n",
       "      <td>5.0</td>\n",
       "      <td>NaN</td>\n",
       "    </tr>\n",
       "    <tr>\n",
       "      <th>928</th>\n",
       "      <td>1652</td>\n",
       "      <td>myori</td>\n",
       "      <td>malaysia penang white curry noodle original</td>\n",
       "      <td>Pack</td>\n",
       "      <td>Malaysia</td>\n",
       "      <td>5.0</td>\n",
       "      <td>NaN</td>\n",
       "    </tr>\n",
       "    <tr>\n",
       "      <th>926</th>\n",
       "      <td>1654</td>\n",
       "      <td>myori</td>\n",
       "      <td>malaysia penang white curry noodle super spicy</td>\n",
       "      <td>Pack</td>\n",
       "      <td>Malaysia</td>\n",
       "      <td>5.0</td>\n",
       "      <td>NaN</td>\n",
       "    </tr>\n",
       "    <tr>\n",
       "      <th>203</th>\n",
       "      <td>2377</td>\n",
       "      <td>mykuali</td>\n",
       "      <td>penang white curry instant noodle (japan version)</td>\n",
       "      <td>Box</td>\n",
       "      <td>Malaysia</td>\n",
       "      <td>5.0</td>\n",
       "      <td>NaN</td>\n",
       "    </tr>\n",
       "    <tr>\n",
       "      <th>1493</th>\n",
       "      <td>1087</td>\n",
       "      <td>mykuali</td>\n",
       "      <td>penang white curry noodle</td>\n",
       "      <td>Pack</td>\n",
       "      <td>Malaysia</td>\n",
       "      <td>5.0</td>\n",
       "      <td>2014 #1</td>\n",
       "    </tr>\n",
       "    <tr>\n",
       "      <th>744</th>\n",
       "      <td>1836</td>\n",
       "      <td>vit's</td>\n",
       "      <td>taste of malaysia penang white curry fried ins...</td>\n",
       "      <td>Pack</td>\n",
       "      <td>Malaysia</td>\n",
       "      <td>5.0</td>\n",
       "      <td>NaN</td>\n",
       "    </tr>\n",
       "  </tbody>\n",
       "</table>\n",
       "</div>"
      ],
      "text/plain": [
       "      Review #       Brand                                            Variety  \\\n",
       "28        2552     mykuali            penang white curry rice vermicelli soup   \n",
       "770       1810     mykuali            penang white curry noodle (new version)   \n",
       "1030      1550      ibumie                              penang white currymee   \n",
       "966       1614  the bridge                          penang white curry noodle   \n",
       "957       1623     mykuali     penang white curry noodle (new improved tatse)   \n",
       "928       1652       myori        malaysia penang white curry noodle original   \n",
       "926       1654       myori     malaysia penang white curry noodle super spicy   \n",
       "203       2377     mykuali  penang white curry instant noodle (japan version)   \n",
       "1493      1087     mykuali                          penang white curry noodle   \n",
       "744       1836       vit's  taste of malaysia penang white curry fried ins...   \n",
       "\n",
       "     Style   Country  Stars  Top Ten  \n",
       "28    Bowl  Malaysia    5.0      NaN  \n",
       "770   Pack  Malaysia    5.0      NaN  \n",
       "1030  Pack  Malaysia    5.0      NaN  \n",
       "966   Pack  Malaysia    5.0      NaN  \n",
       "957   Pack  Malaysia    5.0      NaN  \n",
       "928   Pack  Malaysia    5.0      NaN  \n",
       "926   Pack  Malaysia    5.0      NaN  \n",
       "203    Box  Malaysia    5.0      NaN  \n",
       "1493  Pack  Malaysia    5.0  2014 #1  \n",
       "744   Pack  Malaysia    5.0      NaN  "
      ]
     },
     "execution_count": 142,
     "metadata": {},
     "output_type": "execute_result"
    }
   ],
   "source": [
    "get_df_words('penang white curry', ratings).sort_values(by='Stars', ascending = False).head(10)"
   ]
  },
  {
   "cell_type": "code",
   "execution_count": 241,
   "metadata": {},
   "outputs": [
    {
     "data": {
      "text/html": [
       "<div>\n",
       "<style scoped>\n",
       "    .dataframe tbody tr th:only-of-type {\n",
       "        vertical-align: middle;\n",
       "    }\n",
       "\n",
       "    .dataframe tbody tr th {\n",
       "        vertical-align: top;\n",
       "    }\n",
       "\n",
       "    .dataframe thead th {\n",
       "        text-align: right;\n",
       "    }\n",
       "</style>\n",
       "<table border=\"1\" class=\"dataframe\">\n",
       "  <thead>\n",
       "    <tr style=\"text-align: right;\">\n",
       "      <th></th>\n",
       "      <th>Review #</th>\n",
       "      <th>Brand</th>\n",
       "      <th>Variety</th>\n",
       "      <th>Style</th>\n",
       "      <th>Country</th>\n",
       "      <th>Stars</th>\n",
       "      <th>Top Ten</th>\n",
       "    </tr>\n",
       "  </thead>\n",
       "  <tbody>\n",
       "    <tr>\n",
       "      <th>165</th>\n",
       "      <td>2415</td>\n",
       "      <td>nissin</td>\n",
       "      <td>kitsune udon donbei (west)</td>\n",
       "      <td>Bowl</td>\n",
       "      <td>Japan</td>\n",
       "      <td>5.00</td>\n",
       "      <td>NaN</td>\n",
       "    </tr>\n",
       "    <tr>\n",
       "      <th>1941</th>\n",
       "      <td>639</td>\n",
       "      <td>nissin</td>\n",
       "      <td>gozen kitsune udon</td>\n",
       "      <td>Bowl</td>\n",
       "      <td>Japan</td>\n",
       "      <td>5.00</td>\n",
       "      <td>NaN</td>\n",
       "    </tr>\n",
       "    <tr>\n",
       "      <th>581</th>\n",
       "      <td>1999</td>\n",
       "      <td>nissin</td>\n",
       "      <td>curry udon</td>\n",
       "      <td>Cup</td>\n",
       "      <td>Japan</td>\n",
       "      <td>5.00</td>\n",
       "      <td>NaN</td>\n",
       "    </tr>\n",
       "    <tr>\n",
       "      <th>1002</th>\n",
       "      <td>1578</td>\n",
       "      <td>nissin</td>\n",
       "      <td>gonbuto tempura udon</td>\n",
       "      <td>Bowl</td>\n",
       "      <td>Japan</td>\n",
       "      <td>4.00</td>\n",
       "      <td>NaN</td>\n",
       "    </tr>\n",
       "    <tr>\n",
       "      <th>417</th>\n",
       "      <td>2163</td>\n",
       "      <td>nissin</td>\n",
       "      <td>piritto karakuchi tantan udon</td>\n",
       "      <td>Bowl</td>\n",
       "      <td>Japan</td>\n",
       "      <td>4.00</td>\n",
       "      <td>NaN</td>\n",
       "    </tr>\n",
       "    <tr>\n",
       "      <th>576</th>\n",
       "      <td>2004</td>\n",
       "      <td>nissin</td>\n",
       "      <td>donbei dashi shoyu yakiudon</td>\n",
       "      <td>Bowl</td>\n",
       "      <td>Japan</td>\n",
       "      <td>3.75</td>\n",
       "      <td>NaN</td>\n",
       "    </tr>\n",
       "    <tr>\n",
       "      <th>1339</th>\n",
       "      <td>1241</td>\n",
       "      <td>nissin</td>\n",
       "      <td>donbei kansai soy sauce flavor udon</td>\n",
       "      <td>Pack</td>\n",
       "      <td>Japan</td>\n",
       "      <td>3.75</td>\n",
       "      <td>NaN</td>\n",
       "    </tr>\n",
       "    <tr>\n",
       "      <th>1071</th>\n",
       "      <td>1509</td>\n",
       "      <td>nissin</td>\n",
       "      <td>donbei kitsune udon mini</td>\n",
       "      <td>Bowl</td>\n",
       "      <td>Japan</td>\n",
       "      <td>3.50</td>\n",
       "      <td>NaN</td>\n",
       "    </tr>\n",
       "    <tr>\n",
       "      <th>1412</th>\n",
       "      <td>1168</td>\n",
       "      <td>nissin</td>\n",
       "      <td>donbei curry udon (west japanese)</td>\n",
       "      <td>Bowl</td>\n",
       "      <td>Japan</td>\n",
       "      <td>3.25</td>\n",
       "      <td>NaN</td>\n",
       "    </tr>\n",
       "    <tr>\n",
       "      <th>954</th>\n",
       "      <td>1626</td>\n",
       "      <td>nissin</td>\n",
       "      <td>gonbuto kistune udon</td>\n",
       "      <td>Bowl</td>\n",
       "      <td>Japan</td>\n",
       "      <td>2.75</td>\n",
       "      <td>NaN</td>\n",
       "    </tr>\n",
       "  </tbody>\n",
       "</table>\n",
       "</div>"
      ],
      "text/plain": [
       "      Review #   Brand                              Variety Style Country  \\\n",
       "165       2415  nissin           kitsune udon donbei (west)  Bowl   Japan   \n",
       "1941       639  nissin                   gozen kitsune udon  Bowl   Japan   \n",
       "581       1999  nissin                           curry udon   Cup   Japan   \n",
       "1002      1578  nissin                 gonbuto tempura udon  Bowl   Japan   \n",
       "417       2163  nissin        piritto karakuchi tantan udon  Bowl   Japan   \n",
       "576       2004  nissin          donbei dashi shoyu yakiudon  Bowl   Japan   \n",
       "1339      1241  nissin  donbei kansai soy sauce flavor udon  Pack   Japan   \n",
       "1071      1509  nissin             donbei kitsune udon mini  Bowl   Japan   \n",
       "1412      1168  nissin    donbei curry udon (west japanese)  Bowl   Japan   \n",
       "954       1626  nissin                 gonbuto kistune udon  Bowl   Japan   \n",
       "\n",
       "      Stars Top Ten  \n",
       "165    5.00     NaN  \n",
       "1941   5.00     NaN  \n",
       "581    5.00     NaN  \n",
       "1002   4.00     NaN  \n",
       "417    4.00     NaN  \n",
       "576    3.75     NaN  \n",
       "1339   3.75     NaN  \n",
       "1071   3.50     NaN  \n",
       "1412   3.25     NaN  \n",
       "954    2.75     NaN  "
      ]
     },
     "execution_count": 241,
     "metadata": {},
     "output_type": "execute_result"
    }
   ],
   "source": [
    "udon = get_df_words('udon', ratings).sort_values(by='Stars', ascending = False)\n",
    "udon[udon.Brand.isin(['nissin'])]"
   ]
  },
  {
   "cell_type": "code",
   "execution_count": 243,
   "metadata": {},
   "outputs": [
    {
     "data": {
      "text/html": [
       "<div>\n",
       "<style scoped>\n",
       "    .dataframe tbody tr th:only-of-type {\n",
       "        vertical-align: middle;\n",
       "    }\n",
       "\n",
       "    .dataframe tbody tr th {\n",
       "        vertical-align: top;\n",
       "    }\n",
       "\n",
       "    .dataframe thead th {\n",
       "        text-align: right;\n",
       "    }\n",
       "</style>\n",
       "<table border=\"1\" class=\"dataframe\">\n",
       "  <thead>\n",
       "    <tr style=\"text-align: right;\">\n",
       "      <th></th>\n",
       "      <th>Review #</th>\n",
       "      <th>Brand</th>\n",
       "      <th>Variety</th>\n",
       "      <th>Style</th>\n",
       "      <th>Country</th>\n",
       "      <th>Stars</th>\n",
       "      <th>Top Ten</th>\n",
       "    </tr>\n",
       "  </thead>\n",
       "  <tbody>\n",
       "    <tr>\n",
       "      <th>47</th>\n",
       "      <td>2533</td>\n",
       "      <td>nongshim</td>\n",
       "      <td>shin ramyun black</td>\n",
       "      <td>Pack</td>\n",
       "      <td>South Korea</td>\n",
       "      <td>5.00</td>\n",
       "      <td>NaN</td>\n",
       "    </tr>\n",
       "    <tr>\n",
       "      <th>393</th>\n",
       "      <td>2187</td>\n",
       "      <td>pulmuone</td>\n",
       "      <td>non-fried ramyun noodle (crab flavor)</td>\n",
       "      <td>Pack</td>\n",
       "      <td>South Korea</td>\n",
       "      <td>5.00</td>\n",
       "      <td>NaN</td>\n",
       "    </tr>\n",
       "    <tr>\n",
       "      <th>1538</th>\n",
       "      <td>1042</td>\n",
       "      <td>nongshim</td>\n",
       "      <td>potato pork ramyun</td>\n",
       "      <td>Pack</td>\n",
       "      <td>China</td>\n",
       "      <td>5.00</td>\n",
       "      <td>NaN</td>\n",
       "    </tr>\n",
       "    <tr>\n",
       "      <th>1829</th>\n",
       "      <td>751</td>\n",
       "      <td>nongshim</td>\n",
       "      <td>shin ramyun black onion</td>\n",
       "      <td>Cup</td>\n",
       "      <td>South Korea</td>\n",
       "      <td>5.00</td>\n",
       "      <td>NaN</td>\n",
       "    </tr>\n",
       "    <tr>\n",
       "      <th>606</th>\n",
       "      <td>1974</td>\n",
       "      <td>samyang foods</td>\n",
       "      <td>cheese curry ramyun</td>\n",
       "      <td>Pack</td>\n",
       "      <td>South Korea</td>\n",
       "      <td>5.00</td>\n",
       "      <td>NaN</td>\n",
       "    </tr>\n",
       "    <tr>\n",
       "      <th>1166</th>\n",
       "      <td>1414</td>\n",
       "      <td>paldo</td>\n",
       "      <td>cheese ramyun (for us market)</td>\n",
       "      <td>Pack</td>\n",
       "      <td>South Korea</td>\n",
       "      <td>5.00</td>\n",
       "      <td>NaN</td>\n",
       "    </tr>\n",
       "    <tr>\n",
       "      <th>189</th>\n",
       "      <td>2391</td>\n",
       "      <td>ottogi</td>\n",
       "      <td>jin jjambbong spicy seafood ramyun</td>\n",
       "      <td>Pack</td>\n",
       "      <td>South Korea</td>\n",
       "      <td>5.00</td>\n",
       "      <td>NaN</td>\n",
       "    </tr>\n",
       "    <tr>\n",
       "      <th>2002</th>\n",
       "      <td>578</td>\n",
       "      <td>nongshim</td>\n",
       "      <td>shin ramyun black</td>\n",
       "      <td>Pack</td>\n",
       "      <td>South Korea</td>\n",
       "      <td>4.75</td>\n",
       "      <td>2012 #7</td>\n",
       "    </tr>\n",
       "    <tr>\n",
       "      <th>1903</th>\n",
       "      <td>677</td>\n",
       "      <td>nongshim</td>\n",
       "      <td>shin ramyun shrimp</td>\n",
       "      <td>Pack</td>\n",
       "      <td>China</td>\n",
       "      <td>4.50</td>\n",
       "      <td>NaN</td>\n",
       "    </tr>\n",
       "    <tr>\n",
       "      <th>1662</th>\n",
       "      <td>918</td>\n",
       "      <td>nongshim</td>\n",
       "      <td>tempura udon flavor cup ramyun</td>\n",
       "      <td>Cup</td>\n",
       "      <td>South Korea</td>\n",
       "      <td>4.50</td>\n",
       "      <td>NaN</td>\n",
       "    </tr>\n",
       "  </tbody>\n",
       "</table>\n",
       "</div>"
      ],
      "text/plain": [
       "      Review #          Brand                                Variety Style  \\\n",
       "47        2533       nongshim                      shin ramyun black  Pack   \n",
       "393       2187       pulmuone  non-fried ramyun noodle (crab flavor)  Pack   \n",
       "1538      1042       nongshim                     potato pork ramyun  Pack   \n",
       "1829       751       nongshim                shin ramyun black onion   Cup   \n",
       "606       1974  samyang foods                    cheese curry ramyun  Pack   \n",
       "1166      1414          paldo          cheese ramyun (for us market)  Pack   \n",
       "189       2391         ottogi     jin jjambbong spicy seafood ramyun  Pack   \n",
       "2002       578       nongshim                      shin ramyun black  Pack   \n",
       "1903       677       nongshim                     shin ramyun shrimp  Pack   \n",
       "1662       918       nongshim         tempura udon flavor cup ramyun   Cup   \n",
       "\n",
       "          Country  Stars  Top Ten  \n",
       "47    South Korea   5.00      NaN  \n",
       "393   South Korea   5.00      NaN  \n",
       "1538        China   5.00      NaN  \n",
       "1829  South Korea   5.00      NaN  \n",
       "606   South Korea   5.00      NaN  \n",
       "1166  South Korea   5.00      NaN  \n",
       "189   South Korea   5.00      NaN  \n",
       "2002  South Korea   4.75  2012 #7  \n",
       "1903        China   4.50      NaN  \n",
       "1662  South Korea   4.50      NaN  "
      ]
     },
     "execution_count": 243,
     "metadata": {},
     "output_type": "execute_result"
    }
   ],
   "source": [
    "ramyun = get_df_words('ramyun', ratings).sort_values(by='Stars', ascending = False)\n",
    "ramyun.head(10)"
   ]
  },
  {
   "cell_type": "code",
   "execution_count": null,
   "metadata": {},
   "outputs": [],
   "source": []
  }
 ],
 "metadata": {
  "kernelspec": {
   "display_name": "Python 3",
   "language": "python",
   "name": "python3"
  },
  "language_info": {
   "codemirror_mode": {
    "name": "ipython",
    "version": 3
   },
   "file_extension": ".py",
   "mimetype": "text/x-python",
   "name": "python",
   "nbconvert_exporter": "python",
   "pygments_lexer": "ipython3",
   "version": "3.7.7"
  }
 },
 "nbformat": 4,
 "nbformat_minor": 2
}

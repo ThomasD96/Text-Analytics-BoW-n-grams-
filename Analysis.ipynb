{
 "cells": [
  {
   "cell_type": "code",
   "execution_count": 317,
   "metadata": {},
   "outputs": [],
   "source": [
    "import pandas as pd\n",
    "import numpy as np\n",
    "import matplotlib.pyplot as plt\n",
    "import seaborn as sns\n",
    "import nltk\n",
    "from nltk.probability import FreqDist\n",
    "from string import punctuation\n",
    "from nltk.tokenize import word_tokenize\n",
    "sns.set(rc={'figure.figsize':(11.7,8.27)})\n",
    "from nltk.util import bigrams, trigrams, ngrams\n",
    "from nltk.stem import wordnet\n",
    "from nltk.stem import WordNetLemmatizer\n",
    "\n",
    "import warnings\n",
    "warnings.simplefilter(action='ignore', category=RuntimeWarning)"
   ]
  },
  {
   "cell_type": "code",
   "execution_count": 2,
   "metadata": {},
   "outputs": [
    {
     "data": {
      "text/html": [
       "<div>\n",
       "<style scoped>\n",
       "    .dataframe tbody tr th:only-of-type {\n",
       "        vertical-align: middle;\n",
       "    }\n",
       "\n",
       "    .dataframe tbody tr th {\n",
       "        vertical-align: top;\n",
       "    }\n",
       "\n",
       "    .dataframe thead th {\n",
       "        text-align: right;\n",
       "    }\n",
       "</style>\n",
       "<table border=\"1\" class=\"dataframe\">\n",
       "  <thead>\n",
       "    <tr style=\"text-align: right;\">\n",
       "      <th></th>\n",
       "      <th>Review #</th>\n",
       "      <th>Brand</th>\n",
       "      <th>Variety</th>\n",
       "      <th>Style</th>\n",
       "      <th>Country</th>\n",
       "      <th>Stars</th>\n",
       "      <th>Top Ten</th>\n",
       "    </tr>\n",
       "  </thead>\n",
       "  <tbody>\n",
       "    <tr>\n",
       "      <th>0</th>\n",
       "      <td>2580</td>\n",
       "      <td>New Touch</td>\n",
       "      <td>T's Restaurant Tantanmen</td>\n",
       "      <td>Cup</td>\n",
       "      <td>Japan</td>\n",
       "      <td>3.75</td>\n",
       "      <td>NaN</td>\n",
       "    </tr>\n",
       "    <tr>\n",
       "      <th>1</th>\n",
       "      <td>2579</td>\n",
       "      <td>Just Way</td>\n",
       "      <td>Noodles Spicy Hot Sesame Spicy Hot Sesame Guan...</td>\n",
       "      <td>Pack</td>\n",
       "      <td>Taiwan</td>\n",
       "      <td>1</td>\n",
       "      <td>NaN</td>\n",
       "    </tr>\n",
       "    <tr>\n",
       "      <th>2</th>\n",
       "      <td>2578</td>\n",
       "      <td>Nissin</td>\n",
       "      <td>Cup Noodles Chicken Vegetable</td>\n",
       "      <td>Cup</td>\n",
       "      <td>USA</td>\n",
       "      <td>2.25</td>\n",
       "      <td>NaN</td>\n",
       "    </tr>\n",
       "    <tr>\n",
       "      <th>3</th>\n",
       "      <td>2577</td>\n",
       "      <td>Wei Lih</td>\n",
       "      <td>GGE Ramen Snack Tomato Flavor</td>\n",
       "      <td>Pack</td>\n",
       "      <td>Taiwan</td>\n",
       "      <td>2.75</td>\n",
       "      <td>NaN</td>\n",
       "    </tr>\n",
       "    <tr>\n",
       "      <th>4</th>\n",
       "      <td>2576</td>\n",
       "      <td>Ching's Secret</td>\n",
       "      <td>Singapore Curry</td>\n",
       "      <td>Pack</td>\n",
       "      <td>India</td>\n",
       "      <td>3.75</td>\n",
       "      <td>NaN</td>\n",
       "    </tr>\n",
       "  </tbody>\n",
       "</table>\n",
       "</div>"
      ],
      "text/plain": [
       "   Review #           Brand  \\\n",
       "0      2580       New Touch   \n",
       "1      2579        Just Way   \n",
       "2      2578          Nissin   \n",
       "3      2577         Wei Lih   \n",
       "4      2576  Ching's Secret   \n",
       "\n",
       "                                             Variety Style Country Stars  \\\n",
       "0                          T's Restaurant Tantanmen    Cup   Japan  3.75   \n",
       "1  Noodles Spicy Hot Sesame Spicy Hot Sesame Guan...  Pack  Taiwan     1   \n",
       "2                      Cup Noodles Chicken Vegetable   Cup     USA  2.25   \n",
       "3                      GGE Ramen Snack Tomato Flavor  Pack  Taiwan  2.75   \n",
       "4                                    Singapore Curry  Pack   India  3.75   \n",
       "\n",
       "  Top Ten  \n",
       "0     NaN  \n",
       "1     NaN  \n",
       "2     NaN  \n",
       "3     NaN  \n",
       "4     NaN  "
      ]
     },
     "execution_count": 2,
     "metadata": {},
     "output_type": "execute_result"
    }
   ],
   "source": [
    "ratings = pd.read_csv('Data/ramen-ratings.csv')\n",
    "ratings.head()"
   ]
  },
  {
   "cell_type": "code",
   "execution_count": 4,
   "metadata": {},
   "outputs": [
    {
     "data": {
      "text/plain": [
       "Pack    1531\n",
       "Bowl     481\n",
       "Cup      450\n",
       "Tray     108\n",
       "Box        6\n",
       "Bar        1\n",
       "Can        1\n",
       "Name: Style, dtype: int64"
      ]
     },
     "execution_count": 4,
     "metadata": {},
     "output_type": "execute_result"
    }
   ],
   "source": [
    "ratings['Style'].value_counts()"
   ]
  },
  {
   "cell_type": "markdown",
   "metadata": {},
   "source": [
    "# Preprocessing"
   ]
  },
  {
   "cell_type": "markdown",
   "metadata": {},
   "source": [
    "Convert text to lower string and cast stars as a float "
   ]
  },
  {
   "cell_type": "code",
   "execution_count": 5,
   "metadata": {},
   "outputs": [
    {
     "data": {
      "text/plain": [
       "array(['0', '0.1', '0.25', '0.5', '0.75', '0.9', '1', '1.1', '1.25',\n",
       "       '1.5', '1.75', '1.8', '2', '2.1', '2.125', '2.25', '2.3', '2.5',\n",
       "       '2.75', '2.8', '2.85', '2.9', '3', '3.0', '3.00', '3.1', '3.125',\n",
       "       '3.2', '3.25', '3.3', '3.4', '3.5', '3.50', '3.6', '3.65', '3.7',\n",
       "       '3.75', '3.8', '4', '4.0', '4.00', '4.125', '4.25', '4.3', '4.5',\n",
       "       '4.50', '4.75', '5', '5.0', '5.00', 'Unrated'], dtype=object)"
      ]
     },
     "execution_count": 5,
     "metadata": {},
     "output_type": "execute_result"
    }
   ],
   "source": [
    "np.unique(ratings['Stars'])"
   ]
  },
  {
   "cell_type": "code",
   "execution_count": 6,
   "metadata": {},
   "outputs": [],
   "source": [
    "#drop unrated ramen reviews\n",
    "unrated_idx = ratings[ratings['Stars'] == 'Unrated'].index\n",
    "\n",
    "ratings = ratings.drop(unrated_idx)\n"
   ]
  },
  {
   "cell_type": "code",
   "execution_count": 7,
   "metadata": {},
   "outputs": [
    {
     "data": {
      "text/html": [
       "<div>\n",
       "<style scoped>\n",
       "    .dataframe tbody tr th:only-of-type {\n",
       "        vertical-align: middle;\n",
       "    }\n",
       "\n",
       "    .dataframe tbody tr th {\n",
       "        vertical-align: top;\n",
       "    }\n",
       "\n",
       "    .dataframe thead th {\n",
       "        text-align: right;\n",
       "    }\n",
       "</style>\n",
       "<table border=\"1\" class=\"dataframe\">\n",
       "  <thead>\n",
       "    <tr style=\"text-align: right;\">\n",
       "      <th></th>\n",
       "      <th>Review #</th>\n",
       "      <th>Brand</th>\n",
       "      <th>Variety</th>\n",
       "      <th>Style</th>\n",
       "      <th>Country</th>\n",
       "      <th>Stars</th>\n",
       "      <th>Top Ten</th>\n",
       "    </tr>\n",
       "  </thead>\n",
       "  <tbody>\n",
       "    <tr>\n",
       "      <th>0</th>\n",
       "      <td>2580</td>\n",
       "      <td>new touch</td>\n",
       "      <td>t's restaurant tantanmen</td>\n",
       "      <td>Cup</td>\n",
       "      <td>Japan</td>\n",
       "      <td>3.75</td>\n",
       "      <td>NaN</td>\n",
       "    </tr>\n",
       "    <tr>\n",
       "      <th>1</th>\n",
       "      <td>2579</td>\n",
       "      <td>just way</td>\n",
       "      <td>noodles spicy hot sesame spicy hot sesame guan...</td>\n",
       "      <td>Pack</td>\n",
       "      <td>Taiwan</td>\n",
       "      <td>1.00</td>\n",
       "      <td>NaN</td>\n",
       "    </tr>\n",
       "    <tr>\n",
       "      <th>2</th>\n",
       "      <td>2578</td>\n",
       "      <td>nissin</td>\n",
       "      <td>cup noodles chicken vegetable</td>\n",
       "      <td>Cup</td>\n",
       "      <td>USA</td>\n",
       "      <td>2.25</td>\n",
       "      <td>NaN</td>\n",
       "    </tr>\n",
       "    <tr>\n",
       "      <th>3</th>\n",
       "      <td>2577</td>\n",
       "      <td>wei lih</td>\n",
       "      <td>gge ramen snack tomato flavor</td>\n",
       "      <td>Pack</td>\n",
       "      <td>Taiwan</td>\n",
       "      <td>2.75</td>\n",
       "      <td>NaN</td>\n",
       "    </tr>\n",
       "    <tr>\n",
       "      <th>4</th>\n",
       "      <td>2576</td>\n",
       "      <td>ching's secret</td>\n",
       "      <td>singapore curry</td>\n",
       "      <td>Pack</td>\n",
       "      <td>India</td>\n",
       "      <td>3.75</td>\n",
       "      <td>NaN</td>\n",
       "    </tr>\n",
       "  </tbody>\n",
       "</table>\n",
       "</div>"
      ],
      "text/plain": [
       "   Review #           Brand  \\\n",
       "0      2580       new touch   \n",
       "1      2579        just way   \n",
       "2      2578          nissin   \n",
       "3      2577         wei lih   \n",
       "4      2576  ching's secret   \n",
       "\n",
       "                                             Variety Style Country  Stars  \\\n",
       "0                          t's restaurant tantanmen    Cup   Japan   3.75   \n",
       "1  noodles spicy hot sesame spicy hot sesame guan...  Pack  Taiwan   1.00   \n",
       "2                      cup noodles chicken vegetable   Cup     USA   2.25   \n",
       "3                      gge ramen snack tomato flavor  Pack  Taiwan   2.75   \n",
       "4                                    singapore curry  Pack   India   3.75   \n",
       "\n",
       "  Top Ten  \n",
       "0     NaN  \n",
       "1     NaN  \n",
       "2     NaN  \n",
       "3     NaN  \n",
       "4     NaN  "
      ]
     },
     "execution_count": 7,
     "metadata": {},
     "output_type": "execute_result"
    }
   ],
   "source": [
    "\n",
    "ratings['Brand'] = ratings['Brand'].str.lower() \n",
    "ratings['Variety'] = ratings['Variety'].str.lower()\n",
    "ratings['Stars'] = ratings['Stars'].astype('float')\n",
    "ratings.head()"
   ]
  },
  {
   "cell_type": "markdown",
   "metadata": {},
   "source": [
    "Derive Tokenized words, bigrams and trigrams from variety"
   ]
  },
  {
   "cell_type": "code",
   "execution_count": 93,
   "metadata": {},
   "outputs": [
    {
     "data": {
      "text/html": [
       "<div>\n",
       "<style scoped>\n",
       "    .dataframe tbody tr th:only-of-type {\n",
       "        vertical-align: middle;\n",
       "    }\n",
       "\n",
       "    .dataframe tbody tr th {\n",
       "        vertical-align: top;\n",
       "    }\n",
       "\n",
       "    .dataframe thead th {\n",
       "        text-align: right;\n",
       "    }\n",
       "</style>\n",
       "<table border=\"1\" class=\"dataframe\">\n",
       "  <thead>\n",
       "    <tr style=\"text-align: right;\">\n",
       "      <th></th>\n",
       "      <th>Review #</th>\n",
       "      <th>Brand</th>\n",
       "      <th>Variety</th>\n",
       "      <th>Style</th>\n",
       "      <th>Country</th>\n",
       "      <th>Stars</th>\n",
       "      <th>Top Ten</th>\n",
       "      <th>Varity Tokenized</th>\n",
       "      <th>Variety Bigrams</th>\n",
       "      <th>Variety Trigrams</th>\n",
       "    </tr>\n",
       "  </thead>\n",
       "  <tbody>\n",
       "    <tr>\n",
       "      <th>0</th>\n",
       "      <td>2580</td>\n",
       "      <td>new touch</td>\n",
       "      <td>t's restaurant tantanmen</td>\n",
       "      <td>Cup</td>\n",
       "      <td>Japan</td>\n",
       "      <td>3.75</td>\n",
       "      <td>NaN</td>\n",
       "      <td>[t, 's, restaurant, tantanmen]</td>\n",
       "      <td>[(t, 's), ('s, restaurant), (restaurant, tanta...</td>\n",
       "      <td>[(t, 's, restaurant), ('s, restaurant, tantanm...</td>\n",
       "    </tr>\n",
       "    <tr>\n",
       "      <th>1</th>\n",
       "      <td>2579</td>\n",
       "      <td>just way</td>\n",
       "      <td>noodles spicy hot sesame spicy hot sesame guan...</td>\n",
       "      <td>Pack</td>\n",
       "      <td>Taiwan</td>\n",
       "      <td>1.00</td>\n",
       "      <td>NaN</td>\n",
       "      <td>[noodles, spicy, hot, sesame, spicy, hot, sesa...</td>\n",
       "      <td>[(noodles, spicy), (spicy, hot), (hot, sesame)...</td>\n",
       "      <td>[(noodles, spicy, hot), (spicy, hot, sesame), ...</td>\n",
       "    </tr>\n",
       "    <tr>\n",
       "      <th>2</th>\n",
       "      <td>2578</td>\n",
       "      <td>nissin</td>\n",
       "      <td>cup noodles chicken vegetable</td>\n",
       "      <td>Cup</td>\n",
       "      <td>USA</td>\n",
       "      <td>2.25</td>\n",
       "      <td>NaN</td>\n",
       "      <td>[cup, noodles, chicken, vegetable]</td>\n",
       "      <td>[(cup, noodles), (noodles, chicken), (chicken,...</td>\n",
       "      <td>[(cup, noodles, chicken), (noodles, chicken, v...</td>\n",
       "    </tr>\n",
       "    <tr>\n",
       "      <th>3</th>\n",
       "      <td>2577</td>\n",
       "      <td>wei lih</td>\n",
       "      <td>gge ramen snack tomato flavor</td>\n",
       "      <td>Pack</td>\n",
       "      <td>Taiwan</td>\n",
       "      <td>2.75</td>\n",
       "      <td>NaN</td>\n",
       "      <td>[gge, ramen, snack, tomato, flavor]</td>\n",
       "      <td>[(gge, ramen), (ramen, snack), (snack, tomato)...</td>\n",
       "      <td>[(gge, ramen, snack), (ramen, snack, tomato), ...</td>\n",
       "    </tr>\n",
       "    <tr>\n",
       "      <th>4</th>\n",
       "      <td>2576</td>\n",
       "      <td>ching's secret</td>\n",
       "      <td>singapore curry</td>\n",
       "      <td>Pack</td>\n",
       "      <td>India</td>\n",
       "      <td>3.75</td>\n",
       "      <td>NaN</td>\n",
       "      <td>[singapore, curry]</td>\n",
       "      <td>[(singapore, curry)]</td>\n",
       "      <td>[]</td>\n",
       "    </tr>\n",
       "  </tbody>\n",
       "</table>\n",
       "</div>"
      ],
      "text/plain": [
       "   Review #           Brand  \\\n",
       "0      2580       new touch   \n",
       "1      2579        just way   \n",
       "2      2578          nissin   \n",
       "3      2577         wei lih   \n",
       "4      2576  ching's secret   \n",
       "\n",
       "                                             Variety Style Country  Stars  \\\n",
       "0                          t's restaurant tantanmen    Cup   Japan   3.75   \n",
       "1  noodles spicy hot sesame spicy hot sesame guan...  Pack  Taiwan   1.00   \n",
       "2                      cup noodles chicken vegetable   Cup     USA   2.25   \n",
       "3                      gge ramen snack tomato flavor  Pack  Taiwan   2.75   \n",
       "4                                    singapore curry  Pack   India   3.75   \n",
       "\n",
       "  Top Ten                                   Varity Tokenized  \\\n",
       "0     NaN                     [t, 's, restaurant, tantanmen]   \n",
       "1     NaN  [noodles, spicy, hot, sesame, spicy, hot, sesa...   \n",
       "2     NaN                 [cup, noodles, chicken, vegetable]   \n",
       "3     NaN                [gge, ramen, snack, tomato, flavor]   \n",
       "4     NaN                                 [singapore, curry]   \n",
       "\n",
       "                                     Variety Bigrams  \\\n",
       "0  [(t, 's), ('s, restaurant), (restaurant, tanta...   \n",
       "1  [(noodles, spicy), (spicy, hot), (hot, sesame)...   \n",
       "2  [(cup, noodles), (noodles, chicken), (chicken,...   \n",
       "3  [(gge, ramen), (ramen, snack), (snack, tomato)...   \n",
       "4                               [(singapore, curry)]   \n",
       "\n",
       "                                    Variety Trigrams  \n",
       "0  [(t, 's, restaurant), ('s, restaurant, tantanm...  \n",
       "1  [(noodles, spicy, hot), (spicy, hot, sesame), ...  \n",
       "2  [(cup, noodles, chicken), (noodles, chicken, v...  \n",
       "3  [(gge, ramen, snack), (ramen, snack, tomato), ...  \n",
       "4                                                 []  "
      ]
     },
     "execution_count": 93,
     "metadata": {},
     "output_type": "execute_result"
    }
   ],
   "source": [
    "\n",
    "ratings['Varity Tokenized'] =  ratings.apply(lambda row: nltk.word_tokenize(row['Variety']), axis=1)\n",
    "ratings['Variety Bigrams'] = ratings.apply(lambda row: list(bigrams(row['Varity Tokenized'])), axis = 1)\n",
    "ratings['Variety Trigrams'] = ratings.apply(lambda row: list(trigrams(row['Varity Tokenized'])), axis = 1)\n",
    "ratings.head()\n"
   ]
  },
  {
   "cell_type": "markdown",
   "metadata": {},
   "source": [
    "## Exploratory Data Analysis"
   ]
  },
  {
   "cell_type": "code",
   "execution_count": 15,
   "metadata": {},
   "outputs": [],
   "source": [
    "from sklearn.feature_extraction.text import CountVectorizer\n",
    "\n",
    "def get_top_n_gram(corpus, ngram, stop_words = None, n=None):\n",
    "    vec = CountVectorizer(stop_words= stop_words, ngram_range=(ngram, ngram)).fit(corpus)\n",
    "    bag_of_words = vec.transform(corpus)\n",
    "    sum_words = bag_of_words.sum(axis=0) \n",
    "    words_freq = [(word, sum_words[0, idx]) for word, idx in vec.vocabulary_.items()]\n",
    "    words_freq =sorted(words_freq, key = lambda x: x[1], reverse=True)\n",
    "    return words_freq[:n]\n",
    "\n",
    "\n",
    "def get_bag_of_words(corpus, ngram, stop_words = None, n=None):\n",
    "    vec = CountVectorizer(stop_words= stop_words, ngram_range=(ngram, ngram)).fit(corpus)\n",
    "    bag_of_words = vec.transform(corpus)\n",
    "    return bag_of_words\n",
    "\n",
    "def box_plot(df):\n",
    "    return sns.boxplot(df['Stars'])\n",
    "\n",
    "def get_df_words(words, dataframe):\n",
    "    \"\"\"\n",
    "    Takes an input of a string of words and returns a dataframe which has that\n",
    "    word in it's variety column\n",
    "    \"\"\"\n",
    "    assert type(words) is str\n",
    "    df = ratings[ratings['Variety'].str.contains(words, regex=True)]\n",
    "    \n",
    "    return df\n",
    "\n",
    "def quick_stats(dataframe, target_var = 'Stars'):\n",
    "    mean = np.mean(dataframe[target_var])\n",
    "    median = np.median(dataframe[target_var])\n",
    "    \n",
    "    return mean, median\n"
   ]
  },
  {
   "cell_type": "code",
   "execution_count": 327,
   "metadata": {},
   "outputs": [],
   "source": [
    "from nltk.corpus import stopwords\n",
    "ramen_stop_words = stopwords.words('english')\n",
    "common_words = ['ramen', 'instant', 'flavour', 'flavor']\n",
    "punct_list = list(punctuation)\n",
    "ramen_stop_words += ramen_common_words + common_words + punct_list\n",
    "\n",
    "ramen_common_words = ['noodle', 'noodles', 'ramen', 'instant', 'flavour', 'flavor']\n",
    "\n"
   ]
  },
  {
   "cell_type": "code",
   "execution_count": 10,
   "metadata": {},
   "outputs": [],
   "source": [
    "def generate_stats_dict(freq, mean, median):\n",
    "    stats_dict = {}\n",
    "    stats_dict['Frequency'] = freq\n",
    "    stats_dict['Mean Rating'] = mean\n",
    "    stats_dict['Median Rating'] = median\n",
    "    return stats_dict\n",
    "    "
   ]
  },
  {
   "cell_type": "code",
   "execution_count": 11,
   "metadata": {},
   "outputs": [],
   "source": [
    "def generate_stats_df(idx, df, freq, mean, median, word):\n",
    "    df.loc[idx, 'Word'] = word\n",
    "    df.loc[idx, 'Frequency'] = freq\n",
    "    df.loc[idx, 'Mean Rating'] = mean\n",
    "    df.loc[idx, 'Median Rating'] = median\n",
    "    return df\n",
    "    "
   ]
  },
  {
   "cell_type": "code",
   "execution_count": 16,
   "metadata": {},
   "outputs": [],
   "source": [
    "common_words = get_top_n_gram(ratings['Variety'],ngram = 1, n=40, stop_words=ramen_stop_words)\n",
    "#common_words = [(word, freq) for word, freq in common_words if word not in ramen_common_words]\n",
    "common_words_df = pd.DataFrame()\n",
    "idx = 0\n",
    "for word, freq in common_words:\n",
    "    stats = get_df_words(str(word), ratings)\n",
    "    mean, median = quick_stats(stats)\n",
    "    generate_stats_df(idx, common_words_df, freq, mean, median, word)\n",
    "    idx += 1\n"
   ]
  },
  {
   "cell_type": "code",
   "execution_count": 100,
   "metadata": {},
   "outputs": [
    {
     "data": {
      "text/plain": [
       "array(['chicken', 'spicy', 'beef', 'cup', 'soup', 'sauce', 'rice',\n",
       "       'artificial', 'tom', 'curry', 'shrimp', 'mi', 'hot', 'seafood',\n",
       "       'bowl', 'pork', 'style', 'yum', 'udon', 'goreng', 'vermicelli',\n",
       "       'demae', 'oriental', 'fried', 'sesame', 'tonkotsu', 'penang',\n",
       "       'vegetable', 'mushroom', 'yakisoba', 'ramyun', 'vegetarian',\n",
       "       'rasa', 'soy', 'sour', 'black', 'kimchi', 'miso'], dtype=object)"
      ]
     },
     "execution_count": 100,
     "metadata": {},
     "output_type": "execute_result"
    }
   ],
   "source": [
    "common_wrds"
   ]
  },
  {
   "cell_type": "code",
   "execution_count": 101,
   "metadata": {},
   "outputs": [
    {
     "data": {
      "text/html": [
       "<div>\n",
       "<style scoped>\n",
       "    .dataframe tbody tr th:only-of-type {\n",
       "        vertical-align: middle;\n",
       "    }\n",
       "\n",
       "    .dataframe tbody tr th {\n",
       "        vertical-align: top;\n",
       "    }\n",
       "\n",
       "    .dataframe thead th {\n",
       "        text-align: right;\n",
       "    }\n",
       "</style>\n",
       "<table border=\"1\" class=\"dataframe\">\n",
       "  <thead>\n",
       "    <tr style=\"text-align: right;\">\n",
       "      <th></th>\n",
       "      <th>Word</th>\n",
       "      <th>Frequency</th>\n",
       "      <th>Mean Rating</th>\n",
       "      <th>Median Rating</th>\n",
       "    </tr>\n",
       "  </thead>\n",
       "  <tbody>\n",
       "    <tr>\n",
       "      <th>26</th>\n",
       "      <td>penang</td>\n",
       "      <td>54.0</td>\n",
       "      <td>4.675926</td>\n",
       "      <td>5.00</td>\n",
       "    </tr>\n",
       "    <tr>\n",
       "      <th>19</th>\n",
       "      <td>goreng</td>\n",
       "      <td>79.0</td>\n",
       "      <td>4.205769</td>\n",
       "      <td>4.25</td>\n",
       "    </tr>\n",
       "    <tr>\n",
       "      <th>23</th>\n",
       "      <td>fried</td>\n",
       "      <td>57.0</td>\n",
       "      <td>4.166667</td>\n",
       "      <td>4.25</td>\n",
       "    </tr>\n",
       "    <tr>\n",
       "      <th>9</th>\n",
       "      <td>curry</td>\n",
       "      <td>127.0</td>\n",
       "      <td>4.121032</td>\n",
       "      <td>4.25</td>\n",
       "    </tr>\n",
       "    <tr>\n",
       "      <th>25</th>\n",
       "      <td>tonkotsu</td>\n",
       "      <td>54.0</td>\n",
       "      <td>4.159259</td>\n",
       "      <td>4.15</td>\n",
       "    </tr>\n",
       "  </tbody>\n",
       "</table>\n",
       "</div>"
      ],
      "text/plain": [
       "        Word  Frequency  Mean Rating  Median Rating\n",
       "26    penang       54.0     4.675926           5.00\n",
       "19    goreng       79.0     4.205769           4.25\n",
       "23     fried       57.0     4.166667           4.25\n",
       "9      curry      127.0     4.121032           4.25\n",
       "25  tonkotsu       54.0     4.159259           4.15"
      ]
     },
     "execution_count": 101,
     "metadata": {},
     "output_type": "execute_result"
    }
   ],
   "source": [
    "common_words_df.sort_values(by=['Median Rating', 'Mean Rating', 'Frequency'], ascending = False).head(5)"
   ]
  },
  {
   "cell_type": "code",
   "execution_count": 326,
   "metadata": {},
   "outputs": [
    {
     "data": {
      "text/plain": [
       "<WordListCorpusReader in '/Users/kdhawan/nltk_data/corpora/stopwords'>"
      ]
     },
     "execution_count": 326,
     "metadata": {},
     "output_type": "execute_result"
    }
   ],
   "source": [
    "stopwords"
   ]
  },
  {
   "cell_type": "code",
   "execution_count": 257,
   "metadata": {},
   "outputs": [],
   "source": [
    "def n_gram_df(df, ngram):\n",
    "    common_n_gram = get_top_n_gram(df['Variety'],ngram = ngram, n=20, stop_words=ramen_stop_words)\n",
    "    n_gram_df = pd.DataFrame()\n",
    "    idx = 0\n",
    "    for word, freq in common_n_gram:\n",
    "        stats = get_df_words(str(word), ratings)\n",
    "        mean, median = quick_stats(stats)\n",
    "        generate_stats_df(idx, n_gram_df, freq, mean, median, word)\n",
    "        idx += 1\n",
    "    return n_gram_df\n",
    "\n",
    "    "
   ]
  },
  {
   "cell_type": "code",
   "execution_count": 255,
   "metadata": {},
   "outputs": [],
   "source": [
    "#pd.concat([n_gram_df(1), n_gram_df(2)])"
   ]
  },
  {
   "cell_type": "code",
   "execution_count": 103,
   "metadata": {},
   "outputs": [
    {
     "data": {
      "text/html": [
       "<div>\n",
       "<style scoped>\n",
       "    .dataframe tbody tr th:only-of-type {\n",
       "        vertical-align: middle;\n",
       "    }\n",
       "\n",
       "    .dataframe tbody tr th {\n",
       "        vertical-align: top;\n",
       "    }\n",
       "\n",
       "    .dataframe thead th {\n",
       "        text-align: right;\n",
       "    }\n",
       "</style>\n",
       "<table border=\"1\" class=\"dataframe\">\n",
       "  <thead>\n",
       "    <tr style=\"text-align: right;\">\n",
       "      <th></th>\n",
       "      <th>Word</th>\n",
       "      <th>Frequency</th>\n",
       "      <th>Mean Rating</th>\n",
       "      <th>Median Rating</th>\n",
       "    </tr>\n",
       "  </thead>\n",
       "  <tbody>\n",
       "    <tr>\n",
       "      <th>0</th>\n",
       "      <td>cup noodles</td>\n",
       "      <td>114.0</td>\n",
       "      <td>3.768913</td>\n",
       "      <td>3.75</td>\n",
       "    </tr>\n",
       "    <tr>\n",
       "      <th>1</th>\n",
       "      <td>tom yum</td>\n",
       "      <td>87.0</td>\n",
       "      <td>3.822414</td>\n",
       "      <td>3.75</td>\n",
       "    </tr>\n",
       "    <tr>\n",
       "      <th>2</th>\n",
       "      <td>noodle soup</td>\n",
       "      <td>85.0</td>\n",
       "      <td>3.620370</td>\n",
       "      <td>3.75</td>\n",
       "    </tr>\n",
       "    <tr>\n",
       "      <th>3</th>\n",
       "      <td>rice noodle</td>\n",
       "      <td>61.0</td>\n",
       "      <td>3.224138</td>\n",
       "      <td>3.50</td>\n",
       "    </tr>\n",
       "    <tr>\n",
       "      <th>4</th>\n",
       "      <td>mi goreng</td>\n",
       "      <td>56.0</td>\n",
       "      <td>4.233036</td>\n",
       "      <td>4.40</td>\n",
       "    </tr>\n",
       "  </tbody>\n",
       "</table>\n",
       "</div>"
      ],
      "text/plain": [
       "          Word  Frequency  Mean Rating  Median Rating\n",
       "0  cup noodles      114.0     3.768913           3.75\n",
       "1      tom yum       87.0     3.822414           3.75\n",
       "2  noodle soup       85.0     3.620370           3.75\n",
       "3  rice noodle       61.0     3.224138           3.50\n",
       "4    mi goreng       56.0     4.233036           4.40"
      ]
     },
     "execution_count": 103,
     "metadata": {},
     "output_type": "execute_result"
    }
   ],
   "source": [
    "common_bigrams_df.sort_values(by=['Frequency','Median Rating', 'Mean Rating'], ascending = False).head(5)\n",
    "    "
   ]
  },
  {
   "cell_type": "code",
   "execution_count": 313,
   "metadata": {},
   "outputs": [],
   "source": [
    "def remove_words_from_df(source, target, thresh = 0.4):\n",
    "    words_to_drop = []\n",
    "    for idx in target.index:\n",
    "        word = target.loc[idx, 'Word']\n",
    "        freq = target.loc[idx, 'Frequency']\n",
    "        for source_df in source:\n",
    "            source_df_word = source_df[source_df.Word.str.contains(word)]\n",
    "            for source_idx in source_df_word.index:\n",
    "                if source_df_word.loc[source_idx, 'Frequency']/freq >= thresh:\n",
    "                    words_to_drop.append(word)\n",
    "    target = target[~target['Word'].isin(words_to_drop)]\n",
    "    return target\n",
    "        \n"
   ]
  },
  {
   "cell_type": "code",
   "execution_count": 310,
   "metadata": {},
   "outputs": [],
   "source": [
    "country_df = ratings[ratings.Country.isin(['Indonesia'])]\n",
    "one = n_gram_df(country_df, 1)\n",
    "two = n_gram_df(country_df, 2)\n",
    "three = n_gram_df(country_df, 3)"
   ]
  },
  {
   "cell_type": "code",
   "execution_count": 312,
   "metadata": {},
   "outputs": [
    {
     "data": {
      "text/html": [
       "<div>\n",
       "<style scoped>\n",
       "    .dataframe tbody tr th:only-of-type {\n",
       "        vertical-align: middle;\n",
       "    }\n",
       "\n",
       "    .dataframe tbody tr th {\n",
       "        vertical-align: top;\n",
       "    }\n",
       "\n",
       "    .dataframe thead th {\n",
       "        text-align: right;\n",
       "    }\n",
       "</style>\n",
       "<table border=\"1\" class=\"dataframe\">\n",
       "  <thead>\n",
       "    <tr style=\"text-align: right;\">\n",
       "      <th></th>\n",
       "      <th>Word</th>\n",
       "      <th>Frequency</th>\n",
       "      <th>Mean Rating</th>\n",
       "      <th>Median Rating</th>\n",
       "    </tr>\n",
       "  </thead>\n",
       "  <tbody>\n",
       "    <tr>\n",
       "      <th>0</th>\n",
       "      <td>mi goreng</td>\n",
       "      <td>39.0</td>\n",
       "      <td>4.233036</td>\n",
       "      <td>4.400</td>\n",
       "    </tr>\n",
       "    <tr>\n",
       "      <th>1</th>\n",
       "      <td>rasa ayam</td>\n",
       "      <td>15.0</td>\n",
       "      <td>3.950000</td>\n",
       "      <td>4.000</td>\n",
       "    </tr>\n",
       "    <tr>\n",
       "      <th>2</th>\n",
       "      <td>kuah rasa</td>\n",
       "      <td>12.0</td>\n",
       "      <td>3.541667</td>\n",
       "      <td>3.625</td>\n",
       "    </tr>\n",
       "    <tr>\n",
       "      <th>3</th>\n",
       "      <td>rasa soto</td>\n",
       "      <td>8.0</td>\n",
       "      <td>4.156250</td>\n",
       "      <td>4.000</td>\n",
       "    </tr>\n",
       "    <tr>\n",
       "      <th>4</th>\n",
       "      <td>mi kuah</td>\n",
       "      <td>7.0</td>\n",
       "      <td>3.678571</td>\n",
       "      <td>4.000</td>\n",
       "    </tr>\n",
       "    <tr>\n",
       "      <th>5</th>\n",
       "      <td>ayam bawang</td>\n",
       "      <td>7.0</td>\n",
       "      <td>3.750000</td>\n",
       "      <td>3.750</td>\n",
       "    </tr>\n",
       "    <tr>\n",
       "      <th>6</th>\n",
       "      <td>mi instan</td>\n",
       "      <td>6.0</td>\n",
       "      <td>4.035714</td>\n",
       "      <td>4.000</td>\n",
       "    </tr>\n",
       "    <tr>\n",
       "      <th>7</th>\n",
       "      <td>instan cup</td>\n",
       "      <td>6.0</td>\n",
       "      <td>4.041667</td>\n",
       "      <td>4.000</td>\n",
       "    </tr>\n",
       "    <tr>\n",
       "      <th>8</th>\n",
       "      <td>goreng rasa</td>\n",
       "      <td>6.0</td>\n",
       "      <td>4.250000</td>\n",
       "      <td>4.500</td>\n",
       "    </tr>\n",
       "    <tr>\n",
       "      <th>9</th>\n",
       "      <td>selera pedas</td>\n",
       "      <td>6.0</td>\n",
       "      <td>4.375000</td>\n",
       "      <td>4.375</td>\n",
       "    </tr>\n",
       "    <tr>\n",
       "      <th>10</th>\n",
       "      <td>rasa baso</td>\n",
       "      <td>5.0</td>\n",
       "      <td>3.100000</td>\n",
       "      <td>3.500</td>\n",
       "    </tr>\n",
       "    <tr>\n",
       "      <th>11</th>\n",
       "      <td>cup rasa</td>\n",
       "      <td>5.0</td>\n",
       "      <td>3.850000</td>\n",
       "      <td>3.750</td>\n",
       "    </tr>\n",
       "    <tr>\n",
       "      <th>12</th>\n",
       "      <td>cup mi</td>\n",
       "      <td>5.0</td>\n",
       "      <td>3.800000</td>\n",
       "      <td>4.000</td>\n",
       "    </tr>\n",
       "    <tr>\n",
       "      <th>13</th>\n",
       "      <td>rasa kari</td>\n",
       "      <td>5.0</td>\n",
       "      <td>4.050000</td>\n",
       "      <td>3.750</td>\n",
       "    </tr>\n",
       "    <tr>\n",
       "      <th>14</th>\n",
       "      <td>kari ayam</td>\n",
       "      <td>5.0</td>\n",
       "      <td>4.125000</td>\n",
       "      <td>4.000</td>\n",
       "    </tr>\n",
       "    <tr>\n",
       "      <th>15</th>\n",
       "      <td>pedas mi</td>\n",
       "      <td>4.0</td>\n",
       "      <td>4.250000</td>\n",
       "      <td>4.250</td>\n",
       "    </tr>\n",
       "    <tr>\n",
       "      <th>16</th>\n",
       "      <td>pedas hot</td>\n",
       "      <td>4.0</td>\n",
       "      <td>4.500000</td>\n",
       "      <td>4.500</td>\n",
       "    </tr>\n",
       "    <tr>\n",
       "      <th>17</th>\n",
       "      <td>goreng jumbo</td>\n",
       "      <td>4.0</td>\n",
       "      <td>4.500000</td>\n",
       "      <td>5.000</td>\n",
       "    </tr>\n",
       "    <tr>\n",
       "      <th>18</th>\n",
       "      <td>baso sapi</td>\n",
       "      <td>3.0</td>\n",
       "      <td>3.500000</td>\n",
       "      <td>3.750</td>\n",
       "    </tr>\n",
       "    <tr>\n",
       "      <th>19</th>\n",
       "      <td>mi segera</td>\n",
       "      <td>3.0</td>\n",
       "      <td>3.812500</td>\n",
       "      <td>3.750</td>\n",
       "    </tr>\n",
       "  </tbody>\n",
       "</table>\n",
       "</div>"
      ],
      "text/plain": [
       "            Word  Frequency  Mean Rating  Median Rating\n",
       "0      mi goreng       39.0     4.233036          4.400\n",
       "1      rasa ayam       15.0     3.950000          4.000\n",
       "2      kuah rasa       12.0     3.541667          3.625\n",
       "3      rasa soto        8.0     4.156250          4.000\n",
       "4        mi kuah        7.0     3.678571          4.000\n",
       "5    ayam bawang        7.0     3.750000          3.750\n",
       "6      mi instan        6.0     4.035714          4.000\n",
       "7     instan cup        6.0     4.041667          4.000\n",
       "8    goreng rasa        6.0     4.250000          4.500\n",
       "9   selera pedas        6.0     4.375000          4.375\n",
       "10     rasa baso        5.0     3.100000          3.500\n",
       "11      cup rasa        5.0     3.850000          3.750\n",
       "12        cup mi        5.0     3.800000          4.000\n",
       "13     rasa kari        5.0     4.050000          3.750\n",
       "14     kari ayam        5.0     4.125000          4.000\n",
       "15      pedas mi        4.0     4.250000          4.250\n",
       "16     pedas hot        4.0     4.500000          4.500\n",
       "17  goreng jumbo        4.0     4.500000          5.000\n",
       "18     baso sapi        3.0     3.500000          3.750\n",
       "19     mi segera        3.0     3.812500          3.750"
      ]
     },
     "execution_count": 312,
     "metadata": {},
     "output_type": "execute_result"
    }
   ],
   "source": [
    "two"
   ]
  },
  {
   "cell_type": "code",
   "execution_count": 311,
   "metadata": {},
   "outputs": [
    {
     "data": {
      "text/html": [
       "<div>\n",
       "<style scoped>\n",
       "    .dataframe tbody tr th:only-of-type {\n",
       "        vertical-align: middle;\n",
       "    }\n",
       "\n",
       "    .dataframe tbody tr th {\n",
       "        vertical-align: top;\n",
       "    }\n",
       "\n",
       "    .dataframe thead th {\n",
       "        text-align: right;\n",
       "    }\n",
       "</style>\n",
       "<table border=\"1\" class=\"dataframe\">\n",
       "  <thead>\n",
       "    <tr style=\"text-align: right;\">\n",
       "      <th></th>\n",
       "      <th>Word</th>\n",
       "      <th>Frequency</th>\n",
       "      <th>Mean Rating</th>\n",
       "      <th>Median Rating</th>\n",
       "    </tr>\n",
       "  </thead>\n",
       "  <tbody>\n",
       "    <tr>\n",
       "      <th>2</th>\n",
       "      <td>rasa</td>\n",
       "      <td>44.0</td>\n",
       "      <td>3.847826</td>\n",
       "      <td>3.875</td>\n",
       "    </tr>\n",
       "    <tr>\n",
       "      <th>3</th>\n",
       "      <td>chicken</td>\n",
       "      <td>26.0</td>\n",
       "      <td>3.394588</td>\n",
       "      <td>3.500</td>\n",
       "    </tr>\n",
       "    <tr>\n",
       "      <th>5</th>\n",
       "      <td>cup</td>\n",
       "      <td>17.0</td>\n",
       "      <td>3.758625</td>\n",
       "      <td>3.750</td>\n",
       "    </tr>\n",
       "    <tr>\n",
       "      <th>9</th>\n",
       "      <td>fried</td>\n",
       "      <td>10.0</td>\n",
       "      <td>4.166667</td>\n",
       "      <td>4.250</td>\n",
       "    </tr>\n",
       "    <tr>\n",
       "      <th>10</th>\n",
       "      <td>mie</td>\n",
       "      <td>10.0</td>\n",
       "      <td>3.619048</td>\n",
       "      <td>3.500</td>\n",
       "    </tr>\n",
       "    <tr>\n",
       "      <th>11</th>\n",
       "      <td>spesial</td>\n",
       "      <td>10.0</td>\n",
       "      <td>3.650000</td>\n",
       "      <td>3.875</td>\n",
       "    </tr>\n",
       "    <tr>\n",
       "      <th>16</th>\n",
       "      <td>with</td>\n",
       "      <td>6.0</td>\n",
       "      <td>3.668935</td>\n",
       "      <td>3.750</td>\n",
       "    </tr>\n",
       "    <tr>\n",
       "      <th>18</th>\n",
       "      <td>special</td>\n",
       "      <td>6.0</td>\n",
       "      <td>3.828125</td>\n",
       "      <td>3.875</td>\n",
       "    </tr>\n",
       "  </tbody>\n",
       "</table>\n",
       "</div>"
      ],
      "text/plain": [
       "       Word  Frequency  Mean Rating  Median Rating\n",
       "2      rasa       44.0     3.847826          3.875\n",
       "3   chicken       26.0     3.394588          3.500\n",
       "5       cup       17.0     3.758625          3.750\n",
       "9     fried       10.0     4.166667          4.250\n",
       "10      mie       10.0     3.619048          3.500\n",
       "11  spesial       10.0     3.650000          3.875\n",
       "16     with        6.0     3.668935          3.750\n",
       "18  special        6.0     3.828125          3.875"
      ]
     },
     "execution_count": 311,
     "metadata": {},
     "output_type": "execute_result"
    }
   ],
   "source": [
    "remove_words_from_df([two, three], one)"
   ]
  },
  {
   "cell_type": "code",
   "execution_count": 120,
   "metadata": {},
   "outputs": [
    {
     "data": {
      "text/html": [
       "<div>\n",
       "<style scoped>\n",
       "    .dataframe tbody tr th:only-of-type {\n",
       "        vertical-align: middle;\n",
       "    }\n",
       "\n",
       "    .dataframe tbody tr th {\n",
       "        vertical-align: top;\n",
       "    }\n",
       "\n",
       "    .dataframe thead th {\n",
       "        text-align: right;\n",
       "    }\n",
       "</style>\n",
       "<table border=\"1\" class=\"dataframe\">\n",
       "  <thead>\n",
       "    <tr style=\"text-align: right;\">\n",
       "      <th></th>\n",
       "      <th>Word</th>\n",
       "      <th>Frequency</th>\n",
       "      <th>Mean Rating</th>\n",
       "      <th>Median Rating</th>\n",
       "    </tr>\n",
       "  </thead>\n",
       "  <tbody>\n",
       "    <tr>\n",
       "      <th>23</th>\n",
       "      <td>fried</td>\n",
       "      <td>57.0</td>\n",
       "      <td>4.166667</td>\n",
       "      <td>4.250</td>\n",
       "    </tr>\n",
       "    <tr>\n",
       "      <th>25</th>\n",
       "      <td>tonkotsu</td>\n",
       "      <td>54.0</td>\n",
       "      <td>4.159259</td>\n",
       "      <td>4.150</td>\n",
       "    </tr>\n",
       "    <tr>\n",
       "      <th>29</th>\n",
       "      <td>yakisoba</td>\n",
       "      <td>50.0</td>\n",
       "      <td>4.000000</td>\n",
       "      <td>4.000</td>\n",
       "    </tr>\n",
       "    <tr>\n",
       "      <th>30</th>\n",
       "      <td>ramyun</td>\n",
       "      <td>47.0</td>\n",
       "      <td>3.995745</td>\n",
       "      <td>4.000</td>\n",
       "    </tr>\n",
       "    <tr>\n",
       "      <th>5</th>\n",
       "      <td>sauce</td>\n",
       "      <td>145.0</td>\n",
       "      <td>3.911071</td>\n",
       "      <td>4.000</td>\n",
       "    </tr>\n",
       "    <tr>\n",
       "      <th>35</th>\n",
       "      <td>black</td>\n",
       "      <td>43.0</td>\n",
       "      <td>3.840909</td>\n",
       "      <td>4.000</td>\n",
       "    </tr>\n",
       "    <tr>\n",
       "      <th>21</th>\n",
       "      <td>demae</td>\n",
       "      <td>58.0</td>\n",
       "      <td>3.801724</td>\n",
       "      <td>4.000</td>\n",
       "    </tr>\n",
       "    <tr>\n",
       "      <th>33</th>\n",
       "      <td>soy</td>\n",
       "      <td>43.0</td>\n",
       "      <td>3.683036</td>\n",
       "      <td>4.000</td>\n",
       "    </tr>\n",
       "    <tr>\n",
       "      <th>32</th>\n",
       "      <td>rasa</td>\n",
       "      <td>46.0</td>\n",
       "      <td>3.847826</td>\n",
       "      <td>3.875</td>\n",
       "    </tr>\n",
       "    <tr>\n",
       "      <th>36</th>\n",
       "      <td>kimchi</td>\n",
       "      <td>42.0</td>\n",
       "      <td>3.700000</td>\n",
       "      <td>3.875</td>\n",
       "    </tr>\n",
       "  </tbody>\n",
       "</table>\n",
       "</div>"
      ],
      "text/plain": [
       "        Word  Frequency  Mean Rating  Median Rating\n",
       "23     fried       57.0     4.166667          4.250\n",
       "25  tonkotsu       54.0     4.159259          4.150\n",
       "29  yakisoba       50.0     4.000000          4.000\n",
       "30    ramyun       47.0     3.995745          4.000\n",
       "5      sauce      145.0     3.911071          4.000\n",
       "35     black       43.0     3.840909          4.000\n",
       "21     demae       58.0     3.801724          4.000\n",
       "33       soy       43.0     3.683036          4.000\n",
       "32      rasa       46.0     3.847826          3.875\n",
       "36    kimchi       42.0     3.700000          3.875"
      ]
     },
     "execution_count": 120,
     "metadata": {},
     "output_type": "execute_result"
    }
   ],
   "source": [
    "common_words_df = remove_words_from_df([common_bigrams_df, common_trigrams_df], common_words_df)\n",
    "common_words_df.sort_values(by=['Median Rating', 'Mean Rating', 'Frequency'], ascending = False).head(10)"
   ]
  },
  {
   "cell_type": "code",
   "execution_count": 127,
   "metadata": {},
   "outputs": [
    {
     "data": {
      "text/plain": [
       "<matplotlib.axes._subplots.AxesSubplot at 0x12c0c01d0>"
      ]
     },
     "execution_count": 127,
     "metadata": {},
     "output_type": "execute_result"
    },
    {
     "data": {
      "image/png": "[encoded data removed]",
      "text/plain": [
       "<Figure size 432x288 with 1 Axes>"
      ]
     },
     "metadata": {
      "needs_background": "light"
     },
     "output_type": "display_data"
    }
   ],
   "source": [
    "common_bigrams_df.sort_values(by=['Frequency'], ascending=False).head(10).plot(x='Word', y='Frequency', kind='bar')"
   ]
  },
  {
   "cell_type": "code",
   "execution_count": 128,
   "metadata": {},
   "outputs": [
    {
     "data": {
      "text/html": [
       "<div>\n",
       "<style scoped>\n",
       "    .dataframe tbody tr th:only-of-type {\n",
       "        vertical-align: middle;\n",
       "    }\n",
       "\n",
       "    .dataframe tbody tr th {\n",
       "        vertical-align: top;\n",
       "    }\n",
       "\n",
       "    .dataframe thead th {\n",
       "        text-align: right;\n",
       "    }\n",
       "</style>\n",
       "<table border=\"1\" class=\"dataframe\">\n",
       "  <thead>\n",
       "    <tr style=\"text-align: right;\">\n",
       "      <th></th>\n",
       "      <th>Review #</th>\n",
       "      <th>Brand</th>\n",
       "      <th>Variety</th>\n",
       "      <th>Style</th>\n",
       "      <th>Country</th>\n",
       "      <th>Stars</th>\n",
       "      <th>Top Ten</th>\n",
       "      <th>Varity Tokenized</th>\n",
       "      <th>Variety Bigrams</th>\n",
       "      <th>Variety Trigrams</th>\n",
       "    </tr>\n",
       "  </thead>\n",
       "  <tbody>\n",
       "    <tr>\n",
       "      <th>11</th>\n",
       "      <td>2569</td>\n",
       "      <td>yamachan</td>\n",
       "      <td>yokohama tonkotsu shoyu</td>\n",
       "      <td>Pack</td>\n",
       "      <td>USA</td>\n",
       "      <td>5.0</td>\n",
       "      <td>NaN</td>\n",
       "      <td>[yokohama, tonkotsu, shoyu]</td>\n",
       "      <td>[(yokohama, tonkotsu), (tonkotsu, shoyu)]</td>\n",
       "      <td>[(yokohama, tonkotsu, shoyu)]</td>\n",
       "    </tr>\n",
       "    <tr>\n",
       "      <th>1095</th>\n",
       "      <td>1485</td>\n",
       "      <td>nongshim</td>\n",
       "      <td>spicy tonkotsu noodle soup</td>\n",
       "      <td>Pack</td>\n",
       "      <td>USA</td>\n",
       "      <td>5.0</td>\n",
       "      <td>NaN</td>\n",
       "      <td>[spicy, tonkotsu, noodle, soup]</td>\n",
       "      <td>[(spicy, tonkotsu), (tonkotsu, noodle), (noodl...</td>\n",
       "      <td>[(spicy, tonkotsu, noodle), (tonkotsu, noodle,...</td>\n",
       "    </tr>\n",
       "    <tr>\n",
       "      <th>525</th>\n",
       "      <td>2055</td>\n",
       "      <td>nissin</td>\n",
       "      <td>tokyo tokunou gyokai tonkotsu</td>\n",
       "      <td>Bowl</td>\n",
       "      <td>Japan</td>\n",
       "      <td>5.0</td>\n",
       "      <td>NaN</td>\n",
       "      <td>[tokyo, tokunou, gyokai, tonkotsu]</td>\n",
       "      <td>[(tokyo, tokunou), (tokunou, gyokai), (gyokai,...</td>\n",
       "      <td>[(tokyo, tokunou, gyokai), (tokunou, gyokai, t...</td>\n",
       "    </tr>\n",
       "    <tr>\n",
       "      <th>514</th>\n",
       "      <td>2066</td>\n",
       "      <td>marutai</td>\n",
       "      <td>hakata tonkotsu ramen</td>\n",
       "      <td>Pack</td>\n",
       "      <td>Japan</td>\n",
       "      <td>5.0</td>\n",
       "      <td>NaN</td>\n",
       "      <td>[hakata, tonkotsu, ramen]</td>\n",
       "      <td>[(hakata, tonkotsu), (tonkotsu, ramen)]</td>\n",
       "      <td>[(hakata, tonkotsu, ramen)]</td>\n",
       "    </tr>\n",
       "    <tr>\n",
       "      <th>496</th>\n",
       "      <td>2084</td>\n",
       "      <td>nissin</td>\n",
       "      <td>demae ramen straight noodle kyushu tonkotsu in...</td>\n",
       "      <td>Pack</td>\n",
       "      <td>Hong Kong</td>\n",
       "      <td>5.0</td>\n",
       "      <td>NaN</td>\n",
       "      <td>[demae, ramen, straight, noodle, kyushu, tonko...</td>\n",
       "      <td>[(demae, ramen), (ramen, straight), (straight,...</td>\n",
       "      <td>[(demae, ramen, straight), (ramen, straight, n...</td>\n",
       "    </tr>\n",
       "  </tbody>\n",
       "</table>\n",
       "</div>"
      ],
      "text/plain": [
       "      Review #     Brand                                            Variety  \\\n",
       "11        2569  yamachan                            yokohama tonkotsu shoyu   \n",
       "1095      1485  nongshim                         spicy tonkotsu noodle soup   \n",
       "525       2055    nissin                      tokyo tokunou gyokai tonkotsu   \n",
       "514       2066   marutai                              hakata tonkotsu ramen   \n",
       "496       2084    nissin  demae ramen straight noodle kyushu tonkotsu in...   \n",
       "\n",
       "     Style    Country  Stars Top Ten  \\\n",
       "11    Pack        USA    5.0     NaN   \n",
       "1095  Pack        USA    5.0     NaN   \n",
       "525   Bowl      Japan    5.0     NaN   \n",
       "514   Pack      Japan    5.0     NaN   \n",
       "496   Pack  Hong Kong    5.0     NaN   \n",
       "\n",
       "                                       Varity Tokenized  \\\n",
       "11                          [yokohama, tonkotsu, shoyu]   \n",
       "1095                    [spicy, tonkotsu, noodle, soup]   \n",
       "525                  [tokyo, tokunou, gyokai, tonkotsu]   \n",
       "514                           [hakata, tonkotsu, ramen]   \n",
       "496   [demae, ramen, straight, noodle, kyushu, tonko...   \n",
       "\n",
       "                                        Variety Bigrams  \\\n",
       "11            [(yokohama, tonkotsu), (tonkotsu, shoyu)]   \n",
       "1095  [(spicy, tonkotsu), (tonkotsu, noodle), (noodl...   \n",
       "525   [(tokyo, tokunou), (tokunou, gyokai), (gyokai,...   \n",
       "514             [(hakata, tonkotsu), (tonkotsu, ramen)]   \n",
       "496   [(demae, ramen), (ramen, straight), (straight,...   \n",
       "\n",
       "                                       Variety Trigrams  \n",
       "11                        [(yokohama, tonkotsu, shoyu)]  \n",
       "1095  [(spicy, tonkotsu, noodle), (tonkotsu, noodle,...  \n",
       "525   [(tokyo, tokunou, gyokai), (tokunou, gyokai, t...  \n",
       "514                         [(hakata, tonkotsu, ramen)]  \n",
       "496   [(demae, ramen, straight), (ramen, straight, n...  "
      ]
     },
     "execution_count": 128,
     "metadata": {},
     "output_type": "execute_result"
    }
   ],
   "source": [
    "get_df_words('tonkotsu', ratings).sort_values(by='Stars', ascending = False).head()"
   ]
  },
  {
   "cell_type": "code",
   "execution_count": 150,
   "metadata": {},
   "outputs": [],
   "source": [
    "brand_group = ratings[['Brand','Variety','Stars']].groupby('Brand', as_index = False).agg({'Variety':'size', 'Stars':'mean'})\n",
    "#.sort_values(by=['Variety', 'Stars'],ascending=False).head(20)\n",
    "    "
   ]
  },
  {
   "cell_type": "code",
   "execution_count": 192,
   "metadata": {},
   "outputs": [],
   "source": [
    "brand_group.columns = ['Brand', 'Count', 'Avg Rating']"
   ]
  },
  {
   "cell_type": "code",
   "execution_count": 228,
   "metadata": {},
   "outputs": [],
   "source": [
    "more_than_2 = brand_group[brand_group.Count > 2]\n",
    "more_than_2 = more_than_2.sort_values(by=['Count'],ascending=False).head(15)\n",
    "\n",
    "one_hit_wonders = brand_group[brand_group.Count <= 2]\n",
    "one_hit_wonders = one_hit_wonders.sort_values(by=['Avg Rating'], ascending=False).head(15)"
   ]
  },
  {
   "cell_type": "code",
   "execution_count": 225,
   "metadata": {},
   "outputs": [],
   "source": [
    "def count_avg_plot(df):\n",
    "    ax = df.plot(x=\"Brand\", y=\"Count\", legend=False, kind='bar', figsize=(10,6))\n",
    "    ax.grid(False)\n",
    "    ax.set_ylabel(\"Count\")\n",
    "    ax2 = ax.twinx()\n",
    "    ax2.set_ylabel(\"Avg Rating\")\n",
    "    df.plot(x=\"Brand\", y=\"Avg Rating\", ax=ax2, legend=False, color=\"r\").grid(False)\n",
    "    ax.figure.legend(loc=4)\n",
    "    plt.show()"
   ]
  },
  {
   "cell_type": "code",
   "execution_count": 226,
   "metadata": {},
   "outputs": [
    {
     "data": {
      "image/png": "[encoded data removed]",
      "text/plain": [
       "<Figure size 720x432 with 2 Axes>"
      ]
     },
     "metadata": {
      "needs_background": "light"
     },
     "output_type": "display_data"
    }
   ],
   "source": [
    "count_avg_plot(more_than_2)"
   ]
  },
  {
   "cell_type": "code",
   "execution_count": 229,
   "metadata": {},
   "outputs": [
    {
     "data": {
      "image/png": "[encoded data removed]",
      "text/plain": [
       "<Figure size 720x432 with 2 Axes>"
      ]
     },
     "metadata": {
      "needs_background": "light"
     },
     "output_type": "display_data"
    }
   ],
   "source": [
    "count_avg_plot(one_hit_wonders)"
   ]
  },
  {
   "cell_type": "code",
   "execution_count": 335,
   "metadata": {},
   "outputs": [],
   "source": [
    "top_15_countries = ratings.groupby(['Country'], as_index=False).count().sort_values(by=['Brand'], ascending=False)['Country'].head(15).values"
   ]
  },
  {
   "cell_type": "code",
   "execution_count": 337,
   "metadata": {},
   "outputs": [
    {
     "data": {
      "text/plain": [
       "array(['Japan', 'USA', 'South Korea', 'Taiwan', 'Thailand', 'China',\n",
       "       'Malaysia', 'Hong Kong', 'Indonesia', 'Singapore', 'Vietnam', 'UK',\n",
       "       'Philippines', 'Canada', 'India'], dtype=object)"
      ]
     },
     "execution_count": 337,
     "metadata": {},
     "output_type": "execute_result"
    }
   ],
   "source": [
    "top_15_countries"
   ]
  },
  {
   "cell_type": "code",
   "execution_count": 339,
   "metadata": {},
   "outputs": [
    {
     "name": "stdout",
     "output_type": "stream",
     "text": [
      "These are the most popular ramen styles/flavours by country!\n",
      "Japan ['udon', 'cup', 'tonkotsu']\n",
      "USA ['chicken', 'soup', 'spicy']\n",
      "South Korea ['ramyun', 'spicy', 'seafood']\n",
      "Taiwan ['sauce', 'artificial', 'spicy']\n",
      "Thailand ['tom yum', 'rice', 'cup']\n",
      "China ['beef', 'artificial', 'spicy']\n",
      "Malaysia ['perisa', 'penang white curry', 'taste']\n",
      "Hong Kong ['cup', 'soup', 'seafood']\n",
      "Indonesia ['rasa', 'mi goreng', 'chicken']\n",
      "Singapore ['spicy', 'chicken', 'cup']\n",
      "Vietnam ['chicken', 'mi', 'shrimp']\n",
      "UK ['chicken', 'super', 'curry']\n",
      "Philippines ['chicken', 'supreme', 'pancit canton']\n",
      "Canada ['chicken', 'soup', 'beef']\n",
      "India ['masala', 'minute', 'cup']\n"
     ]
    }
   ],
   "source": [
    "print('These are the most popular ramen styles/flavours by country!')\n",
    "for country in top_10_countries:\n",
    "    country_df = ratings[ratings.Country.isin([country])]\n",
    "    one = n_gram_df(country_df, 1)\n",
    "    two = n_gram_df(country_df, 2)\n",
    "    three = n_gram_df(country_df, 3)\n",
    "    one = remove_words_from_df([two, three], one)\n",
    "    two = remove_words_from_df([three], two)\n",
    "    top_word = pd.concat([one, two, three])\\\n",
    "    .sort_values(by=['Frequency'], ascending= False) \\\n",
    "    ['Word'].head(3).values\n",
    "    print(country, [word for word in top_word])"
   ]
  },
  {
   "cell_type": "code",
   "execution_count": 21,
   "metadata": {},
   "outputs": [
    {
     "data": {
      "text/plain": [
       "<matplotlib.axes._subplots.AxesSubplot at 0x12c7cffd0>"
      ]
     },
     "execution_count": 21,
     "metadata": {},
     "output_type": "execute_result"
    },
    {
     "data": {
      "image/png": "[encoded data removed]",
      "text/plain": [
       "<Figure size 842.4x595.44 with 1 Axes>"
      ]
     },
     "metadata": {},
     "output_type": "display_data"
    }
   ],
   "source": [
    "tom_yum = get_df_words(['tom', 'yum'])\n",
    "\n",
    "box_plot(tom_yum)"
   ]
  },
  {
   "cell_type": "code",
   "execution_count": 37,
   "metadata": {},
   "outputs": [
    {
     "data": {
      "text/html": [
       "<div>\n",
       "<style scoped>\n",
       "    .dataframe tbody tr th:only-of-type {\n",
       "        vertical-align: middle;\n",
       "    }\n",
       "\n",
       "    .dataframe tbody tr th {\n",
       "        vertical-align: top;\n",
       "    }\n",
       "\n",
       "    .dataframe thead th {\n",
       "        text-align: right;\n",
       "    }\n",
       "</style>\n",
       "<table border=\"1\" class=\"dataframe\">\n",
       "  <thead>\n",
       "    <tr style=\"text-align: right;\">\n",
       "      <th></th>\n",
       "      <th>Review #</th>\n",
       "      <th>Brand</th>\n",
       "      <th>Variety</th>\n",
       "      <th>Style</th>\n",
       "      <th>Country</th>\n",
       "      <th>Stars</th>\n",
       "      <th>Top Ten</th>\n",
       "      <th>Varity Tokenized</th>\n",
       "      <th>Variety Bigrams</th>\n",
       "      <th>Variety Trigrams</th>\n",
       "    </tr>\n",
       "  </thead>\n",
       "  <tbody>\n",
       "    <tr>\n",
       "      <th>1080</th>\n",
       "      <td>1500</td>\n",
       "      <td>mykuali</td>\n",
       "      <td>penang red tom yum goong noodle</td>\n",
       "      <td>Pack</td>\n",
       "      <td>Malaysia</td>\n",
       "      <td>5.0</td>\n",
       "      <td>2015 #1</td>\n",
       "      <td>[penang, red, tom, yum, goong, noodle]</td>\n",
       "      <td>[(penang, red), (red, tom), (tom, yum), (yum, ...</td>\n",
       "      <td>[(penang, red, tom), (red, tom, yum), (tom, yu...</td>\n",
       "    </tr>\n",
       "    <tr>\n",
       "      <th>1109</th>\n",
       "      <td>1471</td>\n",
       "      <td>mama</td>\n",
       "      <td>instant noodles shrimp creamy tom yum flavour ...</td>\n",
       "      <td>Pack</td>\n",
       "      <td>Thailand</td>\n",
       "      <td>5.0</td>\n",
       "      <td>2013 #10</td>\n",
       "      <td>[instant, noodles, shrimp, creamy, tom, yum, f...</td>\n",
       "      <td>[(instant, noodles), (noodles, shrimp), (shrim...</td>\n",
       "      <td>[(instant, noodles, shrimp), (noodles, shrimp,...</td>\n",
       "    </tr>\n",
       "    <tr>\n",
       "      <th>1278</th>\n",
       "      <td>1302</td>\n",
       "      <td>mama</td>\n",
       "      <td>instant noodles yentafo tom yum mohfai flavour</td>\n",
       "      <td>Pack</td>\n",
       "      <td>Thailand</td>\n",
       "      <td>5.0</td>\n",
       "      <td>2014 #10</td>\n",
       "      <td>[instant, noodles, yentafo, tom, yum, mohfai, ...</td>\n",
       "      <td>[(instant, noodles), (noodles, yentafo), (yent...</td>\n",
       "      <td>[(instant, noodles, yentafo), (noodles, yentaf...</td>\n",
       "    </tr>\n",
       "  </tbody>\n",
       "</table>\n",
       "</div>"
      ],
      "text/plain": [
       "      Review #    Brand                                            Variety  \\\n",
       "1080      1500  mykuali                    penang red tom yum goong noodle   \n",
       "1109      1471     mama  instant noodles shrimp creamy tom yum flavour ...   \n",
       "1278      1302     mama     instant noodles yentafo tom yum mohfai flavour   \n",
       "\n",
       "     Style   Country  Stars   Top Ten  \\\n",
       "1080  Pack  Malaysia    5.0   2015 #1   \n",
       "1109  Pack  Thailand    5.0  2013 #10   \n",
       "1278  Pack  Thailand    5.0  2014 #10   \n",
       "\n",
       "                                       Varity Tokenized  \\\n",
       "1080             [penang, red, tom, yum, goong, noodle]   \n",
       "1109  [instant, noodles, shrimp, creamy, tom, yum, f...   \n",
       "1278  [instant, noodles, yentafo, tom, yum, mohfai, ...   \n",
       "\n",
       "                                        Variety Bigrams  \\\n",
       "1080  [(penang, red), (red, tom), (tom, yum), (yum, ...   \n",
       "1109  [(instant, noodles), (noodles, shrimp), (shrim...   \n",
       "1278  [(instant, noodles), (noodles, yentafo), (yent...   \n",
       "\n",
       "                                       Variety Trigrams  \n",
       "1080  [(penang, red, tom), (red, tom, yum), (tom, yu...  \n",
       "1109  [(instant, noodles, shrimp), (noodles, shrimp,...  \n",
       "1278  [(instant, noodles, yentafo), (noodles, yentaf...  "
      ]
     },
     "execution_count": 37,
     "metadata": {},
     "output_type": "execute_result"
    }
   ],
   "source": [
    "tom_yum[~tom_yum['Top Ten'].isnull()].sort_values(by=['Stars'], ascending = False)"
   ]
  },
  {
   "cell_type": "code",
   "execution_count": 261,
   "metadata": {},
   "outputs": [
    {
     "data": {
      "text/plain": [
       "<matplotlib.axes._subplots.AxesSubplot at 0x136203438>"
      ]
     },
     "execution_count": 261,
     "metadata": {},
     "output_type": "execute_result"
    },
    {
     "data": {
      "image/png": "[encoded data removed]",
      "text/plain": [
       "<Figure size 842.4x595.44 with 1 Axes>"
      ]
     },
     "metadata": {},
     "output_type": "display_data"
    }
   ],
   "source": [
    "def box_plot(df):\n",
    "    return sns.boxplot(df['Stars'])\n",
    "box_plot(tonkotsu)"
   ]
  },
  {
   "cell_type": "code",
   "execution_count": 16,
   "metadata": {},
   "outputs": [
    {
     "ename": "NameError",
     "evalue": "name 'ramen_stop_words' is not defined",
     "output_type": "error",
     "traceback": [
      "\u001b[0;31m---------------------------------------------------------------------------\u001b[0m",
      "\u001b[0;31mNameError\u001b[0m                                 Traceback (most recent call last)",
      "\u001b[0;32m<ipython-input-16-0e2432fdeefd>\u001b[0m in \u001b[0;36m<module>\u001b[0;34m\u001b[0m\n\u001b[1;32m      1\u001b[0m \u001b[0mtonkotsu_high_rating\u001b[0m \u001b[0;34m=\u001b[0m \u001b[0mtonkotsu\u001b[0m\u001b[0;34m[\u001b[0m\u001b[0mtonkotsu\u001b[0m\u001b[0;34m[\u001b[0m\u001b[0;34m'Stars'\u001b[0m\u001b[0;34m]\u001b[0m \u001b[0;34m>=\u001b[0m \u001b[0;36m4.0\u001b[0m\u001b[0;34m]\u001b[0m\u001b[0;34m\u001b[0m\u001b[0;34m\u001b[0m\u001b[0m\n\u001b[0;32m----> 2\u001b[0;31m \u001b[0mcommon_words\u001b[0m \u001b[0;34m=\u001b[0m \u001b[0mget_top_n_gram\u001b[0m\u001b[0;34m(\u001b[0m\u001b[0mtonkotsu_high_rating\u001b[0m\u001b[0;34m[\u001b[0m\u001b[0;34m'Variety'\u001b[0m\u001b[0;34m]\u001b[0m\u001b[0;34m,\u001b[0m\u001b[0mngram\u001b[0m \u001b[0;34m=\u001b[0m \u001b[0;36m2\u001b[0m\u001b[0;34m,\u001b[0m \u001b[0mn\u001b[0m\u001b[0;34m=\u001b[0m\u001b[0;36m40\u001b[0m\u001b[0;34m,\u001b[0m \u001b[0mstop_words\u001b[0m\u001b[0;34m=\u001b[0m\u001b[0mramen_stop_words\u001b[0m\u001b[0;34m)\u001b[0m\u001b[0;34m\u001b[0m\u001b[0;34m\u001b[0m\u001b[0m\n\u001b[0m\u001b[1;32m      3\u001b[0m \u001b[0mcommon_words\u001b[0m \u001b[0;34m=\u001b[0m \u001b[0;34m[\u001b[0m\u001b[0;34m(\u001b[0m\u001b[0mword\u001b[0m\u001b[0;34m,\u001b[0m \u001b[0mfreq\u001b[0m\u001b[0;34m)\u001b[0m \u001b[0;32mfor\u001b[0m \u001b[0mword\u001b[0m\u001b[0;34m,\u001b[0m \u001b[0mfreq\u001b[0m \u001b[0;32min\u001b[0m \u001b[0mcommon_words\u001b[0m \u001b[0;32mif\u001b[0m \u001b[0mword\u001b[0m \u001b[0;32mnot\u001b[0m \u001b[0;32min\u001b[0m \u001b[0mramen_common_words\u001b[0m\u001b[0;34m]\u001b[0m\u001b[0;34m\u001b[0m\u001b[0;34m\u001b[0m\u001b[0m\n\u001b[1;32m      4\u001b[0m \u001b[0mcommon_bigrams\u001b[0m \u001b[0;34m=\u001b[0m \u001b[0mget_top_n_gram\u001b[0m\u001b[0;34m(\u001b[0m\u001b[0mtonkotsu_high_rating\u001b[0m\u001b[0;34m[\u001b[0m\u001b[0;34m'Variety'\u001b[0m\u001b[0;34m]\u001b[0m\u001b[0;34m,\u001b[0m\u001b[0mngram\u001b[0m \u001b[0;34m=\u001b[0m \u001b[0;36m2\u001b[0m\u001b[0;34m,\u001b[0m \u001b[0mn\u001b[0m\u001b[0;34m=\u001b[0m\u001b[0;36m20\u001b[0m\u001b[0;34m,\u001b[0m \u001b[0mstop_words\u001b[0m\u001b[0;34m=\u001b[0m\u001b[0mramen_stop_words\u001b[0m\u001b[0;34m)\u001b[0m\u001b[0;34m\u001b[0m\u001b[0;34m\u001b[0m\u001b[0m\n\u001b[1;32m      5\u001b[0m \u001b[0;32mfor\u001b[0m \u001b[0mword\u001b[0m\u001b[0;34m,\u001b[0m \u001b[0mfreq\u001b[0m \u001b[0;32min\u001b[0m \u001b[0mcommon_bigrams\u001b[0m\u001b[0;34m:\u001b[0m\u001b[0;34m\u001b[0m\u001b[0;34m\u001b[0m\u001b[0m\n",
      "\u001b[0;31mNameError\u001b[0m: name 'ramen_stop_words' is not defined"
     ]
    }
   ],
   "source": [
    "tonkotsu_high_rating = tonkotsu[tonkotsu['Stars'] >= 4.0]\n",
    "common_words = get_top_n_gram(tonkotsu_high_rating['Variety'],ngram = 2, n=40, stop_words=ramen_stop_words)\n",
    "common_words = [(word, freq) for word, freq in common_words if word not in ramen_common_words]\n",
    "common_bigrams = get_top_n_gram(tonkotsu_high_rating['Variety'],ngram = 2, n=20, stop_words=ramen_stop_words)\n",
    "for word, freq in common_bigrams:\n",
    "    print(word, freq)\n"
   ]
  },
  {
   "cell_type": "code",
   "execution_count": 19,
   "metadata": {},
   "outputs": [],
   "source": [
    "\n",
    "fdist = FreqDist()"
   ]
  },
  {
   "cell_type": "code",
   "execution_count": 86,
   "metadata": {},
   "outputs": [
    {
     "data": {
      "text/plain": [
       "<matplotlib.axes._subplots.AxesSubplot at 0x13095fb00>"
      ]
     },
     "execution_count": 86,
     "metadata": {},
     "output_type": "execute_result"
    },
    {
     "data": {
      "image/png": "[encoded data removed]",
      "text/plain": [
       "<Figure size 842.4x595.44 with 1 Axes>"
      ]
     },
     "metadata": {},
     "output_type": "display_data"
    }
   ],
   "source": [
    "\n",
    "df3 = pd.DataFrame(common_words, columns = ['ReviewText' , 'count'])\n",
    "\n",
    "df3.groupby('ReviewText').sum()['count'].sort_values(ascending=False).plot(kind ='bar', title='Top 20 bigrams in review before removing stop words')\n",
    "#.plot(kind='bar', linecolor='black', title='Top 20 bigrams in review before removing stop words')"
   ]
  },
  {
   "cell_type": "code",
   "execution_count": 74,
   "metadata": {},
   "outputs": [
    {
     "data": {
      "text/html": [
       "<div>\n",
       "<style scoped>\n",
       "    .dataframe tbody tr th:only-of-type {\n",
       "        vertical-align: middle;\n",
       "    }\n",
       "\n",
       "    .dataframe tbody tr th {\n",
       "        vertical-align: top;\n",
       "    }\n",
       "\n",
       "    .dataframe thead th {\n",
       "        text-align: right;\n",
       "    }\n",
       "</style>\n",
       "<table border=\"1\" class=\"dataframe\">\n",
       "  <thead>\n",
       "    <tr style=\"text-align: right;\">\n",
       "      <th></th>\n",
       "      <th>ReviewText</th>\n",
       "      <th>count</th>\n",
       "    </tr>\n",
       "  </thead>\n",
       "  <tbody>\n",
       "    <tr>\n",
       "      <th>0</th>\n",
       "      <td>noodle</td>\n",
       "      <td>127</td>\n",
       "    </tr>\n",
       "    <tr>\n",
       "      <th>1</th>\n",
       "      <td>noodles</td>\n",
       "      <td>82</td>\n",
       "    </tr>\n",
       "    <tr>\n",
       "      <th>2</th>\n",
       "      <td>ramen</td>\n",
       "      <td>75</td>\n",
       "    </tr>\n",
       "    <tr>\n",
       "      <th>3</th>\n",
       "      <td>instant</td>\n",
       "      <td>72</td>\n",
       "    </tr>\n",
       "    <tr>\n",
       "      <th>4</th>\n",
       "      <td>flavour</td>\n",
       "      <td>64</td>\n",
       "    </tr>\n",
       "    <tr>\n",
       "      <th>5</th>\n",
       "      <td>flavor</td>\n",
       "      <td>58</td>\n",
       "    </tr>\n",
       "    <tr>\n",
       "      <th>6</th>\n",
       "      <td>spicy</td>\n",
       "      <td>52</td>\n",
       "    </tr>\n",
       "    <tr>\n",
       "      <th>7</th>\n",
       "      <td>curry</td>\n",
       "      <td>49</td>\n",
       "    </tr>\n",
       "    <tr>\n",
       "      <th>8</th>\n",
       "      <td>soup</td>\n",
       "      <td>42</td>\n",
       "    </tr>\n",
       "    <tr>\n",
       "      <th>9</th>\n",
       "      <td>penang</td>\n",
       "      <td>40</td>\n",
       "    </tr>\n",
       "    <tr>\n",
       "      <th>10</th>\n",
       "      <td>cup</td>\n",
       "      <td>36</td>\n",
       "    </tr>\n",
       "    <tr>\n",
       "      <th>11</th>\n",
       "      <td>with</td>\n",
       "      <td>34</td>\n",
       "    </tr>\n",
       "    <tr>\n",
       "      <th>12</th>\n",
       "      <td>sauce</td>\n",
       "      <td>34</td>\n",
       "    </tr>\n",
       "    <tr>\n",
       "      <th>13</th>\n",
       "      <td>tom</td>\n",
       "      <td>28</td>\n",
       "    </tr>\n",
       "    <tr>\n",
       "      <th>14</th>\n",
       "      <td>mi</td>\n",
       "      <td>27</td>\n",
       "    </tr>\n",
       "    <tr>\n",
       "      <th>15</th>\n",
       "      <td>chicken</td>\n",
       "      <td>26</td>\n",
       "    </tr>\n",
       "    <tr>\n",
       "      <th>16</th>\n",
       "      <td>tonkotsu</td>\n",
       "      <td>24</td>\n",
       "    </tr>\n",
       "    <tr>\n",
       "      <th>17</th>\n",
       "      <td>rice</td>\n",
       "      <td>24</td>\n",
       "    </tr>\n",
       "    <tr>\n",
       "      <th>18</th>\n",
       "      <td>goreng</td>\n",
       "      <td>24</td>\n",
       "    </tr>\n",
       "    <tr>\n",
       "      <th>19</th>\n",
       "      <td>yum</td>\n",
       "      <td>22</td>\n",
       "    </tr>\n",
       "  </tbody>\n",
       "</table>\n",
       "</div>"
      ],
      "text/plain": [
       "   ReviewText  count\n",
       "0      noodle    127\n",
       "1     noodles     82\n",
       "2       ramen     75\n",
       "3     instant     72\n",
       "4     flavour     64\n",
       "5      flavor     58\n",
       "6       spicy     52\n",
       "7       curry     49\n",
       "8        soup     42\n",
       "9      penang     40\n",
       "10        cup     36\n",
       "11       with     34\n",
       "12      sauce     34\n",
       "13        tom     28\n",
       "14         mi     27\n",
       "15    chicken     26\n",
       "16   tonkotsu     24\n",
       "17       rice     24\n",
       "18     goreng     24\n",
       "19        yum     22"
      ]
     },
     "execution_count": 74,
     "metadata": {},
     "output_type": "execute_result"
    }
   ],
   "source": [
    "df3"
   ]
  },
  {
   "cell_type": "code",
   "execution_count": 62,
   "metadata": {},
   "outputs": [
    {
     "data": {
      "text/plain": [
       "<matplotlib.axes._subplots.AxesSubplot at 0x12f0a64a8>"
      ]
     },
     "execution_count": 62,
     "metadata": {},
     "output_type": "execute_result"
    },
    {
     "data": {
      "image/png": "[encoded data removed]",
      "text/plain": [
       "<Figure size 842.4x595.44 with 1 Axes>"
      ]
     },
     "metadata": {},
     "output_type": "display_data"
    }
   ],
   "source": [
    "\n",
    "df4 = pd.DataFrame(common_bigrams, columns = ['ReviewText' , 'count'])\n",
    "\n",
    "df4.groupby('ReviewText').sum()['count'].sort_values(ascending=False).plot(kind ='bar', title='Top 20 bigrams in review before removing stop words')\n",
    "#.plot(kind='bar', linecolor='black', title='Top 20 bigrams in review before removing stop words')"
   ]
  },
  {
   "cell_type": "code",
   "execution_count": 75,
   "metadata": {},
   "outputs": [
    {
     "data": {
      "text/plain": [
       "<matplotlib.axes._subplots.AxesSubplot at 0x1308ada20>"
      ]
     },
     "execution_count": 75,
     "metadata": {},
     "output_type": "execute_result"
    },
    {
     "data": {
      "image/png": "[encoded data removed]",
      "text/plain": [
       "<Figure size 842.4x595.44 with 1 Axes>"
      ]
     },
     "metadata": {},
     "output_type": "display_data"
    }
   ],
   "source": [
    " \n",
    "df5 = pd.DataFrame(common_trigrams, columns = ['ReviewText' , 'count'])\n",
    "\n",
    "df5.groupby('ReviewText').sum()['count'].sort_values(ascending=False).plot(kind ='bar', title='Top 20 bigrams in review before removing stop words')\n",
    "#.plot(kind='bar', linecolor='black', title='Top 20 bigrams in review before removing stop words')"
   ]
  },
  {
   "cell_type": "code",
   "execution_count": null,
   "metadata": {},
   "outputs": [],
   "source": [
    "high_ratings[]"
   ]
  },
  {
   "cell_type": "code",
   "execution_count": 112,
   "metadata": {},
   "outputs": [
    {
     "data": {
      "text/html": [
       "<div>\n",
       "<style scoped>\n",
       "    .dataframe tbody tr th:only-of-type {\n",
       "        vertical-align: middle;\n",
       "    }\n",
       "\n",
       "    .dataframe tbody tr th {\n",
       "        vertical-align: top;\n",
       "    }\n",
       "\n",
       "    .dataframe thead th {\n",
       "        text-align: right;\n",
       "    }\n",
       "</style>\n",
       "<table border=\"1\" class=\"dataframe\">\n",
       "  <thead>\n",
       "    <tr style=\"text-align: right;\">\n",
       "      <th></th>\n",
       "      <th>Review #</th>\n",
       "      <th>Brand</th>\n",
       "      <th>Variety</th>\n",
       "      <th>Style</th>\n",
       "      <th>Country</th>\n",
       "      <th>Stars</th>\n",
       "      <th>Top Ten</th>\n",
       "      <th>Varity Tokenized</th>\n",
       "    </tr>\n",
       "  </thead>\n",
       "  <tbody>\n",
       "    <tr>\n",
       "      <th>5</th>\n",
       "      <td>2575</td>\n",
       "      <td>samyang foods</td>\n",
       "      <td>Kimchi song Song Ramen</td>\n",
       "      <td>Pack</td>\n",
       "      <td>South Korea</td>\n",
       "      <td>4.75</td>\n",
       "      <td>NaN</td>\n",
       "      <td>[Kimchi, song, Song, Ramen]</td>\n",
       "    </tr>\n",
       "    <tr>\n",
       "      <th>10</th>\n",
       "      <td>2570</td>\n",
       "      <td>tao kae noi</td>\n",
       "      <td>Creamy tom Yum Kung Flavour</td>\n",
       "      <td>Pack</td>\n",
       "      <td>Thailand</td>\n",
       "      <td>5</td>\n",
       "      <td>NaN</td>\n",
       "      <td>[Creamy, tom, Yum, Kung, Flavour]</td>\n",
       "    </tr>\n",
       "    <tr>\n",
       "      <th>11</th>\n",
       "      <td>2569</td>\n",
       "      <td>yamachan</td>\n",
       "      <td>Yokohama Tonkotsu Shoyu</td>\n",
       "      <td>Pack</td>\n",
       "      <td>USA</td>\n",
       "      <td>5</td>\n",
       "      <td>NaN</td>\n",
       "      <td>[Yokohama, Tonkotsu, Shoyu]</td>\n",
       "    </tr>\n",
       "    <tr>\n",
       "      <th>14</th>\n",
       "      <td>2566</td>\n",
       "      <td>nissin</td>\n",
       "      <td>Demae Ramen Bar Noodle Aka Tonkotsu Flavour In...</td>\n",
       "      <td>Pack</td>\n",
       "      <td>Hong Kong</td>\n",
       "      <td>5</td>\n",
       "      <td>NaN</td>\n",
       "      <td>[Demae, Ramen, Bar, Noodle, Aka, Tonkotsu, Fla...</td>\n",
       "    </tr>\n",
       "    <tr>\n",
       "      <th>17</th>\n",
       "      <td>2563</td>\n",
       "      <td>yamachan</td>\n",
       "      <td>Tokyo Shoyu Ramen</td>\n",
       "      <td>Pack</td>\n",
       "      <td>USA</td>\n",
       "      <td>5</td>\n",
       "      <td>NaN</td>\n",
       "      <td>[Tokyo, Shoyu, Ramen]</td>\n",
       "    </tr>\n",
       "  </tbody>\n",
       "</table>\n",
       "</div>"
      ],
      "text/plain": [
       "    Review #          Brand  \\\n",
       "5       2575  samyang foods   \n",
       "10      2570    tao kae noi   \n",
       "11      2569       yamachan   \n",
       "14      2566         nissin   \n",
       "17      2563       yamachan   \n",
       "\n",
       "                                              Variety Style      Country  \\\n",
       "5                              Kimchi song Song Ramen  Pack  South Korea   \n",
       "10                        Creamy tom Yum Kung Flavour  Pack     Thailand   \n",
       "11                            Yokohama Tonkotsu Shoyu  Pack          USA   \n",
       "14  Demae Ramen Bar Noodle Aka Tonkotsu Flavour In...  Pack    Hong Kong   \n",
       "17                                  Tokyo Shoyu Ramen  Pack          USA   \n",
       "\n",
       "   Stars Top Ten                                   Varity Tokenized  \n",
       "5   4.75     NaN                        [Kimchi, song, Song, Ramen]  \n",
       "10     5     NaN                  [Creamy, tom, Yum, Kung, Flavour]  \n",
       "11     5     NaN                        [Yokohama, Tonkotsu, Shoyu]  \n",
       "14     5     NaN  [Demae, Ramen, Bar, Noodle, Aka, Tonkotsu, Fla...  \n",
       "17     5     NaN                              [Tokyo, Shoyu, Ramen]  "
      ]
     },
     "execution_count": 112,
     "metadata": {},
     "output_type": "execute_result"
    }
   ],
   "source": [
    "high_ratings.head()"
   ]
  },
  {
   "cell_type": "code",
   "execution_count": 18,
   "metadata": {},
   "outputs": [
    {
     "ename": "NameError",
     "evalue": "name 'punct_list' is not defined",
     "output_type": "error",
     "traceback": [
      "\u001b[0;31m---------------------------------------------------------------------------\u001b[0m",
      "\u001b[0;31mNameError\u001b[0m                                 Traceback (most recent call last)",
      "\u001b[0;32m<ipython-input-18-33cb2c56cce0>\u001b[0m in \u001b[0;36m<module>\u001b[0;34m\u001b[0m\n\u001b[1;32m      2\u001b[0m \u001b[0mramen_stop_words\u001b[0m \u001b[0;34m=\u001b[0m \u001b[0mstopwords\u001b[0m\u001b[0;34m.\u001b[0m\u001b[0mwords\u001b[0m\u001b[0;34m(\u001b[0m\u001b[0;34m'english'\u001b[0m\u001b[0;34m)\u001b[0m\u001b[0;34m\u001b[0m\u001b[0;34m\u001b[0m\u001b[0m\n\u001b[1;32m      3\u001b[0m \u001b[0mcommon_words\u001b[0m \u001b[0;34m=\u001b[0m \u001b[0;34m[\u001b[0m\u001b[0;34m'noodle'\u001b[0m\u001b[0;34m,\u001b[0m \u001b[0;34m'ramen'\u001b[0m\u001b[0;34m,\u001b[0m \u001b[0;34m'instant'\u001b[0m\u001b[0;34m,\u001b[0m \u001b[0;34m'flavour'\u001b[0m\u001b[0;34m,\u001b[0m \u001b[0;34m'flavor'\u001b[0m\u001b[0;34m,\u001b[0m \u001b[0;34m'noodles'\u001b[0m\u001b[0;34m]\u001b[0m\u001b[0;34m\u001b[0m\u001b[0;34m\u001b[0m\u001b[0m\n\u001b[0;32m----> 4\u001b[0;31m \u001b[0mramen_stop_words\u001b[0m \u001b[0;34m=\u001b[0m \u001b[0mramen_stop_words\u001b[0m \u001b[0;34m+\u001b[0m \u001b[0mcommon_words\u001b[0m \u001b[0;34m+\u001b[0m \u001b[0mpunct_list\u001b[0m\u001b[0;34m\u001b[0m\u001b[0;34m\u001b[0m\u001b[0m\n\u001b[0m\u001b[1;32m      5\u001b[0m \u001b[0;34m\u001b[0m\u001b[0m\n\u001b[1;32m      6\u001b[0m \u001b[0;34m\u001b[0m\u001b[0m\n",
      "\u001b[0;31mNameError\u001b[0m: name 'punct_list' is not defined"
     ]
    }
   ],
   "source": [
    "from nltk.corpus import stopwords\n",
    "ramen_stop_words = stopwords.words('english')\n",
    "common_words = ['noodle', 'ramen', 'instant', 'flavour', 'flavor', 'noodles']\n",
    "ramen_stop_words = ramen_stop_words + common_words + punct_list\n",
    "\n",
    "\n",
    "filtered_word_freq = dict((word, freq) for word, freq in fdist.items() if word not in ramen_stop_words)"
   ]
  }
 ],
 "metadata": {
  "kernelspec": {
   "display_name": "Python 3",
   "language": "python",
   "name": "python3"
  },
  "language_info": {
   "codemirror_mode": {
    "name": "ipython",
    "version": 3
   },
   "file_extension": ".py",
   "mimetype": "text/x-python",
   "name": "python",
   "nbconvert_exporter": "python",
   "pygments_lexer": "ipython3",
   "version": "3.6.8"
  }
 },
 "nbformat": 4,
 "nbformat_minor": 2
}
